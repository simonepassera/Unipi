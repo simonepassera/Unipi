{
 "cells": [
  {
   "cell_type": "markdown",
   "metadata": {
    "slideshow": {
     "slide_type": "slide"
    }
   },
   "source": [
    "<h1><center> WebScraping </h1>\n",
    "<h1><center> Anno Accademico 2022-2023 </h1>\n",
    "<h1><center>  Docente: Laura Ricci </h1>\n",
    "<h1><center>  Lezione 2 </h1>\n",
    "<h1><center>  Python by Example: </h1>\n",
    "<h1><center>    Calcolo di Probabilità </h1>\n",
    "<h1><center> 25 Gennaio 2023 </h1>"
   ]
  },
  {
   "cell_type": "markdown",
   "metadata": {
    "slideshow": {
     "slide_type": "slide"
    }
   },
   "source": [
    "#  Il primo programma  Python\n",
    "\n",
    "* un Easter egg*\n",
    "\n",
    "* Zen of Python: 19 aforsimi contenenti dei suggerimenti per i programmatori Python"
   ]
  },
  {
   "cell_type": "code",
   "execution_count": 1,
   "metadata": {
    "slideshow": {
     "slide_type": "fragment"
    }
   },
   "outputs": [
    {
     "name": "stdout",
     "output_type": "stream",
     "text": [
      "The Zen of Python, by Tim Peters\n",
      "\n",
      "Beautiful is better than ugly.\n",
      "Explicit is better than implicit.\n",
      "Simple is better than complex.\n",
      "Complex is better than complicated.\n",
      "Flat is better than nested.\n",
      "Sparse is better than dense.\n",
      "Readability counts.\n",
      "Special cases aren't special enough to break the rules.\n",
      "Although practicality beats purity.\n",
      "Errors should never pass silently.\n",
      "Unless explicitly silenced.\n",
      "In the face of ambiguity, refuse the temptation to guess.\n",
      "There should be one-- and preferably only one --obvious way to do it.\n",
      "Although that way may not be obvious at first unless you're Dutch.\n",
      "Now is better than never.\n",
      "Although never is often better than *right* now.\n",
      "If the implementation is hard to explain, it's a bad idea.\n",
      "If the implementation is easy to explain, it may be a good idea.\n",
      "Namespaces are one honking great idea -- let's do more of those!\n"
     ]
    }
   ],
   "source": [
    "import this"
   ]
  },
  {
   "cell_type": "markdown",
   "metadata": {
    "slideshow": {
     "slide_type": "slide"
    }
   },
   "source": [
    "# Struttura della lezione\n",
    " * una serie di  esercizi proposti\n",
    " * risoluzione incrementale dell'esercizio\n",
    " * le slide con titolo \"Es x\" contengono fragmenti di codice che fanno parte della soluzione dell'esercizio\n",
    " * le slide con titolo \"Approfondimento\" contengono approfondimenti sul costrutto Python usato in quell'esercizio"
   ]
  },
  {
   "cell_type": "markdown",
   "metadata": {
    "slideshow": {
     "slide_type": "slide"
    },
    "tags": []
   },
   "source": [
    "# Strutture e dati e librerie di base\n",
    "\n",
    "* programmazione di semplici problemi di calcolo delle probabilità\n",
    "    * two face fair coin flipping\n",
    "    * famiglia numerosa\n",
    "    * fair dice roll\n",
    "    * multiple coin flipping\n",
    "\n",
    "* Dati strutturati\n",
    "    * set\n",
    "    * list\n",
    "    * tuple\n",
    "    * dictionaries\n",
    "\n",
    "* librerie Python utilizzate\n",
    "    * Matplotlib\n",
    "    * Numpy\n",
    "\n"
   ]
  },
  {
   "cell_type": "markdown",
   "metadata": {
    "slideshow": {
     "slide_type": "slide"
    }
   },
   "source": [
    "\n",
    "# Es1: Two face fair coin flip: definizione del problema\n",
    "\n",
    "* Supponiamo di lanciare una moneta \"fair\"\n",
    "    * i due possibili risultati (outcome) sono \"Testa\" o \"Croce\"\n",
    "    * spazio campionario={Head, Tail}\n",
    "    * eventi elementari: elementi dello spazio campionario\n",
    "* spazio modellato con un *Set* Python"
   ]
  },
  {
   "cell_type": "code",
   "execution_count": 6,
   "metadata": {
    "slideshow": {
     "slide_type": "fragment"
    }
   },
   "outputs": [
    {
     "name": "stdout",
     "output_type": "stream",
     "text": [
      "Probability of chosen heads is 0.5\n"
     ]
    }
   ],
   "source": [
    "sample_space ={'Heads', 'Tails'}\n",
    "probability_heads =1 /len(sample_space)\n",
    "print (f'Probability of chosen heads is {probability_heads}')\n"
   ]
  },
  {
   "cell_type": "markdown",
   "metadata": {
    "slideshow": {
     "slide_type": "fragment"
    }
   },
   "source": [
    "abbiamo utilizzato:\n",
    " * un insieme\n",
    " * 'f': formatted string literal (f-strings)\n",
    "     * stringhe con prefisso 'f'\n",
    "     * la stringa può includere al suo interno una espressione tra {  }\n",
    "     * quella espressione viene sostituita con il suo valore"
   ]
  },
  {
   "cell_type": "markdown",
   "metadata": {
    "slideshow": {
     "slide_type": "slide"
    }
   },
   "source": [
    "# Approfondimento: gli insiemi\n",
    "\n",
    "                                    a={3.5, 'Web', 22, True}\n",
    "* collezione **non ordinata** di oggetti **non duplicati** \n",
    "*  creato usando \n",
    "    * le parantesi graffe \n",
    "    * il costruttore ** set()**: per creare un insieme a partire da un dato di altro tipo\n",
    "*  **eterogenei**: possono contenere dati di tipo diverso \n",
    "* insieme **mutable**, ma gli elementi sono **immutabili**\n",
    "    * si possono aggiungere e togliere elementi, ma non modificare un elemento\n",
    "* utilizzabili operazioni classiche su insiemi\n",
    "* implementati con hash table \n",
    "\n",
    "        set membership: complessità media O(1), complessità caso pessimo O(N)"
   ]
  },
  {
   "cell_type": "markdown",
   "metadata": {
    "slideshow": {
     "slide_type": "slide"
    }
   },
   "source": [
    "# Approfondimento: gli insiemi"
   ]
  },
  {
   "cell_type": "code",
   "execution_count": 7,
   "metadata": {
    "slideshow": {
     "slide_type": "fragment"
    }
   },
   "outputs": [
    {
     "name": "stdout",
     "output_type": "stream",
     "text": [
      "{True, 3.5, 'Web', 22}\n",
      "{'a', 'p', 'c', 'r', 's', 'g', 'i', 'n'}\n",
      "set()\n"
     ]
    }
   ],
   "source": [
    "a={3.5, 'Web', 22, True}\n",
    "b=set('scraping')\n",
    "c=set()\n",
    "print(a)\n",
    "print(b)\n",
    "print(c)\n"
   ]
  },
  {
   "cell_type": "code",
   "execution_count": 8,
   "metadata": {
    "slideshow": {
     "slide_type": "fragment"
    }
   },
   "outputs": [
    {
     "name": "stdout",
     "output_type": "stream",
     "text": [
      "{} set()\n"
     ]
    }
   ],
   "source": [
    "a={}\n",
    "b=set()\n",
    "print(a,b)\n"
   ]
  },
  {
   "cell_type": "markdown",
   "metadata": {
    "slideshow": {
     "slide_type": "slide"
    }
   },
   "source": [
    "# Es.1 Definizione dello spazio degli eventi\n",
    "\n",
    "* **evento**: un sottoinsieme dello spazio camionario che soddisfa una certa condizione\n",
    "        \n",
    "* definiamo gli eventi possibili  per il nostro spazio campionario:\n",
    "    * Heads\n",
    "    * Tails\n",
    "    * Head or Tails\n",
    "    * Neither (probabilità 0)\n",
    "            \n",
    "* un evento si verifica se si verifica uno degli eventi elementari dello spazio campionario che soddisfano quell'evento\n",
    "\n",
    "* definiamo ogni evento mediante una **Funzione Boolena** "
   ]
  },
  {
   "cell_type": "code",
   "execution_count": 9,
   "metadata": {
    "slideshow": {
     "slide_type": "fragment"
    }
   },
   "outputs": [],
   "source": [
    "def is_heads_or_tails(outcome):  \n",
    "    return outcome in {'Heads', 'Tails'}\n",
    "def is_neither(outcome): \n",
    "    return not is_heads_or_tails(outcome)\n",
    "def is_heads(outcome): \n",
    "    return outcome == 'Heads'\n",
    "def is_tails(outcome): \n",
    "    return outcome == 'Tails'\n"
   ]
  },
  {
   "cell_type": "markdown",
   "metadata": {
    "slideshow": {
     "slide_type": "slide"
    }
   },
   "source": [
    "# Approfondimento: Funzioni in Python\n",
    "\n",
    "* definizione della funzione introdotta dalla parola chiave *def*\n",
    "\n",
    "* definizione del corpo della funzione\n",
    "   * per delimitare blocchi di codice, Pyhton  non usa parentesi graffe come il C, C++ o JAVA, o begin end come Pascal\n",
    "   * utilizza l'*indentazione* un numero arbitrario di spazi\n",
    "   * tutte le righe dello stesso blocco di codice devono essere indentate dello stesso numero \n",
    "        di spazi"
   ]
  },
  {
   "cell_type": "markdown",
   "metadata": {
    "slideshow": {
     "slide_type": "slide"
    }
   },
   "source": [
    "# Approfondimento: Funzioni in Python\n",
    "* come ogni elemnto di Python, le funzioni sono oggetti\n",
    "* higher order\n",
    "    * possono essere passati come argomenti ad altre funzione o restituite come risultati\n",
    "    * permettono uno stile di programmazione funzionale\n",
    "* creano un nuovo namespace\n",
    "* restituiscono sempre un valore\n",
    "   * può essere **None** "
   ]
  },
  {
   "cell_type": "code",
   "execution_count": 10,
   "metadata": {
    "slideshow": {
     "slide_type": "fragment"
    }
   },
   "outputs": [
    {
     "name": "stdout",
     "output_type": "stream",
     "text": [
      "<class 'function'>\n"
     ]
    },
    {
     "data": {
      "text/plain": [
       "True"
      ]
     },
     "execution_count": 10,
     "metadata": {},
     "output_type": "execute_result"
    }
   ],
   "source": [
    "def echo (arg):\n",
    "    return arg\n",
    "print(type(echo))\n",
    "isinstance(echo, object)\n"
   ]
  },
  {
   "cell_type": "markdown",
   "metadata": {
    "slideshow": {
     "slide_type": "slide"
    }
   },
   "source": [
    "# Approfondimento: Funzioni in Python\n",
    "\n",
    "* passaggio parametri\n",
    "    * call by object\n",
    "* parametri possono essere\n",
    "    * posizionali\n",
    "    * keyword\n",
    "    * default"
   ]
  },
  {
   "cell_type": "markdown",
   "metadata": {
    "slideshow": {
     "slide_type": "slide"
    }
   },
   "source": [
    "# Approfondimento: Call by Object\n",
    "\n",
    "* passaggio per valore: oggetti immutabili"
   ]
  },
  {
   "cell_type": "code",
   "execution_count": 64,
   "metadata": {
    "slideshow": {
     "slide_type": "fragment"
    }
   },
   "outputs": [
    {
     "name": "stdout",
     "output_type": "stream",
     "text": [
      "Inside Function: LaboratorioWebScraping\n",
      "Outside Function: Laboratorio\n"
     ]
    }
   ],
   "source": [
    "\n",
    "# call by value\n",
    " \n",
    "string = \"Laboratorio\"\n",
    " \n",
    "def test(string):\n",
    "     \n",
    "    string = \"LaboratorioWebScraping\"\n",
    "    print(\"Inside Function:\", string)\n",
    "     \n",
    "test(string)\n",
    "print(\"Outside Function:\", string)\n"
   ]
  },
  {
   "cell_type": "markdown",
   "metadata": {
    "slideshow": {
     "slide_type": "slide"
    }
   },
   "source": [
    "# Approfondimento: Call by Object\n",
    "\n",
    "* passaggio per riferimento: tipi mutabili"
   ]
  },
  {
   "cell_type": "code",
   "execution_count": 11,
   "metadata": {
    "slideshow": {
     "slide_type": "fragment"
    }
   },
   "outputs": [
    {
     "name": "stdout",
     "output_type": "stream",
     "text": [
      "Inside Function {40, 10, 50, 20, 30}\n",
      "Outside Function: {40, 10, 50, 20, 30}\n"
     ]
    }
   ],
   "source": [
    "# call by reference \n",
    " \n",
    "myset = {10,20,30,40}    \n",
    "def add_more(set):\n",
    "    set.add(50)\n",
    "    print(\"Inside Function\", set)\n",
    " \n",
    "add_more(myset)\n",
    "print(\"Outside Function:\", myset)\n"
   ]
  },
  {
   "cell_type": "markdown",
   "metadata": {
    "slideshow": {
     "slide_type": "slide"
    }
   },
   "source": [
    "# Approfondimento: parametri"
   ]
  },
  {
   "cell_type": "code",
   "execution_count": 12,
   "metadata": {
    "slideshow": {
     "slide_type": "fragment"
    }
   },
   "outputs": [
    {
     "name": "stdout",
     "output_type": "stream",
     "text": [
      "15\n",
      "12\n",
      "1200.0\n",
      "1050.0\n"
     ]
    }
   ],
   "source": [
    "# positional parameters\n",
    "def prod (n,m):\n",
    "    return n*m\n",
    "print(prod(5,3))\n",
    "# keyword parameters\n",
    "print(prod(n=3,m=4))\n",
    "#default parameters\n",
    "def add_tax(x, vat=20):\n",
    "    return x*(1+vat/100.)\n",
    "print(add_tax(1000))\n",
    "print(add_tax(1000,5))\n"
   ]
  },
  {
   "cell_type": "markdown",
   "metadata": {
    "slideshow": {
     "slide_type": "slide"
    }
   },
   "source": [
    "# Es 1 : Verificare l'avverarsi di un evento\n",
    "\n",
    "* definiamo una funzione *get_matching_event* che \n",
    " * prende in input\n",
    "    * lo spazio campionario degli eventi elementari *generic_sample_space*\n",
    "    *  *event_condition* \n",
    "        * è la funzione booleana che veifica se un evento si è verificato       \n",
    "        * restituisce tutti gli elementi dello spazio campionario che soddisfano quell'evento\n",
    "        "
   ]
  },
  {
   "cell_type": "code",
   "execution_count": 34,
   "metadata": {
    "slideshow": {
     "slide_type": "fragment"
    }
   },
   "outputs": [],
   "source": [
    "def get_matching_event(event_condition, generic_outcome_space):\n",
    "    return set([outcome for outcome in generic_outcome_space \n",
    "                if event_condition(outcome)])\n"
   ]
  },
  {
   "cell_type": "markdown",
   "metadata": {
    "slideshow": {
     "slide_type": "fragment"
    }
   },
   "source": [
    "* per ogni elemento contenuto nello nello spazio campionario **generic_outcome_space**\n",
    "    \n",
    "* si valuta la condizione che descrive l'evento su quell'elemento\n",
    "\n",
    "* se è vera si inserisce quel risultato nella lista dei risultati che soddisfano l'evento\n",
    "\n",
    "* si restituisce un insieme di tutti questi elementi. L'insime è costruito mediante il costruttore *set()*"
   ]
  },
  {
   "cell_type": "markdown",
   "metadata": {
    "slideshow": {
     "slide_type": "slide"
    }
   },
   "source": [
    "# Es1 : Verificare l'avverarsi di un evento\n",
    "\n",
    "* eseguiamo *get_matching_event* sui 4 eventi che abbiamo definito in precedenza,\n",
    "* la lista event_condition contiene la lista dei nomi delle funzioni che codificano gli eventi\n",
    "* si scorre la lista e si passa ogni nome alla funzione **get_matching_event** che verificherà quali outcome verificano quella   condizione\n",
    "* sample_space = {'Heads', 'Tails'} "
   ]
  },
  {
   "cell_type": "code",
   "execution_count": 13,
   "metadata": {
    "slideshow": {
     "slide_type": "fragment"
    }
   },
   "outputs": [
    {
     "name": "stdout",
     "output_type": "stream",
     "text": [
      "Event Condition: is_heads_or_tails\n",
      "Outcomes: {'Heads', 'Tails'}\n",
      "\n",
      "Event Condition: is_heads\n",
      "Outcomes: {'Heads'}\n",
      "\n",
      "Event Condition: is_tails\n",
      "Outcomes: {'Tails'}\n",
      "\n",
      "Event Condition: is_neither\n",
      "Outcomes: set()\n",
      "\n"
     ]
    }
   ],
   "source": [
    "event_conditions = [is_heads_or_tails, is_heads, is_tails, is_neither]\n",
    "\n",
    "for event_condition in event_conditions: \n",
    "    print(f\"Event Condition: {event_condition.__name__}\")\n",
    "    outcomes = get_matching_event(event_condition, sample_space)\n",
    "    print(f'Outcomes: {outcomes}\\n')\n",
    "    "
   ]
  },
  {
   "cell_type": "markdown",
   "metadata": {
    "slideshow": {
     "slide_type": "slide"
    }
   },
   "source": [
    "# Approfondimento: attenti all'indentazione corretta!"
   ]
  },
  {
   "cell_type": "code",
   "execution_count": 14,
   "metadata": {
    "slideshow": {
     "slide_type": "fragment"
    }
   },
   "outputs": [
    {
     "ename": "IndentationError",
     "evalue": "expected an indented block (354999250.py, line 2)",
     "output_type": "error",
     "traceback": [
      "\u001b[1;36m  Cell \u001b[1;32mIn[14], line 2\u001b[1;36m\u001b[0m\n\u001b[1;33m    print('inside matching event')\u001b[0m\n\u001b[1;37m    ^\u001b[0m\n\u001b[1;31mIndentationError\u001b[0m\u001b[1;31m:\u001b[0m expected an indented block\n"
     ]
    }
   ],
   "source": [
    "def get_matching_event(event_condition, generic_outcome_space):\n",
    "print('inside matching event')\n",
    "return set([outcome for outcome in generic_outcome_space \n",
    "if event_condition(outcome)])\n"
   ]
  },
  {
   "cell_type": "code",
   "execution_count": 16,
   "metadata": {
    "slideshow": {
     "slide_type": "fragment"
    }
   },
   "outputs": [
    {
     "ename": "IndentationError",
     "evalue": "unindent does not match any outer indentation level (<tokenize>, line 3)",
     "output_type": "error",
     "traceback": [
      "\u001b[1;36m  File \u001b[1;32m<tokenize>:3\u001b[1;36m\u001b[0m\n\u001b[1;33m    return set([outcome for outcome in generic_outcome_space\u001b[0m\n\u001b[1;37m    ^\u001b[0m\n\u001b[1;31mIndentationError\u001b[0m\u001b[1;31m:\u001b[0m unindent does not match any outer indentation level\n"
     ]
    }
   ],
   "source": [
    "def get_matching_event(event_condition, generic_outcome_space):\n",
    "      print('inside matching event')\n",
    "   return set([outcome for outcome in generic_outcome_space \n",
    "         if event_condition(outcome)])\n"
   ]
  },
  {
   "cell_type": "markdown",
   "metadata": {
    "slideshow": {
     "slide_type": "slide"
    }
   },
   "source": [
    "# Approfondimento: Higher Order Functions\n",
    "\n",
    "* possibilità di passare una funzione ad un'altra funzione come parametro\n",
    "\n",
    "* le funzioni in Python sono oggetti e come tali possono essere passate come parametri ad altre funzioni\n",
    "\n",
    "* è sufficiente passare il nome della funzione\n",
    "\n",
    "* possibile anche in JAVA; C++, ma molto più complicato\n"
   ]
  },
  {
   "cell_type": "code",
   "execution_count": 71,
   "metadata": {
    "slideshow": {
     "slide_type": "fragment"
    }
   },
   "outputs": [
    {
     "name": "stdout",
     "output_type": "stream",
     "text": [
      "HI, I AM CREATED BY A FUNCTION     PASSED AS AN ARGUMENT.\n",
      "hi, i am created by a function     passed as an argument.\n"
     ]
    }
   ],
   "source": [
    "def shout(text): \n",
    "    return text.upper() \n",
    "    \n",
    "def whisper(text): \n",
    "    return text.lower() \n",
    "    \n",
    "def greet(func): \n",
    "    # storing the function in a variable \n",
    "    greeting = func(\"Hi, I am created by a function \\\n",
    "    passed as an argument.\") \n",
    "    print(greeting)  \n",
    "    \n",
    "greet(shout) \n",
    "greet(whisper)\n"
   ]
  },
  {
   "cell_type": "markdown",
   "metadata": {
    "slideshow": {
     "slide_type": "slide"
    }
   },
   "source": [
    "# Approfondimento: Le liste\n",
    "\n",
    "                        L = [20, 'Laura', 3.14, [10,20,30]]\n",
    "\n",
    "* collezione **ordinata** di oggetti \n",
    "*  **eterogenei**: gli elementi possono essere di tipo diverso\n",
    "* può contenere **duplicati**\n",
    "* **mutabili** si possono modificare gli elementi della lista\n",
    "\n",
    "*  creata utilizzando\n",
    "   * il costruttore list\n",
    "   * le parentesi quadre\n",
    "* accesso per indice"
   ]
  },
  {
   "cell_type": "markdown",
   "metadata": {
    "slideshow": {
     "slide_type": "slide"
    }
   },
   "source": [
    "# Approfondimento: List Comprehension\n",
    "\n",
    "* un meccanismo conciso presente anche in altri linguaggi per creare liste a partire da un altra collezione S\n",
    "* si applica una funzione ad ogni elemento di S e si inserisce nella lista che si sta creando\n",
    "* gli elementi selezionati soddisfano una certa proprietà\n",
    "* sintassi generale newlist = [expression **for** item **in** iterable **if** condition == **True**]\n",
    "   "
   ]
  },
  {
   "cell_type": "code",
   "execution_count": 17,
   "metadata": {
    "slideshow": {
     "slide_type": "fragment"
    }
   },
   "outputs": [],
   "source": [
    "def get_matching_event(event_condition, generic_outcome_space):\n",
    "    return set([outcome for outcome in generic_outcome_space \n",
    "                if event_condition(outcome)])\n"
   ]
  },
  {
   "cell_type": "markdown",
   "metadata": {
    "slideshow": {
     "slide_type": "slide"
    }
   },
   "source": [
    "# Es 1: Calcolare le probabilità degli eventi\n",
    "\n",
    "\n",
    "* La probabilità di ogni evento è uguale al numero di outcome che soddifano quell'evento diviso il numero totale degli  eventi dello spazio campionario\n",
    "\n",
    "* len function: restituisce il numero di elementi di un insieme\n"
   ]
  },
  {
   "cell_type": "code",
   "execution_count": 18,
   "metadata": {
    "slideshow": {
     "slide_type": "fragment"
    }
   },
   "outputs": [
    {
     "name": "stdout",
     "output_type": "stream",
     "text": [
      "Probability of event arising from 'is_heads_or_tails' is 1.0\n",
      "Probability of event arising from 'is_heads' is 0.5\n",
      "Probability of event arising from 'is_tails' is 0.5\n",
      "Probability of event arising from 'is_neither' is 0.0\n"
     ]
    }
   ],
   "source": [
    "def compute_event_probability(event_condition, generic_sample_space):\n",
    "    samples = get_matching_event(event_condition, generic_sample_space)\n",
    "    return len(samples) / len(generic_sample_space)\n",
    "\n",
    "for event_condition in event_conditions: \n",
    "    prob = compute_event_probability(event_condition, sample_space)\n",
    "    name = event_condition.__name__\n",
    "    print(f\"Probability of event arising from '{name}' is {prob}\")\n",
    "    "
   ]
  },
  {
   "cell_type": "code",
   "execution_count": 53,
   "metadata": {
    "slideshow": {
     "slide_type": "fragment"
    }
   },
   "outputs": [
    {
     "name": "stdout",
     "output_type": "stream",
     "text": [
      "Probability of 2 boys is 0.375\n"
     ]
    }
   ],
   "source": [
    "prob = compute_event_probability(has_two_boys, sample_space)\n",
    "print(f\"Probability of 2 boys is {prob}\")\n"
   ]
  },
  {
   "cell_type": "markdown",
   "metadata": {
    "slideshow": {
     "slide_type": "slide"
    }
   },
   "source": [
    "# Es 2: Una famiglia numerosa\n",
    "\n",
    "* consideriamo una famiglia con 4 figli\n",
    "\n",
    "* la probabilità di avere un maschio o una femmina è equiprobabile\n",
    "\n",
    "* quale è la probabilità che **esattamente due figli** siano maschi?\n",
    "\n",
    "* spazio campionario\n",
    "    * ogni evento corrisponde a 4 nascite e può essere rappresentato con una tupla\n",
    "    * ogni tupla rappresenta una sequenza di 4 bambini\n",
    "    "
   ]
  },
  {
   "cell_type": "code",
   "execution_count": 19,
   "metadata": {
    "slideshow": {
     "slide_type": "fragment"
    }
   },
   "outputs": [
    {
     "name": "stdout",
     "output_type": "stream",
     "text": [
      "{('Boy', 'Boy', 'Boy', 'Girl'), ('Girl', 'Girl', 'Girl', 'Boy'), ('Girl', 'Boy', 'Boy', 'Boy'), ('Boy', 'Boy', 'Girl', 'Girl'), ('Girl', 'Boy', 'Girl', 'Girl'), ('Girl', 'Girl', 'Boy', 'Boy'), ('Boy', 'Girl', 'Girl', 'Boy'), ('Girl', 'Girl', 'Girl', 'Girl'), ('Boy', 'Girl', 'Girl', 'Girl'), ('Boy', 'Boy', 'Boy', 'Boy'), ('Girl', 'Boy', 'Boy', 'Girl'), ('Boy', 'Girl', 'Boy', 'Boy'), ('Girl', 'Girl', 'Boy', 'Girl'), ('Boy', 'Girl', 'Boy', 'Girl'), ('Boy', 'Boy', 'Girl', 'Boy'), ('Girl', 'Boy', 'Girl', 'Boy')}\n"
     ]
    }
   ],
   "source": [
    "possible_children = ['Boy', 'Girl']\n",
    "sample_space = set()\n",
    "for child1 in possible_children:\n",
    "    for child2 in possible_children:\n",
    "        for child3 in possible_children:\n",
    "            for child4 in possible_children:\n",
    "                outcome = (child1, child2, child3, child4)\n",
    "                sample_space.add(outcome)\n",
    "print(sample_space)\n"
   ]
  },
  {
   "cell_type": "markdown",
   "metadata": {
    "slideshow": {
     "slide_type": "slide"
    }
   },
   "source": [
    "# Approfondimento: Le Tuple\n",
    "\n",
    "                            T=(56, 'Maria', 3.14, [20,30,40])\n",
    "\n",
    "* ordinate: mantengono l'ordine con cui i dati sono stati inseriti\n",
    "* immutabili\n",
    "* eterogenee: possono contenere dati di qualsiasi tipo\n",
    "* può contenere duplicati\n",
    "* elementi indicizzati\n",
    "* creazione\n",
    "  * parentesi tonde\n",
    "  * il costruttore *tuple()*\n"
   ]
  },
  {
   "cell_type": "markdown",
   "metadata": {
    "slideshow": {
     "slide_type": "slide"
    }
   },
   "source": [
    "# Approfondimento: differenza tra liste e tuple\n",
    "* tuple immutabili, liste mutabili\n",
    "* differenza in termini di efficenza nella implementazione"
   ]
  },
  {
   "cell_type": "code",
   "execution_count": 33,
   "metadata": {
    "slideshow": {
     "slide_type": "fragment"
    }
   },
   "outputs": [
    {
     "name": "stdout",
     "output_type": "stream",
     "text": [
      "96\n",
      "80\n"
     ]
    }
   ],
   "source": [
    "import sys\n",
    "\n",
    "a_list = list()\n",
    "a_tuple = tuple()\n",
    "\n",
    "a_list = [1,2,3,4,5]\n",
    "a_tuple = (1,2,3,4,5)\n",
    "\n",
    "print(sys.getsizeof(a_list))\n",
    "print(sys.getsizeof(a_tuple))\n"
   ]
  },
  {
   "cell_type": "markdown",
   "metadata": {
    "slideshow": {
     "slide_type": "slide"
    }
   },
   "source": [
    "# Approfondimento: differenza tra liste e tuple"
   ]
  },
  {
   "cell_type": "code",
   "execution_count": 39,
   "metadata": {
    "slideshow": {
     "slide_type": "fragment"
    }
   },
   "outputs": [
    {
     "name": "stdout",
     "output_type": "stream",
     "text": [
      "3.8.10\n",
      "Instantiation time for LIST: 0.4661848545074463\n",
      "Instantiation time for TUPLE: 0.4877128601074219\n",
      "Lookup time for LIST:  0.6544392108917236\n",
      "Lookup time for TUPLE:  0.8154025077819824\n"
     ]
    }
   ],
   "source": [
    "import sys, platform\n",
    "import time\n",
    "\n",
    "print(platform.python_version())\n",
    "\n",
    "start_time = time.time()\n",
    "b_list = list(range(10000000))\n",
    "end_time = time.time()\n",
    "print(\"Instantiation time for LIST:\", end_time - start_time)\n",
    "\n",
    "start_time = time.time()\n",
    "b_tuple = tuple(range(10000000))\n",
    "end_time = time.time()\n",
    "print(\"Instantiation time for TUPLE:\", end_time - start_time)\n",
    "\n",
    "start_time = time.time()\n",
    "for item in b_list:\n",
    "  aa = b_list[20000]\n",
    "end_time = time.time()\n",
    "print(\"Lookup time for LIST: \", end_time - start_time)\n",
    "start_time = time.time()\n",
    "for item in b_tuple:\n",
    "  aa = b_tuple[20000]\n",
    "end_time = time.time()\n",
    "print(\"Lookup time for TUPLE: \", end_time - start_time)\n"
   ]
  },
  {
   "cell_type": "markdown",
   "metadata": {
    "slideshow": {
     "slide_type": "slide"
    }
   },
   "source": [
    "# Approfondimento: Iterables e Iterators\n",
    "\n",
    "* Iterables: tutti le collezioni di oggetti in grado di restituire i loro membri uno alla volta\n",
    "    * liste, tuple, insiemi,stringhe, dictionaries,\n",
    "* Iterators\n",
    "    * costruiti a partire da Iterables mediante l'operatore *iter()*\n",
    "    "
   ]
  },
  {
   "cell_type": "code",
   "execution_count": 20,
   "metadata": {
    "slideshow": {
     "slide_type": "fragment"
    }
   },
   "outputs": [
    {
     "name": "stdout",
     "output_type": "stream",
     "text": [
      "<set_iterator object at 0x000001D69D0141C0>\n"
     ]
    }
   ],
   "source": [
    "possible_children = ['Boy', 'Girl']\n",
    "sample_space = set()\n",
    "for child1 in possible_children:\n",
    "    for child2 in possible_children:\n",
    "        for child3 in possible_children:\n",
    "            for child4 in possible_children:\n",
    "                outcome = (child1, child2, child3, child4)\n",
    "                sample_space.add(outcome)\n",
    "iter_sample_space=iter(sample_space)\n",
    "print(iter_sample_space)\n"
   ]
  },
  {
   "cell_type": "markdown",
   "metadata": {
    "slideshow": {
     "slide_type": "slide"
    }
   },
   "source": [
    "# Approfondimento: Iterable e Iterators\n",
    "\n",
    "* vogliamo stampare ognuna delle tuple dello Spazio Campionario su una riga diversa\n",
    "* definiamo un iteratore sull'insieme sample_space \n",
    "* iteriamo sull'insieme delle tuple \n",
    "    * operatore *next()*\n",
    "    * prende in input l'operatore e una stringa che restituisce se non ci sono più elementi\n",
    "    "
   ]
  },
  {
   "cell_type": "code",
   "execution_count": 21,
   "metadata": {
    "slideshow": {
     "slide_type": "fragment"
    }
   },
   "outputs": [
    {
     "name": "stdout",
     "output_type": "stream",
     "text": [
      "('Boy', 'Boy', 'Boy', 'Girl')\n",
      "('Girl', 'Girl', 'Girl', 'Boy')\n",
      "('Girl', 'Boy', 'Boy', 'Boy')\n",
      "('Boy', 'Boy', 'Girl', 'Girl')\n",
      "('Girl', 'Boy', 'Girl', 'Girl')\n",
      "('Girl', 'Girl', 'Boy', 'Boy')\n",
      "('Boy', 'Girl', 'Girl', 'Boy')\n",
      "('Girl', 'Girl', 'Girl', 'Girl')\n",
      "('Boy', 'Girl', 'Girl', 'Girl')\n",
      "('Boy', 'Boy', 'Boy', 'Boy')\n",
      "('Girl', 'Boy', 'Boy', 'Girl')\n",
      "('Boy', 'Girl', 'Boy', 'Boy')\n",
      "('Girl', 'Girl', 'Boy', 'Girl')\n",
      "('Boy', 'Girl', 'Boy', 'Girl')\n",
      "('Boy', 'Boy', 'Girl', 'Boy')\n",
      "('Girl', 'Boy', 'Girl', 'Boy')\n"
     ]
    }
   ],
   "source": [
    "possible_children = ['Boy', 'Girl']\n",
    "sample_space = set()\n",
    "for child1 in possible_children:\n",
    "    for child2 in possible_children:\n",
    "        for child3 in possible_children:\n",
    "            for child4 in possible_children:\n",
    "                outcome = (child1, child2, child3, child4)\n",
    "                sample_space.add(outcome)\n",
    "iter_sample_space=iter(sample_space)\n",
    " \n",
    "while True:\n",
    "    # item will be \"end\" if iteration is complete\n",
    "    item = next(iter_sample_space, \"end\")\n",
    "    if item == \"end\":\n",
    "        break\n",
    "    print(item)\n"
   ]
  },
  {
   "cell_type": "markdown",
   "metadata": {
    "slideshow": {
     "slide_type": "slide"
    }
   },
   "source": [
    "# Approfondimento: importare una libreria\n",
    "\n",
    "* possibilità di importare intere librerie o moduli\n",
    "   * simile a *#include* di C o *import* di *JAVA* \n",
    "   \n",
    "* *import* importa l'intera libreria\n",
    "\n",
    "* *from ...import...* importa solo un modulo della libreria\n",
    "\n",
    "* Itertools: libreria che implementa diversi iteratori sul modello di Haskell\n",
    "    * iteratori efficienti per casi specifici\n",
    "    * iterator algebra\n",
    "\n"
   ]
  },
  {
   "cell_type": "markdown",
   "metadata": {
    "slideshow": {
     "slide_type": "slide"
    }
   },
   "source": [
    "# La libreria Itertools.Product\n",
    "\n",
    "* calcola prodotto cartesiano\n",
    "* restituisce tutte le possibili combinazioni dei generi possibili dei bambini"
   ]
  },
  {
   "cell_type": "code",
   "execution_count": 24,
   "metadata": {
    "slideshow": {
     "slide_type": "fragment"
    }
   },
   "outputs": [
    {
     "name": "stdout",
     "output_type": "stream",
     "text": [
      "('Boy', 'Boy', 'Boy', 'Boy')\n",
      "('Boy', 'Boy', 'Boy', 'Girl')\n",
      "('Boy', 'Boy', 'Girl', 'Boy')\n",
      "('Boy', 'Boy', 'Girl', 'Girl')\n",
      "('Boy', 'Girl', 'Boy', 'Boy')\n",
      "('Boy', 'Girl', 'Boy', 'Girl')\n",
      "('Boy', 'Girl', 'Girl', 'Boy')\n",
      "('Boy', 'Girl', 'Girl', 'Girl')\n",
      "('Girl', 'Boy', 'Boy', 'Boy')\n",
      "('Girl', 'Boy', 'Boy', 'Girl')\n",
      "('Girl', 'Boy', 'Girl', 'Boy')\n",
      "('Girl', 'Boy', 'Girl', 'Girl')\n",
      "('Girl', 'Girl', 'Boy', 'Boy')\n",
      "('Girl', 'Girl', 'Boy', 'Girl')\n",
      "('Girl', 'Girl', 'Girl', 'Boy')\n",
      "('Girl', 'Girl', 'Girl', 'Girl')\n",
      "non sono uguali\n"
     ]
    }
   ],
   "source": [
    "from itertools import product\n",
    "possible_children = ['Boy', 'Girl']\n",
    "iter_sample_space = product(possible_children, repeat=4)\n",
    "while True:\n",
    "    # item will be \"end\" if iteration is complete\n",
    "    item = next(iter_sample_space, \"end\")\n",
    "    if item == \"end\":\n",
    "        break\n",
    "    print(item)\n",
    "try:\n",
    "    assert set(iter_sample_space) == sample_space\n",
    "except AssertionError: \n",
    "        print(\"non sono uguali\")\n",
    "        "
   ]
  },
  {
   "cell_type": "markdown",
   "metadata": {
    "slideshow": {
     "slide_type": "slide"
    }
   },
   "source": [
    "# Es 2: Probabilità dell'evento \"avere due maschi\"\n",
    "\n",
    "* calcoliamo la probabilità di avere esattamente due figli maschi su quattro figli\n",
    "* definiamo l'evento \"has two boys\""
   ]
  },
  {
   "cell_type": "code",
   "execution_count": 25,
   "metadata": {
    "slideshow": {
     "slide_type": "fragment"
    }
   },
   "outputs": [
    {
     "name": "stdout",
     "output_type": "stream",
     "text": [
      "Probability of 2 boys is 0.375\n"
     ]
    }
   ],
   "source": [
    "def has_two_boys(outcome): return len([child for child in outcome\n",
    "                                      if child == 'Boy']) == 2\n",
    "def get_matching_event(event_condition, generic_outcome_space):\n",
    "    return set([outcome for outcome in generic_outcome_space \n",
    "                if event_condition(outcome)])\n",
    "def compute_event_probability(event_condition, generic_sample_space):\n",
    "    samples = get_matching_event(event_condition, generic_sample_space)\n",
    "    return len(samples) / len(generic_sample_space)\n",
    "prob = compute_event_probability(has_two_boys, sample_space)\n",
    "print(f\"Probability of 2 boys is {prob}\")\n"
   ]
  },
  {
   "cell_type": "markdown",
   "metadata": {
    "slideshow": {
     "slide_type": "fragment"
    }
   },
   "source": [
    "* dobbiamo definire l'evento **has_two_boys**\n",
    "* consideriamo un elemento dello spazio campionario, quindi una tupla\n",
    "* **child in outcome**\n",
    "     * seleziona un elemento della tupla: quindi seleziona un figlio\n",
    "     * for child in outcome...*: list comprehension\n",
    "     * se l'elemento selezionato è uguale a 'Boy', allora lo inserisce in una lista\n",
    "* restituisce il numero di elementi di quella lista"
   ]
  },
  {
   "cell_type": "markdown",
   "metadata": {
    "slideshow": {
     "slide_type": "slide"
    }
   },
   "source": [
    "# Es 3: Lanci Multipli di un dado\n",
    "\n",
    "* un dado lanciato per 6 volte\n",
    "* quale è la probabilità di ottenere un risultato = 21?\n",
    "* primo passo: rappresentazione dello  lo spazio campionario"
   ]
  },
  {
   "cell_type": "code",
   "execution_count": 26,
   "metadata": {
    "slideshow": {
     "slide_type": "fragment"
    }
   },
   "outputs": [
    {
     "name": "stdout",
     "output_type": "stream",
     "text": [
      "[1, 2, 3, 4, 5, 6]\n"
     ]
    }
   ],
   "source": [
    "possible_rolls = list(range(1, 7))\n",
    "print(possible_rolls)\n",
    "sample_space = set(product(possible_rolls, repeat=6))\n"
   ]
  },
  {
   "cell_type": "markdown",
   "metadata": {
    "slideshow": {
     "slide_type": "slide"
    }
   },
   "source": [
    "# Approfondimento: La funzione Range\n",
    "\n",
    "* **range( start, stop, step)**\n",
    "* restituisce una sequenza di numeri \n",
    "* inizia da start (0, di default)\n",
    "* si incrementa ad ogni passo di step (1, di default)\n",
    "* termina a stop, l'ultimo numero della sequenza (stop) non è incluso nel risultato\n",
    "* forma sintetica *range(stop)*"
   ]
  },
  {
   "cell_type": "markdown",
   "metadata": {
    "slideshow": {
     "slide_type": "slide"
    }
   },
   "source": [
    "# Es 3: Probabilità dell'evento \"Somma=21\""
   ]
  },
  {
   "cell_type": "code",
   "execution_count": 27,
   "metadata": {
    "slideshow": {
     "slide_type": "fragment"
    }
   },
   "outputs": [
    {
     "name": "stdout",
     "output_type": "stream",
     "text": [
      "6 rolls sum to 21 with a probability of 0.09284979423868313\n"
     ]
    }
   ],
   "source": [
    "def has_sum_of_21(outcome): return sum(outcome) == 21\n",
    "\n",
    "prob = compute_event_probability(has_sum_of_21, sample_space)\n",
    "print(f\"6 rolls sum to 21 with a probability of {prob}\")\n"
   ]
  },
  {
   "cell_type": "markdown",
   "metadata": {
    "slideshow": {
     "slide_type": "fragment"
    }
   },
   "source": [
    "* outcome è un elemento dello spazio campionario\n",
    "    * un insieme di 6 elementi ch erappresentano le 6 facce dei 6 dadi lanciati\n",
    "    * la funzione sum applicata ad un insieme restituisce la somma dei suoi valori\n",
    "    * l'evento è verificato se la somma è uguale a 21"
   ]
  },
  {
   "cell_type": "markdown",
   "metadata": {
    "slideshow": {
     "slide_type": "slide"
    }
   },
   "source": [
    "# Es 3: Probabilità dell'evento \"Somma=21\"\n",
    "\n",
    "* invece di definire la funzione **has_sum_21**, si passa direttamente la funzione come parametro\n",
    "* uso delle lambda expressions"
   ]
  },
  {
   "cell_type": "code",
   "execution_count": 28,
   "metadata": {
    "slideshow": {
     "slide_type": "fragment"
    }
   },
   "outputs": [
    {
     "name": "stdout",
     "output_type": "stream",
     "text": [
      "6 rolls sum to 21 with a probability of 0.09284979423868313\n"
     ]
    }
   ],
   "source": [
    "prob = compute_event_probability(lambda x: sum(x) == 21, sample_space) \n",
    "print(f\"6 rolls sum to 21 with a probability of {prob}\")\n",
    "assert prob == compute_event_probability(has_sum_of_21, sample_space)\n"
   ]
  },
  {
   "cell_type": "markdown",
   "metadata": {
    "slideshow": {
     "slide_type": "slide"
    }
   },
   "source": [
    "# Assignment\n",
    "\n",
    "* modificare l'esercizo 3 in modo da considerare uno ** spazio campionario pesato **\n",
    "* gli elementi dello spazio campionario non sono più le tuple rappresentanti i sei lanci del dado\n",
    "* ogni elemento dello spazio campionario è un possibile valore della somma dei sei dadi, associato con il numero di volte in cui quella somma si può presentare\n",
    "* ricalcolare la probabilità dell'evento \"somma=21\" prendendo in considerazione lo spazio campionario modificato\n",
    "* suggerimento: utilizzate un **dictionary**\n"
   ]
  },
  {
   "cell_type": "code",
   "execution_count": null,
   "metadata": {},
   "outputs": [],
   "source": []
  }
 ],
 "metadata": {
  "celltoolbar": "Slideshow",
  "kernelspec": {
   "display_name": "Python 3 (ipykernel)",
   "language": "python",
   "name": "python3"
  },
  "language_info": {
   "codemirror_mode": {
    "name": "ipython",
    "version": 3
   },
   "file_extension": ".py",
   "mimetype": "text/x-python",
   "name": "python",
   "nbconvert_exporter": "python",
   "pygments_lexer": "ipython3",
   "version": "3.8.10"
  }
 },
 "nbformat": 4,
 "nbformat_minor": 4
}
