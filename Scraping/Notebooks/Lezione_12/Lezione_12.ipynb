{
 "cells": [
  {
   "cell_type": "markdown",
   "id": "19aae52e",
   "metadata": {
    "slideshow": {
     "slide_type": "slide"
    }
   },
   "source": [
    "#### <h1><center> WebScraping </h1>\n",
    "<h1><center> Anno Accademico 2022-2023 </h1>\n",
    "<h1><center>  Docente: Laura Ricci </h1>\n",
    "<h1><center>  Lezione 14 </h1>\n",
    "<h1><center>  WebScarping in Python: </h1> \n",
    "<h1><center>  Form, Fields e Cookies </h1>  \n",
    "<h1><center> 14 Marzo 2023 </h1>"
   ]
  },
  {
   "cell_type": "markdown",
   "id": "f947ad64",
   "metadata": {
    "slideshow": {
     "slide_type": "slide"
    }
   },
   "source": [
    "# Strumenti avanzati per il web scraping\n",
    "\n",
    "* cosa abbiamo visto nelle lezioni precedent\n",
    "    * **HTTP**, **HTML**, **CSS**\n",
    "* le tecniche viste possono essere utilizzate sotto certe condizioni\n",
    "    * la pagina **HTML** che cerchiamo è accessibile senza autenticazione\n",
    "    * il contenuto della pagina è **statico**\n",
    "    * il server non utilizza misure anti-scraping.\n",
    "* cosa manca per implementare un vero web-scraper?\n",
    "    * gestione di web forms per siti che richiedono autenticazione\n",
    "    * gestione di cookies\n",
    "    * capire le misure opportune affinchè lo scraper **looks like a human** \n",
    "    * gestire il contenuto dinamico generato da **JavaScript**\n",
    "* alcune di queste tecniche possono essere implementate direttamente in **BeautifulSoup**\n",
    "* la gestione di contenuti gestiti da **Java Script** richiede strumenti più avanzati, come **Selenium**\n",
    "    "
   ]
  },
  {
   "cell_type": "markdown",
   "id": "f5149331",
   "metadata": {
    "slideshow": {
     "slide_type": "slide"
    }
   },
   "source": [
    "# Interagire con il web server: la libreria Python Request\n",
    "\n",
    "* come interagire con il protocollo **HTTP** da **Python**\n",
    "    * tramite la libreria **Request**\n",
    "    * cosa abbiamo visto fino nelle lezioni precedenti: il metodo **GET** della libreria **Requests**\n",
    "    * la libreria, come vedremo, offre molte altre funzionalità\n",
    "       * possibilità di sottomettere **form** al server mediNTE **POST**\n",
    "       * gestione degli header **HTTP**\n",
    "       * gestione dei **cookies**\n",
    "       "
   ]
  },
  {
   "cell_type": "code",
   "execution_count": 3,
   "id": "fe072dfc",
   "metadata": {
    "slideshow": {
     "slide_type": "fragment"
    }
   },
   "outputs": [
    {
     "name": "stdout",
     "output_type": "stream",
     "text": [
      "200\n",
      "\n",
      "OK\n",
      "\n",
      "{'Server': 'nginx', 'Date': 'Thu, 16 Mar 2023 18:31:16 GMT', 'Content-Type': 'text/html', 'Content-Length': '361', 'Connection': 'keep-alive', 'X-Accel-Version': '0.01', 'Last-Modified': 'Sat, 09 Jun 2018 19:15:58 GMT', 'ETag': '\"234-56e3a58a63780-gzip\"', 'Accept-Ranges': 'bytes', 'Vary': 'Accept-Encoding', 'Content-Encoding': 'gzip', 'X-Powered-By': 'PleskLin'}\n",
      "\n",
      "<PreparedRequest [GET]>\n",
      "\n",
      "{'User-Agent': 'python-requests/2.28.1', 'Accept-Encoding': 'gzip, deflate', 'Accept': '*/*', 'Connection': 'keep-alive'}\n",
      "\n",
      "<html>\n",
      "<head>\n",
      "<title>A Useful Page</title>\n",
      "</head>\n",
      "<body>\n",
      "<h1>An Interesting Title</h1>\n",
      "<div>\n",
      "Lorem ipsum dolor sit amet, consectetur adipisicing elit, sed do eiusmod tempor incididunt ut labore et dolore magna aliqua. Ut enim ad minim veniam, quis nostrud exercitation ullamco laboris nisi ut aliquip ex ea commodo consequat. Duis aute irure dolor in reprehenderit in voluptate velit esse cillum dolore eu fugiat nulla pariatur. Excepteur sint occaecat cupidatat non proident, sunt in culpa qui officia deserunt mollit anim id est laborum.\n",
      "</div>\n",
      "</body>\n",
      "</html>\n",
      "\n"
     ]
    }
   ],
   "source": [
    "import requests\n",
    "import json\n",
    "url = 'https://www.pythonscraping.com/pages/page1.html'\n",
    "r = requests.get(url)\n",
    "# Qual è il codice HTTP restituito da HTML?\n",
    "print(r.status_code)\n",
    "print()\n",
    "# Qual è la spiegazione testuale di quel codice?\n",
    "print(r.reason)\n",
    "print()\n",
    "# Quali sono i campi header contenuti nella risposta inviata dal server?\n",
    "print(r.headers)\n",
    "print()\n",
    "# Che tipo ha \"r.request\", cioè la richiesta inviata al server?\n",
    "print(r.request)\n",
    "print()\n",
    "# Quali erano gli header HTTP della richiesta?\n",
    "print(r.request.headers)\n",
    "print()\n",
    "# Il contenuto della risposta HTTP:\n",
    "print(r.text)\n"
   ]
  },
  {
   "cell_type": "markdown",
   "id": "111fedee",
   "metadata": {
    "slideshow": {
     "slide_type": "slide"
    }
   },
   "source": [
    "# Interagire con un web server: query strings\n",
    "\n",
    "* **HTTP** consente non solo di scaricare contenuti dal server, ma anche di interagire con il server inviandogli dei dati\n",
    "\n",
    "* il modo più semplice per inviare i dati a un server è includere i dati direttamente nella **URL**\n",
    "\n",
    "* **query strings**: parte opzionale della **URL** inserita dopo il **?**\n",
    "    \n",
    "    <code>\n",
    "    http://www.example.com/product_page.html?product_id=304\n",
    "    </code>\n",
    "    \n",
    "     <code>\n",
    "    https://www.google.com/search?dcr=0&source=hp&q=test&oq=test\n",
    "    </code>\n",
    "\n",
    "* quando il server riceve una richiesta **HTTP** con una query string, è in grado di \"interpretare i parametri\" ed effettuare le operazioni corrispondenti\n",
    "    \n",
    "* di seguito presentaimo due modi diversi per accedere agli episodi di **Game of Thrones**, nel secondo si sottomette un a query\n",
    "\n",
    "    \n",
    "   [WikiGameOfThrones](https://en.wikipedia.org/wiki/List_of_Game_of_Thrones_episodes) \n",
    "   <code>    \n",
    "   https://en.wikipedia.org/wiki/List_of_Game_of_Thrones_episodes: \n",
    "   </code>\n",
    "    \n",
    "   [WikiGameOfThroneswithQuery](https://en.wikipedia.org/wiki/List_of_Game_of_Thrones_episodes)\n",
    "   <code>\n",
    "   https://en.wikipedia.org/w/index.php?title=List_of_Game_of_Thrones_episodes \n",
    "   </code> "
   ]
  },
  {
   "cell_type": "markdown",
   "id": "58301bb0",
   "metadata": {
    "slideshow": {
     "slide_type": "slide"
    }
   },
   "source": [
    "# Form HTML e richieste HTTP\n",
    "\n",
    "* anche se la dimensione di una **URL** è illimitata, inviare parametri tramite una **URL** diventa difficile, quando le query diventano più complesse\n",
    "    * ad esempio: comprare tickets per un concerto,  invinado nome, e-mail, scelta del ticket, etc.\n",
    "* in quetso caso si possono usare le **web forms**\n",
    "\n",
    "* una **HTML Form (Web Form)** permette l'interazione tra l'utente e il browser web\n",
    "    * è incorporata nella pagina **HTML** mediante i tag \n",
    "    <code>\n",
    "    &lt;form> \n",
    "    &lt;/form>\n",
    "    </code>\n",
    "\n",
    "* contiene elementi che vengono mostrati all'utente per l'immissione di informazioni da inviare al server\n",
    "    * **input fields**\n",
    "    * **buttons**\n",
    "    * **checkboxes**\n",
    "    * ...\n",
    "  \n",
    "* sul web server, un programma colleziona questi dati e restituisce una risposta calcolata dinamicamente sulla base dei dati sottomessi."
   ]
  },
  {
   "cell_type": "markdown",
   "id": "0971c07f",
   "metadata": {
    "slideshow": {
     "slide_type": "slide"
    }
   },
   "source": [
    "# Un esempio di form HTML: il rendering\n",
    "\n",
    "\n",
    "<td> <img src=\"Figures/formaout.jpg\" style=\"width:800px;height:600px;\"/>"
   ]
  },
  {
   "cell_type": "markdown",
   "id": "66e9fd78",
   "metadata": {
    "slideshow": {
     "slide_type": "slide"
    }
   },
   "source": [
    "# Un esempio di form HTML: il sorgente\n",
    "\n",
    "<td> <img src=\"Figures/forma.jpg\" style=\"width:800px;height:600px;\"/>\n"
   ]
  },
  {
   "cell_type": "markdown",
   "id": "cdaa7169",
   "metadata": {
    "slideshow": {
     "slide_type": "slide"
    }
   },
   "source": [
    "# Un esempio di form HTML\n",
    "\n",
    "* racchiusa tra i tag \n",
    " <code>\n",
    " &lt;form> \n",
    " &lt;/form>\n",
    " </code>\n",
    "\n",
    "* la form presenta due attributi importanti\n",
    "    * **action** \n",
    "        * indica la locazione, sul server, dove i dati della form dovranno essere sottomessi\n",
    "        * nel caso della form \n",
    "        <code>\n",
    "        submit.php\n",
    "        </code>\n",
    "        * in generale \"#\" indica la stessa **URL** della form di Login\n",
    "    \n",
    "    * **method** \n",
    "        * specifica il metodo **HTTP** (**GET** oppure **POST**) usato per la sottomissione dei dati immessi dall'utente\n",
    "\n",
    "* importante ricordare queste informazioni da utilizzare per gestire le form tramite la libreria **request**"
   ]
  },
  {
   "cell_type": "markdown",
   "id": "e4524763",
   "metadata": {
    "slideshow": {
     "slide_type": "slide"
    }
   },
   "source": [
    "# Un esempio di form HTML\n",
    "\n",
    "* racchiusa tra i tag \n",
    "  <code>\n",
    "   &lt;form> \n",
    "   &lt;/form>\n",
    "   </code>\n",
    "\n",
    "* attributi importanti\n",
    "    * una serie di **input tag**\n",
    "    * per ogni **input tag**, un attributo importante è  **name**\n",
    "        \n",
    "* quando l'utente/il programma di scraping sottomette la form, il browser colleziona i valori dei parametri della form\n",
    "    * i parametri devono essere sottomessi nella form **name=value**\n",
    "    * ci deve essere corrispondenza tra il nome utilizzato per inviare il parametro al server e il nome dell'attributo \n",
    "      individuato nell'elemento &lt; input >\n",
    "    * il valore è quello inserito in input dall'utente\n",
    "    \n",
    "* nella form precedente\n",
    "    * **&lt;input type=\"text\">**:  un campo testo per l'immissione dello Username\n",
    "    * **&lt;input type=\"password\">**: un campo usato per l'immissione della passwords, visualizzata con asterischi (non visibile) "
   ]
  },
  {
   "cell_type": "markdown",
   "id": "152a3d21",
   "metadata": {
    "slideshow": {
     "slide_type": "slide"
    }
   },
   "source": [
    "# Un esempio di form HTML: buttons\n",
    "\n",
    "<code>\n",
    "&lt;input type=\"submit\">: Submit button. \n",
    "</code>\n",
    "\n",
    "    * per inviare la form\n",
    "\n",
    "<code>\n",
    "&lt;input type=\"reset\">: \n",
    "</code>    \n",
    "\n",
    "    * per resettare tutti i campi della form\n",
    "    \n",
    "* l'attributo dei button indicano le etichette da visualizzare sul button stesso\n"
   ]
  },
  {
   "cell_type": "markdown",
   "id": "3fbfca5e",
   "metadata": {
    "slideshow": {
     "slide_type": "slide"
    }
   },
   "source": [
    "# Ispezionare form scaricate da web\n",
    "\n",
    "* scaricare la pagina dal sito \n",
    "<code>\n",
    "    http://pythonscraping.com/pages/files/form.html\n",
    "</code>\n",
    "\n",
    "\n",
    "* usare la funzione **\"ispeziona\"** del browser, come per le pagine web statiche, per individuare i campi della form\n",
    "\n",
    "\n",
    "<td> <img src=\"Figures/formaweb.jpg\" style=\"width:800px;height:400px;\"/>"
   ]
  },
  {
   "cell_type": "markdown",
   "id": "c1f4f271",
   "metadata": {
    "slideshow": {
     "slide_type": "slide"
    }
   },
   "source": [
    "# Ispezionare la form\n",
    "\n",
    "* i campi da tenere d'occhio per  scrivere un programma che sottometta la form in modo automatico?\n",
    "\n",
    "* il campo **metodo**\n",
    "    * indica il metodo utilizzato per sottomettere la **form**\n",
    "    * nel caso della form precedente, non si utilizza il metodo di default, che è il metodo **GET**, ma il metodo utilizzato è **POST**\n",
    "        * viene inviata una richiesta **HTTP POST**\n",
    "        * il valore dei parametri viene incluso nel body della richiesta\n",
    "        * invece di includere il valore dei parametri nella **URL** di un metodo **GET**\n",
    "\n",
    "* la **action** che indica **dove** andrà sottomessa la form\n",
    "\n",
    "* il nome degli attributi di input\n",
    "    * **firstname**, **lastname**"
   ]
  },
  {
   "cell_type": "markdown",
   "id": "bc5ba10b",
   "metadata": {
    "slideshow": {
     "slide_type": "slide"
    }
   },
   "source": [
    "# Sottomettere form con la libreria Request"
   ]
  },
  {
   "cell_type": "code",
   "execution_count": 9,
   "id": "7e13a188",
   "metadata": {
    "slideshow": {
     "slide_type": "fragment"
    }
   },
   "outputs": [
    {
     "name": "stdout",
     "output_type": "stream",
     "text": [
      "Hello there,  !\n"
     ]
    }
   ],
   "source": [
    "import requests\n",
    "\n",
    "url= \"http://pythonscraping.com/pages/processing.php\"\n",
    "\n",
    "# primo passo: richiedere la pagina **GET**\n",
    "r = requests.get(url)\n",
    "\n",
    "# eseguire quindi una **POST**\n",
    "formdata = {'firstname': 'Laura', \n",
    "            'lastname': 'Ricci'}\n",
    "\n",
    "r = requests.post(url, data=formdata)\n",
    "print(r.text)\n"
   ]
  },
  {
   "cell_type": "markdown",
   "id": "b86df824",
   "metadata": {
    "slideshow": {
     "slide_type": "fragment"
    }
   },
   "source": [
    "* gli argomenti da includere nel payload sono passati in un **dizionario** Python\n",
    "* la prima **GET** potrebbe essere eliminata, ma...\n",
    "    * un browser reperirebbe prima la pagina con una **GET** e dopo effettuerebbe una **POST**\n",
    "    * stesso comportamento per evitare misure anti-scraping"
   ]
  },
  {
   "cell_type": "markdown",
   "id": "fc529f2e",
   "metadata": {
    "slideshow": {
     "slide_type": "slide"
    }
   },
   "source": [
    "# Strumenti di monitoring \n",
    "\n",
    "* usare il tab \"Strumenti per sviluppatori** di Chrome per monitorare la trasmissione\n",
    "* verificare che, nel momento in cui si preme **Submit**,  effettivamente è stata inviata una richiesta **POST**"
   ]
  },
  {
   "cell_type": "markdown",
   "id": "4b522b30",
   "metadata": {
    "slideshow": {
     "slide_type": "fragment"
    }
   },
   "source": [
    "<td> <img src=\"Figures/monitoring.png\" style=\"width:1600px;height:800px;\"/>"
   ]
  },
  {
   "cell_type": "markdown",
   "id": "29031d51",
   "metadata": {
    "slideshow": {
     "slide_type": "slide"
    }
   },
   "source": [
    "# Request headers\n",
    "\n",
    "* fino a questo momento gli **HTML Header** da inviare al server sono stati generati automaticamente dalla libreria **Request**"
   ]
  },
  {
   "cell_type": "code",
   "execution_count": 7,
   "id": "8979e810",
   "metadata": {
    "slideshow": {
     "slide_type": "fragment"
    }
   },
   "outputs": [
    {
     "name": "stdout",
     "output_type": "stream",
     "text": [
      "{'User-Agent': 'python-requests/2.28.1', 'Accept-Encoding': 'gzip, deflate', 'Accept': '*/*', 'Connection': 'keep-alive'}\n"
     ]
    }
   ],
   "source": [
    "import requests\n",
    "\n",
    "url= \"http://pythonscraping.com/pages/processing.php\"\n",
    "# eseguire per prima una richiesta **GET**\n",
    "r = requests.get(url)\n",
    "print(r.request.headers)\n"
   ]
  },
  {
   "cell_type": "markdown",
   "id": "c4f22d45",
   "metadata": {
    "slideshow": {
     "slide_type": "slide"
    }
   },
   "source": [
    "# Modificare il campo header \n",
    "\n",
    "* considerare il seguente fragmento di codice:"
   ]
  },
  {
   "cell_type": "code",
   "execution_count": 10,
   "id": "71df5c76",
   "metadata": {
    "slideshow": {
     "slide_type": "fragment"
    }
   },
   "outputs": [
    {
     "name": "stdout",
     "output_type": "stream",
     "text": [
      "It seems you are using a scraper!\n",
      "{'User-Agent': 'python-requests/2.28.1', 'Accept-Encoding': 'gzip, deflate', 'Accept': '*/*', 'Connection': 'keep-alive'}\n"
     ]
    }
   ],
   "source": [
    "url = 'http://www.webscrapingfordatascience.com/usercheck/'\n",
    "r = requests.get(url)\n",
    "print(r.text)\n",
    "# Attenzione: il server ha capito che stiamo facendo scrapinG!\n",
    "print(r.request.headers)\n"
   ]
  },
  {
   "cell_type": "markdown",
   "id": "a9e85a74",
   "metadata": {
    "slideshow": {
     "slide_type": "fragment"
    }
   },
   "source": [
    "* in questo caso il server risponde con il messaggio **It seems you are using a scraper**\n",
    "* se apriamo la stessa pagina da un browser questo non accade\n",
    "* che cosa sta accadendo?\n",
    "    * la libreria **requests** ha inserito, in modo corretto, l'header **'User-Agent': 'python-requests/2.28.1'**\n",
    "    * se il server prevede qualche meccanismo di **anti-scraping**, può inserire un semplice controllo per verificare che il richiedente non è un browser e bloccare l'accesso\n",
    "    * occorre modificare l'header nello script di scraping."
   ]
  },
  {
   "cell_type": "markdown",
   "id": "9b502305",
   "metadata": {
    "slideshow": {
     "slide_type": "slide"
    }
   },
   "source": [
    "# Looking like a human!"
   ]
  },
  {
   "cell_type": "code",
   "execution_count": null,
   "id": "0d5d94fc",
   "metadata": {
    "slideshow": {
     "slide_type": "fragment"
    }
   },
   "outputs": [],
   "source": [
    "import requests\n",
    "\n",
    "url = 'http://www.webscrapingfordatascience.com/usercheck/'\n",
    "my_headers = {'User-Agent': 'Mozilla/5.0 (Windows NT 10.0; Win64; x64) AppleWebKit/537.36 ' + ' (KHTML, like Gecko) Chrome/61.0.3163.100Safari/537.36'}\n",
    "r = requests.get(url, headers=my_headers)\n",
    "print(r.text)\n",
    "print(r.request.headers)\n"
   ]
  },
  {
   "cell_type": "markdown",
   "id": "57840576",
   "metadata": {
    "slideshow": {
     "slide_type": "fragment"
    }
   },
   "source": [
    "* impostare un header in modo da comportarsi come un browser"
   ]
  },
  {
   "cell_type": "markdown",
   "id": "67cfd3e8",
   "metadata": {
    "slideshow": {
     "slide_type": "slide"
    }
   },
   "source": [
    "# Referral headers\n",
    "\n",
    "* collegarsi alla pagina\n",
    "<code/>\n",
    "http://www.webscrapingfordatascience.com/referercheck/\n",
    "</code>\n",
    "* la pagina presenta il link ad una pagina **secret page**\n",
    "* si può notare il **referral header** settato a **stricy-origin-when-cross-origin**\n",
    "    * significa che le pagine linkate devono essere accedute solo attraverso questa pagina\n",
    "    * se si accede alla **secret page** direttamente, ad esempio aprendo un nuovo tag del browser ed indicando la **URL** della pagina, verrà restituito un codice di errore\n",
    "* visualizzare questo header usando lo strimento per sviluppatori del browser\n"
   ]
  },
  {
   "cell_type": "markdown",
   "id": "3c0230c1",
   "metadata": {
    "slideshow": {
     "slide_type": "fragment"
    }
   },
   "source": [
    "<td> <img src=\"Figures/referral.png\" style=\"width:1600px;height:500px;\"/>"
   ]
  },
  {
   "cell_type": "markdown",
   "id": "b3892ec7",
   "metadata": {
    "slideshow": {
     "slide_type": "slide"
    }
   },
   "source": [
    "# Referral headers\n",
    "\n",
    "*  cosa accade se accedo direttamente alla pagina segreta"
   ]
  },
  {
   "cell_type": "code",
   "execution_count": 12,
   "id": "1f2fe021",
   "metadata": {
    "slideshow": {
     "slide_type": "fragment"
    }
   },
   "outputs": [
    {
     "name": "stdout",
     "output_type": "stream",
     "text": [
      "Sorry, you seem to come from another web page\n"
     ]
    }
   ],
   "source": [
    "import requests\n",
    "url = 'http://www.webscrapingfordatascience.com/referercheck/secret.php'\n",
    "r = requests.get(url)\n",
    "print(r.text)"
   ]
  },
  {
   "cell_type": "markdown",
   "id": "4654e61d",
   "metadata": {
    "slideshow": {
     "slide_type": "fragment"
    }
   },
   "source": [
    "* un modo per accedere direttamente alla **pagina segreta** è modificare direttamente l'header"
   ]
  },
  {
   "cell_type": "code",
   "execution_count": 13,
   "id": "827a5366",
   "metadata": {
    "slideshow": {
     "slide_type": "fragment"
    }
   },
   "outputs": [
    {
     "name": "stdout",
     "output_type": "stream",
     "text": [
      "This is a totally secret page\n"
     ]
    }
   ],
   "source": [
    "import requests\n",
    "url = 'http://www.webscrapingfordatascience.com/referercheck/secret.php'\n",
    "my_headers = {\n",
    "     'Referer': 'http://www.webscrapingfordatascience.com/referercheck/'\n",
    "}\n",
    "r = requests.get(url, headers=my_headers)\n",
    "print(r.text)"
   ]
  },
  {
   "cell_type": "markdown",
   "id": "61086d8e",
   "metadata": {
    "slideshow": {
     "slide_type": "slide"
    }
   },
   "source": [
    "# Gestione dei cookies\n",
    "\n",
    "\n",
    "* **HTTP** è nato come un protocollo **stateless** \n",
    "    * il server non mantiene alcuna informazione sulle richieste precedenti inviate dallo stesso client\n",
    "    * per introdurre una forma semplice di **stato** è stato introdotto il meccansimo dei **cookies**\n",
    "\n",
    "* **cookie**\n",
    "    * un dato di piccole dimensioni (pochi kBytes) inviato da un server ad un browser e memorizzato nel browser\n",
    "    * il browser automaticamente include il cookie in tutte  le successive richieste che fa al medesimo server\n",
    "    * in questo modo il server può identificare in modo univoco un client (un browser)\n",
    "    \n",
    "* nome **cookie**: un \"opaque piece of data held by an intermediary**\n",
    "    * il dato è di interesse solo per il server e non per il client"
   ]
  },
  {
   "cell_type": "markdown",
   "id": "c31dd531",
   "metadata": {
    "slideshow": {
     "slide_type": "slide"
    }
   },
   "source": [
    "# Cookies e scraping"
   ]
  },
  {
   "cell_type": "code",
   "execution_count": 14,
   "id": "ddfbfe45",
   "metadata": {
    "slideshow": {
     "slide_type": "fragment"
    }
   },
   "outputs": [
    {
     "name": "stdout",
     "output_type": "stream",
     "text": [
      "Hmm... it seems you are not logged in\n"
     ]
    }
   ],
   "source": [
    "import requests\n",
    "url = 'http://www.webscrapingfordatascience.com/cookielogin/'\n",
    "# Eseguo una post\n",
    "# mi loggo sul sito\n",
    "r = requests.post(url, data={'username': 'Laura', 'password': 'Ricci'})\n",
    "r = requests.get(url + 'secret.php')\n",
    "print(r.text)\n"
   ]
  },
  {
   "cell_type": "markdown",
   "id": "b382295d",
   "metadata": {
    "slideshow": {
     "slide_type": "slide"
    }
   },
   "source": [
    "# Cookies e scraping"
   ]
  },
  {
   "cell_type": "code",
   "execution_count": 15,
   "id": "02b96dfe",
   "metadata": {
    "slideshow": {
     "slide_type": "fragment"
    }
   },
   "outputs": [
    {
     "name": "stdout",
     "output_type": "stream",
     "text": [
      "questo è il cookie ricevuto\n",
      "<RequestsCookieJar[<Cookie PHPSESSID=krjcg5k3tp49n9r06ct9v6am5i for www.webscrapingfordatascience.com/>]>\n",
      "going to the secret page\n",
      "This is a secret code: 1234\n"
     ]
    }
   ],
   "source": [
    "import requests\n",
    "url = 'http://www.webscrapingfordatascience.com/cookielogin/'\n",
    "# Eseguo una post\n",
    "# mi loggo sul sito\n",
    "r = requests.post(url, data={'username': 'Laura', 'password': 'Ricci'})\n",
    "# Accedo ai cookies ricevuti\n",
    "\n",
    "receivedcookies=r.cookies\n",
    "print(\"questo è il cookie ricevuto\")\n",
    "print(receivedcookies)\n",
    "\n",
    "# r.cookies is a RequestsCookieJar object which can also\n",
    "# be accessed like a dictionary.\n",
    "\n",
    "my_cookies = r.cookies\n",
    "\n",
    "print(\"going to the secret page\")\n",
    "r = requests.get(url + 'secret.php', cookies=my_cookies)\n",
    "print(r.text)\n"
   ]
  },
  {
   "cell_type": "markdown",
   "id": "d7ba204d",
   "metadata": {
    "slideshow": {
     "slide_type": "slide"
    }
   },
   "source": [
    "\n",
    "# Gestire i cookies con la funzione Session\n",
    "\n",
    "* aprendo una sessione **Session**, in **Request**, tutta la gestione dei cookies è effettuata automaticamente  dalla libreria"
   ]
  },
  {
   "cell_type": "code",
   "execution_count": 18,
   "id": "6395a21c",
   "metadata": {
    "slideshow": {
     "slide_type": "fragment"
    }
   },
   "outputs": [
    {
     "name": "stdout",
     "output_type": "stream",
     "text": [
      "This is a secret code: 1234\n"
     ]
    }
   ],
   "source": [
    "import requests\n",
    "url = 'http://www.webscrapingfordatascience.com/cookielogin/'\n",
    "my_session = requests.Session()\n",
    "r = my_session.post(url, data={'username': 'Laura', 'password': 'Ricci'})\n",
    "r = my_session.get(url + 'secret.php')\n",
    "print(r.text)\n"
   ]
  },
  {
   "cell_type": "code",
   "execution_count": 19,
   "id": "e5587b74",
   "metadata": {
    "slideshow": {
     "slide_type": "fragment"
    }
   },
   "outputs": [
    {
     "name": "stdout",
     "output_type": "stream",
     "text": [
      "questo è il cookie ricevuto\n",
      "<RequestsCookieJar[<Cookie PHPSESSID=gurqfsibmfs6tk6r76lehmcbqc for www.webscrapingfordatascience.com/>]>\n",
      "going to the secret page\n",
      "This is a secret code: 1234\n"
     ]
    }
   ],
   "source": [
    "import requests\n",
    "url = 'http://www.webscrapingfordatascience.com/cookielogin/'\n",
    "# Eseguo una post e mi loggo sul sito\n",
    "r = requests.post(url, data={'username': 'Laura', 'password': 'Ricci'})\n",
    "\n",
    "# Accedo ai cookies ricevuti\n",
    "receivedcookies=r.cookies\n",
    "print(\"questo è il cookie ricevuto\")\n",
    "print(receivedcookies)\n",
    "\n",
    "# rimando il cookie che ho ricevuto al server\n",
    "my_cookies = r.cookies\n",
    "print(\"going to the secret page\")\n",
    "r = requests.get(url + 'secret.php', cookies=my_cookies)\n",
    "print(r.text)\n"
   ]
  },
  {
   "cell_type": "markdown",
   "id": "a281e187",
   "metadata": {
    "slideshow": {
     "slide_type": "slide"
    }
   },
   "source": [
    "# Campi hidden di forms \n",
    "\n",
    "  <code>\n",
    "    &lt;input type=\"hidden\"> \n",
    "  </code>\n",
    "  \n",
    "*  alcuni campi hanno tipo **hidden** e sono contenuti nelle **form HTML**\n",
    "\n",
    "*  permettono di rendere il valore contenuto in questo campo visible dal browser, ma non all'utente ( a meno che non si analizzi il codice sorgente)\n",
    "\n",
    "* sono spessi usati come strumenti anti-scraping\n",
    "    * in un **hidden field** viene inserito un **valore random** da parte di un server\n",
    "    * se il valore non è inserito nella form che il client sottomette, è probabile che quella form sia stata postata direttamente al server, senza avrla scaricata precedentemente\n",
    "    * rimandare invariati i campi **hidden** al server\n",
    "\n",
    "* come comportarsi?\n",
    "    * effettuare il caricamente della pagina contenente la form\n",
    "    * individuare i valori hidden random nella form scaricata\n",
    "    * inserire quei valori nella **POST** successiva"
   ]
  },
  {
   "cell_type": "markdown",
   "id": "481b920c",
   "metadata": {
    "slideshow": {
     "slide_type": "slide"
    }
   },
   "source": [
    "# Goodreads: un social network dedicato ai lettori"
   ]
  },
  {
   "cell_type": "markdown",
   "id": "205f9257",
   "metadata": {
    "slideshow": {
     "slide_type": "fragment"
    }
   },
   "source": [
    "<td> <img src=\"Figures/Goodreads.jpg\" style=\"width:1600px;height:500px;\"/>"
   ]
  },
  {
   "cell_type": "markdown",
   "id": "4edfaf89",
   "metadata": {
    "slideshow": {
     "slide_type": "slide"
    }
   },
   "source": [
    "# Goodreads: un social network dedicato ai lettori\n",
    "\n",
    "\n",
    "* unisce funzionalità tipiche dei social networks con funzianlità specifiche dedicate ai lettori\n",
    "\n",
    "* gli utenti\n",
    "    * aggiungono ai loro profili i libri che hanno letto\n",
    "    * condividono  recensioni, commenti, suggerimenti\n",
    "    * gruppi di discussione\n",
    "    \n",
    "* perchè scegliamo **Goodreads** per lo scraping?\n",
    "    * richiede una fase di registrazione per accedere alle recensioni\n",
    "    * struttura delle pagine non banale, ma può essere analizzata con gli strumenti visti fino a questo momento\n",
    "    "
   ]
  },
  {
   "cell_type": "markdown",
   "id": "2f4637c3",
   "metadata": {
    "slideshow": {
     "slide_type": "slide"
    }
   },
   "source": [
    "# Goodreads: la fase di registrazione\n",
    "\n",
    "* analizzare la form utilizzata dal sito per la registrazione"
   ]
  },
  {
   "cell_type": "markdown",
   "id": "adada062",
   "metadata": {
    "slideshow": {
     "slide_type": "fragment"
    }
   },
   "source": [
    "<td> <img src=\"Figures/Authenticate phase.png\" style=\"width:2000px;height:600px;\"/>"
   ]
  },
  {
   "cell_type": "markdown",
   "id": "d0e30fa3",
   "metadata": {
    "slideshow": {
     "slide_type": "slide"
    }
   },
   "source": [
    "# Goodreads: la fase di autenticazione"
   ]
  },
  {
   "cell_type": "markdown",
   "id": "aa91b093",
   "metadata": {
    "slideshow": {
     "slide_type": "fragment"
    }
   },
   "source": [
    "<code>\n",
    "    \n",
    "<span style=\"color:red\"># creazione del payload della POST con i parametri richiesti dalla form</span>  \n",
    "      payload = {\n",
    "<span style=\"color:red\"># parametri pubblici</span>        \n",
    "        'email': \"laura.ricci@unipi.it\",   \n",
    "        'password': \"........\",    \n",
    "<span style=\"color:red\"># parametri hidden</span>       \n",
    "        'utf8': '&#x2713;',\n",
    "        'appActionToken' : \"YUAOBJBmIpJwPj2BSAionpwFb92j2Bgj3D\",   \n",
    "        'appAction':'SIGNIN',   \n",
    "        'siteState':'ape:MTM0NTdmNzc5NDA2ZjE1MjE1MjVjYTNmZTU0NWM0YjQ=',  \n",
    "        'openid.return_to':'ape:aHR0cHM6Ly93d3cuZ29vZHJlYWRzLmNvbS9hcC1oYW5kbGVyL3NpZ24taW4=', \n",
    "        'prevRID':'ape:RjFOUkFRNEQyVFFNVFZCWk5FMjE=',   \n",
    "        \"workflowState\" :\"eyJ6aXAiOiJERUYiLCJlbmMiOiJBMjU2R0NNIiwiYWxnIjoiQTI1NktXIn0.-\\\n",
    "        XRkcaD6v0-h7fUlXALXzRu4MyYr82rnNe3cvXXnw77Yn6DBb0ICZA.dML9-x8kob38v2kc.YLPbkkx1GjtH0Df_VXh56gOv60UZJZauvImEq05Z\\\n",
    "        oUF1rgXxTkm0ndqfwtNXijZGuW6dsdCtcZptdHIapuXfaOWGiBYH9u8nsnnu6IZ3smhU9CT0YUXuoWkTjUjPAMlEPyITgGM_z_DZgJSbpQ96WpB\\\n",
    "        TLIRm2kXC2Uw38Ue0zTIgZ7yRoVLkxQv6_KJ3bjBOW08fklmsY6JwE3Q51IrnHaqto3X3OTSMWGP0pHAzu7watbXPCgORbyosHaDLZIBLmgimDUh\\\n",
    "        FldwzXIJxvJ22AJnmdp-5MEflcrkxg4tz9sebq1vRiWiWqtBbphprzaY0nLXaUnbxD_M30at1gMekTO43wMGiAAAsAzhJFtoxr96rtszU6dUCm\\\n",
    "        BF87GKGrEI92ccOpNRq.7RwK_3C4dHpbecUvxnDU1w\",     \n",
    "        \"metadata1\" : \"ECdITeCs:hb2Yw0Q36NS1HePFtpW211u7G3s4qV5ThEU5\\\n",
    "        xWONHBI/JXLcYZ1ibaxiuqoVV25y9WcM5TevtQxCGTvtyonLRhuZYbLD5nIuhWjoFb8+Js3Q15URYfCnqcg5kO/ZMTXRtJXNiaGmu7nWK\\\n",
    "        1kRtMzZ//Ss+Q0QtPRllf8WrUVs9usDgfvYRfy1JxmunzxabwKdx1jm32pG7v7VjijZWpWn9i3DPsz2/wRgbrz7QiZMMtjFdEHNdzgwQ5e\\\n",
    "        Yr/yTLXu20sHuRhzbiow/trmg/Xymqs2kblg+XEd1doYfWTyHfnVjuN17kPAlfoObd/1dElYxsucgasR6g3tegFlc3MfxJUpRdEpGWqFGp\\\n",
    "        7UwZfIGkT4f9+qZSmDMx8bYSarvo+ZG6gnPI7icYKzYHTBQAsQtG4C1bQwvAPwbjBjrixs9zsEVooP6LytmkrHLKL8CblRLvaNty0rDGv4wI\\\n",
    "        o1QgXTkvTyV+h5LE1WW487aGr+HQgTU8/QC0xQ0FPjLV38D6ddm3Drl/63bttZTFkLDwOmElaFrBJ32LpuODck9GIGCGbAmvPFQjqosWIL\\\n",
    "        5btT99nN/RkdJe/i0BROricfhzrPwSc+WiXgCpuNNK6YDWKiWjPCmJra3FJs+vTs4J5z8QgFJ3fOvijI96i7K4msZzpUNKdCH2y0/n4Wa7O\\\n",
    "        bog9TzyINgqGOS/7jYR0N//6tbpXVAXw2JWE8Y9beDISnHLm25kSXsjvdcbLC/G7gUtbJnXgXZhEXl1NRnlP1YX5WS3pPCl7+Swth1d+LW8\\\n",
    "        n5cLHHAmW8sDaDEWaql8xM6qJsgym8hdkif4ehUy......\n",
    "    }\n",
    "<span style=\"color:red\"># apertura della sessione per la gestione dei cookies</span>     \n",
    "    session = requests.Session()\n",
    "    LOGIN_URL = \"https://www.goodreads.com/user/sign_in\"\n",
    "<span style=\"color:red\"># looking like a human!</span>     \n",
    "    session.headers = {'User-Agent': 'Mozilla/5.0'}\n",
    "    response = session.get(LOGIN_URL)\n",
    "    print(response)\n",
    "    print(f\"attempting to log in as {email}\")\n",
    "    p = session.post(LOGIN_URL, data=payload)\n",
    "    print(\"risposta dopo la post\")\n",
    "    print(response)\n",
    "</code>"
   ]
  },
  {
   "cell_type": "markdown",
   "id": "75b847c5",
   "metadata": {
    "slideshow": {
     "slide_type": "slide"
    }
   },
   "source": [
    "# Goodreads: la fase di scraping\n",
    "\n",
    "* una volta autenticati, è possibile visualizzare le review effettuate da ogni utente\n",
    "\n",
    "* ogni utente è identificato da un identificatore unico\n",
    "\n",
    "* l'identificatore dell'utente è incorporato nella **URL** della sua pagin personale e può essere ricavato da una analisi della **URL**\n",
    "\n",
    "* si vogliono collezionare le prime 5 review effettuate da un utente il cui codice è dato in input\n",
    "    * queste review si trovano sicuramente nella prima pagina associata all'utente\n",
    "    * anche il numero della pagina è incoroporato nella **URL**\n",
    "    * un esempio nella pagina successiva"
   ]
  },
  {
   "cell_type": "markdown",
   "id": "1b1dac84",
   "metadata": {
    "slideshow": {
     "slide_type": "slide"
    }
   },
   "source": [
    "# Goodreads: la fase di scraping\n",
    "\n",
    "* **identificatore=66** corrisponde all'utente **Sean**\n",
    "\n",
    "* analizzare la struttura della **URL** corrispondente alla prima pagina di quell'utente\n",
    "    <code>\n",
    "    https://www.goodreads.com/review/list/66-sean?page=1&shelf=read\n",
    "     </code>"
   ]
  },
  {
   "cell_type": "markdown",
   "id": "d18e3f3b",
   "metadata": {
    "slideshow": {
     "slide_type": "fragment"
    }
   },
   "source": [
    "<img src=\"Figures/ReviewerPage.jpg\" style=\"width:1600px;height:500px;\"/>"
   ]
  },
  {
   "cell_type": "markdown",
   "id": "3272ea40",
   "metadata": {
    "slideshow": {
     "slide_type": "slide"
    }
   },
   "source": [
    "# Goodreads: la fase di scraping, le reviews\n",
    "\n",
    "* una tabella, ogni riga una review\n",
    "* ogni review identificata da un identificatore del tipo **review_id**"
   ]
  },
  {
   "cell_type": "markdown",
   "id": "3b96790c",
   "metadata": {
    "slideshow": {
     "slide_type": "fragment"
    }
   },
   "source": [
    "<img src=\"Figures/reviews.jpg\" style=\"width:2200px;height:500px;\"/>"
   ]
  },
  {
   "cell_type": "markdown",
   "id": "e9512f28",
   "metadata": {
    "slideshow": {
     "slide_type": "slide"
    }
   },
   "source": [
    "# Goodreads: fase di scraping\n",
    "\n",
    "* definiamo una funzione di supporto che data la pagina contenente le review, restituisce gli identificatori di tutte le reviews\n",
    "    * individuare, nella pagina, ogni elemento di tipo **tr** (table row) con classe **review**\n",
    "* consideriamo solo le prime 5 reviews, usando l'operatore di slicing sulla lista restituita\n",
    "* per ogni identificatore nella lista risultatnte, eliminiamo il prefisso **_review** così isolando solo l'identificatore della review\n",
    "\n",
    "<code>\n",
    "def parse_review_list(html):\n",
    "    soup = BeautifulSoup(html, \"html.parser\")\n",
    "    rows = soup.find_all('tr', class_='review')\n",
    "    rows =rows [:5]\n",
    "    return [row.get('id').replace('review_', '') for row in rows]\n",
    "</code>"
   ]
  },
  {
   "cell_type": "markdown",
   "id": "dc08ae1d",
   "metadata": {
    "slideshow": {
     "slide_type": "slide"
    }
   },
   "source": [
    "\n",
    "# Goodreads: fase di scraping\n",
    "\n",
    "* il seguente gragmento di codice accede alla pagina dell'utente, invoca la precedente funzione **parse_review_list** e, ottenuti gli identificatori di ogni review, parsa la review corrispondente con la funzione **parse_review**"
   ]
  },
  {
   "cell_type": "markdown",
   "id": "a3b8c80c",
   "metadata": {
    "slideshow": {
     "slide_type": "fragment"
    }
   },
   "source": [
    "<code>\n",
    "    <span style=\"color:red\"># supponiamo che target_user_id identifichi l'utente di interesse </span>   \n",
    "    page_num=1\n",
    "    review_ids = set()\n",
    "    <span style=\"color:red\"># costruzione dell URL che dientifica la pagina dell'utente </span> \n",
    "    REVIEW_LIST_URL = \"https://www.goodreads.com/review/list/{}?view=reviews&shelf=read&page={}\"\n",
    "    print(REVIEW_LIST_URL.format(target_user_id, page_num))\n",
    "    response = session.get(REVIEW_LIST_URL.format(target_user_id, page_num))\n",
    "    <span style=\"color:red\"># la funzione parse_review_list </span> \n",
    "    <span style=\"color:red\"># è quella che restituisce la lista degli identificatori delle reviews </span>\n",
    "    <span style=\"color:red\"># costruzione dell URL che identifica ogni singola review </span> \n",
    "    REVIEW_URL = \"https://www.goodreads.com/review/show/{}\"\n",
    "    for id in parse_review_list(response.text):\n",
    "           print(\"parsing review id {}: {}\".format(id, REVIEW_URL.format(id)))\n",
    "           review_ids.add(id)\n",
    "           response = session.get(REVIEW_URL.format(id))\n",
    "    <span style=\"color:red\"># parse_review effettua il parsing della singola review </span>  \n",
    "           r = parse_review(response.text)\n",
    "           print(r)\n",
    "           r['review_id'] = id\n",
    "           writer.writerow(r)\n",
    "    session.close()\n",
    "</code>"
   ]
  },
  {
   "cell_type": "markdown",
   "id": "b56cff5f",
   "metadata": {
    "slideshow": {
     "slide_type": "slide"
    }
   },
   "source": [
    "# Approfondimento: formatting Strings  in Python\n",
    "\n",
    "* nella costruzione delle **URL** è stata usata la funzione **FORMAT** di Python per la formattazione delle stringhe"
   ]
  },
  {
   "cell_type": "code",
   "execution_count": 20,
   "id": "3cec1676",
   "metadata": {
    "slideshow": {
     "slide_type": "fragment"
    }
   },
   "outputs": [
    {
     "name": "stdout",
     "output_type": "stream",
     "text": [
      "My name is Mary, I'm 36\n",
      "My name is Mary, I'm 36\n",
      "My name is Mary, I'm 36\n"
     ]
    }
   ],
   "source": [
    "txt1 = \"My name is {fname}, I'm {age}\".format(fname = \"Mary\", age = 36)\n",
    "txt2 = \"My name is {0}, I'm {1}\".format(\"Mary\",36)\n",
    "txt3 = \"My name is {}, I'm {}\".format(\"Mary\",36)\n",
    "\n",
    "print(txt1)\n",
    "print(txt2)\n",
    "print(txt3)\n"
   ]
  },
  {
   "cell_type": "code",
   "execution_count": 21,
   "id": "cbb1671d",
   "metadata": {
    "slideshow": {
     "slide_type": "fragment"
    }
   },
   "outputs": [
    {
     "name": "stdout",
     "output_type": "stream",
     "text": [
      "I love Science!!\n",
      "Everybody loves Science!!\n",
      "Python is the most widely sought after programming language\n"
     ]
    }
   ],
   "source": [
    "print(\"{0} love {1}!!\".format(\"I\", \"Science\"))\n",
    "print(\"{1} loves {0}!!\".format(\"Science\", \"Everybody\"))\n",
    "print(\"{2} is the most widely {3} after {1} {0}\".format(\"language\",\"programming\", \"Python\", \"sought\"))\n"
   ]
  },
  {
   "cell_type": "markdown",
   "id": "79ea4b01",
   "metadata": {
    "slideshow": {
     "slide_type": "slide"
    }
   },
   "source": [
    "# Reperire le review di un utente su goodReads: inizializzazioni"
   ]
  },
  {
   "cell_type": "code",
   "execution_count": 22,
   "id": "4bc0d8b9",
   "metadata": {
    "slideshow": {
     "slide_type": "fragment"
    }
   },
   "outputs": [],
   "source": [
    "\"\"\"\n",
    "Script per reperire le review effettuate da un certo utente dal sito GoodReads\n",
    "Le review sono scritte su un file CSV\n",
    "Parametri in inout\n",
    "    - email: Email address per accedere a Goodreads\n",
    "    - password: Password per accedere a Goodreads\n",
    "    - target_user_id: User ID dell'utente che vogliamo analizzare\n",
    "\"\"\"\n",
    "\n",
    "from bs4 import BeautifulSoup\n",
    "from csv import DictWriter\n",
    "from datetime import datetime\n",
    "import requests\n"
   ]
  },
  {
   "cell_type": "markdown",
   "id": "b56040f3",
   "metadata": {
    "slideshow": {
     "slide_type": "slide"
    }
   },
   "source": [
    "# Reperire le review di un utente su goodReads: funzione di supporto"
   ]
  },
  {
   "cell_type": "code",
   "execution_count": 23,
   "id": "1bd58e9b",
   "metadata": {
    "slideshow": {
     "slide_type": "fragment"
    }
   },
   "outputs": [],
   "source": [
    "def parse_review_list(html):\n",
    "    soup = BeautifulSoup(html, \"html.parser\")\n",
    "    rows = soup.find_all('tr', class_='review')\n",
    "    rows =rows [:5]\n",
    "    return [row.get('id').replace('review_', '') for row in rows]\n"
   ]
  },
  {
   "cell_type": "markdown",
   "id": "da766a98",
   "metadata": {
    "slideshow": {
     "slide_type": "slide"
    }
   },
   "source": [
    "# Reperire le review di un utente su goodReads: scraping delle review"
   ]
  },
  {
   "cell_type": "code",
   "execution_count": 24,
   "id": "5d004d47",
   "metadata": {
    "slideshow": {
     "slide_type": "fragment"
    }
   },
   "outputs": [],
   "source": [
    "def parse_review(html):\n",
    "    soup = BeautifulSoup(html, \"html.parser\")\n",
    "    title = soup.find('a', class_='bookTitle').get_text()\n",
    "    author = soup.find('a', class_='authorName').get_text()\n",
    "    rating = soup.find('meta', itemprop='ratingValue').get('content')\n",
    "    text = soup.find('div', class_='reviewText')\n",
    "    timeline = soup.find_all('div', class_='readingTimeline__text')\n",
    "\n",
    "    review_date = soup.find('span', itemprop='datePublished').get_text()\n",
    "    if review_date:\n",
    "        review_date = datetime.strptime(review_date.strip(), '%b %d, %Y').strftime('%Y-%m-%d')\n",
    "    else:\n",
    "        review_date = None\n",
    "\n",
    "    for div in timeline[::-1]:\n",
    "        if div.get_text():\n",
    "            date, _, context = div.get_text().strip().partition('\\n')\n",
    "\n",
    "        if 'Finished Reading' in context:\n",
    "            last_finished_date = datetime.strptime(date.strip().replace('  ', ' 0'), '%B %d, %Y').strftime('%Y-%m-%d')\n",
    "            break\n",
    "        else:\n",
    "            last_finished_date = None\n",
    "    return {\n",
    "        'title': title.strip() if title else None,\n",
    "        'author': author.strip() if author else None,\n",
    "        'review_date': review_date,\n",
    "        'last_finished_date':  last_finished_date,\n",
    "        'rating': int(rating) if rating else None,\n",
    "        'text': text.get_text().strip() if text else None\n",
    "    }\n"
   ]
  },
  {
   "cell_type": "markdown",
   "id": "62955715",
   "metadata": {
    "slideshow": {
     "slide_type": "slide"
    }
   },
   "source": [
    "# Reperire le review di un utente su goodReads"
   ]
  },
  {
   "cell_type": "code",
   "execution_count": null,
   "id": "fb4da070",
   "metadata": {
    "slideshow": {
     "slide_type": "fragment"
    }
   },
   "outputs": [],
   "source": [
    "def authenticateAndScrape(email, password, target_user_id):\n",
    "    payload = {\n",
    "        'email': \"laura.ricci@unipi.it\",\n",
    "        'password': \"gmv91ale\",\n",
    "        'utf8': '&#x2713;',\n",
    "        'appActionToken' : \"YUAOBJBmIpJwPj2BSAionpwFb92j2Bgj3D\",\n",
    "        'appAction':'SIGNIN',\n",
    "        'siteState':'ape:MTM0NTdmNzc5NDA2ZjE1MjE1MjVjYTNmZTU0NWM0YjQ=',\n",
    "        'openid.return_to':'ape:aHR0cHM6Ly93d3cuZ29vZHJlYWRzLmNvbS9hcC1oYW5kbGVyL3NpZ24taW4=',\n",
    "        'prevRID':'ape:RjFOUkFRNEQyVFFNVFZCWk5FMjE=',\n",
    "        \"workflowState\" :\"eyJ6aXAiOiJERUYiLCJlbmMiOiJBMjU2R0NNIiwiYWxnIjoiQTI1NktXIn0.-\\\n",
    "        XRkcaD6v0-h7fUlXALXzRu4MyYr82rnNe3cvXXnw77Yn6DBb0ICZA.dML9-x8kob38v2kc.YLPbkkx1GjtH0Df_VXh56gOv60UZJZauvImEq05Z\\\n",
    "        oUF1rgXxTkm0ndqfwtNXijZGuW6dsdCtcZptdHIapuXfaOWGiBYH9u8nsnnu6IZ3smhU9CT0YUXuoWkTjUjPAMlEPyITgGM_z_DZgJSbpQ96WpB\\\n",
    "        TLIRm2kXC2Uw38Ue0zTIgZ7yRoVLkxQv6_KJ3bjBOW08fklmsY6JwE3Q51IrnHaqto3X3OTSMWGP0pHAzu7watbXPCgORbyosHaDLZIBLmgimDUh\\\n",
    "        FldwzXIJxvJ22AJnmdp-5MEflcrkxg4tz9sebq1vRiWiWqtBbphprzaY0nLXaUnbxD_M30at1gMekTO43wMGiAAAsAzhJFtoxr96rtszU6dUCm\\\n",
    "        BF87GKGrEI92ccOpNRq.7RwK_3C4dHpbecUvxnDU1w\",     \n",
    "        \"metadata1\" : \"ECdITeCs:hb2Yw0Q36NS1HePFtpW211u7G3s4qV5ThEU5\\\n",
    "        xWONHBI/JXLcYZ1ibaxiuqoVV25y9WcM5TevtQxCGTvtyonLRhuZYbLD5nIuhWjoFb8+Js3Q15URYfCnqcg5kO/ZMTXRtJXNiaGmu7nWK\\\n",
    "        1kRtMzZ//Ss+Q0QtPRllf8WrUVs9usDgfvYRfy1JxmunzxabwKdx1jm32pG7v7VjijZWpWn9i3DPsz2/wRgbrz7QiZMMtjFdEHNdzgwQ5e\\\n",
    "        Yr/yTLXu20sHuRhzbiow/trmg/Xymqs2kblg+XEd1doYfWTyHfnVjuN17kPAlfoObd/1dElYxsucgasR6g3tegFlc3MfxJUpRdEpGWqFGp\\\n",
    "        7UwZfIGkT4f9+qZSmDMx8bYSarvo+ZG6gnPI7icYKzYHTBQAsQtG4C1bQwvAPwbjBjrixs9zsEVooP6LytmkrHLKL8CblRLvaNty0rDGv4wI\\\n",
    "        o1QgXTkvTyV+h5LE1WW487aGr+HQgTU8/QC0xQ0FPjLV38D6ddm3Drl/63bttZTFkLDwOmElaFrBJ32LpuODck9GIGCGbAmvPFQjqosWIL\\\n",
    "        5btT99nN/RkdJe/i0BROricfhzrPwSc+WiXgCpuNNK6YDWKiWjPCmJra3FJs+vTs4J5z8QgFJ3fOvijI96i7K4msZzpUNKdCH2y0/n4Wa7O\\\n",
    "        bog9TzyINgqGOS/7jYR0N//6tbpXVAXw2JWE8Y9beDISnHLm25kSXsjvdcbLC/G7gUtbJnXgXZhEXl1NRnlP1YX5WS3pPCl7+Swth1d+LW8\\\n",
    "        n5cLHHAmW8sDaDEWaql8xM6qJsgym8hdkif4ehUyAiSlIQk4uOJc81WU+FkOcYJ+1c+n75Sk5yOHa3jBD9WKh1Mc03Dy9WfeYLIBfoEXmw3a\\\n",
    "        CJRhsVYNur7Fape4BapT3YnhYh79uDvi5LPw7W1cp2WVcAIf735cG+c+Ulwf/64rpu3B/ClnjFwoc8iR1TjsjiGD6ZoHSGbN8vcdxL1+J1s/0\\\n",
    "        QhEJ28DQhKYkCrpv+wyPqeBmwp9+mKcecSKDu2Yq5ZDuzRNBxE2dVieXfmpfhsY8RJFR8gyy2LuGU0J6Kd2l1b6r+BZCgM4uyQnZ/uTVgb55\\\n",
    "        bdkpCAijomy3qr0NMxIMe08/L/P3hlyE5+8GawJ/Sivmy4CZyAXrL6TgzbI9/kDmQoWPeTgWRVw8ET6gYd4FLRii3vFjFX7PC2pOrUegYSRy\\\n",
    "        B8lJNnMVCg6Gt4LaJA0yKZj3BwGoArdK3FTYrB7h/+Vv1/j26LdBdCCMyj+lP5ZhYzdSB57bTgiDFGQEOUrtcgUdnKLIzqbC0f09BfD/vCIE\\\n",
    "        6TB782lZ9YjiIIRZ8oRKPzmkZRycutMH9WKs70GrRtV61Wc0oYPD7ll2QcW0VyYRawr0EohFBQLbs3r5EIrJy74XAjy0VqMfovoKD4DGVHkJ\\\n",
    "        JX4SVdSVKU3el+RSbzCdJhuwPWnCFHbJnPRN4aZ7rk1W9/wPPahYtgj2cdZX/4P+/wFT5TMK9iWAPi9vQS2qb/ugBDvRtde/RsJ4r7NzsuSWk\\\n",
    "        CC0Uxttu4kJkNUaXg/SYSSwcTYZzdBm77o0KJKNo7AS5bIPro/vP9N8itbBpSqCu0Gz/qhJWZNpl8ucOQuqY9K/k6MpKeImuRXLC93TN7F0+NK\\\n",
    "        +uLp3i07xTATXWoglCtvntQC/RQX8IicMSBZ498R2oorRsnPRCxfEePCOJEwISR6fSv6KonMAfoU6TK/bBdeXuG8/MGeBOXs97+bBkT4vmeib8\\\n",
    "        DAXBMXlRHAsECM9KRFKkaiAKVMwMK5YtpzN8F6jsPiWhDPvWntno6RTJp/Sqp/ocVCuOGxOQf76uMJ5RPer0XgGMeO1nGKF+NhWoxOprukSPgQ\\\n",
    "        k8sfvxSMtWZWuHR1oZerhdXtnTdv1tQiAaD2UBmL4ZNHvmjRMxXUrPbRq9VKfVL8PO955MXfdvlkgHOKGUJdFXpoN8vZ/eyVj4hTLgmzlQt0lW\\\n",
    "        lfrnTZ/W3E7R1hngPONYwWhLRtCWkuALFhxQKSf1DOc7kG09R49DavmJdwyXPA5+yhV+9Mtbzs0LK5Pvi7xd05bybDTzm17kmQybG/FSJcycdq\\\n",
    "        oYMnu/Ge9139wr/Hk4uTw7m2+dQAngHMEewtzyymDGaDxNeLCQjWYnRFfDRLg5jufLJ3E4A2BEkDy7iGiFFJX7FAMjwoZgjE6+N/NlfD96J54v\\\n",
    "        I9aliscUv2Byqke2j6yYzh/o66WMmOkEcXVi67jnlb7b99ZhwREj3VLtYJKFkcgMAt0XU106YHRHhs3AemK29Bi/FNE36b09rUmknZImBkynlml\\\n",
    "        3Js+XAk0BERCX9XIkxWOZCjJQUsFR0XPzZlX6rOkwKC2JjNP+ihej358PRXIOFxZIw+pq7ByZTdfFnUc0uqKXChOanWmTB2oW4BYX39/t/fgb\\\n",
    "        byR1AC4Bevx5Ox0FvdMELsTBSN51FhTuvj8bAiZVj7D1o77TPKuR5GW65hetwBB+fpOdXFmwYTeoWZBvZMaoXX1E5qFMGRm4rR0EIwLUB4FGq1\\\n",
    "        7ooqOpNjxP5Fb4THPAQkrcZYLRQsi3n1UyqTrRrq+z0zNGHm2ddPQA46+e2Ep3AGeljDD/h54a3QxXwNPk3d3PH8F47w1vJ5xygIdjMWz2+\\\n",
    "        JVCkQGcef9MIVja+9bMU9hp+Nv8E1o2eAlQ3EooyQzTP89Vyj3nVsdFns45ZTNAMJcTSqKBYJpuxYtNzuyUqutoYoT1+GySU1VDSya53utN/\\\n",
    "        LQ7539tlNOt2bo5/mnfyXypZq/dBJCQHbEQCvPvKrDAESkrlTHoH3YbNUH1wB/GWRtMHM8F22vXpcZcqLl7Bqs0LRChk9eYBIwqK698cnwXS+Gwr\\\n",
    "        /uB9ziF2HRw7imGxSxI/iokld17B2hYHN6CIOU7Y2vLf/m1GeE4DySBScn+x5tqXee8SziQpjGRe+z/EfWqWRpD4DDpeB2GLd5jveew5ZReDhyWs\\\n",
    "        1t2wGauc7xlt3nieCDCkMupna5liWGCdlyThm/PF3IZB+c6p24Ja9gqKQzVNO63dj/+pC94pIfcmlFLQ9ddJLC6TtybJmQDvK0j4HHdyL9nAUP1w\\\n",
    "        87dIoZg0CfJSwGcAGrxLaV8WcWt5zsbduotrxIgr4N94pRkNMxCa02+VmHgdUesvmxc8W+hEvg1vFkvO+Q3gzoiHjQq2+TyLC1dTmqljcnLPwA+\\\n",
    "        L493ljRMK7GlP37+o5pq0YJNJPqXGXcxOwCpHKR4WB2YcwyOicI6XBF2oSE2JcTt6uu32Osjx/o7DpQXOrOYhgiZKEhg4ryb1q1cxLCIQl5mHm/\\\n",
    "        YXMMwiWyJTvxzRfFWJ78pejwiGN/QNQ/2VzTXGbg5ZbUfFgLqvAcNh+ln/4Kvzp4qj2pX4D1DY1hlBc2gwY0FTxP2qTKXLAai7r2hG/dbGKOPVd5\\\n",
    "        WF7tQHcR0NJXJjTq3ZA4L1V5A2TE2s8yZzNykS+vhEZPaPjKrcij+C0a2GI/hl6/3dapjgE1ZlPZRNAwHWxDsyYT2mW1VbHwhINAuilkGrlsMF\\\n",
    "        B6TE9PMIR4Uml3+dPs4N9vX8ddzPL96k+DX9TEHBEiFLpnlo1sGaIVTObHbp95+gKnXA0daUluomIvCyLk3LDyDNKfURq5lS6ayT6rMSeiFpwuk\\\n",
    "        P7MBKw+nubebVi+mZ+Bu0IYZyZJjhm/vgRTFhxyp4kldbxN2NlrKZAOlysSJZ2+wCt3/zPueixL0X2Hm5LRN8XFUqvMH7tp9iE3DBXYCVjnScEp\\\n",
    "        hXHuVUVFrIPzcf8IB0wuSXwj6MFnthl0tvUGJF7Rkos+IuKZfPiowUPeH84xHXj+scgSO5IbYx5FCNR6RafEoPudFp4PAwWYGnmO1Z1UvTYI4q3\\\n",
    "        KVGou5j4MNa0Cs8puEaL/Cqyj0+k4it/wCO5shLqEYGgLd6I/BcZjCsLmMTyetZlfAIyGITMFtjDhx+ot+tWUrUPtSZr2bC+3/DdaAOzK8E1Eg\\\n",
    "        UYile3Z4pRha8opTT+UGBOjex/+Mag6mc0Jcolo1zzvPQxydUNzVY67mbvkcS43Ozd3ZeplxXWmalH3XIkBL1I7qopoxrRs5IkEK8FTU/OC5lI\\\n",
    "        HRtgy8WvD4+H8BmeDZISNHyzrM8up3dWCuOrNOZp0AYcrE786YofE1k2p528TbPl30fey3FCkyaZUAH1xPOOVvS3lUVfowe7DTsoV2dtfRRoc4\\\n",
    "        YqNT5qTJe/DCNyRlXOPiWAWkO7ii9gu3GPTVeE4BigDxKkYQcbIx4FMHahjj3GNsxhW/UyPPXsS+OvwG3scQdwAgeQCQ/rXa/o2wVT2m6XMkUZ\\\n",
    "        JukK9Mcoc/eK203j/Lncksh5dWJJB8P0AblYp7i+nFUIhTCwdPZ7Uufkv5/ijtoyfHYk4iWQQKhm4sWcrUe+hNW3yGLHzIou4ou+/uh7RhYJZfo\\\n",
    "        JqMwrRha0C6Wj58F+JyDC20CQ19uJN0BnfaxITzKzFbuyLP4/6LhW6YmjP/TVkhxz8idsLIUBAC5ryxylp3Y9+yds/c7PyXYIbaz192JMq76g6j\\\n",
    "        C4vruJznRwc6aEKvFgkx9+MbVfctLCffhkpGt9hEFgbtm50nfPj7xn1gC0KzFFfTzJTuvfS9NGqJb285LCJrvXYTT3Iqvce0CkV9r53GGnrkl\\\n",
    "        JBNEtb14+SUIjgteKlVKZ4m76leCjQpbOBCaMDqXLRYry31zGwrIMdaGGh4aQxuD3kNm8pGPiLISyPRSBPYX8c6G8TwAhgAKlfDdVXVgUIS8L\\\n",
    "        k/0t/dQq5ajgFccUde9ZyfCKu4jDQmzJAi/eJp7vNywp+rHnCenoj7tO5PTLHEuEqYVsRLUFpY5BKt/YPGUog5wEH0WGcirSRH1SSYHtIiv0ez\\\n",
    "        GGIuLgHhW+53Hxc89vRtBNzbO0Cer4K8gOyP4RtSZR5ccVHQbZZM4Tl6Qh8XyeqeSDFffyfgEHrbas0Ym8qpjQIa2xRIjB8F8uKHg5mSMRhF0\\\n",
    "        6y5ixDU1zVq6CSkGVkBvSIwDCWTm9tgOjmDmQ9JnnyvE3Bm9+oNdYYOwcSQ+0cqyDY58SmhEhxiiH4KXeQ5cvxyv9muuQiwgQkupu+rzBFpIQ\\\n",
    "        0/N6uOyOPoSTc2geH6izA/epoQBUyMysOPsbONLyNHtxALX5M87Cl8/KTt7yatSIiqqaWpRiVWldJ+8Kd3Fw2Wo+3Z8WkG1BRttsPn6QQiWjb\\\n",
    "        GTu2lk6N+lonNpVbMOkFN9WiUU/M6t+HAtGV+3KiBVxs3GYfVXKV1cTjS1bdHbc7zHAuaK4CiJ4vZV2D9j+ozm6wABoKtBAE4vHMrRIQZNyA\\\n",
    "        HmXzjbSlAGYC1yF5VDSSaVMouIHkRyjOWhguOD+ppeQhnwdcrAnLaURTN4zekbk1fR8XMnZAxB5kb9iTHa4f9Db79S/3WBPf7Tl/eQsBLvvFIG\\\n",
    "        yGyCa447/ZzeoEvnSB8FVux0o3EC5x+ZEkjAZ5tx05PD/LzOQekGjQyFwvN7/prm9k1kk9tb8ohWuX8ya33io5LY7qeZyx9qpIheneoS82nAQuq\\\n",
    "        HZbo7ZFWKRdU74qful4ABroDvD82Gf7zrvcsA3SrN9Ph4XBCdAHls+fJxu2PFVAhRm7c4q4mFhtqexKRVg2TotSc/Qmx5AQBz6efFmLoKOV6m8K\\\n",
    "        4reyk8PROLt5rsVFnu6nWn6hXAF6wVQzW/PSd1MhyEdHI0YjHBdKAFxou2M408cp7bi2CnyWR7+zseRf1xMgcX0CEgs3vWtesMGChQO0ggNHCK\\\n",
    "        vSDOui2vny+KPJXrXvi4jkv7V+B6aJcxWfxeoHrIzbZzNc34gGup2cq5pytYP+c07Ox0qIVP5neZMsU2fSVLTx8Jw44gQK16Q0srled7TlsfCf\\\n",
    "        RGBJF+kQck4HfNUgNG39bswZWEG9rxcPaKz1oBqcDeFRn5VpYSxDoOPntmtIcGwhOSOEa3syhycHWOGraqT1YZpb/t0Or1z/xPYnt8+fPjcbpX\\\n",
    "        CgPhE/M0SVZ1SIH9JkrbV7LrSWmG3nI1VVUww626zrr24UNQP3rh3BawFAmlsp5Wt2CSbQoikTROPk4orvwMGMBUkvVV2QAqCSn//dlRyw831n\\\n",
    "        X+EGK3WngM4sonxQ9FxLddThne3TO5pN7d73vPPjA9Q3Z2OCYplCl77GH5NSTxF+MxyOdd/sENv11Mgg8V6FCiWbOAD2zkHuFn79wQL0xguV7W\\\n",
    "        yXCAzBZsnCyhXFXxKrYNdJvnLeGbLLbBZapvObhabHbvqZVWudh7VjnEpN7Pnc6hLhWliUPn2WQVlkg1+ZorB+v9/8PwhPhgt72K73BvyYVfa+\\\n",
    "        3sPgEsNc99YwZBCxw3p/P9vM2f+Jv2o83LOdlv5QUAt1/sPI7phjUT+LhyBKHg7VXOAy0zN46OlstWvdhnXn4QN8UrtHfugL2WUNQ1VuUfMkJK\\\n",
    "        JiIcjobEJPWdscYD4MF9QWFlA6p4EuJlb7sfl8Cq8KjVmEyYSJsaWaEnXQGXagDqMvM1orgmUnIQnCdLhO6CV1ObtvQO++semvF0RW+HH+kOS\\\n",
    "        83wbkRgCCvpi02otdcknpO7BUGCpJ7MJ+fAWnPGs2ouDaQHBfpp5YpUEb36Ux5M7Ub+DwB8xEFpdIVIvA6oox06CXbD9aUBgQ7pPEMvanQhZw\\\n",
    "        eKNhFaqHQ2B3HZFHYKiz+3MPie5WTvZphKo/eDEhQ2YBrJ1JG4LKtrFLZjOCc8xl5qokYyZ1Br7QPCuME2IqzS4gFnFOB5BkWT9saXAu647gAg\\\n",
    "        2myD8Qg/gb3IdxUU5AnN4qL2+BmBNwjHuh4YCYCWpWqRskTWmk2EsjxJqaaq0cb9t8RAXGqlfYfJpKr640owK7OldsbNZmPUjpEjDPFaBm/0zr\\\n",
    "        LkSk97nwOJmPOijqnwqWJD5UN+LO1EbgJfogEEIHu5Bi1hUX8DpU97Q3cgzK3hN9+BJ9LP0ER02eEOZOQ4pqevZble1UPPm3IHm0/KHQKzsCw3\\\n",
    "        vWg/mZbD+dhqoJ1TO2pGXuBg8tSvAY3uBsHEoGc2l8+3lE7rk5ePDYgKwBRlfEgKUWE7OSaVudrDDsPl6xAYH2cTMTWf4i54dHVGOLqxxiTs6\\\n",
    "        IY6X3/ua/40NcQSpFUpjtrOkU5uB+Riet/dAvCG2f2gqOT7rIX/v1zlP8L+2pBoAGZhXlNjdXfqGsdJKXWgrzUsV01/XB5rwE4ddDzpa/j98F\\\n",
    "        H5pfXjKv0zPJo5Cs5pJ8L8/U+kTTCfvtLQAx7hSFhEMUpZsn2meaEu7bCAl2fkpGEhsaDjsi+zrknkcSCBKyJUYTwoGbOEumoIQ+tjDmxMoD\\\n",
    "        t9iV90TgK23hL9fXRIoQTWigabsqcwohsKSGWfDM4JApN0UsYaHpoJhO23xC73XMBSGQVNbAUYn518gVxxXinXCHPzomHkmrzX+ShSFYFimA\\\n",
    "        ObKBZLoOMajFCfC5ds9AN+8vY1Cp4S4ER+gjDr9sXfJ12za1hXSeZZgfwr7ZxCCXC/xq2MRqMq6IYTw1WgomuyVvKCjfT0+8sBGP2/K/F5pTL\\\n",
    "        X7uSYXyNOE1texaAbjGQTBNzr1zfaBZFLv6QSh8FZV5IFpJu59Ik+1LQsnoYDxyQ6HBZhx/T8rD6s5mWR0ZSYcSnSh43llBOkpZOT5HcPomT\\\n",
    "        pYMZ510WKDmi/NLbu1JLB1GaYR/sjSS2g6ZtX2nMbGnrjkiTRvxHPtDBcgjXW6sxcoIFVULP6vhbVN+Fp/n9sLdHwRT3T6cv8XwlpUmyJn29c\\\n",
    "        A2Owz5TCxfhXEB8LTySar9szEG7brHqnxHEHaJFMiJNDaWOBF0KnzwbUi/c7F6K7swHI52UOce4Qq3SD5ogBIg75pKFw52W3hsbgS19p3CBS3i8\\\n",
    "        QsMDqUeTKhu8QD2NNXqDlJKwdqDd7+P1Hn+u4KQ8/6SeQbmg5fV8JNeHB4JsgKTE+JmytuGGgiq4mbgXSACFwCSgbKjAKHWwan9m/JZh1CqlQz\\\n",
    "        ppsXtTgWuOlDcfqLVQcYt/CGxacrRVqObAR+sud6EsiZgm1AOvrXrTQiVbe+RrlYXTlVPOE02Gq2JhvIYLVHO0Htz3bBqYakMbkh5Gx9wmQhSJNh\\\n",
    "        dAesheAHvbsZzhTsQAEsbpPU8b+vdxwVx1cgtHvjMgXrMZPdr6jbQ2a50p9+s/8pMfGkLkf0vWlcwd4vucX13A8IQlzmXrEQvklbl5iz6NZqjdV\\\n",
    "        6VOL/JT8PJrBPH+6t2tHl7T7Jt5fcQZl6TBP6j6LigpON78CgpqMqVbQZTF7CmDIJcVRbARVUhxD2Fppm319Do0IV9CeoCvvsmQh1N/3tVaiVsE\\\n",
    "        dGQkPTSFEeTWRsFDD37eNwEs4jZ/iNhMhYje0Tr95AY1p0tj599fPLiBCnTql9Q4+qXBCMFSuKrmXO2okwDNzpLjpdMp8BeAMmE6oKn++AH+N1H9\\\n",
    "        teOiQn9VJiJ9vx9mtGklcbBAg7HjVZGRj2ARFGgRfFxvimZL1IZ6/xeHq6nC/VXJrr2sSNmkuvfaJafa+Ml00zFqLPTWr2ongL7OO7Xl1xbvGXPa\\\n",
    "        Ty0G9h0WPiiRzKVYrf7qBD7KQzcZAUDiUI9QNMRP4iseQ7Jfwb8wYVYpfLcXTGNgBtmg=\"\n",
    "    }\n",
    "\n",
    "    session = requests.Session()\n",
    "    LOGIN_URL = \"https://www.goodreads.com/user/sign_in\"\n",
    "\n",
    "    session.headers = {'User-Agent': 'Mozilla/5.0 (Macintosh; Intel Mac OS X 10_15_7) AppleWebKit/537.36 (KHTML, like Gecko) Chrome/85.0.4183.121 Safari/537.36'}\n",
    "    response = session.get(LOGIN_URL)\n",
    "    print(response)\n",
    "\n",
    "    print(f\"attempting to log in as {email}\")\n",
    "    p = session.post(LOGIN_URL, data=payload)\n",
    "    print(\"risposta dopo la post\")\n",
    "    print(response)\n",
    "    \n",
    "    outfile = open('reviews.csv', mode='w')\n",
    "    writer = DictWriter(outfile, fieldnames=[\n",
    "        'review_id', 'title', 'author', 'review_date', 'last_finished_date', 'rating', 'text'\n",
    "    ])\n",
    "    \n",
    "    page_num=1\n",
    "    review_ids = set()\n",
    "    REVIEW_LIST_URL = \"https://www.goodreads.com/review/list/{}?view=reviews&shelf=read&page={}\"\n",
    "\n",
    "    print(REVIEW_LIST_URL.format(target_user_id, page_num))\n",
    "    response = session.get(REVIEW_LIST_URL.format(target_user_id, page_num))\n",
    "    REVIEW_URL = \"https://www.goodreads.com/review/show/{}\"\n",
    "    for id in parse_review_list(response.text):\n",
    "           print(\"parsing review id {}: {}\".format(id, REVIEW_URL.format(id)))\n",
    "           review_ids.add(id)\n",
    "           response = session.get(REVIEW_URL.format(id))\n",
    "           r = parse_review(response.text)\n",
    "           print(r)\n",
    "           r['review_id'] = id\n",
    "           writer.writerow(r)\n",
    "\n",
    "    session.close()\n",
    "    "
   ]
  },
  {
   "cell_type": "markdown",
   "id": "b2d14082",
   "metadata": {
    "slideshow": {
     "slide_type": "slide"
    }
   },
   "source": [
    "# Reperire le review di un utente su goodReads"
   ]
  },
  {
   "cell_type": "code",
   "execution_count": null,
   "id": "20e40d2f",
   "metadata": {
    "slideshow": {
     "slide_type": "fragment"
    }
   },
   "outputs": [],
   "source": [
    "e=input('Enter your email: ')\n",
    "print('Hello, ' + e)\n",
    "print(type(e))\n",
    "p=input('Enter your password: ')\n",
    "print('Hello, ' + p)\n",
    "u=input('Enter user_ID: ')\n",
    "print('Hello, ' + u)\n",
    "\n",
    "authenticateAndScrape(e,p,u)\n",
    "        "
   ]
  },
  {
   "cell_type": "markdown",
   "id": "2a6f6e59",
   "metadata": {
    "slideshow": {
     "slide_type": "slide"
    }
   },
   "source": [
    "# Assignment: Scraping di IMDb, Internet Movie Database\n",
    "\n",
    "* è un sito web di proprietà di Amazon.com che gestisce informazioni su \n",
    "    * film\n",
    "    * attori\n",
    "    * registi\n",
    "    * personale di produzione\n",
    "    * programmi televisivi\n",
    "    * videogiochi. \n",
    "* reperire le valutazioni di tutti gli episodi di **Game of Thrones**"
   ]
  },
  {
   "cell_type": "markdown",
   "id": "84a7a526",
   "metadata": {
    "slideshow": {
     "slide_type": "slide"
    }
   },
   "source": [
    "# Assignment: Scraping Game of Thrones\n",
    "\n",
    "* accedere alla pagina \n",
    "<code>\n",
    "    https://www.imdb.com/title/tt0944947/episodes\n",
    "    \n",
    " </code>\n",
    "     \n",
    "* effettuare lo scraping della pagina per reperire il rating di ogni episodio di ogni stagione\n",
    "     \n",
    "* plottare un barplot in cui si mettono a confronto le valutazione date ai vari episodi della stagione"
   ]
  }
 ],
 "metadata": {
  "celltoolbar": "Slideshow",
  "kernelspec": {
   "display_name": "Python 3 (ipykernel)",
   "language": "python",
   "name": "python3"
  },
  "language_info": {
   "codemirror_mode": {
    "name": "ipython",
    "version": 3
   },
   "file_extension": ".py",
   "mimetype": "text/x-python",
   "name": "python",
   "nbconvert_exporter": "python",
   "pygments_lexer": "ipython3",
   "version": "3.8.10"
  }
 },
 "nbformat": 4,
 "nbformat_minor": 5
}
