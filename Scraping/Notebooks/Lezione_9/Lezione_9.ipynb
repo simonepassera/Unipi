{
 "cells": [
  {
   "cell_type": "markdown",
   "id": "19aae52e",
   "metadata": {
    "slideshow": {
     "slide_type": "slide"
    }
   },
   "source": [
    "<h1><center> WebScraping </h1>\n",
    "<h1><center> Anno Accademico 2022-2023 </h1>\n",
    "<h1><center>  Docente: Laura Ricci </h1>\n",
    "<h1><center>  Lezione 11 </h1>\n",
    "<h1><center>  WebScarping in Python: </h1> \n",
    "<h1><center>    introduzione a BeautifulSoup </h1>  \n",
    "<h1><center> 1 Marzo 2023 </h1>"
   ]
  },
  {
   "cell_type": "markdown",
   "id": "8f67095e",
   "metadata": {
    "slideshow": {
     "slide_type": "slide"
    }
   },
   "source": [
    "# La libreria BeautifulSoup\n",
    "\n",
    "<code>\n",
    "\"Beautiful soup, so rich and green,\n",
    "Waiting in a hot tureen!\n",
    "Who for such dainties would not stop?\n",
    "Soup of everithing, beutiful Soup!\"\n",
    "</code>\n",
    "\n",
    "*[Lewis Carroll Alice's Adventures in Wonderland, Mock Turtle song]*\n",
    "    \n",
    "* perchè questo nome?\n",
    "    * **tag soup**: indica come molte pagine **HTML** siano create in modo caotico, uilizzando, letteralmente **\"una zuppa di tag\"**\n",
    "    * le funzioni di **BeautifulSoup** sono in  grado di parsare queste **zuppe di tag** e renderle **belle**, ovvero strutturate.   "
   ]
  },
  {
   "cell_type": "markdown",
   "id": "4cb2490a",
   "metadata": {
    "slideshow": {
     "slide_type": "slide"
    }
   },
   "source": [
    "# La libreria BeautifulSoup\n",
    "\n",
    "* non appartiene alle librerie standard di Python\n",
    "\n",
    "* quindi è necessario installarla\n",
    "\n",
    "<code>\n",
    "pip install beautifulsoup4\n",
    "</code>\n",
    "\n",
    "* 3 librerie per lo scraping in **Python**: **BeautifulSoup**, **Scrapy**, **Selenium**\n"
   ]
  },
  {
   "cell_type": "code",
   "execution_count": 1,
   "id": "8c399b14",
   "metadata": {
    "slideshow": {
     "slide_type": "fragment"
    }
   },
   "outputs": [
    {
     "name": "stdout",
     "output_type": "stream",
     "text": [
      "<class 'bs4.BeautifulSoup'>\n",
      "<title>Laura Ricci --- Home Page</title>\n"
     ]
    }
   ],
   "source": [
    "from urllib.request import urlopen\n",
    "from bs4 import BeautifulSoup\n",
    "html = urlopen('https://pages.di.unipi.it/ricci/')\n",
    "bs = BeautifulSoup(html.read(), 'html.parser')\n",
    "print(type(bs))\n",
    "print(bs.title)"
   ]
  },
  {
   "cell_type": "markdown",
   "id": "5419e06a",
   "metadata": {
    "slideshow": {
     "slide_type": "slide"
    }
   },
   "source": [
    "# La libreria BeautifulSoup\n",
    "\n",
    "* per creare un oggetto **BeautifulSoup**, sono necessari due parametri\n",
    "    * il primo è il testo **HTML** che deve essere parsato e trasformato nell'oggetto **BeautifulSoup**\n",
    "    * il secondo specifica il tipo di parser che si vuole utilizzare per parsare il sorgente e creare l'oggetto **BeautifulSoup**\n",
    "        * **html parser** incluso nella libreria standard di **Python 3**, non richiede ulteriori informazioni\n",
    "        * **lxml** \n",
    "            * migliore nella gestione di pagine malfomate\n",
    "            * prestazioni migliori\n",
    "            * richiesta una installazione esplicita\n",
    "        * **html5lib** \n",
    "            * migliore funzinalità per pagine mal formate\n",
    "* tutte le librerie sono in grado di estrarre qualsiasi contenuto da un file **HTML**, purchè questo contenuto sia identificabile con un tag, a cui sono eventualmente associate un insieme di proprietà"
   ]
  },
  {
   "cell_type": "markdown",
   "id": "f19e06df",
   "metadata": {
    "slideshow": {
     "slide_type": "slide"
    }
   },
   "source": [
    "# Gestire le eccezioni\n",
    "\n",
    "* è molto importante gestire le eccezioni che possono essere sollevate durante un processo di scraping"
   ]
  },
  {
   "cell_type": "code",
   "execution_count": 2,
   "id": "afcc6cd8",
   "metadata": {
    "slideshow": {
     "slide_type": "fragment"
    }
   },
   "outputs": [
    {
     "name": "stdout",
     "output_type": "stream",
     "text": [
      "Laura Ricci --- Home Page\n",
      "<title>Laura Ricci --- Home Page</title>\n"
     ]
    }
   ],
   "source": [
    "from urllib.request import urlopen\n",
    "from urllib.error import HTTPError\n",
    "from bs4 import BeautifulSoup\n",
    "\n",
    "def getTitle(url):\n",
    "    try:\n",
    "        html = urlopen(url)\n",
    "    except HTTPError as e:\n",
    "        print(e)\n",
    "        return None\n",
    "    except URLError as e:\n",
    "        print(\"The server could not be found!\") \n",
    "        return None\n",
    "    bs = BeautifulSoup(html.read(), 'html.parser')\n",
    "    title = bs.title\n",
    "    print (title.text)\n",
    "    return title\n",
    "\n",
    "title = getTitle('https://pages.di.unipi.it/ricci/')\n",
    "\n",
    "if title == None:\n",
    "    print('Title could not be found')\n",
    "else:\n",
    "    print(title)\n",
    "    "
   ]
  },
  {
   "cell_type": "markdown",
   "id": "e852a394",
   "metadata": {
    "slideshow": {
     "slide_type": "slide"
    }
   },
   "source": [
    "# Approfondimenti, le eccezioni \n",
    "\n",
    "* eccezioni sollevate nel tentativo di connettersi al server e reperire la pagina\n",
    "    * **HTTPError**\n",
    "        * la pagina non puà essere reperita sul server\n",
    "        * c'è un errore nel reperimento della pagina\n",
    "    * **URLError**\n",
    "        * la **URL** non è valida\n",
    "        * il server non è raggiungibile\n",
    "* meccanismo delle eccezioni molto simile a quello di **JAVA**"
   ]
  },
  {
   "cell_type": "markdown",
   "id": "efbba9c7",
   "metadata": {
    "slideshow": {
     "slide_type": "slide"
    }
   },
   "source": [
    "# Gestire le eccezioni\n",
    "\n",
    "* ogni volta che si tenta di effettuare l'accesso a un tag che non esiste, BeautifulSoup restituisce l'oggetto **None**\n",
    "    * nell'esempio sotto \n",
    "    <code>\n",
    "    title = bs.hf\n",
    "    </code>   \n",
    "    * il tag \"hf\" è inesistente\n",
    "* viene restituito **None**\n",
    "* se si tenta poi di accedere a qualche proprietà dell'oggetto **None**\n",
    "    * viene sollevata una eccezione di tipo **Attribute Error**\n",
    "    * inserita nell'esempio sotto accedendo volutamente a un tag inesistente"
   ]
  },
  {
   "cell_type": "code",
   "execution_count": 4,
   "id": "692d14a3",
   "metadata": {
    "slideshow": {
     "slide_type": "fragment"
    }
   },
   "outputs": [
    {
     "ename": "AttributeError",
     "evalue": "'NoneType' object has no attribute 'text'",
     "output_type": "error",
     "traceback": [
      "\u001b[1;31m---------------------------------------------------------------------------\u001b[0m",
      "\u001b[1;31mAttributeError\u001b[0m                            Traceback (most recent call last)",
      "Cell \u001b[1;32mIn[4], line 19\u001b[0m\n\u001b[0;32m     16\u001b[0m     \u001b[38;5;28mprint\u001b[39m (title\u001b[38;5;241m.\u001b[39mtext)\n\u001b[0;32m     17\u001b[0m     \u001b[38;5;28;01mreturn\u001b[39;00m title\n\u001b[1;32m---> 19\u001b[0m title \u001b[38;5;241m=\u001b[39m \u001b[43mgetTitle\u001b[49m\u001b[43m(\u001b[49m\u001b[38;5;124;43m'\u001b[39;49m\u001b[38;5;124;43mhttps://pages.di.unipi.it/ricci/\u001b[39;49m\u001b[38;5;124;43m'\u001b[39;49m\u001b[43m)\u001b[49m\n\u001b[0;32m     20\u001b[0m \u001b[38;5;28;01mif\u001b[39;00m title \u001b[38;5;241m==\u001b[39m \u001b[38;5;28;01mNone\u001b[39;00m:\n\u001b[0;32m     21\u001b[0m     \u001b[38;5;28mprint\u001b[39m(\u001b[38;5;124m'\u001b[39m\u001b[38;5;124mTitle could not be found\u001b[39m\u001b[38;5;124m'\u001b[39m)\n",
      "Cell \u001b[1;32mIn[4], line 16\u001b[0m, in \u001b[0;36mgetTitle\u001b[1;34m(url)\u001b[0m\n\u001b[0;32m     14\u001b[0m bs \u001b[38;5;241m=\u001b[39m BeautifulSoup(html\u001b[38;5;241m.\u001b[39mread(), \u001b[38;5;124m'\u001b[39m\u001b[38;5;124mhtml.parser\u001b[39m\u001b[38;5;124m'\u001b[39m)\n\u001b[0;32m     15\u001b[0m title \u001b[38;5;241m=\u001b[39m bs\u001b[38;5;241m.\u001b[39mhf\n\u001b[1;32m---> 16\u001b[0m \u001b[38;5;28mprint\u001b[39m (\u001b[43mtitle\u001b[49m\u001b[38;5;241;43m.\u001b[39;49m\u001b[43mtext\u001b[49m)\n\u001b[0;32m     17\u001b[0m \u001b[38;5;28;01mreturn\u001b[39;00m title\n",
      "\u001b[1;31mAttributeError\u001b[0m: 'NoneType' object has no attribute 'text'"
     ]
    }
   ],
   "source": [
    "from urllib.request import urlopen\n",
    "from urllib.error import HTTPError\n",
    "from bs4 import BeautifulSoup\n",
    "\n",
    "def getTitle(url):\n",
    "    try:\n",
    "        html = urlopen(url)\n",
    "    except HTTPError as e:\n",
    "        print(e)\n",
    "        return None\n",
    "    except URLError as e:\n",
    "        print(\"The server could not be found!\")\n",
    "        return None\n",
    "    bs = BeautifulSoup(html.read(), 'html.parser')\n",
    "    title = bs.hf\n",
    "    print (title.text)\n",
    "    return title\n",
    "\n",
    "title = getTitle('https://pages.di.unipi.it/ricci/')\n",
    "if title == None:\n",
    "    print('Title could not be found')\n",
    "else:\n",
    "    print(title.text)"
   ]
  },
  {
   "cell_type": "markdown",
   "id": "83abd896",
   "metadata": {
    "slideshow": {
     "slide_type": "slide"
    }
   },
   "source": [
    "# Gestire le eccezioni\n",
    "\n",
    "* quando si accede a un tag è opportuno intercettare sempre una eventuale eccezione di tipo **AttributeError**"
   ]
  },
  {
   "cell_type": "code",
   "execution_count": 5,
   "id": "9d3a0d27",
   "metadata": {
    "slideshow": {
     "slide_type": "fragment"
    }
   },
   "outputs": [
    {
     "name": "stdout",
     "output_type": "stream",
     "text": [
      "HTTP Error 404: Not Found\n",
      "Title could not be found\n"
     ]
    }
   ],
   "source": [
    "from urllib.request import urlopen\n",
    "from urllib.error import HTTPError\n",
    "from bs4 import BeautifulSoup\n",
    "\n",
    "def getTitle(url):\n",
    "    try:\n",
    "        html = urlopen(url)\n",
    "    except HTTPError as e:\n",
    "        print(e)\n",
    "        return None\n",
    "    except URLError as e:\n",
    "        print(\"The server could not be found!\")\n",
    "    try:\n",
    "        bs = BeautifulSoup(html.read(), 'html.parser')\n",
    "        title = bs.title\n",
    "    except AttributeError as e:\n",
    "        return None\n",
    "    return title\n",
    "\n",
    "title = getTitle('https://pages.di.unipi.it/ricco/')\n",
    "if title == None:\n",
    "    print('Title could not be found')\n",
    "else:\n",
    "    print(title)"
   ]
  },
  {
   "cell_type": "markdown",
   "id": "293f2281",
   "metadata": {
    "slideshow": {
     "slide_type": "slide"
    }
   },
   "source": [
    "# Esplorare l'albero del contenuto HTML\n",
    "\n",
    "* le varie componenti del documento restituito da **BeautifulSoap** possono essere accedute come proprità dell'oggetto **soup**, che corrispondono ai vari **tag**\n",
    "\n",
    "* un modo più efficace e più generale è quello di user le funzioni\n",
    "    * **find(tag, attributes)**\n",
    "    * **findAll(tag,attributes)**\n",
    "    \n",
    "* sono funzioni utilizzate per ricercare un tag caratterizzati da  certi attributi all'interno di un oggetto **BeautifulSoup**\n",
    "     * prevedono anche un insieme di altri attributi, di minore importanza"
   ]
  },
  {
   "cell_type": "markdown",
   "id": "a6eece98",
   "metadata": {
    "slideshow": {
     "slide_type": "slide"
    }
   },
   "source": [
    "# Scraping con find() e findAll()\n",
    "\n",
    "* scraping della pagina **https://en.wikipedia.org/wiki/List_of_countries_by_greenhouse_gas_emissions**\n",
    "\n"
   ]
  },
  {
   "cell_type": "markdown",
   "id": "acd74bb8",
   "metadata": {
    "slideshow": {
     "slide_type": "fragment"
    }
   },
   "source": [
    "<center>\n",
    "<img src=\"Figures/wikipedia.jpg\" style=\"width:1400px;height:400px;\"/>"
   ]
  },
  {
   "cell_type": "markdown",
   "id": "4cfb4dec",
   "metadata": {
    "slideshow": {
     "slide_type": "slide"
    }
   },
   "source": [
    "# Scraping con find() e findAll()"
   ]
  },
  {
   "cell_type": "code",
   "execution_count": 3,
   "id": "d2054360",
   "metadata": {
    "slideshow": {
     "slide_type": "fragment"
    }
   },
   "outputs": [
    {
     "name": "stdout",
     "output_type": "stream",
     "text": [
      "243\n",
      "<tr>\n",
      "<th scope=\"row\"><span class=\"flagicon\"><img alt=\"\" class=\"thumbborder\" data-file-height=\"900\" data-file-width=\"1350\" decoding=\"async\" height=\"15\" src=\"//upload.wikimedia.org/wikipedia/en/thumb/4/41/Flag_of_India.svg/23px-Flag_of_India.svg.png\" srcset=\"//upload.wikimedia.org/wikipedia/en/thumb/4/41/Flag_of_India.svg/35px-Flag_of_India.svg.png 1.5x, //upload.wikimedia.org/wikipedia/en/thumb/4/41/Flag_of_India.svg/45px-Flag_of_India.svg.png 2x\" width=\"23\"/> </span><a href=\"/wiki/India\" title=\"India\">India</a> (see: <a class=\"mw-redirect\" href=\"/wiki/Greenhouse_gas_emissions_by_India\" title=\"Greenhouse gas emissions by India\">Greenhouse gas emissions by India</a>)\n",
      "</th>\n",
      "<td>3,347\n",
      "</td>\n",
      "<td>\n",
      "</td>\n",
      "<td>2870\n",
      "</td>\n",
      "<td>2217\n",
      "</td></tr>\n"
     ]
    }
   ],
   "source": [
    "from urllib.request import urlopen\n",
    "from bs4 import BeautifulSoup\n",
    "html = urlopen('https://en.wikipedia.org/wiki/List_of_countries_by_greenhouse_gas_emissions')\n",
    "bs = BeautifulSoup(html.read(), 'html.parser')\n",
    "row1 = bs.findAll('tr')\n",
    "print(len(row1))\n",
    "print(row1[5])"
   ]
  },
  {
   "cell_type": "markdown",
   "id": "6e44c952",
   "metadata": {
    "slideshow": {
     "slide_type": "slide"
    }
   },
   "source": [
    "# Gaming by scraping\n",
    "\n",
    "* esempio di scraping pubblicato in https://www.geeksforgeeks.org/quote-guessing-game-using-web-scraping-in-python/\n",
    "\n",
    "* a \"guessing game\" effettuato con il supporto di uno scraper\n",
    "\n",
    "* il gioco utilizza informazione reperite sul sito https://quotes.toscrape.com/\n",
    "\n",
    "    * il sito pubblica frasi pronuciate da personaggi celebri\n",
    "    \n",
    "* il gioco è il seguente\n",
    "\n",
    "    * viene proposta all'utente una frase celebre (**quote**), senza svelarne l'autore\n",
    "    * vengono date k possibilità  di indovinare chi è l'autore della frase\n",
    "    * ad ogni round, viene dato un suggerimento all'autore circa la data di nascita dell'autore, la prima lettera del nome dell'autore, la seconda lettera del nome dell'autore, etc,\n",
    "    * viene indicato all'utente se ha indovinato, oppure dopo tutti k tentativi senza successo, viene comunicata la sconfitta\n",
    "    "
   ]
  },
  {
   "cell_type": "markdown",
   "id": "2e4a20bd",
   "metadata": {
    "slideshow": {
     "slide_type": "slide"
    }
   },
   "source": [
    "# Gaming by scraping"
   ]
  },
  {
   "cell_type": "markdown",
   "id": "e6f3dcc1",
   "metadata": {
    "slideshow": {
     "slide_type": "fragment"
    }
   },
   "source": [
    "<center>\n",
    "<img src=\"Figures/Quotes.jpg\" style=\"width:900px;height:700px;\"/>"
   ]
  },
  {
   "cell_type": "markdown",
   "id": "13cae733",
   "metadata": {
    "slideshow": {
     "slide_type": "slide"
    }
   },
   "source": [
    "# Gaming by scraping\n",
    "\n",
    "* in fondo alla pagina il bottone **next** per passare alla pagina successiva"
   ]
  },
  {
   "cell_type": "markdown",
   "id": "c99fb25d",
   "metadata": {
    "slideshow": {
     "slide_type": "fragment"
    }
   },
   "source": [
    "<center>\n",
    "<img src=\"Figures/Quotesinspect2.jpg\" style=\"width:1000px;height:600px;\"/>"
   ]
  },
  {
   "cell_type": "markdown",
   "id": "ec7b5dba",
   "metadata": {
    "slideshow": {
     "slide_type": "slide"
    }
   },
   "source": [
    "# Prima fase: reperimento contenuti via scraping\n",
    "\n",
    "* ricercare nella pagina tutte le \"quotes\" (frasi celebri)\n",
    "* memorizzare le informazioni relative in una lista **Python**\n",
    "* memorizzare per ogni frase le informazioni utili per fornire i suggerimenti \n",
    "    * il testo\n",
    "    * l'autore\n",
    "    * la bibliografia dell'autore\n",
    "* queste informazioni servono per implementare il gioco\n",
    "    * mostrare il testo\n",
    "    * dare i suggerimenti al giovcatore"
   ]
  },
  {
   "cell_type": "markdown",
   "id": "033f1f0f",
   "metadata": {
    "slideshow": {
     "slide_type": "slide"
    }
   },
   "source": [
    "# Ispezionare il codice HTML di Quotes.toScrape\n",
    "\n",
    "* utilizzare il tasto \"ispeziona\" disponibile su qualunque browser"
   ]
  },
  {
   "cell_type": "markdown",
   "id": "0636ac88",
   "metadata": {
    "slideshow": {
     "slide_type": "fragment"
    }
   },
   "source": [
    "<center>\n",
    "<img src=\"Figures/Quotesinspect1.jpg\" style=\"width:1000px;height:600px;\"/>"
   ]
  },
  {
   "cell_type": "markdown",
   "id": "028f529f",
   "metadata": {
    "slideshow": {
     "slide_type": "slide"
    }
   },
   "source": [
    "# Individuare nella pagina frasi e tag associati\n",
    "\n",
    "* scorrendo la pagina, si osserva che \n",
    "    * le \"quotes\" sono individuate dalla class \"quote\"\n",
    "    * all'interno dellla **class quote** esiste\n",
    "        * una **class text** che individua il testo della \"quote\"\n",
    "        * una **class author** che individua l'autore della \"quote\"\n",
    "        * una **class tags** che individua i tag  associati alla \"quote\""
   ]
  },
  {
   "cell_type": "markdown",
   "id": "83797186",
   "metadata": {
    "slideshow": {
     "slide_type": "fragment"
    }
   },
   "source": [
    "<center>\n",
    "<img src=\"Figures/Quotesinspect3.jpg\" style=\"width:1200px;height:500px;\"/>"
   ]
  },
  {
   "cell_type": "markdown",
   "id": "0a06cb97",
   "metadata": {
    "slideshow": {
     "slide_type": "slide"
    }
   },
   "source": [
    "# Importare le librerie e preparare la url\n",
    "\n",
    "* notare come la **url** sia composta da due parti diverse\n",
    "    * una parte fissa\n",
    "    * una parte variabile"
   ]
  },
  {
   "cell_type": "code",
   "execution_count": 9,
   "id": "12ced053",
   "metadata": {
    "slideshow": {
     "slide_type": "fragment"
    }
   },
   "outputs": [],
   "source": [
    "import requests\n",
    "from bs4 import BeautifulSoup\n",
    "from csv import writer\n",
    "from time import sleep\n",
    "from random import choice\n",
    " \n",
    "# la lista in cui memorizzeremo tutte le quote\n",
    "all_quotes = []\n",
    " \n",
    "# questa parte della URL rimane fissa\n",
    "base_url = \"http://quotes.toscrape.com/\"\n",
    " \n",
    "# questa parte della url indica la pagina visitata, all'inizio la prima pagina\n",
    "# il numero di pafina verrà incrementato mano a mano che il codice scorrerà le pagine\n",
    "url = \"/page/1\""
   ]
  },
  {
   "cell_type": "markdown",
   "id": "0f72a74a",
   "metadata": {
    "slideshow": {
     "slide_type": "slide"
    }
   },
   "source": [
    "# Collezionare le quotes in una lista"
   ]
  },
  {
   "cell_type": "code",
   "execution_count": 10,
   "id": "e96e37f3",
   "metadata": {
    "slideshow": {
     "slide_type": "fragment"
    }
   },
   "outputs": [
    {
     "name": "stdout",
     "output_type": "stream",
     "text": [
      "Now Scrapinghttp://quotes.toscrape.com//page/1\n",
      "Now Scrapinghttp://quotes.toscrape.com//page/2/\n",
      "Now Scrapinghttp://quotes.toscrape.com//page/3/\n",
      "Now Scrapinghttp://quotes.toscrape.com//page/4/\n",
      "Now Scrapinghttp://quotes.toscrape.com//page/5/\n",
      "Now Scrapinghttp://quotes.toscrape.com//page/6/\n",
      "Now Scrapinghttp://quotes.toscrape.com//page/7/\n",
      "Now Scrapinghttp://quotes.toscrape.com//page/8/\n",
      "Now Scrapinghttp://quotes.toscrape.com//page/9/\n",
      "Now Scrapinghttp://quotes.toscrape.com//page/10/\n",
      "100\n",
      "{'text': '“It is our choices, Harry, that show what we truly are, far more than our abilities.”', 'author': 'J.K. Rowling', 'bio-link': '/author/J-K-Rowling'}\n"
     ]
    }
   ],
   "source": [
    "while url:\n",
    "   \n",
    "    # concateniamo la url base con la url di pagina e effettuiamo la richiesta\n",
    "    # costruzione di una stringa con i valori di due variabili\n",
    "    \n",
    "    res = requests.get(f\"{base_url}{url}\")\n",
    "    print(f\"Now Scraping{base_url}{url}\")\n",
    "    \n",
    "    soup = BeautifulSoup(res.text, \"html.parser\")\n",
    " \n",
    "    # estraiamo le \"quotes\" da questa pagina\n",
    "    quotes = soup.find_all('div', class_=\"quote\")\n",
    " \n",
    "    for quote in quotes:\n",
    "        all_quotes.append({\n",
    "            \"text\": quote.find(class_=\"text\").get_text(),\n",
    "            \"author\": quote.find(class_=\"author\").get_text(),\n",
    "            \"bio-link\": quote.find(\"a\")[\"href\"]\n",
    "        })\n",
    "    next_btn = soup.find(class_=\"next\")\n",
    "    url = next_btn.find(\"a\")[\"href\"] if next_btn else None\n",
    "print(len(all_quotes))\n",
    "print(all_quotes[1])"
   ]
  },
  {
   "cell_type": "markdown",
   "id": "059c0820",
   "metadata": {
    "slideshow": {
     "slide_type": "slide"
    }
   },
   "source": [
    "# Collezionare le quotes in una lista: osservazioni sul codice\n",
    "\n",
    "* si individuano tutti gli elementi con tag=**div** e con **classe=quotes** sono **quotes** con una **find_all**\n",
    "     <code>\n",
    "     quotes = soup.find_all('div', class_=\"quote\")\n",
    "     </code>\n",
    "* si analizza ogni elemento restituito, e le sue proprietà, inserendole in una lista (Python)\n",
    "    <code>\n",
    "    \"text\": quote.find(class_=\"text\").get_text(),\n",
    "    \"author\": quote.find(class_=\"author\").get_text(),\n",
    "    \"bio-link\": quote.find(\"a\")[\"href\"]\n",
    "     </code>\n",
    "* dopo aver effettuato lo scraping di una pagina, si passa alla pagina successiva, ricercando  il bottone in fondo alla pagina e individuando il link associato al bottone\n",
    "     <code>\n",
    "     next_btn = soup.find(class_=\"next\") \n",
    "     url = next_btn.find(\"a\")[\"href\"]\n",
    "     </code>\n",
    "* segue il link se diverso da **None**, altrimenti esce dal while, tutte le pagine sono state visitate \n",
    "* la struttura dati costruita è una lista di dictionaries"
   ]
  },
  {
   "cell_type": "markdown",
   "id": "48dda833",
   "metadata": {
    "slideshow": {
     "slide_type": "slide"
    }
   },
   "source": [
    "# Fase di gioco"
   ]
  },
  {
   "cell_type": "code",
   "execution_count": 11,
   "id": "b9b3701b",
   "metadata": {
    "slideshow": {
     "slide_type": "fragment"
    }
   },
   "outputs": [
    {
     "name": "stdout",
     "output_type": "stream",
     "text": [
      "Here's a quote:  \n",
      "“The more that you read, the more things you will know. The more that you learn, the more places you'll go.”\n",
      "Who said this quote? Guesses remaining 4Darwin\n",
      "Here's a hint: The author was born on March 02, 1904in Springfield, MA, The United States\n",
      "Who said this quote? Guesses remaining 3Capote\n",
      "Here's a hint: The author's first name starts with: D\n",
      "Who said this quote? Guesses remaining 2Donald\n",
      "Here's a hint: The author's last name starts with: S\n",
      "Who said this quote? Guesses remaining 1Shiller\n",
      "Sorry, you ran out of guesses. The answer was Dr. Seuss\n"
     ]
    }
   ],
   "source": [
    "quote = choice(all_quotes)\n",
    "# print (type(quote))\n",
    "\n",
    "remaining_guesses = 4\n",
    "print(\"Here's a quote:  \")\n",
    "print(quote[\"text\"])\n",
    " \n",
    "guess = ''\n",
    "while guess.lower() != quote[\"author\"].lower() and remaining_guesses > 0:\n",
    "    guess = input(\n",
    "        f\"Who said this quote? Guesses remaining {remaining_guesses}\")\n",
    "     \n",
    "    if guess == quote[\"author\"]:\n",
    "        print(\"CONGRATULATIONS!!! YOU GOT IT RIGHT\")\n",
    "        break\n",
    "    remaining_guesses -= 1\n",
    "     \n",
    "    if remaining_guesses == 3:\n",
    "        res = requests.get(f\"{base_url}{quote['bio-link']}\")\n",
    "        soup = BeautifulSoup(res.text, \"html.parser\")\n",
    "        birth_date = soup.find(class_=\"author-born-date\").get_text()\n",
    "        birth_place = soup.find(class_=\"author-born-location\").get_text()\n",
    "        print(\n",
    "            f\"Here's a hint: The author was born on {birth_date}{birth_place}\")\n",
    "     \n",
    "    elif remaining_guesses == 2:\n",
    "        print(\n",
    "            f\"Here's a hint: The author's first name starts with: {quote['author'][0]}\")\n",
    "     \n",
    "    elif remaining_guesses == 1:\n",
    "        last_initial = quote[\"author\"].split(\" \")[1][0]\n",
    "        print(\n",
    "            f\"Here's a hint: The author's last name starts with: {last_initial}\")\n",
    "    else:\n",
    "        print(\n",
    "            f\"Sorry, you ran out of guesses. The answer was {quote['author']}\")"
   ]
  },
  {
   "cell_type": "markdown",
   "id": "95e360a1",
   "metadata": {
    "slideshow": {
     "slide_type": "slide"
    }
   },
   "source": [
    "# Collezionare le quotes in una lista: osservazioni sul codice\n",
    "\n",
    "<code>\n",
    "from random import choice\n",
    "quote = choice(all_quotes)\n",
    "</code>\n",
    "\n",
    "* il metodo **choice()** restituisce un elemento scelto in modo casuale da una sequenza\n",
    "* la sequenza può essere una stringa, una lista, una tupla o qualsasi tipo di sequenza\n",
    "* nel nsotro caso restituisce un lemento della lista, che è a sua volta un **dictionary**"
   ]
  },
  {
   "cell_type": "markdown",
   "id": "040acd66",
   "metadata": {
    "slideshow": {
     "slide_type": "slide"
    }
   },
   "source": [
    "# Scraping Coingecko"
   ]
  },
  {
   "cell_type": "markdown",
   "id": "5884fed5",
   "metadata": {
    "slideshow": {
     "slide_type": "fragment"
    }
   },
   "source": [
    "<center>\n",
    "<img src=\"Figures/Coingecko.jpg\" style=\"width:1200px;height:500px;\"/>"
   ]
  },
  {
   "cell_type": "markdown",
   "id": "8d3315ad",
   "metadata": {
    "slideshow": {
     "slide_type": "slide"
    }
   },
   "source": [
    "# Scraping Coingecko"
   ]
  },
  {
   "cell_type": "code",
   "execution_count": 12,
   "id": "19c2f485",
   "metadata": {
    "slideshow": {
     "slide_type": "fragment"
    }
   },
   "outputs": [],
   "source": [
    "import json\n",
    "import requests\n",
    "from bs4 import BeautifulSoup\n",
    "\n",
    "\n",
    "def fetch_coingecko_html():\n",
    "    # effettua una richiesta a CoinGecko\n",
    "    r = requests.get(\"https://www.coingecko.com\")\n",
    "    if r.status_code == 200:\n",
    "        # se la richiesta ha successi restituisci il testo\n",
    "        return r.text\n",
    "    else:\n",
    "        # altrimenti solleva una eccezione\n",
    "        raise Exception(\"an error occurred while fetching coingecko html\") "
   ]
  },
  {
   "cell_type": "markdown",
   "id": "cbad12e5",
   "metadata": {
    "slideshow": {
     "slide_type": "slide"
    }
   },
   "source": [
    "# Scraping CoinGecko"
   ]
  },
  {
   "cell_type": "code",
   "execution_count": 13,
   "id": "969d42b3",
   "metadata": {
    "slideshow": {
     "slide_type": "fragment"
    }
   },
   "outputs": [],
   "source": [
    "def extract_crypto_info(html):\n",
    "    # parse the HTML content with Beautiful Soup\n",
    "    soup = BeautifulSoup(html, \"html.parser\")\n",
    "\n",
    "    # find all the cryptocurrency elements\n",
    "    coin_table = soup.find(\"div\", {\"class\": \"coin-table\"})\n",
    "    crypto_elements = coin_table.find_all(\"tr\")[1:]\n",
    "\n",
    "    # iterate through our cryptocurrency elements\n",
    "    cryptos = []\n",
    "    for crypto in crypto_elements:\n",
    "        # extract the information needed using our observations\n",
    "        cryptos.append({\n",
    "            \"name\": crypto.find(\"td\", {\"class\": \"coin-name\"})[\"data-sort\"],\n",
    "            \"price\": crypto.find(\"td\", {\"class\": \"td-price\"}).text.strip(),\n",
    "            \"change_1h\": crypto.find(\"td\", {\"class\": \"td-change1h\"}).text.strip(),\n",
    "            \"change_24h\": crypto.find(\"td\", {\"class\": \"td-change24h\"}).text.strip(),\n",
    "            \"change_7d\": crypto.find(\"td\", {\"class\": \"td-change7d\"}).text.strip(),\n",
    "            \"volume\": crypto.find(\"td\", {\"class\": \"td-liquidity_score\"}).text.strip(),\n",
    "            \"market_cap\": crypto.find(\"td\", {\"class\": \"td-market_cap\"}).text.strip()\n",
    "        })\n",
    "\n",
    "    return cryptos"
   ]
  },
  {
   "cell_type": "markdown",
   "id": "ed62eec8",
   "metadata": {
    "slideshow": {
     "slide_type": "slide"
    }
   },
   "source": [
    "# Scraping CoinGecko: osservazioni sul codice\n",
    "\n",
    "<code>\n",
    "crypto_elements = coin_table.find_all(\"tr\")[1:]\n",
    "</code>\n",
    "\n",
    "* restituisce tutti gli elementi con tag **tr (table row)**, a parte il primo\n",
    "    * la prima riga è una riga di intestazione e non va considerta\n",
    "    \n",
    "<code>\n",
    "\"price\": crypto.find(\"td\", {\"class\": \"td-price\"}).text.strip()\n",
    "</code>\n",
    "\n",
    "* all'interno della riga ricerca l'elemento **td, table element**, individuato da **\"class\":\"td-price\"**\n",
    "* restituisce una lista di dictionaries"
   ]
  },
  {
   "cell_type": "markdown",
   "id": "f25bb7e9",
   "metadata": {
    "slideshow": {
     "slide_type": "slide"
    }
   },
   "source": [
    "# Scraping CoinGecko"
   ]
  },
  {
   "cell_type": "code",
   "execution_count": 14,
   "id": "c0df65e4",
   "metadata": {
    "slideshow": {
     "slide_type": "fragment"
    }
   },
   "outputs": [
    {
     "name": "stdout",
     "output_type": "stream",
     "text": [
      "{'name': 'Bitcoin', 'price': '$23,393.37', 'change_1h': '0.5%', 'change_24h': '-1.3%', 'change_7d': '-3.1%', 'volume': '$28,752,962,681', 'market_cap': '$451,270,797,739'} \n",
      "\n",
      "{'name': 'Ethereum', 'price': '$1,633.97', 'change_1h': '0.5%', 'change_24h': '-1.3%', 'change_7d': '-0.6%', 'volume': '$7,935,978,915', 'market_cap': '$196,703,523,094'} \n",
      "\n",
      "{'name': 'Tether', 'price': '$0.999795', 'change_1h': '-0.1%', 'change_24h': '-0.0%', 'change_7d': '0.0%', 'volume': '$35,641,164,375', 'market_cap': '$71,022,219,699'} \n",
      "\n",
      "{'name': 'BNB', 'price': '$298.56', 'change_1h': '0.4%', 'change_24h': '-1.3%', 'change_7d': '-4.5%', 'volume': '$399,105,595', 'market_cap': '$47,076,701,455'} \n",
      "\n",
      "{'name': 'USD Coin', 'price': '$0.999986', 'change_1h': '0.0%', 'change_24h': '-0.0%', 'change_7d': '0.0%', 'volume': '$3,439,250,518', 'market_cap': '$43,002,837,602'} \n",
      "\n",
      "{'name': 'XRP', 'price': '$0.378617', 'change_1h': '0.6%', 'change_24h': '-1.2%', 'change_7d': '-4.2%', 'volume': '$945,805,003', 'market_cap': '$19,278,997,036'} \n",
      "\n",
      "{'name': 'OKB', 'price': '$50.23', 'change_1h': '0.9%', 'change_24h': '-1.6%', 'change_7d': '-4.0%', 'volume': '$52,445,230', 'market_cap': '$12,379,964,817'} \n",
      "\n",
      "{'name': 'Cardano', 'price': '$0.349083', 'change_1h': '0.4%', 'change_24h': '-3.3%', 'change_7d': '-10.2%', 'volume': '$244,948,470', 'market_cap': '$12,218,045,922'} \n",
      "\n",
      "{'name': 'Dogecoin', 'price': '$0.080620652101', 'change_1h': '0.4%', 'change_24h': '-1.6%', 'change_7d': '-5.7%', 'volume': '$294,665,390', 'market_cap': '$11,154,073,526'} \n",
      "\n",
      "{'name': 'Polygon', 'price': '$1.21', 'change_1h': '1.1%', 'change_24h': '-1.5%', 'change_7d': '-13.4%', 'volume': '$471,210,467', 'market_cap': '$10,935,521,380'} \n",
      "\n",
      "{'name': 'Binance USD', 'price': '$1.00', 'change_1h': '0.0%', 'change_24h': '0.0%', 'change_7d': '0.0%', 'volume': '$6,465,934,598', 'market_cap': '$9,855,263,964'} \n",
      "\n",
      "{'name': 'Lido Staked Ether', 'price': '$1,631.46', 'change_1h': '0.4%', 'change_24h': '-1.3%', 'change_7d': '-0.5%', 'volume': '$18,545,825', 'market_cap': '$9,291,740,571'} \n",
      "\n",
      "{'name': 'Solana', 'price': '$22.00', 'change_1h': '0.9%', 'change_24h': '-1.9%', 'change_7d': '-9.0%', 'volume': '$347,082,114', 'market_cap': '$8,330,672,644'} \n",
      "\n",
      "{'name': 'Polkadot', 'price': '$6.29', 'change_1h': '0.5%', 'change_24h': '-2.3%', 'change_7d': '-12.2%', 'volume': '$242,828,413', 'market_cap': '$7,602,223,953'} \n",
      "\n",
      "{'name': 'Shiba Inu', 'price': '$0.000011968092', 'change_1h': '0.8%', 'change_24h': '-2.2%', 'change_7d': '-8.7%', 'volume': '$211,116,599', 'market_cap': '$7,050,135,871'} \n",
      "\n",
      "{'name': 'Litecoin', 'price': '$94.64', 'change_1h': '0.2%', 'change_24h': '-2.7%', 'change_7d': '-0.4%', 'volume': '$493,673,474', 'market_cap': '$6,858,352,536'} \n",
      "\n",
      "{'name': 'TRON', 'price': '$0.069541795890', 'change_1h': '0.1%', 'change_24h': '-1.0%', 'change_7d': '0.2%', 'volume': '$264,225,728', 'market_cap': '$6,357,872,394'} \n",
      "\n",
      "{'name': 'Avalanche', 'price': '$17.28', 'change_1h': '0.5%', 'change_24h': '-1.6%', 'change_7d': '-14.8%', 'volume': '$151,765,774', 'market_cap': '$5,604,589,060'} \n",
      "\n",
      "{'name': 'Dai', 'price': '$0.999054', 'change_1h': '-0.1%', 'change_24h': '0.1%', 'change_7d': '-0.0%', 'volume': '$195,042,708', 'market_cap': '$5,010,002,663'} \n",
      "\n",
      "{'name': 'Uniswap', 'price': '$6.61', 'change_1h': '0.3%', 'change_24h': '-2.5%', 'change_7d': '-4.5%', 'volume': '$71,531,768', 'market_cap': '$4,983,355,189'} \n",
      "\n",
      "{'name': 'Cosmos Hub', 'price': '$12.39', 'change_1h': '0.7%', 'change_24h': '-2.6%', 'change_7d': '-8.7%', 'volume': '$115,242,646', 'market_cap': '$3,621,204,435'} \n",
      "\n",
      "{'name': 'Wrapped Bitcoin', 'price': '$23,415.59', 'change_1h': '0.5%', 'change_24h': '-1.1%', 'change_7d': '-3.0%', 'volume': '$161,566,265', 'market_cap': '$3,585,439,327'} \n",
      "\n",
      "{'name': 'Toncoin', 'price': '$2.42', 'change_1h': '0.2%', 'change_24h': '-3.2%', 'change_7d': '-1.5%', 'volume': '$32,568,240', 'market_cap': '$3,569,661,211'} \n",
      "\n",
      "{'name': 'Chainlink', 'price': '$7.24', 'change_1h': '0.6%', 'change_24h': '-2.6%', 'change_7d': '-6.2%', 'volume': '$293,413,563', 'market_cap': '$3,553,843,952'} \n",
      "\n",
      "{'name': 'LEO Token', 'price': '$3.33', 'change_1h': '-0.0%', 'change_24h': '0.1%', 'change_7d': '-1.3%', 'volume': '$287,065', 'market_cap': '$3,103,267,460'} \n",
      "\n",
      "{'name': 'Ethereum Classic', 'price': '$20.91', 'change_1h': '0.8%', 'change_24h': '-1.4%', 'change_7d': '-6.9%', 'volume': '$120,264,844', 'market_cap': '$2,920,326,056'} \n",
      "\n",
      "{'name': 'Monero', 'price': '$149.67', 'change_1h': '0.2%', 'change_24h': '-2.1%', 'change_7d': '-5.1%', 'volume': '$88,383,164', 'market_cap': '$2,713,307,179'} \n",
      "\n",
      "{'name': 'Filecoin', 'price': '$6.77', 'change_1h': '1.1%', 'change_24h': '-5.4%', 'change_7d': '-15.9%', 'volume': '$366,190,415', 'market_cap': '$2,674,379,774'} \n",
      "\n",
      "{'name': 'Bitcoin Cash', 'price': '$131.06', 'change_1h': '0.5%', 'change_24h': '-2.2%', 'change_7d': '-7.6%', 'volume': '$442,343,497', 'market_cap': '$2,538,038,627'} \n",
      "\n",
      "{'name': 'Lido DAO', 'price': '$2.94', 'change_1h': '-0.4%', 'change_24h': '-2.6%', 'change_7d': '1.2%', 'volume': '$160,840,739', 'market_cap': '$2,501,029,088'} \n",
      "\n",
      "{'name': 'Stellar', 'price': '$0.087493791181', 'change_1h': '0.3%', 'change_24h': '-0.7%', 'change_7d': '-5.5%', 'volume': '$52,609,859', 'market_cap': '$2,312,418,672'} \n",
      "\n",
      "{'name': 'Aptos', 'price': '$12.78', 'change_1h': '1.3%', 'change_24h': '-1.5%', 'change_7d': '-8.2%', 'volume': '$345,692,044', 'market_cap': '$2,174,621,042'} \n",
      "\n",
      "{'name': 'Cronos', 'price': '$0.076848617393', 'change_1h': '0.8%', 'change_24h': '-2.9%', 'change_7d': '-8.4%', 'volume': '$22,089,316', 'market_cap': '$1,940,463,573'} \n",
      "\n",
      "{'name': 'VeChain', 'price': '$0.026784258645', 'change_1h': '1.0%', 'change_24h': '-4.5%', 'change_7d': '-9.2%', 'volume': '$66,999,273', 'market_cap': '$1,940,071,834'} \n",
      "\n",
      "{'name': 'NEAR Protocol', 'price': '$2.23', 'change_1h': '0.4%', 'change_24h': '-3.0%', 'change_7d': '-11.0%', 'volume': '$86,074,289', 'market_cap': '$1,924,977,365'} \n",
      "\n",
      "{'name': 'Hedera', 'price': '$0.068293964383', 'change_1h': '1.3%', 'change_24h': '-2.5%', 'change_7d': '-17.1%', 'volume': '$43,584,368', 'market_cap': '$1,910,216,811'} \n",
      "\n",
      "{'name': 'Quant', 'price': '$126.24', 'change_1h': '0.7%', 'change_24h': '-0.6%', 'change_7d': '-7.7%', 'volume': '$19,323,933', 'market_cap': '$1,835,865,628'} \n",
      "\n",
      "{'name': 'ApeCoin', 'price': '$4.95', 'change_1h': '0.3%', 'change_24h': '-3.1%', 'change_7d': '-10.2%', 'volume': '$107,630,162', 'market_cap': '$1,821,911,691'} \n",
      "\n",
      "{'name': 'Algorand', 'price': '$0.242347', 'change_1h': '0.6%', 'change_24h': '-3.5%', 'change_7d': '-10.8%', 'volume': '$58,360,184', 'market_cap': '$1,721,075,876'} \n",
      "\n",
      "{'name': 'Internet Computer', 'price': '$5.86', 'change_1h': '1.4%', 'change_24h': '-3.9%', 'change_7d': '-12.8%', 'volume': '$48,067,687', 'market_cap': '$1,707,638,024'} \n",
      "\n",
      "{'name': 'The Graph', 'price': '$0.153795', 'change_1h': '0.9%', 'change_24h': '-4.3%', 'change_7d': '-6.2%', 'volume': '$74,598,830', 'market_cap': '$1,356,493,035'} \n",
      "\n",
      "{'name': 'EOS', 'price': '$1.22', 'change_1h': '0.3%', 'change_24h': '1.7%', 'change_7d': '0.6%', 'volume': '$192,735,118', 'market_cap': '$1,328,616,374'} \n",
      "\n",
      "{'name': 'Stacks', 'price': '$0.932301', 'change_1h': '1.1%', 'change_24h': '-3.4%', 'change_7d': '27.2%', 'volume': '$265,729,662', 'market_cap': '$1,262,026,409'} \n",
      "\n",
      "{'name': 'The Sandbox', 'price': '$0.681693', 'change_1h': '0.5%', 'change_24h': '-2.7%', 'change_7d': '-11.0%', 'volume': '$130,163,754', 'market_cap': '$1,228,335,661'} \n",
      "\n",
      "{'name': 'Fantom', 'price': '$0.442119', 'change_1h': '0.8%', 'change_24h': '-3.7%', 'change_7d': '-13.2%', 'volume': '$218,817,462', 'market_cap': '$1,225,249,653'} \n",
      "\n",
      "{'name': 'Flow', 'price': '$1.14', 'change_1h': '1.1%', 'change_24h': '-3.5%', 'change_7d': '-9.2%', 'volume': '$23,682,272', 'market_cap': '$1,174,103,564'} \n",
      "\n",
      "{'name': 'TrueUSD', 'price': '$0.999857', 'change_1h': '-0.1%', 'change_24h': '-0.1%', 'change_7d': '0.1%', 'volume': '$46,983,030', 'market_cap': '$1,161,886,880'} \n",
      "\n",
      "{'name': 'MultiversX', 'price': '$46.24', 'change_1h': '0.6%', 'change_24h': '-4.7%', 'change_7d': '-6.5%', 'volume': '$48,068,890', 'market_cap': '$1,159,005,735'} \n",
      "\n",
      "{'name': 'Decentraland', 'price': '$0.633242', 'change_1h': '0.9%', 'change_24h': '-2.8%', 'change_7d': '-9.6%', 'volume': '$71,724,874', 'market_cap': '$1,153,348,524'} \n",
      "\n",
      "{'name': 'Theta Network', 'price': '$1.15', 'change_1h': '0.8%', 'change_24h': '-3.8%', 'change_7d': '-3.4%', 'volume': '$24,212,394', 'market_cap': '$1,147,110,398'} \n",
      "\n",
      "{'name': 'Aave', 'price': '$79.63', 'change_1h': '0.4%', 'change_24h': '-2.5%', 'change_7d': '-6.2%', 'volume': '$57,898,691', 'market_cap': '$1,135,094,324'} \n",
      "\n",
      "{'name': 'Axie Infinity', 'price': '$9.64', 'change_1h': '0.5%', 'change_24h': '-3.2%', 'change_7d': '-8.7%', 'volume': '$38,986,774', 'market_cap': '$1,113,526,608'} \n",
      "\n",
      "{'name': 'Tezos', 'price': '$1.16', 'change_1h': '1.0%', 'change_24h': '-2.4%', 'change_7d': '-19.1%', 'volume': '$30,740,905', 'market_cap': '$1,069,614,996'} \n",
      "\n",
      "{'name': 'Frax', 'price': '$1.00', 'change_1h': '0.1%', 'change_24h': '0.0%', 'change_7d': '0.1%', 'volume': '$17,840,343', 'market_cap': '$1,040,029,526'} \n",
      "\n",
      "{'name': 'Terra Luna Classic', 'price': '$0.000167761700', 'change_1h': '0.3%', 'change_24h': '1.9%', 'change_7d': '2.4%', 'volume': '$141,815,283', 'market_cap': '$991,912,587'} \n",
      "\n",
      "{'name': 'Synthetix Network', 'price': '$2.89', 'change_1h': '1.1%', 'change_24h': '-4.1%', 'change_7d': '15.5%', 'volume': '$93,343,879', 'market_cap': '$908,979,367'} \n",
      "\n",
      "{'name': 'KuCoin', 'price': '$8.87', 'change_1h': '0.9%', 'change_24h': '-0.1%', 'change_7d': '0.6%', 'volume': '$1,371,243', 'market_cap': '$861,077,075'} \n",
      "\n",
      "{'name': 'NEO', 'price': '$12.19', 'change_1h': '0.4%', 'change_24h': '-4.5%', 'change_7d': '-10.1%', 'volume': '$60,097,243', 'market_cap': '$859,580,129'} \n",
      "\n",
      "{'name': 'Rocket Pool', 'price': '$43.84', 'change_1h': '0.2%', 'change_24h': '-7.0%', 'change_7d': '-11.5%', 'volume': '$10,606,895', 'market_cap': '$840,779,675'} \n",
      "\n",
      "{'name': 'Huobi', 'price': '$5.17', 'change_1h': '0.3%', 'change_24h': '-1.3%', 'change_7d': '-4.1%', 'volume': '$11,853,541', 'market_cap': '$838,997,853'} \n",
      "\n",
      "{'name': 'ImmutableX', 'price': '$0.987619', 'change_1h': '1.2%', 'change_24h': '-6.3%', 'change_7d': '-3.0%', 'volume': '$32,506,655', 'market_cap': '$837,819,497'} \n",
      "\n",
      "{'name': 'Frax Share', 'price': '$11.13', 'change_1h': '0.2%', 'change_24h': '-7.2%', 'change_7d': '6.2%', 'volume': '$57,714,053', 'market_cap': '$827,277,071'} \n",
      "\n",
      "{'name': 'Mina Protocol', 'price': '$0.962536', 'change_1h': '0.8%', 'change_24h': '-0.1%', 'change_7d': '-2.3%', 'volume': '$95,102,949', 'market_cap': '$822,893,203'} \n",
      "\n",
      "{'name': 'Maker', 'price': '$885.53', 'change_1h': '-0.2%', 'change_24h': '-4.8%', 'change_7d': '16.5%', 'volume': '$77,021,601', 'market_cap': '$799,390,224'} \n",
      "\n",
      "{'name': 'Dash', 'price': '$71.60', 'change_1h': '0.4%', 'change_24h': '-2.5%', 'change_7d': '-2.5%', 'volume': '$84,738,280', 'market_cap': '$799,045,489'} \n",
      "\n",
      "{'name': 'Bitcoin SV', 'price': '$41.43', 'change_1h': '0.6%', 'change_24h': '-0.3%', 'change_7d': '-5.1%', 'volume': '$39,279,004', 'market_cap': '$798,264,400'} \n",
      "\n",
      "{'name': 'Klaytn', 'price': '$0.254592', 'change_1h': '0.7%', 'change_24h': '-8.2%', 'change_7d': '-16.9%', 'volume': '$106,737,038', 'market_cap': '$783,543,544'} \n",
      "\n",
      "{'name': 'Pax Dollar', 'price': '$0.998015', 'change_1h': '-0.2%', 'change_24h': '-0.3%', 'change_7d': '0.4%', 'volume': '$671,980', 'market_cap': '$775,206,863'} \n",
      "\n",
      "{'name': 'Curve DAO', 'price': '$0.983409', 'change_1h': '0.7%', 'change_24h': '-4.2%', 'change_7d': '-11.1%', 'volume': '$63,321,370', 'market_cap': '$742,630,275'} \n",
      "\n",
      "{'name': 'PancakeSwap', 'price': '$3.90', 'change_1h': '0.5%', 'change_24h': '-1.6%', 'change_7d': '-5.4%', 'volume': '$31,350,313', 'market_cap': '$733,011,592'} \n",
      "\n",
      "{'name': 'Gate', 'price': '$5.14', 'change_1h': '-0.2%', 'change_24h': '-3.7%', 'change_7d': '1.3%', 'volume': '$773,334', 'market_cap': '$725,112,539'} \n",
      "\n",
      "{'name': 'USDD', 'price': '$0.995216', 'change_1h': '-0.1%', 'change_24h': '-0.1%', 'change_7d': '-0.1%', 'volume': '$37,535,324', 'market_cap': '$722,066,339'} \n",
      "\n",
      "{'name': 'Chiliz', 'price': '$0.134514', 'change_1h': '0.7%', 'change_24h': '-1.4%', 'change_7d': '-3.3%', 'volume': '$85,917,791', 'market_cap': '$718,223,123'} \n",
      "\n",
      "{'name': 'BitDAO', 'price': '$0.569244', 'change_1h': '0.2%', 'change_24h': '-2.3%', 'change_7d': '-4.1%', 'volume': '$7,022,897', 'market_cap': '$705,992,862'} \n",
      "\n",
      "{'name': 'BitTorrent', 'price': '$0.000000718750', 'change_1h': '0.3%', 'change_24h': '-2.0%', 'change_7d': '-1.3%', 'volume': '$12,891,070', 'market_cap': '$684,871,045'} \n",
      "\n",
      "{'name': 'eCash', 'price': '$0.000034189798', 'change_1h': '0.8%', 'change_24h': '-2.2%', 'change_7d': '-8.9%', 'volume': '$6,491,032', 'market_cap': '$660,441,267'} \n",
      "\n",
      "{'name': 'IOTA', 'price': '$0.237144', 'change_1h': '0.6%', 'change_24h': '-5.6%', 'change_7d': '-7.1%', 'volume': '$15,950,678', 'market_cap': '$658,355,443'} \n",
      "\n",
      "{'name': 'SingularityNET', 'price': '$0.526200', 'change_1h': '3.1%', 'change_24h': '-2.2%', 'change_7d': '31.9%', 'volume': '$176,279,230', 'market_cap': '$627,586,772'} \n",
      "\n",
      "{'name': 'GMX', 'price': '$71.76', 'change_1h': '0.7%', 'change_24h': '-4.8%', 'change_7d': '-3.8%', 'volume': '$50,735,757', 'market_cap': '$610,508,657'} \n",
      "\n",
      "{'name': 'Bitget Token', 'price': '$0.426875', 'change_1h': '-0.3%', 'change_24h': '-0.4%', 'change_7d': '9.8%', 'volume': '$15,116,602', 'market_cap': '$598,348,399'} \n",
      "\n",
      "{'name': 'cUSDC', 'price': '$0.022760792517', 'change_1h': '0.0%', 'change_24h': '-0.0%', 'change_7d': '-0.1%', 'volume': '$2.96', 'market_cap': '$593,071,120'} \n",
      "\n",
      "{'name': 'Optimism', 'price': '$2.71', 'change_1h': '1.3%', 'change_24h': '-0.5%', 'change_7d': '0.4%', 'volume': '$261,422,999', 'market_cap': '$582,920,162'} \n",
      "\n",
      "{'name': 'Gemini Dollar', 'price': '$0.998944', 'change_1h': '-0.1%', 'change_24h': '-0.2%', 'change_7d': '-0.1%', 'volume': '$1,023,611', 'market_cap': '$561,181,681'} \n",
      "\n",
      "{'name': 'WhiteBIT Token', 'price': '$3.85', 'change_1h': '-0.1%', 'change_24h': '-0.3%', 'change_7d': '-0.7%', 'volume': '$1,134,137', 'market_cap': '$557,760,712'} \n",
      "\n",
      "{'name': 'cDAI', 'price': '$0.022165217626', 'change_1h': '-0.1%', 'change_24h': '0.1%', 'change_7d': '-0.2%', 'volume': '$254.23', 'market_cap': '$543,741,169'} \n",
      "\n",
      "{'name': 'Trust Wallet', 'price': '$1.29', 'change_1h': '0.5%', 'change_24h': '-3.1%', 'change_7d': '-10.0%', 'volume': '$22,257,460', 'market_cap': '$537,065,648'} \n",
      "\n",
      "{'name': 'OKC', 'price': '$29.64', 'change_1h': '1.3%', 'change_24h': '-5.7%', 'change_7d': '-3.8%', 'volume': '$9,913,532', 'market_cap': '$528,728,785'} \n",
      "\n",
      "{'name': 'Edgecoin', 'price': '$0.999801', 'change_1h': '-0.1%', 'change_24h': '-0.1%', 'change_7d': '0.2%', 'volume': '$50,112,420', 'market_cap': '$525,648,277'} \n",
      "\n",
      "{'name': 'Zcash', 'price': '$43.29', 'change_1h': '0.3%', 'change_24h': '-1.8%', 'change_7d': '-9.5%', 'volume': '$39,489,262', 'market_cap': '$523,584,054'} \n",
      "\n",
      "{'name': 'WEMIX', 'price': '$2.14', 'change_1h': '1.4%', 'change_24h': '-4.5%', 'change_7d': '-15.9%', 'volume': '$10,802,800', 'market_cap': '$522,389,810'} \n",
      "\n",
      "{'name': 'Tokenize Xchange', 'price': '$6.35', 'change_1h': '-0.1%', 'change_24h': '-1.3%', 'change_7d': '-0.6%', 'volume': '$6,460,380', 'market_cap': '$507,790,163'} \n",
      "\n",
      "{'name': 'Zilliqa', 'price': '$0.030562790432', 'change_1h': '0.3%', 'change_24h': '-4.1%', 'change_7d': '-13.6%', 'volume': '$34,999,307', 'market_cap': '$494,805,763'} \n",
      "\n",
      "{'name': 'THORChain', 'price': '$1.63', 'change_1h': '0.6%', 'change_24h': '-2.1%', 'change_7d': '-5.1%', 'volume': '$59,969,341', 'market_cap': '$489,810,910'} \n",
      "\n",
      "{'name': 'Osmosis', 'price': '$0.905598', 'change_1h': '0.2%', 'change_24h': '-4.3%', 'change_7d': '-10.3%', 'volume': '$12,931,250', 'market_cap': '$489,413,046'} \n",
      "\n",
      "{'name': 'Fetch.ai', 'price': '$0.462202', 'change_1h': '1.2%', 'change_24h': '-5.3%', 'change_7d': '5.3%', 'volume': '$144,869,018', 'market_cap': '$480,397,248'} \n",
      "\n",
      "{'name': 'Arweave', 'price': '$9.60', 'change_1h': '0.9%', 'change_24h': '-4.4%', 'change_7d': '-14.3%', 'volume': '$42,616,482', 'market_cap': '$479,714,312'} \n",
      "\n",
      "{'name': 'Conflux', 'price': '$0.222381', 'change_1h': '1.9%', 'change_24h': '-8.1%', 'change_7d': '-20.8%', 'volume': '$217,727,214', 'market_cap': '$464,919,014'} \n",
      "\n",
      "{'name': '1inch', 'price': '$0.560779', 'change_1h': '0.5%', 'change_24h': '-5.3%', 'change_7d': '-12.8%', 'volume': '$25,488,307', 'market_cap': '$464,504,591'} \n",
      "\n",
      "{'name': 'Enjin Coin', 'price': '$0.460477', 'change_1h': '0.2%', 'change_24h': '-3.6%', 'change_7d': '-5.4%', 'volume': '$23,258,347', 'market_cap': '$459,978,700'} \n",
      "\n",
      "{'name': 'PAX Gold', 'price': '$1,820.90', 'change_1h': '-0.2%', 'change_24h': '-0.3%', 'change_7d': '0.5%', 'volume': '$7,758,531', 'market_cap': '$458,231,392'} \n",
      "\n"
     ]
    }
   ],
   "source": [
    "# fetch CoinGecko's HTML content\n",
    "html = fetch_coingecko_html()\n",
    "\n",
    "# extract our data from the HTML document\n",
    "cryptos = extract_crypto_info(html)\n",
    "\n",
    "# display the scraper results\n",
    "for crypto in cryptos:\n",
    "    print(crypto, \"\\n\")\n",
    "\n",
    "# save the results locally in JSON\n",
    "with open(\"coingecko.json\", \"w\") as f:\n",
    "    f.write(json.dumps(cryptos, indent=2))"
   ]
  },
  {
   "cell_type": "code",
   "execution_count": null,
   "id": "6e579b4e",
   "metadata": {},
   "outputs": [],
   "source": []
  }
 ],
 "metadata": {
  "celltoolbar": "Slideshow",
  "kernelspec": {
   "display_name": "Python 3 (ipykernel)",
   "language": "python",
   "name": "python3"
  },
  "language_info": {
   "codemirror_mode": {
    "name": "ipython",
    "version": 3
   },
   "file_extension": ".py",
   "mimetype": "text/x-python",
   "name": "python",
   "nbconvert_exporter": "python",
   "pygments_lexer": "ipython3",
   "version": "3.8.10"
  }
 },
 "nbformat": 4,
 "nbformat_minor": 5
}
