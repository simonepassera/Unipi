{
 "cells": [
  {
   "cell_type": "markdown",
   "id": "eb4a88b4",
   "metadata": {
    "slideshow": {
     "slide_type": "slide"
    }
   },
   "source": [
    "<h1><center> Laboratorio di WebScraping </h1>\n",
    "<h1><center> Anno Accademico 2022-2023 </h1>\n",
    "<h1><center>  Docente: Laura Ricci </h1>\n",
    "<h1><center>  Lezione 12 </h1>\n",
    "<h1><center>  BeautifulSoup: </h1> \n",
    "<h1><center>  Navigating and Searching the Tree </h1> \n",
    "<h1><center> 7 Marzo 2023 </h1>"
   ]
  },
  {
   "cell_type": "markdown",
   "id": "47f8d95d",
   "metadata": {
    "slideshow": {
     "slide_type": "slide"
    }
   },
   "source": [
    "# HTML in sintesi"
   ]
  },
  {
   "cell_type": "markdown",
   "id": "6425c69f",
   "metadata": {
    "slideshow": {
     "slide_type": "fragment"
    }
   },
   "source": [
    "* proposto nei primi anni '90  da **Tim Barnes Lee, (CERN)** per scambiare documenti su **Internet**\n",
    "\n",
    "* lo standard attuale **HTML 5: ottobre 2014**\n",
    "\n",
    "* markup language\n",
    "\n",
    "* breve classificazione dei principali **markup tag**\n",
    "    * tag per la strutturazione del documento   \n",
    "       * paragraph: *&lt;p&gt;*\n",
    "       * headers da livello 1 a livello 6: *&lt;h1&gt;,..,&lt;h6&gt;*\n",
    "       * tables: \n",
    "          * *&lt;table&gt;*\n",
    "          * *\\<th\\>*\n",
    "          * *\\<tr\\>*\n",
    "          * *\\<td\\>*\n",
    "       * ordered e unordered lists:  *&lt;ol&gt; &lt;ul&gt;*\n",
    "    * hyperlink verso altri documenti **HTML**\n",
    "       * **anchor tag**: &lt;a&gt;\n",
    "       * &lt;a href=\"https://www.w3schools.com\" Laura Ricci's Home Page</a>&gt;\n",
    "    * tag per inserire contenuto multimediale/fragmenti di programma: ad esempio per inserire immagini\n",
    "         * *\\<img\\>*\n",
    "    \n",
    "* separazione di contenuto e presentazione del contenuto: *CCS*\n",
    "    * presentation-related tag sono attualmente deprecati"
   ]
  },
  {
   "cell_type": "markdown",
   "id": "713756f2",
   "metadata": {
    "slideshow": {
     "slide_type": "slide"
    }
   },
   "source": [
    "# HTML: tag attributes"
   ]
  },
  {
   "cell_type": "markdown",
   "id": "442962b2",
   "metadata": {
    "slideshow": {
     "slide_type": "fragment"
    }
   },
   "source": [
    "<img src=\"Figures/HTMLStructure.jpg\" style=\"width:800px;height:300px;\"/>"
   ]
  },
  {
   "cell_type": "markdown",
   "id": "328c6799",
   "metadata": {
    "slideshow": {
     "slide_type": "fragment"
    }
   },
   "source": [
    "* gli **elementi** del documento sono sempre associati a un **tag**\n",
    "    * possono riferire un contenuto, oppure essere **void**\n",
    "* gli attributi sono nella forma **name=value**, separati da uno spazio bianco e forniscono informazione aggiuntiva sul tag stesso\n",
    "* esempi di attributi di **tag**\n",
    "    *  **&lt;html lang=\"en\"&gt;**: specifica il linguaggio utilizzato nel documento\n",
    "    *  **&lt;meta charset=\"utf-8\"&gt;**: specifica la codifica dei caratteri adottata nel documento\n",
    "    *  **&lt;img src=\"logo.jpg\"&gt;**, specifica\n",
    "        * la *URL* dell'immagine (attributo obbligatorio)\n",
    "        * un testo alternativo da mostrare se l'immagine non può essere reperita (attributo obbligatorio)\n",
    "        * ampiezza e altezza della immagine **facoltativi**\n",
    "* gli elementi possono essere **annidati**\n",
    "* un documento **HTML** ha quindi una struttura a **albero**\n",
    "        "
   ]
  },
  {
   "cell_type": "markdown",
   "id": "f38540cd",
   "metadata": {
    "slideshow": {
     "slide_type": "slide"
    }
   },
   "source": [
    "# HTML: block e inline elements"
   ]
  },
  {
   "cell_type": "markdown",
   "id": "b4442b4c",
   "metadata": {
    "slideshow": {
     "slide_type": "fragment"
    }
   },
   "source": [
    "* **block element** \n",
    "    * quando il contenuto dell'elemento viene visualizzatom il browser inserisce automaticamente una linea prima dell'elemento\n",
    "     e una linea dopo.\n",
    "    * **rectangular element**: viene riservata una zona **rettangolare** a quell'elemento in cui viene visualizzato il contenuto\n",
    "    * usati per dividere il contenuto della pagina in blocchi logici\n",
    "* **inline element** \n",
    "    * marcano una parte del **contenuto** di un **elemento**\n",
    "    * non inserita riga prima e dopo l'elemento\n",
    "    * esempio: **anchor tag**: &lt;a&gt;, posso inserire diversi riferimenti nella stessa linea di testo, senza andare a capo  prima o dopo l'elemento inserito\n"
   ]
  },
  {
   "cell_type": "markdown",
   "id": "d4175303",
   "metadata": {
    "slideshow": {
     "slide_type": "fragment"
    }
   },
   "source": [
    "<img src=\"Figures/Bodyandinline.jpg\" style=\"width:800px;height:300px;\"/>"
   ]
  },
  {
   "cell_type": "markdown",
   "id": "e389c6b1",
   "metadata": {
    "slideshow": {
     "slide_type": "slide"
    }
   },
   "source": [
    "# HTML: il tag \\< div \\>"
   ]
  },
  {
   "cell_type": "markdown",
   "id": "4b069573",
   "metadata": {
    "slideshow": {
     "slide_type": "fragment"
    }
   },
   "source": [
    "*  **&lt;div&gt; division o section tag**\n",
    "    * block element\n",
    "    * empty container (ma comunque un block element) utilizzato  per raggruppare diversi **elementi HTML** e applicare loro alcune regole di stile definite nei **CSS**\n",
    "    * a differenza di tag quali &lt;p&gt; o  &lt;h1&gt; non da alcuna indicazione sulla formattazione dell'elemento stesso\n",
    "    * solo un marcatore di porzioni della pagina"
   ]
  },
  {
   "cell_type": "markdown",
   "id": "658f7725",
   "metadata": {
    "slideshow": {
     "slide_type": "fragment"
    }
   },
   "source": [
    "<table><tr>\n",
    "<td> <img src=\"Figures/DIV1.jpg\" style=\"width:700px;height:500px;\"/>\n",
    "<td> <img src=\"Figures/DIV2.jpg\" style=\"width:700px;height:500px;\"/>\n",
    "</tr></table>"
   ]
  },
  {
   "cell_type": "markdown",
   "id": "d97cbd7c",
   "metadata": {
    "slideshow": {
     "slide_type": "slide"
    }
   },
   "source": [
    "# HTML: il tag \\< span \\>\n",
    "\n",
    "* **\\< span \\>**\n",
    "    * inline element\n",
    "    * un \"container\" di una parte di testo, uno spazio inserito in mezzo a una linea di testo\n",
    "    * consente di applicare a quella porzione di testo delle regole di stile *(CSS)*, oppure riferirlo da *JAVA script*.\n",
    "    * ha effetto sulla porzione di testo solo se fa riferimento a una regola di stile, indicata come attributo del tag\n",
    "    "
   ]
  },
  {
   "cell_type": "markdown",
   "id": "b4ed5dac",
   "metadata": {
    "slideshow": {
     "slide_type": "fragment"
    }
   },
   "source": [
    "<table><tr>\n",
    "<td> <img src=\"Figures/SPAN1.jpg\" style=\"width:700px;height:500px;\"/>\n",
    "<td> <img src=\"Figures/SPAN2.jpg\" style=\"width:700px;height:500px;\"/>\n",
    "</tr></table>"
   ]
  },
  {
   "cell_type": "markdown",
   "id": "b8877f89",
   "metadata": {
    "slideshow": {
     "slide_type": "slide"
    }
   },
   "source": [
    "# HTML 5: i nuovi  tag\n",
    "\n",
    "* **HTML5** ha introdotto altri elementi \"contenitori\" più specifici\n",
    "    * \\<header \\>\n",
    "    * \\<footer \\>\n",
    "    * \\<section \\>\n",
    "    * e molti altri...\n",
    "* viene raccomandato di utilizzare questi nuovi tag, invece del più generico tag **div**\n",
    "    * non sempre utilizzati perchè non supportati da tutti i browser"
   ]
  },
  {
   "cell_type": "markdown",
   "id": "1e6e21e9",
   "metadata": {
    "slideshow": {
     "slide_type": "slide"
    }
   },
   "source": [
    "# Anchors e Hyperlinks\n",
    "\n",
    "* un hyperlink consente di collegarsi\n",
    "    * ad un anchor point all'interno dello stesso documento\n",
    "    * ad un diverso documento\n",
    "    * ad un servizio di tipo diverso (es.: e-mail,...)\n",
    "* l'elemento **anchor**\n",
    "    * è della forma \\<a\\>...\\</a\\>\n",
    "    * può essere usato per definire un hypelink che può essere navigato dall'utente\n",
    "    * può essere anche usato per definire un **anchor point**, all'interno di un documento\n"
   ]
  },
  {
   "cell_type": "markdown",
   "id": "45ea378f",
   "metadata": {
    "slideshow": {
     "slide_type": "fragment"
    }
   },
   "source": [
    "<table><tr>\n",
    "<td> <img src=\"Figures/RicciHTML.jpg\" style=\"width:700px;height:500px;\"/>\n",
    "<td> <img src=\"Figures/RicciBrowser.jpg\" style=\"width:700px;height500px;\"/>\n",
    "</tr></table>"
   ]
  },
  {
   "cell_type": "markdown",
   "id": "865d83b6",
   "metadata": {
    "slideshow": {
     "slide_type": "slide"
    }
   },
   "source": [
    "# URL assolute e relative\n",
    "\n",
    "* è possibile specificare una **URL base** nel'header del documento\n",
    "* i path relatici si  riferiscono a quell **URL**\n",
    "   *  \"\"..\" si riferisce alla directory padre\n",
    "   * \".\" si riferisce alla directory corrente"
   ]
  },
  {
   "cell_type": "markdown",
   "id": "6a37011a",
   "metadata": {
    "slideshow": {
     "slide_type": "slide"
    }
   },
   "source": [
    "# Anchor e id attributes"
   ]
  },
  {
   "cell_type": "markdown",
   "id": "8afe51e2",
   "metadata": {
    "slideshow": {
     "slide_type": "fragment"
    }
   },
   "source": [
    "* possibile stabilire link anche ad elementi dello stesso documento **HTML**\n",
    "    * si può utilizzare l'attributo **id=idName** per identificare univocamente un elemento\n",
    "    * quindi si può utilizzare quell'identificato, all'interno dell'anchor tag, per riferirlo"
   ]
  },
  {
   "cell_type": "markdown",
   "id": "5b11f8b1",
   "metadata": {
    "slideshow": {
     "slide_type": "fragment"
    }
   },
   "source": [
    "<table><tr>\n",
    "<td> <img src=\"Figures/LoreIpsum1.jpg\" style=\"width:700px;height:500px;\"/>\n",
    "<td> <img src=\"Figures/LoreIpsum2.jpg\" style=\"width:700px;height:500px;\"/>\n",
    "</tr></table>"
   ]
  },
  {
   "cell_type": "markdown",
   "id": "4b5ece5e",
   "metadata": {
    "slideshow": {
     "slide_type": "slide"
    }
   },
   "source": [
    "# Scraping con BeautifulSoup\n",
    "\n"
   ]
  },
  {
   "cell_type": "markdown",
   "id": "10326d94",
   "metadata": {
    "slideshow": {
     "slide_type": "fragment"
    }
   },
   "source": [
    "<td> <img src=\"Figures/Soup.jpg\" style=\"width1200px;height:800px;\"/>"
   ]
  },
  {
   "cell_type": "markdown",
   "id": "f5c99812",
   "metadata": {
    "slideshow": {
     "slide_type": "slide"
    }
   },
   "source": [
    "# Scraping con BeautifulSoup\n",
    "\n",
    "* Beautiful Soup è una libreria Python per parsare **HTML**\n",
    "\n",
    "* a partire dal documento **HTML**, crea un **parse tree** che consente di\n",
    "    * navigare su di esso\n",
    "        possibile utilizzando funzioni per passare ai figli di un nodo o al padre di un nodo\n",
    "    * ricercare contenuti basandosi sul nome dei tag e sui loro attributi"
   ]
  },
  {
   "cell_type": "markdown",
   "id": "1510042a",
   "metadata": {
    "slideshow": {
     "slide_type": "fragment"
    }
   },
   "source": [
    "<td> <img src=\"Figures/HTMLTree.jpg\" style=\"width:600px;height:400px;\"/>"
   ]
  },
  {
   "cell_type": "markdown",
   "id": "4ae84e70",
   "metadata": {
    "slideshow": {
     "slide_type": "slide"
    }
   },
   "source": [
    "# Tipi di dato in BeautifulSoup\n",
    "\n",
    "* **BeautifulSoup** object\n",
    "    * rappresenta **tutto l'albero** risultante dal parsing di un documento **HTML**\n",
    "* **Tag** object\n",
    "    * rappresenta un qualsiasi tag **HTML** del documeto \n",
    "    * molte proprietà e metodi associati: nome, attributi,...\n",
    "* **NavigableString** object\n",
    "    * rappresentano il testo all'interno di un **tag**, piuttosto che il tag stesso\n",
    "* **Comment** object\n",
    "    * **HTML comments**\n",
    "    "
   ]
  },
  {
   "cell_type": "code",
   "execution_count": 6,
   "id": "2c5714e1",
   "metadata": {
    "slideshow": {
     "slide_type": "fragment"
    }
   },
   "outputs": [
    {
     "name": "stdout",
     "output_type": "stream",
     "text": [
      "<class 'bs4.element.Comment'>\n"
     ]
    }
   ],
   "source": [
    "from bs4 import BeautifulSoup\n",
    "markup = \"<p><!--Laboratorio Web Scraping--></p>\"\n",
    "soup = BeautifulSoup(markup, 'html.parser')\n",
    "comment = soup.p.string\n",
    "print(type(comment))"
   ]
  },
  {
   "cell_type": "markdown",
   "id": "2ebc25d4",
   "metadata": {
    "slideshow": {
     "slide_type": "slide"
    }
   },
   "source": [
    "# Scraping con BeautifulSoup\n",
    "\n",
    "* osservare il seguente documento **HTML**\n"
   ]
  },
  {
   "cell_type": "markdown",
   "id": "ded06a30",
   "metadata": {
    "slideshow": {
     "slide_type": "fragment"
    }
   },
   "source": [
    "\n",
    "<table><tr>\n",
    "<td> <img src=\"Figures/Programma1.jpg\" style=\"width:700px;height:500px;\"/>\n",
    "<td> <img src=\"Figures/Programma2.jpg\" style=\"width:700px;height:500px;\"/>\n",
    "</tr></table>"
   ]
  },
  {
   "cell_type": "markdown",
   "id": "fe7854b1",
   "metadata": {
    "slideshow": {
     "slide_type": "slide"
    }
   },
   "source": [
    "# Scraping con BeautifulSoup\n",
    "\n",
    "* ogni oggetto **Tag** può  essere riferito mediante un cammino nell'albero dei tag\n"
   ]
  },
  {
   "cell_type": "markdown",
   "id": "a10083a4",
   "metadata": {
    "slideshow": {
     "slide_type": "fragment"
    }
   },
   "source": [
    "<td> <img src=\"Figures/HTMLObject1.jpg\" style=\"width:800px;height:400px;\"/>"
   ]
  },
  {
   "cell_type": "markdown",
   "id": "8c57b927",
   "metadata": {
    "slideshow": {
     "slide_type": "slide"
    }
   },
   "source": [
    "# Scraping con BeautifulSoup\n",
    "\n",
    "* navigare l'albero indicando una sequenza di identificatori"
   ]
  },
  {
   "cell_type": "code",
   "execution_count": 8,
   "id": "e367f77b",
   "metadata": {
    "slideshow": {
     "slide_type": "fragment"
    }
   },
   "outputs": [
    {
     "data": {
      "text/plain": [
       "<title>Laboratorio di Web Scraping</title>"
      ]
     },
     "execution_count": 8,
     "metadata": {},
     "output_type": "execute_result"
    }
   ],
   "source": [
    "from bs4 import BeautifulSoup\n",
    "\n",
    "with open(\"Files/doc.html\") as fp:\n",
    "    soup = BeautifulSoup(fp, \"html.parser\")\n",
    "soup.head.title "
   ]
  },
  {
   "cell_type": "code",
   "execution_count": 9,
   "id": "e05d2afe",
   "metadata": {
    "slideshow": {
     "slide_type": "fragment"
    }
   },
   "outputs": [
    {
     "name": "stdout",
     "output_type": "stream",
     "text": [
      "<class 'bs4.element.Tag'>\n"
     ]
    }
   ],
   "source": [
    "print (type(soup.head.title ))"
   ]
  },
  {
   "cell_type": "code",
   "execution_count": 10,
   "id": "826d296e",
   "metadata": {
    "slideshow": {
     "slide_type": "fragment"
    }
   },
   "outputs": [
    {
     "data": {
      "text/plain": [
       "'1'"
      ]
     },
     "execution_count": 10,
     "metadata": {},
     "output_type": "execute_result"
    }
   ],
   "source": [
    "soup.body.a.text "
   ]
  },
  {
   "cell_type": "code",
   "execution_count": 11,
   "id": "b50e6f3d",
   "metadata": {
    "slideshow": {
     "slide_type": "fragment"
    }
   },
   "outputs": [
    {
     "data": {
      "text/plain": [
       "<b>Programma del Corso </b>"
      ]
     },
     "execution_count": 11,
     "metadata": {},
     "output_type": "execute_result"
    }
   ],
   "source": [
    "soup.body.p.b "
   ]
  },
  {
   "cell_type": "markdown",
   "id": "3d4e5b2e",
   "metadata": {
    "slideshow": {
     "slide_type": "slide"
    }
   },
   "source": [
    "# Ricercare per contenuto: find() e findAll()\n",
    "\n",
    "* tuttavia la ricerca effettuata seguendo una sequenza di **tag** nell'albero diventa impossibile, per pagine di una certa complessità\n",
    "\n",
    "* necessarie funzioni che ricerchino parti del documento in base ai loro tag e alle loro proprietà"
   ]
  },
  {
   "cell_type": "markdown",
   "id": "ae3b8bdd",
   "metadata": {
    "slideshow": {
     "slide_type": "fragment"
    }
   },
   "source": [
    "<td> <img src=\"Figures/HTMLObject2.jpg\" style=\"width:800px;height:400px;\"/>"
   ]
  },
  {
   "cell_type": "markdown",
   "id": "2b668c4a",
   "metadata": {
    "slideshow": {
     "slide_type": "slide"
    }
   },
   "source": [
    "# Searching in the tree: find() e findAll()\n",
    "\n",
    "<code>\n",
    "findAll(tag, attribute, recursive, text, limit, keywords)\n",
    "</code>\n",
    "\n",
    "<code>\n",
    "find(tag, attribute, recursive, text,  keywords)\n",
    "</code>\n",
    "\n",
    "* i parametri\n",
    "    * **tag** una stringa che è il nome di un tag, oppure una lista di tag \n",
    "    * **attributes** un dizionario Python che individua un insieme di attributi del tag selezionato\n",
    "    * **recursive** valore **booleano**\n",
    "       * se **Falso** si ricercano solo i tag al livello più alto nell'albero del documento, altrimenti\n",
    "      la ricerca è ricorsiva\n",
    "       * per default settato a **True**\n",
    "    * **text**  si cerca un match basato sul campo text del tag, piuttosto che attraverso le proprietà del tag\n",
    "    * **limit** indica il numero massimo di match che devono essere restituiti\n",
    "    * **keyword** delezione di tag con un particolare attributo (stesso effetto usando gli attributi)"
   ]
  },
  {
   "cell_type": "markdown",
   "id": "12299ee7",
   "metadata": {
    "slideshow": {
     "slide_type": "slide"
    }
   },
   "source": [
    "# Scraping War and Peace"
   ]
  },
  {
   "cell_type": "code",
   "execution_count": 14,
   "id": "8a54580a",
   "metadata": {
    "slideshow": {
     "slide_type": "fragment"
    }
   },
   "outputs": [],
   "source": [
    "from urllib.request import urlopen\n",
    "from bs4 import BeautifulSoup\n",
    "html = urlopen('http://www.pythonscraping.com/pages/warandpeace.html')\n",
    "bs = BeautifulSoup(html.read(), 'html.parser')\n"
   ]
  },
  {
   "cell_type": "markdown",
   "id": "20574122",
   "metadata": {
    "slideshow": {
     "slide_type": "fragment"
    }
   },
   "source": [
    "<td> <img src=\"Figures/WarAndPeace.jpg\" style=\"width2000px;height:900px;\"/>"
   ]
  },
  {
   "cell_type": "markdown",
   "id": "cd781739",
   "metadata": {
    "slideshow": {
     "slide_type": "slide"
    }
   },
   "source": [
    "# Scraping War and Peace"
   ]
  },
  {
   "cell_type": "code",
   "execution_count": 15,
   "id": "120f3f51",
   "metadata": {
    "slideshow": {
     "slide_type": "fragment"
    }
   },
   "outputs": [
    {
     "data": {
      "text/plain": [
       "[<h1>War and Peace</h1>, <h2>Chapter 1</h2>]"
      ]
     },
     "execution_count": 15,
     "metadata": {},
     "output_type": "execute_result"
    }
   ],
   "source": [
    "bs.findAll(['h1','h2','h3','h4','h5','h6'])\n"
   ]
  },
  {
   "cell_type": "code",
   "execution_count": 16,
   "id": "58a6a2a6",
   "metadata": {
    "slideshow": {
     "slide_type": "fragment"
    }
   },
   "outputs": [
    {
     "data": {
      "text/plain": [
       "[<span class=\"red\">Well, Prince, so Genoa and Lucca are now just family estates of the\n",
       " Buonapartes. But I warn you, if you don't tell me that this means war,\n",
       " if you still try to defend the infamies and horrors perpetrated by\n",
       " that Antichrist- I really believe he is Antichrist- I will have\n",
       " nothing more to do with you and you are no longer my friend, no longer\n",
       " my 'faithful slave,' as you call yourself! But how do you do? I see\n",
       " I have frightened you- sit down and tell me all the news.</span>,\n",
       " <span class=\"green\">Anna\n",
       " Pavlovna Scherer</span>,\n",
       " <span class=\"green\">Empress Marya\n",
       " Fedorovna</span>,\n",
       " <span class=\"green\">Prince Vasili Kuragin</span>,\n",
       " <span class=\"green\">Anna Pavlovna</span>,\n",
       " <span class=\"green\">St. Petersburg</span>,\n",
       " <span class=\"red\">If you have nothing better to do, Count [or Prince], and if the\n",
       " prospect of spending an evening with a poor invalid is not too\n",
       " terrible, I shall be very charmed to see you tonight between 7 and 10-\n",
       " Annette Scherer.</span>,\n",
       " <span class=\"red\">Heavens! what a virulent attack!</span>,\n",
       " <span class=\"green\">the prince</span>,\n",
       " <span class=\"green\">Anna Pavlovna</span>,\n",
       " <span class=\"red\">First of all, dear friend, tell me how you are. Set your friend's\n",
       " mind at rest,</span>,\n",
       " <span class=\"red\">Can one be well while suffering morally? Can one be calm in times\n",
       " like these if one has any feeling?</span>,\n",
       " <span class=\"green\">Anna Pavlovna</span>,\n",
       " <span class=\"red\">You are\n",
       " staying the whole evening, I hope?</span>,\n",
       " <span class=\"red\">And the fete at the English ambassador's? Today is Wednesday. I\n",
       " must put in an appearance there,</span>,\n",
       " <span class=\"green\">the prince</span>,\n",
       " <span class=\"red\">My daughter is\n",
       " coming for me to take me there.</span>,\n",
       " <span class=\"red\">I thought today's fete had been canceled. I confess all these\n",
       " festivities and fireworks are becoming wearisome.</span>,\n",
       " <span class=\"red\">If they had known that you wished it, the entertainment would\n",
       " have been put off,</span>,\n",
       " <span class=\"green\">the prince</span>,\n",
       " <span class=\"red\">Don't tease! Well, and what has been decided about Novosiltsev's\n",
       " dispatch? You know everything.</span>,\n",
       " <span class=\"red\">What can one say about it?</span>,\n",
       " <span class=\"green\">the prince</span>,\n",
       " <span class=\"red\">What has been decided? They have decided that\n",
       " Buonaparte has burnt his boats, and I believe that we are ready to\n",
       " burn ours.</span>,\n",
       " <span class=\"green\">Prince Vasili</span>,\n",
       " <span class=\"green\">Anna Pavlovna</span>,\n",
       " <span class=\"green\">Anna Pavlovna</span>,\n",
       " <span class=\"red\">Oh, don't speak to me of Austria. Perhaps I don't understand\n",
       " things, but Austria never has wished, and does not wish, for war.\n",
       " She is betraying us! Russia alone must save Europe. Our gracious\n",
       " sovereign recognizes his high vocation and will be true to it. That is\n",
       " the one thing I have faith in! Our good and wonderful sovereign has to\n",
       " perform the noblest role on earth, and he is so virtuous and noble\n",
       " that God will not forsake him. He will fulfill his vocation and\n",
       " crush the hydra of revolution, which has become more terrible than\n",
       " ever in the person of this murderer and villain! We alone must\n",
       " avenge the blood of the just one.... Whom, I ask you, can we rely\n",
       " on?... England with her commercial spirit will not and cannot\n",
       " understand the Emperor Alexander's loftiness of soul. She has\n",
       " refused to evacuate Malta. She wanted to find, and still seeks, some\n",
       " secret motive in our actions. What answer did Novosiltsev get? None.\n",
       " The English have not understood and cannot understand the\n",
       " self-abnegation of our Emperor who wants nothing for himself, but only\n",
       " desires the good of mankind. And what have they promised? Nothing! And\n",
       " what little they have promised they will not perform! Prussia has\n",
       " always declared that Buonaparte is invincible, and that all Europe\n",
       " is powerless before him.... And I don't believe a word that Hardenburg\n",
       " says, or Haugwitz either. This famous Prussian neutrality is just a\n",
       " trap. I have faith only in God and the lofty destiny of our adored\n",
       " monarch. He will save Europe!</span>,\n",
       " <span class=\"red\">I think,</span>,\n",
       " <span class=\"green\">the prince</span>,\n",
       " <span class=\"red\">that if you had been\n",
       " sent instead of our dear <span class=\"green\">Wintzingerode</span> you would have captured the\n",
       " <span class=\"green\">King of Prussia</span>'s consent by assault. You are so eloquent. Will you\n",
       " give me a cup of tea?</span>,\n",
       " <span class=\"green\">Wintzingerode</span>,\n",
       " <span class=\"green\">King of Prussia</span>,\n",
       " <span class=\"red\">In a moment. A propos,</span>,\n",
       " <span class=\"red\">I am\n",
       " expecting two very interesting men tonight, <span class=\"green\">le Vicomte de Mortemart</span>,\n",
       " who is connected with the <span class=\"green\">Montmorencys</span> through the <span class=\"green\">Rohans</span>, one of\n",
       " the best French families. He is one of the genuine emigres, the good\n",
       " ones. And also the <span class=\"green\">Abbe Morio</span>. Do you know that profound thinker? He\n",
       " has been received by <span class=\"green\">the Emperor</span>. Had you heard?</span>,\n",
       " <span class=\"green\">le Vicomte de Mortemart</span>,\n",
       " <span class=\"green\">Montmorencys</span>,\n",
       " <span class=\"green\">Rohans</span>,\n",
       " <span class=\"green\">Abbe Morio</span>,\n",
       " <span class=\"green\">the Emperor</span>,\n",
       " <span class=\"red\">I shall be delighted to meet them,</span>,\n",
       " <span class=\"green\">the prince</span>,\n",
       " <span class=\"red\">But tell me,</span>,\n",
       " <span class=\"red\">is it true that the Dowager Empress wants Baron Funke\n",
       " to be appointed first secretary at Vienna? The baron by all accounts\n",
       " is a poor creature.</span>,\n",
       " <span class=\"green\">Prince Vasili</span>,\n",
       " <span class=\"green\">Dowager Empress Marya Fedorovna</span>,\n",
       " <span class=\"green\">the baron</span>,\n",
       " <span class=\"green\">Anna Pavlovna</span>,\n",
       " <span class=\"green\">the Empress</span>,\n",
       " <span class=\"red\">Baron Funke has been recommended to the Dowager Empress by her\n",
       " sister,</span>,\n",
       " <span class=\"green\">the Empress</span>,\n",
       " <span class=\"green\">Anna Pavlovna's</span>,\n",
       " <span class=\"green\">Her Majesty</span>,\n",
       " <span class=\"green\">Baron\n",
       " Funke</span>,\n",
       " <span class=\"green\">The prince</span>,\n",
       " <span class=\"green\">Anna\n",
       " Pavlovna</span>,\n",
       " <span class=\"green\">the Empress</span>,\n",
       " <span class=\"red\">Now about your family. Do you know that since your daughter came\n",
       " out everyone has been enraptured by her? They say she is amazingly\n",
       " beautiful.</span>,\n",
       " <span class=\"green\">The prince</span>,\n",
       " <span class=\"red\">I often think,</span>,\n",
       " <span class=\"red\">I often think how unfairly sometimes the\n",
       " joys of life are distributed. Why has fate given you two such splendid\n",
       " children? I don't speak of <span class=\"green\">Anatole</span>, your youngest. I don't like\n",
       " him,</span>,\n",
       " <span class=\"green\">Anatole</span>,\n",
       " <span class=\"red\">Two such charming children. And really you appreciate\n",
       " them less than anyone, and so you don't deserve to have them.</span>,\n",
       " <span class=\"red\">I can't help it,</span>,\n",
       " <span class=\"green\">the prince</span>,\n",
       " <span class=\"red\">Lavater would have said I\n",
       " lack the bump of paternity.</span>,\n",
       " <span class=\"red\">Don't joke; I mean to have a serious talk with you. Do you know I\n",
       " am dissatisfied with your younger son? Between ourselves</span>,\n",
       " <span class=\"red\">he was mentioned at Her\n",
       " Majesty's and you were pitied....</span>,\n",
       " <span class=\"green\">The prince</span>,\n",
       " <span class=\"red\">What would you have me do?</span>,\n",
       " <span class=\"red\">You know I did all\n",
       " a father could for their education, and they have both turned out\n",
       " fools. Hippolyte is at least a quiet fool, but Anatole is an active\n",
       " one. That is the only difference between them.</span>,\n",
       " <span class=\"red\">And why are children born to such men as you? If you were not a\n",
       " father there would be nothing I could reproach you with,</span>,\n",
       " <span class=\"green\">Anna\n",
       " Pavlovna</span>,\n",
       " <span class=\"red\">I am your faithful slave and to you alone I can confess that my\n",
       " children are the bane of my life. It is the cross I have to bear. That\n",
       " is how I explain it to myself. It can't be helped!</span>,\n",
       " <span class=\"green\">Anna Pavlovna</span>]"
      ]
     },
     "execution_count": 16,
     "metadata": {},
     "output_type": "execute_result"
    }
   ],
   "source": [
    "bs.findAll('span', {'class':{'green', 'red'}})\n"
   ]
  },
  {
   "cell_type": "code",
   "execution_count": 17,
   "id": "aa8ad738",
   "metadata": {
    "slideshow": {
     "slide_type": "fragment"
    }
   },
   "outputs": [
    {
     "name": "stdout",
     "output_type": "stream",
     "text": [
      "7\n"
     ]
    }
   ],
   "source": [
    "nameList = bs.findAll(text='the prince')\n",
    "print(len(nameList))\n"
   ]
  },
  {
   "cell_type": "markdown",
   "id": "4e9b7bf3",
   "metadata": {
    "slideshow": {
     "slide_type": "slide"
    }
   },
   "source": [
    "# Searching in the tree: find() e findAll()\n",
    "\n",
    "* fino a questo momento abbiamo applicato le due funzioni ad un oggetto di tipo **BeautifulSoup**\n",
    "* le due funzioni possono essere applicata anche a oggetti di tipo **Tag**\n",
    "    * si può restringere la ricerca in iterazioni successive\n",
    "* le funzioni sono sempre applicate al sottoalbero radicato nell'oggetto su cui vengono applicate\n",
    "    * l'intero documento\n",
    "    * un tag individuato con un'altra **findAll()**, oppure navigando l'abero"
   ]
  },
  {
   "cell_type": "markdown",
   "id": "5831b21d",
   "metadata": {
    "slideshow": {
     "slide_type": "slide"
    }
   },
   "source": [
    "# Searching in the tree: find() e findAll()"
   ]
  },
  {
   "cell_type": "markdown",
   "id": "35d22a75",
   "metadata": {
    "slideshow": {
     "slide_type": "fragment"
    }
   },
   "source": [
    "<td> <img src=\"Figures/gift.jpg\" style=\"width2000px;height:900px;\"/>"
   ]
  },
  {
   "cell_type": "markdown",
   "id": "ce25801f",
   "metadata": {
    "slideshow": {
     "slide_type": "slide"
    }
   },
   "source": [
    "# Searching in the tree: find() e findAll()\n",
    "\n",
    "* primo passo\n",
    "    * ricerca delle righe della tabella\n",
    "* secondo passo\n",
    "    * ricerca dell'immagine dell'oggetto all'interno della riga così individuata\n",
    "* se avessi effettuato la ricerca di tutte le immagini del documento, avrei reperito immagini non di interesse, ad esempio il logo della pagina"
   ]
  },
  {
   "cell_type": "code",
   "execution_count": 18,
   "id": "1bdbdb96",
   "metadata": {
    "slideshow": {
     "slide_type": "fragment"
    }
   },
   "outputs": [
    {
     "name": "stdout",
     "output_type": "stream",
     "text": [
      "[<img src=\"../img/gifts/img1.jpg\"/>, <img src=\"../img/gifts/img2.jpg\"/>, <img src=\"../img/gifts/img3.jpg\"/>, <img src=\"../img/gifts/img4.jpg\"/>, <img src=\"../img/gifts/img6.jpg\"/>]\n"
     ]
    }
   ],
   "source": [
    "from bs4 import BeautifulSoup\n",
    "import requests\n",
    "url = \"https://pythonscraping.com/pages/page3.html\"\n",
    "r = requests.get(url)\n",
    "soup = BeautifulSoup(r.content, \"html.parser\")\n",
    "gifts = soup.findAll('tr', {'class':'gift'})\n",
    "links = []\n",
    "for g in gifts:\n",
    "    links.extend(g.findAll('img'))\n",
    "print (links)\n"
   ]
  },
  {
   "cell_type": "markdown",
   "id": "b895b38b",
   "metadata": {
    "slideshow": {
     "slide_type": "slide"
    }
   },
   "source": [
    "# BeautifulSoup: le espressioni regolari (REGEX)\n",
    "\n",
    "* un modo di individuare **pattern complessi** all'interno dell'albero\n",
    "* consideriamo di nuovo l'esempio presentato in una slide precedente"
   ]
  },
  {
   "cell_type": "markdown",
   "id": "c8e1d92e",
   "metadata": {
    "slideshow": {
     "slide_type": "fragment"
    }
   },
   "source": [
    "<table><tr>\n",
    "<td> <img src=\"Figures/Programma1.jpg\" style=\"width:700px;height:500px;\"/>\n",
    "<td> <img src=\"Figures/Programma2.jpg\" style=\"width:700px;height:500px;\"/>\n",
    "</tr></table>"
   ]
  },
  {
   "cell_type": "markdown",
   "id": "e4195617",
   "metadata": {
    "slideshow": {
     "slide_type": "slide"
    }
   },
   "source": [
    "# BeautifulSoup: le espressioni regolari (REGEX)"
   ]
  },
  {
   "cell_type": "code",
   "execution_count": 20,
   "id": "dd064d2f",
   "metadata": {
    "slideshow": {
     "slide_type": "fragment"
    }
   },
   "outputs": [
    {
     "name": "stdout",
     "output_type": "stream",
     "text": [
      "<body>\n",
      "<p class=\"title\"><b>Programma del Corso </b></p>\n",
      "<p class=\"story\">Argomenti\n",
      "    <a class=\"element\" href=\"http://example.com/element1\" id=\"link1\">1</a>\n",
      "<a class=\"element\" href=\"http://example.com/element2\" id=\"link2\">2</a>\n",
      "<a class=\"avatar\" href=\"http://example.com/avatar1\" id=\"link3\">3</a>\n",
      "</p>\n",
      "<p> Buon lavoro!</p>\n",
      "</body>\n",
      "<b>Programma del Corso </b>\n"
     ]
    }
   ],
   "source": [
    "from bs4 import BeautifulSoup\n",
    "import re\n",
    "\n",
    "with open(\"Files/doc.html\") as fp:\n",
    "    soup = BeautifulSoup(fp, \"html.parser\")\n",
    "    \n",
    "for tag in soup.find_all(re.compile(\"^b\")):\n",
    "    print(tag)"
   ]
  },
  {
   "cell_type": "markdown",
   "id": "8ea7675d",
   "metadata": {
    "slideshow": {
     "slide_type": "fragment"
    }
   },
   "source": [
    "* individua tutti i tag che iniziano con il carattere \"b\"\n",
    "    * utlizza il simbolo \"^\"\n",
    "    * restituisce \\<body\\> e \\<b>\\>"
   ]
  },
  {
   "cell_type": "markdown",
   "id": "1a871bab",
   "metadata": {
    "slideshow": {
     "slide_type": "slide"
    }
   },
   "source": [
    "# BeautifulSoup: le espressioni regolari (REGEX)\n",
    "\n",
    "* utilizzare libreria **re** di **BeautifulSoap**\n",
    "* nell'esempio precedente si usa la semplice espressione regolare\n",
    "    <code>\n",
    "    ^expr\n",
    "    </code> \n",
    "* indica che un carattere o un'espressione deve essere presente all'inizio di una stringa\n",
    "* la maggiornaza delle funzioni di BeutifulSoup, che prende in input una stringa, prende in input anche una **REGEX**\n",
    "    * primo argomento id **find()** e di **finaAll()**"
   ]
  },
  {
   "cell_type": "markdown",
   "id": "833c60fe",
   "metadata": {
    "slideshow": {
     "slide_type": "slide"
    }
   },
   "source": [
    "# Searching in the tree: usare le espressioni regolari\n",
    "\n",
    "* l'esempio precedente può essere risolto alternativamente mediante l'uso di **REGEX**"
   ]
  },
  {
   "cell_type": "markdown",
   "id": "0e78c185",
   "metadata": {
    "slideshow": {
     "slide_type": "fragment"
    }
   },
   "source": [
    "<td> <img src=\"Figures/gift.jpg\" style=\"width2000px;height:900px;\"/>"
   ]
  },
  {
   "cell_type": "markdown",
   "id": "770e2ba9",
   "metadata": {
    "slideshow": {
     "slide_type": "slide"
    }
   },
   "source": [
    "# Searching in the tree: usare le espressioni regolari"
   ]
  },
  {
   "cell_type": "code",
   "execution_count": 1,
   "id": "4f9bd929",
   "metadata": {
    "slideshow": {
     "slide_type": "fragment"
    }
   },
   "outputs": [
    {
     "name": "stdout",
     "output_type": "stream",
     "text": [
      "../img/gifts/img1.jpg\n",
      "../img/gifts/img2.jpg\n",
      "../img/gifts/img3.jpg\n",
      "../img/gifts/img4.jpg\n",
      "../img/gifts/img6.jpg\n"
     ]
    }
   ],
   "source": [
    "from urllib.request import urlopen\n",
    "from bs4 import BeautifulSoup\n",
    "import re\n",
    "html = urlopen('http://www.pythonscraping.com/pages/page3.html')\n",
    "bs = BeautifulSoup(html, 'html.parser')\n",
    "images = bs.find_all('img',{'src':re.compile('\\.\\.\\/img\\/gifts/img.*\\.jpg')})\n",
    "for image in images:\n",
    "   print(image['src'])"
   ]
  },
  {
   "cell_type": "markdown",
   "id": "63c19fca",
   "metadata": {
    "slideshow": {
     "slide_type": "fragment"
    }
   },
   "source": [
    "* espressione regolare\n",
    "\n",
    "<code>\n",
    "\\.\\.\\/img\\/gifts/img.*\\.jpg\n",
    "</code>\n",
    "\n",
    "* **\\** permette di utilizzare caratteri speciali come caratteri normali\n",
    "* l'asterisco è una **wildcard**, può essere sostituita da qualsiasi stringa"
   ]
  },
  {
   "cell_type": "markdown",
   "id": "cc3ef800",
   "metadata": {
    "slideshow": {
     "slide_type": "slide"
    }
   },
   "source": [
    "# Navigare l'albero\n",
    "\n",
    "* individuare i **tag** rispetto alla loro **posizione** nell'albero e non rispetto al loro **contenuto**\n",
    "* usando i tag si può scendere nell'albero seguendo un cammino di path\n",
    "* esistono anche funzioni più avanzate per spostarsi nell'albero"
   ]
  },
  {
   "cell_type": "markdown",
   "id": "1fce776f",
   "metadata": {
    "slideshow": {
     "slide_type": "fragment"
    }
   },
   "source": [
    "<td> <img src=\"Figures/gift1.jpg\" style=\"width2000px;height:900px;\"/>"
   ]
  },
  {
   "cell_type": "markdown",
   "id": "9c2ab8aa",
   "metadata": {},
   "source": [
    "# Navigare l'albero: children"
   ]
  },
  {
   "cell_type": "code",
   "execution_count": 29,
   "id": "157f3e3a",
   "metadata": {
    "slideshow": {
     "slide_type": "fragment"
    }
   },
   "outputs": [
    {
     "name": "stdout",
     "output_type": "stream",
     "text": [
      "\n",
      "\n",
      "<tr><th>\n",
      "Item Title\n",
      "</th><th>\n",
      "Description\n",
      "</th><th>\n",
      "Cost\n",
      "</th><th>\n",
      "Image\n",
      "</th></tr>\n",
      "\n",
      "\n",
      "<tr class=\"gift\" id=\"gift1\"><td>\n",
      "Vegetable Basket\n",
      "</td><td>\n",
      "This vegetable basket is the perfect gift for your health conscious (or overweight) friends!\n",
      "<span class=\"excitingNote\">Now with super-colorful bell peppers!</span>\n",
      "</td><td>\n",
      "$15.00\n",
      "</td><td>\n",
      "<img src=\"../img/gifts/img1.jpg\"/>\n",
      "</td></tr>\n",
      "\n",
      "\n",
      "<tr class=\"gift\" id=\"gift2\"><td>\n",
      "Russian Nesting Dolls\n",
      "</td><td>\n",
      "Hand-painted by trained monkeys, these exquisite dolls are priceless! And by \"priceless,\" we mean \"extremely expensive\"! <span class=\"excitingNote\">8 entire dolls per set! Octuple the presents!</span>\n",
      "</td><td>\n",
      "$10,000.52\n",
      "</td><td>\n",
      "<img src=\"../img/gifts/img2.jpg\"/>\n",
      "</td></tr>\n",
      "\n",
      "\n",
      "<tr class=\"gift\" id=\"gift3\"><td>\n",
      "Fish Painting\n",
      "</td><td>\n",
      "If something seems fishy about this painting, it's because it's a fish! <span class=\"excitingNote\">Also hand-painted by trained monkeys!</span>\n",
      "</td><td>\n",
      "$10,005.00\n",
      "</td><td>\n",
      "<img src=\"../img/gifts/img3.jpg\"/>\n",
      "</td></tr>\n",
      "\n",
      "\n",
      "<tr class=\"gift\" id=\"gift4\"><td>\n",
      "Dead Parrot\n",
      "</td><td>\n",
      "This is an ex-parrot! <span class=\"excitingNote\">Or maybe he's only resting?</span>\n",
      "</td><td>\n",
      "$0.50\n",
      "</td><td>\n",
      "<img src=\"../img/gifts/img4.jpg\"/>\n",
      "</td></tr>\n",
      "\n",
      "\n",
      "<tr class=\"gift\" id=\"gift5\"><td>\n",
      "Mystery Box\n",
      "</td><td>\n",
      "If you love suprises, this mystery box is for you! Do not place on light-colored surfaces. May cause oil staining. <span class=\"excitingNote\">Keep your friends guessing!</span>\n",
      "</td><td>\n",
      "$1.50\n",
      "</td><td>\n",
      "<img src=\"../img/gifts/img6.jpg\"/>\n",
      "</td></tr>\n",
      "\n",
      "\n"
     ]
    }
   ],
   "source": [
    "from urllib.request import urlopen\n",
    "from bs4 import BeautifulSoup\n",
    "html = urlopen('http://www.pythonscraping.com/pages/page3.html')\n",
    "bs = BeautifulSoup(html, 'html.parser')\n",
    "for child in bs.find('table',{'id':'giftList'}).children:\n",
    "    print(child)"
   ]
  },
  {
   "cell_type": "markdown",
   "id": "9d380778",
   "metadata": {
    "slideshow": {
     "slide_type": "slide"
    }
   },
   "source": [
    "# Navigare l'albero: siblings\n",
    "\n",
    "* reperire tutte le righe della tabella a parte la prima\n",
    "    * la prima è una riga di intestazione\n",
    "    * si prendono i **sibling** della prima riga, quindi si esclude tale riga\n"
   ]
  },
  {
   "cell_type": "code",
   "execution_count": 32,
   "id": "e1dba216",
   "metadata": {
    "slideshow": {
     "slide_type": "fragment"
    }
   },
   "outputs": [
    {
     "name": "stdout",
     "output_type": "stream",
     "text": [
      "\n",
      "\n",
      "<tr class=\"gift\" id=\"gift1\"><td>\n",
      "Vegetable Basket\n",
      "</td><td>\n",
      "This vegetable basket is the perfect gift for your health conscious (or overweight) friends!\n",
      "<span class=\"excitingNote\">Now with super-colorful bell peppers!</span>\n",
      "</td><td>\n",
      "$15.00\n",
      "</td><td>\n",
      "<img src=\"../img/gifts/img1.jpg\"/>\n",
      "</td></tr>\n",
      "\n",
      "\n",
      "<tr class=\"gift\" id=\"gift2\"><td>\n",
      "Russian Nesting Dolls\n",
      "</td><td>\n",
      "Hand-painted by trained monkeys, these exquisite dolls are priceless! And by \"priceless,\" we mean \"extremely expensive\"! <span class=\"excitingNote\">8 entire dolls per set! Octuple the presents!</span>\n",
      "</td><td>\n",
      "$10,000.52\n",
      "</td><td>\n",
      "<img src=\"../img/gifts/img2.jpg\"/>\n",
      "</td></tr>\n",
      "\n",
      "\n",
      "<tr class=\"gift\" id=\"gift3\"><td>\n",
      "Fish Painting\n",
      "</td><td>\n",
      "If something seems fishy about this painting, it's because it's a fish! <span class=\"excitingNote\">Also hand-painted by trained monkeys!</span>\n",
      "</td><td>\n",
      "$10,005.00\n",
      "</td><td>\n",
      "<img src=\"../img/gifts/img3.jpg\"/>\n",
      "</td></tr>\n",
      "\n",
      "\n",
      "<tr class=\"gift\" id=\"gift4\"><td>\n",
      "Dead Parrot\n",
      "</td><td>\n",
      "This is an ex-parrot! <span class=\"excitingNote\">Or maybe he's only resting?</span>\n",
      "</td><td>\n",
      "$0.50\n",
      "</td><td>\n",
      "<img src=\"../img/gifts/img4.jpg\"/>\n",
      "</td></tr>\n",
      "\n",
      "\n",
      "<tr class=\"gift\" id=\"gift5\"><td>\n",
      "Mystery Box\n",
      "</td><td>\n",
      "If you love suprises, this mystery box is for you! Do not place on light-colored surfaces. May cause oil staining. <span class=\"excitingNote\">Keep your friends guessing!</span>\n",
      "</td><td>\n",
      "$1.50\n",
      "</td><td>\n",
      "<img src=\"../img/gifts/img6.jpg\"/>\n",
      "</td></tr>\n",
      "\n",
      "\n"
     ]
    }
   ],
   "source": [
    "from bs4 import BeautifulSoup\n",
    "html = urlopen('http://www.pythonscraping.com/pages/page3.html')\n",
    "bs = BeautifulSoup(html, 'html.parser')\n",
    "for sibling in bs.find('table', {'id':'giftList'}).tr.next_siblings:\n",
    "   print(sibling)"
   ]
  },
  {
   "cell_type": "markdown",
   "id": "72f01ee4",
   "metadata": {
    "slideshow": {
     "slide_type": "slide"
    }
   },
   "source": [
    "# Navigare l'albero: parent"
   ]
  },
  {
   "cell_type": "code",
   "execution_count": 35,
   "id": "8e98f9ff",
   "metadata": {
    "slideshow": {
     "slide_type": "fragment"
    }
   },
   "outputs": [
    {
     "name": "stdout",
     "output_type": "stream",
     "text": [
      "\n",
      "$15.00\n",
      "\n"
     ]
    }
   ],
   "source": [
    "from urllib.request import urlopen\n",
    "from bs4 import BeautifulSoup\n",
    "html = urlopen('http://www.pythonscraping.com/pages/page3.html')\n",
    "bs = BeautifulSoup(html, 'html.parser')\n",
    "print(bs.find('img',{'src':'../img/gifts/img1.jpg'}).parent.previous_sibling.get_text())"
   ]
  },
  {
   "cell_type": "markdown",
   "id": "ac42fc2e",
   "metadata": {
    "slideshow": {
     "slide_type": "slide"
    }
   },
   "source": [
    "# Web Scraping: avvertenze!\n",
    "\n",
    "* uno strumento molto potente, ma in molti casi utilizzato in modo non corretto\n",
    "\n",
    "* utile solo se usato correttamente e in modo consapevole\n",
    "\n",
    "* controllare i \"terms of service\" impostati dal web owner\n",
    "    * di solito disponibili\n",
    "    * altrimenti provare a eseguire lo script **Python**, controllare se viene bloccato\n",
    "\n",
    "* non inviare troppe richieste contemporaneamente: l'indirizzo IP può essere bannato!\n",
    "    * le richieste costano in termini di tempo di esecuzione\n",
    "    * potrebbe essere scambiato per un tentativo di **denial of servce**"
   ]
  },
  {
   "cell_type": "markdown",
   "id": "3e923da4",
   "metadata": {
    "slideshow": {
     "slide_type": "slide"
    }
   },
   "source": [
    "# Scraping di CoinMarketCup\n"
   ]
  },
  {
   "cell_type": "markdown",
   "id": "ef54d0ce",
   "metadata": {
    "slideshow": {
     "slide_type": "fragment"
    }
   },
   "source": [
    "<img src=\"Figures/COinMarketCup.jpg\" style=\"width:1200px;height:500px;\"/>"
   ]
  },
  {
   "cell_type": "markdown",
   "id": "2585fbdf",
   "metadata": {},
   "source": [
    "* scegliamo una data campione: 19/12/2021\n",
    "* costruiamo  la **URL** per quella data: **https://coinmarketcap.com/historical/20211219/**\n",
    "* la pagina acceduta riporta i dati delle prime 200 monete per valore di mercato\n",
    "* infondo alla pagina \n",
    "    * il bottone **Load More** per caricare altre criptovalute\n",
    "    * il bottone **Previous week** e **Next Week** per passare alla settimana precdente e successiva\n"
   ]
  },
  {
   "cell_type": "markdown",
   "id": "1dfa7df9",
   "metadata": {
    "slideshow": {
     "slide_type": "slide"
    }
   },
   "source": [
    "# Scraping CoinMarketCup\n",
    "\n",
    "* quali dati ci interessano?\n",
    "    * solo le prime 20 criptomonete per capitalizzazione di mercato.\n",
    "        * tutti i dati di interesse memorizzati in un'unica pagina\n",
    "    * per ogni criptomoneta\n",
    "        * nome\n",
    "        * capitalizzazione\n",
    "        * prezzo\n",
    "        * quantità in circolazione\n",
    "        * simbolo\n",
    "* come si reperiscono questi dati?\n",
    "    * aprire la pagina nel browser e utilizzare il bottone \"ispeziona\"\n",
    "        * ricercare l'elemento tabella\n",
    "        * poi l'elemento riga\n",
    "        * quindi i vari elementi 'data' all'interno della riga"
   ]
  },
  {
   "cell_type": "markdown",
   "id": "426fa58d",
   "metadata": {
    "slideshow": {
     "slide_type": "slide"
    }
   },
   "source": [
    "# Scraping CoinMarketCup: reperimento dei dati"
   ]
  },
  {
   "cell_type": "markdown",
   "id": "d63fd5a4",
   "metadata": {
    "slideshow": {
     "slide_type": "fragment"
    }
   },
   "source": [
    "<img src=\"Figures/COinMarketCup1.jpg\" style=\"width:1200px;height:500px;\"/>"
   ]
  },
  {
   "cell_type": "markdown",
   "id": "ad340255",
   "metadata": {
    "slideshow": {
     "slide_type": "slide"
    }
   },
   "source": [
    "# Scraping CoinMarketCup: reperimento dei dati\n",
    "\n",
    "* l'ispezione ha rivelato che una riga della tabella è undividuata dal tag **tr** e dall'attributo **cmc-table-row**\n",
    "* usiamo questa informazione per posizionarci su quella riga della tabella"
   ]
  },
  {
   "cell_type": "markdown",
   "id": "8ee1c646",
   "metadata": {
    "slideshow": {
     "slide_type": "fragment"
    }
   },
   "source": [
    "<code>\n",
    "import pandas as pd\n",
    "import requests\n",
    "from bs4 import BeautifulSoup\n",
    "# Dataframe dove memorizzeremo i dati ottenuti dallo scraping\n",
    "df = pd.DataFrame()\n",
    "</code>"
   ]
  },
  {
   "cell_type": "markdown",
   "id": "6fbe12cd",
   "metadata": {},
   "source": [
    "<code>\n",
    "def scrape(date='20211128/', number=10):\n",
    "    # 5 liste per le 5 infomazioni reperite\n",
    "    name, marketCap, price, circulatingSupply, symbol = [], [], [], [], []\n",
    "    # URL su cui fare lo scraping\n",
    "    url = 'https://coinmarketcap.com/historical/'+date\n",
    "    # invio della richiesta\n",
    "    webpage = requests.get(url)\n",
    "    # parsing del testo\n",
    "    soup = BeautifulSoup(webpage.text, 'html.parser')\n",
    "    # Ricerca della riga della tabella\n",
    "    tr = soup.find_all('tr', attrs={'class':'cmc-table-row'})\n",
    "    count = 0\n",
    "</code>"
   ]
  },
  {
   "cell_type": "markdown",
   "id": "190f1901",
   "metadata": {
    "slideshow": {
     "slide_type": "slide"
    }
   },
   "source": [
    "# Scraping CoinMarketCup: reperimento dei dati\n",
    "\n",
    "\n",
    "* individuare come viene riferito ogni elemento della tabella"
   ]
  },
  {
   "cell_type": "markdown",
   "id": "fb12bfcc",
   "metadata": {
    "slideshow": {
     "slide_type": "fragment"
    }
   },
   "source": [
    "<img src=\"Figures/COinMarketCup2.jpg\" style=\"width:2000px;height:800px;\"/>"
   ]
  },
  {
   "cell_type": "markdown",
   "id": "c02bcaeb",
   "metadata": {
    "slideshow": {
     "slide_type": "slide"
    }
   },
   "source": [
    "# Scraping CoinMarketCup: terzo passo\n",
    "\n",
    "* una volta individuta la proprietà che caratterizza ogni campo \"data\"\n",
    "    * si effettua una **find** a partire dalla riga individuata, con la proprietà di ogni colonna"
   ]
  },
  {
   "cell_type": "markdown",
   "id": "15abda88",
   "metadata": {
    "slideshow": {
     "slide_type": "fragment"
    }
   },
   "source": [
    "<code>\n",
    "for row in tr:\n",
    "        if count == number:\n",
    "            break\n",
    "        else:\n",
    "            count += 1\n",
    "            \n",
    "            # Store name of the crypto currency            \n",
    "            name_col = row.find('td', attrs={'class':'cmc-table__cell cmc-table__cell--sticky cmc-table__cell--sortable cmc-table__cell--left cmc-table__cell--sort-by__name'})\n",
    "            cryptoname = name_col.find('a', attrs={'class':'cmc-table__column-name--name cmc-link'}).text.strip()\n",
    "            \n",
    "            # Market cap\n",
    "            marketcap = row.find('td', attrs={'class':'cmc-table__cell cmc-table__cell--sortable cmc-table__cell--right cmc-table__cell--sort-by__market-cap'}).text.strip()\n",
    "            \n",
    "            # Price\n",
    "            crytoprice = row.find('td', attrs={'class':'cmc-table__cell cmc-table__cell--sortable cmc-table__cell--right cmc-table__cell--sort-by__price'}).text.strip()\n",
    "            \n",
    "            # Circulating supply and symbol            \n",
    "            circulatingSupplySymbol = row.find('td', attrs={'class':'cmc-table__cell cmc-table__cell--sortable cmc-table__cell--right cmc-table__cell--sort-by__circulating-supply'}).text.strip()\n",
    "            supply = circulatingSupplySymbol.split(' ')[0]\n",
    "            sym = circulatingSupplySymbol.split(' ')[1]\n",
    "            # append the data\n",
    "            name.append(cryptoname)\n",
    "            marketCap.append(marketcap)\n",
    "            price.append(crytoprice)\n",
    "            circulatingSupply.append(supply)\n",
    "            symbol.append(sym)  \n",
    "    return name, marketCap, price, circulatingSupply, symbol\n",
    "\\/code>\n",
    "    "
   ]
  },
  {
   "cell_type": "markdown",
   "id": "0732c9cb",
   "metadata": {
    "slideshow": {
     "slide_type": "slide"
    }
   },
   "source": [
    "# Scraping CoinMarketCup: eseguire il codice"
   ]
  },
  {
   "cell_type": "code",
   "execution_count": 23,
   "id": "f109191f",
   "metadata": {
    "slideshow": {
     "slide_type": "fragment"
    }
   },
   "outputs": [],
   "source": [
    "import pandas as pd\n",
    "import requests\n",
    "from bs4 import BeautifulSoup\n",
    "# Dataframe dove memorizzeremo i dati ottenuti dallo scraping\n",
    "df = pd.DataFrame()"
   ]
  },
  {
   "cell_type": "markdown",
   "id": "8048b1a7",
   "metadata": {
    "slideshow": {
     "slide_type": "slide"
    }
   },
   "source": [
    "# Scraping CoinMarketCup: eseguire il codice"
   ]
  },
  {
   "cell_type": "code",
   "execution_count": 24,
   "id": "7468a064",
   "metadata": {
    "slideshow": {
     "slide_type": "fragment"
    }
   },
   "outputs": [],
   "source": [
    "# Example : https://coinmarketcap.com/historical/20211128/\n",
    "def scrape(date='20211128/', number=10):\n",
    "    # StoringInfo variables\n",
    "    name, marketCap, price, circulatingSupply, symbol = [], [], [], [], []\n",
    "    # URL to scrape\n",
    "    url = 'https://coinmarketcap.com/historical/'+date\n",
    "    # Request a website\n",
    "    webpage = requests.get(url)\n",
    "    # parse the text\n",
    "    soup = BeautifulSoup(webpage.text, 'html.parser')\n",
    "    \n",
    "    # Get table row element\n",
    "    tr = soup.find_all('tr', attrs={'class':'cmc-table-row'})\n",
    "    count = 0\n",
    "    for row in tr:\n",
    "        if count == number:\n",
    "            break\n",
    "        else:\n",
    "            count += 1\n",
    "            \n",
    "            # Store name of the crypto currency            \n",
    "            name_col = row.find('td', attrs={'class':'cmc-table__cell cmc-table__cell--sticky cmc-table__cell--sortable cmc-table__cell--left cmc-table__cell--sort-by__name'})\n",
    "            cryptoname = name_col.find('a', attrs={'class':'cmc-table__column-name--name cmc-link'}).text.strip()\n",
    "            \n",
    "            # Market cap\n",
    "            marketcap = row.find('td', attrs={'class':'cmc-table__cell cmc-table__cell--sortable cmc-table__cell--right cmc-table__cell--sort-by__market-cap'}).text.strip()\n",
    "            \n",
    "            # Price\n",
    "            crytoprice = row.find('td', attrs={'class':'cmc-table__cell cmc-table__cell--sortable cmc-table__cell--right cmc-table__cell--sort-by__price'}).text.strip()\n",
    "            \n",
    "            # Circulating supply and symbol            \n",
    "            circulatingSupplySymbol = row.find('td', attrs={'class':'cmc-table__cell cmc-table__cell--sortable cmc-table__cell--right cmc-table__cell--sort-by__circulating-supply'}).text.strip()\n",
    "            supply = circulatingSupplySymbol.split(' ')[0]\n",
    "            sym = circulatingSupplySymbol.split(' ')[1]\n",
    "            # append the data\n",
    "            name.append(cryptoname)\n",
    "            marketCap.append(marketcap)\n",
    "            price.append(crytoprice)\n",
    "            circulatingSupply.append(supply)\n",
    "            symbol.append(sym)  \n",
    "    return name, marketCap, price, circulatingSupply, symbol\n",
    "    "
   ]
  },
  {
   "cell_type": "markdown",
   "id": "5ea9957a",
   "metadata": {
    "slideshow": {
     "slide_type": "slide"
    }
   },
   "source": [
    "# Scraping CoinMarketCup"
   ]
  },
  {
   "cell_type": "code",
   "execution_count": 25,
   "id": "134048b5",
   "metadata": {
    "slideshow": {
     "slide_type": "fragment"
    }
   },
   "outputs": [
    {
     "name": "stdout",
     "output_type": "stream",
     "text": [
      "['Bitcoin', 'Ethereum', 'Binance Coin', 'Tether', 'Solana', 'Cardano', 'USD Coin', 'XRP', 'Terra', 'Avalanche', 'Polkadot', 'Dogecoin', 'SHIBA INU', 'Polygon', 'Binance USD', 'Crypto.com Coin', 'Wrapped Bitcoin', 'Litecoin', 'Uniswap', 'Dai'] \n",
      "\n",
      "['$883,011,296,029.51', '$466,037,604,378.56', '$88,399,940,789.77', '$76,288,982,077.53', '$55,490,684,848.85', '$42,517,012,629.67', '$42,061,885,365.57', '$39,453,059,810.78', '$29,259,639,594.93', '$26,185,067,589.88', '$24,483,473,496.75', '$22,484,087,905.96', '$16,906,095,915.60', '$15,737,173,172.50', '$14,376,828,695.35', '$12,988,488,249.77', '$12,065,643,113.01', '$10,596,915,193.66', '$9,391,851,785.42', '$9,221,515,725.49'] \n",
      "\n",
      "['$46,707.01', '$3,922.59', '$529.97', '$0.9999', '$180.10', '$1.24', '$0.9999', '$0.835', '$78.23', '$107.67', '$24.79', '$0.1696', '$0.00003079', '$2.22', '$0.9999', '$0.5141', '$46,596.29', '$153.08', '$14.96', '$0.9994'] \n",
      "\n",
      "['18,905,325', '118,808,565', '166,801,148', '76,289,909,012', '308,113,743', '34,159,510,418', '42,066,799,177', '47,247,295,769', '374,040,100', '243,188,891', '987,579,315', '132,589,974,327', '549,057,307,872,741', '7,081,682,963', '14,377,988,824', '25,263,013,692', '258,940', '69,225,757', '627,966,357', '9,227,495,283'] \n",
      "\n",
      "['BTC', 'ETH', 'BNB', 'USDT', 'SOL', 'ADA', 'USDC', 'XRP', 'LUNA', 'AVAX', 'DOT', 'DOGE', 'SHIB', 'MATIC', 'BUSD', 'CRO', 'WBTC', 'LTC', 'UNI', 'DAI'] \n",
      "\n"
     ]
    }
   ],
   "source": [
    "# Scraping\n",
    "name, marketCap, price, circulatingSupply, symbol = scrape('20211219/', number=20)\n",
    "for i in [name, marketCap, price, circulatingSupply, symbol]:\n",
    "    print(i,'\\n')"
   ]
  },
  {
   "cell_type": "markdown",
   "id": "eefab7ad",
   "metadata": {
    "slideshow": {
     "slide_type": "slide"
    }
   },
   "source": [
    "# Scraping CoinMarketCup"
   ]
  },
  {
   "cell_type": "code",
   "execution_count": 26,
   "id": "78564472",
   "metadata": {
    "slideshow": {
     "slide_type": "fragment"
    }
   },
   "outputs": [
    {
     "data": {
      "text/html": [
       "<div>\n",
       "<style scoped>\n",
       "    .dataframe tbody tr th:only-of-type {\n",
       "        vertical-align: middle;\n",
       "    }\n",
       "\n",
       "    .dataframe tbody tr th {\n",
       "        vertical-align: top;\n",
       "    }\n",
       "\n",
       "    .dataframe thead th {\n",
       "        text-align: right;\n",
       "    }\n",
       "</style>\n",
       "<table border=\"1\" class=\"dataframe\">\n",
       "  <thead>\n",
       "    <tr style=\"text-align: right;\">\n",
       "      <th></th>\n",
       "      <th>Name</th>\n",
       "      <th>Market Cap</th>\n",
       "      <th>Price</th>\n",
       "      <th>Circulating Suppy</th>\n",
       "      <th>Symbol</th>\n",
       "    </tr>\n",
       "  </thead>\n",
       "  <tbody>\n",
       "    <tr>\n",
       "      <th>0</th>\n",
       "      <td>Bitcoin</td>\n",
       "      <td>$883,011,296,029.51</td>\n",
       "      <td>$46,707.01</td>\n",
       "      <td>18,905,325</td>\n",
       "      <td>BTC</td>\n",
       "    </tr>\n",
       "    <tr>\n",
       "      <th>1</th>\n",
       "      <td>Ethereum</td>\n",
       "      <td>$466,037,604,378.56</td>\n",
       "      <td>$3,922.59</td>\n",
       "      <td>118,808,565</td>\n",
       "      <td>ETH</td>\n",
       "    </tr>\n",
       "    <tr>\n",
       "      <th>2</th>\n",
       "      <td>Binance Coin</td>\n",
       "      <td>$88,399,940,789.77</td>\n",
       "      <td>$529.97</td>\n",
       "      <td>166,801,148</td>\n",
       "      <td>BNB</td>\n",
       "    </tr>\n",
       "    <tr>\n",
       "      <th>3</th>\n",
       "      <td>Tether</td>\n",
       "      <td>$76,288,982,077.53</td>\n",
       "      <td>$0.9999</td>\n",
       "      <td>76,289,909,012</td>\n",
       "      <td>USDT</td>\n",
       "    </tr>\n",
       "    <tr>\n",
       "      <th>4</th>\n",
       "      <td>Solana</td>\n",
       "      <td>$55,490,684,848.85</td>\n",
       "      <td>$180.10</td>\n",
       "      <td>308,113,743</td>\n",
       "      <td>SOL</td>\n",
       "    </tr>\n",
       "    <tr>\n",
       "      <th>5</th>\n",
       "      <td>Cardano</td>\n",
       "      <td>$42,517,012,629.67</td>\n",
       "      <td>$1.24</td>\n",
       "      <td>34,159,510,418</td>\n",
       "      <td>ADA</td>\n",
       "    </tr>\n",
       "    <tr>\n",
       "      <th>6</th>\n",
       "      <td>USD Coin</td>\n",
       "      <td>$42,061,885,365.57</td>\n",
       "      <td>$0.9999</td>\n",
       "      <td>42,066,799,177</td>\n",
       "      <td>USDC</td>\n",
       "    </tr>\n",
       "    <tr>\n",
       "      <th>7</th>\n",
       "      <td>XRP</td>\n",
       "      <td>$39,453,059,810.78</td>\n",
       "      <td>$0.835</td>\n",
       "      <td>47,247,295,769</td>\n",
       "      <td>XRP</td>\n",
       "    </tr>\n",
       "    <tr>\n",
       "      <th>8</th>\n",
       "      <td>Terra</td>\n",
       "      <td>$29,259,639,594.93</td>\n",
       "      <td>$78.23</td>\n",
       "      <td>374,040,100</td>\n",
       "      <td>LUNA</td>\n",
       "    </tr>\n",
       "    <tr>\n",
       "      <th>9</th>\n",
       "      <td>Avalanche</td>\n",
       "      <td>$26,185,067,589.88</td>\n",
       "      <td>$107.67</td>\n",
       "      <td>243,188,891</td>\n",
       "      <td>AVAX</td>\n",
       "    </tr>\n",
       "    <tr>\n",
       "      <th>10</th>\n",
       "      <td>Polkadot</td>\n",
       "      <td>$24,483,473,496.75</td>\n",
       "      <td>$24.79</td>\n",
       "      <td>987,579,315</td>\n",
       "      <td>DOT</td>\n",
       "    </tr>\n",
       "    <tr>\n",
       "      <th>11</th>\n",
       "      <td>Dogecoin</td>\n",
       "      <td>$22,484,087,905.96</td>\n",
       "      <td>$0.1696</td>\n",
       "      <td>132,589,974,327</td>\n",
       "      <td>DOGE</td>\n",
       "    </tr>\n",
       "    <tr>\n",
       "      <th>12</th>\n",
       "      <td>SHIBA INU</td>\n",
       "      <td>$16,906,095,915.60</td>\n",
       "      <td>$0.00003079</td>\n",
       "      <td>549,057,307,872,741</td>\n",
       "      <td>SHIB</td>\n",
       "    </tr>\n",
       "    <tr>\n",
       "      <th>13</th>\n",
       "      <td>Polygon</td>\n",
       "      <td>$15,737,173,172.50</td>\n",
       "      <td>$2.22</td>\n",
       "      <td>7,081,682,963</td>\n",
       "      <td>MATIC</td>\n",
       "    </tr>\n",
       "    <tr>\n",
       "      <th>14</th>\n",
       "      <td>Binance USD</td>\n",
       "      <td>$14,376,828,695.35</td>\n",
       "      <td>$0.9999</td>\n",
       "      <td>14,377,988,824</td>\n",
       "      <td>BUSD</td>\n",
       "    </tr>\n",
       "    <tr>\n",
       "      <th>15</th>\n",
       "      <td>Crypto.com Coin</td>\n",
       "      <td>$12,988,488,249.77</td>\n",
       "      <td>$0.5141</td>\n",
       "      <td>25,263,013,692</td>\n",
       "      <td>CRO</td>\n",
       "    </tr>\n",
       "    <tr>\n",
       "      <th>16</th>\n",
       "      <td>Wrapped Bitcoin</td>\n",
       "      <td>$12,065,643,113.01</td>\n",
       "      <td>$46,596.29</td>\n",
       "      <td>258,940</td>\n",
       "      <td>WBTC</td>\n",
       "    </tr>\n",
       "    <tr>\n",
       "      <th>17</th>\n",
       "      <td>Litecoin</td>\n",
       "      <td>$10,596,915,193.66</td>\n",
       "      <td>$153.08</td>\n",
       "      <td>69,225,757</td>\n",
       "      <td>LTC</td>\n",
       "    </tr>\n",
       "    <tr>\n",
       "      <th>18</th>\n",
       "      <td>Uniswap</td>\n",
       "      <td>$9,391,851,785.42</td>\n",
       "      <td>$14.96</td>\n",
       "      <td>627,966,357</td>\n",
       "      <td>UNI</td>\n",
       "    </tr>\n",
       "    <tr>\n",
       "      <th>19</th>\n",
       "      <td>Dai</td>\n",
       "      <td>$9,221,515,725.49</td>\n",
       "      <td>$0.9994</td>\n",
       "      <td>9,227,495,283</td>\n",
       "      <td>DAI</td>\n",
       "    </tr>\n",
       "  </tbody>\n",
       "</table>\n",
       "</div>"
      ],
      "text/plain": [
       "               Name           Market Cap        Price    Circulating Suppy  \\\n",
       "0           Bitcoin  $883,011,296,029.51   $46,707.01           18,905,325   \n",
       "1          Ethereum  $466,037,604,378.56    $3,922.59          118,808,565   \n",
       "2      Binance Coin   $88,399,940,789.77      $529.97          166,801,148   \n",
       "3            Tether   $76,288,982,077.53      $0.9999       76,289,909,012   \n",
       "4            Solana   $55,490,684,848.85      $180.10          308,113,743   \n",
       "5           Cardano   $42,517,012,629.67        $1.24       34,159,510,418   \n",
       "6          USD Coin   $42,061,885,365.57      $0.9999       42,066,799,177   \n",
       "7               XRP   $39,453,059,810.78       $0.835       47,247,295,769   \n",
       "8             Terra   $29,259,639,594.93       $78.23          374,040,100   \n",
       "9         Avalanche   $26,185,067,589.88      $107.67          243,188,891   \n",
       "10         Polkadot   $24,483,473,496.75       $24.79          987,579,315   \n",
       "11         Dogecoin   $22,484,087,905.96      $0.1696      132,589,974,327   \n",
       "12        SHIBA INU   $16,906,095,915.60  $0.00003079  549,057,307,872,741   \n",
       "13          Polygon   $15,737,173,172.50        $2.22        7,081,682,963   \n",
       "14      Binance USD   $14,376,828,695.35      $0.9999       14,377,988,824   \n",
       "15  Crypto.com Coin   $12,988,488,249.77      $0.5141       25,263,013,692   \n",
       "16  Wrapped Bitcoin   $12,065,643,113.01   $46,596.29              258,940   \n",
       "17         Litecoin   $10,596,915,193.66      $153.08           69,225,757   \n",
       "18          Uniswap    $9,391,851,785.42       $14.96          627,966,357   \n",
       "19              Dai    $9,221,515,725.49      $0.9994        9,227,495,283   \n",
       "\n",
       "   Symbol  \n",
       "0     BTC  \n",
       "1     ETH  \n",
       "2     BNB  \n",
       "3    USDT  \n",
       "4     SOL  \n",
       "5     ADA  \n",
       "6    USDC  \n",
       "7     XRP  \n",
       "8    LUNA  \n",
       "9    AVAX  \n",
       "10    DOT  \n",
       "11   DOGE  \n",
       "12   SHIB  \n",
       "13  MATIC  \n",
       "14   BUSD  \n",
       "15    CRO  \n",
       "16   WBTC  \n",
       "17    LTC  \n",
       "18    UNI  \n",
       "19    DAI  "
      ]
     },
     "execution_count": 26,
     "metadata": {},
     "output_type": "execute_result"
    }
   ],
   "source": [
    "df['Name'] = name\n",
    "df['Market Cap'] = marketCap\n",
    "df['Price'] = price\n",
    "df['Circulating Suppy'] = circulatingSupply\n",
    "df['Symbol'] = symbol\n",
    "df"
   ]
  },
  {
   "cell_type": "markdown",
   "id": "0a1b983f",
   "metadata": {
    "slideshow": {
     "slide_type": "slide"
    }
   },
   "source": [
    "# Scraping Books.toScrape\n",
    "\n",
    "* reperire titolo e prezzo dei libri dal sito http://books.toscrape.com/index.html"
   ]
  },
  {
   "cell_type": "markdown",
   "id": "b25aee02",
   "metadata": {
    "slideshow": {
     "slide_type": "fragment"
    }
   },
   "source": [
    "<img src=\"Figures/BookstoScrape.jpg\" style=\"width:1400px;height:600px;\"/>"
   ]
  },
  {
   "cell_type": "markdown",
   "id": "80a70550",
   "metadata": {
    "slideshow": {
     "slide_type": "slide"
    }
   },
   "source": [
    "# Scraping Books.toScrape"
   ]
  },
  {
   "cell_type": "code",
   "execution_count": null,
   "id": "4203ecba",
   "metadata": {
    "slideshow": {
     "slide_type": "fragment"
    }
   },
   "outputs": [],
   "source": [
    "from urllib.request import urlopen as uReq\n",
    "from bs4 import BeautifulSoup as soup\n",
    " \n",
    "# variable to store website link as string\n",
    "myurl = 'http://books.toscrape.com/index.html'\n",
    " \n",
    "# grab website and store in variable uclient\n",
    "uClient = uReq(myurl)\n",
    " \n",
    "# read and close HTML\n",
    "page_html = uClient.read()\n",
    "uClient.close()\n",
    " \n",
    "# call BeautifulSoup for parsing\n",
    "page_soup = soup(page_html, \"html.parser\")\n",
    " \n",
    "# grabs all the products under list tag\n",
    "bookshelf = page_soup.findAll(\n",
    "                      \"li\", {\"class\": \"col-xs-6 col-sm-4 col-md-3 col-lg-3\"})\n",
    " \n",
    "# create csv file of all products\n",
    "filename = (\"Books.csv\")\n",
    "f = open(filename, \"w\")\n",
    " \n",
    "headers = \"Book title, Price\\n\"\n",
    "f.write(headers)\n",
    " \n",
    "for books in bookshelf:\n",
    " \n",
    "    # collect title of all books\n",
    "    book_title = books.h3.a[\"title\"]\n",
    " \n",
    "    # collect book price of all books\n",
    "    book_price = books.findAll(\"p\", {\"class\": \"price_color\"})\n",
    "    price = book_price[0].text.strip()\n",
    " \n",
    "    print(\"Title of the book :\" + book_title)\n",
    "    print(\"Price of the book :\" + price)\n",
    " \n",
    "    f.write(book_title + \",\" + price+\"\\n\")\n",
    "f.close()"
   ]
  }
 ],
 "metadata": {
  "celltoolbar": "Slideshow",
  "kernelspec": {
   "display_name": "Python 3 (ipykernel)",
   "language": "python",
   "name": "python3"
  },
  "language_info": {
   "codemirror_mode": {
    "name": "ipython",
    "version": 3
   },
   "file_extension": ".py",
   "mimetype": "text/x-python",
   "name": "python",
   "nbconvert_exporter": "python",
   "pygments_lexer": "ipython3",
   "version": "3.8.10"
  }
 },
 "nbformat": 4,
 "nbformat_minor": 5
}
