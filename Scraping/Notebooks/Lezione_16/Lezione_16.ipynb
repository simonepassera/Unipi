{
 "cells": [
  {
   "cell_type": "markdown",
   "id": "b65e38c1",
   "metadata": {
    "slideshow": {
     "slide_type": "slide"
    }
   },
   "source": [
    "#### <h1><center> WebScraping </h1>\n",
    "<h1><center> Anno Accademico 2022-2023 </h1>\n",
    "<h1><center>  Docente: Laura Ricci </h1>\n",
    "<h1><center>  Lezione 18 </h1>\n",
    "<h1><center>  Selenium: gestione pagine dinamiche</h1>  \n",
    "<h1><center> 28 Marzo 2023 </h1>"
   ]
  },
  {
   "cell_type": "markdown",
   "id": "28b0ec9c",
   "metadata": {
    "slideshow": {
     "slide_type": "slide"
    }
   },
   "source": [
    "# Web dinamico: JavaScript\n",
    "\n",
    "* le tre componenti principali del web moderno\n",
    "    * **HTML**: \"fornisce il contenuto\"\n",
    "    * **CSS**: \"specifica la presentazione del contenuto\"\n",
    "    * **Javascript**: \"implementa il comportamento, interagendo con l'utente e con il server\"\n",
    "* JavaScript è usato come linguaggio di programmazione client-side dal **98.5% of di tutti i siti web**\n",
    "    * fonte <https://w3techs.com/technologies/details/cp-javascript>\n",
    "* diversi livelli d'uso di **JavaScript**\n",
    "    * rendere le pagine web più interattive e dinamiche\n",
    "    * gestioni di semplici form\n",
    "    * pagine interamente dinamiche in cui tutto il contenuto è scaricato tramite **JavaScript**\n",
    "* gli strumenti di scraping devono necessariamente gestire questi scenari dinamici"
   ]
  },
  {
   "cell_type": "markdown",
   "id": "70726ac9",
   "metadata": {
    "slideshow": {
     "slide_type": "slide"
    }
   },
   "source": [
    "# JavaScript in breve\n",
    "\n",
    "* rilasciato nel 1995, 6 mesi dopo **JAVA**\n",
    "* inizialmente utilizzato esclusivamente come linguaggio client-side, eseguito nel browser\n",
    "* arricchito con **Ajax** nel 1999\n",
    "* introduzione di **Node.js** nel 2009\n",
    "    * un run-time environment per **JavaScript** open-source, cross-platform\n",
    "    * possibilità di esecuzione stand-alone o nel server\n",
    "* attualmente un linguaggio general purpose"
   ]
  },
  {
   "cell_type": "markdown",
   "id": "4354f086",
   "metadata": {
    "slideshow": {
     "slide_type": "slide"
    }
   },
   "source": [
    "# JavaScript e HTML: un esempio"
   ]
  },
  {
   "cell_type": "markdown",
   "id": "1903dc7b",
   "metadata": {
    "slideshow": {
     "slide_type": "fragment"
    }
   },
   "source": [
    "```\n",
    "<!DOCTYPE html>\n",
    "<!-- JSExAlertWrite.html -->\n",
    "<html lang=\"en\">\n",
    "<head>\n",
    "  <meta charset=\"utf-8\">\n",
    "  <title>JavaScript Example: Functions alert() and document.write()</title>\n",
    "  <script>\n",
    "    alert(\"Hello, world!\");\n",
    "  </script>\n",
    "</head>\n",
    "<body>\n",
    "  <h1>My first JavaScript says:</h1>\n",
    "  <script>\n",
    "    document.write(\"<h2><em>Hello world, again!</em></h2>\");\n",
    "    document.write(\"<p>This document was last modified on \"\n",
    "        + document.lastModified + \".</p>\");\n",
    "  </script>\n",
    "</body>\n",
    "</html>\n",
    "```"
   ]
  },
  {
   "cell_type": "markdown",
   "id": "db787447",
   "metadata": {
    "slideshow": {
     "slide_type": "fragment"
    }
   },
   "source": [
    "* il codice **JavaScript** è incorporato nel documento **HTML** attraverso i tag <code> script </code> <code> /script </code>\n",
    "\n",
    "```\n",
    "<script>\n",
    "  // Il tuo codice JavaScript è inserito qui!!\n",
    "</script>\n",
    "```\n",
    "oppure si può memorizzare il codice in un file e poi richiamarlo\n",
    "\n",
    "```\n",
    "<script src=\"JSExFiles.js\">\n",
    "</script>\n",
    "```\n",
    "\n",
    "* lo script può essere collocato nella **HEAD section** oppure nella **BODY section**\n",
    "* nell'esempio\n",
    "    * lo script modifica il contenuto della pagina corrente\n",
    "    * il riferimento, contenuto nel codice, a **document** è un riferimento alla **pagina web corrente**, in cui lo script è integrato\n",
    "\n"
   ]
  },
  {
   "cell_type": "markdown",
   "id": "82f43fa4",
   "metadata": {
    "slideshow": {
     "slide_type": "slide"
    }
   },
   "source": [
    "# JavaScript e HTML: un esempio"
   ]
  },
  {
   "cell_type": "markdown",
   "id": "a3045eb7",
   "metadata": {
    "slideshow": {
     "slide_type": "fragment"
    }
   },
   "source": [
    "<center>\n",
    "<img src=\"Figures/Javascript.jpg\" style=\"width:500px;height:300px;\"/>"
   ]
  },
  {
   "cell_type": "markdown",
   "id": "1194d8bd",
   "metadata": {
    "slideshow": {
     "slide_type": "fragment"
    }
   },
   "source": [
    "* il contenuto di questa finestra si riferisce all'esempio della pagina precedente\n",
    "* come risultato della operazione <code> document.write() </code> \n",
    "     * la **BODY section** del documento ora comprende nuovi tag, registrati in coda al documento\n",
    "```\n",
    "<h1>My First JavaScript says</h1>\n",
    "<h2><em>Hello world, again!</em></h2>\n",
    "    <p>This document was last modified on mm/dd/yyyy hh:mm:ss.</p>\n",
    "```\n",
    "* il codice **JavaScript** ha modificato il layout dell'**HTML**\n",
    "\n",
    "* non è di interesse di questo corso presentare come usare **JavaScript** in ambiente web.\n",
    "\n",
    "* interessa solo capire come gestire le pagine dinamiche generate da **Javascript** nel processo di scraping!"
   ]
  },
  {
   "cell_type": "markdown",
   "id": "e99ef7dc",
   "metadata": {
    "slideshow": {
     "slide_type": "slide"
    }
   },
   "source": [
    "# JavaScript: esecuzione nel browser"
   ]
  },
  {
   "cell_type": "markdown",
   "id": "2de6c9d2",
   "metadata": {
    "slideshow": {
     "slide_type": "fragment"
    }
   },
   "source": [
    "* un programma **JavaScript** viene inserito in una pagina web \n",
    "* il browsr scarica la pagina del server e lo esegue\n",
    "    * nel browser esiste la macchina virtuale in grado di eseguire il linguaggio\n",
    "    * il programma può utilizzare altre librerie, tra cui **jQuery**\n",
    "* vengono adottati diversi meccanismi per proteggere il client da attacchi eseguiti dal codice scaricato. Il programma: \n",
    "    * non può leggere file dalla macchina del client\n",
    "    * può stabilire connessioni solo con il server a cui si collega, non con altri serber\n",
    "    * non può scrivere sul disco del client\n",
    "    * non può autonomamente chiudere finestre nel browser che non ha precendetemanete aperto"
   ]
  },
  {
   "cell_type": "markdown",
   "id": "62fa8441",
   "metadata": {
    "slideshow": {
     "slide_type": "slide"
    }
   },
   "source": [
    "# Scraping di pagine dinamiche"
   ]
  },
  {
   "cell_type": "markdown",
   "id": "d0c7fd2a",
   "metadata": {
    "slideshow": {
     "slide_type": "fragment"
    }
   },
   "source": [
    "* visualizzare la pagina che si trova alla **URL** <code>webscrapingfordatascience.com></code> e analizzare il codice **HTML**\n",
    "* il programma può utilizzare altre librerie, tra cui **jQuery**\n",
    "        "
   ]
  },
  {
   "cell_type": "markdown",
   "id": "95105ae0",
   "metadata": {
    "slideshow": {
     "slide_type": "fragment"
    }
   },
   "source": [
    "<img src=\"Figures/simplejavascript.jpg\" style=\"width:700px;height:250px;\"/>"
   ]
  },
  {
   "cell_type": "markdown",
   "id": "cccb9aa8",
   "metadata": {
    "slideshow": {
     "slide_type": "slide"
    }
   },
   "source": [
    "# Scraping di pagine dinamiche"
   ]
  },
  {
   "cell_type": "markdown",
   "id": "7262e7c1",
   "metadata": {
    "slideshow": {
     "slide_type": "fragment"
    }
   },
   "source": [
    "* selezionando  il tasto destro sulla pagina, premere poi  il tasto **visualizza sorgente pagina** \n",
    "    * si ottiene il seguente codice **HTML**\n",
    "    * è il codice che il server ha restituito inizialmente al browser\n",
    "\n",
    "```\n",
    "<html>\n",
    "\n",
    "<head>\n",
    "\t<script src=\"https://code.jquery.com/jquery-3.2.1.min.js\"></script>\n",
    "\t<script>\n",
    "\t$(function() {\n",
    "\tdocument.cookie = \"jsenabled=1\";\n",
    "\t$.getJSON(\"quotes.php\", function(data) {\n",
    "\t\tvar items = [];\n",
    "\t\t$.each(data, function(key, val) {\n",
    "\t\t\titems.push(\"<li id='\" + key + \"'>\" + val + \"</li>\");\n",
    "\t\t});\n",
    "\t\t$(\"<ul/>\", {\n",
    "\t\t\thtml: items.join(\"\")\n",
    "\t\t\t}).appendTo(\"body\");\n",
    "\t\t});\n",
    "\t});\n",
    "\t</script>\n",
    "</head>\n",
    "\n",
    "<body>\n",
    "\n",
    "<h1>Here are some quotes</h1>\n",
    "\n",
    "</body>\n",
    "\n",
    "</html>\n",
    "```\n"
   ]
  },
  {
   "cell_type": "markdown",
   "id": "44db11b5",
   "metadata": {
    "slideshow": {
     "slide_type": "fragment"
    }
   },
   "source": [
    "* le **quotes** non sono presenti nel codice **HTML**, invece è presente il codice **JavaScript** che consentirà di reperirle\n",
    "  dinamicamente dal server\n",
    "* il codice **JavaScript** utilizza la libreria **JQuery**\n",
    "* il **metodo getJSON** effettua un'altra richiesta per reperire le tre quotes che vengono visualizzate\n",
    "* le quote vengono visualizzate inserendo infondo al documeto \n",
    "   * un elemento <code> ul </code>, (unordered list) \n",
    "   * l'elemento consente di elencare  le quote scaricate dal server"
   ]
  },
  {
   "cell_type": "markdown",
   "id": "c55ea965",
   "metadata": {
    "slideshow": {
     "slide_type": "slide"
    }
   },
   "source": [
    "# Scraping di pagine dinamiche"
   ]
  },
  {
   "cell_type": "markdown",
   "id": "871492c4",
   "metadata": {
    "slideshow": {
     "slide_type": "fragment"
    }
   },
   "source": [
    "* selezionando il tasto destro sulla pagina, premere poi il tasto **ispeziona pagina**"
   ]
  },
  {
   "cell_type": "markdown",
   "id": "69ed60f5",
   "metadata": {
    "slideshow": {
     "slide_type": "fragment"
    }
   },
   "source": [
    "\n",
    "```\n",
    "<html>\n",
    "\n",
    "<head>\n",
    "\t<script src=\"https://code.jquery.com/jquery-3.2.1.min.js\"></script>\n",
    "\t<script>\n",
    "\t$(function() {\n",
    "\tdocument.cookie = \"jsenabled=1\";\n",
    "\t$.getJSON(\"quotes.php\", function(data) {\n",
    "\t\tvar items = [];\n",
    "\t\t$.each(data, function(key, val) {\n",
    "\t\t\titems.push(\"<li id='\" + key + \"'>\" + val + \"</li>\");\n",
    "\t\t});\n",
    "\t\t$(\"<ul/>\", {\n",
    "\t\t\thtml: items.join(\"\")\n",
    "\t\t\t}).appendTo(\"body\");\n",
    "\t\t});\n",
    "\t});\n",
    "\t</script>\n",
    "</head>\n",
    "<body data-new-gr-c-s-check-loaded=\"14.1101.0\" data-gr-ext-installed=\"\">\n",
    "    <h1>Here are some quotes</h1>\n",
    "    <h1>Here are some quotes</h1>\n",
    "        <ul>\n",
    "            <li id=\"0\">Either you run the day, or the day runs you.–Jim Rohn\n",
    "            </li>\n",
    "            <li id=\"1\">The most common way people give up their power is by thinking they don’t have any.–Alice Walker\n",
    "            </li>\n",
    "            <li id=\"2\">Every child is an artist. The problem is how to remain an artist once he grows up. –Pablo Picasso\n",
    "            </li>\n",
    "        </ul>\n",
    "</body>\n",
    "</html>\n",
    "```"
   ]
  },
  {
   "cell_type": "markdown",
   "id": "30b4d5d5",
   "metadata": {
    "slideshow": {
     "slide_type": "fragment"
    }
   },
   "source": [
    "* appaiono nell'**HTML** le singole quotes, come elementi della lista\n",
    "* viene mostrato il codice **HTML** prodotto dall'esecuzione del fragmento di codice **JavaScript**"
   ]
  },
  {
   "cell_type": "markdown",
   "id": "9508c4a9",
   "metadata": {
    "slideshow": {
     "slide_type": "slide"
    }
   },
   "source": [
    "# Scraping con BeautifulSoup?"
   ]
  },
  {
   "cell_type": "code",
   "execution_count": 1,
   "id": "3521779d",
   "metadata": {
    "slideshow": {
     "slide_type": "fragment"
    }
   },
   "outputs": [
    {
     "name": "stdout",
     "output_type": "stream",
     "text": [
      "None\n"
     ]
    }
   ],
   "source": [
    "import requests\n",
    "from bs4 import BeautifulSoup\n",
    "url='http://www.webscrapingfordatascience.com/simplejavascript'\n",
    "r=requests.get(url)\n",
    "html_soup = BeautifulSoup(r.text,'html.parser')\n",
    "ul_tag=html_soup.find('ul')\n",
    "print(ul_tag)"
   ]
  },
  {
   "cell_type": "markdown",
   "id": "c6ed69c4",
   "metadata": {
    "slideshow": {
     "slide_type": "fragment"
    }
   },
   "source": [
    "* nessun tag di tipo **ul** è individuato nella pagina\n",
    "* le **quotes** non sono presenti nella pagina scaricata"
   ]
  },
  {
   "cell_type": "code",
   "execution_count": null,
   "id": "7afc4c4c",
   "metadata": {
    "slideshow": {
     "slide_type": "fragment"
    }
   },
   "outputs": [],
   "source": [
    "script_tag=html_soup.find('script', attrs={'src':None})\n",
    "print(script_tag)"
   ]
  },
  {
   "cell_type": "markdown",
   "id": "9872a65c",
   "metadata": {
    "slideshow": {
     "slide_type": "fragment"
    }
   },
   "source": [
    "* **BeutifulSoup**\n",
    "    * non supporta l'esecuzione di codice **JavaScript**\n",
    "    * ha scaricato il **sorgente della pagina**, non il risultato della esecuzione del **JavaScript**\n",
    "    * consente però di scaricare il sorgente **JavaScript**"
   ]
  },
  {
   "cell_type": "markdown",
   "id": "eb716b02",
   "metadata": {
    "slideshow": {
     "slide_type": "slide"
    }
   },
   "source": [
    "# Quali strumenti per lo scraping di pagine dinamiche?"
   ]
  },
  {
   "cell_type": "markdown",
   "id": "ce07e2aa",
   "metadata": {
    "slideshow": {
     "slide_type": "fragment"
    }
   },
   "source": [
    "* **BeautifulSoup** + **requests** non sono più sufficienti\n",
    "    * utilizzabili solo quando il codice **JavaScript** è semplice ed è possibile un **reverse engineering** del codice\n",
    "    * molto complesso per la maggior parte delle pagine esistenti\n",
    "* nel caso più generale sono necessari strumenti più sofisticati:\n",
    "    * **Selenium**\n",
    "    * **Scrapy**"
   ]
  },
  {
   "cell_type": "markdown",
   "id": "fd066b49",
   "metadata": {
    "slideshow": {
     "slide_type": "slide"
    }
   },
   "source": [
    "# Selenium: una libreria per lo scraping di pagine dinamiche"
   ]
  },
  {
   "cell_type": "markdown",
   "id": "1cb97fd9",
   "metadata": {
    "slideshow": {
     "slide_type": "fragment"
    }
   },
   "source": [
    "* nasce nel 2004 come tool per lo sviluppo di test automatici per applicazioni web\n",
    "    * possibile scrivere script che simulano l’interazione umana con un'applicazione web\n",
    "    * da la possibilità di\n",
    "        * caricare in modo automatico pagine web\n",
    "        * simulare azioni come quelle compiute da un utente quando interagisce con la pagina\n",
    "* successivamente viene utilizzato come ottimo tool per il **web scraping**\n",
    "    * scraping per pagine dinamiche, ma con  funzionalità simili a quelle di BeautifulSoup per lo scraping di pagine statiche\n",
    "* esistono binding per **Java**, **Php**, **Python**,...\n",
    "* non una libreria standar, occorre installarla  con\n",
    "    ```\n",
    "    pip install -U selenium\n",
    "    ```"
   ]
  },
  {
   "cell_type": "markdown",
   "id": "966f571e",
   "metadata": {
    "slideshow": {
     "slide_type": "slide"
    }
   },
   "source": [
    "# Selenium: il WebDriver"
   ]
  },
  {
   "cell_type": "markdown",
   "id": "71c439ed",
   "metadata": {
    "slideshow": {
     "slide_type": "fragment"
    }
   },
   "source": [
    "* per interpretare il codive **JavaScript** occorre un vero interprete del linguaggio, che è disponibile all'interno di un browser \n",
    "    * richiesta l'integrazione con un **third-party browser**\n",
    "* si utilizza una tecnologia indicata come **WebDriver**\n",
    "    * standard di **W3C** dal **2018**\n",
    "    * un software che esegue chiamate dirette al browser usando il suppporto che i browser offrono per l'automazione\n",
    "    * contiene funzionalità simili a **BeutifulSoup** per la ricerca di elementi nella pagina\n",
    "    * poichè le chiamate dipendono dal browser che stiamo utilizzando, è necessaria un'interfaccia diversa di **Webdriver** a seconda del browser utilizzato"
   ]
  },
  {
   "cell_type": "markdown",
   "id": "7b8b9217",
   "metadata": {
    "slideshow": {
     "slide_type": "fragment"
    }
   },
   "source": [
    "<img src=\"Figures/webdriverbrowser.jpg\" style=\"width:1200px;height:500px;\"/>"
   ]
  },
  {
   "cell_type": "markdown",
   "id": "c4f96f67",
   "metadata": {
    "slideshow": {
     "slide_type": "slide"
    }
   },
   "source": [
    "# Il Driver del browser"
   ]
  },
  {
   "cell_type": "markdown",
   "id": "8dff2468",
   "metadata": {
    "slideshow": {
     "slide_type": "fragment"
    }
   },
   "source": [
    "* il **WebDriver** interagisce con il **Driver** del browser\n",
    "    * tipi diversi di **Driver** a seconda del browser utilizzato\n",
    "* nel caso di **Chrome**\n",
    "    * lo **zip** scaricato dalla pagine di **Chrome** contiene un eseguibile di nome **chromedriver.exe**\n",
    "    * Selenium deve accedere a questo eseguibile\n",
    "        * inserire l'eseguibile nella cartella dove si trova lo script o il Notebook Python\n",
    "        * oppure indicare esplicitamente  il path \n",
    "* inizializzazioni dipendenti dal browser utilizzato, ad esempio:"
   ]
  },
  {
   "cell_type": "markdown",
   "id": "1c95d27f",
   "metadata": {
    "slideshow": {
     "slide_type": "fragment"
    }
   },
   "source": [
    "```\n",
    "from selenium import webdriver\n",
    "driverChrome = webdriver.Chrome()\n",
    "driverFirefox = webdriver.FireFox()\n",
    "driverEdge = webdriver.Edge()\n",
    "driverSafari = webdriver.Safari()\n",
    "driverOpera = webdriver.Opera()\n",
    "driverExplorer = webdriver.Ie()\n",
    "```"
   ]
  },
  {
   "cell_type": "markdown",
   "id": "41132dc6",
   "metadata": {
    "slideshow": {
     "slide_type": "slide"
    }
   },
   "source": [
    "# Lancio del driver in Chrome"
   ]
  },
  {
   "cell_type": "markdown",
   "id": "129e9db0",
   "metadata": {
    "slideshow": {
     "slide_type": "fragment"
    }
   },
   "source": [
    "```\n",
    "from selenium import webdriver\n",
    "\n",
    "# lancio del driver di Chrome che fa apparire una pagina vuota del browser\n",
    "driver=webdriver.Chrome()\n",
    "\n",
    "# tramite il WebDriver, si \"istruisce\" il driver di Chrome a caricare una URL ed interpretare il JavaScript\n",
    "url='http://www.webscrapingfordatascience.com/complexjavascript'\n",
    "driver.get(url)\n",
    "```"
   ]
  },
  {
   "cell_type": "markdown",
   "id": "7289453c",
   "metadata": {
    "slideshow": {
     "slide_type": "fragment"
    }
   },
   "source": [
    "* quando si esegue il codice, appare una nuova finestra del browser\n",
    "    * nella finestra viene caricata la pagina richiesta\n",
    "* quella pagina verrà poi \"pilotata\" dai comandi dati nello script **Python**\n",
    "    * inserimento di dati nelle **form**\n",
    "    * ricerca nel documento\n",
    "    * ...\n"
   ]
  },
  {
   "cell_type": "markdown",
   "id": "a945ccbd",
   "metadata": {
    "slideshow": {
     "slide_type": "slide"
    }
   },
   "source": [
    "# Parsare la pagina HTML"
   ]
  },
  {
   "cell_type": "markdown",
   "id": "a4ac2664",
   "metadata": {
    "slideshow": {
     "slide_type": "fragment"
    }
   },
   "source": [
    "* consideriamo una pagina più complessa\n",
    "* scroll di pagina consente di visualizzare le quote successive"
   ]
  },
  {
   "cell_type": "markdown",
   "id": "96f7f77c",
   "metadata": {
    "slideshow": {
     "slide_type": "fragment"
    }
   },
   "source": [
    "<img src=\"Figures/complexjavascript.jpg\" style=\"width:1200px;height:500px;\"/>"
   ]
  },
  {
   "cell_type": "markdown",
   "id": "70d61116",
   "metadata": {
    "slideshow": {
     "slide_type": "slide"
    }
   },
   "source": [
    "# Parsare la pagina HTML"
   ]
  },
  {
   "cell_type": "markdown",
   "id": "2d2283b8",
   "metadata": {
    "slideshow": {
     "slide_type": "fragment"
    }
   },
   "source": [
    "* **obiettivo** \n",
    "    * con riferimento all'esempio precedente, ricercare il testo delle quote nella pagina e stamparlo\n",
    "* **WebDriver** offre diversi metodi per reperire gli elementi all'interno di una pagina, simili a quelli di **BeautifulSoup**\n",
    "* **ATTENZIONE!**\n",
    "    * in **Selenium 4** il nome di molto metodi è cambiato rispetto a **Selenium 3**\n",
    "    * molti dei metodi che trovate nei testi di riferimento non sono più validi\n",
    "    * verificare nome e semantica dei metodi in <https://www.selenium.dev/documentation/overview/> \n"
   ]
  },
  {
   "cell_type": "code",
   "execution_count": 3,
   "id": "1a1526e9",
   "metadata": {
    "slideshow": {
     "slide_type": "fragment"
    }
   },
   "outputs": [
    {
     "name": "stdout",
     "output_type": "stream",
     "text": [
      "parsing terminato\n"
     ]
    }
   ],
   "source": [
    "from selenium import webdriver\n",
    "from selenium.webdriver.common.by import By\n",
    "\n",
    "# lancio del driver di Chrome che fa apparire una pagina vuota nel browser\n",
    "driver=webdriver.Chrome()\n",
    "\n",
    "# tramite il WebDriver, si \"istruisce\" il driver di Chrome a caricare una URL ed interpretare il JavaScript\n",
    "url='http://www.webscrapingfordatascience.com/complexjavascript'\n",
    "driver.get(url)\n",
    "\n",
    "for quote in driver.find_elements(By.CLASS_NAME, \"quote\"):\n",
    "    print(quote.text)\n",
    "    \n",
    "print (\"parsing terminato\")\n",
    "\n"
   ]
  },
  {
   "cell_type": "markdown",
   "id": "b5236281",
   "metadata": {
    "slideshow": {
     "slide_type": "fragment"
    }
   },
   "source": [
    "* ma....può accadere che **non venga stampata alcuna quote**, quale è il motivo?"
   ]
  },
  {
   "cell_type": "markdown",
   "id": "e5c1fcfe",
   "metadata": {
    "slideshow": {
     "slide_type": "slide"
    }
   },
   "source": [
    "# Parsare la pagina HTML"
   ]
  },
  {
   "cell_type": "markdown",
   "id": "0e1755fe",
   "metadata": {
    "slideshow": {
     "slide_type": "fragment"
    }
   },
   "source": [
    "* perchè non viene stampata alcuna quote?\n",
    "* esiste un problema di **temporizzazione**\n",
    "    * il browser impiega un pò di tempo per eseguire il codice **JavaScript**\n",
    "    * l'esecuzione del metodo che implementa il parsing inizia prima che tale esecuzione sia terminata\n",
    "    * il metodo accede alla pagina statica e non trova in essa alcuna quote, perchè la quote deve essere ancora caricata \n",
    "* è necessario utilizzare deimeccanismi  che consentano di implementare una **corretta sincronizzazione**\n"
   ]
  },
  {
   "cell_type": "markdown",
   "id": "04ee1e0f",
   "metadata": {
    "slideshow": {
     "slide_type": "slide"
    }
   },
   "source": [
    "# Selenium  sincronizzazione"
   ]
  },
  {
   "cell_type": "markdown",
   "id": "fc95221f",
   "metadata": {
    "slideshow": {
     "slide_type": "fragment"
    }
   },
   "source": [
    "* il problema è reso anche più complesso dal fatto che la maggior parte dei siti usa **AJAX**\n",
    "    * quando una pagina viene caricata nel browser, gli elementi della pagina possono essere caricati\n",
    "        * in **momenti diversi**\n",
    "        * in **modo asincrono**\n",
    "* questo rende difficile la sincronizzaione tra il **WebDriver** e il **browser**\n",
    "    * se un elemento non è ancora stato caricato\n",
    "        * la funzione che lo localizza solleva una **ElementNotVisibleException**"
   ]
  },
  {
   "cell_type": "markdown",
   "id": "95b793c1",
   "metadata": {
    "slideshow": {
     "slide_type": "slide"
    }
   },
   "source": [
    "# Selenium: sincronizzazione"
   ]
  },
  {
   "cell_type": "markdown",
   "id": "5ad9b368",
   "metadata": {
    "slideshow": {
     "slide_type": "fragment"
    }
   },
   "source": [
    "* **Selenium** fornisce due tipi di meccanismi per la **sincronizzazione**\n",
    "\n",
    "    * Funzioni che attendono i caricamento dell'intera pagina o di parti di essa\n",
    "\n",
    "* **Wait implicita**\n",
    "    * ripete la ricerca a intervalli di tempo regolari (polling) per un certo periodo di tempo\n",
    "    * default setting=0\n",
    "    * una volta settata rimane valida finchè l'oggetto **WebDriver** su cui è invocata è attivo.\n",
    "\n",
    "* **Wait esplicita** \n",
    "    * aspetta finchè si verifica una certa condizione prima di procedere con la ricerca"
   ]
  },
  {
   "cell_type": "markdown",
   "id": "33183ae2",
   "metadata": {
    "slideshow": {
     "slide_type": "slide"
    }
   },
   "source": [
    "# Selenium: parsing con sincronizzazione implicita"
   ]
  },
  {
   "cell_type": "code",
   "execution_count": 4,
   "id": "e6745e34",
   "metadata": {
    "slideshow": {
     "slide_type": "fragment"
    }
   },
   "outputs": [
    {
     "name": "stdout",
     "output_type": "stream",
     "text": [
      "Life is about making an impact, not making an income. -Kevin Kruse\n",
      "Whatever the mind of man can conceive and believe, it can achieve. –Napoleon Hill\n",
      "Strive not to be a success, but rather to be of value. –Albert Einstein\n",
      "parsing terminato\n"
     ]
    }
   ],
   "source": [
    "from selenium import webdriver\n",
    "from selenium.webdriver.common.by import By\n",
    "\n",
    "# lancio del driver di Chrome che fa apparire una pagina vuota nel browser\n",
    "driver=webdriver.Chrome()\n",
    "\n",
    "# tramite il WebDriver, si \"istruisce\" il driver di Chrome a caricare una URL ed interpretare il JavaScript\n",
    "driver.implicitly_wait(30)\n",
    "url='http://www.webscrapingfordatascience.com/complexjavascript'\n",
    "driver.get(url)\n",
    "for quote in driver.find_elements(By.CLASS_NAME, \"quote\"):\n",
    "    print(quote.text)\n",
    "print (\"parsing terminato\")"
   ]
  },
  {
   "cell_type": "markdown",
   "id": "44faa3c4",
   "metadata": {
    "slideshow": {
     "slide_type": "slide"
    }
   },
   "source": [
    "# Selenium: parsing con sincronizzazione esplicita"
   ]
  },
  {
   "cell_type": "markdown",
   "id": "a2a599dc",
   "metadata": {
    "slideshow": {
     "slide_type": "fragment"
    }
   },
   "source": [
    "```\n",
    "from selenium.webdriver.support.wait import WebDriverWait\n",
    "elem = WebDriverWait(driver, tempo).until(condizione)\n",
    "```\n",
    "\n",
    "* il thread che esegue lo scraper viene interrotto finche non si verifica una condizione\n",
    "\n",
    "\n",
    "*  l’esecuzione riprende se:\n",
    "    * si verifica la condizione specificata\n",
    "    * si raggiunge un tempo massimo per l’attesa\n",
    "\n",
    "* adatta una sincronizzare **sullo stato** tra il WebDriver e il browser"
   ]
  },
  {
   "cell_type": "markdown",
   "id": "30ffc750",
   "metadata": {
    "slideshow": {
     "slide_type": "slide"
    }
   },
   "source": [
    "# Selenium: parsing con sincronizzazione esplicita e Expected Conditions"
   ]
  },
  {
   "cell_type": "code",
   "execution_count": 5,
   "id": "1ae66b03",
   "metadata": {
    "slideshow": {
     "slide_type": "fragment"
    }
   },
   "outputs": [
    {
     "name": "stdout",
     "output_type": "stream",
     "text": [
      "Life is about making an impact, not making an income. -Kevin Kruse\n",
      "Whatever the mind of man can conceive and believe, it can achieve. –Napoleon Hill\n",
      "Strive not to be a success, but rather to be of value. –Albert Einstein\n",
      "parsing terminato\n"
     ]
    }
   ],
   "source": [
    "from selenium import webdriver\n",
    "from selenium.webdriver.common.by import By\n",
    "from selenium.webdriver.support.wait import WebDriverWait\n",
    "from selenium.webdriver.support import expected_conditions as EC\n",
    "\n",
    "\n",
    "# lancio del driver di Chrome che fa apparire una pagina vuota nel browser\n",
    "driver=webdriver.Chrome()\n",
    "\n",
    "# tramite il WebDriver, si \"istruisce\" il driver di Chrome a caricare una URL ed interpretare il JavaScript\n",
    "url='http://www.webscrapingfordatascience.com/complexjavascript'\n",
    "driver.get(url)\n",
    "\n",
    "quote_elements = WebDriverWait(driver, 10).until(\n",
    "        EC.presence_of_all_elements_located((By.CSS_SELECTOR, \".quote\")))\n",
    "     \n",
    "for quote in quote_elements:\n",
    "    print(quote.text)\n",
    "    \n",
    "print (\"parsing terminato\")\n",
    "    "
   ]
  },
  {
   "cell_type": "markdown",
   "id": "2e223dae",
   "metadata": {
    "slideshow": {
     "slide_type": "slide"
    }
   },
   "source": [
    "# Selenium: Expected Conditions"
   ]
  },
  {
   "cell_type": "markdown",
   "id": "804df4ad",
   "metadata": {
    "slideshow": {
     "slide_type": "fragment"
    }
   },
   "source": [
    "* è possibile specificare una condizione complessa definendo una classe **Python** opportuna\n",
    "\n",
    "* molto più semplice utilizzare una serie di condizioni predefinite di uso comune\n",
    "\n",
    "```\n",
    "presenceOfAllElementsLocatedBy (By locator)\t\n",
    "presenceOfElementLocated(By locator)\n",
    "```\n",
    "\n",
    "* metodi che possono essere specializzati mediante l'uso della classe **classe By**\n",
    "\n",
    "\n",
    "* tramite la classe **By** è possibile specificare numerosi criteri di selezione:\n",
    "    * **By.ID**\n",
    "    * **By.XPATH**\n",
    "    * **By.CLASS_NAME**\n",
    "    * **By.CSS_SELECTOR**\n",
    "    * **By.LINK_TEXT**\n",
    "    * **By.PARTIAL_LINK_TEXT**\n",
    "    * ...."
   ]
  },
  {
   "cell_type": "markdown",
   "id": "2a3bd09e",
   "metadata": {
    "slideshow": {
     "slide_type": "slide"
    }
   },
   "source": [
    "# Selenium: individuare elementi nella pagina HTML"
   ]
  },
  {
   "cell_type": "markdown",
   "id": "c797e192",
   "metadata": {
    "slideshow": {
     "slide_type": "fragment"
    }
   },
   "source": [
    "* due funzioni di base\n",
    "    * **find_element:** restitusice un singolo elemento\n",
    "    * **find_elements:** restituisce una lista di elementi\n",
    "    \n",
    "* entrambe utilizzano gli attributi della **classe By** come selettori dell'elemento\n",
    "\n",
    "```\n",
    "find_element(By.ID, \"id\")\n",
    "find_element(By.NAME, \"name\")\n",
    "find_element(By.XPATH, \"xpath\")\n",
    "find_element(By.LINK_TEXT, \"link text\")\n",
    "find_element(By.PARTIAL_LINK_TEXT, \"partial link text\")\n",
    "find_element(By.TAG_NAME, \"tag name\")\n",
    "find_element(By.CLASS_NAME, \"class name\")\n",
    "find_element(By.CSS_SELECTOR, \"css selector\")\n",
    "```\n",
    "* tutti i metodi possono sollevare una **NoSuchElementException**\n",
    "    "
   ]
  },
  {
   "cell_type": "markdown",
   "id": "f7477caf",
   "metadata": {
    "slideshow": {
     "slide_type": "slide"
    }
   },
   "source": [
    "# Selenium: selezione per Id"
   ]
  },
  {
   "cell_type": "markdown",
   "id": "958f36dd",
   "metadata": {
    "slideshow": {
     "slide_type": "fragment"
    }
   },
   "source": [
    "```\n",
    "<html>\n",
    " <body>\n",
    "  <form id=\"loginForm\">\n",
    "   <input name=\"username\" type=\"text\" />\n",
    "   <input name=\"password\" type=\"password\" />\n",
    "   <input name=\"continue\" type=\"submit\" value=\"Login\" />\n",
    "  </form>\n",
    " </body>\n",
    "</html>\n",
    "```"
   ]
  },
  {
   "cell_type": "markdown",
   "id": "e14a641e",
   "metadata": {
    "slideshow": {
     "slide_type": "fragment"
    }
   },
   "source": [
    "```\n",
    "login_form = driver.find_element(By.ID, 'loginForm')\n",
    "```"
   ]
  },
  {
   "cell_type": "markdown",
   "id": "8926943a",
   "metadata": {
    "slideshow": {
     "slide_type": "slide"
    }
   },
   "source": [
    "# Selenium: selezione per nome"
   ]
  },
  {
   "cell_type": "markdown",
   "id": "6d18cc6c",
   "metadata": {
    "slideshow": {
     "slide_type": "fragment"
    }
   },
   "source": [
    "* utilizzata quando si conosce il **nome** di un attributo dell'elemento\n"
   ]
  },
  {
   "cell_type": "markdown",
   "id": "50206e38",
   "metadata": {
    "slideshow": {
     "slide_type": "fragment"
    }
   },
   "source": [
    "```\n",
    "<html>\n",
    " <body>\n",
    "  <form id=\"loginForm\">\n",
    "   <input name=\"username\" type=\"text\" />\n",
    "   <input name=\"password\" type=\"password\" />\n",
    "   <input name=\"continue\" type=\"submit\" value=\"Login\" />\n",
    "   <input name=\"continue\" type=\"button\" value=\"Clear\" />\n",
    "  </form>\n",
    "</body>\n",
    "</html>\n",
    "```"
   ]
  },
  {
   "cell_type": "code",
   "execution_count": null,
   "id": "bfd10906",
   "metadata": {
    "slideshow": {
     "slide_type": "fragment"
    }
   },
   "outputs": [],
   "source": [
    "```\n",
    "username = driver.find_element(By.NAME, 'username')\n",
    "password = driver.find_element(By.NAME, 'password')\n",
    "```"
   ]
  },
  {
   "cell_type": "markdown",
   "id": "45e38632",
   "metadata": {
    "slideshow": {
     "slide_type": "slide"
    }
   },
   "source": [
    "# Selenium: selezione di hyperlinks in base al testo"
   ]
  },
  {
   "cell_type": "markdown",
   "id": "34e02aa0",
   "metadata": {
    "slideshow": {
     "slide_type": "fragment"
    }
   },
   "source": [
    "* utilizzata quando si conosce il testo utilizzato in un **anchor tag**\n",
    "* selezione può essere anche riferita ad un testo parziale"
   ]
  },
  {
   "cell_type": "markdown",
   "id": "8f9341c1",
   "metadata": {
    "slideshow": {
     "slide_type": "fragment"
    }
   },
   "source": [
    "```\n",
    "<html>\n",
    " <body>\n",
    "  <p>Are you sure you want to do this?</p>\n",
    "  <a href=\"continue.html\">Continue</a>\n",
    "  <a href=\"cancel.html\">Cancel</a>\n",
    "</body>\n",
    "</html>\n",
    "```"
   ]
  },
  {
   "cell_type": "markdown",
   "id": "71e4f3ae",
   "metadata": {
    "slideshow": {
     "slide_type": "fragment"
    }
   },
   "source": [
    "```\n",
    "continue_link = driver.find_element(By.LINK_TEXT, 'Continue')\n",
    "continue_link = driver.find_element(By.PARTIAL_LINK_TEXT, 'Conti')\n",
    "```"
   ]
  },
  {
   "cell_type": "markdown",
   "id": "94604b53",
   "metadata": {
    "slideshow": {
     "slide_type": "slide"
    }
   },
   "source": [
    "# Selenium: selezione per nome di un tag"
   ]
  },
  {
   "cell_type": "markdown",
   "id": "5949f080",
   "metadata": {
    "slideshow": {
     "slide_type": "fragment"
    }
   },
   "source": [
    "```\n",
    "<html>\n",
    " <body>\n",
    "  <h1>Welcome</h1>\n",
    "  <p>Site content goes here.</p>\n",
    "</body>\n",
    "</html>\n",
    "```"
   ]
  },
  {
   "cell_type": "markdown",
   "id": "e9da7f5b",
   "metadata": {
    "slideshow": {
     "slide_type": "fragment"
    }
   },
   "source": [
    "```\n",
    "heading1 = driver.find_element(By.TAG_NAME, 'h1')\n",
    "```"
   ]
  },
  {
   "cell_type": "markdown",
   "id": "9eacc388",
   "metadata": {
    "slideshow": {
     "slide_type": "slide"
    }
   },
   "source": [
    "# Selenium: selezione per nome di una classe"
   ]
  },
  {
   "cell_type": "markdown",
   "id": "5df1e86a",
   "metadata": {
    "slideshow": {
     "slide_type": "fragment"
    }
   },
   "source": [
    "```\n",
    "<html>\n",
    " <body>\n",
    "  <p class=\"content\">Site content goes here.</p>\n",
    "</body>\n",
    "</html>\n",
    "```"
   ]
  },
  {
   "cell_type": "markdown",
   "id": "f809636b",
   "metadata": {
    "slideshow": {
     "slide_type": "fragment"
    }
   },
   "source": [
    "```\n",
    "content = driver.find_element(By.CLASS_NAME, 'content')\n",
    "```"
   ]
  },
  {
   "cell_type": "markdown",
   "id": "e6b1e313",
   "metadata": {
    "slideshow": {
     "slide_type": "slide"
    }
   },
   "source": [
    "# Selenium: selezione per CSS Selector"
   ]
  },
  {
   "cell_type": "markdown",
   "id": "c6d9af97",
   "metadata": {
    "slideshow": {
     "slide_type": "fragment"
    }
   },
   "source": [
    "```\n",
    "<html>\n",
    " <body>\n",
    "  <p class=\"content\">Site content goes here.</p>\n",
    "</body>\n",
    "</html>\n",
    "```"
   ]
  },
  {
   "cell_type": "markdown",
   "id": "efeb7ff5",
   "metadata": {
    "slideshow": {
     "slide_type": "fragment"
    }
   },
   "source": [
    "```\n",
    "content = driver.find_element(By.CSS_SELECTOR, 'p.content')\n",
    "```"
   ]
  },
  {
   "cell_type": "markdown",
   "id": "c76016d6",
   "metadata": {
    "slideshow": {
     "slide_type": "slide"
    }
   },
   "source": [
    "# Selenium: la tecnologia XPath"
   ]
  },
  {
   "cell_type": "markdown",
   "id": "fc5f18a1",
   "metadata": {
    "slideshow": {
     "slide_type": "fragment"
    }
   },
   "source": [
    "* una tecnologia che usa **path expressions** per selezionare nodi o insiemi di nodi in un documento **XML/HTML**\n",
    "* permette di scrivere una espressione che punta direttamente ad un elemento **HTML** specifico\n",
    "* fa riferimento alla rappresentazione interna di un documento **HTML**\n",
    "    * **DOM**, **Document Object Model**\n",
    "* **XPath** formalismo per individuare elementi all'interno  dell'albero"
   ]
  },
  {
   "cell_type": "markdown",
   "id": "744366ac",
   "metadata": {
    "slideshow": {
     "slide_type": "fragment"
    }
   },
   "source": [
    "<img src=\"Figures/DOM.jpg\" style=\"width:1000px;height:800px;\"/>"
   ]
  },
  {
   "cell_type": "markdown",
   "id": "36a286ed",
   "metadata": {
    "slideshow": {
     "slide_type": "slide"
    }
   },
   "source": [
    "# Selenium: selezione per XPath"
   ]
  },
  {
   "cell_type": "markdown",
   "id": "970f21f7",
   "metadata": {
    "slideshow": {
     "slide_type": "fragment"
    }
   },
   "source": [
    "```\n",
    "<html>\n",
    " <body>\n",
    "  <form id=\"loginForm\">\n",
    "   <input name=\"username\" type=\"text\" />\n",
    "   <input name=\"password\" type=\"password\" />\n",
    "   <input name=\"continue\" type=\"submit\" value=\"Login\" />\n",
    "   <input name=\"continue\" type=\"button\" value=\"Clear\" />\n",
    "  </form>\n",
    "</body>\n",
    "</html>\n",
    "```"
   ]
  },
  {
   "cell_type": "markdown",
   "id": "58d8eaf9",
   "metadata": {
    "slideshow": {
     "slide_type": "fragment"
    }
   },
   "source": [
    "```\n",
    "login_form = driver.find_element(By.XPATH, \"/html/body/form[1]\")\n",
    "login_form = driver.find_element(By.XPATH, \"//form[1]\")\n",
    "login_form = driver.find_element(By.XPATH, \"//form[@id='loginForm']\")\n",
    "```"
   ]
  },
  {
   "cell_type": "markdown",
   "id": "24bad630",
   "metadata": {
    "slideshow": {
     "slide_type": "fragment"
    }
   },
   "source": [
    "* non è richiesto di essere esperti di **XPath**!\n",
    "* l'espressione che indica il cammino **XPath** di un elemento si può ottenere direttamente dal browser\n",
    "    * puntare il mouse sull'elemento selezionato!"
   ]
  },
  {
   "cell_type": "markdown",
   "id": "21d04c08",
   "metadata": {
    "slideshow": {
     "slide_type": "slide"
    }
   },
   "source": [
    "# Selenium: interagire con il browser"
   ]
  },
  {
   "cell_type": "markdown",
   "id": "9b367a3c",
   "metadata": {
    "slideshow": {
     "slide_type": "fragment"
    }
   },
   "source": [
    "<img src=\"Figures/fruit.jpg\" style=\"width:900px;height:500px;\"/>"
   ]
  },
  {
   "cell_type": "markdown",
   "id": "9a476e47",
   "metadata": {
    "slideshow": {
     "slide_type": "slide"
    }
   },
   "source": [
    "# Selenium: interagire con il browser"
   ]
  },
  {
   "cell_type": "markdown",
   "id": "2b3ffeee",
   "metadata": {
    "slideshow": {
     "slide_type": "fragment"
    }
   },
   "source": [
    "<img src=\"Figures/fruit1.jpg\" style=\"width:1000px;height:600px;\"/>"
   ]
  },
  {
   "cell_type": "markdown",
   "id": "c0764875",
   "metadata": {
    "slideshow": {
     "slide_type": "slide"
    }
   },
   "source": [
    "# Selenium: interagire con il browser"
   ]
  },
  {
   "cell_type": "markdown",
   "id": "ac153caa",
   "metadata": {
    "slideshow": {
     "slide_type": "fragment"
    }
   },
   "source": [
    "* simulare la selezione di un **radio button** dell'utente\n",
    "* viene ricercato nel codice **HTML** il **button corrispondente al giorno della settimana** che si vuole selezionare \n",
    "    * si usa una ricerca per **XPATH**\n",
    "    * **XPATH** individuato ispezionando nel browser l'elemento selezionato\n",
    "    * se ne simula il **click**"
   ]
  },
  {
   "cell_type": "code",
   "execution_count": 6,
   "id": "5f27ef78",
   "metadata": {
    "slideshow": {
     "slide_type": "fragment"
    }
   },
   "outputs": [
    {
     "name": "stdout",
     "output_type": "stream",
     "text": [
      "primo click\n"
     ]
    }
   ],
   "source": [
    "from selenium import webdriver\n",
    "from selenium.webdriver.common.keys import Keys\n",
    "from selenium.webdriver.common.by import By\n",
    "import time\n",
    " \n",
    "# Create chrome driver.\n",
    "driver = webdriver.Chrome()\n",
    "\n",
    "driver.implicitly_wait(10)\n",
    " \n",
    "# Open the webpage.\n",
    "driver.get(\"https://openwritings.net/sites/default/files/selenium-test-pages/radio_checkbox.html\")\n",
    " \n",
    "# Radio Button: Check Monday using XPATH locator.\n",
    "element = driver.find_element(By.XPATH,\"//input[@value='Mon']\")\n",
    "element.click()\n",
    "print(\"primo click\")\n",
    " "
   ]
  },
  {
   "cell_type": "markdown",
   "id": "f75cf665",
   "metadata": {
    "slideshow": {
     "slide_type": "slide"
    }
   },
   "source": [
    "# Selenium: interagire con il browser"
   ]
  },
  {
   "cell_type": "markdown",
   "id": "94c3feed",
   "metadata": {
    "slideshow": {
     "slide_type": "fragment"
    }
   },
   "source": [
    "* simulare ora la selezione di due **Check boxes**\n",
    "* si usa una ricerca per **CSS_SELECTOR**\n",
    "* se ne simula la selezione"
   ]
  },
  {
   "cell_type": "code",
   "execution_count": 7,
   "id": "437b990e",
   "metadata": {
    "slideshow": {
     "slide_type": "fragment"
    }
   },
   "outputs": [
    {
     "name": "stdout",
     "output_type": "stream",
     "text": [
      "secondo click\n",
      "terzo click\n"
     ]
    }
   ],
   "source": [
    "# Checkbox: Uncheck Apple using CSS selector.\n",
    "element2=driver.find_element(By.CSS_SELECTOR, \"input[name='apple']\")\n",
    "element2.click()\n",
    "print(\"secondo click\")\n",
    " \n",
    "# Checkbox: Check Orange using CSS selector.\n",
    "element3=driver.find_element(By.CSS_SELECTOR, \"input[name='orange']\")\n",
    "element3.click()\n",
    "print(\"terzo click\")\n",
    " \n",
    "# Pause for 10 seconds so that you can see the results.\n",
    "time.sleep(10)\n",
    " \n",
    "# Close.\n",
    "driver.close()"
   ]
  },
  {
   "cell_type": "markdown",
   "id": "04f3f4a2",
   "metadata": {
    "slideshow": {
     "slide_type": "slide"
    }
   },
   "source": [
    "# Selenium:  interagire automaticamente con il browser"
   ]
  },
  {
   "cell_type": "markdown",
   "id": "e666bb70",
   "metadata": {
    "slideshow": {
     "slide_type": "fragment"
    }
   },
   "source": [
    "* consideriamo una form più complessa, come la seguente"
   ]
  },
  {
   "cell_type": "markdown",
   "id": "9bc3021d",
   "metadata": {
    "slideshow": {
     "slide_type": "fragment"
    }
   },
   "source": [
    "<img src=\"Figures/Form.jpg\" style=\"width:600px;height:600px;\"/>"
   ]
  },
  {
   "cell_type": "markdown",
   "id": "d6ffd773",
   "metadata": {
    "slideshow": {
     "slide_type": "slide"
    }
   },
   "source": [
    "# Selenium: interagire automaticamente con il browser"
   ]
  },
  {
   "cell_type": "markdown",
   "id": "b6c5ec04",
   "metadata": {},
   "source": [
    "<img src=\"Figures/formHTML.jpg\" style=\"width:1000px;height:600px;\"/>"
   ]
  },
  {
   "cell_type": "markdown",
   "id": "f4fdd5a8",
   "metadata": {
    "slideshow": {
     "slide_type": "slide"
    }
   },
   "source": [
    "# Selenium: interagire automaticamente con il browser"
   ]
  },
  {
   "cell_type": "code",
   "execution_count": 8,
   "id": "db4bca1d",
   "metadata": {
    "slideshow": {
     "slide_type": "fragment"
    }
   },
   "outputs": [
    {
     "name": "stdout",
     "output_type": "stream",
     "text": [
      "inserito il nome\n"
     ]
    }
   ],
   "source": [
    "from selenium import webdriver\n",
    "from selenium.webdriver.support.select import Select\n",
    "from selenium.webdriver.common.keys import Keys\n",
    "from selenium.webdriver.common.by import By\n",
    "\n",
    "url = 'http://www.webscrapingfordatascience.com/postform2/'\n",
    "driver = webdriver.Chrome()\n",
    "driver.implicitly_wait(10)\n",
    "driver.get(url)\n",
    "driver.find_element(By.NAME,'name').send_keys('Laura')\n",
    "print(\"inserito il nome\")\n"
   ]
  },
  {
   "cell_type": "markdown",
   "id": "474e0dca",
   "metadata": {
    "slideshow": {
     "slide_type": "slide"
    }
   },
   "source": [
    "# Selenium: interagire automaticamente con il browser"
   ]
  },
  {
   "cell_type": "code",
   "execution_count": 9,
   "id": "f47d5300",
   "metadata": {
    "slideshow": {
     "slide_type": "fragment"
    }
   },
   "outputs": [
    {
     "name": "stdout",
     "output_type": "stream",
     "text": [
      "cliccato il gender\n",
      "cliccato meal\n",
      "cliccato 2 meal\n",
      "selezionati i capelli\n"
     ]
    }
   ],
   "source": [
    "driver.find_element(By.CSS_SELECTOR,'input[name=\"gender\"][value=\"F\"]').click()\n",
    "print(\"cliccato il gender\")\n",
    "driver.find_element(By.NAME,'pizza').click()\n",
    "print(\"cliccato meal\")\n",
    "driver.find_element(By.NAME,'salad').click()\n",
    "print(\"cliccato 2 meal\")\n",
    "Select(driver.find_element(By.NAME,'haircolor')).select_by_value('brown')\n",
    "print(\"selezionati i capelli\")\n",
    "driver.find_element(By.NAME,'comments').send_keys(\n",
    "['First line', Keys.ENTER, 'Second line'])\n",
    "\n"
   ]
  },
  {
   "cell_type": "markdown",
   "id": "0a59f4db",
   "metadata": {
    "slideshow": {
     "slide_type": "slide"
    }
   },
   "source": [
    "# Selenium: interagire automaticamente con il browser"
   ]
  },
  {
   "cell_type": "code",
   "execution_count": null,
   "id": "f660f01c",
   "metadata": {
    "slideshow": {
     "slide_type": "fragment"
    }
   },
   "outputs": [],
   "source": [
    "input('Press ENTER to submit the form')\n",
    "driver.find_element(By.TAG_NAME,'form').submit()\n",
    "# Or: driver.find_element_by_css_selector('input[type=\"submit\"]').click()\n",
    "input('Press ENTER to close the automated browser')\n",
    "driver.quit()\n"
   ]
  }
 ],
 "metadata": {
  "celltoolbar": "Slideshow",
  "kernelspec": {
   "display_name": "Python 3 (ipykernel)",
   "language": "python",
   "name": "python3"
  },
  "language_info": {
   "codemirror_mode": {
    "name": "ipython",
    "version": 3
   },
   "file_extension": ".py",
   "mimetype": "text/x-python",
   "name": "python",
   "nbconvert_exporter": "python",
   "pygments_lexer": "ipython3",
   "version": "3.8.10"
  }
 },
 "nbformat": 4,
 "nbformat_minor": 5
}
