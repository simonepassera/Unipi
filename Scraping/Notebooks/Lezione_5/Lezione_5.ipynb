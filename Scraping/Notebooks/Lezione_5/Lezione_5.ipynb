{
 "cells": [
  {
   "cell_type": "markdown",
   "id": "b2e238e3",
   "metadata": {
    "slideshow": {
     "slide_type": "slide"
    }
   },
   "source": [
    "<h1><center> WebScraping </h1>\n",
    "<h1><center> Anno Accademico 2022-2023 </h1>\n",
    "<h1><center>  Docente: Laura Ricci </h1>\n",
    "<h1><center>  Lezione 6 </h1>\n",
    "<h1><center>  Analisi di DataSet: </h1>\n",
    "<h1><center>  Cryptocurrencies, Bike Sharing</h1> \n",
    "<h1><center> 8 Febbraio 2023 </h1>"
   ]
  },
  {
   "cell_type": "markdown",
   "id": "0ee0157c",
   "metadata": {
    "slideshow": {
     "slide_type": "slide"
    }
   },
   "source": [
    "# Criptocurrencies \n",
    "\n",
    "\n",
    "* molta attenzione da parte di \n",
    "    * imvestitori\n",
    "    * imprenditori\n",
    "    * regolatori\n",
    "    * pubblico in generale\n",
    "   \n",
    "* molti argomenti di dibattito\n",
    "    * solo un asset o una vera moneta?\n",
    "    * Initial Coin Offering (ICO) per il finanziamento di start-up innovative\n",
    "    * monete emesse da barche centrali, ma che usano la tecnologia alla base delle criptomonete, cioè la blockchain\n",
    "    * il mercato delle cryptocurrencies si rivelerà solo una \"bolla\"?\n",
    "        * regolazione o divieto?\n",
    "\n",
    "* grande interesse alle analisi di mercato\n",
    "    * big data analisys\n",
    "    * machine learning\n",
    "\n",
    "* in questa lezione presenteremo un insieme di semplici analisi del dataset *crypto-markets.csv* \n"
   ]
  },
  {
   "cell_type": "markdown",
   "id": "cf5ae6ac",
   "metadata": {
    "slideshow": {
     "slide_type": "slide"
    }
   },
   "source": [
    "# Criptocurrencies "
   ]
  },
  {
   "cell_type": "markdown",
   "id": "8e2a2a67",
   "metadata": {
    "slideshow": {
     "slide_type": "fragment"
    }
   },
   "source": [
    "<center>\n",
    "<img src=\"Figures/CryptoByYear.jpg\" style=\"width:1000px;height:800px;\"/>"
   ]
  },
  {
   "cell_type": "markdown",
   "id": "0f621c83",
   "metadata": {
    "slideshow": {
     "slide_type": "slide"
    }
   },
   "source": [
    "# Il Data Set *crypto-markets.csv* "
   ]
  },
  {
   "cell_type": "markdown",
   "id": "a02a1913",
   "metadata": {
    "slideshow": {
     "slide_type": "fragment"
    }
   },
   "source": [
    "* Una riga per ogni giorno in un periodo compreso tra \n",
    "    * *slug* : nome della cryptocurrency\n",
    "    * *symbol* : simbolo della cryptocurrency\n",
    "    * *name* : nome della cryptocurrency\n",
    "    * *date*: data dell'osservazione\n",
    "    * *ranknow* : rank della cryptocurrency in quella data\n",
    "    * *open* : prezzo di apertura in quella data\n",
    "    * *high* : prezzo più alto in quella data\n",
    "    * *low* : prezzo più basso in quella data\n",
    "    * *close* : prezzo di chiusura in quella data\n",
    "    * *volume*: volume delle transazioni in quella data\n",
    "    * *market* : capitalizzazione di mercato in USD\n",
    "    * *close_ratio*: (close-low)/(high-low)\n",
    "    * *spread* : differenza tra il prezzo più alto e quello più basso in quella data\n",
    "* periodo coperto: *2013-2018* \n",
    "* dimensione: circa *62 Mega*"
   ]
  },
  {
   "cell_type": "markdown",
   "id": "76217a5e",
   "metadata": {
    "slideshow": {
     "slide_type": "slide"
    }
   },
   "source": [
    "# Il Data Set *crypto-markets.csv*: analisi delle caratteristiche"
   ]
  },
  {
   "cell_type": "code",
   "execution_count": 1,
   "id": "7c560870",
   "metadata": {
    "slideshow": {
     "slide_type": "fragment"
    }
   },
   "outputs": [],
   "source": [
    "import pandas as pd\n",
    "import numpy as np\n",
    "import matplotlib.pyplot as plt\n",
    "import seaborn as sns\n",
    "from datetime import datetime\n",
    "\n",
    "import warnings\n",
    "warnings.filterwarnings('ignore')\n",
    "\n",
    "import matplotlib.dates as mdates\n",
    "\n",
    "# Numero di criptocurrencies che analizzeremo in diverse analisi\n",
    "x = 10\n"
   ]
  },
  {
   "cell_type": "markdown",
   "id": "2b40d0b1",
   "metadata": {
    "slideshow": {
     "slide_type": "slide"
    }
   },
   "source": [
    "# Il Data Set *crypto-markets.csv*: analisi delle caratteristiche"
   ]
  },
  {
   "cell_type": "code",
   "execution_count": 2,
   "id": "03909f44",
   "metadata": {
    "slideshow": {
     "slide_type": "fragment"
    }
   },
   "outputs": [],
   "source": [
    "df_crypto = pd.read_csv('DataSet/crypto-markets.csv')\n",
    "df_crypto.info()\n",
    "df_crypto.head()\n"
   ]
  },
  {
   "cell_type": "markdown",
   "id": "cb748eaf",
   "metadata": {
    "slideshow": {
     "slide_type": "slide"
    }
   },
   "source": [
    "# Il Data Set *crypto-markets.csv*: analisi delle caratteristiche"
   ]
  },
  {
   "cell_type": "code",
   "execution_count": 3,
   "id": "cd49886c",
   "metadata": {
    "slideshow": {
     "slide_type": "fragment"
    }
   },
   "outputs": [],
   "source": [
    "df_crypto.tail()\n",
    "\n"
   ]
  },
  {
   "cell_type": "markdown",
   "id": "54eac854",
   "metadata": {
    "slideshow": {
     "slide_type": "slide"
    }
   },
   "source": [
    "# Ex2: selezione della data più recente\n",
    "\n",
    "* si vogliono individauare le quotazioni di tutte le cryptocurrencies nell'ultima data contenuta nel data-set\n",
    "\n",
    "* passi richiesti:\n",
    "\n",
    "    * individuare la data più recente (massima) contenuta nel dataset\n",
    "    \n",
    "    * selezionare tutte le righe che hanno un valore del campo *date* uguale a quella data\n",
    "    \n",
    "* costrutti *Pandas* utilizzati\n",
    "\n",
    "    * l'oggetto *Date*\n",
    "    \n",
    "    * selezione di righe da un *DataFrame*\n"
   ]
  },
  {
   "cell_type": "markdown",
   "id": "7b204ae6",
   "metadata": {
    "slideshow": {
     "slide_type": "slide"
    }
   },
   "source": [
    "# Approfondimenti: gestire le date in Pandas\n",
    "\n",
    "* perchè la date sono importanti? \n",
    "\n",
    "* i dataset contengono spesso delle time-series\n",
    "\n",
    "* time series: collezione di data record ottenute in diversi istanti di tempo ordinatoi cronologicamente\n",
    "    * stock price changes\n",
    "    * indicatori economici \n",
    "    * dati rilevati periodicamente da sensori in *IoT*\n",
    "    * rilevazioni periodiche di alcuni valori di un paziente\n",
    "    * ....\n",
    "    \n",
    "* le date sono generalmente rappresentate come stringhe all'interno dei dataset\n",
    "\n",
    "* *to_datetime()* funzione di *Pandas* utile per:\n",
    "    * convertire date e ore in un oggetto *DateTime*\n",
    "    * molti metodi definiti da *Pandas* per la manipolazione di oggetti *DateTime*\n",
    "    * ne vedremo solo alcuni, altri negli esempi presentati nel corso"
   ]
  },
  {
   "cell_type": "code",
   "execution_count": 4,
   "id": "6f17181f",
   "metadata": {
    "slideshow": {
     "slide_type": "fragment"
    }
   },
   "outputs": [],
   "source": [
    "df = pd.DataFrame({'date': ['04/03/2022', '05/03/2022', '06/03/2022'],\n",
    "                   'examcode': [1600, 1620, 1630]})\n",
    "print(df)\n",
    "print()\n",
    "print(df.info())"
   ]
  },
  {
   "cell_type": "markdown",
   "id": "3438c0de",
   "metadata": {
    "slideshow": {
     "slide_type": "fragment"
    }
   },
   "source": [
    "* *date* è di tipo object, quindi una stringa"
   ]
  },
  {
   "cell_type": "markdown",
   "id": "a2341246",
   "metadata": {
    "slideshow": {
     "slide_type": "slide"
    }
   },
   "source": [
    "# Approfondimenti: gestire le date in Pandas"
   ]
  },
  {
   "cell_type": "code",
   "execution_count": 5,
   "id": "9c4ed417",
   "metadata": {
    "slideshow": {
     "slide_type": "fragment"
    }
   },
   "outputs": [],
   "source": [
    "df['date'] = pd.to_datetime(df['date'])\n",
    "print(df)\n",
    "\n",
    "print()\n",
    "print(df.info())\n"
   ]
  },
  {
   "cell_type": "markdown",
   "id": "3a4b224b",
   "metadata": {
    "slideshow": {
     "slide_type": "fragment"
    }
   },
   "source": [
    "* da notare che il tipo della colonna date è cambiato in *datetime64[ns]*\n",
    "* anche la notazione usata per visualizzare la data è cambiata"
   ]
  },
  {
   "cell_type": "markdown",
   "id": "b79b9c30",
   "metadata": {
    "slideshow": {
     "slide_type": "slide"
    }
   },
   "source": [
    "# Approfondimenti: gestire le date in Pandas"
   ]
  },
  {
   "cell_type": "code",
   "execution_count": 6,
   "id": "7c1e7637",
   "metadata": {
    "slideshow": {
     "slide_type": "fragment"
    }
   },
   "outputs": [],
   "source": [
    "print(df.iloc[2]['date'])\n",
    "\n",
    "print(df.iloc[2]['date'].month)\n",
    "\n",
    "print(max(df['date']))\n",
    "\n",
    "print(df.iloc[2]['date'].tzinfo)\n"
   ]
  },
  {
   "cell_type": "markdown",
   "id": "5f47f195",
   "metadata": {
    "slideshow": {
     "slide_type": "fragment"
    }
   },
   "source": [
    "* *tzinfo*: informazione sulla Time Zone"
   ]
  },
  {
   "cell_type": "markdown",
   "id": "34ee1c36",
   "metadata": {
    "slideshow": {
     "slide_type": "slide"
    }
   },
   "source": [
    "# Approfondimenti: selezionare  un DataFrame"
   ]
  },
  {
   "cell_type": "code",
   "execution_count": 7,
   "id": "97ea914c",
   "metadata": {
    "slideshow": {
     "slide_type": "fragment"
    }
   },
   "outputs": [],
   "source": [
    "df = pd.DataFrame([[2, 3], [5, 6], [8, 9]],\n",
    "     index=['cobra', 'viper', 'sidewinder'],\n",
    "     columns=['max_speed', 'shield'])\n",
    "print(df)\n"
   ]
  },
  {
   "cell_type": "markdown",
   "id": "f7666070",
   "metadata": {
    "slideshow": {
     "slide_type": "fragment"
    }
   },
   "source": [
    "<center>\n",
    "<img src=\"Figures/Selection1.jpg\" style=\"width:600px;height:500px;\"/>"
   ]
  },
  {
   "cell_type": "markdown",
   "id": "88809253",
   "metadata": {
    "slideshow": {
     "slide_type": "slide"
    }
   },
   "source": [
    "# Approfondimenti: selezionare  un DataFrame"
   ]
  },
  {
   "cell_type": "code",
   "execution_count": 8,
   "id": "d76c19d6",
   "metadata": {
    "slideshow": {
     "slide_type": "fragment"
    }
   },
   "outputs": [],
   "source": [
    "df.loc['viper']\n"
   ]
  },
  {
   "cell_type": "markdown",
   "id": "89db421d",
   "metadata": {
    "slideshow": {
     "slide_type": "fragment"
    }
   },
   "source": [
    "<center>\n",
    "<img src=\"Figures/Selection2.jpg\" style=\"width:600px;height:500px;\"/>"
   ]
  },
  {
   "cell_type": "markdown",
   "id": "f76997c7",
   "metadata": {
    "slideshow": {
     "slide_type": "slide"
    }
   },
   "source": [
    "# Approfondimenti: selezionare un DataFrame"
   ]
  },
  {
   "cell_type": "code",
   "execution_count": 9,
   "id": "4b190ccc",
   "metadata": {
    "slideshow": {
     "slide_type": "fragment"
    }
   },
   "outputs": [],
   "source": [
    "df.loc['cobra', 'shield']\n"
   ]
  },
  {
   "cell_type": "markdown",
   "id": "e319820c",
   "metadata": {
    "slideshow": {
     "slide_type": "fragment"
    }
   },
   "source": [
    "<center>\n",
    "<img src=\"Figures/Selection4.jpg\" style=\"width:600px;height:500px;\"/>"
   ]
  },
  {
   "cell_type": "markdown",
   "id": "d676f5d4",
   "metadata": {
    "slideshow": {
     "slide_type": "slide"
    }
   },
   "source": [
    "# Approfondimenti: selezionare un DataFrame"
   ]
  },
  {
   "cell_type": "code",
   "execution_count": 10,
   "id": "534d02ce",
   "metadata": {
    "slideshow": {
     "slide_type": "fragment"
    }
   },
   "outputs": [],
   "source": [
    "df.loc[['viper', 'sidewinder']]\n"
   ]
  },
  {
   "cell_type": "markdown",
   "id": "42d2b9f4",
   "metadata": {
    "slideshow": {
     "slide_type": "fragment"
    }
   },
   "source": [
    "<center>\n",
    "<img src=\"Figures/Selection3.jpg\" style=\"width:500px;height:600px;\"/>"
   ]
  },
  {
   "cell_type": "markdown",
   "id": "bdd66a21",
   "metadata": {
    "slideshow": {
     "slide_type": "slide"
    }
   },
   "source": [
    "# Approfondimenti: selezionare  un DataFrame"
   ]
  },
  {
   "cell_type": "code",
   "execution_count": 11,
   "id": "f35206d8",
   "metadata": {
    "slideshow": {
     "slide_type": "fragment"
    }
   },
   "outputs": [],
   "source": [
    "df.loc['cobra':'viper', 'max_speed']\n"
   ]
  },
  {
   "cell_type": "markdown",
   "id": "9053c9b7",
   "metadata": {
    "slideshow": {
     "slide_type": "fragment"
    }
   },
   "source": [
    "<center>\n",
    "<img src=\"Figures/Selection5.jpg\" style=\"width:600px;height:500px;\"/>"
   ]
  },
  {
   "cell_type": "markdown",
   "id": "837151f4",
   "metadata": {
    "slideshow": {
     "slide_type": "slide"
    }
   },
   "source": [
    "# Approfondimenti: selezionare  un DataFrame"
   ]
  },
  {
   "cell_type": "code",
   "execution_count": 12,
   "id": "237fd842",
   "metadata": {
    "slideshow": {
     "slide_type": "fragment"
    }
   },
   "outputs": [],
   "source": [
    "df.loc[[False, False, True]]\n"
   ]
  },
  {
   "cell_type": "markdown",
   "id": "37f69629",
   "metadata": {
    "slideshow": {
     "slide_type": "fragment"
    }
   },
   "source": [
    "<center>\n",
    "<img src=\"Figures/Selection6.jpg\" style=\"width:600px;height:500px;\"/>"
   ]
  },
  {
   "cell_type": "markdown",
   "id": "1b13f2e4",
   "metadata": {
    "slideshow": {
     "slide_type": "slide"
    }
   },
   "source": [
    "# Approfondimenti: selezionare righe da un DataFrame"
   ]
  },
  {
   "cell_type": "code",
   "execution_count": 13,
   "id": "67d97c30",
   "metadata": {
    "slideshow": {
     "slide_type": "fragment"
    }
   },
   "outputs": [],
   "source": [
    "df.loc[df['shield'] > 6]\n"
   ]
  },
  {
   "cell_type": "markdown",
   "id": "6eadddfb",
   "metadata": {
    "slideshow": {
     "slide_type": "fragment"
    }
   },
   "source": [
    "<center>\n",
    "<img src=\"Figures/Selection7.jpg\" style=\"width:600px;height:500px;\"/>"
   ]
  },
  {
   "cell_type": "markdown",
   "id": "1a7784e2",
   "metadata": {
    "slideshow": {
     "slide_type": "slide"
    }
   },
   "source": [
    "# Approfondimenti: selezionare un DataFrame"
   ]
  },
  {
   "cell_type": "code",
   "execution_count": 14,
   "id": "b17bb8fa",
   "metadata": {
    "slideshow": {
     "slide_type": "fragment"
    }
   },
   "outputs": [],
   "source": [
    "df.loc[df['shield'] > 6, ['max_speed']]\n"
   ]
  },
  {
   "cell_type": "markdown",
   "id": "72fc16eb",
   "metadata": {
    "slideshow": {
     "slide_type": "fragment"
    }
   },
   "source": [
    "<center>\n",
    "<img src=\"Figures/Selection8.jpg\" style=\"width:600px;height:500px;\"/>"
   ]
  },
  {
   "cell_type": "markdown",
   "id": "a467888c",
   "metadata": {
    "slideshow": {
     "slide_type": "slide"
    }
   },
   "source": [
    "# Approfondimenti: selezionare un DataFrame"
   ]
  },
  {
   "cell_type": "code",
   "execution_count": 15,
   "id": "8154ea6d",
   "metadata": {
    "slideshow": {
     "slide_type": "fragment"
    }
   },
   "outputs": [],
   "source": [
    "df.loc[lambda x: x['shield'] == 9]\n",
    "df.iloc[0]\n"
   ]
  },
  {
   "cell_type": "markdown",
   "id": "7dded786",
   "metadata": {
    "slideshow": {
     "slide_type": "fragment"
    }
   },
   "source": [
    "<center>\n",
    "<img src=\"Figures/Selection9.jpg\" style=\"width:600px;height:500px;\"/>"
   ]
  },
  {
   "cell_type": "markdown",
   "id": "d5ec0acd",
   "metadata": {
    "slideshow": {
     "slide_type": "slide"
    }
   },
   "source": [
    "# Ex2: selezioni della data più recente: howto"
   ]
  },
  {
   "cell_type": "code",
   "execution_count": 16,
   "id": "3bb51e5a",
   "metadata": {
    "slideshow": {
     "slide_type": "fragment"
    }
   },
   "outputs": [],
   "source": [
    "# trasformare le date in oggetti Pandas\n",
    "\n",
    "df_crypto['date'] = pd.to_datetime(df_crypto['date'])\n",
    "\n",
    "# trovare la data più recente \n",
    "\n",
    "m=max(df_crypto['date'])\n",
    "\n",
    "# Costruire un nuovo DataFrame contenente, per ogni crypto, la quotazione più recente\n",
    "\n",
    "print(\"I dati più recenti sulle crypto\")\n",
    "\n",
    "latest_df = df_crypto[df_crypto['date'] == m]\n",
    "\n",
    "print(latest_df.head())\n"
   ]
  },
  {
   "cell_type": "markdown",
   "id": "61f13acb",
   "metadata": {
    "slideshow": {
     "slide_type": "slide"
    }
   },
   "source": [
    "# Ex2: selezionare la prima data di registrazione di ogni cryptocurrency\n",
    "\n",
    "* quando è entrata quella cryptocurrency sul mercato?\n",
    "\n",
    "* passi richiesti\n",
    "    * ragguppare le cryptocurrencies in base al nome\n",
    "    * per ogni gruppo ottenuto, trovare la riga con la data minima, che rappresenta la prima registrazione per quella crypto\n",
    "    * formare un nuovo DataFrame  con le righe selezionate al passo precedente\n",
    "    * ordinare le righe del nuovo DataFrame rispetto alla data\n",
    "    * stampare le prime 10 righe"
   ]
  },
  {
   "cell_type": "markdown",
   "id": "959c5182",
   "metadata": {
    "slideshow": {
     "slide_type": "slide"
    }
   },
   "source": [
    "# Approfondimenti: Pandas Groupby\n",
    "\n",
    "* simile all *GROUP BY* di *SQL*\n",
    "\n",
    "* si passa \n",
    "\n",
    "    * il nome della colonna su cui si vuole raggruppare in base al valore in quella colonna\n",
    "    * il nome della colnna su cui si vuole calcolare la funzione di aggregazione\n"
   ]
  },
  {
   "cell_type": "markdown",
   "id": "cf4ae077",
   "metadata": {
    "slideshow": {
     "slide_type": "slide"
    }
   },
   "source": [
    "# Approfondimenti: Pandas GroupBy, selezione"
   ]
  },
  {
   "cell_type": "code",
   "execution_count": 17,
   "id": "2208be37",
   "metadata": {
    "slideshow": {
     "slide_type": "fragment"
    }
   },
   "outputs": [],
   "source": [
    "np.random.seed(0)\n",
    "company=[\"A\",\"B\",\"C\"]\n",
    "\n",
    "data_company=pd.DataFrame({\n",
    "    \"company\":[company[x] for x in np.random.randint(0,len(company),10)],\n",
    "    \"salary\":np.random.randint(5,50,10),\n",
    "    \"age\":np.random.randint(15,50,10) }\n",
    ")\n",
    "print (data_company)"
   ]
  },
  {
   "cell_type": "code",
   "execution_count": 18,
   "id": "f6b30366",
   "metadata": {
    "slideshow": {
     "slide_type": "fragment"
    }
   },
   "outputs": [],
   "source": [
    "group = data_company.groupby(\"company\")\n",
    "list(group)"
   ]
  },
  {
   "cell_type": "markdown",
   "id": "98d9db1b",
   "metadata": {
    "slideshow": {
     "slide_type": "slide"
    }
   },
   "source": [
    "# Approfondimenti: Pandas GroupBy, aggregazione"
   ]
  },
  {
   "cell_type": "code",
   "execution_count": 19,
   "id": "f75e072d",
   "metadata": {
    "slideshow": {
     "slide_type": "fragment"
    }
   },
   "outputs": [],
   "source": [
    "avg_salary_dict = data_company.groupby('company')['salary'].mean()\n",
    "print (avg_salary_dict)\n"
   ]
  },
  {
   "cell_type": "markdown",
   "id": "6470e820",
   "metadata": {
    "slideshow": {
     "slide_type": "slide"
    }
   },
   "source": [
    "# Ex2: selezionare la prima data di registrazione di ogni cryptocurrency"
   ]
  },
  {
   "cell_type": "code",
   "execution_count": 20,
   "id": "2933711c",
   "metadata": {
    "slideshow": {
     "slide_type": "fragment"
    }
   },
   "outputs": [],
   "source": [
    "start_df = pd.DataFrame({'start_date' : df_crypto.groupby( [\"name\"] )['date'].min()})\n",
    "#print(df_crypto.groupby( [\"name\"] )['date'].min())\n",
    "\n",
    "print (start_df )\n"
   ]
  },
  {
   "cell_type": "markdown",
   "id": "00e17108",
   "metadata": {
    "slideshow": {
     "slide_type": "slide"
    }
   },
   "source": [
    "# Ex2: selezionare la prima data di registrazione di ogni cryptocurrency"
   ]
  },
  {
   "cell_type": "code",
   "execution_count": 21,
   "id": "72ca3601",
   "metadata": {
    "slideshow": {
     "slide_type": "fragment"
    }
   },
   "outputs": [],
   "source": [
    "start_df = pd.DataFrame({'start_date' : df_crypto.groupby( [\"name\"] )['date'].min()})\n",
    "\n",
    "# Visualizziamo le dati più lontane\n",
    "\n",
    "print(\"Oldest Cryptocurrencies\")\n",
    "\n",
    "# x è impostato a 10 inizialmente\n",
    "start_df.sort_values(['start_date']).head(x)"
   ]
  },
  {
   "cell_type": "markdown",
   "id": "b2b1b271",
   "metadata": {
    "slideshow": {
     "slide_type": "fragment"
    }
   },
   "source": [
    "* *sort_values*: per default ordina in modo crescente"
   ]
  },
  {
   "cell_type": "markdown",
   "id": "96f77345",
   "metadata": {
    "slideshow": {
     "slide_type": "slide"
    }
   },
   "source": [
    "# Ex2: selezionare le ultime  cryptocurrencies entrate sul mercato (nel 2018)"
   ]
  },
  {
   "cell_type": "code",
   "execution_count": 22,
   "id": "650b3b09",
   "metadata": {
    "slideshow": {
     "slide_type": "fragment"
    }
   },
   "outputs": [],
   "source": [
    "# List the newest ones\n",
    "print(\"Newest Cryptocurrencies\")\n",
    "start_df.sort_values(['start_date']).tail(x)"
   ]
  },
  {
   "cell_type": "markdown",
   "id": "e285190d",
   "metadata": {
    "slideshow": {
     "slide_type": "slide"
    }
   },
   "source": [
    "# Ex 2: Ranking: individuare le top cryptocurrencies in base al ranking\n",
    "\n",
    "* selezione in base al ranking\n",
    "* top 10: rank =1 topmost, selezioniamo per rank <=10\n",
    "* valutazione relativa all'ultima rilevazione di mercato effettuata\n",
    "    * *latest_df*: è il data frame costruito all'inizio della lezione che contiene le rilevazioni effettuate nell'ultima data del DataSet"
   ]
  },
  {
   "cell_type": "code",
   "execution_count": 45,
   "id": "9b4f6213",
   "metadata": {
    "slideshow": {
     "slide_type": "fragment"
    }
   },
   "outputs": [],
   "source": [
    "\n",
    "latest_df[latest_df['ranknow'] <= x].groupby('ranknow').name.unique\n",
    "latest_df.sort_values(by=['market'], ascending=[False])\n",
    "latest_df[['name','market']].head(x)\n"
   ]
  },
  {
   "cell_type": "markdown",
   "id": "8ca73046",
   "metadata": {
    "slideshow": {
     "slide_type": "slide"
    }
   },
   "source": [
    "# Ex 2: data wrangling"
   ]
  },
  {
   "cell_type": "code",
   "execution_count": 24,
   "id": "ce097041",
   "metadata": {
    "slideshow": {
     "slide_type": "fragment"
    }
   },
   "outputs": [],
   "source": [
    "df_crypto['market_billion'] = df_crypto['market'] / 1000000000\n",
    "df_crypto['volume_million'] = df_crypto['volume'] / 1000000000\n",
    "# df_crypto['volume_billion'] = df_crypto['volume']\n",
    "print(df_crypto)"
   ]
  },
  {
   "cell_type": "markdown",
   "id": "64e337e5",
   "metadata": {
    "slideshow": {
     "slide_type": "slide"
    }
   },
   "source": [
    "# Ex 2: Le prime 10 cryptocurrencies  per capitalizzazione\n",
    "\n",
    "* si vuole creare un plot che riporti le prime 10 criptocurrencies per market capitalization\n",
    "\n",
    "* passi da effettuare\n",
    "    * utilizziamo il DataSet iniziale\n",
    "    * raggruppare le cryptocurrencies in base al nome\n",
    "    * per ogni gruppo aggregare prendendo solo l'ultima registrazione\n",
    "    * ordinare in senso decrescente\n",
    "    * prendere le prime 10 \n",
    "    * visualizzare  un istogramma"
   ]
  },
  {
   "cell_type": "markdown",
   "id": "a391cfc8",
   "metadata": {
    "slideshow": {
     "slide_type": "slide"
    }
   },
   "source": [
    "# Ex 2: Le prime 10 cryptocurrencies  per capitalizzazione"
   ]
  },
  {
   "cell_type": "code",
   "execution_count": 25,
   "id": "c48d2427",
   "metadata": {
    "slideshow": {
     "slide_type": "fragment"
    }
   },
   "outputs": [],
   "source": [
    "ax = df_crypto.groupby(['name'])['market_billion'].last()\n",
    "ax= ax.sort_values(ascending=False).head(10).sort_values()\n",
    "ax = ax.plot(kind='barh', stacked=True, colormap='Paired')\n",
    "ax.set_xlabel(\"Market cap (in billion USD)\");\n",
    "plt.title(\"Top 10 Currencies by Market Cap\");\n",
    "print(ax)"
   ]
  },
  {
   "cell_type": "markdown",
   "id": "c6da193a",
   "metadata": {
    "slideshow": {
     "slide_type": "slide"
    }
   },
   "source": [
    "# Ex 2: Le prime 10 cryptocurrencies  per volume"
   ]
  },
  {
   "cell_type": "code",
   "execution_count": 26,
   "id": "326a7227",
   "metadata": {
    "slideshow": {
     "slide_type": "fragment"
    }
   },
   "outputs": [],
   "source": [
    "ax = df_crypto.groupby(['name'])['volume_million'].last()\n",
    "ax = ax.sort_values(ascending=False).head(10).sort_values()\n",
    "ax = ax.plot(kind='barh', stacked=True, colormap='Paired')\n",
    "ax.set_xlabel(\"Transaction Volume (in million)\");\n",
    "plt.title(\"Top 10 Currencies by Transaction Volume\");\n",
    "print(ax)"
   ]
  },
  {
   "cell_type": "markdown",
   "id": "0ae141fb",
   "metadata": {
    "slideshow": {
     "slide_type": "slide"
    }
   },
   "source": [
    "# Ex 2: Andamento del prezzo\n",
    "\n",
    "* si vuole valutare e visualizzare l'andamento del prezzo dal 2014 al 2018 per le top cryptocurrencies\n",
    "    * individuare le top 5 cryptocurrencies per capitalizzazione di mercato\n",
    "    * group_by su nome della moneta e su market\n",
    "    * ultimo valore di capitalizzazione per ogni gruppo (*last*)\n",
    "    * individuazione delle prime 5\n",
    "    * individuazione del prezzo di chiusura\n",
    "    "
   ]
  },
  {
   "cell_type": "markdown",
   "id": "cdff249a",
   "metadata": {
    "slideshow": {
     "slide_type": "slide"
    }
   },
   "source": [
    "# Ex 2: Andamento del prezzo"
   ]
  },
  {
   "cell_type": "code",
   "execution_count": 27,
   "id": "219b2f88",
   "metadata": {
    "slideshow": {
     "slide_type": "fragment"
    }
   },
   "outputs": [],
   "source": [
    "top_5_currency_names = df_crypto.groupby(['name'])['market'].last().sort_values(ascending=False).head(5).index\n",
    "print (top_5_currency_names)\n",
    "data_top_5_currencies = df_crypto[df_crypto['name'].isin(top_5_currency_names)]\n",
    "ax = data_top_5_currencies.groupby(['date', 'name'])['close'].last().unstack().plot();\n",
    "ax.set_ylabel(\"Price per 1 unit (in USD)\");\n",
    "plt.title(\"Price per unit of currency\");"
   ]
  },
  {
   "cell_type": "markdown",
   "id": "0f451124",
   "metadata": {
    "slideshow": {
     "slide_type": "slide"
    }
   },
   "source": [
    "# Ex 2: Andamento del prezzo\n",
    "\n",
    "* cosa accade se tolgo l'istruzione *unstack()*?"
   ]
  },
  {
   "cell_type": "code",
   "execution_count": 28,
   "id": "4db36494",
   "metadata": {
    "slideshow": {
     "slide_type": "fragment"
    }
   },
   "outputs": [],
   "source": [
    "top_5_currency_names = df_crypto.groupby(['name'])['market'].last().sort_values(ascending=False).head(5).index\n",
    "print (top_5_currency_names)\n",
    "data_top_5_currencies = df_crypto[df_crypto['name'].isin(top_5_currency_names)]\n",
    "\n",
    "ax = data_top_5_currencies.groupby(['date', 'name'])['close'].last().plot();\n",
    "ax.set_ylabel(\"Price per 1 unit (in USD)\");\n",
    "plt.title(\"Price per unit of currency\");\n"
   ]
  },
  {
   "cell_type": "markdown",
   "id": "ffd029a5",
   "metadata": {
    "slideshow": {
     "slide_type": "slide"
    }
   },
   "source": [
    "# Ex 2: Andamento del prezzo dal 2017"
   ]
  },
  {
   "cell_type": "code",
   "execution_count": 29,
   "id": "3a2d1b90",
   "metadata": {
    "slideshow": {
     "slide_type": "fragment"
    }
   },
   "outputs": [],
   "source": [
    "ax = data_top_5_currencies[data_top_5_currencies.date.dt.year >= 2017].groupby(['date', 'name'])['close'].last().unstack().plot();\n",
    "ax.set_ylabel(\"Price per 1 unit (in USD)\");\n",
    "plt.title(\"Price per unit of currency (from 2017th)\");\n"
   ]
  },
  {
   "cell_type": "markdown",
   "id": "ecca3fa2",
   "metadata": {
    "slideshow": {
     "slide_type": "slide"
    }
   },
   "source": [
    "# Ex 2: Capitalizzazione dal 2017"
   ]
  },
  {
   "cell_type": "code",
   "execution_count": 30,
   "id": "a1dcda14",
   "metadata": {
    "slideshow": {
     "slide_type": "fragment"
    }
   },
   "outputs": [],
   "source": [
    "ax = data_top_5_currencies[data_top_5_currencies.date.dt.year >= 2017].groupby(['date', 'name'])['market_billion'].last().unstack().plot();\n",
    "ax.set_ylabel(\"Market Cap (in billion USD)\");\n",
    "plt.title(\"Market cap per Currency (from 2017th)\");\n"
   ]
  },
  {
   "cell_type": "markdown",
   "id": "0ada8946",
   "metadata": {
    "slideshow": {
     "slide_type": "slide"
    }
   },
   "source": [
    "# Ex 2: Volume  dal 2017"
   ]
  },
  {
   "cell_type": "code",
   "execution_count": 31,
   "id": "8cd379e8",
   "metadata": {
    "slideshow": {
     "slide_type": "fragment"
    }
   },
   "outputs": [],
   "source": [
    "ax = data_top_5_currencies[data_top_5_currencies.date.dt.year >= 2017].groupby(['date', 'name'])['volume_million'].last().unstack().plot();\n",
    "ax.set_ylabel(\"Transaction Volume (in million)\");\n",
    "plt.title(\"Transaction Volume per Currency (from 2017th)\");\n"
   ]
  },
  {
   "cell_type": "markdown",
   "id": "0b145ce2",
   "metadata": {
    "slideshow": {
     "slide_type": "slide"
    }
   },
   "source": [
    "# Approfondimenti: Seaborn, HeatMap"
   ]
  },
  {
   "cell_type": "code",
   "execution_count": 32,
   "id": "ec463666",
   "metadata": {},
   "outputs": [],
   "source": [
    "import matplotlib.pyplot as plt\n",
    "import pandas as pd\n",
    " \n",
    "df = pd.DataFrame([[10, 20, 30, 40], [7, 14, 21, 28], [55, 15, 8, 12],\n",
    "                    [15, 14, 1, 8]],\n",
    "                  columns=['Apple', 'Orange', 'Banana', 'Pear'],\n",
    "                  index=['Basket1', 'Basket2', 'Basket3', 'Basket4']\n",
    "                  )\n",
    "print(df)\n",
    " \n",
    "plt.imshow(df, cmap=\"YlGnBu\")\n",
    "plt.colorbar()\n",
    "plt.xticks(range(len(df)),df.columns, rotation=20)\n",
    "plt.yticks(range(len(df)),df.index)\n",
    "plt.show()\n"
   ]
  },
  {
   "cell_type": "markdown",
   "id": "797ed0ce",
   "metadata": {
    "slideshow": {
     "slide_type": "slide"
    }
   },
   "source": [
    "# Approfondimenti: HeatMap, correlazione\n",
    "\n",
    "* una matrice  che riporta le stesse variabili sull'asse x e sull'asse y\n",
    "\n",
    "* ogni elemento della matrice riporta la correlazione tra le variabili corrispondenti\n",
    "\n",
    "* correlazione varia tra -1 e 1\n",
    "\n",
    "* valori vicini a 1 indicano che le variabili sono molto correlate\n",
    "    * se incremento una variabile, anche l'altra incremente\n",
    "* valori vicini a -1 indicano l'inverso\n",
    "    * se incremento una variabile, l'altra diminuisce\n",
    "* le diagonali correlano una variabile con se stessa e quindi riportano sempre valori =1 \n",
    "    * correlazione massima\n",
    "* più alta la correlazione, più scuro il valore\n",
    "\n",
    "* plot simmetrico rispetto alla diagonale"
   ]
  },
  {
   "cell_type": "markdown",
   "id": "e6728ea3",
   "metadata": {
    "slideshow": {
     "slide_type": "slide"
    }
   },
   "source": [
    "# Approfondimenti: heatmap, correlazioni"
   ]
  },
  {
   "cell_type": "code",
   "execution_count": 33,
   "id": "c35c2dfa",
   "metadata": {
    "slideshow": {
     "slide_type": "fragment"
    }
   },
   "outputs": [],
   "source": [
    "import numpy as np\n",
    "import matplotlib\n",
    "import matplotlib.pyplot as plt\n",
    "import pandas as pd\n",
    "\n",
    "countries = [\"china\", \"usa\", \"france\", \"russia\",\n",
    "              \"japan\", \"india\", \"UK\"]\n",
    "GDP_trillion = [16, 23, 2, 1, 5, 3, 3]\n",
    "Population = [1.4, 0.3, 0.068, 0.14, 0.12, 1.3, 0.067]\n",
    "GDP_per_capita = [2.12, 3.45, 6.23, 7.89, 4.23, 5.34, 6.9]\n",
    "Agricultural_land = [0.92, 1.2, 0.45, 0.73, 0.21, 0.34, 0.91]\n",
    "Co2_emission = [0.40, 0.45, 0.34, 0.23, 0.97, 0.21, 0.74]\n",
    "\n",
    "df=pd.DataFrame({\n",
    "    'countries': countries,\n",
    "    'GDP_trillion': GDP_trillion,\n",
    "    'Population': Population,\n",
    "    'GDP_per_capita': GDP_per_capita,\n",
    "    'Agricultural_land': Agricultural_land,\n",
    "    'Co2_emission': Co2_emission\n",
    "})\n",
    "\n",
    "pear_corr=df.corr(method='pearson')\n",
    "sns.heatmap(pear_corr)\n",
    "plt.show\n"
   ]
  },
  {
   "cell_type": "markdown",
   "id": "33145cdd",
   "metadata": {
    "slideshow": {
     "slide_type": "slide"
    }
   },
   "source": [
    "# Ex 2: Correlazioni"
   ]
  },
  {
   "cell_type": "code",
   "execution_count": 34,
   "id": "784073ea",
   "metadata": {
    "slideshow": {
     "slide_type": "fragment"
    }
   },
   "outputs": [],
   "source": [
    "wide_format = df_crypto.groupby(['date', 'name'])['close'].last().unstack()\n",
    "plt.figure(figsize=(14,8))\n",
    "sns.heatmap(wide_format[top_5_currency_names].corr(method='pearson'),vmin=0, vmax=1, cmap='coolwarm', annot=True);\n"
   ]
  },
  {
   "cell_type": "markdown",
   "id": "db92f389",
   "metadata": {
    "slideshow": {
     "slide_type": "slide"
    }
   },
   "source": [
    "# Correzione dell'Assignment"
   ]
  },
  {
   "cell_type": "code",
   "execution_count": 35,
   "id": "ee321947",
   "metadata": {
    "slideshow": {
     "slide_type": "fragment"
    }
   },
   "outputs": [],
   "source": [
    "import warnings\n",
    "warnings.filterwarnings('ignore')\n",
    "import pandas as pd\n",
    "data = pd.read_csv(\"https://archive.ics.uci.edu/ml/machine-learning-databases/00560/SeoulBikeData.csv\", \n",
    "encoding = 'unicode_escape', parse_dates=['Date'])\n",
    "\n",
    "data.columns\n"
   ]
  },
  {
   "cell_type": "code",
   "execution_count": 36,
   "id": "aaa7946f",
   "metadata": {
    "slideshow": {
     "slide_type": "fragment"
    }
   },
   "outputs": [],
   "source": [
    "data.shape\n"
   ]
  },
  {
   "cell_type": "markdown",
   "id": "3928e10c",
   "metadata": {
    "slideshow": {
     "slide_type": "slide"
    }
   },
   "source": [
    "# Correzione dell'Assignment"
   ]
  },
  {
   "cell_type": "code",
   "execution_count": 37,
   "id": "1a422274",
   "metadata": {
    "slideshow": {
     "slide_type": "fragment"
    }
   },
   "outputs": [],
   "source": [
    "data.head()"
   ]
  },
  {
   "cell_type": "code",
   "execution_count": 38,
   "id": "82bc916b",
   "metadata": {
    "slideshow": {
     "slide_type": "fragment"
    }
   },
   "outputs": [],
   "source": [
    "date_hour_bikes = data.loc[:, [\"Date\", \"Hour\", \"Rented Bike Count\"]]\n",
    "date_hour_bikes.head()"
   ]
  },
  {
   "cell_type": "markdown",
   "id": "c54ea2dd",
   "metadata": {
    "slideshow": {
     "slide_type": "slide"
    }
   },
   "source": [
    "# Correzione dell'Assignment\n",
    "\n",
    "*   visualizzare Data, ora e numero totale di biciclette prese a nolo nella data 2017-08-12"
   ]
  },
  {
   "cell_type": "code",
   "execution_count": 39,
   "id": "a64affd1",
   "metadata": {
    "slideshow": {
     "slide_type": "fragment"
    }
   },
   "outputs": [],
   "source": [
    "# Assegnamo a una variabile il giorno a cui siamo interessati\n",
    "interesting_date = \"2017-08-12\"\n",
    "# Estraiamo solo le righe relative al giorno di interesse\n",
    "only_interesting_date = date_hour_bikes.loc[date_hour_bikes['Date'] == interesting_date]\n",
    "only_interesting_date\n"
   ]
  },
  {
   "cell_type": "markdown",
   "id": "1c5fdd3d",
   "metadata": {
    "slideshow": {
     "slide_type": "slide"
    }
   },
   "source": [
    "# Correzione dell'Assignment\n",
    "\n",
    "*   visualizzare il numero totale di biclette prese a nolo tra le 8 e le 20 in quella data"
   ]
  },
  {
   "cell_type": "code",
   "execution_count": 40,
   "id": "02e691c0",
   "metadata": {
    "slideshow": {
     "slide_type": "fragment"
    }
   },
   "outputs": [],
   "source": [
    "# Impostare l'ora iniziale e l'ora finale\n",
    "starttime = 8\n",
    "endtime = 20\n",
    "mask = (only_interesting_date['Hour'] >= starttime) & (only_interesting_date['Hour'] <= endtime)\n",
    "starttime_to_endtime = only_interesting_date.loc[mask]\n",
    "starttime_to_endtime  \n"
   ]
  },
  {
   "cell_type": "markdown",
   "id": "23ca5910",
   "metadata": {
    "slideshow": {
     "slide_type": "slide"
    }
   },
   "source": [
    "# Correzione dell'Assignment\n",
    "\n",
    "* plottare alcuni grafici che mettano in evidenza caratteristiche interessanti del data set"
   ]
  },
  {
   "cell_type": "code",
   "execution_count": 41,
   "id": "67f3991a",
   "metadata": {
    "slideshow": {
     "slide_type": "fragment"
    }
   },
   "outputs": [],
   "source": [
    "hours_bikes = data[['Rented Bike Count', 'Hour']]\n",
    "interesting_date = \"2017-08-12\"\n",
    "x1 = starttime_to_endtime  ['Hour']\n",
    "y1 = starttime_to_endtime  ['Rented Bike Count']\n",
    "print(list(zip(x1,y1)))\n",
    "fig, ax = plt.subplots(1,1,figsize = (10,6))\n",
    "for h,b in zip(x1,y1):\n",
    "    ax.annotate(str(b), xy=(h,b), xytext=(-20,10), textcoords='offset points')\n",
    "ax.grid(True)\n",
    "ax.set_ylim(min(y1)-100, max(y1)+100)\n",
    "ax.set_xlabel(\"Hour\")\n",
    "ax.set_ylabel(\"Number of Bikes\")\n",
    "ax.set_title(\"Number of Bikes Rented Hourly on %s\" % interesting_date, fontsize = 14)\n",
    "ax.set_xticks(x1)\n",
    "ax.plot(x1, y1, color='green', marker='H', markerfacecolor='blue', linestyle='solid', linewidth=2, markersize=10)"
   ]
  },
  {
   "cell_type": "markdown",
   "id": "77dd00cc",
   "metadata": {
    "slideshow": {
     "slide_type": "slide"
    }
   },
   "source": [
    "# Approfondimenti: la funzione zip()"
   ]
  },
  {
   "cell_type": "code",
   "execution_count": 42,
   "id": "c0b1d560",
   "metadata": {
    "slideshow": {
     "slide_type": "fragment"
    }
   },
   "outputs": [],
   "source": [
    "dfzip = pd.DataFrame({'team': ['A', 'B', 'C', 'D', 'E', 'F', 'G', 'H'],\n",
    "                  'points': [18, 22, 19, 14, 14, 11, 20, 28],\n",
    "                   'assists': [5, 7, 7, 9, 12, 9, 9, 4]})\n",
    "\n",
    "print(dfzip)\n"
   ]
  },
  {
   "cell_type": "code",
   "execution_count": 43,
   "id": "a3f63fa1",
   "metadata": {
    "slideshow": {
     "slide_type": "fragment"
    }
   },
   "outputs": [],
   "source": [
    " print (list(zip(dfzip.points, dfzip.assists)))"
   ]
  },
  {
   "cell_type": "markdown",
   "id": "28bd15be",
   "metadata": {
    "slideshow": {
     "slide_type": "slide"
    }
   },
   "source": [
    "# Approfondimenti: subplots\n",
    "\n",
    "* da la possibilità di inserire più plot in un'unica figura\n",
    "    * nel nostro caso un unico plot (i primi due parametri vagono 1)\n",
    "    * crea un oggetto *axis* su cui si può disegnare (nel caso generale un array di oggetti axis)\n",
    "* *ax.annotate (..)*\n",
    "    * primo parametro indica il valore con cui si vuole annotare il punto visualizzato\n",
    "    * secondo parametro xy indica il punto da annotare\n"
   ]
  }
 ],
 "metadata": {
  "celltoolbar": "Slideshow",
  "kernelspec": {
   "display_name": "Python 3 (ipykernel)",
   "language": "python",
   "name": "python3"
  },
  "language_info": {
   "codemirror_mode": {
    "name": "ipython",
    "version": 3
   },
   "file_extension": ".py",
   "mimetype": "text/x-python",
   "name": "python",
   "nbconvert_exporter": "python",
   "pygments_lexer": "ipython3",
   "version": "3.10.6"
  }
 },
 "nbformat": 4,
 "nbformat_minor": 5
}
