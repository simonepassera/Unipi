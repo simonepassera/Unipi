{
 "cells": [
  {
   "cell_type": "markdown",
   "id": "b2e238e3",
   "metadata": {
    "slideshow": {
     "slide_type": "slide"
    }
   },
   "source": [
    "<h1><center> WebScraping </h1>\n",
    "<h1><center> Anno Accademico 2022-2023 </h1>\n",
    "<h1><center>  Docente: Laura Ricci </h1>\n",
    "<h1><center>  Lezione 6 </h1>\n",
    "<h1><center>  Analisi di DataSet: </h1>\n",
    "<h1><center>  Cryptocurrencies, Bike Sharing</h1> \n",
    "<h1><center> 8 Febbraio 2023 </h1>"
   ]
  },
  {
   "cell_type": "markdown",
   "id": "0ee0157c",
   "metadata": {
    "slideshow": {
     "slide_type": "slide"
    }
   },
   "source": [
    "# Criptocurrencies \n",
    "\n",
    "\n",
    "* molta attenzione da parte di \n",
    "    * imvestitori\n",
    "    * imprenditori\n",
    "    * regolatori\n",
    "    * pubblico in generale\n",
    "   \n",
    "* molti argomenti di dibattito\n",
    "    * solo un asset o una vera moneta?\n",
    "    * Initial Coin Offering (ICO) per il finanziamento di start-up innovative\n",
    "    * monete emesse da barche centrali, ma che usano la tecnologia alla base delle criptomonete, cioè la blockchain\n",
    "    * il mercato delle cryptocurrencies si rivelerà solo una \"bolla\"?\n",
    "        * regolazione o divieto?\n",
    "\n",
    "* grande interesse alle analisi di mercato\n",
    "    * big data analisys\n",
    "    * machine learning\n",
    "\n",
    "* in questa lezione presenteremo un insieme di semplici analisi del dataset *crypto-markets.csv* \n"
   ]
  },
  {
   "cell_type": "markdown",
   "id": "cf5ae6ac",
   "metadata": {
    "slideshow": {
     "slide_type": "slide"
    }
   },
   "source": [
    "# Criptocurrencies "
   ]
  },
  {
   "cell_type": "markdown",
   "id": "8e2a2a67",
   "metadata": {
    "slideshow": {
     "slide_type": "fragment"
    }
   },
   "source": [
    "<center>\n",
    "<img src=\"Figures/CryptoByYear.jpg\" style=\"width:1000px;height:800px;\"/>"
   ]
  },
  {
   "cell_type": "markdown",
   "id": "0f621c83",
   "metadata": {
    "slideshow": {
     "slide_type": "slide"
    }
   },
   "source": [
    "# Il Data Set *crypto-markets.csv* "
   ]
  },
  {
   "cell_type": "markdown",
   "id": "a02a1913",
   "metadata": {
    "slideshow": {
     "slide_type": "fragment"
    }
   },
   "source": [
    "* Una riga per ogni giorno in un periodo compreso tra \n",
    "    * *slug* : nome della cryptocurrency\n",
    "    * *symbol* : simbolo della cryptocurrency\n",
    "    * *name* : nome della cryptocurrency\n",
    "    * *date*: data dell'osservazione\n",
    "    * *ranknow* : rank della cryptocurrency in quella data\n",
    "    * *open* : prezzo di apertura in quella data\n",
    "    * *high* : prezzo più alto in quella data\n",
    "    * *low* : prezzo più basso in quella data\n",
    "    * *close* : prezzo di chiusura in quella data\n",
    "    * *volume*: volume delle transazioni in quella data\n",
    "    * *market* : capitalizzazione di mercato in USD\n",
    "    * *close_ratio*: (close-low)/(high-low)\n",
    "    * *spread* : differenza tra il prezzo più alto e quello più basso in quella data\n",
    "* periodo coperto: *2013-2018* \n",
    "* dimensione: circa *62 Mega*"
   ]
  },
  {
   "cell_type": "markdown",
   "id": "76217a5e",
   "metadata": {
    "slideshow": {
     "slide_type": "slide"
    }
   },
   "source": [
    "# Il Data Set *crypto-markets.csv*: analisi delle caratteristiche"
   ]
  },
  {
   "cell_type": "code",
   "execution_count": 3,
   "id": "7c560870",
   "metadata": {
    "slideshow": {
     "slide_type": "fragment"
    }
   },
   "outputs": [],
   "source": [
    "import pandas as pd\n",
    "import numpy as np\n",
    "import matplotlib.pyplot as plt\n",
    "import seaborn as sns\n",
    "from datetime import datetime\n",
    "\n",
    "import warnings\n",
    "warnings.filterwarnings('ignore')\n",
    "\n",
    "import matplotlib.dates as mdates\n",
    "\n",
    "# Numero di criptocurrencies che analizzeremo in diverse analisi\n",
    "x = 10\n"
   ]
  },
  {
   "cell_type": "markdown",
   "id": "2b40d0b1",
   "metadata": {
    "slideshow": {
     "slide_type": "slide"
    }
   },
   "source": [
    "# Il Data Set *crypto-markets.csv*: analisi delle caratteristiche"
   ]
  },
  {
   "cell_type": "code",
   "execution_count": 4,
   "id": "03909f44",
   "metadata": {
    "slideshow": {
     "slide_type": "fragment"
    }
   },
   "outputs": [
    {
     "name": "stdout",
     "output_type": "stream",
     "text": [
      "<class 'pandas.core.frame.DataFrame'>\n",
      "RangeIndex: 679183 entries, 0 to 679182\n",
      "Data columns (total 13 columns):\n",
      " #   Column       Non-Null Count   Dtype  \n",
      "---  ------       --------------   -----  \n",
      " 0   slug         679183 non-null  object \n",
      " 1   symbol       679183 non-null  object \n",
      " 2   name         679183 non-null  object \n",
      " 3   date         679183 non-null  object \n",
      " 4   ranknow      679183 non-null  int64  \n",
      " 5   open         679183 non-null  float64\n",
      " 6   high         679183 non-null  float64\n",
      " 7   low          679183 non-null  float64\n",
      " 8   close        679183 non-null  float64\n",
      " 9   volume       679183 non-null  int64  \n",
      " 10  market       679183 non-null  float64\n",
      " 11  close_ratio  665926 non-null  object \n",
      " 12  spread       679183 non-null  float64\n",
      "dtypes: float64(6), int64(2), object(5)\n",
      "memory usage: 67.4+ MB\n"
     ]
    },
    {
     "data": {
      "text/html": [
       "<div>\n",
       "<style scoped>\n",
       "    .dataframe tbody tr th:only-of-type {\n",
       "        vertical-align: middle;\n",
       "    }\n",
       "\n",
       "    .dataframe tbody tr th {\n",
       "        vertical-align: top;\n",
       "    }\n",
       "\n",
       "    .dataframe thead th {\n",
       "        text-align: right;\n",
       "    }\n",
       "</style>\n",
       "<table border=\"1\" class=\"dataframe\">\n",
       "  <thead>\n",
       "    <tr style=\"text-align: right;\">\n",
       "      <th></th>\n",
       "      <th>slug</th>\n",
       "      <th>symbol</th>\n",
       "      <th>name</th>\n",
       "      <th>date</th>\n",
       "      <th>ranknow</th>\n",
       "      <th>open</th>\n",
       "      <th>high</th>\n",
       "      <th>low</th>\n",
       "      <th>close</th>\n",
       "      <th>volume</th>\n",
       "      <th>market</th>\n",
       "      <th>close_ratio</th>\n",
       "      <th>spread</th>\n",
       "    </tr>\n",
       "  </thead>\n",
       "  <tbody>\n",
       "    <tr>\n",
       "      <th>0</th>\n",
       "      <td>bitcoin</td>\n",
       "      <td>BTC</td>\n",
       "      <td>Bitcoin</td>\n",
       "      <td>4/28/2013</td>\n",
       "      <td>1</td>\n",
       "      <td>135.30</td>\n",
       "      <td>135.98</td>\n",
       "      <td>132.10</td>\n",
       "      <td>134.21</td>\n",
       "      <td>0</td>\n",
       "      <td>1.500520e+09</td>\n",
       "      <td>0.5438</td>\n",
       "      <td>3.88</td>\n",
       "    </tr>\n",
       "    <tr>\n",
       "      <th>1</th>\n",
       "      <td>bitcoin</td>\n",
       "      <td>BTC</td>\n",
       "      <td>Bitcoin</td>\n",
       "      <td>4/29/2013</td>\n",
       "      <td>1</td>\n",
       "      <td>134.44</td>\n",
       "      <td>147.49</td>\n",
       "      <td>134.00</td>\n",
       "      <td>144.54</td>\n",
       "      <td>0</td>\n",
       "      <td>1.491160e+09</td>\n",
       "      <td>0.7813</td>\n",
       "      <td>13.49</td>\n",
       "    </tr>\n",
       "    <tr>\n",
       "      <th>2</th>\n",
       "      <td>bitcoin</td>\n",
       "      <td>BTC</td>\n",
       "      <td>Bitcoin</td>\n",
       "      <td>4/30/2013</td>\n",
       "      <td>1</td>\n",
       "      <td>144.00</td>\n",
       "      <td>146.93</td>\n",
       "      <td>134.05</td>\n",
       "      <td>139.00</td>\n",
       "      <td>0</td>\n",
       "      <td>1.597780e+09</td>\n",
       "      <td>0.3843</td>\n",
       "      <td>12.88</td>\n",
       "    </tr>\n",
       "    <tr>\n",
       "      <th>3</th>\n",
       "      <td>bitcoin</td>\n",
       "      <td>BTC</td>\n",
       "      <td>Bitcoin</td>\n",
       "      <td>5/1/2013</td>\n",
       "      <td>1</td>\n",
       "      <td>139.00</td>\n",
       "      <td>139.89</td>\n",
       "      <td>107.72</td>\n",
       "      <td>116.99</td>\n",
       "      <td>0</td>\n",
       "      <td>1.542820e+09</td>\n",
       "      <td>0.2882</td>\n",
       "      <td>32.17</td>\n",
       "    </tr>\n",
       "    <tr>\n",
       "      <th>4</th>\n",
       "      <td>bitcoin</td>\n",
       "      <td>BTC</td>\n",
       "      <td>Bitcoin</td>\n",
       "      <td>5/2/2013</td>\n",
       "      <td>1</td>\n",
       "      <td>116.38</td>\n",
       "      <td>125.60</td>\n",
       "      <td>92.28</td>\n",
       "      <td>105.21</td>\n",
       "      <td>0</td>\n",
       "      <td>1.292190e+09</td>\n",
       "      <td>0.3881</td>\n",
       "      <td>33.32</td>\n",
       "    </tr>\n",
       "  </tbody>\n",
       "</table>\n",
       "</div>"
      ],
      "text/plain": [
       "      slug symbol     name       date  ranknow    open    high     low  \\\n",
       "0  bitcoin    BTC  Bitcoin  4/28/2013        1  135.30  135.98  132.10   \n",
       "1  bitcoin    BTC  Bitcoin  4/29/2013        1  134.44  147.49  134.00   \n",
       "2  bitcoin    BTC  Bitcoin  4/30/2013        1  144.00  146.93  134.05   \n",
       "3  bitcoin    BTC  Bitcoin   5/1/2013        1  139.00  139.89  107.72   \n",
       "4  bitcoin    BTC  Bitcoin   5/2/2013        1  116.38  125.60   92.28   \n",
       "\n",
       "    close  volume        market close_ratio  spread  \n",
       "0  134.21       0  1.500520e+09      0.5438    3.88  \n",
       "1  144.54       0  1.491160e+09      0.7813   13.49  \n",
       "2  139.00       0  1.597780e+09      0.3843   12.88  \n",
       "3  116.99       0  1.542820e+09      0.2882   32.17  \n",
       "4  105.21       0  1.292190e+09      0.3881   33.32  "
      ]
     },
     "execution_count": 4,
     "metadata": {},
     "output_type": "execute_result"
    }
   ],
   "source": [
    "df_crypto = pd.read_csv('Dataset/crypto-markets.csv')\n",
    "df_crypto.info()\n",
    "df_crypto.head()\n"
   ]
  },
  {
   "cell_type": "markdown",
   "id": "cb748eaf",
   "metadata": {
    "slideshow": {
     "slide_type": "slide"
    }
   },
   "source": [
    "# Il Data Set *crypto-markets.csv*: analisi delle caratteristiche"
   ]
  },
  {
   "cell_type": "code",
   "execution_count": 5,
   "id": "cd49886c",
   "metadata": {
    "slideshow": {
     "slide_type": "fragment"
    }
   },
   "outputs": [
    {
     "data": {
      "text/html": [
       "<div>\n",
       "<style scoped>\n",
       "    .dataframe tbody tr th:only-of-type {\n",
       "        vertical-align: middle;\n",
       "    }\n",
       "\n",
       "    .dataframe tbody tr th {\n",
       "        vertical-align: top;\n",
       "    }\n",
       "\n",
       "    .dataframe thead th {\n",
       "        text-align: right;\n",
       "    }\n",
       "</style>\n",
       "<table border=\"1\" class=\"dataframe\">\n",
       "  <thead>\n",
       "    <tr style=\"text-align: right;\">\n",
       "      <th></th>\n",
       "      <th>slug</th>\n",
       "      <th>symbol</th>\n",
       "      <th>name</th>\n",
       "      <th>date</th>\n",
       "      <th>ranknow</th>\n",
       "      <th>open</th>\n",
       "      <th>high</th>\n",
       "      <th>low</th>\n",
       "      <th>close</th>\n",
       "      <th>volume</th>\n",
       "      <th>market</th>\n",
       "      <th>close_ratio</th>\n",
       "      <th>spread</th>\n",
       "    </tr>\n",
       "  </thead>\n",
       "  <tbody>\n",
       "    <tr>\n",
       "      <th>679178</th>\n",
       "      <td>bitcoin-atom</td>\n",
       "      <td>BCA</td>\n",
       "      <td>Bitcoin Atom</td>\n",
       "      <td>2/1/2018</td>\n",
       "      <td>1515</td>\n",
       "      <td>45.95</td>\n",
       "      <td>55.17</td>\n",
       "      <td>41.70</td>\n",
       "      <td>42.95</td>\n",
       "      <td>38029</td>\n",
       "      <td>0.0</td>\n",
       "      <td>0.0928</td>\n",
       "      <td>13.47</td>\n",
       "    </tr>\n",
       "    <tr>\n",
       "      <th>679179</th>\n",
       "      <td>bitcoin-atom</td>\n",
       "      <td>BCA</td>\n",
       "      <td>Bitcoin Atom</td>\n",
       "      <td>2/2/2018</td>\n",
       "      <td>1515</td>\n",
       "      <td>42.90</td>\n",
       "      <td>42.90</td>\n",
       "      <td>29.18</td>\n",
       "      <td>35.91</td>\n",
       "      <td>48024</td>\n",
       "      <td>0.0</td>\n",
       "      <td>0.4905</td>\n",
       "      <td>13.72</td>\n",
       "    </tr>\n",
       "    <tr>\n",
       "      <th>679180</th>\n",
       "      <td>bitcoin-atom</td>\n",
       "      <td>BCA</td>\n",
       "      <td>Bitcoin Atom</td>\n",
       "      <td>2/3/2018</td>\n",
       "      <td>1515</td>\n",
       "      <td>35.99</td>\n",
       "      <td>36.71</td>\n",
       "      <td>30.10</td>\n",
       "      <td>30.74</td>\n",
       "      <td>27136</td>\n",
       "      <td>0.0</td>\n",
       "      <td>0.0968</td>\n",
       "      <td>6.61</td>\n",
       "    </tr>\n",
       "    <tr>\n",
       "      <th>679181</th>\n",
       "      <td>bitcoin-atom</td>\n",
       "      <td>BCA</td>\n",
       "      <td>Bitcoin Atom</td>\n",
       "      <td>2/4/2018</td>\n",
       "      <td>1515</td>\n",
       "      <td>30.75</td>\n",
       "      <td>34.90</td>\n",
       "      <td>23.93</td>\n",
       "      <td>23.93</td>\n",
       "      <td>26370</td>\n",
       "      <td>0.0</td>\n",
       "      <td>0.0</td>\n",
       "      <td>10.97</td>\n",
       "    </tr>\n",
       "    <tr>\n",
       "      <th>679182</th>\n",
       "      <td>bitcoin-atom</td>\n",
       "      <td>BCA</td>\n",
       "      <td>Bitcoin Atom</td>\n",
       "      <td>2/5/2018</td>\n",
       "      <td>1515</td>\n",
       "      <td>25.52</td>\n",
       "      <td>27.42</td>\n",
       "      <td>19.25</td>\n",
       "      <td>19.68</td>\n",
       "      <td>17804</td>\n",
       "      <td>0.0</td>\n",
       "      <td>0.0526</td>\n",
       "      <td>8.17</td>\n",
       "    </tr>\n",
       "  </tbody>\n",
       "</table>\n",
       "</div>"
      ],
      "text/plain": [
       "                slug symbol          name      date  ranknow   open   high  \\\n",
       "679178  bitcoin-atom    BCA  Bitcoin Atom  2/1/2018     1515  45.95  55.17   \n",
       "679179  bitcoin-atom    BCA  Bitcoin Atom  2/2/2018     1515  42.90  42.90   \n",
       "679180  bitcoin-atom    BCA  Bitcoin Atom  2/3/2018     1515  35.99  36.71   \n",
       "679181  bitcoin-atom    BCA  Bitcoin Atom  2/4/2018     1515  30.75  34.90   \n",
       "679182  bitcoin-atom    BCA  Bitcoin Atom  2/5/2018     1515  25.52  27.42   \n",
       "\n",
       "          low  close  volume  market close_ratio  spread  \n",
       "679178  41.70  42.95   38029     0.0      0.0928   13.47  \n",
       "679179  29.18  35.91   48024     0.0      0.4905   13.72  \n",
       "679180  30.10  30.74   27136     0.0      0.0968    6.61  \n",
       "679181  23.93  23.93   26370     0.0         0.0   10.97  \n",
       "679182  19.25  19.68   17804     0.0      0.0526    8.17  "
      ]
     },
     "execution_count": 5,
     "metadata": {},
     "output_type": "execute_result"
    }
   ],
   "source": [
    "df_crypto.tail()\n",
    "\n"
   ]
  },
  {
   "cell_type": "markdown",
   "id": "54eac854",
   "metadata": {
    "slideshow": {
     "slide_type": "slide"
    }
   },
   "source": [
    "# Ex2: selezione della data più recente\n",
    "\n",
    "* si vogliono individauare le quotazioni di tutte le cryptocurrencies nell'ultima data contenuta nel data-set\n",
    "\n",
    "* passi richiesti:\n",
    "\n",
    "    * individuare la data più recente (massima) contenuta nel dataset\n",
    "    \n",
    "    * selezionare tutte le righe che hanno un valore del campo *date* uguale a quella data\n",
    "    \n",
    "* costrutti *Pandas* utilizzati\n",
    "\n",
    "    * l'oggetto *Date*\n",
    "    \n",
    "    * selezione di righe da un *DataFrame*\n"
   ]
  },
  {
   "cell_type": "markdown",
   "id": "7b204ae6",
   "metadata": {
    "slideshow": {
     "slide_type": "slide"
    }
   },
   "source": [
    "# Approfondimenti: gestire le date in Pandas\n",
    "\n",
    "* perchè la date sono importanti? \n",
    "\n",
    "* i dataset contengono spesso delle time-series\n",
    "\n",
    "* time series: collezione di data record ottenute in diversi istanti di tempo ordinatoi cronologicamente\n",
    "    * stock price changes\n",
    "    * indicatori economici \n",
    "    * dati rilevati periodicamente da sensori in *IoT*\n",
    "    * rilevazioni periodiche di alcuni valori di un paziente\n",
    "    * ....\n",
    "    \n",
    "* le date sono generalmente rappresentate come stringhe all'interno dei dataset\n",
    "\n",
    "* *to_datetime()* funzione di *Pandas* utile per:\n",
    "    * convertire date e ore in un oggetto *DateTime*\n",
    "    * molti metodi definiti da *Pandas* per la manipolazione di oggetti *DateTime*\n",
    "    * ne vedremo solo alcuni, altri negli esempi presentati nel corso"
   ]
  },
  {
   "cell_type": "code",
   "execution_count": 6,
   "id": "6f17181f",
   "metadata": {
    "slideshow": {
     "slide_type": "fragment"
    }
   },
   "outputs": [
    {
     "name": "stdout",
     "output_type": "stream",
     "text": [
      "         date  examcode\n",
      "0  04/03/2022      1600\n",
      "1  05/03/2022      1620\n",
      "2  06/03/2022      1630\n",
      "\n",
      "<class 'pandas.core.frame.DataFrame'>\n",
      "RangeIndex: 3 entries, 0 to 2\n",
      "Data columns (total 2 columns):\n",
      " #   Column    Non-Null Count  Dtype \n",
      "---  ------    --------------  ----- \n",
      " 0   date      3 non-null      object\n",
      " 1   examcode  3 non-null      int64 \n",
      "dtypes: int64(1), object(1)\n",
      "memory usage: 176.0+ bytes\n",
      "None\n"
     ]
    }
   ],
   "source": [
    "df = pd.DataFrame({'date': ['04/03/2022', '05/03/2022', '06/03/2022'],\n",
    "                   'examcode': [1600, 1620, 1630]})\n",
    "print(df)\n",
    "print()\n",
    "print(df.info())"
   ]
  },
  {
   "cell_type": "markdown",
   "id": "3438c0de",
   "metadata": {
    "slideshow": {
     "slide_type": "fragment"
    }
   },
   "source": [
    "* *date* è di tipo object, quindi una stringa"
   ]
  },
  {
   "cell_type": "markdown",
   "id": "a2341246",
   "metadata": {
    "slideshow": {
     "slide_type": "slide"
    }
   },
   "source": [
    "# Approfondimenti: gestire le date in Pandas"
   ]
  },
  {
   "cell_type": "code",
   "execution_count": 7,
   "id": "9c4ed417",
   "metadata": {
    "slideshow": {
     "slide_type": "fragment"
    }
   },
   "outputs": [
    {
     "name": "stdout",
     "output_type": "stream",
     "text": [
      "        date  examcode\n",
      "0 2022-04-03      1600\n",
      "1 2022-05-03      1620\n",
      "2 2022-06-03      1630\n",
      "\n",
      "<class 'pandas.core.frame.DataFrame'>\n",
      "RangeIndex: 3 entries, 0 to 2\n",
      "Data columns (total 2 columns):\n",
      " #   Column    Non-Null Count  Dtype         \n",
      "---  ------    --------------  -----         \n",
      " 0   date      3 non-null      datetime64[ns]\n",
      " 1   examcode  3 non-null      int64         \n",
      "dtypes: datetime64[ns](1), int64(1)\n",
      "memory usage: 176.0 bytes\n",
      "None\n"
     ]
    }
   ],
   "source": [
    "df['date'] = pd.to_datetime(df['date'])\n",
    "print(df)\n",
    "\n",
    "print()\n",
    "print(df.info())\n"
   ]
  },
  {
   "cell_type": "markdown",
   "id": "3a4b224b",
   "metadata": {
    "slideshow": {
     "slide_type": "fragment"
    }
   },
   "source": [
    "* da notare che il tipo della colonna date è cambiato in *datetime64[ns]*\n",
    "* anche la notazione usata per visualizzare la data è cambiata"
   ]
  },
  {
   "cell_type": "markdown",
   "id": "b79b9c30",
   "metadata": {
    "slideshow": {
     "slide_type": "slide"
    }
   },
   "source": [
    "# Approfondimenti: gestire le date in Pandas"
   ]
  },
  {
   "cell_type": "code",
   "execution_count": 8,
   "id": "7c1e7637",
   "metadata": {
    "slideshow": {
     "slide_type": "fragment"
    }
   },
   "outputs": [
    {
     "name": "stdout",
     "output_type": "stream",
     "text": [
      "2022-06-03 00:00:00\n",
      "6\n",
      "2022-06-03 00:00:00\n",
      "None\n"
     ]
    }
   ],
   "source": [
    "print(df.iloc[2]['date'])\n",
    "\n",
    "print(df.iloc[2]['date'].month)\n",
    "\n",
    "print(max(df['date']))\n",
    "\n",
    "print(df.iloc[2]['date'].tzinfo)\n"
   ]
  },
  {
   "cell_type": "markdown",
   "id": "5f47f195",
   "metadata": {
    "slideshow": {
     "slide_type": "fragment"
    }
   },
   "source": [
    "* *tzinfo*: informazione sulla Time Zone"
   ]
  },
  {
   "cell_type": "markdown",
   "id": "34ee1c36",
   "metadata": {
    "slideshow": {
     "slide_type": "slide"
    }
   },
   "source": [
    "# Approfondimenti: selezionare  un DataFrame"
   ]
  },
  {
   "cell_type": "code",
   "execution_count": 9,
   "id": "97ea914c",
   "metadata": {
    "slideshow": {
     "slide_type": "fragment"
    }
   },
   "outputs": [
    {
     "name": "stdout",
     "output_type": "stream",
     "text": [
      "            max_speed  shield\n",
      "cobra               2       3\n",
      "viper               5       6\n",
      "sidewinder          8       9\n"
     ]
    }
   ],
   "source": [
    "df = pd.DataFrame([[2, 3], [5, 6], [8, 9]],\n",
    "     index=['cobra', 'viper', 'sidewinder'],\n",
    "     columns=['max_speed', 'shield'])\n",
    "print(df)\n"
   ]
  },
  {
   "cell_type": "markdown",
   "id": "f7666070",
   "metadata": {
    "slideshow": {
     "slide_type": "fragment"
    }
   },
   "source": [
    "<center>\n",
    "<img src=\"Figures/Selection1.jpg\" style=\"width:600px;height:500px;\"/>"
   ]
  },
  {
   "cell_type": "markdown",
   "id": "88809253",
   "metadata": {
    "slideshow": {
     "slide_type": "slide"
    }
   },
   "source": [
    "# Approfondimenti: selezionare  un DataFrame"
   ]
  },
  {
   "cell_type": "code",
   "execution_count": 10,
   "id": "d76c19d6",
   "metadata": {
    "slideshow": {
     "slide_type": "fragment"
    }
   },
   "outputs": [
    {
     "data": {
      "text/plain": [
       "max_speed    5\n",
       "shield       6\n",
       "Name: viper, dtype: int64"
      ]
     },
     "execution_count": 10,
     "metadata": {},
     "output_type": "execute_result"
    }
   ],
   "source": [
    "df.loc['viper']\n"
   ]
  },
  {
   "cell_type": "markdown",
   "id": "89db421d",
   "metadata": {
    "slideshow": {
     "slide_type": "fragment"
    }
   },
   "source": [
    "<center>\n",
    "<img src=\"Figures/Selection2.jpg\" style=\"width:600px;height:500px;\"/>"
   ]
  },
  {
   "cell_type": "markdown",
   "id": "f76997c7",
   "metadata": {
    "slideshow": {
     "slide_type": "slide"
    }
   },
   "source": [
    "# Approfondimenti: selezionare un DataFrame"
   ]
  },
  {
   "cell_type": "code",
   "execution_count": 11,
   "id": "4b190ccc",
   "metadata": {
    "slideshow": {
     "slide_type": "fragment"
    }
   },
   "outputs": [
    {
     "data": {
      "text/plain": [
       "3"
      ]
     },
     "execution_count": 11,
     "metadata": {},
     "output_type": "execute_result"
    }
   ],
   "source": [
    "df.loc['cobra', 'shield']\n"
   ]
  },
  {
   "cell_type": "markdown",
   "id": "e319820c",
   "metadata": {
    "slideshow": {
     "slide_type": "fragment"
    }
   },
   "source": [
    "<center>\n",
    "<img src=\"Figures/Selection4.jpg\" style=\"width:600px;height:500px;\"/>"
   ]
  },
  {
   "cell_type": "markdown",
   "id": "d676f5d4",
   "metadata": {
    "slideshow": {
     "slide_type": "slide"
    }
   },
   "source": [
    "# Approfondimenti: selezionare un DataFrame"
   ]
  },
  {
   "cell_type": "code",
   "execution_count": 12,
   "id": "534d02ce",
   "metadata": {
    "slideshow": {
     "slide_type": "fragment"
    }
   },
   "outputs": [
    {
     "data": {
      "text/html": [
       "<div>\n",
       "<style scoped>\n",
       "    .dataframe tbody tr th:only-of-type {\n",
       "        vertical-align: middle;\n",
       "    }\n",
       "\n",
       "    .dataframe tbody tr th {\n",
       "        vertical-align: top;\n",
       "    }\n",
       "\n",
       "    .dataframe thead th {\n",
       "        text-align: right;\n",
       "    }\n",
       "</style>\n",
       "<table border=\"1\" class=\"dataframe\">\n",
       "  <thead>\n",
       "    <tr style=\"text-align: right;\">\n",
       "      <th></th>\n",
       "      <th>max_speed</th>\n",
       "      <th>shield</th>\n",
       "    </tr>\n",
       "  </thead>\n",
       "  <tbody>\n",
       "    <tr>\n",
       "      <th>viper</th>\n",
       "      <td>5</td>\n",
       "      <td>6</td>\n",
       "    </tr>\n",
       "    <tr>\n",
       "      <th>sidewinder</th>\n",
       "      <td>8</td>\n",
       "      <td>9</td>\n",
       "    </tr>\n",
       "  </tbody>\n",
       "</table>\n",
       "</div>"
      ],
      "text/plain": [
       "            max_speed  shield\n",
       "viper               5       6\n",
       "sidewinder          8       9"
      ]
     },
     "execution_count": 12,
     "metadata": {},
     "output_type": "execute_result"
    }
   ],
   "source": [
    "df.loc[['viper', 'sidewinder']]\n"
   ]
  },
  {
   "cell_type": "markdown",
   "id": "42d2b9f4",
   "metadata": {
    "slideshow": {
     "slide_type": "fragment"
    }
   },
   "source": [
    "<center>\n",
    "<img src=\"Figures/Selection3.jpg\" style=\"width:500px;height:600px;\"/>"
   ]
  },
  {
   "cell_type": "markdown",
   "id": "bdd66a21",
   "metadata": {
    "slideshow": {
     "slide_type": "slide"
    }
   },
   "source": [
    "# Approfondimenti: selezionare  un DataFrame"
   ]
  },
  {
   "cell_type": "code",
   "execution_count": 13,
   "id": "f35206d8",
   "metadata": {
    "slideshow": {
     "slide_type": "fragment"
    }
   },
   "outputs": [
    {
     "data": {
      "text/plain": [
       "cobra    2\n",
       "viper    5\n",
       "Name: max_speed, dtype: int64"
      ]
     },
     "execution_count": 13,
     "metadata": {},
     "output_type": "execute_result"
    }
   ],
   "source": [
    "df.loc['cobra':'viper', 'max_speed']\n"
   ]
  },
  {
   "cell_type": "markdown",
   "id": "9053c9b7",
   "metadata": {
    "slideshow": {
     "slide_type": "fragment"
    }
   },
   "source": [
    "<center>\n",
    "<img src=\"Figures/Selection5.jpg\" style=\"width:600px;height:500px;\"/>"
   ]
  },
  {
   "cell_type": "markdown",
   "id": "837151f4",
   "metadata": {
    "slideshow": {
     "slide_type": "slide"
    }
   },
   "source": [
    "# Approfondimenti: selezionare  un DataFrame"
   ]
  },
  {
   "cell_type": "code",
   "execution_count": 14,
   "id": "237fd842",
   "metadata": {
    "slideshow": {
     "slide_type": "fragment"
    }
   },
   "outputs": [
    {
     "data": {
      "text/html": [
       "<div>\n",
       "<style scoped>\n",
       "    .dataframe tbody tr th:only-of-type {\n",
       "        vertical-align: middle;\n",
       "    }\n",
       "\n",
       "    .dataframe tbody tr th {\n",
       "        vertical-align: top;\n",
       "    }\n",
       "\n",
       "    .dataframe thead th {\n",
       "        text-align: right;\n",
       "    }\n",
       "</style>\n",
       "<table border=\"1\" class=\"dataframe\">\n",
       "  <thead>\n",
       "    <tr style=\"text-align: right;\">\n",
       "      <th></th>\n",
       "      <th>max_speed</th>\n",
       "      <th>shield</th>\n",
       "    </tr>\n",
       "  </thead>\n",
       "  <tbody>\n",
       "    <tr>\n",
       "      <th>sidewinder</th>\n",
       "      <td>8</td>\n",
       "      <td>9</td>\n",
       "    </tr>\n",
       "  </tbody>\n",
       "</table>\n",
       "</div>"
      ],
      "text/plain": [
       "            max_speed  shield\n",
       "sidewinder          8       9"
      ]
     },
     "execution_count": 14,
     "metadata": {},
     "output_type": "execute_result"
    }
   ],
   "source": [
    "df.loc[[False, False, True]]\n"
   ]
  },
  {
   "cell_type": "markdown",
   "id": "37f69629",
   "metadata": {
    "slideshow": {
     "slide_type": "fragment"
    }
   },
   "source": [
    "<center>\n",
    "<img src=\"Figures/Selection6.jpg\" style=\"width:600px;height:500px;\"/>"
   ]
  },
  {
   "cell_type": "markdown",
   "id": "1b13f2e4",
   "metadata": {
    "slideshow": {
     "slide_type": "slide"
    }
   },
   "source": [
    "# Approfondimenti: selezionare righe da un DataFrame"
   ]
  },
  {
   "cell_type": "code",
   "execution_count": null,
   "id": "67d97c30",
   "metadata": {
    "slideshow": {
     "slide_type": "fragment"
    }
   },
   "outputs": [],
   "source": [
    "df.loc[df['shield'] > 6]\n"
   ]
  },
  {
   "cell_type": "markdown",
   "id": "6eadddfb",
   "metadata": {
    "slideshow": {
     "slide_type": "fragment"
    }
   },
   "source": [
    "<center>\n",
    "<img src=\"Figures/Selection7.jpg\" style=\"width:600px;height:500px;\"/>"
   ]
  },
  {
   "cell_type": "markdown",
   "id": "1a7784e2",
   "metadata": {
    "slideshow": {
     "slide_type": "slide"
    }
   },
   "source": [
    "# Approfondimenti: selezionare un DataFrame"
   ]
  },
  {
   "cell_type": "code",
   "execution_count": 15,
   "id": "b17bb8fa",
   "metadata": {
    "slideshow": {
     "slide_type": "fragment"
    }
   },
   "outputs": [
    {
     "data": {
      "text/html": [
       "<div>\n",
       "<style scoped>\n",
       "    .dataframe tbody tr th:only-of-type {\n",
       "        vertical-align: middle;\n",
       "    }\n",
       "\n",
       "    .dataframe tbody tr th {\n",
       "        vertical-align: top;\n",
       "    }\n",
       "\n",
       "    .dataframe thead th {\n",
       "        text-align: right;\n",
       "    }\n",
       "</style>\n",
       "<table border=\"1\" class=\"dataframe\">\n",
       "  <thead>\n",
       "    <tr style=\"text-align: right;\">\n",
       "      <th></th>\n",
       "      <th>max_speed</th>\n",
       "    </tr>\n",
       "  </thead>\n",
       "  <tbody>\n",
       "    <tr>\n",
       "      <th>sidewinder</th>\n",
       "      <td>8</td>\n",
       "    </tr>\n",
       "  </tbody>\n",
       "</table>\n",
       "</div>"
      ],
      "text/plain": [
       "            max_speed\n",
       "sidewinder          8"
      ]
     },
     "execution_count": 15,
     "metadata": {},
     "output_type": "execute_result"
    }
   ],
   "source": [
    "df.loc[df['shield'] > 6, ['max_speed']]\n"
   ]
  },
  {
   "cell_type": "markdown",
   "id": "72fc16eb",
   "metadata": {
    "slideshow": {
     "slide_type": "fragment"
    }
   },
   "source": [
    "<center>\n",
    "<img src=\"Figures/Selection8.jpg\" style=\"width:600px;height:500px;\"/>"
   ]
  },
  {
   "cell_type": "markdown",
   "id": "a467888c",
   "metadata": {
    "slideshow": {
     "slide_type": "slide"
    }
   },
   "source": [
    "# Approfondimenti: selezionare un DataFrame"
   ]
  },
  {
   "cell_type": "code",
   "execution_count": 16,
   "id": "8154ea6d",
   "metadata": {
    "slideshow": {
     "slide_type": "fragment"
    }
   },
   "outputs": [
    {
     "data": {
      "text/html": [
       "<div>\n",
       "<style scoped>\n",
       "    .dataframe tbody tr th:only-of-type {\n",
       "        vertical-align: middle;\n",
       "    }\n",
       "\n",
       "    .dataframe tbody tr th {\n",
       "        vertical-align: top;\n",
       "    }\n",
       "\n",
       "    .dataframe thead th {\n",
       "        text-align: right;\n",
       "    }\n",
       "</style>\n",
       "<table border=\"1\" class=\"dataframe\">\n",
       "  <thead>\n",
       "    <tr style=\"text-align: right;\">\n",
       "      <th></th>\n",
       "      <th>max_speed</th>\n",
       "      <th>shield</th>\n",
       "    </tr>\n",
       "  </thead>\n",
       "  <tbody>\n",
       "    <tr>\n",
       "      <th>sidewinder</th>\n",
       "      <td>8</td>\n",
       "      <td>9</td>\n",
       "    </tr>\n",
       "  </tbody>\n",
       "</table>\n",
       "</div>"
      ],
      "text/plain": [
       "            max_speed  shield\n",
       "sidewinder          8       9"
      ]
     },
     "execution_count": 16,
     "metadata": {},
     "output_type": "execute_result"
    }
   ],
   "source": [
    "df.loc[lambda df: df['shield'] == 9]\n"
   ]
  },
  {
   "cell_type": "markdown",
   "id": "7dded786",
   "metadata": {
    "slideshow": {
     "slide_type": "fragment"
    }
   },
   "source": [
    "<center>\n",
    "<img src=\"Figures/Selection9.jpg\" style=\"width:600px;height:500px;\"/>"
   ]
  },
  {
   "cell_type": "markdown",
   "id": "d5ec0acd",
   "metadata": {
    "slideshow": {
     "slide_type": "slide"
    }
   },
   "source": [
    "# Ex2: selezioni della data più recente: howto"
   ]
  },
  {
   "cell_type": "code",
   "execution_count": 17,
   "id": "3bb51e5a",
   "metadata": {
    "slideshow": {
     "slide_type": "fragment"
    }
   },
   "outputs": [
    {
     "name": "stdout",
     "output_type": "stream",
     "text": [
      "I dati più recenti sulle crypto\n",
      "              slug symbol          name       date  ranknow         open  \\\n",
      "1744       bitcoin    BTC       Bitcoin 2018-02-05        1  8270.540000   \n",
      "2658      ethereum    ETH      Ethereum 2018-02-05        2   834.960000   \n",
      "4305        ripple    XRP        Ripple 2018-02-05        3     0.825943   \n",
      "4503  bitcoin-cash    BCH  Bitcoin Cash 2018-02-05        4  1159.890000   \n",
      "4631       cardano    ADA       Cardano 2018-02-05        5     0.385044   \n",
      "\n",
      "             high          low        close      volume        market  \\\n",
      "1744  8364.840000  6756.680000  6955.270000  9285290000  1.393250e+11   \n",
      "2658   856.650000   644.600000   697.950000  4269530000  8.133740e+10   \n",
      "4305     0.833866     0.675827     0.691799  1286180000  3.221940e+10   \n",
      "4503  1172.700000   839.950000   887.410000   568117000  1.965980e+10   \n",
      "4631     0.399523     0.319646     0.327371   658548000  9.983060e+09   \n",
      "\n",
      "     close_ratio   spread  \n",
      "1744      0.1235  1608.16  \n",
      "2658      0.2516   212.05  \n",
      "4305      0.1011     0.16  \n",
      "4503      0.1426   332.75  \n",
      "4631      0.0967     0.08  \n"
     ]
    }
   ],
   "source": [
    "# trasformare le date in oggetti Pandas\n",
    "\n",
    "df_crypto['date'] = pd.to_datetime(df_crypto['date'])\n",
    "\n",
    "# trovare la data più recente \n",
    "\n",
    "m=max(df_crypto['date'])\n",
    "\n",
    "# Costruire un nuovo DataFrame contenente, per ogni crypto, la quotazione più recente\n",
    "\n",
    "print(\"I dati più recenti sulle crypto\")\n",
    "\n",
    "latest_df = df_crypto[df_crypto['date'] == m]\n",
    "\n",
    "print(latest_df.head())\n"
   ]
  },
  {
   "cell_type": "markdown",
   "id": "61f13acb",
   "metadata": {
    "slideshow": {
     "slide_type": "slide"
    }
   },
   "source": [
    "# Ex2: selezionare la prima data di registrazione di ogni cryptocurrency\n",
    "\n",
    "* quando è entrata quella cryptocurrency sul mercato?\n",
    "\n",
    "* passi richiesti\n",
    "    * ragguppare le cryptocurrencies in base al nome\n",
    "    * per ogni gruppo ottenuto, trovare la riga con la data minima, che rappresenta la prima registrazione per quella crypto\n",
    "    * formare un nuovo DataFrame  con le righe selezionate al passo precedente\n",
    "    * ordinare le righe del nuovo DataFrame rispetto alla data\n",
    "    * stampare le prime 10 righe"
   ]
  },
  {
   "cell_type": "markdown",
   "id": "959c5182",
   "metadata": {
    "slideshow": {
     "slide_type": "slide"
    }
   },
   "source": [
    "# Approfondimenti: Pandas Groupby\n",
    "\n",
    "* simile all *GROUP BY* di *SQL*\n",
    "\n",
    "* si passa \n",
    "\n",
    "    * il nome della colonna su cui si vuole raggruppare in base al valore in quella colonna\n",
    "    * il nome della colnna su cui si vuole calcolare la funzione di aggregazione\n"
   ]
  },
  {
   "cell_type": "markdown",
   "id": "cf4ae077",
   "metadata": {
    "slideshow": {
     "slide_type": "slide"
    }
   },
   "source": [
    "# Approfondimenti: Pandas GroupBy, selezione"
   ]
  },
  {
   "cell_type": "code",
   "execution_count": 18,
   "id": "2208be37",
   "metadata": {
    "slideshow": {
     "slide_type": "fragment"
    }
   },
   "outputs": [
    {
     "name": "stdout",
     "output_type": "stream",
     "text": [
      "  company  salary  age\n",
      "0       A      17   23\n",
      "1       B       6   24\n",
      "2       A      43   35\n",
      "3       B      44   31\n",
      "4       B      28   20\n",
      "5       C      29   30\n",
      "6       A      22   15\n",
      "7       C      42   33\n",
      "8       A      30   39\n",
      "9       A      18   44\n"
     ]
    }
   ],
   "source": [
    "np.random.seed(0)\n",
    "company=[\"A\",\"B\",\"C\"]\n",
    "\n",
    "data_company=pd.DataFrame({\n",
    "    \"company\":[company[x] for x in np.random.randint(0,len(company),10)],\n",
    "    \"salary\":np.random.randint(5,50,10),\n",
    "    \"age\":np.random.randint(15,50,10) }\n",
    ")\n",
    "print (data_company)"
   ]
  },
  {
   "cell_type": "code",
   "execution_count": 19,
   "id": "f6b30366",
   "metadata": {
    "slideshow": {
     "slide_type": "fragment"
    }
   },
   "outputs": [
    {
     "data": {
      "text/plain": [
       "[('A',\n",
       "    company  salary  age\n",
       "  0       A      17   23\n",
       "  2       A      43   35\n",
       "  6       A      22   15\n",
       "  8       A      30   39\n",
       "  9       A      18   44),\n",
       " ('B',\n",
       "    company  salary  age\n",
       "  1       B       6   24\n",
       "  3       B      44   31\n",
       "  4       B      28   20),\n",
       " ('C',\n",
       "    company  salary  age\n",
       "  5       C      29   30\n",
       "  7       C      42   33)]"
      ]
     },
     "execution_count": 19,
     "metadata": {},
     "output_type": "execute_result"
    }
   ],
   "source": [
    "group = data_company.groupby(\"company\")\n",
    "list(group)"
   ]
  },
  {
   "cell_type": "markdown",
   "id": "98d9db1b",
   "metadata": {
    "slideshow": {
     "slide_type": "slide"
    }
   },
   "source": [
    "# Approfondimenti: Pandas GroupBy, aggregazione"
   ]
  },
  {
   "cell_type": "code",
   "execution_count": 20,
   "id": "f75e072d",
   "metadata": {
    "slideshow": {
     "slide_type": "fragment"
    }
   },
   "outputs": [
    {
     "name": "stdout",
     "output_type": "stream",
     "text": [
      "company\n",
      "A    26.0\n",
      "B    26.0\n",
      "C    35.5\n",
      "Name: salary, dtype: float64\n"
     ]
    }
   ],
   "source": [
    "avg_salary_dict = data_company.groupby('company')['salary'].mean()\n",
    "print (avg_salary_dict)\n"
   ]
  },
  {
   "cell_type": "markdown",
   "id": "6470e820",
   "metadata": {
    "slideshow": {
     "slide_type": "slide"
    }
   },
   "source": [
    "# Ex2: selezionare la prima data di registrazione di ogni cryptocurrency"
   ]
  },
  {
   "cell_type": "code",
   "execution_count": 21,
   "id": "2933711c",
   "metadata": {
    "slideshow": {
     "slide_type": "fragment"
    }
   },
   "outputs": [
    {
     "name": "stdout",
     "output_type": "stream",
     "text": [
      "           start_date\n",
      "name                 \n",
      "0x         2017-08-16\n",
      "10M Token  2017-10-24\n",
      "2GIVE      2016-05-16\n",
      "300 Token  2017-07-25\n",
      "42-coin    2014-01-14\n",
      "...               ...\n",
      "netBit     2016-11-14\n",
      "onG.social 2017-12-01\n",
      "ugChain    2018-01-13\n",
      "vSlice     2016-12-19\n",
      "vTorrent   2014-12-25\n",
      "\n",
      "[1511 rows x 1 columns]\n"
     ]
    }
   ],
   "source": [
    "start_df = pd.DataFrame({'start_date' : df_crypto.groupby( [\"name\"] )['date'].min()})\n",
    "\n",
    "print (start_df )\n"
   ]
  },
  {
   "cell_type": "markdown",
   "id": "00e17108",
   "metadata": {
    "slideshow": {
     "slide_type": "slide"
    }
   },
   "source": [
    "# Ex2: selezionare la prima data di registrazione di ogni cryptocurrency"
   ]
  },
  {
   "cell_type": "code",
   "execution_count": 22,
   "id": "72ca3601",
   "metadata": {
    "slideshow": {
     "slide_type": "fragment"
    }
   },
   "outputs": [
    {
     "name": "stdout",
     "output_type": "stream",
     "text": [
      "Oldest Cryptocurrencies\n"
     ]
    },
    {
     "data": {
      "text/html": [
       "<div>\n",
       "<style scoped>\n",
       "    .dataframe tbody tr th:only-of-type {\n",
       "        vertical-align: middle;\n",
       "    }\n",
       "\n",
       "    .dataframe tbody tr th {\n",
       "        vertical-align: top;\n",
       "    }\n",
       "\n",
       "    .dataframe thead th {\n",
       "        text-align: right;\n",
       "    }\n",
       "</style>\n",
       "<table border=\"1\" class=\"dataframe\">\n",
       "  <thead>\n",
       "    <tr style=\"text-align: right;\">\n",
       "      <th></th>\n",
       "      <th>start_date</th>\n",
       "    </tr>\n",
       "    <tr>\n",
       "      <th>name</th>\n",
       "      <th></th>\n",
       "    </tr>\n",
       "  </thead>\n",
       "  <tbody>\n",
       "    <tr>\n",
       "      <th>Peercoin</th>\n",
       "      <td>2013-04-28</td>\n",
       "    </tr>\n",
       "    <tr>\n",
       "      <th>Litecoin</th>\n",
       "      <td>2013-04-28</td>\n",
       "    </tr>\n",
       "    <tr>\n",
       "      <th>Bitcoin</th>\n",
       "      <td>2013-04-28</td>\n",
       "    </tr>\n",
       "    <tr>\n",
       "      <th>Namecoin</th>\n",
       "      <td>2013-04-28</td>\n",
       "    </tr>\n",
       "    <tr>\n",
       "      <th>Novacoin</th>\n",
       "      <td>2013-04-28</td>\n",
       "    </tr>\n",
       "    <tr>\n",
       "      <th>Terracoin</th>\n",
       "      <td>2013-04-28</td>\n",
       "    </tr>\n",
       "    <tr>\n",
       "      <th>Mincoin</th>\n",
       "      <td>2013-05-03</td>\n",
       "    </tr>\n",
       "    <tr>\n",
       "      <th>Freicoin</th>\n",
       "      <td>2013-05-03</td>\n",
       "    </tr>\n",
       "    <tr>\n",
       "      <th>Feathercoin</th>\n",
       "      <td>2013-05-03</td>\n",
       "    </tr>\n",
       "    <tr>\n",
       "      <th>Ixcoin</th>\n",
       "      <td>2013-05-08</td>\n",
       "    </tr>\n",
       "  </tbody>\n",
       "</table>\n",
       "</div>"
      ],
      "text/plain": [
       "            start_date\n",
       "name                  \n",
       "Peercoin    2013-04-28\n",
       "Litecoin    2013-04-28\n",
       "Bitcoin     2013-04-28\n",
       "Namecoin    2013-04-28\n",
       "Novacoin    2013-04-28\n",
       "Terracoin   2013-04-28\n",
       "Mincoin     2013-05-03\n",
       "Freicoin    2013-05-03\n",
       "Feathercoin 2013-05-03\n",
       "Ixcoin      2013-05-08"
      ]
     },
     "execution_count": 22,
     "metadata": {},
     "output_type": "execute_result"
    }
   ],
   "source": [
    "start_df = pd.DataFrame({'start_date' : df_crypto.groupby( [\"name\"] )['date'].min()})\n",
    "\n",
    "# Visualizziamo le dati più lontane\n",
    "\n",
    "print(\"Oldest Cryptocurrencies\")\n",
    "\n",
    "# x è impostato a 10 inizialmente\n",
    "start_df.sort_values(['start_date']).head(x)"
   ]
  },
  {
   "cell_type": "markdown",
   "id": "b2b1b271",
   "metadata": {
    "slideshow": {
     "slide_type": "fragment"
    }
   },
   "source": [
    "* *sort_values*: per default ordina in modo crescente"
   ]
  },
  {
   "cell_type": "markdown",
   "id": "96f77345",
   "metadata": {
    "slideshow": {
     "slide_type": "slide"
    }
   },
   "source": [
    "# Ex2: selezionare le ultime  cryptocurrencies entrate sul mercato (nel 2018)"
   ]
  },
  {
   "cell_type": "code",
   "execution_count": 23,
   "id": "650b3b09",
   "metadata": {
    "slideshow": {
     "slide_type": "fragment"
    }
   },
   "outputs": [
    {
     "name": "stdout",
     "output_type": "stream",
     "text": [
      "Newest Cryptocurrencies\n"
     ]
    },
    {
     "data": {
      "text/html": [
       "<div>\n",
       "<style scoped>\n",
       "    .dataframe tbody tr th:only-of-type {\n",
       "        vertical-align: middle;\n",
       "    }\n",
       "\n",
       "    .dataframe tbody tr th {\n",
       "        vertical-align: top;\n",
       "    }\n",
       "\n",
       "    .dataframe thead th {\n",
       "        text-align: right;\n",
       "    }\n",
       "</style>\n",
       "<table border=\"1\" class=\"dataframe\">\n",
       "  <thead>\n",
       "    <tr style=\"text-align: right;\">\n",
       "      <th></th>\n",
       "      <th>start_date</th>\n",
       "    </tr>\n",
       "    <tr>\n",
       "      <th>name</th>\n",
       "      <th></th>\n",
       "    </tr>\n",
       "  </thead>\n",
       "  <tbody>\n",
       "    <tr>\n",
       "      <th>Pareto Network</th>\n",
       "      <td>2018-02-02</td>\n",
       "    </tr>\n",
       "    <tr>\n",
       "      <th>STK</th>\n",
       "      <td>2018-02-02</td>\n",
       "    </tr>\n",
       "    <tr>\n",
       "      <th>Polymath Network</th>\n",
       "      <td>2018-02-02</td>\n",
       "    </tr>\n",
       "    <tr>\n",
       "      <th>Huobi Token</th>\n",
       "      <td>2018-02-03</td>\n",
       "    </tr>\n",
       "    <tr>\n",
       "      <th>SwissBorg</th>\n",
       "      <td>2018-02-03</td>\n",
       "    </tr>\n",
       "    <tr>\n",
       "      <th>adbank</th>\n",
       "      <td>2018-02-03</td>\n",
       "    </tr>\n",
       "    <tr>\n",
       "      <th>DMarket</th>\n",
       "      <td>2018-02-03</td>\n",
       "    </tr>\n",
       "    <tr>\n",
       "      <th>Zilla</th>\n",
       "      <td>2018-02-03</td>\n",
       "    </tr>\n",
       "    <tr>\n",
       "      <th>Iungo</th>\n",
       "      <td>2018-02-04</td>\n",
       "    </tr>\n",
       "    <tr>\n",
       "      <th>Jibrel Network</th>\n",
       "      <td>2018-02-05</td>\n",
       "    </tr>\n",
       "  </tbody>\n",
       "</table>\n",
       "</div>"
      ],
      "text/plain": [
       "                 start_date\n",
       "name                       \n",
       "Pareto Network   2018-02-02\n",
       "STK              2018-02-02\n",
       "Polymath Network 2018-02-02\n",
       "Huobi Token      2018-02-03\n",
       "SwissBorg        2018-02-03\n",
       "adbank           2018-02-03\n",
       "DMarket          2018-02-03\n",
       "Zilla            2018-02-03\n",
       "Iungo            2018-02-04\n",
       "Jibrel Network   2018-02-05"
      ]
     },
     "execution_count": 23,
     "metadata": {},
     "output_type": "execute_result"
    }
   ],
   "source": [
    "# List the newest ones\n",
    "print(\"Newest Cryptocurrencies\")\n",
    "start_df.sort_values(['start_date']).tail(x)"
   ]
  },
  {
   "cell_type": "markdown",
   "id": "e285190d",
   "metadata": {
    "slideshow": {
     "slide_type": "slide"
    }
   },
   "source": [
    "# Ex 2: Ranking: individuare le top cryptocurrencies in base al ranking\n",
    "\n",
    "* selezione in base al ranking\n",
    "* top 10: rank =1 topmost, selezioniamo per rank <=10\n",
    "* valutazione relativa all'ultima rilevazione di mercato effettuata\n",
    "    * *latest_df*: è il data frame costruito all'inizio della lezione che contiene le rilevazioni effettuate nell'ultima data del DataSet"
   ]
  },
  {
   "cell_type": "code",
   "execution_count": 24,
   "id": "9b4f6213",
   "metadata": {
    "slideshow": {
     "slide_type": "fragment"
    }
   },
   "outputs": [
    {
     "data": {
      "text/html": [
       "<div>\n",
       "<style scoped>\n",
       "    .dataframe tbody tr th:only-of-type {\n",
       "        vertical-align: middle;\n",
       "    }\n",
       "\n",
       "    .dataframe tbody tr th {\n",
       "        vertical-align: top;\n",
       "    }\n",
       "\n",
       "    .dataframe thead th {\n",
       "        text-align: right;\n",
       "    }\n",
       "</style>\n",
       "<table border=\"1\" class=\"dataframe\">\n",
       "  <thead>\n",
       "    <tr style=\"text-align: right;\">\n",
       "      <th></th>\n",
       "      <th>name</th>\n",
       "      <th>market</th>\n",
       "    </tr>\n",
       "  </thead>\n",
       "  <tbody>\n",
       "    <tr>\n",
       "      <th>1744</th>\n",
       "      <td>Bitcoin</td>\n",
       "      <td>1.393250e+11</td>\n",
       "    </tr>\n",
       "    <tr>\n",
       "      <th>2658</th>\n",
       "      <td>Ethereum</td>\n",
       "      <td>8.133740e+10</td>\n",
       "    </tr>\n",
       "    <tr>\n",
       "      <th>4305</th>\n",
       "      <td>Ripple</td>\n",
       "      <td>3.221940e+10</td>\n",
       "    </tr>\n",
       "    <tr>\n",
       "      <th>4503</th>\n",
       "      <td>Bitcoin Cash</td>\n",
       "      <td>1.965980e+10</td>\n",
       "    </tr>\n",
       "    <tr>\n",
       "      <th>4631</th>\n",
       "      <td>Cardano</td>\n",
       "      <td>9.983060e+09</td>\n",
       "    </tr>\n",
       "    <tr>\n",
       "      <th>6376</th>\n",
       "      <td>Litecoin</td>\n",
       "      <td>8.190580e+09</td>\n",
       "    </tr>\n",
       "    <tr>\n",
       "      <th>6891</th>\n",
       "      <td>NEO</td>\n",
       "      <td>6.992380e+09</td>\n",
       "    </tr>\n",
       "    <tr>\n",
       "      <th>8172</th>\n",
       "      <td>Stellar</td>\n",
       "      <td>7.064590e+09</td>\n",
       "    </tr>\n",
       "    <tr>\n",
       "      <th>8392</th>\n",
       "      <td>EOS</td>\n",
       "      <td>5.618380e+09</td>\n",
       "    </tr>\n",
       "    <tr>\n",
       "      <th>9434</th>\n",
       "      <td>NEM</td>\n",
       "      <td>4.940820e+09</td>\n",
       "    </tr>\n",
       "  </tbody>\n",
       "</table>\n",
       "</div>"
      ],
      "text/plain": [
       "              name        market\n",
       "1744       Bitcoin  1.393250e+11\n",
       "2658      Ethereum  8.133740e+10\n",
       "4305        Ripple  3.221940e+10\n",
       "4503  Bitcoin Cash  1.965980e+10\n",
       "4631       Cardano  9.983060e+09\n",
       "6376      Litecoin  8.190580e+09\n",
       "6891           NEO  6.992380e+09\n",
       "8172       Stellar  7.064590e+09\n",
       "8392           EOS  5.618380e+09\n",
       "9434           NEM  4.940820e+09"
      ]
     },
     "execution_count": 24,
     "metadata": {},
     "output_type": "execute_result"
    }
   ],
   "source": [
    "\n",
    "latest_df[latest_df['ranknow'] <= x].groupby('ranknow').name.unique\n",
    "latest_df.sort_values(by=['market'], ascending=[False])\n",
    "latest_df[['name','market']].head(x)\n"
   ]
  },
  {
   "cell_type": "markdown",
   "id": "8ca73046",
   "metadata": {
    "slideshow": {
     "slide_type": "slide"
    }
   },
   "source": [
    "# Ex 2: data wrangling"
   ]
  },
  {
   "cell_type": "code",
   "execution_count": 25,
   "id": "ce097041",
   "metadata": {
    "slideshow": {
     "slide_type": "fragment"
    }
   },
   "outputs": [
    {
     "name": "stdout",
     "output_type": "stream",
     "text": [
      "                slug symbol          name       date  ranknow    open    high  \\\n",
      "0            bitcoin    BTC       Bitcoin 2013-04-28        1  135.30  135.98   \n",
      "1            bitcoin    BTC       Bitcoin 2013-04-29        1  134.44  147.49   \n",
      "2            bitcoin    BTC       Bitcoin 2013-04-30        1  144.00  146.93   \n",
      "3            bitcoin    BTC       Bitcoin 2013-05-01        1  139.00  139.89   \n",
      "4            bitcoin    BTC       Bitcoin 2013-05-02        1  116.38  125.60   \n",
      "...              ...    ...           ...        ...      ...     ...     ...   \n",
      "679178  bitcoin-atom    BCA  Bitcoin Atom 2018-02-01     1515   45.95   55.17   \n",
      "679179  bitcoin-atom    BCA  Bitcoin Atom 2018-02-02     1515   42.90   42.90   \n",
      "679180  bitcoin-atom    BCA  Bitcoin Atom 2018-02-03     1515   35.99   36.71   \n",
      "679181  bitcoin-atom    BCA  Bitcoin Atom 2018-02-04     1515   30.75   34.90   \n",
      "679182  bitcoin-atom    BCA  Bitcoin Atom 2018-02-05     1515   25.52   27.42   \n",
      "\n",
      "           low   close  volume        market close_ratio  spread  \\\n",
      "0       132.10  134.21       0  1.500520e+09      0.5438    3.88   \n",
      "1       134.00  144.54       0  1.491160e+09      0.7813   13.49   \n",
      "2       134.05  139.00       0  1.597780e+09      0.3843   12.88   \n",
      "3       107.72  116.99       0  1.542820e+09      0.2882   32.17   \n",
      "4        92.28  105.21       0  1.292190e+09      0.3881   33.32   \n",
      "...        ...     ...     ...           ...         ...     ...   \n",
      "679178   41.70   42.95   38029  0.000000e+00      0.0928   13.47   \n",
      "679179   29.18   35.91   48024  0.000000e+00      0.4905   13.72   \n",
      "679180   30.10   30.74   27136  0.000000e+00      0.0968    6.61   \n",
      "679181   23.93   23.93   26370  0.000000e+00         0.0   10.97   \n",
      "679182   19.25   19.68   17804  0.000000e+00      0.0526    8.17   \n",
      "\n",
      "        market_billion  volume_million  \n",
      "0              1.50052        0.000000  \n",
      "1              1.49116        0.000000  \n",
      "2              1.59778        0.000000  \n",
      "3              1.54282        0.000000  \n",
      "4              1.29219        0.000000  \n",
      "...                ...             ...  \n",
      "679178         0.00000        0.000038  \n",
      "679179         0.00000        0.000048  \n",
      "679180         0.00000        0.000027  \n",
      "679181         0.00000        0.000026  \n",
      "679182         0.00000        0.000018  \n",
      "\n",
      "[679183 rows x 15 columns]\n"
     ]
    }
   ],
   "source": [
    "df_crypto['market_billion'] = df_crypto['market'] / 1000000000\n",
    "df_crypto['volume_million'] = df_crypto['volume'] / 1000000000\n",
    "# df_crypto['volume_billion'] = df_crypto['volume']\n",
    "print(df_crypto)"
   ]
  },
  {
   "cell_type": "markdown",
   "id": "64e337e5",
   "metadata": {
    "slideshow": {
     "slide_type": "slide"
    }
   },
   "source": [
    "# Ex 2: Le prime 10 cryptocurrencies  per capitalizzazione\n",
    "\n",
    "* si vuole creare un plot che riporti le prime 10 criptocurrencies per market capitalization\n",
    "\n",
    "* passi da effettuare\n",
    "    * utilizziamo il DataSet iniziale\n",
    "    * raggruppare le cryptocurrencies in base al nome\n",
    "    * per ogni gruppo aggregare prendendo solo l'ultima registrazione\n",
    "    * ordinare in senso decrescente\n",
    "    * prendere le prime 10 \n",
    "    * visualizzare  un istogramma"
   ]
  },
  {
   "cell_type": "markdown",
   "id": "a391cfc8",
   "metadata": {
    "slideshow": {
     "slide_type": "slide"
    }
   },
   "source": [
    "# Ex 2: Le prime 10 cryptocurrencies  per capitalizzazione"
   ]
  },
  {
   "cell_type": "code",
   "execution_count": 26,
   "id": "c48d2427",
   "metadata": {
    "slideshow": {
     "slide_type": "fragment"
    }
   },
   "outputs": [
    {
     "name": "stdout",
     "output_type": "stream",
     "text": [
      "AxesSubplot(0.125,0.11;0.775x0.77)\n"
     ]
    },
    {
     "data": {
      "image/png": "[encoded data removed]",
      "text/plain": [
       "<Figure size 640x480 with 1 Axes>"
      ]
     },
     "metadata": {},
     "output_type": "display_data"
    }
   ],
   "source": [
    "ax = df_crypto.groupby(['name'])['market_billion'].last()\n",
    "ax= ax.sort_values(ascending=False).head(10).sort_values()\n",
    "ax = ax.plot(kind='barh', stacked=True, colormap='Paired')\n",
    "ax.set_xlabel(\"Market cap (in billion USD)\");\n",
    "plt.title(\"Top 10 Currencies by Market Cap\");\n",
    "print(ax)"
   ]
  },
  {
   "cell_type": "markdown",
   "id": "c6da193a",
   "metadata": {
    "slideshow": {
     "slide_type": "slide"
    }
   },
   "source": [
    "# Ex 2: Le prime 10 cryptocurrencies  per volume"
   ]
  },
  {
   "cell_type": "code",
   "execution_count": 27,
   "id": "326a7227",
   "metadata": {
    "slideshow": {
     "slide_type": "fragment"
    }
   },
   "outputs": [
    {
     "name": "stdout",
     "output_type": "stream",
     "text": [
      "AxesSubplot(0.125,0.11;0.775x0.77)\n"
     ]
    },
    {
     "data": {
      "image/png": "[encoded data removed]",
      "text/plain": [
       "<Figure size 640x480 with 1 Axes>"
      ]
     },
     "metadata": {},
     "output_type": "display_data"
    }
   ],
   "source": [
    "ax = df_crypto.groupby(['name'])['volume_million'].last()\n",
    "ax = ax.sort_values(ascending=False).head(10).sort_values()\n",
    "ax = ax.plot(kind='barh', stacked=True, colormap='Paired')\n",
    "ax.set_xlabel(\"Transaction Volume (in million)\");\n",
    "plt.title(\"Top 10 Currencies by Transaction Volume\");\n",
    "print(ax)"
   ]
  },
  {
   "cell_type": "markdown",
   "id": "0ae141fb",
   "metadata": {
    "slideshow": {
     "slide_type": "slide"
    }
   },
   "source": [
    "# Ex 2: Andamento del prezzo\n",
    "\n",
    "* si vuole valutare e visualizzare l'andamento del prezzo dal 2014 al 2018 per le top cryptocurrencies\n",
    "    * individuare le top 5 cryptocurrencies per capitalizzazione di mercato\n",
    "    * group_by su nome della moneta e su market\n",
    "    * ultimo valore di capitalizzazione per ogni gruppo (*last*)\n",
    "    * individuazione delle prime 5\n",
    "    * individuazione del prezzo di chiusura\n",
    "    "
   ]
  },
  {
   "cell_type": "markdown",
   "id": "cdff249a",
   "metadata": {
    "slideshow": {
     "slide_type": "slide"
    }
   },
   "source": [
    "# Ex 2: Andamento del prezzo"
   ]
  },
  {
   "cell_type": "code",
   "execution_count": 28,
   "id": "219b2f88",
   "metadata": {
    "slideshow": {
     "slide_type": "fragment"
    }
   },
   "outputs": [
    {
     "name": "stdout",
     "output_type": "stream",
     "text": [
      "Index(['Bitcoin', 'Ethereum', 'Ripple', 'Bitcoin Cash', 'Cardano'], dtype='object', name='name')\n"
     ]
    },
    {
     "data": {
      "image/png": "[encoded data removed]",
      "text/plain": [
       "<Figure size 640x480 with 1 Axes>"
      ]
     },
     "metadata": {},
     "output_type": "display_data"
    }
   ],
   "source": [
    "top_5_currency_names = df_crypto.groupby(['name'])['market'].last().sort_values(ascending=False).head(5).index\n",
    "print (top_5_currency_names)\n",
    "data_top_5_currencies = df_crypto[df_crypto['name'].isin(top_5_currency_names)]\n",
    "ax = data_top_5_currencies.groupby(['date', 'name'])['close'].last().unstack().plot();\n",
    "ax.set_ylabel(\"Price per 1 unit (in USD)\");\n",
    "plt.title(\"Price per unit of currency\");"
   ]
  },
  {
   "cell_type": "markdown",
   "id": "0f451124",
   "metadata": {
    "slideshow": {
     "slide_type": "slide"
    }
   },
   "source": [
    "# Ex 2: Andamento del prezzo\n",
    "\n",
    "* cosa accade se tolgo l'istruzione *unstack()*?"
   ]
  },
  {
   "cell_type": "code",
   "execution_count": 29,
   "id": "4db36494",
   "metadata": {
    "slideshow": {
     "slide_type": "fragment"
    }
   },
   "outputs": [
    {
     "name": "stdout",
     "output_type": "stream",
     "text": [
      "Index(['Bitcoin', 'Ethereum', 'Ripple', 'Bitcoin Cash', 'Cardano'], dtype='object', name='name')\n"
     ]
    },
    {
     "data": {
      "image/png": "[encoded data removed]",
      "text/plain": [
       "<Figure size 640x480 with 1 Axes>"
      ]
     },
     "metadata": {},
     "output_type": "display_data"
    }
   ],
   "source": [
    "top_5_currency_names = df_crypto.groupby(['name'])['market'].last().sort_values(ascending=False).head(5).index\n",
    "print (top_5_currency_names)\n",
    "data_top_5_currencies = df_crypto[df_crypto['name'].isin(top_5_currency_names)]\n",
    "\n",
    "ax = data_top_5_currencies.groupby(['date', 'name'])['close'].last().plot();\n",
    "ax.set_ylabel(\"Price per 1 unit (in USD)\");\n",
    "plt.title(\"Price per unit of currency\");\n"
   ]
  },
  {
   "cell_type": "markdown",
   "id": "ffd029a5",
   "metadata": {
    "slideshow": {
     "slide_type": "slide"
    }
   },
   "source": [
    "# Ex 2: Andamento del prezzo dal 2017"
   ]
  },
  {
   "cell_type": "code",
   "execution_count": 30,
   "id": "3a2d1b90",
   "metadata": {
    "slideshow": {
     "slide_type": "fragment"
    }
   },
   "outputs": [
    {
     "data": {
      "image/png": "[encoded data removed]",
      "text/plain": [
       "<Figure size 640x480 with 1 Axes>"
      ]
     },
     "metadata": {},
     "output_type": "display_data"
    }
   ],
   "source": [
    "ax = data_top_5_currencies[data_top_5_currencies.date.dt.year >= 2017].groupby(['date', 'name'])['close'].last().unstack().plot();\n",
    "ax.set_ylabel(\"Price per 1 unit (in USD)\");\n",
    "plt.title(\"Price per unit of currency (from 2017th)\");\n"
   ]
  },
  {
   "cell_type": "markdown",
   "id": "ecca3fa2",
   "metadata": {
    "slideshow": {
     "slide_type": "slide"
    }
   },
   "source": [
    "# Ex 2: Capitalizzazione dal 2017"
   ]
  },
  {
   "cell_type": "code",
   "execution_count": 31,
   "id": "a1dcda14",
   "metadata": {
    "slideshow": {
     "slide_type": "fragment"
    }
   },
   "outputs": [
    {
     "data": {
      "image/png": "[encoded data removed]",
      "text/plain": [
       "<Figure size 640x480 with 1 Axes>"
      ]
     },
     "metadata": {},
     "output_type": "display_data"
    }
   ],
   "source": [
    "ax = data_top_5_currencies[data_top_5_currencies.date.dt.year >= 2017].groupby(['date', 'name'])['market_billion'].last().unstack().plot();\n",
    "ax.set_ylabel(\"Market Cap (in billion USD)\");\n",
    "plt.title(\"Market cap per Currency (from 2017th)\");\n"
   ]
  },
  {
   "cell_type": "markdown",
   "id": "0ada8946",
   "metadata": {
    "slideshow": {
     "slide_type": "slide"
    }
   },
   "source": [
    "# Ex 2: Volume  dal 2017"
   ]
  },
  {
   "cell_type": "code",
   "execution_count": null,
   "id": "8cd379e8",
   "metadata": {
    "slideshow": {
     "slide_type": "fragment"
    }
   },
   "outputs": [],
   "source": [
    "ax = data_top_5_currencies[data_top_5_currencies.date.dt.year >= 2017].groupby(['date', 'name'])['volume_million'].last().unstack().plot();\n",
    "ax.set_ylabel(\"Transaction Volume (in million)\");\n",
    "plt.title(\"Transaction Volume per Currency (from 2017th)\");\n"
   ]
  },
  {
   "cell_type": "markdown",
   "id": "0b145ce2",
   "metadata": {
    "slideshow": {
     "slide_type": "slide"
    }
   },
   "source": [
    "# Approfondimenti: Seaborn, HeatMap"
   ]
  },
  {
   "cell_type": "code",
   "execution_count": 32,
   "id": "ec463666",
   "metadata": {},
   "outputs": [
    {
     "name": "stdout",
     "output_type": "stream",
     "text": [
      "         Apple  Orange  Banana  Pear\n",
      "Basket1     10      20      30    40\n",
      "Basket2      7      14      21    28\n",
      "Basket3     55      15       8    12\n",
      "Basket4     15      14       1     8\n"
     ]
    },
    {
     "data": {
      "image/png": "[encoded data removed]",
      "text/plain": [
       "<Figure size 640x480 with 2 Axes>"
      ]
     },
     "metadata": {},
     "output_type": "display_data"
    }
   ],
   "source": [
    "import matplotlib.pyplot as plt\n",
    "import pandas as pd\n",
    " \n",
    "df = pd.DataFrame([[10, 20, 30, 40], [7, 14, 21, 28], [55, 15, 8, 12],\n",
    "                    [15, 14, 1, 8]],\n",
    "                  columns=['Apple', 'Orange', 'Banana', 'Pear'],\n",
    "                  index=['Basket1', 'Basket2', 'Basket3', 'Basket4']\n",
    "                  )\n",
    "print(df)\n",
    " \n",
    "plt.imshow(df, cmap=\"YlGnBu\")\n",
    "plt.colorbar()\n",
    "plt.xticks(range(len(df)),df.columns, rotation=20)\n",
    "plt.yticks(range(len(df)),df.index)\n",
    "plt.show()\n"
   ]
  },
  {
   "cell_type": "markdown",
   "id": "797ed0ce",
   "metadata": {
    "slideshow": {
     "slide_type": "slide"
    }
   },
   "source": [
    "# Approfondimenti: HeatMap, correlazione\n",
    "\n",
    "* una matrice  che riporta le stesse variabili sull'asse x e sull'asse y\n",
    "\n",
    "* ogni elemento della matrice riporta la correlazione tra le variabili corrispondenti\n",
    "\n",
    "* correlazione varia tra -1 e 1\n",
    "\n",
    "* valori vicini a 1 indicano che le variabili sono molto correlate\n",
    "    * se incremento una variabile, anche l'altra incremente\n",
    "* valori vicini a -1 indicano l'inverso\n",
    "    * se incremento una variabile, l'altra diminuisce\n",
    "* le diagonali correlano una variabile con se stessa e quindi riportano sempre valori =1 \n",
    "    * correlazione massima\n",
    "* più alta la correlazione, più scuro il valore\n",
    "\n",
    "* plot simmetrico rispetto alla diagonale"
   ]
  },
  {
   "cell_type": "markdown",
   "id": "e6728ea3",
   "metadata": {
    "slideshow": {
     "slide_type": "slide"
    }
   },
   "source": [
    "# Approfondimenti: heatmap, correlazioni"
   ]
  },
  {
   "cell_type": "code",
   "execution_count": 33,
   "id": "c35c2dfa",
   "metadata": {
    "slideshow": {
     "slide_type": "fragment"
    }
   },
   "outputs": [
    {
     "data": {
      "text/plain": [
       "<function matplotlib.pyplot.show(close=None, block=None)>"
      ]
     },
     "execution_count": 33,
     "metadata": {},
     "output_type": "execute_result"
    },
    {
     "data": {
      "image/png": "[encoded data removed]",
      "text/plain": [
       "<Figure size 640x480 with 2 Axes>"
      ]
     },
     "metadata": {},
     "output_type": "display_data"
    }
   ],
   "source": [
    "import numpy as np\n",
    "import matplotlib\n",
    "import matplotlib.pyplot as plt\n",
    "import pandas as pd\n",
    "\n",
    "countries = [\"china\", \"usa\", \"france\", \"russia\",\n",
    "              \"japan\", \"india\", \"UK\"]\n",
    "GDP_trillion = [16, 23, 2, 1, 5, 3, 3]\n",
    "Population = [1.4, 0.3, 0.068, 0.14, 0.12, 1.3, 0.067]\n",
    "GDP_per_capita = [2.12, 3.45, 6.23, 7.89, 4.23, 5.34, 6.9]\n",
    "Agricultural_land = [0.92, 1.2, 0.45, 0.73, 0.21, 0.34, 0.91]\n",
    "Co2_emission = [0.40, 0.45, 0.34, 0.23, 0.97, 0.21, 0.74]\n",
    "\n",
    "df=pd.DataFrame({\n",
    "    'countries': countries,\n",
    "    'GDP_trillion': GDP_trillion,\n",
    "    'Population': Population,\n",
    "    'GDP_per_capita': GDP_per_capita,\n",
    "    'Agricultural_land': Agricultural_land,\n",
    "    'Co2_emission': Co2_emission\n",
    "})\n",
    "\n",
    "pear_corr=df.corr(method='pearson')\n",
    "sns.heatmap(pear_corr)\n",
    "plt.show\n"
   ]
  },
  {
   "cell_type": "markdown",
   "id": "33145cdd",
   "metadata": {
    "slideshow": {
     "slide_type": "slide"
    }
   },
   "source": [
    "# Ex 2: Correlazioni"
   ]
  },
  {
   "cell_type": "code",
   "execution_count": 34,
   "id": "784073ea",
   "metadata": {
    "slideshow": {
     "slide_type": "fragment"
    }
   },
   "outputs": [
    {
     "data": {
      "image/png": "[encoded data removed]",
      "text/plain": [
       "<Figure size 1400x800 with 2 Axes>"
      ]
     },
     "metadata": {},
     "output_type": "display_data"
    }
   ],
   "source": [
    "wide_format = df_crypto.groupby(['date', 'name'])['close'].last().unstack()\n",
    "plt.figure(figsize=(14,8))\n",
    "sns.heatmap(wide_format[top_5_currency_names].corr(method='pearson'),vmin=0, vmax=1, cmap='coolwarm', annot=True);\n"
   ]
  },
  {
   "cell_type": "markdown",
   "id": "db92f389",
   "metadata": {
    "slideshow": {
     "slide_type": "slide"
    }
   },
   "source": [
    "# Correzione dell'Assignment"
   ]
  },
  {
   "cell_type": "code",
   "execution_count": 35,
   "id": "ee321947",
   "metadata": {
    "slideshow": {
     "slide_type": "fragment"
    }
   },
   "outputs": [
    {
     "data": {
      "text/plain": [
       "Index(['Date', 'Rented Bike Count', 'Hour', 'Temperature(°C)', 'Humidity(%)',\n",
       "       'Wind speed (m/s)', 'Visibility (10m)', 'Dew point temperature(°C)',\n",
       "       'Solar Radiation (MJ/m2)', 'Rainfall(mm)', 'Snowfall (cm)', 'Seasons',\n",
       "       'Holiday', 'Functioning Day'],\n",
       "      dtype='object')"
      ]
     },
     "execution_count": 35,
     "metadata": {},
     "output_type": "execute_result"
    }
   ],
   "source": [
    "import warnings\n",
    "warnings.filterwarnings('ignore')\n",
    "import pandas as pd\n",
    "data = pd.read_csv(\"https://archive.ics.uci.edu/ml/machine-learning-databases/00560/SeoulBikeData.csv\", \n",
    "encoding = 'unicode_escape', parse_dates=['Date'])\n",
    "\n",
    "data.columns\n"
   ]
  },
  {
   "cell_type": "code",
   "execution_count": 36,
   "id": "aaa7946f",
   "metadata": {
    "slideshow": {
     "slide_type": "fragment"
    }
   },
   "outputs": [
    {
     "data": {
      "text/plain": [
       "(8760, 14)"
      ]
     },
     "execution_count": 36,
     "metadata": {},
     "output_type": "execute_result"
    }
   ],
   "source": [
    "data.shape\n"
   ]
  },
  {
   "cell_type": "markdown",
   "id": "3928e10c",
   "metadata": {
    "slideshow": {
     "slide_type": "slide"
    }
   },
   "source": [
    "# Correzione dell'Assignment"
   ]
  },
  {
   "cell_type": "code",
   "execution_count": null,
   "id": "1a422274",
   "metadata": {
    "slideshow": {
     "slide_type": "fragment"
    }
   },
   "outputs": [],
   "source": [
    "data.head()"
   ]
  },
  {
   "cell_type": "code",
   "execution_count": 39,
   "id": "82bc916b",
   "metadata": {
    "slideshow": {
     "slide_type": "fragment"
    }
   },
   "outputs": [
    {
     "data": {
      "text/html": [
       "<div>\n",
       "<style scoped>\n",
       "    .dataframe tbody tr th:only-of-type {\n",
       "        vertical-align: middle;\n",
       "    }\n",
       "\n",
       "    .dataframe tbody tr th {\n",
       "        vertical-align: top;\n",
       "    }\n",
       "\n",
       "    .dataframe thead th {\n",
       "        text-align: right;\n",
       "    }\n",
       "</style>\n",
       "<table border=\"1\" class=\"dataframe\">\n",
       "  <thead>\n",
       "    <tr style=\"text-align: right;\">\n",
       "      <th></th>\n",
       "      <th>Date</th>\n",
       "      <th>Hour</th>\n",
       "      <th>Rented Bike Count</th>\n",
       "    </tr>\n",
       "  </thead>\n",
       "  <tbody>\n",
       "    <tr>\n",
       "      <th>0</th>\n",
       "      <td>2017-01-12</td>\n",
       "      <td>0</td>\n",
       "      <td>254</td>\n",
       "    </tr>\n",
       "    <tr>\n",
       "      <th>1</th>\n",
       "      <td>2017-01-12</td>\n",
       "      <td>1</td>\n",
       "      <td>204</td>\n",
       "    </tr>\n",
       "    <tr>\n",
       "      <th>2</th>\n",
       "      <td>2017-01-12</td>\n",
       "      <td>2</td>\n",
       "      <td>173</td>\n",
       "    </tr>\n",
       "    <tr>\n",
       "      <th>3</th>\n",
       "      <td>2017-01-12</td>\n",
       "      <td>3</td>\n",
       "      <td>107</td>\n",
       "    </tr>\n",
       "    <tr>\n",
       "      <th>4</th>\n",
       "      <td>2017-01-12</td>\n",
       "      <td>4</td>\n",
       "      <td>78</td>\n",
       "    </tr>\n",
       "  </tbody>\n",
       "</table>\n",
       "</div>"
      ],
      "text/plain": [
       "        Date  Hour  Rented Bike Count\n",
       "0 2017-01-12     0                254\n",
       "1 2017-01-12     1                204\n",
       "2 2017-01-12     2                173\n",
       "3 2017-01-12     3                107\n",
       "4 2017-01-12     4                 78"
      ]
     },
     "execution_count": 39,
     "metadata": {},
     "output_type": "execute_result"
    }
   ],
   "source": [
    "date_hour_bikes = data.loc[:, [\"Date\", \"Hour\", \"Rented Bike Count\"]]\n",
    "date_hour_bikes.head()"
   ]
  },
  {
   "cell_type": "markdown",
   "id": "c54ea2dd",
   "metadata": {
    "slideshow": {
     "slide_type": "slide"
    }
   },
   "source": [
    "# Correzione dell'Assignment\n",
    "\n",
    "*   visualizzare Data, ora e numero totale di biciclette prese a nolo nella data 2017-08-12"
   ]
  },
  {
   "cell_type": "code",
   "execution_count": 40,
   "id": "a64affd1",
   "metadata": {
    "slideshow": {
     "slide_type": "fragment"
    }
   },
   "outputs": [
    {
     "data": {
      "text/html": [
       "<div>\n",
       "<style scoped>\n",
       "    .dataframe tbody tr th:only-of-type {\n",
       "        vertical-align: middle;\n",
       "    }\n",
       "\n",
       "    .dataframe tbody tr th {\n",
       "        vertical-align: top;\n",
       "    }\n",
       "\n",
       "    .dataframe thead th {\n",
       "        text-align: right;\n",
       "    }\n",
       "</style>\n",
       "<table border=\"1\" class=\"dataframe\">\n",
       "  <thead>\n",
       "    <tr style=\"text-align: right;\">\n",
       "      <th></th>\n",
       "      <th>Date</th>\n",
       "      <th>Hour</th>\n",
       "      <th>Rented Bike Count</th>\n",
       "    </tr>\n",
       "  </thead>\n",
       "  <tbody>\n",
       "    <tr>\n",
       "      <th>168</th>\n",
       "      <td>2017-08-12</td>\n",
       "      <td>0</td>\n",
       "      <td>233</td>\n",
       "    </tr>\n",
       "    <tr>\n",
       "      <th>169</th>\n",
       "      <td>2017-08-12</td>\n",
       "      <td>1</td>\n",
       "      <td>230</td>\n",
       "    </tr>\n",
       "    <tr>\n",
       "      <th>170</th>\n",
       "      <td>2017-08-12</td>\n",
       "      <td>2</td>\n",
       "      <td>131</td>\n",
       "    </tr>\n",
       "    <tr>\n",
       "      <th>171</th>\n",
       "      <td>2017-08-12</td>\n",
       "      <td>3</td>\n",
       "      <td>99</td>\n",
       "    </tr>\n",
       "    <tr>\n",
       "      <th>172</th>\n",
       "      <td>2017-08-12</td>\n",
       "      <td>4</td>\n",
       "      <td>71</td>\n",
       "    </tr>\n",
       "    <tr>\n",
       "      <th>173</th>\n",
       "      <td>2017-08-12</td>\n",
       "      <td>5</td>\n",
       "      <td>84</td>\n",
       "    </tr>\n",
       "    <tr>\n",
       "      <th>174</th>\n",
       "      <td>2017-08-12</td>\n",
       "      <td>6</td>\n",
       "      <td>158</td>\n",
       "    </tr>\n",
       "    <tr>\n",
       "      <th>175</th>\n",
       "      <td>2017-08-12</td>\n",
       "      <td>7</td>\n",
       "      <td>387</td>\n",
       "    </tr>\n",
       "    <tr>\n",
       "      <th>176</th>\n",
       "      <td>2017-08-12</td>\n",
       "      <td>8</td>\n",
       "      <td>780</td>\n",
       "    </tr>\n",
       "    <tr>\n",
       "      <th>177</th>\n",
       "      <td>2017-08-12</td>\n",
       "      <td>9</td>\n",
       "      <td>395</td>\n",
       "    </tr>\n",
       "    <tr>\n",
       "      <th>178</th>\n",
       "      <td>2017-08-12</td>\n",
       "      <td>10</td>\n",
       "      <td>261</td>\n",
       "    </tr>\n",
       "    <tr>\n",
       "      <th>179</th>\n",
       "      <td>2017-08-12</td>\n",
       "      <td>11</td>\n",
       "      <td>310</td>\n",
       "    </tr>\n",
       "    <tr>\n",
       "      <th>180</th>\n",
       "      <td>2017-08-12</td>\n",
       "      <td>12</td>\n",
       "      <td>355</td>\n",
       "    </tr>\n",
       "    <tr>\n",
       "      <th>181</th>\n",
       "      <td>2017-08-12</td>\n",
       "      <td>13</td>\n",
       "      <td>354</td>\n",
       "    </tr>\n",
       "    <tr>\n",
       "      <th>182</th>\n",
       "      <td>2017-08-12</td>\n",
       "      <td>14</td>\n",
       "      <td>350</td>\n",
       "    </tr>\n",
       "    <tr>\n",
       "      <th>183</th>\n",
       "      <td>2017-08-12</td>\n",
       "      <td>15</td>\n",
       "      <td>362</td>\n",
       "    </tr>\n",
       "    <tr>\n",
       "      <th>184</th>\n",
       "      <td>2017-08-12</td>\n",
       "      <td>16</td>\n",
       "      <td>401</td>\n",
       "    </tr>\n",
       "    <tr>\n",
       "      <th>185</th>\n",
       "      <td>2017-08-12</td>\n",
       "      <td>17</td>\n",
       "      <td>500</td>\n",
       "    </tr>\n",
       "    <tr>\n",
       "      <th>186</th>\n",
       "      <td>2017-08-12</td>\n",
       "      <td>18</td>\n",
       "      <td>752</td>\n",
       "    </tr>\n",
       "    <tr>\n",
       "      <th>187</th>\n",
       "      <td>2017-08-12</td>\n",
       "      <td>19</td>\n",
       "      <td>477</td>\n",
       "    </tr>\n",
       "    <tr>\n",
       "      <th>188</th>\n",
       "      <td>2017-08-12</td>\n",
       "      <td>20</td>\n",
       "      <td>384</td>\n",
       "    </tr>\n",
       "    <tr>\n",
       "      <th>189</th>\n",
       "      <td>2017-08-12</td>\n",
       "      <td>21</td>\n",
       "      <td>336</td>\n",
       "    </tr>\n",
       "    <tr>\n",
       "      <th>190</th>\n",
       "      <td>2017-08-12</td>\n",
       "      <td>22</td>\n",
       "      <td>347</td>\n",
       "    </tr>\n",
       "    <tr>\n",
       "      <th>191</th>\n",
       "      <td>2017-08-12</td>\n",
       "      <td>23</td>\n",
       "      <td>275</td>\n",
       "    </tr>\n",
       "  </tbody>\n",
       "</table>\n",
       "</div>"
      ],
      "text/plain": [
       "          Date  Hour  Rented Bike Count\n",
       "168 2017-08-12     0                233\n",
       "169 2017-08-12     1                230\n",
       "170 2017-08-12     2                131\n",
       "171 2017-08-12     3                 99\n",
       "172 2017-08-12     4                 71\n",
       "173 2017-08-12     5                 84\n",
       "174 2017-08-12     6                158\n",
       "175 2017-08-12     7                387\n",
       "176 2017-08-12     8                780\n",
       "177 2017-08-12     9                395\n",
       "178 2017-08-12    10                261\n",
       "179 2017-08-12    11                310\n",
       "180 2017-08-12    12                355\n",
       "181 2017-08-12    13                354\n",
       "182 2017-08-12    14                350\n",
       "183 2017-08-12    15                362\n",
       "184 2017-08-12    16                401\n",
       "185 2017-08-12    17                500\n",
       "186 2017-08-12    18                752\n",
       "187 2017-08-12    19                477\n",
       "188 2017-08-12    20                384\n",
       "189 2017-08-12    21                336\n",
       "190 2017-08-12    22                347\n",
       "191 2017-08-12    23                275"
      ]
     },
     "execution_count": 40,
     "metadata": {},
     "output_type": "execute_result"
    }
   ],
   "source": [
    "# Assegnamo a una variabile il giorno a cui siamo interessati\n",
    "interesting_date = \"2017-08-12\"\n",
    "# Estraiamo solo le righe relative al giorno di interesse\n",
    "only_interesting_date = date_hour_bikes.loc[date_hour_bikes['Date'] == interesting_date]\n",
    "only_interesting_date\n"
   ]
  },
  {
   "cell_type": "markdown",
   "id": "1c5fdd3d",
   "metadata": {
    "slideshow": {
     "slide_type": "slide"
    }
   },
   "source": [
    "# Correzione dell'Assignment\n",
    "\n",
    "*   visualizzare il numero totale di biclette prese a nolo tra le 8 e le 20 in quella data"
   ]
  },
  {
   "cell_type": "code",
   "execution_count": 42,
   "id": "02e691c0",
   "metadata": {
    "slideshow": {
     "slide_type": "fragment"
    }
   },
   "outputs": [
    {
     "data": {
      "text/html": [
       "<div>\n",
       "<style scoped>\n",
       "    .dataframe tbody tr th:only-of-type {\n",
       "        vertical-align: middle;\n",
       "    }\n",
       "\n",
       "    .dataframe tbody tr th {\n",
       "        vertical-align: top;\n",
       "    }\n",
       "\n",
       "    .dataframe thead th {\n",
       "        text-align: right;\n",
       "    }\n",
       "</style>\n",
       "<table border=\"1\" class=\"dataframe\">\n",
       "  <thead>\n",
       "    <tr style=\"text-align: right;\">\n",
       "      <th></th>\n",
       "      <th>Date</th>\n",
       "      <th>Hour</th>\n",
       "      <th>Rented Bike Count</th>\n",
       "    </tr>\n",
       "  </thead>\n",
       "  <tbody>\n",
       "    <tr>\n",
       "      <th>176</th>\n",
       "      <td>2017-08-12</td>\n",
       "      <td>8</td>\n",
       "      <td>780</td>\n",
       "    </tr>\n",
       "    <tr>\n",
       "      <th>177</th>\n",
       "      <td>2017-08-12</td>\n",
       "      <td>9</td>\n",
       "      <td>395</td>\n",
       "    </tr>\n",
       "    <tr>\n",
       "      <th>178</th>\n",
       "      <td>2017-08-12</td>\n",
       "      <td>10</td>\n",
       "      <td>261</td>\n",
       "    </tr>\n",
       "    <tr>\n",
       "      <th>179</th>\n",
       "      <td>2017-08-12</td>\n",
       "      <td>11</td>\n",
       "      <td>310</td>\n",
       "    </tr>\n",
       "    <tr>\n",
       "      <th>180</th>\n",
       "      <td>2017-08-12</td>\n",
       "      <td>12</td>\n",
       "      <td>355</td>\n",
       "    </tr>\n",
       "    <tr>\n",
       "      <th>181</th>\n",
       "      <td>2017-08-12</td>\n",
       "      <td>13</td>\n",
       "      <td>354</td>\n",
       "    </tr>\n",
       "    <tr>\n",
       "      <th>182</th>\n",
       "      <td>2017-08-12</td>\n",
       "      <td>14</td>\n",
       "      <td>350</td>\n",
       "    </tr>\n",
       "    <tr>\n",
       "      <th>183</th>\n",
       "      <td>2017-08-12</td>\n",
       "      <td>15</td>\n",
       "      <td>362</td>\n",
       "    </tr>\n",
       "    <tr>\n",
       "      <th>184</th>\n",
       "      <td>2017-08-12</td>\n",
       "      <td>16</td>\n",
       "      <td>401</td>\n",
       "    </tr>\n",
       "    <tr>\n",
       "      <th>185</th>\n",
       "      <td>2017-08-12</td>\n",
       "      <td>17</td>\n",
       "      <td>500</td>\n",
       "    </tr>\n",
       "    <tr>\n",
       "      <th>186</th>\n",
       "      <td>2017-08-12</td>\n",
       "      <td>18</td>\n",
       "      <td>752</td>\n",
       "    </tr>\n",
       "    <tr>\n",
       "      <th>187</th>\n",
       "      <td>2017-08-12</td>\n",
       "      <td>19</td>\n",
       "      <td>477</td>\n",
       "    </tr>\n",
       "    <tr>\n",
       "      <th>188</th>\n",
       "      <td>2017-08-12</td>\n",
       "      <td>20</td>\n",
       "      <td>384</td>\n",
       "    </tr>\n",
       "  </tbody>\n",
       "</table>\n",
       "</div>"
      ],
      "text/plain": [
       "          Date  Hour  Rented Bike Count\n",
       "176 2017-08-12     8                780\n",
       "177 2017-08-12     9                395\n",
       "178 2017-08-12    10                261\n",
       "179 2017-08-12    11                310\n",
       "180 2017-08-12    12                355\n",
       "181 2017-08-12    13                354\n",
       "182 2017-08-12    14                350\n",
       "183 2017-08-12    15                362\n",
       "184 2017-08-12    16                401\n",
       "185 2017-08-12    17                500\n",
       "186 2017-08-12    18                752\n",
       "187 2017-08-12    19                477\n",
       "188 2017-08-12    20                384"
      ]
     },
     "execution_count": 42,
     "metadata": {},
     "output_type": "execute_result"
    }
   ],
   "source": [
    "# Impostare l'ora iniziale e l'ora finale\n",
    "starttime = 8\n",
    "endtime = 20\n",
    "mask = (only_interesting_date['Hour'] >= starttime) & (only_interesting_date['Hour'] <= endtime)\n",
    "starttime_to_endtime = only_interesting_date.loc[mask]\n",
    "starttime_to_endtime  \n"
   ]
  },
  {
   "cell_type": "markdown",
   "id": "23ca5910",
   "metadata": {
    "slideshow": {
     "slide_type": "slide"
    }
   },
   "source": [
    "# Correzione dell'Assignment\n",
    "\n",
    "* plottare alcuni grafici che mettano in evidenza caratteristiche interessanti del data set"
   ]
  },
  {
   "cell_type": "code",
   "execution_count": 58,
   "id": "67f3991a",
   "metadata": {
    "slideshow": {
     "slide_type": "fragment"
    }
   },
   "outputs": [
    {
     "name": "stdout",
     "output_type": "stream",
     "text": [
      "[(8, 780), (9, 395), (10, 261), (11, 310), (12, 355), (13, 354), (14, 350), (15, 362), (16, 401), (17, 500), (18, 752), (19, 477), (20, 384)]\n"
     ]
    },
    {
     "data": {
      "text/plain": [
       "[<matplotlib.lines.Line2D at 0x201e7fa8f10>]"
      ]
     },
     "execution_count": 58,
     "metadata": {},
     "output_type": "execute_result"
    },
    {
     "data": {
      "image/png": "[encoded data removed]",
      "text/plain": [
       "<Figure size 1000x600 with 1 Axes>"
      ]
     },
     "metadata": {},
     "output_type": "display_data"
    }
   ],
   "source": [
    "hours_bikes = data[['Rented Bike Count', 'Hour']]\n",
    "interesting_date = \"2017-08-12\"\n",
    "x1 = starttime_to_endtime  ['Hour']\n",
    "y1 = starttime_to_endtime  ['Rented Bike Count']\n",
    "print(list(zip(x1,y1)))\n",
    "fig, ax = plt.subplots(1,1,figsize = (10,6))\n",
    "for h,b in zip(x1,y1):\n",
    "    ax.annotate(str(b), xy=(h,b), xytext=(-20,10), textcoords='offset points')\n",
    "ax.grid(True)\n",
    "ax.set_ylim(min(y1)-100, max(y1)+100)\n",
    "ax.set_xlabel(\"Hour\")\n",
    "ax.set_ylabel(\"Number of Bikes\")\n",
    "ax.set_title(\"Number of Bikes Rented Hourly on %s\" % interesting_date, fontsize = 14)\n",
    "ax.set_xticks(x1)\n",
    "ax.plot(x1, y1, color='green', marker='H', markerfacecolor='blue', linestyle='solid', linewidth=2, markersize=10)"
   ]
  },
  {
   "cell_type": "markdown",
   "id": "77dd00cc",
   "metadata": {
    "slideshow": {
     "slide_type": "slide"
    }
   },
   "source": [
    "# Approfondimenti: la funzione zip()"
   ]
  },
  {
   "cell_type": "code",
   "execution_count": 44,
   "id": "c0b1d560",
   "metadata": {
    "slideshow": {
     "slide_type": "fragment"
    }
   },
   "outputs": [
    {
     "name": "stdout",
     "output_type": "stream",
     "text": [
      "  team  points  assists\n",
      "0    A      18        5\n",
      "1    B      22        7\n",
      "2    C      19        7\n",
      "3    D      14        9\n",
      "4    E      14       12\n",
      "5    F      11        9\n",
      "6    G      20        9\n",
      "7    H      28        4\n"
     ]
    }
   ],
   "source": [
    "dfzip = pd.DataFrame({'team': ['A', 'B', 'C', 'D', 'E', 'F', 'G', 'H'],\n",
    "                  'points': [18, 22, 19, 14, 14, 11, 20, 28],\n",
    "                   'assists': [5, 7, 7, 9, 12, 9, 9, 4]})\n",
    "\n",
    "print(dfzip)\n"
   ]
  },
  {
   "cell_type": "code",
   "execution_count": null,
   "id": "a3f63fa1",
   "metadata": {
    "slideshow": {
     "slide_type": "fragment"
    }
   },
   "outputs": [],
   "source": [
    " print (list(zip(dfzip.points, dfzip.assists)))"
   ]
  },
  {
   "cell_type": "markdown",
   "id": "28bd15be",
   "metadata": {
    "slideshow": {
     "slide_type": "slide"
    }
   },
   "source": [
    "# Approfondimenti: subplots\n",
    "\n",
    "* da la possibilità di inserire più plot in un'unica figura\n",
    "    * nel nostro caso un unico plot (i primi due parametri vagono 1)\n",
    "    * crea un oggetto *axis* su cui si può disegnare (nel caso generale un array di oggetti axis)\n",
    "* *ax.annotate (..)*\n",
    "    * primo parametro indica il valore con cui si vuole annotare il punto visualizzato\n",
    "    * secondo parametro xy indica il punto da annotare\n"
   ]
  }
 ],
 "metadata": {
  "celltoolbar": "Slideshow",
  "kernelspec": {
   "display_name": "Python 3 (ipykernel)",
   "language": "python",
   "name": "python3"
  },
  "language_info": {
   "codemirror_mode": {
    "name": "ipython",
    "version": 3
   },
   "file_extension": ".py",
   "mimetype": "text/x-python",
   "name": "python",
   "nbconvert_exporter": "python",
   "pygments_lexer": "ipython3",
   "version": "3.8.10"
  }
 },
 "nbformat": 4,
 "nbformat_minor": 5
}
