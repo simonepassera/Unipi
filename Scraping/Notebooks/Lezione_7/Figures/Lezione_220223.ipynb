{
 "cells": [
  {
   "cell_type": "markdown",
   "id": "ef2954c6",
   "metadata": {
    "slideshow": {
     "slide_type": "slide"
    }
   },
   "source": [
    "<h1><center> WebScraping </h1>\n",
    "<h1><center> Anno Accademico 2022-2023 </h1>\n",
    "<h1><center>  Docente: Laura Ricci </h1>\n",
    "<h1><center>  Lezione 9 </h1>\n",
    "<h1><center>  Merging DataFrames </h1> \n",
    "<h1><center>  Working with dates </h1>  \n",
    "<h1><center>  Assignments </h1>  \n",
    "<h1><center> 22 Febbraio 2023 </h1>\n"
   ]
  },
  {
   "cell_type": "markdown",
   "id": "60f76d9f",
   "metadata": {
    "slideshow": {
     "slide_type": "slide"
    }
   },
   "source": [
    "# Assignment 2: domanda n.1\n",
    "\n",
    "* considerare il data set dei **giocatori** della **National Football League**. \n",
    "* indicare due modi diversi per importare il dataset in **Pandas** "
   ]
  },
  {
   "cell_type": "code",
   "execution_count": 5,
   "id": "8a8fb5cd",
   "metadata": {
    "slideshow": {
     "slide_type": "fragment"
    }
   },
   "outputs": [
    {
     "name": "stdout",
     "output_type": "stream",
     "text": [
      "<class 'pandas.core.frame.DataFrame'>\n",
      "RangeIndex: 1655 entries, 0 to 1654\n",
      "Data columns (total 5 columns):\n",
      " #   Column    Non-Null Count  Dtype \n",
      "---  ------    --------------  ----- \n",
      " 0   Name      1655 non-null   object\n",
      " 1   Team      1655 non-null   object\n",
      " 2   Position  1655 non-null   object\n",
      " 3   Birthday  1655 non-null   object\n",
      " 4   Salary    1655 non-null   int64 \n",
      "dtypes: int64(1), object(4)\n",
      "memory usage: 64.8+ KB\n"
     ]
    },
    {
     "data": {
      "text/html": [
       "<div>\n",
       "<style scoped>\n",
       "    .dataframe tbody tr th:only-of-type {\n",
       "        vertical-align: middle;\n",
       "    }\n",
       "\n",
       "    .dataframe tbody tr th {\n",
       "        vertical-align: top;\n",
       "    }\n",
       "\n",
       "    .dataframe thead th {\n",
       "        text-align: right;\n",
       "    }\n",
       "</style>\n",
       "<table border=\"1\" class=\"dataframe\">\n",
       "  <thead>\n",
       "    <tr style=\"text-align: right;\">\n",
       "      <th></th>\n",
       "      <th>Name</th>\n",
       "      <th>Team</th>\n",
       "      <th>Position</th>\n",
       "      <th>Birthday</th>\n",
       "      <th>Salary</th>\n",
       "    </tr>\n",
       "  </thead>\n",
       "  <tbody>\n",
       "    <tr>\n",
       "      <th>0</th>\n",
       "      <td>Tremon Smith</td>\n",
       "      <td>Philadelphia Eagles</td>\n",
       "      <td>RB</td>\n",
       "      <td>1996-07-20</td>\n",
       "      <td>570000</td>\n",
       "    </tr>\n",
       "    <tr>\n",
       "      <th>1</th>\n",
       "      <td>Shawn Williams</td>\n",
       "      <td>Cincinnati Bengals</td>\n",
       "      <td>SS</td>\n",
       "      <td>1991-05-13</td>\n",
       "      <td>3500000</td>\n",
       "    </tr>\n",
       "    <tr>\n",
       "      <th>2</th>\n",
       "      <td>Adam Butler</td>\n",
       "      <td>New England Patriots</td>\n",
       "      <td>DT</td>\n",
       "      <td>1994-04-12</td>\n",
       "      <td>645000</td>\n",
       "    </tr>\n",
       "    <tr>\n",
       "      <th>3</th>\n",
       "      <td>Derek Wolfe</td>\n",
       "      <td>Denver Broncos</td>\n",
       "      <td>DE</td>\n",
       "      <td>1990-02-24</td>\n",
       "      <td>8000000</td>\n",
       "    </tr>\n",
       "    <tr>\n",
       "      <th>4</th>\n",
       "      <td>Jake Ryan</td>\n",
       "      <td>Jacksonville Jaguars</td>\n",
       "      <td>OLB</td>\n",
       "      <td>1992-02-27</td>\n",
       "      <td>1000000</td>\n",
       "    </tr>\n",
       "  </tbody>\n",
       "</table>\n",
       "</div>"
      ],
      "text/plain": [
       "             Name                  Team Position   Birthday   Salary\n",
       "0    Tremon Smith   Philadelphia Eagles       RB 1996-07-20   570000\n",
       "1  Shawn Williams    Cincinnati Bengals       SS 1991-05-13  3500000\n",
       "2     Adam Butler  New England Patriots       DT 1994-04-12   645000\n",
       "3     Derek Wolfe        Denver Broncos       DE 1990-02-24  8000000\n",
       "4       Jake Ryan  Jacksonville Jaguars      OLB 1992-02-27  1000000"
      ]
     },
     "execution_count": 5,
     "metadata": {},
     "output_type": "execute_result"
    }
   ],
   "source": [
    "\n",
    "import pandas as pd\n",
    "import matplotlib.pyplot as plt\n",
    "\n",
    "df_nfl = pd.read_csv('Dataset/nfl.csv')\n",
    "df_nfl.info()\n",
    "df_nfl['Birthday'] = pd.to_datetime(df_nfl['Birthday'])\n",
    "df_nfl.head()\n"
   ]
  },
  {
   "cell_type": "markdown",
   "id": "55878b2f",
   "metadata": {
    "slideshow": {
     "slide_type": "fragment"
    }
   },
   "source": [
    "* la funzione **read_csv** importa tutti i valori non numerici come stringhe, che vengono descritte in **Pandas** \n",
    "  con il tipo **Object**\n",
    "* conversione ad un oggetto di tipo **date_time** mediante il metodo **to_datetime**\n",
    "* la funzione accetta un **oggetto iterabile** (una lista **Python, una tupla o, come in questo caso, una **Series**)"
   ]
  },
  {
   "cell_type": "markdown",
   "id": "d7d7b8a7",
   "metadata": {
    "slideshow": {
     "slide_type": "slide"
    }
   },
   "source": [
    "# Assignment 2: domanda n.1\n",
    "\n",
    "* considerare il data set dei **giocatori** della **National Football League**. \n",
    "* indicare due modi diversi per importare il dataset in **Pandas** "
   ]
  },
  {
   "cell_type": "code",
   "execution_count": 2,
   "id": "721d1f45",
   "metadata": {
    "slideshow": {
     "slide_type": "fragment"
    }
   },
   "outputs": [
    {
     "name": "stdout",
     "output_type": "stream",
     "text": [
      "<class 'pandas.core.frame.DataFrame'>\n",
      "RangeIndex: 1655 entries, 0 to 1654\n",
      "Data columns (total 5 columns):\n",
      " #   Column    Non-Null Count  Dtype         \n",
      "---  ------    --------------  -----         \n",
      " 0   Name      1655 non-null   object        \n",
      " 1   Team      1655 non-null   object        \n",
      " 2   Position  1655 non-null   object        \n",
      " 3   Birthday  1655 non-null   datetime64[ns]\n",
      " 4   Salary    1655 non-null   int64         \n",
      "dtypes: datetime64[ns](1), int64(1), object(3)\n",
      "memory usage: 64.8+ KB\n"
     ]
    },
    {
     "data": {
      "text/html": [
       "<div>\n",
       "<style scoped>\n",
       "    .dataframe tbody tr th:only-of-type {\n",
       "        vertical-align: middle;\n",
       "    }\n",
       "\n",
       "    .dataframe tbody tr th {\n",
       "        vertical-align: top;\n",
       "    }\n",
       "\n",
       "    .dataframe thead th {\n",
       "        text-align: right;\n",
       "    }\n",
       "</style>\n",
       "<table border=\"1\" class=\"dataframe\">\n",
       "  <thead>\n",
       "    <tr style=\"text-align: right;\">\n",
       "      <th></th>\n",
       "      <th>Name</th>\n",
       "      <th>Team</th>\n",
       "      <th>Position</th>\n",
       "      <th>Birthday</th>\n",
       "      <th>Salary</th>\n",
       "    </tr>\n",
       "  </thead>\n",
       "  <tbody>\n",
       "    <tr>\n",
       "      <th>0</th>\n",
       "      <td>Tremon Smith</td>\n",
       "      <td>Philadelphia Eagles</td>\n",
       "      <td>RB</td>\n",
       "      <td>1996-07-20</td>\n",
       "      <td>570000</td>\n",
       "    </tr>\n",
       "    <tr>\n",
       "      <th>1</th>\n",
       "      <td>Shawn Williams</td>\n",
       "      <td>Cincinnati Bengals</td>\n",
       "      <td>SS</td>\n",
       "      <td>1991-05-13</td>\n",
       "      <td>3500000</td>\n",
       "    </tr>\n",
       "    <tr>\n",
       "      <th>2</th>\n",
       "      <td>Adam Butler</td>\n",
       "      <td>New England Patriots</td>\n",
       "      <td>DT</td>\n",
       "      <td>1994-04-12</td>\n",
       "      <td>645000</td>\n",
       "    </tr>\n",
       "    <tr>\n",
       "      <th>3</th>\n",
       "      <td>Derek Wolfe</td>\n",
       "      <td>Denver Broncos</td>\n",
       "      <td>DE</td>\n",
       "      <td>1990-02-24</td>\n",
       "      <td>8000000</td>\n",
       "    </tr>\n",
       "    <tr>\n",
       "      <th>4</th>\n",
       "      <td>Jake Ryan</td>\n",
       "      <td>Jacksonville Jaguars</td>\n",
       "      <td>OLB</td>\n",
       "      <td>1992-02-27</td>\n",
       "      <td>1000000</td>\n",
       "    </tr>\n",
       "  </tbody>\n",
       "</table>\n",
       "</div>"
      ],
      "text/plain": [
       "             Name                  Team Position   Birthday   Salary\n",
       "0    Tremon Smith   Philadelphia Eagles       RB 1996-07-20   570000\n",
       "1  Shawn Williams    Cincinnati Bengals       SS 1991-05-13  3500000\n",
       "2     Adam Butler  New England Patriots       DT 1994-04-12   645000\n",
       "3     Derek Wolfe        Denver Broncos       DE 1990-02-24  8000000\n",
       "4       Jake Ryan  Jacksonville Jaguars      OLB 1992-02-27  1000000"
      ]
     },
     "execution_count": 2,
     "metadata": {},
     "output_type": "execute_result"
    }
   ],
   "source": [
    "import pandas as pd\n",
    "import matplotlib.pyplot as plt\n",
    "\n",
    "df_nfl = pd.read_csv('Dataset/nfl.csv', parse_dates=[\"Birthday\"])\n",
    "df_nfl.info()\n",
    "df_nfl['Birthday'] = pd.to_datetime(df_nfl['Birthday'])\n",
    "df_nfl.head()\n"
   ]
  },
  {
   "cell_type": "markdown",
   "id": "c68c0b52",
   "metadata": {
    "slideshow": {
     "slide_type": "fragment"
    }
   },
   "source": [
    "* secondo metodo: utilizzare il parametro **parse_dates** della funzione **read_csv**\n",
    "* è possibile passare anche una lista di colonne"
   ]
  },
  {
   "cell_type": "markdown",
   "id": "0c470c0b",
   "metadata": {
    "slideshow": {
     "slide_type": "slide"
    }
   },
   "source": [
    "# Assignment 2: Domanda n.2\n",
    "\n",
    "* costruire un indice delle righe del **DataFrame**, utilizzando il **Nome Del Giocatore**. \n",
    "* indicare due modi diversi per costruitre l'indice\n",
    "* reminder:\n",
    "  * un indice (di riga) di un **Dataframe** può essere\n",
    "    * assegnato automaticamente da **Pandas**: un range di valori crescenti, a partire da 0\n",
    "    * un indice assegnato esplicitamente dall'utente, scelto tra una delle colonne del *DataFrame* "
   ]
  },
  {
   "cell_type": "markdown",
   "id": "ace92dee",
   "metadata": {
    "slideshow": {
     "slide_type": "slide"
    }
   },
   "source": [
    "# Assignment 2: Domanda n.2\n",
    "\n",
    "* costruire un indice delle righe del **DataFrame**, utilizzando il **Nome Del Giocatore**. \n",
    "* indicare due modi diversi per costruitre l'indice"
   ]
  },
  {
   "cell_type": "code",
   "execution_count": 3,
   "id": "2c4d030e",
   "metadata": {
    "slideshow": {
     "slide_type": "fragment"
    }
   },
   "outputs": [
    {
     "data": {
      "text/html": [
       "<div>\n",
       "<style scoped>\n",
       "    .dataframe tbody tr th:only-of-type {\n",
       "        vertical-align: middle;\n",
       "    }\n",
       "\n",
       "    .dataframe tbody tr th {\n",
       "        vertical-align: top;\n",
       "    }\n",
       "\n",
       "    .dataframe thead th {\n",
       "        text-align: right;\n",
       "    }\n",
       "</style>\n",
       "<table border=\"1\" class=\"dataframe\">\n",
       "  <thead>\n",
       "    <tr style=\"text-align: right;\">\n",
       "      <th></th>\n",
       "      <th>Team</th>\n",
       "      <th>Position</th>\n",
       "      <th>Birthday</th>\n",
       "      <th>Salary</th>\n",
       "    </tr>\n",
       "    <tr>\n",
       "      <th>Name</th>\n",
       "      <th></th>\n",
       "      <th></th>\n",
       "      <th></th>\n",
       "      <th></th>\n",
       "    </tr>\n",
       "  </thead>\n",
       "  <tbody>\n",
       "    <tr>\n",
       "      <th>Tremon Smith</th>\n",
       "      <td>Philadelphia Eagles</td>\n",
       "      <td>RB</td>\n",
       "      <td>1996-07-20</td>\n",
       "      <td>570000</td>\n",
       "    </tr>\n",
       "    <tr>\n",
       "      <th>Shawn Williams</th>\n",
       "      <td>Cincinnati Bengals</td>\n",
       "      <td>SS</td>\n",
       "      <td>1991-05-13</td>\n",
       "      <td>3500000</td>\n",
       "    </tr>\n",
       "    <tr>\n",
       "      <th>Adam Butler</th>\n",
       "      <td>New England Patriots</td>\n",
       "      <td>DT</td>\n",
       "      <td>1994-04-12</td>\n",
       "      <td>645000</td>\n",
       "    </tr>\n",
       "    <tr>\n",
       "      <th>Derek Wolfe</th>\n",
       "      <td>Denver Broncos</td>\n",
       "      <td>DE</td>\n",
       "      <td>1990-02-24</td>\n",
       "      <td>8000000</td>\n",
       "    </tr>\n",
       "    <tr>\n",
       "      <th>Jake Ryan</th>\n",
       "      <td>Jacksonville Jaguars</td>\n",
       "      <td>OLB</td>\n",
       "      <td>1992-02-27</td>\n",
       "      <td>1000000</td>\n",
       "    </tr>\n",
       "  </tbody>\n",
       "</table>\n",
       "</div>"
      ],
      "text/plain": [
       "                                Team Position   Birthday   Salary\n",
       "Name                                                             \n",
       "Tremon Smith     Philadelphia Eagles       RB 1996-07-20   570000\n",
       "Shawn Williams    Cincinnati Bengals       SS 1991-05-13  3500000\n",
       "Adam Butler     New England Patriots       DT 1994-04-12   645000\n",
       "Derek Wolfe           Denver Broncos       DE 1990-02-24  8000000\n",
       "Jake Ryan       Jacksonville Jaguars      OLB 1992-02-27  1000000"
      ]
     },
     "execution_count": 3,
     "metadata": {},
     "output_type": "execute_result"
    }
   ],
   "source": [
    "df_nfl = df_nfl.set_index('Name')\n",
    "df_nfl.head()\n"
   ]
  },
  {
   "cell_type": "code",
   "execution_count": 4,
   "id": "0eee01ca",
   "metadata": {
    "slideshow": {
     "slide_type": "fragment"
    }
   },
   "outputs": [
    {
     "data": {
      "text/html": [
       "<div>\n",
       "<style scoped>\n",
       "    .dataframe tbody tr th:only-of-type {\n",
       "        vertical-align: middle;\n",
       "    }\n",
       "\n",
       "    .dataframe tbody tr th {\n",
       "        vertical-align: top;\n",
       "    }\n",
       "\n",
       "    .dataframe thead th {\n",
       "        text-align: right;\n",
       "    }\n",
       "</style>\n",
       "<table border=\"1\" class=\"dataframe\">\n",
       "  <thead>\n",
       "    <tr style=\"text-align: right;\">\n",
       "      <th></th>\n",
       "      <th>Team</th>\n",
       "      <th>Position</th>\n",
       "      <th>Birthday</th>\n",
       "      <th>Salary</th>\n",
       "    </tr>\n",
       "    <tr>\n",
       "      <th>Name</th>\n",
       "      <th></th>\n",
       "      <th></th>\n",
       "      <th></th>\n",
       "      <th></th>\n",
       "    </tr>\n",
       "  </thead>\n",
       "  <tbody>\n",
       "    <tr>\n",
       "      <th>Tremon Smith</th>\n",
       "      <td>Philadelphia Eagles</td>\n",
       "      <td>RB</td>\n",
       "      <td>1996-07-20</td>\n",
       "      <td>570000</td>\n",
       "    </tr>\n",
       "    <tr>\n",
       "      <th>Shawn Williams</th>\n",
       "      <td>Cincinnati Bengals</td>\n",
       "      <td>SS</td>\n",
       "      <td>1991-05-13</td>\n",
       "      <td>3500000</td>\n",
       "    </tr>\n",
       "    <tr>\n",
       "      <th>Adam Butler</th>\n",
       "      <td>New England Patriots</td>\n",
       "      <td>DT</td>\n",
       "      <td>1994-04-12</td>\n",
       "      <td>645000</td>\n",
       "    </tr>\n",
       "    <tr>\n",
       "      <th>Derek Wolfe</th>\n",
       "      <td>Denver Broncos</td>\n",
       "      <td>DE</td>\n",
       "      <td>1990-02-24</td>\n",
       "      <td>8000000</td>\n",
       "    </tr>\n",
       "    <tr>\n",
       "      <th>Jake Ryan</th>\n",
       "      <td>Jacksonville Jaguars</td>\n",
       "      <td>OLB</td>\n",
       "      <td>1992-02-27</td>\n",
       "      <td>1000000</td>\n",
       "    </tr>\n",
       "  </tbody>\n",
       "</table>\n",
       "</div>"
      ],
      "text/plain": [
       "                                Team Position   Birthday   Salary\n",
       "Name                                                             \n",
       "Tremon Smith     Philadelphia Eagles       RB 1996-07-20   570000\n",
       "Shawn Williams    Cincinnati Bengals       SS 1991-05-13  3500000\n",
       "Adam Butler     New England Patriots       DT 1994-04-12   645000\n",
       "Derek Wolfe           Denver Broncos       DE 1990-02-24  8000000\n",
       "Jake Ryan       Jacksonville Jaguars      OLB 1992-02-27  1000000"
      ]
     },
     "execution_count": 4,
     "metadata": {},
     "output_type": "execute_result"
    }
   ],
   "source": [
    "df_nfl = pd.read_csv('Dataset/nfl.csv', index_col = \"Name\", parse_dates = [\"Birthday\"])\n",
    "df_nfl.head()"
   ]
  },
  {
   "cell_type": "markdown",
   "id": "ad187cc4",
   "metadata": {
    "slideshow": {
     "slide_type": "slide"
    }
   },
   "source": [
    "# Assignment 2: Domanda 3\n",
    "\n",
    "* contare il numero di giocatori per ogni team.\n",
    "* indicare tre modi diversi di risolvere l'esercizio proposto\n",
    "\n",
    "* primo metodo\n",
    "    * utilizzare la **groupby**"
   ]
  },
  {
   "cell_type": "code",
   "execution_count": 5,
   "id": "92f74a0e",
   "metadata": {
    "slideshow": {
     "slide_type": "fragment"
    }
   },
   "outputs": [
    {
     "name": "stdout",
     "output_type": "stream",
     "text": [
      "<class 'pandas.core.groupby.generic.DataFrameGroupBy'>\n",
      "ci sono 32 gruppi\n",
      "il tipo restituito dalla get group è  <class 'pandas.core.frame.DataFrame'>\n"
     ]
    },
    {
     "data": {
      "text/html": [
       "<div>\n",
       "<style scoped>\n",
       "    .dataframe tbody tr th:only-of-type {\n",
       "        vertical-align: middle;\n",
       "    }\n",
       "\n",
       "    .dataframe tbody tr th {\n",
       "        vertical-align: top;\n",
       "    }\n",
       "\n",
       "    .dataframe thead th {\n",
       "        text-align: right;\n",
       "    }\n",
       "</style>\n",
       "<table border=\"1\" class=\"dataframe\">\n",
       "  <thead>\n",
       "    <tr style=\"text-align: right;\">\n",
       "      <th></th>\n",
       "      <th>Team</th>\n",
       "      <th>Position</th>\n",
       "      <th>Birthday</th>\n",
       "      <th>Salary</th>\n",
       "    </tr>\n",
       "    <tr>\n",
       "      <th>Name</th>\n",
       "      <th></th>\n",
       "      <th></th>\n",
       "      <th></th>\n",
       "      <th></th>\n",
       "    </tr>\n",
       "  </thead>\n",
       "  <tbody>\n",
       "    <tr>\n",
       "      <th>Adam Butler</th>\n",
       "      <td>New England Patriots</td>\n",
       "      <td>DT</td>\n",
       "      <td>1994-04-12</td>\n",
       "      <td>645000</td>\n",
       "    </tr>\n",
       "    <tr>\n",
       "      <th>Sony Michel</th>\n",
       "      <td>New England Patriots</td>\n",
       "      <td>RB</td>\n",
       "      <td>1995-02-17</td>\n",
       "      <td>917577</td>\n",
       "    </tr>\n",
       "    <tr>\n",
       "      <th>Julian Edelman</th>\n",
       "      <td>New England Patriots</td>\n",
       "      <td>WR</td>\n",
       "      <td>1986-05-22</td>\n",
       "      <td>1000000</td>\n",
       "    </tr>\n",
       "    <tr>\n",
       "      <th>Jermaine Eluemunor</th>\n",
       "      <td>New England Patriots</td>\n",
       "      <td>G</td>\n",
       "      <td>1994-12-13</td>\n",
       "      <td>645000</td>\n",
       "    </tr>\n",
       "    <tr>\n",
       "      <th>Damien Harris</th>\n",
       "      <td>New England Patriots</td>\n",
       "      <td>RB</td>\n",
       "      <td>1997-02-11</td>\n",
       "      <td>495000</td>\n",
       "    </tr>\n",
       "  </tbody>\n",
       "</table>\n",
       "</div>"
      ],
      "text/plain": [
       "                                    Team Position   Birthday   Salary\n",
       "Name                                                                 \n",
       "Adam Butler         New England Patriots       DT 1994-04-12   645000\n",
       "Sony Michel         New England Patriots       RB 1995-02-17   917577\n",
       "Julian Edelman      New England Patriots       WR 1986-05-22  1000000\n",
       "Jermaine Eluemunor  New England Patriots        G 1994-12-13   645000\n",
       "Damien Harris       New England Patriots       RB 1997-02-11   495000"
      ]
     },
     "execution_count": 5,
     "metadata": {},
     "output_type": "execute_result"
    }
   ],
   "source": [
    "Teams= df_nfl.groupby('Team')\n",
    "print (type(Teams))\n",
    "ng=Teams.ngroups\n",
    "print (f\"ci sono {ng} gruppi\")\n",
    "group= Teams.get_group('New England Patriots')\n",
    "print(f\"il tipo restituito dalla get group è  {type(group)}\")\n",
    "Teams.get_group('New England Patriots').head()\n"
   ]
  },
  {
   "cell_type": "markdown",
   "id": "77fd0c13",
   "metadata": {
    "slideshow": {
     "slide_type": "fragment"
    }
   },
   "source": [
    "* la **groupby** restituisce un oggetto di tipo **DataFrameGroupby**\n",
    "    * è un insieme di **DataFrame**\n",
    "    * come ogni oggetto è caratterizzato da un insieme di proprietà\n",
    "        * **ngroups** restituisce la cardinalità di questo insieme\n",
    "        * **groups** restituisce i gruppi creati\n",
    "        * **sizes** restituisce la cardinalità dei gruppi creati\n",
    "    * ma, come contare gli elementi appartenenti ad ogni gruppo"
   ]
  },
  {
   "cell_type": "markdown",
   "id": "58e97fa8",
   "metadata": {
    "slideshow": {
     "slide_type": "slide"
    }
   },
   "source": [
    "# Assignment 2: Domanda 3\n",
    "\n",
    "* contare il numero di giocatori per ogni team.\n",
    "* indicare tre modi diversi di risolvere l'esercizio proposto\n",
    "\n",
    "* **primo metodo**\n",
    "    * utilizzare la **groupby**"
   ]
  },
  {
   "cell_type": "code",
   "execution_count": 6,
   "id": "8e6be1f0",
   "metadata": {
    "slideshow": {
     "slide_type": "fragment"
    }
   },
   "outputs": [
    {
     "name": "stdout",
     "output_type": "stream",
     "text": [
      "<class 'pandas.core.series.Series'>\n",
      "Team\n",
      "Arizona Cardinals       51\n",
      "Atlanta Falcons         53\n",
      "Baltimore Ravens        48\n",
      "Buffalo Bills           53\n",
      "Carolina Panthers       49\n",
      "Chicago Bears           53\n",
      "Cincinnati Bengals      51\n",
      "Cleveland Browns        49\n",
      "Dallas Cowboys          53\n",
      "Denver Broncos          54\n",
      "Detroit Lions           53\n",
      "Green Bay Packers       51\n",
      "Houston Texans          52\n",
      "Indianapolis Colts      49\n",
      "Jacksonville Jaguars    50\n",
      "Kansas City Chiefs      56\n",
      "Los Angeles Chargers    54\n",
      "Los Angeles Rams        52\n",
      "Miami Dolphins          49\n",
      "Minnesota Vikings       54\n",
      "New England Patriots    49\n",
      "New Orleans Saints      55\n",
      "New York Giants         52\n",
      "New York Jets           58\n",
      "Oakland Raiders         51\n",
      "Philadelphia Eagles     52\n",
      "Pittsburgh Steelers     47\n",
      "San Francisco 49Ers     55\n",
      "Seattle Seahawks        53\n",
      "Tampa Bay Buccaneers    47\n",
      "Tennessee Titans        46\n",
      "Washington Redskins     56\n",
      "dtype: int64\n"
     ]
    }
   ],
   "source": [
    "sizes=Teams.size()\n",
    "print (type(sizes))\n",
    "print(sizes)\n"
   ]
  },
  {
   "cell_type": "markdown",
   "id": "4d3a7b04",
   "metadata": {
    "slideshow": {
     "slide_type": "slide"
    }
   },
   "source": [
    "# Assignment 2: Domanda 3\n",
    "\n",
    "* contare il numero di giocatori per ogni team.\n",
    "* indicare tre modi diversi di risolvere l'esercizio proposto\n",
    "* **secondo metodo**\n",
    "    * usare la **value_counts** sull'attributo **Team** del **DataFrame**"
   ]
  },
  {
   "cell_type": "code",
   "execution_count": null,
   "id": "0d3e0266",
   "metadata": {
    "slideshow": {
     "slide_type": "fragment"
    }
   },
   "outputs": [],
   "source": [
    "c=df_nfl.Team.value_counts()\n",
    "print(type(c))\n",
    "print(c)\n"
   ]
  },
  {
   "cell_type": "markdown",
   "id": "5f75c8df",
   "metadata": {
    "slideshow": {
     "slide_type": "slide"
    }
   },
   "source": [
    "# Assignment 2: Domanda 3\n",
    "\n",
    "* contare il numero di giocatori per ogni team.\n",
    "* indicare tre modi diversi di risolvere l'esercizio proposto\n",
    "* **terzo metodo**\n",
    "    * estrarre la **Serie** che corrisponde alla colona \"Team\" e poi usare la funzion e**value_counts**"
   ]
  },
  {
   "cell_type": "code",
   "execution_count": 7,
   "id": "95d7424d",
   "metadata": {
    "slideshow": {
     "slide_type": "fragment"
    }
   },
   "outputs": [
    {
     "name": "stdout",
     "output_type": "stream",
     "text": [
      "<class 'pandas.core.series.Series'>\n"
     ]
    },
    {
     "data": {
      "text/plain": [
       "New York Jets           58\n",
       "Kansas City Chiefs      56\n",
       "Washington Redskins     56\n",
       "New Orleans Saints      55\n",
       "San Francisco 49Ers     55\n",
       "Denver Broncos          54\n",
       "Minnesota Vikings       54\n",
       "Los Angeles Chargers    54\n",
       "Seattle Seahawks        53\n",
       "Dallas Cowboys          53\n",
       "Buffalo Bills           53\n",
       "Atlanta Falcons         53\n",
       "Detroit Lions           53\n",
       "Chicago Bears           53\n",
       "Los Angeles Rams        52\n",
       "New York Giants         52\n",
       "Philadelphia Eagles     52\n",
       "Houston Texans          52\n",
       "Arizona Cardinals       51\n",
       "Cincinnati Bengals      51\n",
       "Green Bay Packers       51\n",
       "Oakland Raiders         51\n",
       "Jacksonville Jaguars    50\n",
       "Cleveland Browns        49\n",
       "Miami Dolphins          49\n",
       "Indianapolis Colts      49\n",
       "Carolina Panthers       49\n",
       "New England Patriots    49\n",
       "Baltimore Ravens        48\n",
       "Pittsburgh Steelers     47\n",
       "Tampa Bay Buccaneers    47\n",
       "Tennessee Titans        46\n",
       "Name: Team, dtype: int64"
      ]
     },
     "execution_count": 7,
     "metadata": {},
     "output_type": "execute_result"
    }
   ],
   "source": [
    "print (type(df_nfl[\"Team\"]))\n",
    "df_nfl[\"Team\"].value_counts()\n"
   ]
  },
  {
   "cell_type": "markdown",
   "id": "5031ede2",
   "metadata": {
    "slideshow": {
     "slide_type": "slide"
    }
   },
   "source": [
    "# Assignment 2: Domanda 4\n",
    "\n",
    "* stampare i 5 giocatori che ricevono il maggior compenso"
   ]
  },
  {
   "cell_type": "code",
   "execution_count": 8,
   "id": "e030ab9d",
   "metadata": {
    "scrolled": true,
    "slideshow": {
     "slide_type": "fragment"
    }
   },
   "outputs": [
    {
     "data": {
      "text/html": [
       "<div>\n",
       "<style scoped>\n",
       "    .dataframe tbody tr th:only-of-type {\n",
       "        vertical-align: middle;\n",
       "    }\n",
       "\n",
       "    .dataframe tbody tr th {\n",
       "        vertical-align: top;\n",
       "    }\n",
       "\n",
       "    .dataframe thead th {\n",
       "        text-align: right;\n",
       "    }\n",
       "</style>\n",
       "<table border=\"1\" class=\"dataframe\">\n",
       "  <thead>\n",
       "    <tr style=\"text-align: right;\">\n",
       "      <th></th>\n",
       "      <th>Team</th>\n",
       "      <th>Position</th>\n",
       "      <th>Birthday</th>\n",
       "      <th>Salary</th>\n",
       "    </tr>\n",
       "    <tr>\n",
       "      <th>Name</th>\n",
       "      <th></th>\n",
       "      <th></th>\n",
       "      <th></th>\n",
       "      <th></th>\n",
       "    </tr>\n",
       "  </thead>\n",
       "  <tbody>\n",
       "    <tr>\n",
       "      <th>Kirk Cousins</th>\n",
       "      <td>Minnesota Vikings</td>\n",
       "      <td>QB</td>\n",
       "      <td>1988-08-19</td>\n",
       "      <td>27500000</td>\n",
       "    </tr>\n",
       "    <tr>\n",
       "      <th>Jameis Winston</th>\n",
       "      <td>Tampa Bay Buccaneers</td>\n",
       "      <td>QB</td>\n",
       "      <td>1994-01-06</td>\n",
       "      <td>20922000</td>\n",
       "    </tr>\n",
       "    <tr>\n",
       "      <th>Marcus Mariota</th>\n",
       "      <td>Tennessee Titans</td>\n",
       "      <td>QB</td>\n",
       "      <td>1993-10-30</td>\n",
       "      <td>20922000</td>\n",
       "    </tr>\n",
       "    <tr>\n",
       "      <th>Derek Carr</th>\n",
       "      <td>Oakland Raiders</td>\n",
       "      <td>QB</td>\n",
       "      <td>1991-03-28</td>\n",
       "      <td>19900000</td>\n",
       "    </tr>\n",
       "    <tr>\n",
       "      <th>Jimmy Garoppolo</th>\n",
       "      <td>San Francisco 49Ers</td>\n",
       "      <td>QB</td>\n",
       "      <td>1991-11-02</td>\n",
       "      <td>17200000</td>\n",
       "    </tr>\n",
       "  </tbody>\n",
       "</table>\n",
       "</div>"
      ],
      "text/plain": [
       "                                 Team Position   Birthday    Salary\n",
       "Name                                                               \n",
       "Kirk Cousins        Minnesota Vikings       QB 1988-08-19  27500000\n",
       "Jameis Winston   Tampa Bay Buccaneers       QB 1994-01-06  20922000\n",
       "Marcus Mariota       Tennessee Titans       QB 1993-10-30  20922000\n",
       "Derek Carr            Oakland Raiders       QB 1991-03-28  19900000\n",
       "Jimmy Garoppolo   San Francisco 49Ers       QB 1991-11-02  17200000"
      ]
     },
     "execution_count": 8,
     "metadata": {},
     "output_type": "execute_result"
    }
   ],
   "source": [
    "df_nfl.sort_values(\"Salary\", ascending = False).head()\n"
   ]
  },
  {
   "cell_type": "markdown",
   "id": "f39a4c29",
   "metadata": {
    "slideshow": {
     "slide_type": "fragment"
    }
   },
   "source": [
    "* il **DataFrame** **df_nfl** è modificato, dopo l'ordinamento?"
   ]
  },
  {
   "cell_type": "code",
   "execution_count": 9,
   "id": "4436fc34",
   "metadata": {
    "slideshow": {
     "slide_type": "fragment"
    }
   },
   "outputs": [
    {
     "data": {
      "text/html": [
       "<div>\n",
       "<style scoped>\n",
       "    .dataframe tbody tr th:only-of-type {\n",
       "        vertical-align: middle;\n",
       "    }\n",
       "\n",
       "    .dataframe tbody tr th {\n",
       "        vertical-align: top;\n",
       "    }\n",
       "\n",
       "    .dataframe thead th {\n",
       "        text-align: right;\n",
       "    }\n",
       "</style>\n",
       "<table border=\"1\" class=\"dataframe\">\n",
       "  <thead>\n",
       "    <tr style=\"text-align: right;\">\n",
       "      <th></th>\n",
       "      <th>Team</th>\n",
       "      <th>Position</th>\n",
       "      <th>Birthday</th>\n",
       "      <th>Salary</th>\n",
       "    </tr>\n",
       "    <tr>\n",
       "      <th>Name</th>\n",
       "      <th></th>\n",
       "      <th></th>\n",
       "      <th></th>\n",
       "      <th></th>\n",
       "    </tr>\n",
       "  </thead>\n",
       "  <tbody>\n",
       "    <tr>\n",
       "      <th>Tremon Smith</th>\n",
       "      <td>Philadelphia Eagles</td>\n",
       "      <td>RB</td>\n",
       "      <td>1996-07-20</td>\n",
       "      <td>570000</td>\n",
       "    </tr>\n",
       "    <tr>\n",
       "      <th>Shawn Williams</th>\n",
       "      <td>Cincinnati Bengals</td>\n",
       "      <td>SS</td>\n",
       "      <td>1991-05-13</td>\n",
       "      <td>3500000</td>\n",
       "    </tr>\n",
       "    <tr>\n",
       "      <th>Adam Butler</th>\n",
       "      <td>New England Patriots</td>\n",
       "      <td>DT</td>\n",
       "      <td>1994-04-12</td>\n",
       "      <td>645000</td>\n",
       "    </tr>\n",
       "    <tr>\n",
       "      <th>Derek Wolfe</th>\n",
       "      <td>Denver Broncos</td>\n",
       "      <td>DE</td>\n",
       "      <td>1990-02-24</td>\n",
       "      <td>8000000</td>\n",
       "    </tr>\n",
       "    <tr>\n",
       "      <th>Jake Ryan</th>\n",
       "      <td>Jacksonville Jaguars</td>\n",
       "      <td>OLB</td>\n",
       "      <td>1992-02-27</td>\n",
       "      <td>1000000</td>\n",
       "    </tr>\n",
       "  </tbody>\n",
       "</table>\n",
       "</div>"
      ],
      "text/plain": [
       "                                Team Position   Birthday   Salary\n",
       "Name                                                             \n",
       "Tremon Smith     Philadelphia Eagles       RB 1996-07-20   570000\n",
       "Shawn Williams    Cincinnati Bengals       SS 1991-05-13  3500000\n",
       "Adam Butler     New England Patriots       DT 1994-04-12   645000\n",
       "Derek Wolfe           Denver Broncos       DE 1990-02-24  8000000\n",
       "Jake Ryan       Jacksonville Jaguars      OLB 1992-02-27  1000000"
      ]
     },
     "execution_count": 9,
     "metadata": {},
     "output_type": "execute_result"
    }
   ],
   "source": [
    "df_nfl.head()\n"
   ]
  },
  {
   "cell_type": "markdown",
   "id": "a0011a07",
   "metadata": {
    "slideshow": {
     "slide_type": "slide"
    }
   },
   "source": [
    "# Assignment 2: Domanda 5\n",
    "\n",
    "* visualizzare il data set ordinandolo prima in base ai nomi dei team, quindi, all'inteno dello stesso team, \n",
    "ordinando i giocatori in base al salario, in senso decrescente"
   ]
  },
  {
   "cell_type": "code",
   "execution_count": 10,
   "id": "8a645336",
   "metadata": {
    "slideshow": {
     "slide_type": "fragment"
    }
   },
   "outputs": [
    {
     "data": {
      "text/html": [
       "<div>\n",
       "<style scoped>\n",
       "    .dataframe tbody tr th:only-of-type {\n",
       "        vertical-align: middle;\n",
       "    }\n",
       "\n",
       "    .dataframe tbody tr th {\n",
       "        vertical-align: top;\n",
       "    }\n",
       "\n",
       "    .dataframe thead th {\n",
       "        text-align: right;\n",
       "    }\n",
       "</style>\n",
       "<table border=\"1\" class=\"dataframe\">\n",
       "  <thead>\n",
       "    <tr style=\"text-align: right;\">\n",
       "      <th></th>\n",
       "      <th>Team</th>\n",
       "      <th>Position</th>\n",
       "      <th>Birthday</th>\n",
       "      <th>Salary</th>\n",
       "    </tr>\n",
       "    <tr>\n",
       "      <th>Name</th>\n",
       "      <th></th>\n",
       "      <th></th>\n",
       "      <th></th>\n",
       "      <th></th>\n",
       "    </tr>\n",
       "  </thead>\n",
       "  <tbody>\n",
       "    <tr>\n",
       "      <th>Chandler Jones</th>\n",
       "      <td>Arizona Cardinals</td>\n",
       "      <td>OLB</td>\n",
       "      <td>1990-02-27</td>\n",
       "      <td>16500000</td>\n",
       "    </tr>\n",
       "    <tr>\n",
       "      <th>Patrick Peterson</th>\n",
       "      <td>Arizona Cardinals</td>\n",
       "      <td>CB</td>\n",
       "      <td>1990-07-11</td>\n",
       "      <td>11000000</td>\n",
       "    </tr>\n",
       "    <tr>\n",
       "      <th>Larry Fitzgerald</th>\n",
       "      <td>Arizona Cardinals</td>\n",
       "      <td>WR</td>\n",
       "      <td>1983-08-31</td>\n",
       "      <td>11000000</td>\n",
       "    </tr>\n",
       "    <tr>\n",
       "      <th>David Johnson</th>\n",
       "      <td>Arizona Cardinals</td>\n",
       "      <td>RB</td>\n",
       "      <td>1991-12-16</td>\n",
       "      <td>5700000</td>\n",
       "    </tr>\n",
       "    <tr>\n",
       "      <th>Justin Pugh</th>\n",
       "      <td>Arizona Cardinals</td>\n",
       "      <td>G</td>\n",
       "      <td>1990-08-15</td>\n",
       "      <td>5000000</td>\n",
       "    </tr>\n",
       "    <tr>\n",
       "      <th>...</th>\n",
       "      <td>...</td>\n",
       "      <td>...</td>\n",
       "      <td>...</td>\n",
       "      <td>...</td>\n",
       "    </tr>\n",
       "    <tr>\n",
       "      <th>Ross Pierschbacher</th>\n",
       "      <td>Washington Redskins</td>\n",
       "      <td>C</td>\n",
       "      <td>1995-05-05</td>\n",
       "      <td>495000</td>\n",
       "    </tr>\n",
       "    <tr>\n",
       "      <th>Kelvin Harmon</th>\n",
       "      <td>Washington Redskins</td>\n",
       "      <td>WR</td>\n",
       "      <td>1996-12-15</td>\n",
       "      <td>495000</td>\n",
       "    </tr>\n",
       "    <tr>\n",
       "      <th>Wes Martin</th>\n",
       "      <td>Washington Redskins</td>\n",
       "      <td>G</td>\n",
       "      <td>1996-05-09</td>\n",
       "      <td>495000</td>\n",
       "    </tr>\n",
       "    <tr>\n",
       "      <th>Jimmy Moreland</th>\n",
       "      <td>Washington Redskins</td>\n",
       "      <td>CB</td>\n",
       "      <td>1995-08-26</td>\n",
       "      <td>495000</td>\n",
       "    </tr>\n",
       "    <tr>\n",
       "      <th>Jeremy Reaves</th>\n",
       "      <td>Washington Redskins</td>\n",
       "      <td>SS</td>\n",
       "      <td>1996-08-29</td>\n",
       "      <td>495000</td>\n",
       "    </tr>\n",
       "  </tbody>\n",
       "</table>\n",
       "<p>1655 rows × 4 columns</p>\n",
       "</div>"
      ],
      "text/plain": [
       "                                   Team Position   Birthday    Salary\n",
       "Name                                                                 \n",
       "Chandler Jones        Arizona Cardinals      OLB 1990-02-27  16500000\n",
       "Patrick Peterson      Arizona Cardinals       CB 1990-07-11  11000000\n",
       "Larry Fitzgerald      Arizona Cardinals       WR 1983-08-31  11000000\n",
       "David Johnson         Arizona Cardinals       RB 1991-12-16   5700000\n",
       "Justin Pugh           Arizona Cardinals        G 1990-08-15   5000000\n",
       "...                                 ...      ...        ...       ...\n",
       "Ross Pierschbacher  Washington Redskins        C 1995-05-05    495000\n",
       "Kelvin Harmon       Washington Redskins       WR 1996-12-15    495000\n",
       "Wes Martin          Washington Redskins        G 1996-05-09    495000\n",
       "Jimmy Moreland      Washington Redskins       CB 1995-08-26    495000\n",
       "Jeremy Reaves       Washington Redskins       SS 1996-08-29    495000\n",
       "\n",
       "[1655 rows x 4 columns]"
      ]
     },
     "execution_count": 10,
     "metadata": {},
     "output_type": "execute_result"
    }
   ],
   "source": [
    "df_nfl.sort_values(\n",
    "    by = [\"Team\", \"Salary\"],\n",
    "    ascending = [True, False]\n",
    ")\n"
   ]
  },
  {
   "cell_type": "markdown",
   "id": "82674123",
   "metadata": {
    "slideshow": {
     "slide_type": "slide"
    }
   },
   "source": [
    "# Assignment 2: Domanda 6\n",
    "\n",
    "* stampare il nome del giocatore più anziano dei \"New York Jets\", con la data del suo compleanno\n",
    "* indicare due modi diversi per la risoluzione dell'esercizio\n",
    "* **primo metodo**\n",
    "    * resettare l'indice di riga e porlo uguale alla colonna **Team**, per individuare i giocatori del team \"New York Jets\"\n",
    "    * ordinare i giocatori rispetto al loro compleanno"
   ]
  },
  {
   "cell_type": "code",
   "execution_count": 11,
   "id": "157a814d",
   "metadata": {
    "slideshow": {
     "slide_type": "fragment"
    }
   },
   "outputs": [
    {
     "name": "stdout",
     "output_type": "stream",
     "text": [
      "                                Name Position   Birthday   Salary\n",
      "Team                                                             \n",
      "Philadelphia Eagles     Tremon Smith       RB 1996-07-20   570000\n",
      "Cincinnati Bengals    Shawn Williams       SS 1991-05-13  3500000\n",
      "New England Patriots     Adam Butler       DT 1994-04-12   645000\n",
      "Denver Broncos           Derek Wolfe       DE 1990-02-24  8000000\n",
      "Jacksonville Jaguars       Jake Ryan      OLB 1992-02-27  1000000\n",
      "<class 'pandas.core.frame.DataFrame'>\n",
      "                           Name Position   Birthday   Salary\n",
      "Team                                                        \n",
      "New York Jets   Bronson Kaufusi       DE 1991-07-06   645000\n",
      "New York Jets    Darryl Roberts       CB 1990-11-26  1000000\n",
      "New York Jets     Jordan Willis       DE 1995-05-02   754750\n",
      "New York Jets  Quinnen Williams       DE 1997-12-21   495000\n",
      "New York Jets        Sam Ficken        K 1992-12-14   495000\n"
     ]
    },
    {
     "data": {
      "text/html": [
       "<div>\n",
       "<style scoped>\n",
       "    .dataframe tbody tr th:only-of-type {\n",
       "        vertical-align: middle;\n",
       "    }\n",
       "\n",
       "    .dataframe tbody tr th {\n",
       "        vertical-align: top;\n",
       "    }\n",
       "\n",
       "    .dataframe thead th {\n",
       "        text-align: right;\n",
       "    }\n",
       "</style>\n",
       "<table border=\"1\" class=\"dataframe\">\n",
       "  <thead>\n",
       "    <tr style=\"text-align: right;\">\n",
       "      <th></th>\n",
       "      <th>Name</th>\n",
       "      <th>Position</th>\n",
       "      <th>Birthday</th>\n",
       "      <th>Salary</th>\n",
       "    </tr>\n",
       "    <tr>\n",
       "      <th>Team</th>\n",
       "      <th></th>\n",
       "      <th></th>\n",
       "      <th></th>\n",
       "      <th></th>\n",
       "    </tr>\n",
       "  </thead>\n",
       "  <tbody>\n",
       "    <tr>\n",
       "      <th>New York Jets</th>\n",
       "      <td>Ryan Kalil</td>\n",
       "      <td>C</td>\n",
       "      <td>1985-03-29</td>\n",
       "      <td>2400000</td>\n",
       "    </tr>\n",
       "  </tbody>\n",
       "</table>\n",
       "</div>"
      ],
      "text/plain": [
       "                     Name Position   Birthday   Salary\n",
       "Team                                                  \n",
       "New York Jets  Ryan Kalil        C 1985-03-29  2400000"
      ]
     },
     "execution_count": 11,
     "metadata": {},
     "output_type": "execute_result"
    }
   ],
   "source": [
    "df_nfl = df_nfl.reset_index().set_index(keys =\"Team\")\n",
    "print(df_nfl.head())\n",
    "print(type(df_nfl.loc[\"New York Jets\"]))\n",
    "print((df_nfl.loc[\"New York Jets\"]).head())\n",
    "df_nfl.loc[\"New York Jets\"].sort_values(\"Birthday\").head(1)\n"
   ]
  },
  {
   "cell_type": "markdown",
   "id": "47bd6cbd",
   "metadata": {
    "slideshow": {
     "slide_type": "slide"
    }
   },
   "source": [
    "# Assignment 2: Domanda 6\n",
    "\n",
    "* stampare il nome del giocatore più vecchio dei New York Jets, con la data del suo compleanno\n",
    "* indicare due modi diversi per la risoluzione dell'esercizio\n",
    "* **secondo metodo**\n",
    "    * utilizzare la *groupby*"
   ]
  },
  {
   "cell_type": "code",
   "execution_count": null,
   "id": "04d80eb8",
   "metadata": {
    "slideshow": {
     "slide_type": "fragment"
    }
   },
   "outputs": [],
   "source": [
    "Teams= df_nfl.groupby('Team')\n",
    "Teams.get_group('New York Jets')[['Name','Birthday']].sort_values(\"Birthday\").head(1)"
   ]
  },
  {
   "cell_type": "markdown",
   "id": "b3d48360",
   "metadata": {
    "slideshow": {
     "slide_type": "slide"
    }
   },
   "source": [
    "# Assignment 3: Domanda 1\n",
    "\n",
    "* con riferimento al dataset del noleggio delle biciclette di Seoul, calcolare per ogni anno (2017 e 2018) il numero medio di  biciclette prese a nolo, la temperatura media, l'intensità del vento media  e la quantità media di pioggia"
   ]
  },
  {
   "cell_type": "markdown",
   "id": "3b93e601",
   "metadata": {
    "slideshow": {
     "slide_type": "slide"
    }
   },
   "source": [
    "# Approfondimento: lavorare con le Date e i Timestamp in Python\n",
    "\n",
    "* **datetime** un tipo di date introdotto in Python per manipolare date \n",
    "    * definisce un oggetto **date**, immutabile\n",
    "  \n",
    "* Pandas ha introdotto altri due tipi di dato **Timestamp** e **Timedalta** che forniscono ulteriori funzinalità"
   ]
  },
  {
   "cell_type": "code",
   "execution_count": 12,
   "id": "0235d03d",
   "metadata": {
    "slideshow": {
     "slide_type": "fragment"
    }
   },
   "outputs": [
    {
     "data": {
      "text/plain": [
       "datetime.date(1991, 7, 16)"
      ]
     },
     "execution_count": 12,
     "metadata": {},
     "output_type": "execute_result"
    }
   ],
   "source": [
    "import datetime as dt\n",
    "import pandas as pd\n",
    "\n",
    "birthday = dt.date(year =1991,month=7,day=16)\n",
    "birthday\n"
   ]
  },
  {
   "cell_type": "code",
   "execution_count": 13,
   "id": "858ce6c3",
   "metadata": {
    "slideshow": {
     "slide_type": "fragment"
    }
   },
   "outputs": [
    {
     "data": {
      "text/plain": [
       "1991"
      ]
     },
     "execution_count": 13,
     "metadata": {},
     "output_type": "execute_result"
    }
   ],
   "source": [
    "birthday.year\n"
   ]
  },
  {
   "cell_type": "code",
   "execution_count": 14,
   "id": "db837cfa",
   "metadata": {
    "slideshow": {
     "slide_type": "fragment"
    }
   },
   "outputs": [
    {
     "ename": "AttributeError",
     "evalue": "attribute 'month' of 'datetime.date' objects is not writable",
     "output_type": "error",
     "traceback": [
      "\u001b[1;31m---------------------------------------------------------------------------\u001b[0m",
      "\u001b[1;31mAttributeError\u001b[0m                            Traceback (most recent call last)",
      "Cell \u001b[1;32mIn[14], line 1\u001b[0m\n\u001b[1;32m----> 1\u001b[0m \u001b[43mbirthday\u001b[49m\u001b[38;5;241;43m.\u001b[39;49m\u001b[43mmonth\u001b[49m\u001b[38;5;241m=\u001b[39m\u001b[38;5;241m8\u001b[39m\n",
      "\u001b[1;31mAttributeError\u001b[0m: attribute 'month' of 'datetime.date' objects is not writable"
     ]
    }
   ],
   "source": [
    "birthday.month=8\n"
   ]
  },
  {
   "cell_type": "markdown",
   "id": "40a6d4d2",
   "metadata": {
    "slideshow": {
     "slide_type": "fragment"
    }
   },
   "source": [
    "* l'errore viene sollevato perchè un oggetto **date** è immutabile1"
   ]
  },
  {
   "cell_type": "markdown",
   "id": "3602ac8b",
   "metadata": {
    "slideshow": {
     "slide_type": "slide"
    }
   },
   "source": [
    "# Approfondimento: lavorare con le Date e i Timestamp in Python"
   ]
  },
  {
   "cell_type": "code",
   "execution_count": 15,
   "id": "1af1daa9",
   "metadata": {
    "slideshow": {
     "slide_type": "fragment"
    }
   },
   "outputs": [
    {
     "name": "stdout",
     "output_type": "stream",
     "text": [
      "07:45:25\n"
     ]
    }
   ],
   "source": [
    "sveglia = dt.time(hour=7, minute=45, second=25)\n",
    "print(sveglia)\n"
   ]
  },
  {
   "cell_type": "code",
   "execution_count": 16,
   "id": "95b08edb",
   "metadata": {
    "slideshow": {
     "slide_type": "fragment"
    }
   },
   "outputs": [
    {
     "data": {
      "text/plain": [
       "datetime.datetime(1969, 7, 20, 22, 56, 20)"
      ]
     },
     "execution_count": 16,
     "metadata": {},
     "output_type": "execute_result"
    }
   ],
   "source": [
    "sbarco_sulla_luna = dt.datetime(\n",
    "                        year =1969,\n",
    "                        month = 7,\n",
    "                        day= 20,\n",
    "                        hour= 22,\n",
    "                        minute = 56,\n",
    "                        second= 20)\n",
    "sbarco_sulla_luna\n"
   ]
  },
  {
   "cell_type": "markdown",
   "id": "2a5d5fd4",
   "metadata": {
    "slideshow": {
     "slide_type": "slide"
    }
   },
   "source": [
    "# Approfondimento: lavorare con le Date e i Timestamp in Python\n",
    "\n",
    "* dati storici delle azioni della Disney, disponibili in **https://www.investing.com/equities/disney-historical-data**"
   ]
  },
  {
   "cell_type": "code",
   "execution_count": 17,
   "id": "47f7362e",
   "metadata": {
    "slideshow": {
     "slide_type": "fragment"
    }
   },
   "outputs": [
    {
     "data": {
      "text/html": [
       "<div>\n",
       "<style scoped>\n",
       "    .dataframe tbody tr th:only-of-type {\n",
       "        vertical-align: middle;\n",
       "    }\n",
       "\n",
       "    .dataframe tbody tr th {\n",
       "        vertical-align: top;\n",
       "    }\n",
       "\n",
       "    .dataframe thead th {\n",
       "        text-align: right;\n",
       "    }\n",
       "</style>\n",
       "<table border=\"1\" class=\"dataframe\">\n",
       "  <thead>\n",
       "    <tr style=\"text-align: right;\">\n",
       "      <th></th>\n",
       "      <th>Date</th>\n",
       "      <th>Price</th>\n",
       "      <th>Open</th>\n",
       "      <th>High</th>\n",
       "      <th>Low</th>\n",
       "      <th>Vol.</th>\n",
       "      <th>Change %</th>\n",
       "    </tr>\n",
       "  </thead>\n",
       "  <tbody>\n",
       "    <tr>\n",
       "      <th>0</th>\n",
       "      <td>2023-02-21</td>\n",
       "      <td>102.09</td>\n",
       "      <td>103.54</td>\n",
       "      <td>103.73</td>\n",
       "      <td>101.83</td>\n",
       "      <td>10.59M</td>\n",
       "      <td>-2.97%</td>\n",
       "    </tr>\n",
       "    <tr>\n",
       "      <th>1</th>\n",
       "      <td>2023-02-17</td>\n",
       "      <td>105.22</td>\n",
       "      <td>105.03</td>\n",
       "      <td>105.80</td>\n",
       "      <td>103.88</td>\n",
       "      <td>9.49M</td>\n",
       "      <td>-0.58%</td>\n",
       "    </tr>\n",
       "    <tr>\n",
       "      <th>2</th>\n",
       "      <td>2023-02-16</td>\n",
       "      <td>105.83</td>\n",
       "      <td>107.55</td>\n",
       "      <td>108.02</td>\n",
       "      <td>105.70</td>\n",
       "      <td>9.41M</td>\n",
       "      <td>-3.12%</td>\n",
       "    </tr>\n",
       "    <tr>\n",
       "      <th>3</th>\n",
       "      <td>2023-02-15</td>\n",
       "      <td>109.24</td>\n",
       "      <td>107.09</td>\n",
       "      <td>109.27</td>\n",
       "      <td>106.70</td>\n",
       "      <td>8.12M</td>\n",
       "      <td>1.47%</td>\n",
       "    </tr>\n",
       "    <tr>\n",
       "      <th>4</th>\n",
       "      <td>2023-02-14</td>\n",
       "      <td>107.66</td>\n",
       "      <td>106.82</td>\n",
       "      <td>108.44</td>\n",
       "      <td>105.82</td>\n",
       "      <td>10.77M</td>\n",
       "      <td>0.00%</td>\n",
       "    </tr>\n",
       "  </tbody>\n",
       "</table>\n",
       "</div>"
      ],
      "text/plain": [
       "        Date   Price    Open    High     Low    Vol. Change %\n",
       "0 2023-02-21  102.09  103.54  103.73  101.83  10.59M   -2.97%\n",
       "1 2023-02-17  105.22  105.03  105.80  103.88   9.49M   -0.58%\n",
       "2 2023-02-16  105.83  107.55  108.02  105.70   9.41M   -3.12%\n",
       "3 2023-02-15  109.24  107.09  109.27  106.70   8.12M    1.47%\n",
       "4 2023-02-14  107.66  106.82  108.44  105.82  10.77M    0.00%"
      ]
     },
     "execution_count": 17,
     "metadata": {},
     "output_type": "execute_result"
    }
   ],
   "source": [
    "disney = pd.read_csv(\"Dataset/disney.csv\", parse_dates=['Date'])\n",
    "\n",
    "disney.head()\n"
   ]
  },
  {
   "cell_type": "markdown",
   "id": "7c500439",
   "metadata": {
    "slideshow": {
     "slide_type": "fragment"
    }
   },
   "source": [
    "* le date ora sono di tipo **datetime[64]**\n",
    "* ogni oggetto di tipo **datetime** ha un attributo *dt* che consente di manipolare la data"
   ]
  },
  {
   "cell_type": "markdown",
   "id": "d7d74f0b",
   "metadata": {
    "slideshow": {
     "slide_type": "slide"
    }
   },
   "source": [
    "# Approfondimento: lavorare con le Date e i Timestamp in Python"
   ]
  },
  {
   "cell_type": "code",
   "execution_count": 18,
   "id": "993c8ddf",
   "metadata": {
    "slideshow": {
     "slide_type": "fragment"
    }
   },
   "outputs": [
    {
     "data": {
      "text/html": [
       "<div>\n",
       "<style scoped>\n",
       "    .dataframe tbody tr th:only-of-type {\n",
       "        vertical-align: middle;\n",
       "    }\n",
       "\n",
       "    .dataframe tbody tr th {\n",
       "        vertical-align: top;\n",
       "    }\n",
       "\n",
       "    .dataframe thead th {\n",
       "        text-align: right;\n",
       "    }\n",
       "</style>\n",
       "<table border=\"1\" class=\"dataframe\">\n",
       "  <thead>\n",
       "    <tr style=\"text-align: right;\">\n",
       "      <th></th>\n",
       "      <th>Date</th>\n",
       "      <th>Price</th>\n",
       "      <th>Open</th>\n",
       "      <th>High</th>\n",
       "      <th>Low</th>\n",
       "      <th>Vol.</th>\n",
       "      <th>Change %</th>\n",
       "      <th>Day of Week</th>\n",
       "    </tr>\n",
       "  </thead>\n",
       "  <tbody>\n",
       "    <tr>\n",
       "      <th>0</th>\n",
       "      <td>2023-02-21</td>\n",
       "      <td>102.09</td>\n",
       "      <td>103.54</td>\n",
       "      <td>103.73</td>\n",
       "      <td>101.83</td>\n",
       "      <td>10.59M</td>\n",
       "      <td>-2.97%</td>\n",
       "      <td>Tuesday</td>\n",
       "    </tr>\n",
       "    <tr>\n",
       "      <th>1</th>\n",
       "      <td>2023-02-17</td>\n",
       "      <td>105.22</td>\n",
       "      <td>105.03</td>\n",
       "      <td>105.80</td>\n",
       "      <td>103.88</td>\n",
       "      <td>9.49M</td>\n",
       "      <td>-0.58%</td>\n",
       "      <td>Friday</td>\n",
       "    </tr>\n",
       "    <tr>\n",
       "      <th>2</th>\n",
       "      <td>2023-02-16</td>\n",
       "      <td>105.83</td>\n",
       "      <td>107.55</td>\n",
       "      <td>108.02</td>\n",
       "      <td>105.70</td>\n",
       "      <td>9.41M</td>\n",
       "      <td>-3.12%</td>\n",
       "      <td>Thursday</td>\n",
       "    </tr>\n",
       "    <tr>\n",
       "      <th>3</th>\n",
       "      <td>2023-02-15</td>\n",
       "      <td>109.24</td>\n",
       "      <td>107.09</td>\n",
       "      <td>109.27</td>\n",
       "      <td>106.70</td>\n",
       "      <td>8.12M</td>\n",
       "      <td>1.47%</td>\n",
       "      <td>Wednesday</td>\n",
       "    </tr>\n",
       "    <tr>\n",
       "      <th>4</th>\n",
       "      <td>2023-02-14</td>\n",
       "      <td>107.66</td>\n",
       "      <td>106.82</td>\n",
       "      <td>108.44</td>\n",
       "      <td>105.82</td>\n",
       "      <td>10.77M</td>\n",
       "      <td>0.00%</td>\n",
       "      <td>Tuesday</td>\n",
       "    </tr>\n",
       "  </tbody>\n",
       "</table>\n",
       "</div>"
      ],
      "text/plain": [
       "        Date   Price    Open    High     Low    Vol. Change % Day of Week\n",
       "0 2023-02-21  102.09  103.54  103.73  101.83  10.59M   -2.97%     Tuesday\n",
       "1 2023-02-17  105.22  105.03  105.80  103.88   9.49M   -0.58%      Friday\n",
       "2 2023-02-16  105.83  107.55  108.02  105.70   9.41M   -3.12%    Thursday\n",
       "3 2023-02-15  109.24  107.09  109.27  106.70   8.12M    1.47%   Wednesday\n",
       "4 2023-02-14  107.66  106.82  108.44  105.82  10.77M    0.00%     Tuesday"
      ]
     },
     "execution_count": 18,
     "metadata": {},
     "output_type": "execute_result"
    }
   ],
   "source": [
    "import warnings\n",
    "warnings.filterwarnings('ignore')\n",
    "disney[\"Day of Week\"] = disney[\"Date\"].dt.day_name()\n",
    "disney.head()\n"
   ]
  },
  {
   "cell_type": "markdown",
   "id": "4f62dfbd",
   "metadata": {
    "slideshow": {
     "slide_type": "slide"
    }
   },
   "source": [
    "# Lavorare con le Date e i Timestamp in Python\n",
    "\n",
    "* calcolare la media dei valori relativi alle azioni nel periodo considerato per ogni giorno della settimana"
   ]
  },
  {
   "cell_type": "code",
   "execution_count": 19,
   "id": "7290b63a",
   "metadata": {
    "slideshow": {
     "slide_type": "fragment"
    }
   },
   "outputs": [
    {
     "data": {
      "text/html": [
       "<div>\n",
       "<style scoped>\n",
       "    .dataframe tbody tr th:only-of-type {\n",
       "        vertical-align: middle;\n",
       "    }\n",
       "\n",
       "    .dataframe tbody tr th {\n",
       "        vertical-align: top;\n",
       "    }\n",
       "\n",
       "    .dataframe thead th {\n",
       "        text-align: right;\n",
       "    }\n",
       "</style>\n",
       "<table border=\"1\" class=\"dataframe\">\n",
       "  <thead>\n",
       "    <tr style=\"text-align: right;\">\n",
       "      <th></th>\n",
       "      <th>Price</th>\n",
       "      <th>Open</th>\n",
       "      <th>High</th>\n",
       "      <th>Low</th>\n",
       "    </tr>\n",
       "    <tr>\n",
       "      <th>Day of Week</th>\n",
       "      <th></th>\n",
       "      <th></th>\n",
       "      <th></th>\n",
       "      <th></th>\n",
       "    </tr>\n",
       "  </thead>\n",
       "  <tbody>\n",
       "    <tr>\n",
       "      <th>Friday</th>\n",
       "      <td>108.3825</td>\n",
       "      <td>108.6800</td>\n",
       "      <td>109.8150</td>\n",
       "      <td>107.6550</td>\n",
       "    </tr>\n",
       "    <tr>\n",
       "      <th>Monday</th>\n",
       "      <td>107.7025</td>\n",
       "      <td>107.4550</td>\n",
       "      <td>108.4100</td>\n",
       "      <td>106.3700</td>\n",
       "    </tr>\n",
       "    <tr>\n",
       "      <th>Thursday</th>\n",
       "      <td>109.7750</td>\n",
       "      <td>111.1075</td>\n",
       "      <td>112.3725</td>\n",
       "      <td>108.1925</td>\n",
       "    </tr>\n",
       "    <tr>\n",
       "      <th>Tuesday</th>\n",
       "      <td>107.1740</td>\n",
       "      <td>106.5240</td>\n",
       "      <td>108.2880</td>\n",
       "      <td>105.1920</td>\n",
       "    </tr>\n",
       "    <tr>\n",
       "      <th>Wednesday</th>\n",
       "      <td>109.6325</td>\n",
       "      <td>108.1875</td>\n",
       "      <td>110.1750</td>\n",
       "      <td>107.0175</td>\n",
       "    </tr>\n",
       "  </tbody>\n",
       "</table>\n",
       "</div>"
      ],
      "text/plain": [
       "                Price      Open      High       Low\n",
       "Day of Week                                        \n",
       "Friday       108.3825  108.6800  109.8150  107.6550\n",
       "Monday       107.7025  107.4550  108.4100  106.3700\n",
       "Thursday     109.7750  111.1075  112.3725  108.1925\n",
       "Tuesday      107.1740  106.5240  108.2880  105.1920\n",
       "Wednesday    109.6325  108.1875  110.1750  107.0175"
      ]
     },
     "execution_count": 19,
     "metadata": {},
     "output_type": "execute_result"
    }
   ],
   "source": [
    "group = disney.groupby(\"Day of Week\")\n",
    "group.mean()\n"
   ]
  },
  {
   "cell_type": "markdown",
   "id": "8e8f2024",
   "metadata": {
    "slideshow": {
     "slide_type": "slide"
    }
   },
   "source": [
    "# Lavorare con le Date e i Timestamp in Python"
   ]
  },
  {
   "cell_type": "markdown",
   "id": "b0e5fae6",
   "metadata": {},
   "source": [
    "* trovare tutte le quotazioni tra due date"
   ]
  },
  {
   "cell_type": "code",
   "execution_count": 20,
   "id": "620bc361",
   "metadata": {
    "slideshow": {
     "slide_type": "fragment"
    }
   },
   "outputs": [
    {
     "data": {
      "text/html": [
       "<div>\n",
       "<style scoped>\n",
       "    .dataframe tbody tr th:only-of-type {\n",
       "        vertical-align: middle;\n",
       "    }\n",
       "\n",
       "    .dataframe tbody tr th {\n",
       "        vertical-align: top;\n",
       "    }\n",
       "\n",
       "    .dataframe thead th {\n",
       "        text-align: right;\n",
       "    }\n",
       "</style>\n",
       "<table border=\"1\" class=\"dataframe\">\n",
       "  <thead>\n",
       "    <tr style=\"text-align: right;\">\n",
       "      <th></th>\n",
       "      <th>Date</th>\n",
       "      <th>Price</th>\n",
       "      <th>Open</th>\n",
       "      <th>High</th>\n",
       "      <th>Low</th>\n",
       "      <th>Vol.</th>\n",
       "      <th>Change %</th>\n",
       "      <th>Day of Week</th>\n",
       "    </tr>\n",
       "  </thead>\n",
       "  <tbody>\n",
       "    <tr>\n",
       "      <th>15</th>\n",
       "      <td>2023-01-30</td>\n",
       "      <td>107.59</td>\n",
       "      <td>108.26</td>\n",
       "      <td>108.97</td>\n",
       "      <td>107.48</td>\n",
       "      <td>8.52M</td>\n",
       "      <td>-1.78%</td>\n",
       "      <td>Monday</td>\n",
       "    </tr>\n",
       "    <tr>\n",
       "      <th>16</th>\n",
       "      <td>2023-01-27</td>\n",
       "      <td>109.54</td>\n",
       "      <td>109.26</td>\n",
       "      <td>110.58</td>\n",
       "      <td>109.16</td>\n",
       "      <td>10.25M</td>\n",
       "      <td>-0.15%</td>\n",
       "      <td>Friday</td>\n",
       "    </tr>\n",
       "    <tr>\n",
       "      <th>17</th>\n",
       "      <td>2023-01-26</td>\n",
       "      <td>109.70</td>\n",
       "      <td>108.17</td>\n",
       "      <td>109.76</td>\n",
       "      <td>107.57</td>\n",
       "      <td>9.17M</td>\n",
       "      <td>1.46%</td>\n",
       "      <td>Thursday</td>\n",
       "    </tr>\n",
       "    <tr>\n",
       "      <th>18</th>\n",
       "      <td>2023-01-25</td>\n",
       "      <td>108.12</td>\n",
       "      <td>104.96</td>\n",
       "      <td>108.16</td>\n",
       "      <td>104.18</td>\n",
       "      <td>9.95M</td>\n",
       "      <td>2.00%</td>\n",
       "      <td>Wednesday</td>\n",
       "    </tr>\n",
       "    <tr>\n",
       "      <th>19</th>\n",
       "      <td>2023-01-24</td>\n",
       "      <td>106.00</td>\n",
       "      <td>105.39</td>\n",
       "      <td>108.44</td>\n",
       "      <td>102.00</td>\n",
       "      <td>8.57M</td>\n",
       "      <td>0.29%</td>\n",
       "      <td>Tuesday</td>\n",
       "    </tr>\n",
       "  </tbody>\n",
       "</table>\n",
       "</div>"
      ],
      "text/plain": [
       "         Date   Price    Open    High     Low    Vol. Change % Day of Week\n",
       "15 2023-01-30  107.59  108.26  108.97  107.48   8.52M   -1.78%      Monday\n",
       "16 2023-01-27  109.54  109.26  110.58  109.16  10.25M   -0.15%      Friday\n",
       "17 2023-01-26  109.70  108.17  109.76  107.57   9.17M    1.46%    Thursday\n",
       "18 2023-01-25  108.12  104.96  108.16  104.18   9.95M    2.00%   Wednesday\n",
       "19 2023-01-24  106.00  105.39  108.44  102.00   8.57M    0.29%     Tuesday"
      ]
     },
     "execution_count": 20,
     "metadata": {},
     "output_type": "execute_result"
    }
   ],
   "source": [
    "disney[disney[\"Date\"].between(\"2023-01-01\", \"2023-01-30\")].head()\n"
   ]
  },
  {
   "cell_type": "markdown",
   "id": "e59440b1",
   "metadata": {
    "slideshow": {
     "slide_type": "slide"
    }
   },
   "source": [
    "# Assignment 3: Domanda 1\n",
    "\n",
    "* con riferimento al dataset del noleggio delle biciclette di Seoul, calcolare per ogni anno (2017 e 2018) \n",
    "il numero medio di  biciclette prese a nolo, la temperatura media, l'intensità del vento media  e la quantità media di pioggia"
   ]
  },
  {
   "cell_type": "code",
   "execution_count": 24,
   "id": "e0b7f975",
   "metadata": {
    "slideshow": {
     "slide_type": "fragment"
    }
   },
   "outputs": [
    {
     "name": "stdout",
     "output_type": "stream",
     "text": [
      "Index(['Date', 'Rented Bike Count', 'Hour', 'Temperature(°C)', 'Humidity(%)',\n",
      "       'Wind speed (m/s)', 'Visibility (10m)', 'Dew point temperature(°C)',\n",
      "       'Solar Radiation (MJ/m2)', 'Rainfall(mm)', 'Snowfall (cm)', 'Seasons',\n",
      "       'Holiday', 'Functioning Day', 'Year'],\n",
      "      dtype='object')\n"
     ]
    },
    {
     "data": {
      "text/html": [
       "<div>\n",
       "<style scoped>\n",
       "    .dataframe tbody tr th:only-of-type {\n",
       "        vertical-align: middle;\n",
       "    }\n",
       "\n",
       "    .dataframe tbody tr th {\n",
       "        vertical-align: top;\n",
       "    }\n",
       "\n",
       "    .dataframe thead th {\n",
       "        text-align: right;\n",
       "    }\n",
       "</style>\n",
       "<table border=\"1\" class=\"dataframe\">\n",
       "  <thead>\n",
       "    <tr style=\"text-align: right;\">\n",
       "      <th></th>\n",
       "      <th>Rented Bike Count</th>\n",
       "      <th>Hour</th>\n",
       "      <th>Temperature(°C)</th>\n",
       "      <th>Humidity(%)</th>\n",
       "      <th>Wind speed (m/s)</th>\n",
       "      <th>Visibility (10m)</th>\n",
       "      <th>Dew point temperature(°C)</th>\n",
       "      <th>Solar Radiation (MJ/m2)</th>\n",
       "      <th>Rainfall(mm)</th>\n",
       "      <th>Snowfall (cm)</th>\n",
       "    </tr>\n",
       "    <tr>\n",
       "      <th>Year</th>\n",
       "      <th></th>\n",
       "      <th></th>\n",
       "      <th></th>\n",
       "      <th></th>\n",
       "      <th></th>\n",
       "      <th></th>\n",
       "      <th></th>\n",
       "      <th></th>\n",
       "      <th></th>\n",
       "      <th></th>\n",
       "    </tr>\n",
       "  </thead>\n",
       "  <tbody>\n",
       "    <tr>\n",
       "      <th>2017</th>\n",
       "      <td>249.099462</td>\n",
       "      <td>11.5</td>\n",
       "      <td>-1.928763</td>\n",
       "      <td>55.825269</td>\n",
       "      <td>1.737769</td>\n",
       "      <td>1332.24328</td>\n",
       "      <td>-10.344489</td>\n",
       "      <td>0.203884</td>\n",
       "      <td>0.046774</td>\n",
       "      <td>0.370968</td>\n",
       "    </tr>\n",
       "    <tr>\n",
       "      <th>2018</th>\n",
       "      <td>746.879242</td>\n",
       "      <td>11.5</td>\n",
       "      <td>14.257660</td>\n",
       "      <td>58.449102</td>\n",
       "      <td>1.723715</td>\n",
       "      <td>1446.53256</td>\n",
       "      <td>5.412038</td>\n",
       "      <td>0.603009</td>\n",
       "      <td>0.158146</td>\n",
       "      <td>0.047605</td>\n",
       "    </tr>\n",
       "  </tbody>\n",
       "</table>\n",
       "</div>"
      ],
      "text/plain": [
       "      Rented Bike Count  Hour  Temperature(°C)  Humidity(%)  Wind speed (m/s)  \\\n",
       "Year                                                                            \n",
       "2017         249.099462  11.5        -1.928763    55.825269          1.737769   \n",
       "2018         746.879242  11.5        14.257660    58.449102          1.723715   \n",
       "\n",
       "      Visibility (10m)  Dew point temperature(°C)  Solar Radiation (MJ/m2)  \\\n",
       "Year                                                                         \n",
       "2017        1332.24328                 -10.344489                 0.203884   \n",
       "2018        1446.53256                   5.412038                 0.603009   \n",
       "\n",
       "      Rainfall(mm)  Snowfall (cm)  \n",
       "Year                               \n",
       "2017      0.046774       0.370968  \n",
       "2018      0.158146       0.047605  "
      ]
     },
     "execution_count": 24,
     "metadata": {},
     "output_type": "execute_result"
    }
   ],
   "source": [
    "import warnings\n",
    "warnings.filterwarnings('ignore')\n",
    "import pandas as pd\n",
    "import matplotlib.pyplot as plt\n",
    "\n",
    "data = pd.read_csv(\"https://archive.ics.uci.edu/ml/machine-learning-databases/00560/SeoulBikeData.csv\",  \n",
    "                   encoding = 'unicode_escape',parse_dates=['Date'])\n",
    "\n",
    "data['Year'] = data['Date'].dt.year\n",
    "print(data.columns)\n",
    "data_by_year = data.groupby(['Year'])\n",
    "data_by_year_mean = pd.DataFrame(data_by_year.mean())\n",
    "data_by_year_mean\n"
   ]
  },
  {
   "cell_type": "markdown",
   "id": "c40bdcb8",
   "metadata": {
    "slideshow": {
     "slide_type": "slide"
    }
   },
   "source": [
    "# Assignment 3: Domanda 2\n",
    "\n",
    "* visualizzare le 4 medie, raggruppate per anno, in un \"grouped bar plot\"."
   ]
  },
  {
   "cell_type": "code",
   "execution_count": 25,
   "id": "ecb166b1",
   "metadata": {
    "slideshow": {
     "slide_type": "fragment"
    }
   },
   "outputs": [
    {
     "name": "stdout",
     "output_type": "stream",
     "text": [
      "<class 'pandas.core.series.Series'>\n",
      "Year\n",
      "2017    5.52\n",
      "2018    6.62\n",
      "Name: Rented Bike Count, dtype: float64\n",
      "Year\n",
      "2017    -1.93\n",
      "2018    14.26\n",
      "Name: Temperature(°C), dtype: float64\n",
      "Year\n",
      "2017    1.74\n",
      "2018    1.72\n",
      "Name: Wind speed (m/s), dtype: float64\n",
      "Year\n",
      "2017    0.05\n",
      "2018    0.16\n",
      "Name: Rainfall(mm), dtype: float64\n"
     ]
    }
   ],
   "source": [
    "import matplotlib.ticker as ticker\n",
    "import numpy as np\n",
    "\n",
    "years = ['2017','2018']\n",
    "bikes = data_by_year_mean['Rented Bike Count']\n",
    "bikes = np.log(bikes)\n",
    "print(type(bikes))\n",
    "\n",
    "bikes = bikes.round(2)\n",
    "print(bikes)\n",
    "temp = data_by_year_mean['Temperature(°C)']\n",
    "temp = temp.round(2)\n",
    "print(temp)\n",
    "wind = data_by_year_mean['Wind speed (m/s)']\n",
    "wind = wind.round(2)\n",
    "print(wind)\n",
    "rain = data_by_year_mean['Rainfall(mm)']\n",
    "rain = rain.round(2)\n",
    "print(rain)\n"
   ]
  },
  {
   "cell_type": "markdown",
   "id": "04b1ee3e",
   "metadata": {
    "slideshow": {
     "slide_type": "slide"
    }
   },
   "source": [
    "# Assignment 3: Domanda 2\n",
    "\n",
    "* visualizzare le 4 medie, raggruppate per anno, in un \"grouped bar plot\"."
   ]
  },
  {
   "cell_type": "code",
   "execution_count": 27,
   "id": "2775ff69",
   "metadata": {
    "slideshow": {
     "slide_type": "fragment"
    }
   },
   "outputs": [
    {
     "name": "stdout",
     "output_type": "stream",
     "text": [
      "[0 1]\n"
     ]
    },
    {
     "data": {
      "text/plain": [
       "<matplotlib.legend.Legend at 0x272488bf2e0>"
      ]
     },
     "execution_count": 27,
     "metadata": {},
     "output_type": "execute_result"
    },
    {
     "data": {
      "image/png": "[encoded data removed]",
      "text/plain": [
       "<Figure size 800x500 with 1 Axes>"
      ]
     },
     "metadata": {},
     "output_type": "display_data"
    }
   ],
   "source": [
    "x_ind = np.arange(len(years)) \n",
    "print(x_ind)\n",
    "width=0.2\n",
    "\n",
    "fig, ax = plt.subplots(figsize = (8,5))\n",
    "rects1 = ax.bar(x_ind, bikes, width, label='log_of_mean_bikes')\n",
    "rects2 = ax.bar(x_ind+(1*width), temp, width, label='temperature')\n",
    "rects3 = ax.bar(x_ind+(2*width), wind, width, label='wind')\n",
    "rects4 = ax.bar(x_ind+(3*width), rain, width, label='rain')\n",
    "\n",
    "ax.set_xticks([r + width*1.5 for r in range(len(years))], ['2017', '2018'])\n",
    "ax.set_ylabel('Valori Osservati')\n",
    "ax.set_xlabel('Anni')\n",
    "ax.set_title('Biciclette Prese a nolo e valori atmosferici per anno')\n",
    "\n",
    "ax.bar_label(rects1)\n",
    "ax.bar_label(rects2)\n",
    "ax.bar_label(rects3)\n",
    "ax.bar_label(rects4)\n",
    "\n",
    "ax.legend()\n"
   ]
  },
  {
   "cell_type": "markdown",
   "id": "cc92c769",
   "metadata": {
    "slideshow": {
     "slide_type": "slide"
    }
   },
   "source": [
    "# Concatenating and Merging  DataFrames\n",
    "\n",
    "* consideriamo alcuni dataset che descrivono i clienti di alcuni ristoranti\n",
    "    * **identificatore del cliente**\n",
    "    * **identificatore del piatto ordinato** (identificatore dell'item nel menù)"
   ]
  },
  {
   "cell_type": "code",
   "execution_count": 28,
   "id": "781a7773",
   "metadata": {
    "slideshow": {
     "slide_type": "fragment"
    }
   },
   "outputs": [
    {
     "data": {
      "text/html": [
       "<div>\n",
       "<style scoped>\n",
       "    .dataframe tbody tr th:only-of-type {\n",
       "        vertical-align: middle;\n",
       "    }\n",
       "\n",
       "    .dataframe tbody tr th {\n",
       "        vertical-align: top;\n",
       "    }\n",
       "\n",
       "    .dataframe thead th {\n",
       "        text-align: right;\n",
       "    }\n",
       "</style>\n",
       "<table border=\"1\" class=\"dataframe\">\n",
       "  <thead>\n",
       "    <tr style=\"text-align: right;\">\n",
       "      <th></th>\n",
       "      <th>Customer ID</th>\n",
       "      <th>Food ID</th>\n",
       "    </tr>\n",
       "  </thead>\n",
       "  <tbody>\n",
       "    <tr>\n",
       "      <th>245</th>\n",
       "      <td>413</td>\n",
       "      <td>9</td>\n",
       "    </tr>\n",
       "    <tr>\n",
       "      <th>246</th>\n",
       "      <td>926</td>\n",
       "      <td>6</td>\n",
       "    </tr>\n",
       "    <tr>\n",
       "      <th>247</th>\n",
       "      <td>134</td>\n",
       "      <td>3</td>\n",
       "    </tr>\n",
       "    <tr>\n",
       "      <th>248</th>\n",
       "      <td>396</td>\n",
       "      <td>6</td>\n",
       "    </tr>\n",
       "    <tr>\n",
       "      <th>249</th>\n",
       "      <td>535</td>\n",
       "      <td>10</td>\n",
       "    </tr>\n",
       "  </tbody>\n",
       "</table>\n",
       "</div>"
      ],
      "text/plain": [
       "     Customer ID  Food ID\n",
       "245          413        9\n",
       "246          926        6\n",
       "247          134        3\n",
       "248          396        6\n",
       "249          535       10"
      ]
     },
     "execution_count": 28,
     "metadata": {},
     "output_type": "execute_result"
    }
   ],
   "source": [
    "week1 = pd.read_csv(\"Dataset/restaurant/week_1_sales.csv\")\n",
    "week1.tail(5)\n"
   ]
  },
  {
   "cell_type": "code",
   "execution_count": 29,
   "id": "520e07bc",
   "metadata": {
    "slideshow": {
     "slide_type": "fragment"
    }
   },
   "outputs": [
    {
     "data": {
      "text/html": [
       "<div>\n",
       "<style scoped>\n",
       "    .dataframe tbody tr th:only-of-type {\n",
       "        vertical-align: middle;\n",
       "    }\n",
       "\n",
       "    .dataframe tbody tr th {\n",
       "        vertical-align: top;\n",
       "    }\n",
       "\n",
       "    .dataframe thead th {\n",
       "        text-align: right;\n",
       "    }\n",
       "</style>\n",
       "<table border=\"1\" class=\"dataframe\">\n",
       "  <thead>\n",
       "    <tr style=\"text-align: right;\">\n",
       "      <th></th>\n",
       "      <th>Customer ID</th>\n",
       "      <th>Food ID</th>\n",
       "    </tr>\n",
       "  </thead>\n",
       "  <tbody>\n",
       "    <tr>\n",
       "      <th>245</th>\n",
       "      <td>783</td>\n",
       "      <td>10</td>\n",
       "    </tr>\n",
       "    <tr>\n",
       "      <th>246</th>\n",
       "      <td>556</td>\n",
       "      <td>10</td>\n",
       "    </tr>\n",
       "    <tr>\n",
       "      <th>247</th>\n",
       "      <td>547</td>\n",
       "      <td>9</td>\n",
       "    </tr>\n",
       "    <tr>\n",
       "      <th>248</th>\n",
       "      <td>252</td>\n",
       "      <td>9</td>\n",
       "    </tr>\n",
       "    <tr>\n",
       "      <th>249</th>\n",
       "      <td>249</td>\n",
       "      <td>6</td>\n",
       "    </tr>\n",
       "  </tbody>\n",
       "</table>\n",
       "</div>"
      ],
      "text/plain": [
       "     Customer ID  Food ID\n",
       "245          783       10\n",
       "246          556       10\n",
       "247          547        9\n",
       "248          252        9\n",
       "249          249        6"
      ]
     },
     "execution_count": 29,
     "metadata": {},
     "output_type": "execute_result"
    }
   ],
   "source": [
    "week2 = pd.read_csv(\"Dataset/restaurant/week_2_sales.csv\")\n",
    "week2.tail(5)\n"
   ]
  },
  {
   "cell_type": "markdown",
   "id": "91582e32",
   "metadata": {
    "slideshow": {
     "slide_type": "slide"
    }
   },
   "source": [
    "# Concatenating DataFrames"
   ]
  },
  {
   "cell_type": "code",
   "execution_count": 30,
   "id": "f57e0430",
   "metadata": {
    "slideshow": {
     "slide_type": "fragment"
    }
   },
   "outputs": [
    {
     "data": {
      "text/html": [
       "<div>\n",
       "<style scoped>\n",
       "    .dataframe tbody tr th:only-of-type {\n",
       "        vertical-align: middle;\n",
       "    }\n",
       "\n",
       "    .dataframe tbody tr th {\n",
       "        vertical-align: top;\n",
       "    }\n",
       "\n",
       "    .dataframe thead th {\n",
       "        text-align: right;\n",
       "    }\n",
       "</style>\n",
       "<table border=\"1\" class=\"dataframe\">\n",
       "  <thead>\n",
       "    <tr style=\"text-align: right;\">\n",
       "      <th></th>\n",
       "      <th>Customer ID</th>\n",
       "      <th>Food ID</th>\n",
       "    </tr>\n",
       "  </thead>\n",
       "  <tbody>\n",
       "    <tr>\n",
       "      <th>0</th>\n",
       "      <td>537</td>\n",
       "      <td>9</td>\n",
       "    </tr>\n",
       "    <tr>\n",
       "      <th>1</th>\n",
       "      <td>97</td>\n",
       "      <td>4</td>\n",
       "    </tr>\n",
       "    <tr>\n",
       "      <th>2</th>\n",
       "      <td>658</td>\n",
       "      <td>1</td>\n",
       "    </tr>\n",
       "    <tr>\n",
       "      <th>3</th>\n",
       "      <td>202</td>\n",
       "      <td>2</td>\n",
       "    </tr>\n",
       "    <tr>\n",
       "      <th>4</th>\n",
       "      <td>155</td>\n",
       "      <td>9</td>\n",
       "    </tr>\n",
       "    <tr>\n",
       "      <th>...</th>\n",
       "      <td>...</td>\n",
       "      <td>...</td>\n",
       "    </tr>\n",
       "    <tr>\n",
       "      <th>245</th>\n",
       "      <td>783</td>\n",
       "      <td>10</td>\n",
       "    </tr>\n",
       "    <tr>\n",
       "      <th>246</th>\n",
       "      <td>556</td>\n",
       "      <td>10</td>\n",
       "    </tr>\n",
       "    <tr>\n",
       "      <th>247</th>\n",
       "      <td>547</td>\n",
       "      <td>9</td>\n",
       "    </tr>\n",
       "    <tr>\n",
       "      <th>248</th>\n",
       "      <td>252</td>\n",
       "      <td>9</td>\n",
       "    </tr>\n",
       "    <tr>\n",
       "      <th>249</th>\n",
       "      <td>249</td>\n",
       "      <td>6</td>\n",
       "    </tr>\n",
       "  </tbody>\n",
       "</table>\n",
       "<p>500 rows × 2 columns</p>\n",
       "</div>"
      ],
      "text/plain": [
       "     Customer ID  Food ID\n",
       "0            537        9\n",
       "1             97        4\n",
       "2            658        1\n",
       "3            202        2\n",
       "4            155        9\n",
       "..           ...      ...\n",
       "245          783       10\n",
       "246          556       10\n",
       "247          547        9\n",
       "248          252        9\n",
       "249          249        6\n",
       "\n",
       "[500 rows x 2 columns]"
      ]
     },
     "execution_count": 30,
     "metadata": {},
     "output_type": "execute_result"
    }
   ],
   "source": [
    "pd.concat([week1, week2])\n"
   ]
  },
  {
   "cell_type": "markdown",
   "id": "0db8f33c",
   "metadata": {
    "slideshow": {
     "slide_type": "slide"
    }
   },
   "source": [
    "# Merging  DataFrames"
   ]
  },
  {
   "cell_type": "markdown",
   "id": "98a5fce1",
   "metadata": {
    "slideshow": {
     "slide_type": "fragment"
    }
   },
   "source": [
    "* fino ad ora abbiamo considerato un solo **DataFrame**, ma, in molto casi, le informazioni sono distribuite in diversi **DataFrames**, correlati da valori comuni presenti in colonne (chiavi esterne in terminologia databases)\n",
    "* la funzione **merge()** è utilizzata per fondere due **DataSet**, seguendo lo stile **database-like** dell'operazione **join()** \n",
    "* una unica operazione *merge* per i diversi tipi di *join*\n",
    "* il parametro *how* specifica il tipo di *merge*\n",
    "    * **left**\n",
    "    * **right**\n",
    "    * **outer**\n",
    "    * **inner**   \n",
    "* il parametro **on** indica la colonna comune ai due **DataFrame** utilizzata per effettuare il merge"
   ]
  },
  {
   "cell_type": "markdown",
   "id": "2bbc930f",
   "metadata": {
    "slideshow": {
     "slide_type": "slide"
    }
   },
   "source": [
    "# Merging DataFrames: InnerJoin"
   ]
  },
  {
   "cell_type": "markdown",
   "id": "c9dfe4c5",
   "metadata": {
    "slideshow": {
     "slide_type": "fragment"
    }
   },
   "source": [
    "* dati due **Dataframe**, li combina, basando la combinazione su una chiave che è comune ai due **DataFrame**\n",
    "* il **DataFrame** risultante contiene la combinazione delle righe che hanno lo stesso valore della chiave individuata\n",
    "* le righe dei **DataFrame** da combinare che hanno un valore delle chiave che non ha corrispondenza nell'altro **DataFrame**, non vengono considerate\n",
    "* analoga alla intersezione tra insiemi"
   ]
  },
  {
   "cell_type": "markdown",
   "id": "00fb8306",
   "metadata": {
    "slideshow": {
     "slide_type": "fragment"
    }
   },
   "source": [
    "<center>\n",
    "<img src=\"Figures/Inner.jpg\" style=\"width:400px;height:300px;\"/>"
   ]
  },
  {
   "cell_type": "markdown",
   "id": "a652d1ec",
   "metadata": {
    "slideshow": {
     "slide_type": "slide"
    }
   },
   "source": [
    "# Merging DataFrames: InnerJoin"
   ]
  },
  {
   "cell_type": "markdown",
   "id": "9037c000",
   "metadata": {
    "slideshow": {
     "slide_type": "fragment"
    }
   },
   "source": [
    "* trovare tutti i clienti che hanno frequentato il ristorante in entrambe le settimane\n",
    "* **InnerJoin** su **Customer ID**"
   ]
  },
  {
   "cell_type": "code",
   "execution_count": 31,
   "id": "babaf7b7",
   "metadata": {
    "slideshow": {
     "slide_type": "fragment"
    }
   },
   "outputs": [
    {
     "data": {
      "text/html": [
       "<div>\n",
       "<style scoped>\n",
       "    .dataframe tbody tr th:only-of-type {\n",
       "        vertical-align: middle;\n",
       "    }\n",
       "\n",
       "    .dataframe tbody tr th {\n",
       "        vertical-align: top;\n",
       "    }\n",
       "\n",
       "    .dataframe thead th {\n",
       "        text-align: right;\n",
       "    }\n",
       "</style>\n",
       "<table border=\"1\" class=\"dataframe\">\n",
       "  <thead>\n",
       "    <tr style=\"text-align: right;\">\n",
       "      <th></th>\n",
       "      <th>Customer ID</th>\n",
       "      <th>Food ID_x</th>\n",
       "      <th>Food ID_y</th>\n",
       "    </tr>\n",
       "  </thead>\n",
       "  <tbody>\n",
       "    <tr>\n",
       "      <th>0</th>\n",
       "      <td>537</td>\n",
       "      <td>9</td>\n",
       "      <td>5</td>\n",
       "    </tr>\n",
       "    <tr>\n",
       "      <th>1</th>\n",
       "      <td>155</td>\n",
       "      <td>9</td>\n",
       "      <td>3</td>\n",
       "    </tr>\n",
       "    <tr>\n",
       "      <th>2</th>\n",
       "      <td>155</td>\n",
       "      <td>1</td>\n",
       "      <td>3</td>\n",
       "    </tr>\n",
       "    <tr>\n",
       "      <th>3</th>\n",
       "      <td>503</td>\n",
       "      <td>5</td>\n",
       "      <td>8</td>\n",
       "    </tr>\n",
       "    <tr>\n",
       "      <th>4</th>\n",
       "      <td>503</td>\n",
       "      <td>5</td>\n",
       "      <td>9</td>\n",
       "    </tr>\n",
       "  </tbody>\n",
       "</table>\n",
       "</div>"
      ],
      "text/plain": [
       "   Customer ID  Food ID_x  Food ID_y\n",
       "0          537          9          5\n",
       "1          155          9          3\n",
       "2          155          1          3\n",
       "3          503          5          8\n",
       "4          503          5          9"
      ]
     },
     "execution_count": 31,
     "metadata": {},
     "output_type": "execute_result"
    }
   ],
   "source": [
    "week1.merge(week2, how = \"inner\", on = \"Customer ID\").head()\n"
   ]
  },
  {
   "cell_type": "code",
   "execution_count": 32,
   "id": "b33f2282",
   "metadata": {
    "slideshow": {
     "slide_type": "fragment"
    }
   },
   "outputs": [
    {
     "data": {
      "text/html": [
       "<div>\n",
       "<style scoped>\n",
       "    .dataframe tbody tr th:only-of-type {\n",
       "        vertical-align: middle;\n",
       "    }\n",
       "\n",
       "    .dataframe tbody tr th {\n",
       "        vertical-align: top;\n",
       "    }\n",
       "\n",
       "    .dataframe thead th {\n",
       "        text-align: right;\n",
       "    }\n",
       "</style>\n",
       "<table border=\"1\" class=\"dataframe\">\n",
       "  <thead>\n",
       "    <tr style=\"text-align: right;\">\n",
       "      <th></th>\n",
       "      <th>Customer ID</th>\n",
       "      <th>Food ID</th>\n",
       "    </tr>\n",
       "  </thead>\n",
       "  <tbody>\n",
       "    <tr>\n",
       "      <th>4</th>\n",
       "      <td>155</td>\n",
       "      <td>9</td>\n",
       "    </tr>\n",
       "    <tr>\n",
       "      <th>17</th>\n",
       "      <td>155</td>\n",
       "      <td>1</td>\n",
       "    </tr>\n",
       "  </tbody>\n",
       "</table>\n",
       "</div>"
      ],
      "text/plain": [
       "    Customer ID  Food ID\n",
       "4           155        9\n",
       "17          155        1"
      ]
     },
     "execution_count": 32,
     "metadata": {},
     "output_type": "execute_result"
    }
   ],
   "source": [
    "week1[week1[\"Customer ID\"] == 155]\n"
   ]
  },
  {
   "cell_type": "code",
   "execution_count": 33,
   "id": "ddf2e12c",
   "metadata": {
    "slideshow": {
     "slide_type": "fragment"
    }
   },
   "outputs": [
    {
     "data": {
      "text/html": [
       "<div>\n",
       "<style scoped>\n",
       "    .dataframe tbody tr th:only-of-type {\n",
       "        vertical-align: middle;\n",
       "    }\n",
       "\n",
       "    .dataframe tbody tr th {\n",
       "        vertical-align: top;\n",
       "    }\n",
       "\n",
       "    .dataframe thead th {\n",
       "        text-align: right;\n",
       "    }\n",
       "</style>\n",
       "<table border=\"1\" class=\"dataframe\">\n",
       "  <thead>\n",
       "    <tr style=\"text-align: right;\">\n",
       "      <th></th>\n",
       "      <th>Customer ID</th>\n",
       "      <th>Food ID</th>\n",
       "    </tr>\n",
       "  </thead>\n",
       "  <tbody>\n",
       "    <tr>\n",
       "      <th>208</th>\n",
       "      <td>155</td>\n",
       "      <td>3</td>\n",
       "    </tr>\n",
       "  </tbody>\n",
       "</table>\n",
       "</div>"
      ],
      "text/plain": [
       "     Customer ID  Food ID\n",
       "208          155        3"
      ]
     },
     "execution_count": 33,
     "metadata": {},
     "output_type": "execute_result"
    }
   ],
   "source": [
    "week2[week2[\"Customer ID\"] == 155]\n"
   ]
  },
  {
   "cell_type": "markdown",
   "id": "9282156a",
   "metadata": {
    "slideshow": {
     "slide_type": "slide"
    }
   },
   "source": [
    "# Merging  DataFrames: LeftJoin"
   ]
  },
  {
   "cell_type": "markdown",
   "id": "3b9ba8a8",
   "metadata": {
    "slideshow": {
     "slide_type": "fragment"
    }
   },
   "source": [
    "* dato un **DataFrame D** si vuole arricchire l'informazione contenuta in **D** con informazioni prelevate \n",
    "da un altro **DataFrame D1**\n",
    "* si vogliono mantenere  anche le righe di **D** per cui non vi è corrispondeza in **D1**\n",
    "* **left join** o **left outer join**"
   ]
  },
  {
   "cell_type": "markdown",
   "id": "2d1b0904",
   "metadata": {
    "slideshow": {
     "slide_type": "fragment"
    }
   },
   "source": [
    "<center>\n",
    "<img src=\"Figures/LeftJoin.jpg\" style=\"width:400px;height:300px;\"/>"
   ]
  },
  {
   "cell_type": "markdown",
   "id": "83d4f810",
   "metadata": {
    "slideshow": {
     "slide_type": "slide"
    }
   },
   "source": [
    "# Merging DataFrames: LeftJoin"
   ]
  },
  {
   "cell_type": "markdown",
   "id": "562e530a",
   "metadata": {
    "slideshow": {
     "slide_type": "fragment"
    }
   },
   "source": [
    "* supponiamo esista anche un dataset che riporta i dati dei clienti\n",
    "* obiettivo: estende i precedenti DataFrame con dati presi da questo secondo dataset"
   ]
  },
  {
   "cell_type": "code",
   "execution_count": 34,
   "id": "d8f55771",
   "metadata": {
    "slideshow": {
     "slide_type": "fragment"
    }
   },
   "outputs": [
    {
     "data": {
      "text/html": [
       "<div>\n",
       "<style scoped>\n",
       "    .dataframe tbody tr th:only-of-type {\n",
       "        vertical-align: middle;\n",
       "    }\n",
       "\n",
       "    .dataframe tbody tr th {\n",
       "        vertical-align: top;\n",
       "    }\n",
       "\n",
       "    .dataframe thead th {\n",
       "        text-align: right;\n",
       "    }\n",
       "</style>\n",
       "<table border=\"1\" class=\"dataframe\">\n",
       "  <thead>\n",
       "    <tr style=\"text-align: right;\">\n",
       "      <th></th>\n",
       "      <th>ID</th>\n",
       "      <th>First Name</th>\n",
       "      <th>Last Name</th>\n",
       "      <th>Gender</th>\n",
       "      <th>Company</th>\n",
       "      <th>Occupation</th>\n",
       "    </tr>\n",
       "  </thead>\n",
       "  <tbody>\n",
       "    <tr>\n",
       "      <th>0</th>\n",
       "      <td>1</td>\n",
       "      <td>Joseph</td>\n",
       "      <td>Perkins</td>\n",
       "      <td>Male</td>\n",
       "      <td>Dynazzy</td>\n",
       "      <td>Community Outreach Specialist</td>\n",
       "    </tr>\n",
       "    <tr>\n",
       "      <th>1</th>\n",
       "      <td>2</td>\n",
       "      <td>Jennifer</td>\n",
       "      <td>Alvarez</td>\n",
       "      <td>Female</td>\n",
       "      <td>DabZ</td>\n",
       "      <td>Senior Quality Engineer</td>\n",
       "    </tr>\n",
       "    <tr>\n",
       "      <th>2</th>\n",
       "      <td>3</td>\n",
       "      <td>Roger</td>\n",
       "      <td>Black</td>\n",
       "      <td>Male</td>\n",
       "      <td>Tagfeed</td>\n",
       "      <td>Account Executive</td>\n",
       "    </tr>\n",
       "    <tr>\n",
       "      <th>3</th>\n",
       "      <td>4</td>\n",
       "      <td>Steven</td>\n",
       "      <td>Evans</td>\n",
       "      <td>Male</td>\n",
       "      <td>Fatz</td>\n",
       "      <td>Registered Nurse</td>\n",
       "    </tr>\n",
       "    <tr>\n",
       "      <th>4</th>\n",
       "      <td>5</td>\n",
       "      <td>Judy</td>\n",
       "      <td>Morrison</td>\n",
       "      <td>Female</td>\n",
       "      <td>Demivee</td>\n",
       "      <td>Legal Assistant</td>\n",
       "    </tr>\n",
       "    <tr>\n",
       "      <th>...</th>\n",
       "      <td>...</td>\n",
       "      <td>...</td>\n",
       "      <td>...</td>\n",
       "      <td>...</td>\n",
       "      <td>...</td>\n",
       "      <td>...</td>\n",
       "    </tr>\n",
       "    <tr>\n",
       "      <th>995</th>\n",
       "      <td>996</td>\n",
       "      <td>Debra</td>\n",
       "      <td>Garcia</td>\n",
       "      <td>Female</td>\n",
       "      <td>Dazzlesphere</td>\n",
       "      <td>Structural Engineer</td>\n",
       "    </tr>\n",
       "    <tr>\n",
       "      <th>996</th>\n",
       "      <td>997</td>\n",
       "      <td>Douglas</td>\n",
       "      <td>Bishop</td>\n",
       "      <td>Male</td>\n",
       "      <td>Livepath</td>\n",
       "      <td>Developer I</td>\n",
       "    </tr>\n",
       "    <tr>\n",
       "      <th>997</th>\n",
       "      <td>998</td>\n",
       "      <td>Frank</td>\n",
       "      <td>Franklin</td>\n",
       "      <td>Male</td>\n",
       "      <td>Brainverse</td>\n",
       "      <td>Nurse Practicioner</td>\n",
       "    </tr>\n",
       "    <tr>\n",
       "      <th>998</th>\n",
       "      <td>999</td>\n",
       "      <td>Jessica</td>\n",
       "      <td>Burns</td>\n",
       "      <td>Female</td>\n",
       "      <td>Babbleblab</td>\n",
       "      <td>Financial Advisor</td>\n",
       "    </tr>\n",
       "    <tr>\n",
       "      <th>999</th>\n",
       "      <td>1000</td>\n",
       "      <td>Brian</td>\n",
       "      <td>Daniels</td>\n",
       "      <td>Male</td>\n",
       "      <td>Tazzy</td>\n",
       "      <td>Physical Therapy Assistant</td>\n",
       "    </tr>\n",
       "  </tbody>\n",
       "</table>\n",
       "<p>1000 rows × 6 columns</p>\n",
       "</div>"
      ],
      "text/plain": [
       "       ID First Name Last Name  Gender       Company  \\\n",
       "0       1     Joseph   Perkins    Male       Dynazzy   \n",
       "1       2   Jennifer   Alvarez  Female          DabZ   \n",
       "2       3      Roger     Black    Male       Tagfeed   \n",
       "3       4     Steven     Evans    Male          Fatz   \n",
       "4       5       Judy  Morrison  Female       Demivee   \n",
       "..    ...        ...       ...     ...           ...   \n",
       "995   996      Debra    Garcia  Female  Dazzlesphere   \n",
       "996   997    Douglas    Bishop    Male      Livepath   \n",
       "997   998      Frank  Franklin    Male    Brainverse   \n",
       "998   999    Jessica     Burns  Female    Babbleblab   \n",
       "999  1000      Brian   Daniels    Male         Tazzy   \n",
       "\n",
       "                        Occupation  \n",
       "0    Community Outreach Specialist  \n",
       "1          Senior Quality Engineer  \n",
       "2                Account Executive  \n",
       "3                 Registered Nurse  \n",
       "4                  Legal Assistant  \n",
       "..                             ...  \n",
       "995            Structural Engineer  \n",
       "996                    Developer I  \n",
       "997             Nurse Practicioner  \n",
       "998              Financial Advisor  \n",
       "999     Physical Therapy Assistant  \n",
       "\n",
       "[1000 rows x 6 columns]"
      ]
     },
     "execution_count": 34,
     "metadata": {},
     "output_type": "execute_result"
    }
   ],
   "source": [
    "customers = pd.read_csv(\"Dataset/restaurant/customers.csv\")\n",
    "customers\n"
   ]
  },
  {
   "cell_type": "markdown",
   "id": "ae435a0e",
   "metadata": {
    "slideshow": {
     "slide_type": "slide"
    }
   },
   "source": [
    "# Merging  DataFrames: LeftJoin"
   ]
  },
  {
   "cell_type": "code",
   "execution_count": 35,
   "id": "3116f3de",
   "metadata": {
    "slideshow": {
     "slide_type": "fragment"
    }
   },
   "outputs": [
    {
     "data": {
      "text/html": [
       "<div>\n",
       "<style scoped>\n",
       "    .dataframe tbody tr th:only-of-type {\n",
       "        vertical-align: middle;\n",
       "    }\n",
       "\n",
       "    .dataframe tbody tr th {\n",
       "        vertical-align: top;\n",
       "    }\n",
       "\n",
       "    .dataframe thead th {\n",
       "        text-align: right;\n",
       "    }\n",
       "</style>\n",
       "<table border=\"1\" class=\"dataframe\">\n",
       "  <thead>\n",
       "    <tr style=\"text-align: right;\">\n",
       "      <th></th>\n",
       "      <th>Customer ID</th>\n",
       "      <th>Food ID</th>\n",
       "      <th>ID</th>\n",
       "      <th>First Name</th>\n",
       "      <th>Last Name</th>\n",
       "      <th>Gender</th>\n",
       "      <th>Company</th>\n",
       "      <th>Occupation</th>\n",
       "    </tr>\n",
       "  </thead>\n",
       "  <tbody>\n",
       "    <tr>\n",
       "      <th>0</th>\n",
       "      <td>537</td>\n",
       "      <td>9</td>\n",
       "      <td>537</td>\n",
       "      <td>Cheryl</td>\n",
       "      <td>Carroll</td>\n",
       "      <td>Female</td>\n",
       "      <td>Zoombeat</td>\n",
       "      <td>Registered Nurse</td>\n",
       "    </tr>\n",
       "    <tr>\n",
       "      <th>1</th>\n",
       "      <td>97</td>\n",
       "      <td>4</td>\n",
       "      <td>97</td>\n",
       "      <td>Amanda</td>\n",
       "      <td>Watkins</td>\n",
       "      <td>Female</td>\n",
       "      <td>Ozu</td>\n",
       "      <td>Account Coordinator</td>\n",
       "    </tr>\n",
       "    <tr>\n",
       "      <th>2</th>\n",
       "      <td>658</td>\n",
       "      <td>1</td>\n",
       "      <td>658</td>\n",
       "      <td>Patrick</td>\n",
       "      <td>Webb</td>\n",
       "      <td>Male</td>\n",
       "      <td>Browsebug</td>\n",
       "      <td>Community Outreach Specialist</td>\n",
       "    </tr>\n",
       "    <tr>\n",
       "      <th>3</th>\n",
       "      <td>202</td>\n",
       "      <td>2</td>\n",
       "      <td>202</td>\n",
       "      <td>Louis</td>\n",
       "      <td>Campbell</td>\n",
       "      <td>Male</td>\n",
       "      <td>Rhynoodle</td>\n",
       "      <td>Account Representative III</td>\n",
       "    </tr>\n",
       "    <tr>\n",
       "      <th>4</th>\n",
       "      <td>155</td>\n",
       "      <td>9</td>\n",
       "      <td>155</td>\n",
       "      <td>Carolyn</td>\n",
       "      <td>Diaz</td>\n",
       "      <td>Female</td>\n",
       "      <td>Gigazoom</td>\n",
       "      <td>Database Administrator III</td>\n",
       "    </tr>\n",
       "    <tr>\n",
       "      <th>...</th>\n",
       "      <td>...</td>\n",
       "      <td>...</td>\n",
       "      <td>...</td>\n",
       "      <td>...</td>\n",
       "      <td>...</td>\n",
       "      <td>...</td>\n",
       "      <td>...</td>\n",
       "      <td>...</td>\n",
       "    </tr>\n",
       "    <tr>\n",
       "      <th>245</th>\n",
       "      <td>413</td>\n",
       "      <td>9</td>\n",
       "      <td>413</td>\n",
       "      <td>Diane</td>\n",
       "      <td>Bailey</td>\n",
       "      <td>Female</td>\n",
       "      <td>Wikibox</td>\n",
       "      <td>Technical Writer</td>\n",
       "    </tr>\n",
       "    <tr>\n",
       "      <th>246</th>\n",
       "      <td>926</td>\n",
       "      <td>6</td>\n",
       "      <td>926</td>\n",
       "      <td>Anne</td>\n",
       "      <td>Wagner</td>\n",
       "      <td>Female</td>\n",
       "      <td>Skyba</td>\n",
       "      <td>Legal Assistant</td>\n",
       "    </tr>\n",
       "    <tr>\n",
       "      <th>247</th>\n",
       "      <td>134</td>\n",
       "      <td>3</td>\n",
       "      <td>134</td>\n",
       "      <td>Diana</td>\n",
       "      <td>Hall</td>\n",
       "      <td>Female</td>\n",
       "      <td>Quinu</td>\n",
       "      <td>Financial Advisor</td>\n",
       "    </tr>\n",
       "    <tr>\n",
       "      <th>248</th>\n",
       "      <td>396</td>\n",
       "      <td>6</td>\n",
       "      <td>396</td>\n",
       "      <td>Juan</td>\n",
       "      <td>Romero</td>\n",
       "      <td>Male</td>\n",
       "      <td>Zoonder</td>\n",
       "      <td>Analyst Programmer</td>\n",
       "    </tr>\n",
       "    <tr>\n",
       "      <th>249</th>\n",
       "      <td>535</td>\n",
       "      <td>10</td>\n",
       "      <td>535</td>\n",
       "      <td>Nancy</td>\n",
       "      <td>Cox</td>\n",
       "      <td>Female</td>\n",
       "      <td>Trudeo</td>\n",
       "      <td>Research Associate</td>\n",
       "    </tr>\n",
       "  </tbody>\n",
       "</table>\n",
       "<p>250 rows × 8 columns</p>\n",
       "</div>"
      ],
      "text/plain": [
       "     Customer ID  Food ID   ID First Name Last Name  Gender    Company  \\\n",
       "0            537        9  537     Cheryl   Carroll  Female   Zoombeat   \n",
       "1             97        4   97     Amanda   Watkins  Female        Ozu   \n",
       "2            658        1  658    Patrick      Webb    Male  Browsebug   \n",
       "3            202        2  202      Louis  Campbell    Male  Rhynoodle   \n",
       "4            155        9  155    Carolyn      Diaz  Female   Gigazoom   \n",
       "..           ...      ...  ...        ...       ...     ...        ...   \n",
       "245          413        9  413      Diane    Bailey  Female    Wikibox   \n",
       "246          926        6  926       Anne    Wagner  Female      Skyba   \n",
       "247          134        3  134      Diana      Hall  Female      Quinu   \n",
       "248          396        6  396       Juan    Romero    Male    Zoonder   \n",
       "249          535       10  535      Nancy       Cox  Female     Trudeo   \n",
       "\n",
       "                        Occupation  \n",
       "0                 Registered Nurse  \n",
       "1              Account Coordinator  \n",
       "2    Community Outreach Specialist  \n",
       "3       Account Representative III  \n",
       "4       Database Administrator III  \n",
       "..                             ...  \n",
       "245               Technical Writer  \n",
       "246                Legal Assistant  \n",
       "247              Financial Advisor  \n",
       "248             Analyst Programmer  \n",
       "249             Research Associate  \n",
       "\n",
       "[250 rows x 8 columns]"
      ]
     },
     "execution_count": 35,
     "metadata": {},
     "output_type": "execute_result"
    }
   ],
   "source": [
    "week1.merge(customers, how = \"left\", left_on = \"Customer ID\", right_on = \"ID\")\n"
   ]
  },
  {
   "cell_type": "markdown",
   "id": "d37f66f9",
   "metadata": {
    "slideshow": {
     "slide_type": "slide"
    }
   },
   "source": [
    "# Merging DataFrame: OuterJoin\n",
    "* dati due DataFrame, restitusice le righe di entrambe i dataset, unendoli secondo un attributo comune\n",
    "* quando non vi è corrispondenza, restituisce *NaN* nelle rispettive celle"
   ]
  },
  {
   "cell_type": "markdown",
   "id": "d31559bf",
   "metadata": {
    "slideshow": {
     "slide_type": "fragment"
    }
   },
   "source": [
    "<center>\n",
    "<img src=\"Figures/OuterJoin.jpg\" style=\"width:400px;height:300px;\"/>"
   ]
  },
  {
   "cell_type": "markdown",
   "id": "dbf28445",
   "metadata": {
    "slideshow": {
     "slide_type": "slide"
    }
   },
   "source": [
    "# Merging DataFrame: OuterJoin\n",
    "\n",
    "* restituire tutti i clienti che hanno frequentato il ristorante nella prima oppure nella seconda settimana"
   ]
  },
  {
   "cell_type": "code",
   "execution_count": 36,
   "id": "bc9d59f5",
   "metadata": {
    "slideshow": {
     "slide_type": "fragment"
    }
   },
   "outputs": [
    {
     "data": {
      "text/html": [
       "<div>\n",
       "<style scoped>\n",
       "    .dataframe tbody tr th:only-of-type {\n",
       "        vertical-align: middle;\n",
       "    }\n",
       "\n",
       "    .dataframe tbody tr th {\n",
       "        vertical-align: top;\n",
       "    }\n",
       "\n",
       "    .dataframe thead th {\n",
       "        text-align: right;\n",
       "    }\n",
       "</style>\n",
       "<table border=\"1\" class=\"dataframe\">\n",
       "  <thead>\n",
       "    <tr style=\"text-align: right;\">\n",
       "      <th></th>\n",
       "      <th>Customer ID</th>\n",
       "      <th>Food ID_x</th>\n",
       "      <th>Food ID_y</th>\n",
       "    </tr>\n",
       "  </thead>\n",
       "  <tbody>\n",
       "    <tr>\n",
       "      <th>0</th>\n",
       "      <td>537</td>\n",
       "      <td>9.0</td>\n",
       "      <td>5.0</td>\n",
       "    </tr>\n",
       "    <tr>\n",
       "      <th>1</th>\n",
       "      <td>97</td>\n",
       "      <td>4.0</td>\n",
       "      <td>NaN</td>\n",
       "    </tr>\n",
       "    <tr>\n",
       "      <th>2</th>\n",
       "      <td>658</td>\n",
       "      <td>1.0</td>\n",
       "      <td>NaN</td>\n",
       "    </tr>\n",
       "    <tr>\n",
       "      <th>3</th>\n",
       "      <td>202</td>\n",
       "      <td>2.0</td>\n",
       "      <td>NaN</td>\n",
       "    </tr>\n",
       "    <tr>\n",
       "      <th>4</th>\n",
       "      <td>155</td>\n",
       "      <td>9.0</td>\n",
       "      <td>3.0</td>\n",
       "    </tr>\n",
       "    <tr>\n",
       "      <th>...</th>\n",
       "      <td>...</td>\n",
       "      <td>...</td>\n",
       "      <td>...</td>\n",
       "    </tr>\n",
       "    <tr>\n",
       "      <th>449</th>\n",
       "      <td>855</td>\n",
       "      <td>NaN</td>\n",
       "      <td>4.0</td>\n",
       "    </tr>\n",
       "    <tr>\n",
       "      <th>450</th>\n",
       "      <td>559</td>\n",
       "      <td>NaN</td>\n",
       "      <td>10.0</td>\n",
       "    </tr>\n",
       "    <tr>\n",
       "      <th>451</th>\n",
       "      <td>276</td>\n",
       "      <td>NaN</td>\n",
       "      <td>4.0</td>\n",
       "    </tr>\n",
       "    <tr>\n",
       "      <th>452</th>\n",
       "      <td>556</td>\n",
       "      <td>NaN</td>\n",
       "      <td>10.0</td>\n",
       "    </tr>\n",
       "    <tr>\n",
       "      <th>453</th>\n",
       "      <td>252</td>\n",
       "      <td>NaN</td>\n",
       "      <td>9.0</td>\n",
       "    </tr>\n",
       "  </tbody>\n",
       "</table>\n",
       "<p>454 rows × 3 columns</p>\n",
       "</div>"
      ],
      "text/plain": [
       "     Customer ID  Food ID_x  Food ID_y\n",
       "0            537        9.0        5.0\n",
       "1             97        4.0        NaN\n",
       "2            658        1.0        NaN\n",
       "3            202        2.0        NaN\n",
       "4            155        9.0        3.0\n",
       "..           ...        ...        ...\n",
       "449          855        NaN        4.0\n",
       "450          559        NaN       10.0\n",
       "451          276        NaN        4.0\n",
       "452          556        NaN       10.0\n",
       "453          252        NaN        9.0\n",
       "\n",
       "[454 rows x 3 columns]"
      ]
     },
     "execution_count": 36,
     "metadata": {},
     "output_type": "execute_result"
    }
   ],
   "source": [
    "week1.merge(week2, how = \"outer\", on = \"Customer ID\")\n"
   ]
  },
  {
   "cell_type": "markdown",
   "id": "447bda8f",
   "metadata": {
    "slideshow": {
     "slide_type": "slide"
    }
   },
   "source": [
    "# Merging DataFrame: OuterJoin"
   ]
  },
  {
   "cell_type": "code",
   "execution_count": 37,
   "id": "37d49091",
   "metadata": {
    "slideshow": {
     "slide_type": "fragment"
    }
   },
   "outputs": [
    {
     "data": {
      "text/html": [
       "<div>\n",
       "<style scoped>\n",
       "    .dataframe tbody tr th:only-of-type {\n",
       "        vertical-align: middle;\n",
       "    }\n",
       "\n",
       "    .dataframe tbody tr th {\n",
       "        vertical-align: top;\n",
       "    }\n",
       "\n",
       "    .dataframe thead th {\n",
       "        text-align: right;\n",
       "    }\n",
       "</style>\n",
       "<table border=\"1\" class=\"dataframe\">\n",
       "  <thead>\n",
       "    <tr style=\"text-align: right;\">\n",
       "      <th></th>\n",
       "      <th>Customer ID</th>\n",
       "      <th>Food ID_x</th>\n",
       "      <th>Food ID_y</th>\n",
       "      <th>_merge</th>\n",
       "    </tr>\n",
       "  </thead>\n",
       "  <tbody>\n",
       "    <tr>\n",
       "      <th>0</th>\n",
       "      <td>537</td>\n",
       "      <td>9.0</td>\n",
       "      <td>5.0</td>\n",
       "      <td>both</td>\n",
       "    </tr>\n",
       "    <tr>\n",
       "      <th>1</th>\n",
       "      <td>97</td>\n",
       "      <td>4.0</td>\n",
       "      <td>NaN</td>\n",
       "      <td>left_only</td>\n",
       "    </tr>\n",
       "    <tr>\n",
       "      <th>2</th>\n",
       "      <td>658</td>\n",
       "      <td>1.0</td>\n",
       "      <td>NaN</td>\n",
       "      <td>left_only</td>\n",
       "    </tr>\n",
       "    <tr>\n",
       "      <th>3</th>\n",
       "      <td>202</td>\n",
       "      <td>2.0</td>\n",
       "      <td>NaN</td>\n",
       "      <td>left_only</td>\n",
       "    </tr>\n",
       "    <tr>\n",
       "      <th>4</th>\n",
       "      <td>155</td>\n",
       "      <td>9.0</td>\n",
       "      <td>3.0</td>\n",
       "      <td>both</td>\n",
       "    </tr>\n",
       "    <tr>\n",
       "      <th>...</th>\n",
       "      <td>...</td>\n",
       "      <td>...</td>\n",
       "      <td>...</td>\n",
       "      <td>...</td>\n",
       "    </tr>\n",
       "    <tr>\n",
       "      <th>449</th>\n",
       "      <td>855</td>\n",
       "      <td>NaN</td>\n",
       "      <td>4.0</td>\n",
       "      <td>right_only</td>\n",
       "    </tr>\n",
       "    <tr>\n",
       "      <th>450</th>\n",
       "      <td>559</td>\n",
       "      <td>NaN</td>\n",
       "      <td>10.0</td>\n",
       "      <td>right_only</td>\n",
       "    </tr>\n",
       "    <tr>\n",
       "      <th>451</th>\n",
       "      <td>276</td>\n",
       "      <td>NaN</td>\n",
       "      <td>4.0</td>\n",
       "      <td>right_only</td>\n",
       "    </tr>\n",
       "    <tr>\n",
       "      <th>452</th>\n",
       "      <td>556</td>\n",
       "      <td>NaN</td>\n",
       "      <td>10.0</td>\n",
       "      <td>right_only</td>\n",
       "    </tr>\n",
       "    <tr>\n",
       "      <th>453</th>\n",
       "      <td>252</td>\n",
       "      <td>NaN</td>\n",
       "      <td>9.0</td>\n",
       "      <td>right_only</td>\n",
       "    </tr>\n",
       "  </tbody>\n",
       "</table>\n",
       "<p>454 rows × 4 columns</p>\n",
       "</div>"
      ],
      "text/plain": [
       "     Customer ID  Food ID_x  Food ID_y      _merge\n",
       "0            537        9.0        5.0        both\n",
       "1             97        4.0        NaN   left_only\n",
       "2            658        1.0        NaN   left_only\n",
       "3            202        2.0        NaN   left_only\n",
       "4            155        9.0        3.0        both\n",
       "..           ...        ...        ...         ...\n",
       "449          855        NaN        4.0  right_only\n",
       "450          559        NaN       10.0  right_only\n",
       "451          276        NaN        4.0  right_only\n",
       "452          556        NaN       10.0  right_only\n",
       "453          252        NaN        9.0  right_only\n",
       "\n",
       "[454 rows x 4 columns]"
      ]
     },
     "execution_count": 37,
     "metadata": {},
     "output_type": "execute_result"
    }
   ],
   "source": [
    "week1.merge(week2, how = \"outer\", on = \"Customer ID\", indicator = True)\n"
   ]
  },
  {
   "cell_type": "markdown",
   "id": "91cf3bf4",
   "metadata": {
    "slideshow": {
     "slide_type": "slide"
    }
   },
   "source": [
    "# Joining Dataframes: Recap"
   ]
  },
  {
   "cell_type": "markdown",
   "id": "8f5cbff2",
   "metadata": {
    "slideshow": {
     "slide_type": "fragment"
    }
   },
   "source": [
    "<center>\n",
    "<img src=\"Figures/JoinTypes.jpg\" style=\"width:900px;height:600px;\"/>"
   ]
  },
  {
   "cell_type": "markdown",
   "id": "aac705fd",
   "metadata": {
    "slideshow": {
     "slide_type": "slide"
    }
   },
   "source": [
    "# Assignment: analisi delle transazioni nei primi due anni di Bitcoin"
   ]
  },
  {
   "cell_type": "markdown",
   "id": "57ae1016",
   "metadata": {
    "slideshow": {
     "slide_type": "fragment"
    }
   },
   "source": [
    "* si consideri il dataset allegato a questo assignment, che contiene l'astrazione di un insieme di  transazioni di **Bitcoin**, \n",
    "\n",
    "* il dataset \n",
    "    * contiene transazioni registrate sulla blockchain a partire dal **blocco genesis** fino al blocco di altezza **100,001**\n",
    "    * è stato leggermente modificato rispetto al contenuto della blockchain originale, ed alcune transazioni sono state rimosse, \n",
    "     ma per il resto contiene transazioni reali, per cui i risultati ottenuti daranno alcune informazioni concrete sul   comportamento  degli utenti su Bitcoin  nei primi due anni di vita della criptomoneta\n",
    "* il dataset contiene 4 file **CSV**\n",
    "    * **Transazioni**\n",
    "    * **Inputs**\n",
    "    * **Outputs**\n",
    "    * **Dates**"
   ]
  },
  {
   "cell_type": "markdown",
   "id": "b81620b7",
   "metadata": {
    "slideshow": {
     "slide_type": "slide"
    }
   },
   "source": [
    "# Struttura delle transazioni di Bitcoin"
   ]
  },
  {
   "cell_type": "markdown",
   "id": "914a74fe",
   "metadata": {
    "slideshow": {
     "slide_type": "fragment"
    }
   },
   "source": [
    "<center>\n",
    "<img src=\"Figures/BitcoinTransactions.jpg\" style=\"width:1200px;height:500px;\"/>"
   ]
  },
  {
   "cell_type": "markdown",
   "id": "84a840e3",
   "metadata": {
    "slideshow": {
     "slide_type": "slide"
    }
   },
   "source": [
    "# Analisi delle transazioni nei primi due anni di Bitcoin: astrazioni\n",
    "\n",
    "* analizziamo una transazione: quali campi sono stati eliminati? quali astrazioni sono state fatte?"
   ]
  },
  {
   "cell_type": "code",
   "execution_count": 38,
   "id": "5355ee5d",
   "metadata": {
    "slideshow": {
     "slide_type": "fragment"
    }
   },
   "outputs": [
    {
     "data": {
      "text/html": [
       "<div>\n",
       "<style scoped>\n",
       "    .dataframe tbody tr th:only-of-type {\n",
       "        vertical-align: middle;\n",
       "    }\n",
       "\n",
       "    .dataframe tbody tr th {\n",
       "        vertical-align: top;\n",
       "    }\n",
       "\n",
       "    .dataframe thead th {\n",
       "        text-align: right;\n",
       "    }\n",
       "</style>\n",
       "<table border=\"1\" class=\"dataframe\">\n",
       "  <thead>\n",
       "    <tr style=\"text-align: right;\">\n",
       "      <th></th>\n",
       "      <th>tx_id</th>\n",
       "      <th>blk_id</th>\n",
       "    </tr>\n",
       "  </thead>\n",
       "  <tbody>\n",
       "    <tr>\n",
       "      <th>216621</th>\n",
       "      <td>216622</td>\n",
       "      <td>100016</td>\n",
       "    </tr>\n",
       "    <tr>\n",
       "      <th>216622</th>\n",
       "      <td>216623</td>\n",
       "      <td>100016</td>\n",
       "    </tr>\n",
       "    <tr>\n",
       "      <th>216623</th>\n",
       "      <td>216624</td>\n",
       "      <td>100016</td>\n",
       "    </tr>\n",
       "    <tr>\n",
       "      <th>216624</th>\n",
       "      <td>216625</td>\n",
       "      <td>100016</td>\n",
       "    </tr>\n",
       "    <tr>\n",
       "      <th>216625</th>\n",
       "      <td>216626</td>\n",
       "      <td>100017</td>\n",
       "    </tr>\n",
       "  </tbody>\n",
       "</table>\n",
       "</div>"
      ],
      "text/plain": [
       "         tx_id  blk_id\n",
       "216621  216622  100016\n",
       "216622  216623  100016\n",
       "216623  216624  100016\n",
       "216624  216625  100016\n",
       "216625  216626  100017"
      ]
     },
     "execution_count": 38,
     "metadata": {},
     "output_type": "execute_result"
    }
   ],
   "source": [
    "import matplotlib.pyplot as plt\n",
    "import pandas as pd\n",
    "transactions = pd.read_csv('Dataset/Bitcoin/transactions.csv', names=['tx_id', 'blk_id'])\n",
    "transactions.head()\n",
    "transactions.tail()\n"
   ]
  },
  {
   "cell_type": "markdown",
   "id": "56571371",
   "metadata": {
    "slideshow": {
     "slide_type": "fragment"
    }
   },
   "source": [
    "* molto dei metadati sono stati eliminati\n",
    "    * **ver**: versione del protocollo\n",
    "    * **vin_sz**: dimensione degli input\n",
    "    * **vout_size**: dimensione degli output \n",
    "    * **lock_time**: timestamp dopo il quale la transzione può essere inserita nella blockchai\n",
    "    * **size**: dimensione in byte della transzione\n",
    "* atsrazioni: \n",
    "    * il campo **hash** è stato astratto con un identificatore **unico**\n",
    "* campi aggiunti\n",
    "    * identificatore del blocco in cui la transazione è stata inserita (implicito nelle blockchain reale)\n",
    "* ma dove sono finiti gli input e gli output della transazione?"
   ]
  },
  {
   "cell_type": "markdown",
   "id": "92c5aad4",
   "metadata": {
    "slideshow": {
     "slide_type": "slide"
    }
   },
   "source": [
    "# Analisi delle transazioni nei primi due anni di Bitcoin: astrazioni\n",
    "\n",
    "*  ricordiamo: \n",
    "    * ogni input ha un riferimento all'output che spende, che è contenuto in una transazione precedente\n",
    "    * contiene l'hash della transazione precedente e la posizione dell'output all'interno della transazione precednete\n",
    "* dove sono finiti gli input delle transazioni?\n",
    "    * nel file **input**!"
   ]
  },
  {
   "cell_type": "code",
   "execution_count": null,
   "id": "9d188098",
   "metadata": {
    "slideshow": {
     "slide_type": "fragment"
    }
   },
   "outputs": [],
   "source": [
    "inputs = pd.read_csv('Dataset/Bitcoin/inputs.csv',names=['in_id', 'tx_id', 'sig_id', 'output_id'])\n",
    "print(inputs.head())\n",
    "print(inputs.tail())"
   ]
  },
  {
   "cell_type": "markdown",
   "id": "5a015589",
   "metadata": {
    "slideshow": {
     "slide_type": "fragment"
    }
   },
   "source": [
    "* una riga per qualsiasi input che appare in una qualsiasi delle transazioni del dataset\n",
    "* per ogni input \n",
    "    * un identificatore unico di quell'input **in_id**\n",
    "    * l'identificatore della transazione in cui appare quell'input **tx_id**\n",
    "    * **sig_id**, astrae la firma presente nello script **scriptSig** con un identificatore, vale -1 se quello è l'input di una           **coinbase**, -1 se viene utilizzato uno script **non standard**\n",
    "    * l'identificatore unico dell'output che quell'input sta spendendo **ouput_id**\n",
    "    "
   ]
  },
  {
   "cell_type": "markdown",
   "id": "c33d4644",
   "metadata": {
    "slideshow": {
     "slide_type": "slide"
    }
   },
   "source": [
    "# Analisi delle transazioni nei primi due anni di Bitcoin: output\n",
    "\n",
    "* ricordiamo: \n",
    "    * ogni output ha un valore, il valore in criptomoneta che viene \"speso\" su quell'output\n",
    "    * contiene uno script che contiene la chiave pubblica a cui è spedito quell'ouput"
   ]
  },
  {
   "cell_type": "code",
   "execution_count": 39,
   "id": "9576eeaa",
   "metadata": {
    "slideshow": {
     "slide_type": "fragment"
    }
   },
   "outputs": [
    {
     "name": "stdout",
     "output_type": "stream",
     "text": [
      "   output_id  tx_id  pk_id       value\n",
      "0          1      1      1  5000000000\n",
      "1          2      2      2  5000000000\n",
      "2          3      3      3  5000000000\n",
      "3          4      4      4  5000000000\n",
      "4          5      5      5  5000000000\n",
      "        output_id   tx_id   pk_id       value\n",
      "264305     264306  216623  174700     1000000\n",
      "264306     264307  216623  174701   299000000\n",
      "264307     264308  216624  167815     1000000\n",
      "264308     264309  216625  174695     1200000\n",
      "264309     264310  216626  174701  5000000000\n"
     ]
    }
   ],
   "source": [
    "outputs = pd.read_csv('Dataset/Bitcoin/outputs.csv', names=['output_id', 'tx_id', 'pk_id', 'value'])\n",
    "print(outputs.head())\n",
    "print(outputs.tail())\n"
   ]
  },
  {
   "cell_type": "markdown",
   "id": "a506ac6f",
   "metadata": {
    "slideshow": {
     "slide_type": "fragment"
    }
   },
   "source": [
    "* una riga per qualsiasi output\n",
    "* per ogni output\n",
    "    * **out_id** un identificatore unico dell'output\n",
    "    * **tx_id** l'identificatore della transazione a cui quell'output appartiene \n",
    "    * l'identificatore della chiave pubblica **pk_id** usata nello script **ScriptPubKey**, \n",
    "      che codifica le condizioni che devono essere verificate affinchè quell'output possa essere speso\n",
    "      vale -1 se viene usato uno scrpt non standars\n",
    "    * il valore speso sull'output di quella transazione"
   ]
  },
  {
   "cell_type": "markdown",
   "id": "3b16207c",
   "metadata": {
    "slideshow": {
     "slide_type": "slide"
    }
   },
   "source": [
    "# Analisi delle transazioni nei primi due anni di Bitcoin: timestamp"
   ]
  },
  {
   "cell_type": "code",
   "execution_count": 40,
   "id": "df47643d",
   "metadata": {
    "slideshow": {
     "slide_type": "fragment"
    }
   },
   "outputs": [
    {
     "name": "stdout",
     "output_type": "stream",
     "text": [
      "   block_id                 time\n",
      "0         0  2009-01-03 18:15:05\n",
      "1         1  2009-01-09 02:54:25\n",
      "2         2  2009-01-09 02:55:44\n",
      "3         3  2009-01-09 03:02:53\n",
      "4         4  2009-01-09 03:16:28\n",
      "        block_id                 time\n",
      "100013    100013  2010-12-29 13:17:01\n",
      "100014    100014  2010-12-29 13:32:38\n",
      "100015    100015  2010-12-29 13:36:10\n",
      "100016    100016  2010-12-29 13:39:01\n",
      "100017    100017  2010-12-29 13:44:06\n"
     ]
    }
   ],
   "source": [
    "dates = pd.read_csv('Dataset/Bitcoin/dates.csv')\n",
    "print(dates.head())\n",
    "print(dates.tail())\n"
   ]
  },
  {
   "cell_type": "markdown",
   "id": "a9f24519",
   "metadata": {
    "slideshow": {
     "slide_type": "fragment"
    }
   },
   "source": [
    "* riporta il timestamp della creazione di ogni blocco"
   ]
  },
  {
   "cell_type": "markdown",
   "id": "68a2935e",
   "metadata": {
    "slideshow": {
     "slide_type": "slide"
    }
   },
   "source": [
    "# Analisi delle transazioni dei primi due anni di Bitcoin"
   ]
  },
  {
   "cell_type": "markdown",
   "id": "a462c33a",
   "metadata": {
    "slideshow": {
     "slide_type": "fragment"
    }
   },
   "source": [
    "<center>\n",
    "<img src=\"Figures/BitcoinTables.jpg\" style=\"width:700px;height:600px;\"/>"
   ]
  },
  {
   "cell_type": "markdown",
   "id": "85d37580",
   "metadata": {
    "slideshow": {
     "slide_type": "slide"
    }
   },
   "source": [
    "# Analisi delle transazioni dei primi due anni di Bitcoin"
   ]
  },
  {
   "cell_type": "markdown",
   "id": "171022ee",
   "metadata": {
    "slideshow": {
     "slide_type": "fragment"
    }
   },
   "source": [
    "* controllare se esistono blocchi o transazioni invalide nel dataset ed eventualmente rimuoverli/e\n",
    "* calcolare le seguenti statistiche\n",
    "    * distribuzione dei blocchi: numero di transazioni per ogni blocco, considerando l'intero periodo di tempo e per mese\n",
    "    * distribuzione delle fee spese in ogni transazione nell'intero periodo\n",
    "    * quanti UXTO esistono, al momento del mining dell'ultimo blocco del data set?\n",
    "    * quale è l'UXTO a cui è associato il valore più alto?\n",
    "    * trovare tutte le transazioni generate tra due date\n",
    "* proporre almeno una analisi non compresa tra le precedenti"
   ]
  }
 ],
 "metadata": {
  "celltoolbar": "Slideshow",
  "kernelspec": {
   "display_name": "Python 3 (ipykernel)",
   "language": "python",
   "name": "python3"
  },
  "language_info": {
   "codemirror_mode": {
    "name": "ipython",
    "version": 3
   },
   "file_extension": ".py",
   "mimetype": "text/x-python",
   "name": "python",
   "nbconvert_exporter": "python",
   "pygments_lexer": "ipython3",
   "version": "3.8.10"
  }
 },
 "nbformat": 4,
 "nbformat_minor": 5
}
