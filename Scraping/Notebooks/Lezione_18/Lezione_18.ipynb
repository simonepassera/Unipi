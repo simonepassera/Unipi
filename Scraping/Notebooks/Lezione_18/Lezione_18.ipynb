{
 "cells": [
  {
   "cell_type": "markdown",
   "id": "23d6e3e5",
   "metadata": {
    "slideshow": {
     "slide_type": "slide"
    }
   },
   "source": [
    "#### <h1><center> WebScraping </h1>\n",
    "<h1><center> Anno Accademico 2022-2023 </h1>\n",
    "<h1><center>  Docente: Laura Ricci </h1>\n",
    "<h1><center>  Lezione 21 </h1>\n",
    "<h1><center>  Web scraping e Web Crawling</h1> \n",
    "<h1><center> 12 Aprile 2023 </h1>"
   ]
  },
  {
   "cell_type": "markdown",
   "id": "86dd9d33",
   "metadata": {
    "slideshow": {
     "slide_type": "slide"
    }
   },
   "source": [
    "# Web Scraping o Web Crawling?"
   ]
  },
  {
   "cell_type": "markdown",
   "id": "9f1c3162",
   "metadata": {
    "slideshow": {
     "slide_type": "fragment"
    }
   },
   "source": [
    "* i termini **Web Scraping** e **Web Crawling** sono spesso utilizzati in modo intercambiabile\n",
    "\n",
    "* in effetti, le due tecniche condividono diverse caratteristiche, ma sono diverse\n",
    "\n",
    "* **Web Scraping**\n",
    "    * estrazione di dati da una pagina web o anche da più pagine di un sito web\n",
    "    * generalmente si individua a priori un insieme di pagine da cui si vuole estrarre informazione, per poi analizzarla\n",
    "    * esempio\n",
    "        * una azienda vuole fare ricerche di mercato per lanciare un nuovo prodotto, ad esempio un nuovo laptop\n",
    "        * estrae da **Amazon** la lista dei laptop sul mercato con il relativo prezzo, per capire come posizionarsi\n",
    "          sul mercato\n",
    "        * non limitato ad una pagina, ma ad un insieme di pagine ben determinato\n",
    "        \n",
    "* **Web crawling**\n",
    "    * utilizza **bots** o **spiders** per leggere tutto il contenuto di un sito web e/o di più siti web\n",
    "    * in genere utilizzato per indicizzare il contenuto di un sito web\n",
    "    * utilizzato dai search engines (**Google**, **Bing**,...)"
   ]
  },
  {
   "cell_type": "markdown",
   "id": "225f16d9",
   "metadata": {
    "slideshow": {
     "slide_type": "slide"
    }
   },
   "source": [
    "# Web Scraping: rating Game of Thrones"
   ]
  },
  {
   "cell_type": "markdown",
   "id": "e75fb452",
   "metadata": {
    "slideshow": {
     "slide_type": "fragment"
    }
   },
   "source": [
    "* accedere alla seguente pagina web: https://www.imdb.com/title/tt0944947/episodes\n",
    "\n",
    "* effettuare lo scraping della pagina \n",
    "    * reperire il rating di ogni episodio di ogni stagione della serie **\"Game of Thrones\"**\n",
    " \n",
    "* plottare un barplot in cui si mettono a confronto le valutazione date dagli utenti ai vari episodi di ogni stagione\n",
    "\n",
    "* si può definire un processo di **web scraping**, perchè \n",
    "    * l'insieme delle pagine è ben definito\n",
    "    * lo scopo è l'analisi di alcune pagine, non la loro indicizzazione\n",
    "\n",
    "* tuttavia si utilizza di fatto un **bot** che visita tutte le pagine automaticamante"
   ]
  },
  {
   "cell_type": "markdown",
   "id": "514385af",
   "metadata": {
    "slideshow": {
     "slide_type": "slide"
    }
   },
   "source": [
    "# Web Scraping: rating Game of Thrones"
   ]
  },
  {
   "cell_type": "markdown",
   "id": "ab59bf70",
   "metadata": {
    "slideshow": {
     "slide_type": "fragment"
    }
   },
   "source": [
    "<center>\n",
    "<img src=\"Figures/GOTEpisodes.jpg\" style=\"width:700px;height:600px;\"/>"
   ]
  },
  {
   "cell_type": "markdown",
   "id": "5f7454ba",
   "metadata": {
    "slideshow": {
     "slide_type": "slide"
    }
   },
   "source": [
    "# Web Scraping: rating Game of Thrones"
   ]
  },
  {
   "cell_type": "markdown",
   "id": "2cdec650",
   "metadata": {
    "slideshow": {
     "slide_type": "fragment"
    }
   },
   "source": [
    "* primo passo: individuare la struttura delle **URL** corrispondenti alle diverse pagine web\n",
    "    * https://www.imdb.com/title/tt0944947/episodes?season=4\n",
    "* ricordiamo i parametri generali di una **URL**\n",
    "<center>\n",
    "<img src=\"Figures/URL.jpg\" style=\"width:1000px;height:100px;\"/>\n",
    "* la nostra **URL** contiene un parametro **season** che consente di individuare la pagina corrispondente ad ogni stagione"
   ]
  },
  {
   "cell_type": "markdown",
   "id": "f3e7a41a",
   "metadata": {
    "slideshow": {
     "slide_type": "slide"
    }
   },
   "source": [
    "# Web Scraping: rating Game of Thrones"
   ]
  },
  {
   "cell_type": "code",
   "execution_count": null,
   "id": "dd17996b",
   "metadata": {
    "slideshow": {
     "slide_type": "fragment"
    }
   },
   "outputs": [],
   "source": [
    "import requests\n",
    "from bs4 import BeautifulSoup\n",
    "url = 'http://www.imdb.com/title/tt0944947/episodes'\n",
    "episodes = []\n",
    "ratings = []\n",
    "# Iterare su tutte le stagioni di GOT\n",
    "for season in range(1, 8):\n",
    "    r = requests.get(url, params={'season': season})\n",
    "    print (r.request.url)\n",
    "    print(r)\n",
    "    "
   ]
  },
  {
   "cell_type": "markdown",
   "id": "2ce6235d",
   "metadata": {
    "slideshow": {
     "slide_type": "fragment"
    }
   },
   "source": [
    "* si costruisce la **parte fissa** della **URL**\n",
    "* si specifica,  tra i parametri della **get**, il parametro **season**\n",
    "    * verificare la **URL** creata dalla libreria \n",
    "        * ```print (r.request.url)```"
   ]
  },
  {
   "cell_type": "markdown",
   "id": "0cc75f6a",
   "metadata": {
    "slideshow": {
     "slide_type": "slide"
    }
   },
   "source": [
    "# Web Scraping: rating Game of Thrones"
   ]
  },
  {
   "cell_type": "markdown",
   "id": "9ba35809",
   "metadata": {
    "slideshow": {
     "slide_type": "fragment"
    }
   },
   "source": [
    "* primo passo: ispezionare il sorgente HTML della pagina"
   ]
  },
  {
   "cell_type": "markdown",
   "id": "3dd38d16",
   "metadata": {
    "slideshow": {
     "slide_type": "fragment"
    }
   },
   "source": [
    "<img src=\"Figures/GOTERating.jpg\" style=\"width:1000px;height:700px;\"/>"
   ]
  },
  {
   "cell_type": "markdown",
   "id": "87b410ed",
   "metadata": {
    "slideshow": {
     "slide_type": "fragment"
    }
   },
   "source": [
    "* dall'analisi dell'**HTML** il campo che identifica il rating di ogni episodio ha classe ```ipl-rating-star_rating```\n",
    "* ma occorre fare attenzione: ci sono altri elementi identificati da questa classe nel documento?\n",
    "* proviamo a stampare il contenuto di tutti gli elementi identificati da questa classe"
   ]
  },
  {
   "cell_type": "markdown",
   "id": "b7937117",
   "metadata": {
    "slideshow": {
     "slide_type": "slide"
    }
   },
   "source": [
    "# Web Scraping: rating Game of Thrones"
   ]
  },
  {
   "cell_type": "code",
   "execution_count": null,
   "id": "50d969a4",
   "metadata": {
    "slideshow": {
     "slide_type": "fragment"
    }
   },
   "outputs": [],
   "source": [
    "import requests\n",
    "from bs4 import BeautifulSoup\n",
    "url = 'http://www.imdb.com/title/tt0944947/episodes'\n",
    "episodes = []\n",
    "ratings = []\n",
    "# Iterariamo solo sulla prima stagione, per provare\n",
    "for season in range(1, 2):\n",
    "    r = requests.get(url, params={'season': season})\n",
    "    # scraping\n",
    "    soup = BeautifulSoup(r.text, 'html.parser')\n",
    "    for el in soup.findAll(class_='ipl-rating-star__rating'):\n",
    "        print(\"**********\")\n",
    "        print(el.get_text())\n",
    "  "
   ]
  },
  {
   "cell_type": "markdown",
   "id": "c1993c1d",
   "metadata": {
    "slideshow": {
     "slide_type": "fragment"
    }
   },
   "source": [
    "* oltre ai rating vengono stampate parecchia altre informazioni\n",
    "    * ```ipl-rating-star_rating``` non identifica univocamente i rating\n",
    "* occorre restringere il contesto in cui si ricerca un oggetto di quella classe"
   ]
  },
  {
   "cell_type": "markdown",
   "id": "42e56370",
   "metadata": {
    "slideshow": {
     "slide_type": "slide"
    }
   },
   "source": [
    "# Web Scraping: rating Game of Thrones"
   ]
  },
  {
   "cell_type": "markdown",
   "id": "2c2f067b",
   "metadata": {
    "slideshow": {
     "slide_type": "fragment"
    }
   },
   "source": [
    "<img src=\"Figures/GOTERating1.jpg\" style=\"width:1000px;height:600px;\"/>"
   ]
  },
  {
   "cell_type": "markdown",
   "id": "886df860",
   "metadata": {
    "slideshow": {
     "slide_type": "fragment"
    }
   },
   "source": [
    "* individuiamo  prima il tag ```<div>``` di classe ```ipl-rating-star small```\n",
    "* all'interno dello scope del tag individuato cerchiamo poi il rating dei singoli episodi\n"
   ]
  },
  {
   "cell_type": "markdown",
   "id": "00a86561",
   "metadata": {
    "slideshow": {
     "slide_type": "slide"
    }
   },
   "source": [
    "# Web Scraping: rating Game of Thrones"
   ]
  },
  {
   "cell_type": "code",
   "execution_count": 2,
   "id": "26947775",
   "metadata": {
    "slideshow": {
     "slide_type": "fragment"
    }
   },
   "outputs": [
    {
     "name": "stdout",
     "output_type": "stream",
     "text": [
      "**********\n",
      "8.9\n",
      "**********\n",
      "8.6\n",
      "**********\n",
      "8.5\n",
      "**********\n",
      "8.6\n",
      "**********\n",
      "9.0\n",
      "**********\n",
      "9.1\n",
      "**********\n",
      "9.1\n",
      "**********\n",
      "8.9\n",
      "**********\n",
      "9.6\n",
      "**********\n",
      "9.4\n"
     ]
    }
   ],
   "source": [
    "import requests\n",
    "from bs4 import BeautifulSoup\n",
    "url = 'http://www.imdb.com/title/tt0944947/episodes'\n",
    "episodes = []\n",
    "ratings = []\n",
    "# Iterariamo solo sulla prima stagioone, per provare\n",
    "for season in range(1, 2):\n",
    "    eprn=0\n",
    "    r = requests.get(url, params={'season': season})\n",
    "    # scraping\n",
    "    soup = BeautifulSoup(r.text, 'html.parser') \n",
    "    for div in soup.findAll(class_='ipl-rating-star small'):\n",
    "        rating_el = div.find(class_='ipl-rating-star__rating')\n",
    "        rating = float(rating_el.get_text(strip=True))\n",
    "        print(\"**********\")\n",
    "        print(rating)\n",
    "        "
   ]
  },
  {
   "cell_type": "markdown",
   "id": "2d7c73df",
   "metadata": {
    "slideshow": {
     "slide_type": "slide"
    }
   },
   "source": [
    "# Web Scraping: rating Game of Thrones"
   ]
  },
  {
   "cell_type": "code",
   "execution_count": 3,
   "id": "97ad3bed",
   "metadata": {
    "slideshow": {
     "slide_type": "fragment"
    }
   },
   "outputs": [
    {
     "name": "stdout",
     "output_type": "stream",
     "text": [
      "Episode: 1.1 -- rating: 8.9\n",
      "Episode: 1.2 -- rating: 8.6\n",
      "Episode: 1.3 -- rating: 8.5\n",
      "Episode: 1.4 -- rating: 8.6\n",
      "Episode: 1.5 -- rating: 9.0\n",
      "Episode: 1.6 -- rating: 9.1\n",
      "Episode: 1.7 -- rating: 9.1\n",
      "Episode: 1.8 -- rating: 8.9\n",
      "Episode: 1.9 -- rating: 9.6\n",
      "Episode: 1.10 -- rating: 9.4\n",
      "**************************************\n",
      "Episode: 2.1 -- rating: 8.6\n",
      "Episode: 2.2 -- rating: 8.4\n",
      "Episode: 2.3 -- rating: 8.7\n",
      "Episode: 2.4 -- rating: 8.6\n",
      "Episode: 2.5 -- rating: 8.6\n",
      "Episode: 2.6 -- rating: 8.9\n",
      "Episode: 2.7 -- rating: 8.8\n",
      "Episode: 2.8 -- rating: 8.6\n",
      "Episode: 2.9 -- rating: 9.6\n",
      "Episode: 2.10 -- rating: 9.3\n",
      "**************************************\n",
      "Episode: 3.1 -- rating: 8.6\n",
      "Episode: 3.2 -- rating: 8.5\n",
      "Episode: 3.3 -- rating: 8.7\n",
      "Episode: 3.4 -- rating: 9.5\n",
      "Episode: 3.5 -- rating: 8.9\n",
      "Episode: 3.6 -- rating: 8.7\n",
      "Episode: 3.7 -- rating: 8.6\n",
      "Episode: 3.8 -- rating: 8.9\n",
      "Episode: 3.9 -- rating: 9.9\n",
      "Episode: 3.10 -- rating: 9.1\n",
      "**************************************\n",
      "Episode: 4.1 -- rating: 9.0\n",
      "Episode: 4.2 -- rating: 9.7\n",
      "Episode: 4.3 -- rating: 8.7\n",
      "Episode: 4.4 -- rating: 8.7\n",
      "Episode: 4.5 -- rating: 8.6\n",
      "Episode: 4.6 -- rating: 9.7\n",
      "Episode: 4.7 -- rating: 9.0\n",
      "Episode: 4.8 -- rating: 9.7\n",
      "Episode: 4.9 -- rating: 9.6\n",
      "Episode: 4.10 -- rating: 9.6\n",
      "**************************************\n",
      "Episode: 5.1 -- rating: 8.3\n",
      "Episode: 5.2 -- rating: 8.3\n",
      "Episode: 5.3 -- rating: 8.4\n",
      "Episode: 5.4 -- rating: 8.5\n",
      "Episode: 5.5 -- rating: 8.5\n",
      "Episode: 5.6 -- rating: 7.9\n",
      "Episode: 5.7 -- rating: 8.8\n",
      "Episode: 5.8 -- rating: 9.8\n",
      "Episode: 5.9 -- rating: 9.4\n",
      "Episode: 5.10 -- rating: 9.1\n",
      "**************************************\n",
      "Episode: 6.1 -- rating: 8.4\n",
      "Episode: 6.2 -- rating: 9.3\n",
      "Episode: 6.3 -- rating: 8.6\n",
      "Episode: 6.4 -- rating: 9.0\n",
      "Episode: 6.5 -- rating: 9.7\n",
      "Episode: 6.6 -- rating: 8.3\n",
      "Episode: 6.7 -- rating: 8.5\n",
      "Episode: 6.8 -- rating: 8.3\n",
      "Episode: 6.9 -- rating: 9.9\n",
      "Episode: 6.10 -- rating: 9.9\n",
      "**************************************\n",
      "Episode: 7.1 -- rating: 8.5\n",
      "Episode: 7.2 -- rating: 8.8\n",
      "Episode: 7.3 -- rating: 9.1\n",
      "Episode: 7.4 -- rating: 9.7\n",
      "Episode: 7.5 -- rating: 8.7\n",
      "Episode: 7.6 -- rating: 9.0\n",
      "Episode: 7.7 -- rating: 9.4\n",
      "**************************************\n"
     ]
    }
   ],
   "source": [
    "import requests\n",
    "from bs4 import BeautifulSoup\n",
    "url = 'http://www.imdb.com/title/tt0944947/episodes'\n",
    "episodes = []\n",
    "ratings = []\n",
    "# Iterare su tutte le stagioni di GOT\n",
    "\n",
    "for season in range(1, 8):\n",
    "    r = requests.get(url, params={'season': season})\n",
    "    # scraping\n",
    "    soup = BeautifulSoup(r.text, 'html.parser') \n",
    "    for epnr, div in  enumerate(soup.findAll(class_='ipl-rating-star small')):\n",
    "        episode = \"{}.{}\".format(season, epnr + 1)\n",
    "        rating_el = div.find(class_='ipl-rating-star__rating')\n",
    "        rating = float(rating_el.get_text(strip=True))\n",
    "        print('Episode:', episode, '-- rating:', rating)\n",
    "        episodes.append(episode)\n",
    "        ratings.append(rating)\n",
    "    print(\"**************************************\")\n"
   ]
  },
  {
   "cell_type": "markdown",
   "id": "90d731a9",
   "metadata": {
    "slideshow": {
     "slide_type": "slide"
    }
   },
   "source": [
    "# Web Scraping: rating Game of Thrones"
   ]
  },
  {
   "cell_type": "markdown",
   "id": "91874d08",
   "metadata": {
    "slideshow": {
     "slide_type": "fragment"
    }
   },
   "source": [
    "```\n",
    "   for epnr, div in  enumerate(soup.findAll(class_='ipl-rating-star small')):\n",
    "        episode = \"{}.{}\".format(season, epnr + 1)\n",
    "        rating_el = div.find(class_='ipl-rating-star__rating')\n",
    "        rating = float(rating_el.get_text(strip=True))\n",
    "        print('Episode:', episode, '-- rating:', rating)\n",
    "        episodes.append(episode)\n",
    "        ratings.append(rating)\n",
    "```"
   ]
  },
  {
   "cell_type": "markdown",
   "id": "15ec8703",
   "metadata": {
    "slideshow": {
     "slide_type": "fragment"
    }
   },
   "source": [
    "* ```enumerate()```\n",
    "  * aggiunge un indice ad ogni elemento restituito dalla ```findAll()```\n",
    "  * l'indice viene usato come indice dell'episodio di quella stagione\n",
    "* ```format```\n",
    "  * per stampare la stringa ```stagione.numero dell'episodio```"
   ]
  },
  {
   "cell_type": "markdown",
   "id": "395d49ce",
   "metadata": {
    "slideshow": {
     "slide_type": "slide"
    }
   },
   "source": [
    "# Rating Game of Thrones: plottare i risultati"
   ]
  },
  {
   "cell_type": "code",
   "execution_count": 4,
   "id": "15628ff7",
   "metadata": {
    "slideshow": {
     "slide_type": "fragment"
    }
   },
   "outputs": [
    {
     "data": {
      "image/png": "[encoded data removed]",
      "text/plain": [
       "<Figure size 640x480 with 1 Axes>"
      ]
     },
     "metadata": {},
     "output_type": "display_data"
    }
   ],
   "source": [
    "import matplotlib.pyplot as plt\n",
    "episodes = ['S' + e.split('.')[0] if int(e.split('.')[1]) == 1 else '' \\\n",
    "                                  for e in episodes]\n",
    "plt.figure()\n",
    "positions = [a*2 for a in range(len(ratings))]\n",
    "plt.bar(positions, ratings, align='center')\n",
    "plt.xticks(positions, episodes)\n",
    "plt.show()"
   ]
  },
  {
   "cell_type": "markdown",
   "id": "e6ad4b3a",
   "metadata": {
    "slideshow": {
     "slide_type": "slide"
    }
   },
   "source": [
    "# Web Crawling"
   ]
  },
  {
   "cell_type": "markdown",
   "id": "d9261f1b",
   "metadata": {
    "slideshow": {
     "slide_type": "fragment"
    }
   },
   "source": [
    "* considerare la seguente **URL**\n",
    "* ad ogni accesso vengono generale **URL** diverse, scelte casualmente\n"
   ]
  },
  {
   "cell_type": "markdown",
   "id": "fcc3bde8",
   "metadata": {
    "slideshow": {
     "slide_type": "fragment"
    }
   },
   "source": [
    "<img src=\"Figures/RandomURL1.jpg\" style=\"width:800px;height:600px;\"/>"
   ]
  },
  {
   "cell_type": "markdown",
   "id": "f309c726",
   "metadata": {
    "slideshow": {
     "slide_type": "slide"
    }
   },
   "source": [
    "# Web Crawling"
   ]
  },
  {
   "cell_type": "code",
   "execution_count": null,
   "id": "380b14f2",
   "metadata": {
    "slideshow": {
     "slide_type": "fragment"
    }
   },
   "outputs": [],
   "source": [
    "import requests\n",
    "from bs4 import BeautifulSoup\n",
    "from urllib.parse import urljoin\n",
    "\n",
    "base_url = 'http://www.webscrapingfordatascience.com/crawler/'\n",
    "links_seen = set()\n",
    "\n",
    "def visit(url, links_seen):\n",
    "    html = requests.get(url).text\n",
    "    html_soup = BeautifulSoup(html, 'html.parser')\n",
    "    links_seen.add(url)\n",
    "    for link in html_soup.find_all(\"a\"):\n",
    "        link_url = link.get('href')\n",
    "        if link_url is None:\n",
    "            continue\n",
    "        full_url = urljoin(url, link_url)\n",
    "        if full_url in links_seen:\n",
    "            continue\n",
    "        print('Found a new page:', full_url)\n",
    "        # Normally, we'd store the results here too\n",
    "        visit(full_url, links_seen)\n",
    "        \n",
    "visit(base_url, links_seen)\n"
   ]
  },
  {
   "cell_type": "markdown",
   "id": "b0568079",
   "metadata": {
    "slideshow": {
     "slide_type": "fragment"
    }
   },
   "source": [
    "* il programma precedente è un programma **ricorsivo**\n",
    "* accede a una **URL**, e individua i link ad altre **URL**\n",
    "* memorizza le pagine visitate in un **insieme**\n",
    "* attenzione all'esecuzione:\n",
    "    * dopo un pò che è in esecuzione lancia l'eccezione ```maximum recursion depth exceeded in comparison```\n",
    "    * la funzione **visit** viene chiamata ricorsivamente\n",
    "    * non c'è possibilità di **risalire nell'albero della ricorsione**, visto che ogni pagina contiene nuovi link\n",
    "* l'esempio mostra il fatto che un crawler deve specificare una opportuna condizione di fermata\n"
   ]
  },
  {
   "cell_type": "markdown",
   "id": "5face578",
   "metadata": {
    "slideshow": {
     "slide_type": "slide"
    }
   },
   "source": [
    "# Web Crawling"
   ]
  },
  {
   "cell_type": "code",
   "execution_count": 1,
   "id": "260adf61",
   "metadata": {
    "slideshow": {
     "slide_type": "fragment"
    }
   },
   "outputs": [
    {
     "name": "stdout",
     "output_type": "stream",
     "text": [
      "Now visiting: http://www.webscrapingfordatascience.com/crawler/\n",
      "1 new link(s) found\n",
      "Now visiting: http://www.webscrapingfordatascience.com/crawler/?r=d494086c12004b50f5bcaf20dcd95cec\n",
      "1 new link(s) found\n",
      "Now visiting: http://www.webscrapingfordatascience.com/crawler/?r=e290f83bb93e2bcaf2bb91b8ca370211\n",
      "1 new link(s) found\n",
      "Now visiting: http://www.webscrapingfordatascience.com/crawler/?r=6f909c2a93549f17ef5985718de3a908\n",
      "1 new link(s) found\n",
      "Now visiting: http://www.webscrapingfordatascience.com/crawler/?r=cfd36636c1ef53599ef61d19b2e4021a\n",
      "1 new link(s) found\n",
      "Now visiting: http://www.webscrapingfordatascience.com/crawler/?r=18efb3300be4965f2079cfb90cdfeeeb\n",
      "1 new link(s) found\n",
      "Now visiting: http://www.webscrapingfordatascience.com/crawler/?r=b82fe5c6249446fccec2f0511cb010fb\n",
      "1 new link(s) found\n",
      "Now visiting: http://www.webscrapingfordatascience.com/crawler/?r=6debfa9d3449e679abaa06ad79328128\n",
      "1 new link(s) found\n",
      "Now visiting: http://www.webscrapingfordatascience.com/crawler/?r=dfb756d0bc2299afd1fb161ca0ec0008\n",
      "1 new link(s) found\n",
      "Now visiting: http://www.webscrapingfordatascience.com/crawler/?r=e638a434ab3954e914821d079e1c76d6\n",
      "1 new link(s) found\n"
     ]
    }
   ],
   "source": [
    "import requests\n",
    "from bs4 import BeautifulSoup\n",
    "from urllib.parse import urljoin\n",
    "links_todo = ['http://www.webscrapingfordatascience.com/crawler/']\n",
    "links_seen = set()\n",
    "def visit(url, links_seen):\n",
    "    html = requests.get(url).text\n",
    "    html_soup = BeautifulSoup(html, 'html.parser')\n",
    "    new_links = []\n",
    "    for link in html_soup.find_all(\"a\"):\n",
    "        link_url = link.get('href')\n",
    "        if link_url is None:\n",
    "            continue\n",
    "        full_url = urljoin(url, link_url)\n",
    "        if full_url in links_seen:\n",
    "            continue\n",
    "        # Normally, we'd store the results here too\n",
    "        new_links.append(full_url)\n",
    "        return new_links\n",
    "\n",
    "visited_pages=0\n",
    "while links_todo and visited_pages<10 :\n",
    "    url_to_visit = links_todo.pop()\n",
    "    links_seen.add(url_to_visit)\n",
    "    print('Now visiting:', url_to_visit)\n",
    "    new_links = visit(url_to_visit, links_seen)\n",
    "    print(len(new_links), 'new link(s) found')\n",
    "    links_todo += new_links\n",
    "    visited_pages=visited_pages +1 "
   ]
  }
 ],
 "metadata": {
  "celltoolbar": "Slideshow",
  "kernelspec": {
   "display_name": "Python 3 (ipykernel)",
   "language": "python",
   "name": "python3"
  },
  "language_info": {
   "codemirror_mode": {
    "name": "ipython",
    "version": 3
   },
   "file_extension": ".py",
   "mimetype": "text/x-python",
   "name": "python",
   "nbconvert_exporter": "python",
   "pygments_lexer": "ipython3",
   "version": "3.8.10"
  }
 },
 "nbformat": 4,
 "nbformat_minor": 5
}
