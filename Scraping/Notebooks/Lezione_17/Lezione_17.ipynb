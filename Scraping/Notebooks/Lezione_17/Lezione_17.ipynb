{
 "cells": [
  {
   "cell_type": "markdown",
   "id": "4db4d5f3",
   "metadata": {
    "slideshow": {
     "slide_type": "slide"
    }
   },
   "source": [
    "#### <h1><center> WebScraping </h1>\n",
    "<h1><center> Anno Accademico 2022-2023 </h1>\n",
    "<h1><center>  Docente: Laura Ricci </h1>\n",
    "<h1><center>  Lezione 20 </h1>\n",
    "<h1><center>  Scale Free Networks</h1> \n",
    "<h1><center>  Correzione Analisi DataSet Bitcoin </h1>\n",
    "<h1><center> 4 Aprile 2023 </h1>"
   ]
  },
  {
   "cell_type": "markdown",
   "id": "7a9ad867",
   "metadata": {
    "slideshow": {
     "slide_type": "slide"
    }
   },
   "source": [
    "# Astrazione delle transazioni di Bitcoin: il DataSet"
   ]
  },
  {
   "cell_type": "markdown",
   "id": "31938903",
   "metadata": {
    "slideshow": {
     "slide_type": "fragment"
    }
   },
   "source": [
    "<center>\n",
    "<img src=\"Figures/BitcoinTables.jpg\" style=\"width:700px;height:600px;\"/>"
   ]
  },
  {
   "cell_type": "markdown",
   "id": "b53dbbc3",
   "metadata": {
    "slideshow": {
     "slide_type": "slide"
    }
   },
   "source": [
    "# Astrazione delle transazioni di Bitcoin: il dataset"
   ]
  },
  {
   "cell_type": "code",
   "execution_count": 1,
   "id": "4c86581e",
   "metadata": {
    "slideshow": {
     "slide_type": "fragment"
    }
   },
   "outputs": [
    {
     "data": {
      "text/html": [
       "<div>\n",
       "<style scoped>\n",
       "    .dataframe tbody tr th:only-of-type {\n",
       "        vertical-align: middle;\n",
       "    }\n",
       "\n",
       "    .dataframe tbody tr th {\n",
       "        vertical-align: top;\n",
       "    }\n",
       "\n",
       "    .dataframe thead th {\n",
       "        text-align: right;\n",
       "    }\n",
       "</style>\n",
       "<table border=\"1\" class=\"dataframe\">\n",
       "  <thead>\n",
       "    <tr style=\"text-align: right;\">\n",
       "      <th></th>\n",
       "      <th>tx_id</th>\n",
       "      <th>blk_id</th>\n",
       "    </tr>\n",
       "  </thead>\n",
       "  <tbody>\n",
       "    <tr>\n",
       "      <th>0</th>\n",
       "      <td>1</td>\n",
       "      <td>0</td>\n",
       "    </tr>\n",
       "    <tr>\n",
       "      <th>1</th>\n",
       "      <td>2</td>\n",
       "      <td>1</td>\n",
       "    </tr>\n",
       "    <tr>\n",
       "      <th>2</th>\n",
       "      <td>3</td>\n",
       "      <td>2</td>\n",
       "    </tr>\n",
       "    <tr>\n",
       "      <th>3</th>\n",
       "      <td>4</td>\n",
       "      <td>3</td>\n",
       "    </tr>\n",
       "    <tr>\n",
       "      <th>4</th>\n",
       "      <td>5</td>\n",
       "      <td>4</td>\n",
       "    </tr>\n",
       "    <tr>\n",
       "      <th>...</th>\n",
       "      <td>...</td>\n",
       "      <td>...</td>\n",
       "    </tr>\n",
       "    <tr>\n",
       "      <th>216621</th>\n",
       "      <td>216622</td>\n",
       "      <td>100016</td>\n",
       "    </tr>\n",
       "    <tr>\n",
       "      <th>216622</th>\n",
       "      <td>216623</td>\n",
       "      <td>100016</td>\n",
       "    </tr>\n",
       "    <tr>\n",
       "      <th>216623</th>\n",
       "      <td>216624</td>\n",
       "      <td>100016</td>\n",
       "    </tr>\n",
       "    <tr>\n",
       "      <th>216624</th>\n",
       "      <td>216625</td>\n",
       "      <td>100016</td>\n",
       "    </tr>\n",
       "    <tr>\n",
       "      <th>216625</th>\n",
       "      <td>216626</td>\n",
       "      <td>100017</td>\n",
       "    </tr>\n",
       "  </tbody>\n",
       "</table>\n",
       "<p>216626 rows × 2 columns</p>\n",
       "</div>"
      ],
      "text/plain": [
       "         tx_id  blk_id\n",
       "0            1       0\n",
       "1            2       1\n",
       "2            3       2\n",
       "3            4       3\n",
       "4            5       4\n",
       "...        ...     ...\n",
       "216621  216622  100016\n",
       "216622  216623  100016\n",
       "216623  216624  100016\n",
       "216624  216625  100016\n",
       "216625  216626  100017\n",
       "\n",
       "[216626 rows x 2 columns]"
      ]
     },
     "execution_count": 1,
     "metadata": {},
     "output_type": "execute_result"
    }
   ],
   "source": [
    "import pandas as pd\n",
    "import matplotlib.pyplot as mat\n",
    "import numpy as np\n",
    "\n",
    "Transactions = pd.read_csv('DataSet/Transactions.csv', names=['tx_id', 'blk_id'])\n",
    "Inputs = pd.read_csv('DataSet/Inputs.csv', names=['in_id', 'tx_id', 'sig_id', 'output_id'])\n",
    "Outputs = pd.read_csv('DataSet/Outputs.csv', names=['output_id', 'tx_id', 'pk_id', 'value'])\n",
    "\n",
    "Transactions\n"
   ]
  },
  {
   "cell_type": "markdown",
   "id": "d4e63b38",
   "metadata": {
    "slideshow": {
     "slide_type": "fragment"
    }
   },
   "source": [
    "* primo passo: osservazione del **DataSet**\n",
    "\n",
    "* una sola transazione per blocco, nei primi blocchi del **DataSet**\n",
    "   * si tratta di **Coinbase**\n",
    "   * transazioni di ricompensa al miner che ha risolto la **Proof of Work**\n",
    "   * probabilmente minate da **Nakamoto** stesso\n",
    "* gli ultimi blocchi includono più transazioni\n",
    "* numero ultima transazione >> numero dell'ultimo blocco\n",
    "   * diverse blocchi contengono molte transazioni\n",
    "   \n",
    "* **nota bene**: lo stesso nome **output_id** come identificatore di un output e come riferimento in un campo input.\n",
    "    * questo ci consentirà di effettuare il **merge** dei due dataset"
   ]
  },
  {
   "cell_type": "markdown",
   "id": "db11f174",
   "metadata": {
    "slideshow": {
     "slide_type": "slide"
    }
   },
   "source": [
    "# Astrazione delle transazioni di Bitcoin: il dataset"
   ]
  },
  {
   "cell_type": "code",
   "execution_count": 2,
   "id": "20c65167",
   "metadata": {
    "slideshow": {
     "slide_type": "fragment"
    }
   },
   "outputs": [
    {
     "data": {
      "text/html": [
       "<div>\n",
       "<style scoped>\n",
       "    .dataframe tbody tr th:only-of-type {\n",
       "        vertical-align: middle;\n",
       "    }\n",
       "\n",
       "    .dataframe tbody tr th {\n",
       "        vertical-align: top;\n",
       "    }\n",
       "\n",
       "    .dataframe thead th {\n",
       "        text-align: right;\n",
       "    }\n",
       "</style>\n",
       "<table border=\"1\" class=\"dataframe\">\n",
       "  <thead>\n",
       "    <tr style=\"text-align: right;\">\n",
       "      <th></th>\n",
       "      <th>in_id</th>\n",
       "      <th>tx_id</th>\n",
       "      <th>sig_id</th>\n",
       "      <th>output_id</th>\n",
       "    </tr>\n",
       "  </thead>\n",
       "  <tbody>\n",
       "    <tr>\n",
       "      <th>0</th>\n",
       "      <td>1</td>\n",
       "      <td>1</td>\n",
       "      <td>0</td>\n",
       "      <td>-1</td>\n",
       "    </tr>\n",
       "    <tr>\n",
       "      <th>1</th>\n",
       "      <td>2</td>\n",
       "      <td>2</td>\n",
       "      <td>0</td>\n",
       "      <td>-1</td>\n",
       "    </tr>\n",
       "    <tr>\n",
       "      <th>2</th>\n",
       "      <td>3</td>\n",
       "      <td>3</td>\n",
       "      <td>0</td>\n",
       "      <td>-1</td>\n",
       "    </tr>\n",
       "    <tr>\n",
       "      <th>3</th>\n",
       "      <td>4</td>\n",
       "      <td>4</td>\n",
       "      <td>0</td>\n",
       "      <td>-1</td>\n",
       "    </tr>\n",
       "    <tr>\n",
       "      <th>4</th>\n",
       "      <td>5</td>\n",
       "      <td>5</td>\n",
       "      <td>0</td>\n",
       "      <td>-1</td>\n",
       "    </tr>\n",
       "    <tr>\n",
       "      <th>...</th>\n",
       "      <td>...</td>\n",
       "      <td>...</td>\n",
       "      <td>...</td>\n",
       "      <td>...</td>\n",
       "    </tr>\n",
       "    <tr>\n",
       "      <th>292422</th>\n",
       "      <td>292423</td>\n",
       "      <td>216622</td>\n",
       "      <td>95854</td>\n",
       "      <td>258874</td>\n",
       "    </tr>\n",
       "    <tr>\n",
       "      <th>292423</th>\n",
       "      <td>292424</td>\n",
       "      <td>216623</td>\n",
       "      <td>161394</td>\n",
       "      <td>247315</td>\n",
       "    </tr>\n",
       "    <tr>\n",
       "      <th>292424</th>\n",
       "      <td>292425</td>\n",
       "      <td>216624</td>\n",
       "      <td>173913</td>\n",
       "      <td>263227</td>\n",
       "    </tr>\n",
       "    <tr>\n",
       "      <th>292425</th>\n",
       "      <td>292426</td>\n",
       "      <td>216625</td>\n",
       "      <td>174188</td>\n",
       "      <td>263611</td>\n",
       "    </tr>\n",
       "    <tr>\n",
       "      <th>292426</th>\n",
       "      <td>292427</td>\n",
       "      <td>216626</td>\n",
       "      <td>0</td>\n",
       "      <td>-1</td>\n",
       "    </tr>\n",
       "  </tbody>\n",
       "</table>\n",
       "<p>292427 rows × 4 columns</p>\n",
       "</div>"
      ],
      "text/plain": [
       "         in_id   tx_id  sig_id  output_id\n",
       "0            1       1       0         -1\n",
       "1            2       2       0         -1\n",
       "2            3       3       0         -1\n",
       "3            4       4       0         -1\n",
       "4            5       5       0         -1\n",
       "...        ...     ...     ...        ...\n",
       "292422  292423  216622   95854     258874\n",
       "292423  292424  216623  161394     247315\n",
       "292424  292425  216624  173913     263227\n",
       "292425  292426  216625  174188     263611\n",
       "292426  292427  216626       0         -1\n",
       "\n",
       "[292427 rows x 4 columns]"
      ]
     },
     "execution_count": 2,
     "metadata": {},
     "output_type": "execute_result"
    }
   ],
   "source": [
    "Inputs\n"
   ]
  },
  {
   "cell_type": "markdown",
   "id": "8692c9be",
   "metadata": {
    "slideshow": {
     "slide_type": "fragment"
    }
   },
   "source": [
    "* primo passo: osservazione del **DataSet**\n",
    "* nelle prime righe l'**output_id** è sempre uguale  a **-1**\n",
    "    * questo conferma che si tratta di transazioni **Coinbase**: non c'è un puntatore a una transazione precedente\n",
    "    * i bitcoin sono stati creati dal sistema, non provengono da una transazione precedente\n",
    "    * gli **in_id** corrispondono ai **tx_id**\n",
    "        * un solo input dummy per ogni transazione, non significativo (non punta a un output precedente)\n",
    "* nelle ultime righe: il numero di **in_id** > **tx_id**\n",
    "    * esisteno transazioni con più di un input, molte transazioni con un solo input"
   ]
  },
  {
   "cell_type": "markdown",
   "id": "5fdf3beb",
   "metadata": {
    "slideshow": {
     "slide_type": "slide"
    }
   },
   "source": [
    "# Astrazione delle transazioni di Bitcoin: il dataset"
   ]
  },
  {
   "cell_type": "code",
   "execution_count": 3,
   "id": "d0e4b7de",
   "metadata": {
    "slideshow": {
     "slide_type": "fragment"
    }
   },
   "outputs": [
    {
     "data": {
      "text/html": [
       "<div>\n",
       "<style scoped>\n",
       "    .dataframe tbody tr th:only-of-type {\n",
       "        vertical-align: middle;\n",
       "    }\n",
       "\n",
       "    .dataframe tbody tr th {\n",
       "        vertical-align: top;\n",
       "    }\n",
       "\n",
       "    .dataframe thead th {\n",
       "        text-align: right;\n",
       "    }\n",
       "</style>\n",
       "<table border=\"1\" class=\"dataframe\">\n",
       "  <thead>\n",
       "    <tr style=\"text-align: right;\">\n",
       "      <th></th>\n",
       "      <th>output_id</th>\n",
       "      <th>tx_id</th>\n",
       "      <th>pk_id</th>\n",
       "      <th>value</th>\n",
       "    </tr>\n",
       "  </thead>\n",
       "  <tbody>\n",
       "    <tr>\n",
       "      <th>0</th>\n",
       "      <td>1</td>\n",
       "      <td>1</td>\n",
       "      <td>1</td>\n",
       "      <td>5000000000</td>\n",
       "    </tr>\n",
       "    <tr>\n",
       "      <th>1</th>\n",
       "      <td>2</td>\n",
       "      <td>2</td>\n",
       "      <td>2</td>\n",
       "      <td>5000000000</td>\n",
       "    </tr>\n",
       "    <tr>\n",
       "      <th>2</th>\n",
       "      <td>3</td>\n",
       "      <td>3</td>\n",
       "      <td>3</td>\n",
       "      <td>5000000000</td>\n",
       "    </tr>\n",
       "    <tr>\n",
       "      <th>3</th>\n",
       "      <td>4</td>\n",
       "      <td>4</td>\n",
       "      <td>4</td>\n",
       "      <td>5000000000</td>\n",
       "    </tr>\n",
       "    <tr>\n",
       "      <th>4</th>\n",
       "      <td>5</td>\n",
       "      <td>5</td>\n",
       "      <td>5</td>\n",
       "      <td>5000000000</td>\n",
       "    </tr>\n",
       "    <tr>\n",
       "      <th>...</th>\n",
       "      <td>...</td>\n",
       "      <td>...</td>\n",
       "      <td>...</td>\n",
       "      <td>...</td>\n",
       "    </tr>\n",
       "    <tr>\n",
       "      <th>264305</th>\n",
       "      <td>264306</td>\n",
       "      <td>216623</td>\n",
       "      <td>174700</td>\n",
       "      <td>1000000</td>\n",
       "    </tr>\n",
       "    <tr>\n",
       "      <th>264306</th>\n",
       "      <td>264307</td>\n",
       "      <td>216623</td>\n",
       "      <td>174701</td>\n",
       "      <td>299000000</td>\n",
       "    </tr>\n",
       "    <tr>\n",
       "      <th>264307</th>\n",
       "      <td>264308</td>\n",
       "      <td>216624</td>\n",
       "      <td>167815</td>\n",
       "      <td>1000000</td>\n",
       "    </tr>\n",
       "    <tr>\n",
       "      <th>264308</th>\n",
       "      <td>264309</td>\n",
       "      <td>216625</td>\n",
       "      <td>174695</td>\n",
       "      <td>1200000</td>\n",
       "    </tr>\n",
       "    <tr>\n",
       "      <th>264309</th>\n",
       "      <td>264310</td>\n",
       "      <td>216626</td>\n",
       "      <td>174701</td>\n",
       "      <td>5000000000</td>\n",
       "    </tr>\n",
       "  </tbody>\n",
       "</table>\n",
       "<p>264310 rows × 4 columns</p>\n",
       "</div>"
      ],
      "text/plain": [
       "        output_id   tx_id   pk_id       value\n",
       "0               1       1       1  5000000000\n",
       "1               2       2       2  5000000000\n",
       "2               3       3       3  5000000000\n",
       "3               4       4       4  5000000000\n",
       "4               5       5       5  5000000000\n",
       "...           ...     ...     ...         ...\n",
       "264305     264306  216623  174700     1000000\n",
       "264306     264307  216623  174701   299000000\n",
       "264307     264308  216624  167815     1000000\n",
       "264308     264309  216625  174695     1200000\n",
       "264309     264310  216626  174701  5000000000\n",
       "\n",
       "[264310 rows x 4 columns]"
      ]
     },
     "execution_count": 3,
     "metadata": {},
     "output_type": "execute_result"
    }
   ],
   "source": [
    "Outputs\n"
   ]
  },
  {
   "cell_type": "markdown",
   "id": "962e6ec2",
   "metadata": {
    "slideshow": {
     "slide_type": "fragment"
    }
   },
   "source": [
    "* primo passo: osservazione del **DataSet**\n",
    "\n",
    "* le prime transazioni contengono un solo output\n",
    "  * l'output corrisponde alla ricompensa data ai miners\n",
    "  * inizialmente era di 5000000000 Satoshi = 50 BTC, poi dimezzata ogni 4 anni\n",
    "* nelle ultime righe il numero di **output_id** > **tx_id**\n",
    "  * esistono transazioni con output multipli\n",
    "  * ad esempio la transazione <code> 216623 </code>  ha due output diversi"
   ]
  },
  {
   "cell_type": "markdown",
   "id": "cb6f79b6",
   "metadata": {
    "slideshow": {
     "slide_type": "slide"
    }
   },
   "source": [
    "# Analisi delle transazioni: calcolo delle fee"
   ]
  },
  {
   "cell_type": "markdown",
   "id": "2c5a5ccd",
   "metadata": {
    "slideshow": {
     "slide_type": "fragment"
    }
   },
   "source": [
    "* calcolare la distribuzione delle fee spese in ogni transazione nell'intero periodo contenuto nel **DataSet**\n",
    "    * considerare tutte le transzioni, a parte le **CoinBase**\n",
    "* calcolo delle fees per ogni transazione\n",
    "   <center>\n",
    "    $ \\sum (input) - \\sum (output)$\n",
    "    </center>\n",
    "    \n",
    "  dove **input** e **output** sono i valori in input e output della transazione\n",
    "* calcoliamo la somma dei **valori in input** e quella dei **valori in output** separatamente\n",
    "    * somma dei valori in output di una transazione\n",
    "        * <code> group_by </code> su <code> Output </code> in base a <code> tx_id </code>\n",
    "    * somma dei valori in input di una transazione\n",
    "        * i valori in input di una transazione sono contenuti nel precedente **UTXO**\n",
    "        * occorre fare un merge tra <code> Input </code> e <code> Output </code> su <code> output_id </code> \n",
    "        * attenzione a non confondere i <code> tx_id </code> in  <code> Output </code> e quello in <code> Input </code> quando si fa la merge!\n",
    "            * per il calcolo delle fee, interessa <code> tx_id </code>  di  <code> Input </code>!\n"
   ]
  },
  {
   "cell_type": "markdown",
   "id": "d41deb88",
   "metadata": {
    "slideshow": {
     "slide_type": "slide"
    }
   },
   "source": [
    "# Analisi delle transazioni: calcolo valore in output di ogni transazione"
   ]
  },
  {
   "cell_type": "code",
   "execution_count": 63,
   "id": "a2d1cc24",
   "metadata": {
    "slideshow": {
     "slide_type": "fragment"
    }
   },
   "outputs": [
    {
     "data": {
      "text/html": [
       "<div>\n",
       "<style scoped>\n",
       "    .dataframe tbody tr th:only-of-type {\n",
       "        vertical-align: middle;\n",
       "    }\n",
       "\n",
       "    .dataframe tbody tr th {\n",
       "        vertical-align: top;\n",
       "    }\n",
       "\n",
       "    .dataframe thead th {\n",
       "        text-align: right;\n",
       "    }\n",
       "</style>\n",
       "<table border=\"1\" class=\"dataframe\">\n",
       "  <thead>\n",
       "    <tr style=\"text-align: right;\">\n",
       "      <th></th>\n",
       "      <th>tx_id</th>\n",
       "      <th>value</th>\n",
       "    </tr>\n",
       "  </thead>\n",
       "  <tbody>\n",
       "    <tr>\n",
       "      <th>0</th>\n",
       "      <td>1</td>\n",
       "      <td>5000000000</td>\n",
       "    </tr>\n",
       "    <tr>\n",
       "      <th>1</th>\n",
       "      <td>2</td>\n",
       "      <td>5000000000</td>\n",
       "    </tr>\n",
       "    <tr>\n",
       "      <th>2</th>\n",
       "      <td>3</td>\n",
       "      <td>5000000000</td>\n",
       "    </tr>\n",
       "    <tr>\n",
       "      <th>3</th>\n",
       "      <td>4</td>\n",
       "      <td>5000000000</td>\n",
       "    </tr>\n",
       "    <tr>\n",
       "      <th>4</th>\n",
       "      <td>5</td>\n",
       "      <td>5000000000</td>\n",
       "    </tr>\n",
       "    <tr>\n",
       "      <th>...</th>\n",
       "      <td>...</td>\n",
       "      <td>...</td>\n",
       "    </tr>\n",
       "    <tr>\n",
       "      <th>216621</th>\n",
       "      <td>216622</td>\n",
       "      <td>5000000000</td>\n",
       "    </tr>\n",
       "    <tr>\n",
       "      <th>216622</th>\n",
       "      <td>216623</td>\n",
       "      <td>300000000</td>\n",
       "    </tr>\n",
       "    <tr>\n",
       "      <th>216623</th>\n",
       "      <td>216624</td>\n",
       "      <td>1000000</td>\n",
       "    </tr>\n",
       "    <tr>\n",
       "      <th>216624</th>\n",
       "      <td>216625</td>\n",
       "      <td>1200000</td>\n",
       "    </tr>\n",
       "    <tr>\n",
       "      <th>216625</th>\n",
       "      <td>216626</td>\n",
       "      <td>5000000000</td>\n",
       "    </tr>\n",
       "  </tbody>\n",
       "</table>\n",
       "<p>216626 rows × 2 columns</p>\n",
       "</div>"
      ],
      "text/plain": [
       "         tx_id       value\n",
       "0            1  5000000000\n",
       "1            2  5000000000\n",
       "2            3  5000000000\n",
       "3            4  5000000000\n",
       "4            5  5000000000\n",
       "...        ...         ...\n",
       "216621  216622  5000000000\n",
       "216622  216623   300000000\n",
       "216623  216624     1000000\n",
       "216624  216625     1200000\n",
       "216625  216626  5000000000\n",
       "\n",
       "[216626 rows x 2 columns]"
      ]
     },
     "execution_count": 63,
     "metadata": {},
     "output_type": "execute_result"
    }
   ],
   "source": [
    "# elimino la colonna relativa allo script di firma, inutile\n",
    "\n",
    "Out=Outputs.drop(['pk_id'], axis=\"columns\")\n",
    "\n",
    "# raggruppo gli output per transazione \n",
    "# ogni gruppo comprende gli output di una transazione\n",
    "# aggrego, sommando per calcolare la somma degli output uscenti di ogni transazione\n",
    "\n",
    "OutTrans = Out.groupby('tx_id')['value'].sum().reset_index()  \n",
    "OutTrans\n",
    "\n"
   ]
  },
  {
   "cell_type": "markdown",
   "id": "d2518e4c",
   "metadata": {
    "slideshow": {
     "slide_type": "fragment"
    }
   },
   "source": [
    "* il campo **pk_id** non è utile per questa analisi, riguarda lo script per la verifica della firma\n",
    "    * eliminiamo la colonna corrispondente dal **DataSet**\n",
    "* **drop** rimuove una colonna o una riga specifica\n",
    "    * **axis** specifica se si vuole eliminare una colonna o una riga\n",
    "        * **axis=\"columns\"** - colonna\n",
    "        * **axis=\"index\"** - riga\n",
    "    * la colonna viene eliminata nel nuovo dataset creato, non in quello originale\n"
   ]
  },
  {
   "cell_type": "markdown",
   "id": "dddcf3b5",
   "metadata": {
    "slideshow": {
     "slide_type": "slide"
    }
   },
   "source": [
    "# Analisi delle transazioni: calcolo valore in input di ogni transazione"
   ]
  },
  {
   "cell_type": "markdown",
   "id": "f065e0eb",
   "metadata": {
    "slideshow": {
     "slide_type": "fragment"
    }
   },
   "source": [
    "* il problema della determinazione dei valori in input è più complesso, perchè\n",
    "    * il valore di un input di una transazione si trova in un **Unspent Transaction Output (UTXO)** di una transazione precedente\n",
    "    * <code> group_by </code> non è sufficiente,  ora serve collegare due diverse transazioni, quella che genera l'**UTXO**, e quella che lo spende\n",
    "        * si utilizza una <code> merge </code>\n",
    "    "
   ]
  },
  {
   "cell_type": "code",
   "execution_count": 5,
   "id": "9dbc8fff",
   "metadata": {
    "slideshow": {
     "slide_type": "fragment"
    }
   },
   "outputs": [
    {
     "data": {
      "text/html": [
       "<div>\n",
       "<style scoped>\n",
       "    .dataframe tbody tr th:only-of-type {\n",
       "        vertical-align: middle;\n",
       "    }\n",
       "\n",
       "    .dataframe tbody tr th {\n",
       "        vertical-align: top;\n",
       "    }\n",
       "\n",
       "    .dataframe thead th {\n",
       "        text-align: right;\n",
       "    }\n",
       "</style>\n",
       "<table border=\"1\" class=\"dataframe\">\n",
       "  <thead>\n",
       "    <tr style=\"text-align: right;\">\n",
       "      <th></th>\n",
       "      <th>in_id</th>\n",
       "      <th>tx_id</th>\n",
       "      <th>output_id</th>\n",
       "      <th>value</th>\n",
       "    </tr>\n",
       "  </thead>\n",
       "  <tbody>\n",
       "    <tr>\n",
       "      <th>0</th>\n",
       "      <td>172</td>\n",
       "      <td>172</td>\n",
       "      <td>10</td>\n",
       "      <td>5000000000</td>\n",
       "    </tr>\n",
       "    <tr>\n",
       "      <th>1</th>\n",
       "      <td>184</td>\n",
       "      <td>184</td>\n",
       "      <td>173</td>\n",
       "      <td>4000000000</td>\n",
       "    </tr>\n",
       "    <tr>\n",
       "      <th>2</th>\n",
       "      <td>186</td>\n",
       "      <td>186</td>\n",
       "      <td>186</td>\n",
       "      <td>3000000000</td>\n",
       "    </tr>\n",
       "    <tr>\n",
       "      <th>3</th>\n",
       "      <td>188</td>\n",
       "      <td>188</td>\n",
       "      <td>189</td>\n",
       "      <td>2900000000</td>\n",
       "    </tr>\n",
       "    <tr>\n",
       "      <th>4</th>\n",
       "      <td>193</td>\n",
       "      <td>193</td>\n",
       "      <td>191</td>\n",
       "      <td>100000000</td>\n",
       "    </tr>\n",
       "    <tr>\n",
       "      <th>...</th>\n",
       "      <td>...</td>\n",
       "      <td>...</td>\n",
       "      <td>...</td>\n",
       "      <td>...</td>\n",
       "    </tr>\n",
       "    <tr>\n",
       "      <th>192403</th>\n",
       "      <td>292419</td>\n",
       "      <td>216618</td>\n",
       "      <td>264284</td>\n",
       "      <td>13836000000</td>\n",
       "    </tr>\n",
       "    <tr>\n",
       "      <th>192404</th>\n",
       "      <td>292423</td>\n",
       "      <td>216622</td>\n",
       "      <td>258874</td>\n",
       "      <td>5000000000</td>\n",
       "    </tr>\n",
       "    <tr>\n",
       "      <th>192405</th>\n",
       "      <td>292424</td>\n",
       "      <td>216623</td>\n",
       "      <td>247315</td>\n",
       "      <td>300000000</td>\n",
       "    </tr>\n",
       "    <tr>\n",
       "      <th>192406</th>\n",
       "      <td>292425</td>\n",
       "      <td>216624</td>\n",
       "      <td>263227</td>\n",
       "      <td>1000000</td>\n",
       "    </tr>\n",
       "    <tr>\n",
       "      <th>192407</th>\n",
       "      <td>292426</td>\n",
       "      <td>216625</td>\n",
       "      <td>263611</td>\n",
       "      <td>5000000</td>\n",
       "    </tr>\n",
       "  </tbody>\n",
       "</table>\n",
       "<p>192408 rows × 4 columns</p>\n",
       "</div>"
      ],
      "text/plain": [
       "         in_id   tx_id  output_id        value\n",
       "0          172     172         10   5000000000\n",
       "1          184     184        173   4000000000\n",
       "2          186     186        186   3000000000\n",
       "3          188     188        189   2900000000\n",
       "4          193     193        191    100000000\n",
       "...        ...     ...        ...          ...\n",
       "192403  292419  216618     264284  13836000000\n",
       "192404  292423  216622     258874   5000000000\n",
       "192405  292424  216623     247315    300000000\n",
       "192406  292425  216624     263227      1000000\n",
       "192407  292426  216625     263611      5000000\n",
       "\n",
       "[192408 rows x 4 columns]"
      ]
     },
     "execution_count": 5,
     "metadata": {},
     "output_type": "execute_result"
    }
   ],
   "source": [
    "Inp = Inputs.drop(['sig_id'] , axis=1)\n",
    "Out = Outputs.drop(['tx_id', 'pk_id'], axis=1)\n",
    "InpValues = pd.merge(Inp, Out, on='output_id')\n",
    "InpValues\n"
   ]
  },
  {
   "cell_type": "markdown",
   "id": "5899f76a",
   "metadata": {
    "slideshow": {
     "slide_type": "fragment"
    }
   },
   "source": [
    "* drop: elimina i campi non importanti per questa analisi\n",
    "    * nota bene: si elimina **tx_id** dal DataSet degli **Output**, perchè non interessa l'indice della transazione che produce l'**UTXO**, ma di quella che consuma gli output della transazione precednete\n",
    "* merge\n",
    "    * come una **inner join** sui due **DataFrame**\n",
    "    * combina le righe con valore comune dell'attributo **output_id**\n",
    "    * ogni input viene collegato all'output di una transazione precedente, di cui spende il valore\n",
    "* analizziamo la riga <code> 192403 </code>\n",
    "```\n",
    "292419 216618 264284 13836000000\n",
    "```\n",
    "\n",
    "    * la transazione <code> 216618 </code>ha un input di indice <code> 292419</code>  che \"consuma un output precedente\" di indice <code> 264284</code>  di valore <code> 13836000000</code> . \n",
    "    * non interessa l'indice della transazione precedente, solo il valore in output che viene speso nell'input della transazione <code> 216618</code> \n"
   ]
  },
  {
   "cell_type": "markdown",
   "id": "33615854",
   "metadata": {
    "slideshow": {
     "slide_type": "slide"
    }
   },
   "source": [
    "# Analisi delle transazioni: Coinbase"
   ]
  },
  {
   "cell_type": "markdown",
   "id": "b7ab6f14",
   "metadata": {
    "slideshow": {
     "slide_type": "fragment"
    }
   },
   "source": [
    "* la procedura precedente non considera le **Coinbase**\n",
    "* cosa è una **Coinbase**?\n",
    "    * la prima transazione in ogni blocco della blockchain\n",
    "    * utilizzata per inviare la ricompensa al miner che ha minato quel blocco\n",
    "* il formato è lo stesso delle altre transazioni eccetto che\n",
    "    * ha esattamente un input\n",
    "    * quell'input non punta ad un **UXTO** precedente e non contiene un dato significativo\n",
    "    * può contenere messaggia arbitrari\n",
    "        * il messaggio di **Nakamoto** nella prima Coinbase: *“The Times 03/Jan/2009 Chancellor on brink of second bailout for banks\"*\n",
    "    * non ha fee, perchè le transazioni sono inserite nel blocco dal moner stesso\n",
    "* gli output della transazione\n",
    "    * possono essere in numero arbitrario\n",
    "    * uno o più indirizzi del miner\n",
    "    * la somma dei valori in output non può superare la somma della ricompensa data al miner con le fee di tutte le transazioni di quel blocco.\n"
   ]
  },
  {
   "cell_type": "markdown",
   "id": "06b3e3b1",
   "metadata": {
    "slideshow": {
     "slide_type": "slide"
    }
   },
   "source": [
    "# Analisi delle transazioni: Coinbase"
   ]
  },
  {
   "cell_type": "markdown",
   "id": "d0d74570",
   "metadata": {
    "slideshow": {
     "slide_type": "fragment"
    }
   },
   "source": [
    "* Nel nostro DataSet\n",
    "    * le **Coinbase** sono  transazioni che contengono un solo input\n",
    "    * quell'input ha valore **-1**\n",
    "    * il <code> sig_id </code> vale **0**\n",
    "* le coinbase non sono incluse nel risultato del <code> merge </code>, perchè non c'è corrispondenza con un precedente <code> output_id </code>\n",
    "* verifichiamolo!"
   ]
  },
  {
   "cell_type": "code",
   "execution_count": 6,
   "id": "fba73c26",
   "metadata": {
    "slideshow": {
     "slide_type": "fragment"
    }
   },
   "outputs": [
    {
     "name": "stdout",
     "output_type": "stream",
     "text": [
      "Empty DataFrame\n",
      "Columns: [in_id, tx_id, output_id, value]\n",
      "Index: []\n"
     ]
    }
   ],
   "source": [
    "print(InpValues.loc[InpValues[\"output_id\"]==-1])"
   ]
  },
  {
   "cell_type": "markdown",
   "id": "72644aeb",
   "metadata": {
    "slideshow": {
     "slide_type": "slide"
    }
   },
   "source": [
    "# Analisi delle transazioni: calcolo valore in input di ogni transazione"
   ]
  },
  {
   "cell_type": "code",
   "execution_count": 7,
   "id": "93ae89b7",
   "metadata": {
    "slideshow": {
     "slide_type": "fragment"
    }
   },
   "outputs": [
    {
     "data": {
      "text/html": [
       "<div>\n",
       "<style scoped>\n",
       "    .dataframe tbody tr th:only-of-type {\n",
       "        vertical-align: middle;\n",
       "    }\n",
       "\n",
       "    .dataframe tbody tr th {\n",
       "        vertical-align: top;\n",
       "    }\n",
       "\n",
       "    .dataframe thead th {\n",
       "        text-align: right;\n",
       "    }\n",
       "</style>\n",
       "<table border=\"1\" class=\"dataframe\">\n",
       "  <thead>\n",
       "    <tr style=\"text-align: right;\">\n",
       "      <th></th>\n",
       "      <th>tx_id</th>\n",
       "      <th>value_to_be_spent</th>\n",
       "    </tr>\n",
       "  </thead>\n",
       "  <tbody>\n",
       "    <tr>\n",
       "      <th>0</th>\n",
       "      <td>172</td>\n",
       "      <td>5000000000</td>\n",
       "    </tr>\n",
       "    <tr>\n",
       "      <th>1</th>\n",
       "      <td>184</td>\n",
       "      <td>4000000000</td>\n",
       "    </tr>\n",
       "    <tr>\n",
       "      <th>2</th>\n",
       "      <td>186</td>\n",
       "      <td>3000000000</td>\n",
       "    </tr>\n",
       "    <tr>\n",
       "      <th>3</th>\n",
       "      <td>188</td>\n",
       "      <td>2900000000</td>\n",
       "    </tr>\n",
       "    <tr>\n",
       "      <th>4</th>\n",
       "      <td>193</td>\n",
       "      <td>100000000</td>\n",
       "    </tr>\n",
       "    <tr>\n",
       "      <th>...</th>\n",
       "      <td>...</td>\n",
       "      <td>...</td>\n",
       "    </tr>\n",
       "    <tr>\n",
       "      <th>116602</th>\n",
       "      <td>216618</td>\n",
       "      <td>13836000000</td>\n",
       "    </tr>\n",
       "    <tr>\n",
       "      <th>116603</th>\n",
       "      <td>216622</td>\n",
       "      <td>5000000000</td>\n",
       "    </tr>\n",
       "    <tr>\n",
       "      <th>116604</th>\n",
       "      <td>216623</td>\n",
       "      <td>300000000</td>\n",
       "    </tr>\n",
       "    <tr>\n",
       "      <th>116605</th>\n",
       "      <td>216624</td>\n",
       "      <td>1000000</td>\n",
       "    </tr>\n",
       "    <tr>\n",
       "      <th>116606</th>\n",
       "      <td>216625</td>\n",
       "      <td>5000000</td>\n",
       "    </tr>\n",
       "  </tbody>\n",
       "</table>\n",
       "<p>116607 rows × 2 columns</p>\n",
       "</div>"
      ],
      "text/plain": [
       "         tx_id  value_to_be_spent\n",
       "0          172         5000000000\n",
       "1          184         4000000000\n",
       "2          186         3000000000\n",
       "3          188         2900000000\n",
       "4          193          100000000\n",
       "...        ...                ...\n",
       "116602  216618        13836000000\n",
       "116603  216622         5000000000\n",
       "116604  216623          300000000\n",
       "116605  216624            1000000\n",
       "116606  216625            5000000\n",
       "\n",
       "[116607 rows x 2 columns]"
      ]
     },
     "execution_count": 7,
     "metadata": {},
     "output_type": "execute_result"
    }
   ],
   "source": [
    "InpValues.rename(columns={'in_id':'in_id', 'tx_id':'tx_id' , 'output_id':'utxo_id' , 'value':'value_to_be_spent'}, inplace=True)\n",
    "InpTrans = InpValues.groupby('tx_id')['value_to_be_spent'].sum().reset_index()\n",
    "InpTrans\n"
   ]
  },
  {
   "cell_type": "markdown",
   "id": "74033548",
   "metadata": {
    "slideshow": {
     "slide_type": "slide"
    }
   },
   "source": [
    "# Analisi delle transazioni: calcolo delle fee"
   ]
  },
  {
   "cell_type": "code",
   "execution_count": 8,
   "id": "9a578005",
   "metadata": {
    "slideshow": {
     "slide_type": "fragment"
    }
   },
   "outputs": [
    {
     "data": {
      "text/plain": [
       "(        tx_id  value_to_be_spent         value         fees\n",
       " 41817  125582            1000010       1000000           10\n",
       " 31891  108835         3994999940    3994999930           10\n",
       " 32671  110276         5001999850    5001999840           10\n",
       " 31902  108848         3993999930    3993999920           10\n",
       " 31906  108861         3992999920    3992999910           10\n",
       " ...       ...                ...           ...          ...\n",
       " 5090    60913         5000000000    4665000000    335000000\n",
       " 28386  101662       900432000000  900000000000    432000000\n",
       " 22463   92976         5000000000         29000   4999971000\n",
       " 27990  100849        20003971000   15004000000   4999971000\n",
       " 30230  105281         5000000000   -5000000000  10000000000\n",
       " \n",
       " [1301 rows x 4 columns],\n",
       "          tx_id  value_to_be_spent        value  fees\n",
       " 0          172         5000000000   5000000000     0\n",
       " 1          184         4000000000   4000000000     0\n",
       " 2          186         3000000000   3000000000     0\n",
       " 3          188         2900000000   2900000000     0\n",
       " 4          193          100000000    100000000     0\n",
       " ...        ...                ...          ...   ...\n",
       " 116601  216616         4800000000   4800000000     0\n",
       " 116602  216618        13836000000  13836000000     0\n",
       " 116603  216622         5000000000   5000000000     0\n",
       " 116604  216623          300000000    300000000     0\n",
       " 116605  216624            1000000      1000000     0\n",
       " \n",
       " [115305 rows x 4 columns],\n",
       "         tx_id  value_to_be_spent       value  fees\n",
       " 28023  100929         5000000000  5000000010   -10)"
      ]
     },
     "execution_count": 8,
     "metadata": {},
     "output_type": "execute_result"
    }
   ],
   "source": [
    "#raggruppo per indice della transazione \n",
    "#unisco i Dataframe per avere, per ogni transazione, il valore speso e il valore uscente\n",
    "\n",
    "Tx = pd.merge(InpTrans, OutTrans, on='tx_id') \n",
    "\n",
    "#aggiungo la colonna delle fees\n",
    "\n",
    "Tx['fees'] = Tx['value_to_be_spent'] - Tx['value'] \n",
    "\n",
    "TxGreter0 = Tx.loc[Tx['fees'] > 0].sort_values('fees')\n",
    "TxLessEq0 = Tx.loc[Tx['fees'] == 0]\n",
    "TxLessLess0 = Tx.loc[Tx['fees'] < 0].sort_values('fees')\n",
    "\n",
    "TxGreter0 , TxLessEq0, TxLessLess0\n"
   ]
  },
  {
   "cell_type": "markdown",
   "id": "3c1f7ae0",
   "metadata": {
    "slideshow": {
     "slide_type": "fragment"
    }
   },
   "source": [
    "* esiste una transazione con fee negativa: un errore nel Dataset"
   ]
  },
  {
   "cell_type": "code",
   "execution_count": 65,
   "id": "4bf63fed",
   "metadata": {
    "slideshow": {
     "slide_type": "slide"
    }
   },
   "outputs": [
    {
     "name": "stdout",
     "output_type": "stream",
     "text": [
      "         tx_id  value_to_be_spent        value     fees\n",
      "0          172         5000000000   5000000000        0\n",
      "1          184         4000000000   4000000000        0\n",
      "2          186         3000000000   3000000000        0\n",
      "3          188         2900000000   2900000000        0\n",
      "4          193          100000000    100000000        0\n",
      "...        ...                ...          ...      ...\n",
      "116602  216618        13836000000  13836000000        0\n",
      "116603  216622         5000000000   5000000000        0\n",
      "116604  216623          300000000    300000000        0\n",
      "116605  216624            1000000      1000000        0\n",
      "116606  216625            5000000      1200000  3800000\n",
      "\n",
      "[116606 rows x 4 columns]\n"
     ]
    },
    {
     "data": {
      "image/png": "[encoded data removed]",
      "text/plain": [
       "<Figure size 640x480 with 1 Axes>"
      ]
     },
     "metadata": {},
     "output_type": "display_data"
    }
   ],
   "source": [
    "#plotting della distribuzione delle fees con valore maggiore di 0\n",
    "Tx_Correct=Tx.loc[Tx['fees']>=0]\n",
    "print(Tx_Correct)\n",
    "X = list(Tx_Correct['tx_id'])\n",
    "mat.plot(X,Tx_Correct['fees'])\n",
    "mat.xlabel('Id transazioni che includono le fees', fontsize=13)\n",
    "mat.ylabel('Valore fees', fontsize=13)\n",
    "mat.yscale('log')\n",
    "mat.show()\n"
   ]
  },
  {
   "cell_type": "markdown",
   "id": "243243f4",
   "metadata": {
    "slideshow": {
     "slide_type": "slide"
    }
   },
   "source": [
    "# Modelli di reti: Scale Free Networks"
   ]
  },
  {
   "cell_type": "markdown",
   "id": "024d5663",
   "metadata": {
    "slideshow": {
     "slide_type": "fragment"
    }
   },
   "source": [
    "* esistono diverse reti \n",
    "    * reti sociali\n",
    "    * reti tecnologiche, come Internet\n",
    "    * reti ecologiche (preda-predatore, proteine,...)\n",
    "* che sono caratterizzate da\n",
    "    * small world \n",
    "    * high clustering\n",
    "    * con una distribuzione dei gradi dei nodi che segue una legge **power law**\n",
    "* reti con queste distribuzioni dei nodi vengono dette **scale free networks**\n",
    "* i modelli visti fino ad ora (**Erdos Renyi** e **Watts Strogatz**) non sono adatti per descrivere questa distribuzione dei nodi\n",
    "* nelle slide successive vedremo\n",
    "    * cosa è una distribuzione **power law**\n",
    "    * un nuovo modello, quello di **Barabasi Albert**, in grado di generare reti **scale free**\n"
   ]
  },
  {
   "cell_type": "markdown",
   "id": "80e06f7a",
   "metadata": {
    "slideshow": {
     "slide_type": "slide"
    }
   },
   "source": [
    "# Modelli di Reti sociali"
   ]
  },
  {
   "cell_type": "markdown",
   "id": "2d60c0dd",
   "metadata": {
    "slideshow": {
     "slide_type": "fragment"
    }
   },
   "source": [
    "* in una lezione precedente abbiamo introdotto i modelli di **Erdos Renyi(ER)** e quello di **Watts e Strogatz (WS)**\n",
    "\n",
    "* **WS**\n",
    "    * modella la caratteristica  **small world** di molte reti sociali\n",
    "    * è il modello giusto per modellare tutte le caratteristiche di una rete sociale?\n",
    "\n",
    "* analizziamo il sottoinsieme di **Facebook** che abbiamo introdotto in una lezione precedente   \n",
    "\n",
    "* vedremo che **WS** riesce a cogliere la caratteristica di **Small World** della rete sociale, ma  non riesce a modellare in modo appropriato la distribuzione dei gradi dei nodi\n",
    "\n",
    "* in particolare nella rete sociale        \n",
    "    * esiste una grande variabilità nei gradi dei nodi, non presente nelle reti generate da **WS**\n",
    "        \n",
    "* necessario introdurre un nuovo modello \n",
    "    * **Barabasi Albert Model (BA)**"
   ]
  },
  {
   "cell_type": "markdown",
   "id": "e0530432",
   "metadata": {
    "slideshow": {
     "slide_type": "slide"
    }
   },
   "source": [
    "# Il dataset di Facebook"
   ]
  },
  {
   "cell_type": "markdown",
   "id": "bbc8ac39",
   "metadata": {
    "slideshow": {
     "slide_type": "fragment"
    }
   },
   "source": [
    "* utilizziamo il dataset di **Facebook**\n",
    "    * solo le **relazioni di amicizia**\n",
    "* ricordiamo che\n",
    "    * il grafo delle amicizie è  ricavato da una rete di amicizie più grande\n",
    "    * sono stati considerati alcuni nodi iniziali e sono state considerate le **ego networks**\n",
    "    * la rete comprende la ego network di ognuno di questi nodi\n",
    "        * il nodo, i suoi amici e le relazioni di amicizia tra i suoi amici\n",
    "    * le ego networks sono state poi combinate\n",
    "    * il grafo risultante contiene un sottoinsieme di Facebook\n",
    "* a differenza del DataSet considerato nella lezione precedente\n",
    "    * i dati sono memorizzati in un **file di testo** e non in un **file csv** \n",
    "        * valori separati da uno spazio bianco\n",
    "        * questo tipo di file viene indicato in genere come **edgelist**\n",
    "    * l'identificatore di ogni nodo è un intero (gli identificatori sono stati parsati per rendere più facile l'elaborazione)"
   ]
  },
  {
   "cell_type": "markdown",
   "id": "36302c50",
   "metadata": {
    "slideshow": {
     "slide_type": "slide"
    }
   },
   "source": [
    "# Il Dataset di Facebook"
   ]
  },
  {
   "cell_type": "code",
   "execution_count": 10,
   "id": "2ef90245",
   "metadata": {
    "slideshow": {
     "slide_type": "fragment"
    }
   },
   "outputs": [
    {
     "data": {
      "text/html": [
       "<div>\n",
       "<style scoped>\n",
       "    .dataframe tbody tr th:only-of-type {\n",
       "        vertical-align: middle;\n",
       "    }\n",
       "\n",
       "    .dataframe tbody tr th {\n",
       "        vertical-align: top;\n",
       "    }\n",
       "\n",
       "    .dataframe thead th {\n",
       "        text-align: right;\n",
       "    }\n",
       "</style>\n",
       "<table border=\"1\" class=\"dataframe\">\n",
       "  <thead>\n",
       "    <tr style=\"text-align: right;\">\n",
       "      <th></th>\n",
       "      <th>FriendShipRelation</th>\n",
       "    </tr>\n",
       "  </thead>\n",
       "  <tbody>\n",
       "    <tr>\n",
       "      <th>0</th>\n",
       "      <td>0 1</td>\n",
       "    </tr>\n",
       "    <tr>\n",
       "      <th>1</th>\n",
       "      <td>0 2</td>\n",
       "    </tr>\n",
       "    <tr>\n",
       "      <th>2</th>\n",
       "      <td>0 3</td>\n",
       "    </tr>\n",
       "    <tr>\n",
       "      <th>3</th>\n",
       "      <td>0 4</td>\n",
       "    </tr>\n",
       "    <tr>\n",
       "      <th>4</th>\n",
       "      <td>0 5</td>\n",
       "    </tr>\n",
       "    <tr>\n",
       "      <th>...</th>\n",
       "      <td>...</td>\n",
       "    </tr>\n",
       "    <tr>\n",
       "      <th>88229</th>\n",
       "      <td>4026 4030</td>\n",
       "    </tr>\n",
       "    <tr>\n",
       "      <th>88230</th>\n",
       "      <td>4027 4031</td>\n",
       "    </tr>\n",
       "    <tr>\n",
       "      <th>88231</th>\n",
       "      <td>4027 4032</td>\n",
       "    </tr>\n",
       "    <tr>\n",
       "      <th>88232</th>\n",
       "      <td>4027 4038</td>\n",
       "    </tr>\n",
       "    <tr>\n",
       "      <th>88233</th>\n",
       "      <td>4031 4038</td>\n",
       "    </tr>\n",
       "  </tbody>\n",
       "</table>\n",
       "<p>88234 rows × 1 columns</p>\n",
       "</div>"
      ],
      "text/plain": [
       "      FriendShipRelation\n",
       "0                    0 1\n",
       "1                    0 2\n",
       "2                    0 3\n",
       "3                    0 4\n",
       "4                    0 5\n",
       "...                  ...\n",
       "88229          4026 4030\n",
       "88230          4027 4031\n",
       "88231          4027 4032\n",
       "88232          4027 4038\n",
       "88233          4031 4038\n",
       "\n",
       "[88234 rows x 1 columns]"
      ]
     },
     "execution_count": 10,
     "metadata": {},
     "output_type": "execute_result"
    }
   ],
   "source": [
    "import matplotlib.pyplot as plt\n",
    "import networkx as nx\n",
    "import numpy as np\n",
    "import seaborn as sns\n",
    "import pandas as pd\n",
    "pd.read_csv('DataSet/facebook_combined.txt.gz', names=['FriendShipRelation'] )\n"
   ]
  },
  {
   "cell_type": "markdown",
   "id": "6c7b74cd",
   "metadata": {
    "slideshow": {
     "slide_type": "slide"
    }
   },
   "source": [
    "* leggiamo il file come fosse un **csv**\n",
    "* identificatori di una coppia di amici considerata un solo valore\n",
    "    * non corretto: è necessario separare gli identificatori dei due amici!\n",
    "* usiamo un diverso metodo di acquisizione dei dati"
   ]
  },
  {
   "cell_type": "markdown",
   "id": "15f4dd6c",
   "metadata": {
    "slideshow": {
     "slide_type": "slide"
    }
   },
   "source": [
    "# Il Dataset di Facebook"
   ]
  },
  {
   "cell_type": "code",
   "execution_count": 11,
   "id": "130fa126",
   "metadata": {
    "slideshow": {
     "slide_type": "fragment"
    }
   },
   "outputs": [],
   "source": [
    "import matplotlib.pyplot as plt\n",
    "import networkx as nx\n",
    "import numpy as np\n",
    "import seaborn as sns \n",
    "\n",
    "# Impostiamo il seed random in modo che la funzione random produce tutte le volte lo stesso risultato\n",
    "np.random.seed(17)\n",
    "\n",
    "def read_graph(filename):\n",
    "    G = nx.Graph()\n",
    "    array = np.loadtxt(filename, dtype=int)\n",
    "    print(\"shape of data:\",array.shape)\n",
    "    print(\"datatype of data:\",array.dtype)\n",
    "    G.add_edges_from(array)\n",
    "    return G\n"
   ]
  },
  {
   "cell_type": "code",
   "execution_count": 67,
   "id": "4f549a83",
   "metadata": {
    "slideshow": {
     "slide_type": "fragment"
    }
   },
   "outputs": [
    {
     "name": "stdout",
     "output_type": "stream",
     "text": [
      "shape of data: (88234, 2)\n",
      "datatype of data: int32\n"
     ]
    },
    {
     "data": {
      "text/plain": [
       "(4039, 88234)"
      ]
     },
     "execution_count": 67,
     "metadata": {},
     "output_type": "execute_result"
    }
   ],
   "source": [
    "fb= read_graph('DataSet/facebook_combined.txt.gz')\n",
    "\n",
    "n = len(fb)\n",
    "m = len(fb.edges())\n",
    "n, m\n"
   ]
  },
  {
   "cell_type": "markdown",
   "id": "eae908ce",
   "metadata": {
    "slideshow": {
     "slide_type": "fragment"
    }
   },
   "source": [
    "<code>  array = np.loadtxt(filename, dtype=int) </code>\n",
    "  * utilizzata principalmente per leggere e scrivere **arrays** o **matrici** da **file di testo**\n",
    "  * se non indicato, il delimitatore per separare i dati è lo spazio bianco\n",
    "      * unica restrizione: ogni riga deve avere lo stesso numero di elementi\n",
    "  * <code> dtype </code> indica il tipo dei dati dell'array risultato\n",
    "  * restituisce un array n-dimensionale di <code> NumPy</code>\n",
    "      * nel nostro caso, poichè ogni riga contiene due valori l'array ha **4039** righe e **due** colonne\n",
    "     \n",
    "<code>  G.add_edges_from(array) </code>\n",
    "  * aggiunge un arco letto da un qualsasi **iterable container**\n",
    "      "
   ]
  },
  {
   "cell_type": "markdown",
   "id": "e67c7960",
   "metadata": {
    "slideshow": {
     "slide_type": "slide"
    }
   },
   "source": [
    "# Il Dataset di Facebook: analisi"
   ]
  },
  {
   "cell_type": "markdown",
   "id": "e09d5337",
   "metadata": {
    "slideshow": {
     "slide_type": "fragment"
    }
   },
   "source": [
    "* quale è il grado medio dei nodi?\n",
    "* **m**= numero archi\n",
    "* **n**= numero di nodi\n",
    "* occorre poi considerare che ogni arco incide su due nodi"
   ]
  },
  {
   "cell_type": "code",
   "execution_count": 68,
   "id": "5fd3188d",
   "metadata": {
    "slideshow": {
     "slide_type": "fragment"
    }
   },
   "outputs": [
    {
     "data": {
      "text/plain": [
       "44"
      ]
     },
     "execution_count": 68,
     "metadata": {},
     "output_type": "execute_result"
    }
   ],
   "source": [
    "k = int(round(2*m/n))\n",
    "k"
   ]
  },
  {
   "cell_type": "markdown",
   "id": "c0257a82",
   "metadata": {
    "slideshow": {
     "slide_type": "fragment"
    }
   },
   "source": [
    "* quale è il coefficente di clustering?\n",
    "* utilizziamo un **approccio approssimato**,  diverso rispetto a quello della lezione precedente, per diminuire il tempo di esecuzione\n",
    "    * **random sampling**\n",
    "    * selezione casuale di un insieme di nodi e calcolo del coefficente di clustering per i nodi di questo insieme"
   ]
  },
  {
   "cell_type": "code",
   "execution_count": 69,
   "id": "ef20d491",
   "metadata": {
    "slideshow": {
     "slide_type": "fragment"
    }
   },
   "outputs": [
    {
     "data": {
      "text/plain": [
       "0.599"
      ]
     },
     "execution_count": 69,
     "metadata": {},
     "output_type": "execute_result"
    }
   ],
   "source": [
    "from networkx.algorithms.approximation import average_clustering\n",
    "C = average_clustering(fb)\n",
    "C\n"
   ]
  },
  {
   "cell_type": "markdown",
   "id": "6596a006",
   "metadata": {
    "slideshow": {
     "slide_type": "slide"
    }
   },
   "source": [
    "# Il Dataset di Facebook: analisi"
   ]
  },
  {
   "cell_type": "markdown",
   "id": "dd98b3d4",
   "metadata": {
    "slideshow": {
     "slide_type": "fragment"
    }
   },
   "source": [
    "* adottiamo lo stesso approccio approssimato per calcolare la lunghezza media dei cammini"
   ]
  },
  {
   "cell_type": "code",
   "execution_count": 70,
   "id": "00d5b010",
   "metadata": {
    "slideshow": {
     "slide_type": "fragment"
    }
   },
   "outputs": [],
   "source": [
    "def sample_path_lengths(G, trials=1000):\n",
    "    # Scelta random di un insieme di coppie di nodi e calcolo della lunghezza dei cammini tra le coppie\n",
    "    # G: Graph\n",
    "    # trials: numero delle coppie da cui scegliere\n",
    "    # returns: lista di lunghezze dei cammini\n",
    "\n",
    "    nodes = list(G)\n",
    "    pairs = np.random.choice(nodes, (trials, 2))\n",
    "    lengths = [nx.shortest_path_length(G, *pair) \n",
    "               for pair in pairs]\n",
    "    return lengths\n",
    "\n",
    "def estimate_path_length(G, trials=1000):\n",
    "    return np.mean(sample_path_lengths(G, trials))\n"
   ]
  },
  {
   "cell_type": "code",
   "execution_count": 71,
   "id": "e05d415e",
   "metadata": {
    "slideshow": {
     "slide_type": "fragment"
    }
   },
   "outputs": [
    {
     "data": {
      "text/plain": [
       "3.648"
      ]
     },
     "execution_count": 71,
     "metadata": {},
     "output_type": "execute_result"
    }
   ],
   "source": [
    "L = estimate_path_length(fb)\n",
    "L\n"
   ]
  },
  {
   "cell_type": "markdown",
   "id": "0aebd9eb",
   "metadata": {
    "slideshow": {
     "slide_type": "fragment"
    }
   },
   "source": [
    "* clustering coefficient alto, lunghezza media dei cammini bassi\n",
    "* conferma che è una small world!"
   ]
  },
  {
   "cell_type": "markdown",
   "id": "77ffbe2f",
   "metadata": {
    "slideshow": {
     "slide_type": "slide"
    }
   },
   "source": [
    "# Modellare Facebook con WS"
   ]
  },
  {
   "cell_type": "markdown",
   "id": "3d7a7c53",
   "metadata": {
    "slideshow": {
     "slide_type": "fragment"
    }
   },
   "source": [
    "* costruiamo un grafo di **WS** con caratteristiche analoghe al grafo di **Facebook**\n",
    "* numero di nodi **n=4039**\n",
    "* numero medio di vicini **k=44**\n",
    "* probabilità di riavvolgere archi **p=0**"
   ]
  },
  {
   "cell_type": "code",
   "execution_count": 17,
   "id": "0a29e6a9",
   "metadata": {
    "slideshow": {
     "slide_type": "fragment"
    }
   },
   "outputs": [
    {
     "data": {
      "text/plain": [
       "(4039, 88858)"
      ]
     },
     "execution_count": 17,
     "metadata": {},
     "output_type": "execute_result"
    }
   ],
   "source": [
    "n=4039\n",
    "k=44\n",
    "lattice = nx.watts_strogatz_graph(n, k, p=0)\n",
    "len(lattice), len(lattice.edges())\n"
   ]
  },
  {
   "cell_type": "code",
   "execution_count": 72,
   "id": "f4ec9bcb",
   "metadata": {
    "slideshow": {
     "slide_type": "fragment"
    }
   },
   "outputs": [
    {
     "data": {
      "text/plain": [
       "(0.599, 0.739)"
      ]
     },
     "execution_count": 72,
     "metadata": {},
     "output_type": "execute_result"
    }
   ],
   "source": [
    "C, average_clustering(lattice)\n"
   ]
  },
  {
   "cell_type": "markdown",
   "id": "91ecbb85",
   "metadata": {
    "slideshow": {
     "slide_type": "fragment"
    }
   },
   "source": [
    "* il clustering coefficient è un pò più alto di quello del DataSet reale, ma dello stesso ordine di grandezza"
   ]
  },
  {
   "cell_type": "code",
   "execution_count": 73,
   "id": "62402ef5",
   "metadata": {
    "slideshow": {
     "slide_type": "fragment"
    }
   },
   "outputs": [
    {
     "data": {
      "text/plain": [
       "(3.648, 46.064)"
      ]
     },
     "execution_count": 73,
     "metadata": {},
     "output_type": "execute_result"
    }
   ],
   "source": [
    "L, estimate_path_length(lattice)\n"
   ]
  },
  {
   "cell_type": "markdown",
   "id": "d621d471",
   "metadata": {
    "slideshow": {
     "slide_type": "fragment"
    }
   },
   "source": [
    "* la differenza tra le lunghezze medie dei cammini è enorme\n",
    "* il risultato è atteso perchè impostando **p=0**, non abbiamo aggiunto alcun elemento di casualità"
   ]
  },
  {
   "cell_type": "markdown",
   "id": "8b709f5c",
   "metadata": {
    "slideshow": {
     "slide_type": "slide"
    }
   },
   "source": [
    "# Modellare Facebook con WS"
   ]
  },
  {
   "cell_type": "markdown",
   "id": "b7c05570",
   "metadata": {
    "slideshow": {
     "slide_type": "fragment"
    }
   },
   "source": [
    "* numero di nodi **n=4039**\n",
    "* numero medio di vicini **k=44**\n",
    "* probabilità di riavvolgere archi **p=1**"
   ]
  },
  {
   "cell_type": "code",
   "execution_count": 21,
   "id": "c99fee98",
   "metadata": {
    "slideshow": {
     "slide_type": "fragment"
    }
   },
   "outputs": [
    {
     "data": {
      "text/plain": [
       "(0.597, 0.006)"
      ]
     },
     "execution_count": 21,
     "metadata": {},
     "output_type": "execute_result"
    }
   ],
   "source": [
    "random_graph = nx.watts_strogatz_graph(n, k, 1)\n",
    "C, average_clustering(random_graph)\n"
   ]
  },
  {
   "cell_type": "code",
   "execution_count": 22,
   "id": "96105f69",
   "metadata": {
    "slideshow": {
     "slide_type": "fragment"
    }
   },
   "outputs": [
    {
     "data": {
      "text/plain": [
       "(3.717, 2.579)"
      ]
     },
     "execution_count": 22,
     "metadata": {},
     "output_type": "execute_result"
    }
   ],
   "source": [
    "L, estimate_path_length(random_graph)"
   ]
  },
  {
   "cell_type": "markdown",
   "id": "7f769439",
   "metadata": {
    "slideshow": {
     "slide_type": "fragment"
    }
   },
   "source": [
    "* la lunghezza dei cammini è abbastanza confrontabile\n",
    "* il coefficente di clustering è troppo basso!"
   ]
  },
  {
   "cell_type": "markdown",
   "id": "06dec688",
   "metadata": {
    "slideshow": {
     "slide_type": "slide"
    }
   },
   "source": [
    "# Modellare Facebook con WS"
   ]
  },
  {
   "cell_type": "markdown",
   "id": "53b47459",
   "metadata": {
    "slideshow": {
     "slide_type": "fragment"
    }
   },
   "source": [
    "* numero di nodi **n=4039**\n",
    "* numero medio di vicini **k=44**\n",
    "* probabilità di riavvolgere archi **p=0.05**"
   ]
  },
  {
   "cell_type": "code",
   "execution_count": 74,
   "id": "43d04e6e",
   "metadata": {
    "slideshow": {
     "slide_type": "fragment"
    }
   },
   "outputs": [
    {
     "data": {
      "text/plain": [
       "(0.599, 0.627)"
      ]
     },
     "execution_count": 74,
     "metadata": {},
     "output_type": "execute_result"
    }
   ],
   "source": [
    "ws = nx.watts_strogatz_graph(n, k, 0.05, seed=15)\n",
    "C, average_clustering(ws)\n"
   ]
  },
  {
   "cell_type": "code",
   "execution_count": 75,
   "id": "b4f4777b",
   "metadata": {
    "slideshow": {
     "slide_type": "fragment"
    }
   },
   "outputs": [
    {
     "data": {
      "text/plain": [
       "(3.648, 3.208)"
      ]
     },
     "execution_count": 75,
     "metadata": {},
     "output_type": "execute_result"
    }
   ],
   "source": [
    "L, estimate_path_length(ws)\n"
   ]
  },
  {
   "cell_type": "markdown",
   "id": "a7669f44",
   "metadata": {
    "slideshow": {
     "slide_type": "fragment"
    }
   },
   "source": [
    "* valori paragonabili di clustering coefficient e lunghezza media dei cammini\n",
    "* in questo caso **WS** modella perfettamente la caratteristica di **small world** del dataset reale!"
   ]
  },
  {
   "cell_type": "markdown",
   "id": "e151cbeb",
   "metadata": {
    "slideshow": {
     "slide_type": "slide"
    }
   },
   "source": [
    "# Facebook e Watts Strogatz: grado dei nodi"
   ]
  },
  {
   "cell_type": "markdown",
   "id": "eceff08d",
   "metadata": {
    "slideshow": {
     "slide_type": "fragment"
    }
   },
   "source": [
    "* studiamo ora la distribuzione dei gradi dei nodi\n",
    "* utilizziamo la libreria <code> empiricaldist </code>\n",
    "    * fornisce la funzione **Pmf (Probability Mass Function)**\n",
    "    * restitusice una **Pandas Series** che rappresenta la distribuzione di probabilità dei valori in input\n",
    "    * ad esempio"
   ]
  },
  {
   "cell_type": "code",
   "execution_count": 76,
   "id": "c7671454",
   "metadata": {
    "slideshow": {
     "slide_type": "fragment"
    }
   },
   "outputs": [
    {
     "data": {
      "text/html": [
       "<div>\n",
       "<style scoped>\n",
       "    .dataframe tbody tr th:only-of-type {\n",
       "        vertical-align: middle;\n",
       "    }\n",
       "\n",
       "    .dataframe tbody tr th {\n",
       "        vertical-align: top;\n",
       "    }\n",
       "\n",
       "    .dataframe thead th {\n",
       "        text-align: right;\n",
       "    }\n",
       "</style>\n",
       "<table border=\"1\" class=\"dataframe\">\n",
       "  <thead>\n",
       "    <tr style=\"text-align: right;\">\n",
       "      <th></th>\n",
       "      <th>probs</th>\n",
       "    </tr>\n",
       "  </thead>\n",
       "  <tbody>\n",
       "    <tr>\n",
       "      <th>1</th>\n",
       "      <td>0.166667</td>\n",
       "    </tr>\n",
       "    <tr>\n",
       "      <th>2</th>\n",
       "      <td>0.166667</td>\n",
       "    </tr>\n",
       "    <tr>\n",
       "      <th>3</th>\n",
       "      <td>0.166667</td>\n",
       "    </tr>\n",
       "    <tr>\n",
       "      <th>4</th>\n",
       "      <td>0.166667</td>\n",
       "    </tr>\n",
       "    <tr>\n",
       "      <th>5</th>\n",
       "      <td>0.166667</td>\n",
       "    </tr>\n",
       "    <tr>\n",
       "      <th>6</th>\n",
       "      <td>0.166667</td>\n",
       "    </tr>\n",
       "  </tbody>\n",
       "</table>\n",
       "</div>"
      ],
      "text/plain": [
       "1    0.166667\n",
       "2    0.166667\n",
       "3    0.166667\n",
       "4    0.166667\n",
       "5    0.166667\n",
       "6    0.166667\n",
       "Name: , dtype: float64"
      ]
     },
     "execution_count": 76,
     "metadata": {},
     "output_type": "execute_result"
    }
   ],
   "source": [
    "from empiricaldist import Pmf\n",
    "d6 = Pmf.from_seq([1,2,3,4,5,6])\n",
    "d6\n"
   ]
  },
  {
   "cell_type": "markdown",
   "id": "343ab003",
   "metadata": {
    "slideshow": {
     "slide_type": "slide"
    }
   },
   "source": [
    "# Facebook e Watts Strogatz: grado dei nodi"
   ]
  },
  {
   "cell_type": "markdown",
   "id": "a2e742bf",
   "metadata": {
    "slideshow": {
     "slide_type": "fragment"
    }
   },
   "source": [
    "* analizziamo grado medio e varianza dei nodi di **Facebook** e della rete **WS** e confrontiamole\n"
   ]
  },
  {
   "cell_type": "code",
   "execution_count": 77,
   "id": "59371f2a",
   "metadata": {
    "slideshow": {
     "slide_type": "fragment"
    }
   },
   "outputs": [
    {
     "data": {
      "text/plain": [
       "(43.69101262688784, 44.0)"
      ]
     },
     "execution_count": 77,
     "metadata": {},
     "output_type": "execute_result"
    }
   ],
   "source": [
    "def degrees(G):\n",
    "    return [G.degree(u) for u in G]\n",
    "\n",
    "np.mean(degrees(fb)), np.mean(degrees(ws))\n"
   ]
  },
  {
   "cell_type": "code",
   "execution_count": 78,
   "id": "5b17a512",
   "metadata": {
    "slideshow": {
     "slide_type": "fragment"
    }
   },
   "outputs": [
    {
     "data": {
      "text/plain": [
       "(52.41411556737521, 1.4309215628189869)"
      ]
     },
     "execution_count": 78,
     "metadata": {},
     "output_type": "execute_result"
    }
   ],
   "source": [
    "np.std(degrees(fb)), np.std(degrees(ws))\n"
   ]
  },
  {
   "cell_type": "markdown",
   "id": "da31fa0b",
   "metadata": {
    "slideshow": {
     "slide_type": "fragment"
    }
   },
   "source": [
    "* utilizzo delle funzioni <code>mean</code> e <code>std</code> di <code>numpy</code>\n",
    "    * applicate, per default,  a strutture <code>array</code> di <code>numpy</code>\n",
    "    * se viene passata un'altra struttura compatibile (nel nostro caso una lista), si effettua la conversione"
   ]
  },
  {
   "cell_type": "markdown",
   "id": "ce50a84c",
   "metadata": {
    "slideshow": {
     "slide_type": "fragment"
    }
   },
   "source": [
    "**Osservazione importante**\n",
    "\n",
    "* la media dei gradi dei nodi del modello si avvicina molto alla media del grado dei nodi del Data Set\n",
    "* ma la **varianza è molto diversa**!\n",
    "* la varianza è molto alta per **Facebook**\n",
    "    * alcuni hanno tantissimi amici, altri molto pochi\n",
    "* non è altrettanto alta per **WS**"
   ]
  },
  {
   "cell_type": "markdown",
   "id": "d318894a",
   "metadata": {
    "slideshow": {
     "slide_type": "slide"
    }
   },
   "source": [
    "# Facebook e Watts Strogatz: grado dei nodi"
   ]
  },
  {
   "cell_type": "markdown",
   "id": "785c84ed",
   "metadata": {
    "slideshow": {
     "slide_type": "fragment"
    }
   },
   "source": [
    "* analizziamo e visualizziamo la **distribuzione** del grado dei nodi per **Facebook** e **WS** e confrontiamoli"
   ]
  },
  {
   "cell_type": "code",
   "execution_count": 79,
   "id": "df690a78",
   "metadata": {
    "slideshow": {
     "slide_type": "fragment"
    }
   },
   "outputs": [],
   "source": [
    "try:\n",
    "    import empiricaldist\n",
    "except ImportError:\n",
    "    !pip install empiricaldist\n",
    "    "
   ]
  },
  {
   "cell_type": "markdown",
   "id": "218e0048",
   "metadata": {
    "slideshow": {
     "slide_type": "fragment"
    }
   },
   "source": [
    "* un modulo può essere installato direttamente dallo script **Python**"
   ]
  },
  {
   "cell_type": "code",
   "execution_count": 81,
   "id": "5ef6dc61",
   "metadata": {
    "slideshow": {
     "slide_type": "fragment"
    }
   },
   "outputs": [
    {
     "data": {
      "text/plain": [
       "(43.69101262688785, 52.41411556737521)"
      ]
     },
     "execution_count": 81,
     "metadata": {},
     "output_type": "execute_result"
    }
   ],
   "source": [
    "pmf_fb = Pmf.from_seq(degrees(fb))\n",
    "\n",
    "pmf_fb.mean(), pmf_fb.std()\n"
   ]
  },
  {
   "cell_type": "code",
   "execution_count": 30,
   "id": "b88ac5e4",
   "metadata": {
    "slideshow": {
     "slide_type": "fragment"
    }
   },
   "outputs": [
    {
     "data": {
      "text/plain": [
       "(44.00000000000001, 1.4309215628189869)"
      ]
     },
     "execution_count": 30,
     "metadata": {},
     "output_type": "execute_result"
    }
   ],
   "source": [
    "pmf_ws = Pmf.from_seq(degrees(ws))\n",
    "pmf_ws.mean(), pmf_ws.std()"
   ]
  },
  {
   "cell_type": "markdown",
   "id": "bc78b6f6",
   "metadata": {
    "slideshow": {
     "slide_type": "slide"
    }
   },
   "source": [
    "# Facebook e Watts Strogats: grado dei nodi"
   ]
  },
  {
   "cell_type": "code",
   "execution_count": 82,
   "id": "313adcb5",
   "metadata": {
    "slideshow": {
     "slide_type": "fragment"
    }
   },
   "outputs": [
    {
     "data": {
      "image/png": "[encoded data removed]",
      "text/plain": [
       "<Figure size 800x400 with 2 Axes>"
      ]
     },
     "metadata": {},
     "output_type": "display_data"
    }
   ],
   "source": [
    "import matplotlib.pyplot as plt\n",
    "\n",
    "plt.figure(figsize=(8,4))\n",
    "\n",
    "plt.subplot(1,2,1)\n",
    "plt.plot(pmf_fb,'b',label=\"Facebook\")\n",
    "plt.xlabel('Degree')\n",
    "plt.ylabel('PMF')\n",
    "plt.legend(loc=\"upper right\")\n",
    "\n",
    "plt.subplot(1,2,2)\n",
    "plt.plot(pmf_ws,'r',label=\"WS\")\n",
    "plt.xlabel('Degree')\n",
    "plt.legend(loc=\"upper right\")\n",
    "plt.show()\n"
   ]
  },
  {
   "cell_type": "markdown",
   "id": "7676cde9",
   "metadata": {
    "slideshow": {
     "slide_type": "fragment"
    }
   },
   "source": [
    "* in **WS** la maggior parte dei nodi ha grado **44**\n",
    "    * classica  distribuzione **a campana**\n",
    "* nel dataset di Facebook ci sono molto nodi di utenti con 1 o 2 amici, ma ci sono anche nodi che hanno più di 1000 amici!\n",
    "    * distribuzioni come questa, con molti valori piccoli e pochi valori grandi vendono dette **heavy-tailed** o **power law**"
   ]
  },
  {
   "cell_type": "markdown",
   "id": "26cec924",
   "metadata": {
    "slideshow": {
     "slide_type": "slide"
    }
   },
   "source": [
    "# Power Law Distribution"
   ]
  },
  {
   "cell_type": "markdown",
   "id": "768752cc",
   "metadata": {
    "slideshow": {
     "slide_type": "fragment"
    }
   },
   "source": [
    "* una distribuzione di probabilità definita come segue\n",
    "\n",
    "<center>\n",
    "$ PMF(k) \\sim k^{-\\alpha} $\n",
    "</center>\n",
    "\n",
    "viene detta **Power law** \n",
    "* $\\alpha$ è un parametro: in genere vale $2$ oppure $3$\n",
    "* nel nostro caso, $PMF(k)$ è la frazione dei nodi di grado k\n",
    "* $\\sim$ indica che la $PFM$ si avvicina asintoticamente a $k^{-\\alpha}$, al crescere di $k$\n",
    "\n",
    "* la probabilità di un certo valore $k$ decresce, ma non **esponenzialmente**\n",
    "\n",
    "* altri esempi\n",
    "    * distribuzione delle popolazione delle città USA\n",
    "        * la maggior parte delle città ha pochi abitanti, ma ci sono poche città con un gran numero di abitanti\n",
    "    * tutte le città con un gran numero di abitanti hanno un numero diverso di abitanti\n",
    "    * la probabilità di avere città con **100** abitanti è grande\n",
    "    * la probabilità  doi avere una città con **1000000** è bassa, ma non nulla\n"
   ]
  },
  {
   "cell_type": "markdown",
   "id": "b7e7a925",
   "metadata": {
    "slideshow": {
     "slide_type": "slide"
    }
   },
   "source": [
    "# Power Law Distribution su scala logaritmica"
   ]
  },
  {
   "cell_type": "markdown",
   "id": "d42efe8a",
   "metadata": {
    "slideshow": {
     "slide_type": "fragment"
    }
   },
   "source": [
    "* una power law è rappresentata come una linea in **log-log scale**\n",
    "    * scala logaritmica sia sull'asse delle x che sull'asse delle y\n",
    "\n",
    "* consideriamo la seguente **power law**\n",
    "    <center>\n",
    "    $ y = C \\times k^{-\\alpha} $\n",
    "    </center>\n",
    "\n",
    "* calcoliamo il logaritmo sia della parte destra che della parte sinistra \n",
    "\n",
    "    <center>\n",
    "    $ log(y) = {-\\alpha} \\times log(k) +  log(C)  $\n",
    "    </center>\n",
    "\n",
    "* ponendo \n",
    "    * $ Y= log(y) $\n",
    "    * $X = log(k)$\n",
    "    * $m=-\\alpha$\n",
    "    * $q=log(C)$\n",
    "* si ottine la retta seguente il cui coefficente angolare dipende da $\\alpha$\n",
    " <center>\n",
    "   $Y=mX+q$\n",
    " </center>\n"
   ]
  },
  {
   "cell_type": "markdown",
   "id": "6b650ab9",
   "metadata": {
    "slideshow": {
     "slide_type": "slide"
    }
   },
   "source": [
    "# Power Law Distribution: esempi"
   ]
  },
  {
   "cell_type": "markdown",
   "id": "7b801304",
   "metadata": {
    "slideshow": {
     "slide_type": "fragment"
    }
   },
   "source": [
    "<center>\n",
    "<img src=\"Figures/PowerLaw1.jpg\" style=\"width:800px;height:600px;\"/>"
   ]
  },
  {
   "cell_type": "markdown",
   "id": "d16ebf42",
   "metadata": {
    "slideshow": {
     "slide_type": "slide"
    }
   },
   "source": [
    "# Power Law Distribution: esempi"
   ]
  },
  {
   "cell_type": "markdown",
   "id": "c88f5060",
   "metadata": {
    "slideshow": {
     "slide_type": "fragment"
    }
   },
   "source": [
    "<center>\n",
    "<img src=\"Figures/PowerLaw2.jpg\" style=\"width:800px;height:600px;\"/>"
   ]
  },
  {
   "cell_type": "markdown",
   "id": "4f498d80",
   "metadata": {
    "slideshow": {
     "slide_type": "slide"
    }
   },
   "source": [
    "# Modellare Facebook con Watts Strogatz: grado dei nodi"
   ]
  },
  {
   "cell_type": "markdown",
   "id": "163a6f0e",
   "metadata": {
    "slideshow": {
     "slide_type": "fragment"
    }
   },
   "source": [
    "* disegnamo il grafico precedente in scala <code> log log </code> "
   ]
  },
  {
   "cell_type": "code",
   "execution_count": 32,
   "id": "5caa2a59",
   "metadata": {
    "slideshow": {
     "slide_type": "fragment"
    }
   },
   "outputs": [
    {
     "data": {
      "image/png": "[encoded data removed]",
      "text/plain": [
       "<Figure size 1200x400 with 2 Axes>"
      ]
     },
     "metadata": {},
     "output_type": "display_data"
    }
   ],
   "source": [
    "import matplotlib.pyplot as plt\n",
    "\n",
    "plt.figure(figsize=(12,4))\n",
    "\n",
    "plt.subplot(1,2,1)\n",
    "plt.plot([20, 1000], [5e-2, 2e-4], color='gray', linestyle='dashed')\n",
    "plt.scatter(pmf_fb.index, pmf_fb,color='b',s=10, label=\"Facebook\")\n",
    "plt.xscale('log')\n",
    "plt.yscale('log')\n",
    "plt.xlabel('Degree')\n",
    "plt.ylabel('PMF')\n",
    "plt.legend(loc=\"upper right\")\n",
    "\n",
    "plt.subplot(1,2,2)\n",
    "plt.scatter(pmf_ws.index,pmf_ws,color='r',s=10, label=\"WS\")\n",
    "plt.yscale('log')\n",
    "plt.xscale('log')\n",
    "plt.xlabel('Degree')\n",
    "plt.legend(loc=\"upper right\")\n",
    "plt.show()\n"
   ]
  },
  {
   "cell_type": "markdown",
   "id": "3f5e0e3e",
   "metadata": {
    "slideshow": {
     "slide_type": "fragment"
    }
   },
   "source": [
    "* la rappresentazione <code> log log </code> evidenzia **la coda della distribuzione**\n",
    "    * ci sono molti nodi che hanno grado tra <code> 100 </code> e <code> 1000 </code>\n",
    "    * tuttavia ognuno di questi nodi ha grado diverso\n",
    "    * la probabilità del singolo valore dei gradi alti  è bassa\n",
    "    * invece ci sono tantissimi nodi con lo stesso valore del grado, per valori bassi\n",
    "* la retta rappresenta il fitting della distribuzione"
   ]
  },
  {
   "cell_type": "markdown",
   "id": "46c162c9",
   "metadata": {
    "slideshow": {
     "slide_type": "slide"
    }
   },
   "source": [
    "# Il modello di Barabasi Albert (BA)"
   ]
  },
  {
   "cell_type": "markdown",
   "id": "4ab28abc",
   "metadata": {
    "slideshow": {
     "slide_type": "fragment"
    }
   },
   "source": [
    "* nel 1999 **Barabasi and Albert** proposero un nuovo modello per descrivere la struttura di molte reti reali il cui grado può essere descritto come una **power law**\n",
    "\n",
    "* elementi essenziali del modello\n",
    "    * **Growth**: invece considerare un numero fisso di nodi, iniziare con un numero basso di nodi e poi aggiungere vertici incrementalmente\n",
    "    * **Preferential Attachment**: quando viene creato un nuovo nodo, connetterlo con maggior probabilità ai nodi esistenti che hanno\n",
    "        un alto grado\n",
    "* il fenomeno viene anche descritto come **\"the rich get richer\"**\n",
    "* le reti generate con questo modello vengono dette **scale free networks**\n"
   ]
  },
  {
   "cell_type": "markdown",
   "id": "3b480f3e",
   "metadata": {
    "slideshow": {
     "slide_type": "slide"
    }
   },
   "source": [
    "# Il modello di Barbasi Albert (BA)"
   ]
  },
  {
   "cell_type": "markdown",
   "id": "754757d1",
   "metadata": {
    "slideshow": {
     "slide_type": "fragment"
    }
   },
   "source": [
    "* **NetworkX** fornisce una funzione per generare grafi **BA**"
   ]
  },
  {
   "cell_type": "code",
   "execution_count": 34,
   "id": "75f153cc",
   "metadata": {
    "slideshow": {
     "slide_type": "fragment"
    }
   },
   "outputs": [],
   "source": [
    "ba = nx.barabasi_albert_graph(4039, 22)"
   ]
  },
  {
   "cell_type": "markdown",
   "id": "ac4e7665",
   "metadata": {
    "slideshow": {
     "slide_type": "slide"
    }
   },
   "source": [
    "# BA e Facebook a confronto"
   ]
  },
  {
   "cell_type": "markdown",
   "id": "366d6d08",
   "metadata": {
    "slideshow": {
     "slide_type": "fragment"
    }
   },
   "source": [
    "i parametri\n",
    "  * **n**: il numero di nodi che il grafo deve avere alla fine del processo incrementale\n",
    "  * **k**: il numero di archi generati per connettere ogni nuovo nodo aggiunto a nodi già esistenti\n",
    "    * l'aggiunta di un nodo viene fatta secondo la strategia **preferential attachment**\n",
    "  * nel nostro caso si aggiunge un nodo e 22 archi a ogni round\n",
    "    * 22 è il numero medio di archi per nodo, nel dataset di Facebook"
   ]
  },
  {
   "cell_type": "code",
   "execution_count": 83,
   "id": "af6a8707",
   "metadata": {
    "slideshow": {
     "slide_type": "fragment"
    }
   },
   "outputs": [
    {
     "data": {
      "text/plain": [
       "(43.69101262688784, 43.76033671700916)"
      ]
     },
     "execution_count": 83,
     "metadata": {},
     "output_type": "execute_result"
    }
   ],
   "source": [
    "def degrees(G):\n",
    "    return [G.degree(u) for u in G]\n",
    "\n",
    "np.mean(degrees(fb)), np.mean(degrees(ba))\n"
   ]
  },
  {
   "cell_type": "code",
   "execution_count": 84,
   "id": "359ab04d",
   "metadata": {
    "slideshow": {
     "slide_type": "fragment"
    }
   },
   "outputs": [
    {
     "data": {
      "text/plain": [
       "(52.41411556737521, 40.959886553763404)"
      ]
     },
     "execution_count": 84,
     "metadata": {},
     "output_type": "execute_result"
    }
   ],
   "source": [
    "np.std(degrees(fb)), np.std(degrees(ba))\n"
   ]
  },
  {
   "cell_type": "code",
   "execution_count": 85,
   "id": "f850e528",
   "metadata": {
    "slideshow": {
     "slide_type": "fragment"
    }
   },
   "outputs": [
    {
     "data": {
      "text/plain": [
       "(43.76033671700916, 40.959886553763404)"
      ]
     },
     "execution_count": 85,
     "metadata": {},
     "output_type": "execute_result"
    }
   ],
   "source": [
    "pmf_ba = Pmf.from_seq(degrees(ba))\n",
    "pmf_ba.mean(), pmf_ba.std()\n"
   ]
  },
  {
   "cell_type": "markdown",
   "id": "77032ae3",
   "metadata": {
    "slideshow": {
     "slide_type": "fragment"
    }
   },
   "source": [
    "* BA descrive bene la distribuzione dei gradi dei nodi di Facebook"
   ]
  },
  {
   "cell_type": "markdown",
   "id": "7efbb448",
   "metadata": {
    "slideshow": {
     "slide_type": "slide"
    }
   },
   "source": [
    "# BA e Facebook a confronto"
   ]
  },
  {
   "cell_type": "code",
   "execution_count": 86,
   "id": "d37f4b4d",
   "metadata": {
    "slideshow": {
     "slide_type": "fragment"
    }
   },
   "outputs": [
    {
     "data": {
      "image/png": "[encoded data removed]",
      "text/plain": [
       "<Figure size 800x400 with 2 Axes>"
      ]
     },
     "metadata": {},
     "output_type": "display_data"
    }
   ],
   "source": [
    "import matplotlib.pyplot as plt\n",
    "\n",
    "plt.figure(figsize=(8,4))\n",
    "\n",
    "plt.subplot(1,2,1)\n",
    "plt.plot(pmf_fb,'b',label=\"Facebook\")\n",
    "plt.xlabel('Degree')\n",
    "plt.ylabel('PMF')\n",
    "plt.legend(loc=\"upper right\")\n",
    "\n",
    "plt.subplot(1,2,2)\n",
    "plt.plot(pmf_ba,'r',label=\"BA\")\n",
    "plt.xlabel('Degree')\n",
    "plt.legend(loc=\"upper right\")\n",
    "plt.show()\n"
   ]
  },
  {
   "cell_type": "markdown",
   "id": "4797f0ee",
   "metadata": {
    "slideshow": {
     "slide_type": "slide"
    }
   },
   "source": [
    "# BA e Facebook a confronto"
   ]
  },
  {
   "cell_type": "code",
   "execution_count": 39,
   "id": "88cdb6a6",
   "metadata": {
    "slideshow": {
     "slide_type": "fragment"
    }
   },
   "outputs": [
    {
     "data": {
      "image/png": "[encoded data removed]",
      "text/plain": [
       "<Figure size 1200x400 with 2 Axes>"
      ]
     },
     "metadata": {},
     "output_type": "display_data"
    }
   ],
   "source": [
    "import matplotlib.pyplot as plt\n",
    "\n",
    "plt.figure(figsize=(12,4))\n",
    "\n",
    "plt.subplot(1,2,1)\n",
    "plt.plot([20, 1000], [5e-2, 2e-4], color='gray', linestyle='dashed')\n",
    "plt.scatter(pmf_fb.index, pmf_fb,color='b',s=10, label=\"Facebook\")\n",
    "plt.xscale('log')\n",
    "plt.yscale('log')\n",
    "plt.xlabel('Degree')\n",
    "plt.ylabel('PMF')\n",
    "plt.legend(loc=\"upper right\")\n",
    "\n",
    "plt.subplot(1,2,2)\n",
    "plt.scatter(pmf_ba.index,pmf_ba,color='r',s=10, label=\"BA\")\n",
    "plt.yscale('log')\n",
    "plt.xscale('log')\n",
    "plt.xlabel('Degree')\n",
    "plt.legend(loc=\"upper right\")\n",
    "plt.show()\n"
   ]
  },
  {
   "cell_type": "markdown",
   "id": "a4518618",
   "metadata": {},
   "source": [
    "# Algoritmo per la generazione dei grafi BA"
   ]
  },
  {
   "cell_type": "markdown",
   "id": "5e45dd5d",
   "metadata": {
    "slideshow": {
     "slide_type": "fragment"
    }
   },
   "source": [
    "<code>barabasi_albert_graph(4039, 22)</code>\n",
    "\n",
    "* definiamo una funzione che operi come la funzione di **NetworkX**\n",
    "* aggiungere incrementalmente nodi alla rete\n",
    "    * ogni nuovo nodo è connesso a k nodi già esistenti nella rete\n",
    "    * la probabilità di selezionare un nodo già esistente deve essere proporzionale al grado del nodo\n",
    "        * mantenere una lista <code> repeated_nodes </code> in cui ogni nodo compare tante volte quanto è il suo grado\n",
    "        * in questo modo, scegliendo in modo random unifome dalla lista, i nodi con grado maggiore hanno più probabilità\n",
    "         die essere selezionati"
   ]
  },
  {
   "cell_type": "markdown",
   "id": "661d4ca5",
   "metadata": {
    "slideshow": {
     "slide_type": "fragment"
    }
   },
   "source": [
    "<center>\n",
    "<img src=\"Figures/Barabasi.jpg\" style=\"width:500px;height:500px;\"/>"
   ]
  },
  {
   "cell_type": "markdown",
   "id": "4ed58863",
   "metadata": {
    "slideshow": {
     "slide_type": "slide"
    }
   },
   "source": [
    "# Alcune funzioni di utilità"
   ]
  },
  {
   "cell_type": "markdown",
   "id": "adb28c1c",
   "metadata": {
    "slideshow": {
     "slide_type": "fragment"
    }
   },
   "source": [
    "* la funzione <code> zip </code> crea un iteratore aggregando elementi da più oggetti iterabili (liste,...)"
   ]
  },
  {
   "cell_type": "code",
   "execution_count": 60,
   "id": "c640b330",
   "metadata": {
    "slideshow": {
     "slide_type": "fragment"
    }
   },
   "outputs": [
    {
     "name": "stdout",
     "output_type": "stream",
     "text": [
      "<class 'zip'>\n"
     ]
    },
    {
     "data": {
      "text/plain": [
       "[(1, 'a'), (2, 'b'), (3, 'c')]"
      ]
     },
     "execution_count": 60,
     "metadata": {},
     "output_type": "execute_result"
    }
   ],
   "source": [
    "numbers = [1, 2, 3]\n",
    "letters = ['a', 'b', 'c']\n",
    "zipped = zip(numbers, letters)\n",
    "zipped  # Holds an iterator object\n",
    "print(type(zipped))\n",
    "list(zipped)"
   ]
  },
  {
   "cell_type": "markdown",
   "id": "3757a46a",
   "metadata": {
    "slideshow": {
     "slide_type": "fragment"
    }
   },
   "source": [
    "* list replication"
   ]
  },
  {
   "cell_type": "code",
   "execution_count": 40,
   "id": "a76c715b",
   "metadata": {
    "slideshow": {
     "slide_type": "fragment"
    }
   },
   "outputs": [
    {
     "data": {
      "text/plain": [
       "[1, 2, 3, 1, 2, 3, 1, 2, 3]"
      ]
     },
     "execution_count": 40,
     "metadata": {},
     "output_type": "execute_result"
    }
   ],
   "source": [
    "a = [1, 2, 3] \n",
    "d = a * 3 \n",
    "d"
   ]
  },
  {
   "cell_type": "code",
   "execution_count": 41,
   "id": "ebf07c18",
   "metadata": {
    "slideshow": {
     "slide_type": "fragment"
    }
   },
   "outputs": [
    {
     "data": {
      "text/plain": [
       "[22,\n",
       " 22,\n",
       " 22,\n",
       " 22,\n",
       " 22,\n",
       " 22,\n",
       " 22,\n",
       " 22,\n",
       " 22,\n",
       " 22,\n",
       " 22,\n",
       " 22,\n",
       " 22,\n",
       " 22,\n",
       " 22,\n",
       " 22,\n",
       " 22,\n",
       " 22,\n",
       " 22,\n",
       " 22,\n",
       " 22,\n",
       " 22]"
      ]
     },
     "execution_count": 41,
     "metadata": {},
     "output_type": "execute_result"
    }
   ],
   "source": [
    "a=[22]\n",
    "b = a * 22\n",
    "b"
   ]
  },
  {
   "cell_type": "markdown",
   "id": "79df94a8",
   "metadata": {
    "slideshow": {
     "slide_type": "slide"
    }
   },
   "source": [
    "# Algoritmo per la generazione dei grafi BA"
   ]
  },
  {
   "cell_type": "code",
   "execution_count": 88,
   "id": "e4bc351d",
   "metadata": {
    "slideshow": {
     "slide_type": "fragment"
    }
   },
   "outputs": [],
   "source": [
    "import random\n",
    "\n",
    "def barabasi_albert_graph(n, k, seed=None):\n",
    "    # costruisce un grafo di Barabasi ALbert\n",
    "    # n: numero dei nodo\n",
    "    # k: numero degli archi per ogni nodo\n",
    "    # seed: random seed\n",
    "    if seed is not None:\n",
    "        random.seed(seed)\n",
    "    \n",
    "    G = nx.empty_graph(k)\n",
    "    targets = set(range(k))\n",
    "    repeated_nodes = []\n",
    "\n",
    "    for source in range(k, n):\n",
    "        G.add_edges_from(zip([source]*k, targets))\n",
    "\n",
    "        repeated_nodes.extend(targets)\n",
    "        repeated_nodes.extend([source] * k)\n",
    "\n",
    "        targets = _random_subset(repeated_nodes, k)\n",
    "\n",
    "    return G"
   ]
  },
  {
   "cell_type": "markdown",
   "id": "561131a5",
   "metadata": {
    "slideshow": {
     "slide_type": "slide"
    }
   },
   "source": [
    "# Algoritmo per la generazione dei grafi BA"
   ]
  },
  {
   "cell_type": "code",
   "execution_count": 92,
   "id": "3f1b6ef9",
   "metadata": {
    "slideshow": {
     "slide_type": "fragment"
    }
   },
   "outputs": [],
   "source": [
    "def _random_subset(repeated_nodes, k):\n",
    "    # seleziona un sottoinsieme random di nodi senza ripetizione\n",
    "    # repeated_nodes: lista di nodi\n",
    "    #  k: diemnsione dell'insieme\n",
    "    # returns: insieme di nodi\n",
    "    targets = set()\n",
    "    while len(targets) < k:\n",
    "        x = random.choice(repeated_nodes)\n",
    "        targets.add(x)\n",
    "    return targets\n"
   ]
  },
  {
   "cell_type": "code",
   "execution_count": 90,
   "id": "f8be9861",
   "metadata": {
    "slideshow": {
     "slide_type": "fragment"
    }
   },
   "outputs": [
    {
     "data": {
      "text/plain": [
       "(43.69101262688784, 43.763671875)"
      ]
     },
     "execution_count": 90,
     "metadata": {},
     "output_type": "execute_result"
    }
   ],
   "source": [
    "ba1=barabasi_albert_graph(4096,22)\n",
    "\n",
    "np.mean(degrees(fb)), np.mean(degrees(ba1))\n"
   ]
  },
  {
   "cell_type": "code",
   "execution_count": 91,
   "id": "844e0827",
   "metadata": {
    "slideshow": {
     "slide_type": "fragment"
    }
   },
   "outputs": [
    {
     "data": {
      "text/plain": [
       "(52.41411556737521, 41.44139202821358)"
      ]
     },
     "execution_count": 91,
     "metadata": {},
     "output_type": "execute_result"
    }
   ],
   "source": [
    "np.std(degrees(fb)), np.std(degrees(ba1))\n"
   ]
  },
  {
   "cell_type": "markdown",
   "id": "8ff9a5b7",
   "metadata": {
    "slideshow": {
     "slide_type": "slide"
    }
   },
   "source": [
    "# Perchè si chiamano scale free?"
   ]
  },
  {
   "cell_type": "markdown",
   "id": "18001774",
   "metadata": {
    "slideshow": {
     "slide_type": "fragment"
    }
   },
   "source": [
    "* le reti che hanno il grafo dei nodi descritti da una **power law** si chiamano **scale free**\n",
    "\n",
    "* una funzione **F** viene detta **scale free** se\n",
    "\n",
    "<center>\n",
    "$f(bx) = C(b) * f(x)$\n",
    "</center>   \n",
    "\n",
    "*  C(b) è una costante che dipende solo da b\n",
    "* la \"forma\" della distribuzione non cambia eccetto che per un valore moltiplicativo\n",
    "* le funzione **power law** è **scale free**\n",
    "    \n",
    "<center>\n",
    "$ f(bx)=(bx)^{-\\alpha} = b^{-\\alpha} x^{-\\alpha} =  b^{-\\alpha} f(x)$\n",
    "</center>  \n"
   ]
  }
 ],
 "metadata": {
  "celltoolbar": "Slideshow",
  "kernelspec": {
   "display_name": "Python 3 (ipykernel)",
   "language": "python",
   "name": "python3"
  },
  "language_info": {
   "codemirror_mode": {
    "name": "ipython",
    "version": 3
   },
   "file_extension": ".py",
   "mimetype": "text/x-python",
   "name": "python",
   "nbconvert_exporter": "python",
   "pygments_lexer": "ipython3",
   "version": "3.8.10"
  }
 },
 "nbformat": 4,
 "nbformat_minor": 5
}
