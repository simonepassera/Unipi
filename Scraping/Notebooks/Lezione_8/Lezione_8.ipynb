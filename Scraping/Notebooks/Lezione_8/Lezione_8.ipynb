{
 "cells": [
  {
   "cell_type": "markdown",
   "id": "19aae52e",
   "metadata": {
    "slideshow": {
     "slide_type": "slide"
    }
   },
   "source": [
    "<h1><center> WebScraping </h1>\n",
    "<h1><center> Anno Accademico 2022-2023 </h1>\n",
    "<h1><center>  Docente: Laura Ricci </h1>\n",
    "<h1><center>  Lezione 10 </h1>\n",
    "<h1><center>  Reperire dati da Internet: </h1> \n",
    "<h1><center>  API programming</h1> \n",
    "<h1><center>  Struttura di un documento HTML </h1>     \n",
    "<h1><center> 28 Febbraio 2023 </h1>"
   ]
  },
  {
   "cell_type": "markdown",
   "id": "42ee75e2",
   "metadata": {
    "slideshow": {
     "slide_type": "slide"
    }
   },
   "source": [
    "# Data Storage sul web\n",
    "\n",
    "* sul web, i dati sono generalmente memorizzati in\n",
    "    * **repositories** come servers, **GitHub**\n",
    "    * **FTP-like** repositories\n",
    "    * le pagine web costituiscono una fonte inesauribile di dati"
   ]
  },
  {
   "cell_type": "markdown",
   "id": "b02b3c3b",
   "metadata": {
    "slideshow": {
     "slide_type": "slide"
    }
   },
   "source": [
    "# Estrarre dati da Internet \n",
    "\n",
    "* diverse modalità\n",
    "    * scaricare databases strutturati (**.csv**,**.xml**,...)\n",
    "        * resi disponibili dagli autori per il download\n",
    "        * accessibili tramite una **URL**\n",
    "    * **API: Application Programming Interfaces**\n",
    "        * interfacce generalmente accedibili via **REST**\n",
    "    * *scraping* di pagine web\n",
    "        * dati tabulari\n",
    "        * testo\n",
    "* **Python** offre delle librerie per supportare tutte queste modalità di reperimento dati"
   ]
  },
  {
   "cell_type": "markdown",
   "id": "8feafd43",
   "metadata": {
    "slideshow": {
     "slide_type": "slide"
    }
   },
   "source": [
    "# Estrarre dati da Internet: API \n",
    "\n",
    "* possono essere considerate interfacce tra applicazioni diverse, implementate con diversi linguaggi di programmazione\n",
    "* un concetto generale, però ormai il termine ha acquisito il significato di **web application API**\n",
    "* richieste **HTPP**\n",
    "    * in alcuni casi richiedono solo una **URL** con un particolare formato, da inserire nel browser\n",
    "    * generalmente la risposta è in formato **XML** o **JSON**, non in **HTML**\n",
    "         * informazione restituita in un formato regolare semplice da eleborare\n",
    "         * **JSON** sta diventando lo \"standard de facto\"  \n",
    "* generalmente il reperimento di dati mediante **API** non è considerato **web scraping**\n",
    "    * tuttavia le due modalità di reperimento presentano molti aspetti comuni (uso protocollo **HTTP**)\n",
    "    * spesso usate contemporaneamente per ottenere la maggior quantità possibile di dati"
   ]
  },
  {
   "cell_type": "markdown",
   "id": "77f2b76d",
   "metadata": {
    "slideshow": {
     "slide_type": "slide"
    }
   },
   "source": [
    "# Connettersi ad un  server\n",
    "\n",
    "* connettersi alla pagina web di **Google**"
   ]
  },
  {
   "cell_type": "code",
   "execution_count": 1,
   "id": "26cf2947",
   "metadata": {
    "slideshow": {
     "slide_type": "fragment"
    }
   },
   "outputs": [
    {
     "name": "stdout",
     "output_type": "stream",
     "text": [
      "200\n",
      "<class 'requests.models.Response'>\n",
      "<class 'http.client.HTTPResponse'>\n",
      "**************************\n",
      "b'<!doctype html><html itemscope=\"\" itemtype=\"http://schema.org/WebPage\" lang=\"it\"><head><meta content=\"text/html; charset=UTF-8\" http-equiv=\"Content-Type\"><meta content=\"/images/branding/googleg/1x/googleg_standard_color_128dp.png\" itemprop=\"image\"><title>Google</title><script nonce=\"gUh86GFKRLRpG20ena0Z7w\">(function(){window.google={kEI:\\'1a8AZPH-H435gQbrrJjABA\\',kEXPI:\\'0,1359409,6059,206,4804,2316,383,246,5,1129120,1625,1576865,16115,28683,22431,1362,12316,17583,4998,13228,3847,38444,1593,1279,2891,1103,2823,214,7614,606,58287,2402,2615,13142,3,346,230,6460,149,13974,4,1528,2304,27348,11586,3193,13658,4437,9358,7428,5824,2533,4094,17,7579,1,11942,30212,2,14022,6248,1398,18093,5679,1020,31122,4568,6256,23421,1252,5835,14967,4333,7484,11407,15675,8155,7381,1480,14490,872,19634,7,1922,5784,3995,19130,2,1507,752,14763,6305,16743,3455,5797,6,14430,4641,14763,802,1622,1779,2225,1193,461,1097,4235,4,2,481,7744,2425,1741,6740,991,3030,426,4705,980,1410,20,3,867,136,1974,4529,766,1804,6250,102,1188,13,676,2238,5,270,172,48,1159,108,96,907,125,141,308,2006,10667,355,5425,249,215,2,103,269,537,1053,1292,2286,1281,1,1169,964,110,1206,301,485,71,202,1330,1697,467,841,1,326,3432,4211,246,37,10,3,1,7,816,73,753,2085,149,136,147,28,242,297,140,51,56,432,270,54,382,792,1,3,128,756,238,1,11,2586,94,1174,247,507,254,4,1464,436,485,3,3,1490,823,148,1,3,4,347,1088,914,183,1,2,97,583,5236658,249,151,5994268,2804424,3311,141,795,19735,1,1,346,20730465,2920771,299249,2773819,1268323,2972,13290,2375,2893,512,5738,14100\\',kBL:\\'qDo8\\'};google.sn=\\'webhp\\';google.kHL=\\'it\\';})();(function(){\\nvar f=this||self;var h,k=[];function l(a){for(var b;a&&(!a.getAttribute||!(b=a.getAttribute(\"eid\")));)a=a.parentNode;return b||h}function m(a){for(var b=null;a&&(!a.getAttribute||!(b=a.getAttribute(\"leid\")));)a=a.parentNode;return b}\\nfunction n(a,b,c,d,g){var e=\"\";c||-1!==b.search(\"&ei=\")||(e=\"&ei=\"+l(d),-1===b.search(\"&lei=\")&&(d=m(d))&&(e+=\"&lei=\"+d));d=\"\";!c&&f._cshid&&-1===b.search(\"&cshid=\")&&\"slh\"!==a&&(d=\"&cshid=\"+f._cshid);c=c||\"/\"+(g||\"gen_204\")+\"?atyp=i&ct=\"+a+\"&cad=\"+b+e+\"&zx=\"+Date.now()+d;/^http:/i.test(c)&&\"https:\"===window.location.protocol&&(google.ml&&google.ml(Error(\"a\"),!1,{src:c,glmm:1}),c=\"\");return c};h=google.kEI;google.getEI=l;google.getLEI=m;google.ml=function(){return null};google.log=function(a,b,c,d,g){if(c=n(a,b,c,d,g)){a=new Image;var e=k.length;k[e]=a;a.onerror=a.onload=a.onabort=function(){delete k[e]};a.src=c}};google.logUrl=n;}).call(this);(function(){google.y={};google.sy=[];google.x=function(a,b){if(a)var c=a.id;else{do c=Math.random();while(google.y[c])}google.y[c]=[a,b];return!1};google.sx=function(a){google.sy.push(a)};google.lm=[];google.plm=function(a){google.lm.push.apply(google.lm,a)};google.lq=[];google.load=function(a,b,c){google.lq.push([[a],b,c])};google.loadAll=function(a,b){google.lq.push([a,b])};google.bx=!1;google.lx=function(){};}).call(this);google.f={};(function(){\\ndocument.documentElement.addEventListener(\"submit\",function(b){var a;if(a=b.target){var c=a.getAttribute(\"data-submitfalse\");a=\"1\"===c||\"q\"===c&&!a.elements.q.value?!0:!1}else a=!1;a&&(b.preventDefault(),b.stopPropagation())},!0);document.documentElement.addEventListener(\"click\",function(b){var a;a:{for(a=b.target;a&&a!==document.documentElement;a=a.parentElement)if(\"A\"===a.tagName){a=\"1\"===a.getAttribute(\"data-nohref\");break a}a=!1}a&&b.preventDefault()},!0);}).call(this);</script><style>#gbar,#guser{font-size:13px;padding-top:1px !important;}#gbar{height:22px}#guser{padding-bottom:7px !important;text-align:right}.gbh,.gbd{border-top:1px solid #c9d7f1;font-size:1px}.gbh{height:0;position:absolute;top:24px;width:100%}@media all{.gb1{height:22px;margin-right:.5em;vertical-align:top}#gbar{float:left}}a.gb1,a.gb4{text-decoration:underline !important}a.gb1,a.gb4{color:#00c !important}.gbi .gb4{color:#dd8e27 !important}.gbf .gb4{color:#900 !important}\\n</style><style>body,td,a,p,.h{font-family:arial,sans-serif}body{margin:0;overflow-y:scroll}#gog{padding:3px 8px 0}td{line-height:.8em}.gac_m td{line-height:17px}form{margin-bottom:20px}.h{color:#1558d6}em{font-weight:bold;font-style:normal}.lst{height:25px;width:496px}.gsfi,.lst{font:18px arial,sans-serif}.gsfs{font:17px arial,sans-serif}.ds{display:inline-box;display:inline-block;margin:3px 0 4px;margin-left:4px}input{font-family:inherit}body{background:#fff;color:#000}a{color:#4b11a8;text-decoration:none}a:hover,a:active{text-decoration:underline}.fl a{color:#1558d6}a:visited{color:#4b11a8}.sblc{padding-top:5px}.sblc a{display:block;margin:2px 0;margin-left:13px;font-size:11px}.lsbb{background:#f8f9fa;border:solid 1px;border-color:#dadce0 #70757a #70757a #dadce0;height:30px}.lsbb{display:block}#WqQANb a{display:inline-block;margin:0 12px}.lsb{background:url(/images/nav_logo229.png) 0 -261px repeat-x;border:none;color:#000;cursor:pointer;height:30px;margin:0;outline:0;font:15px arial,sans-serif;vertical-align:top}.lsb:active{background:#dadce0}.lst:focus{outline:none}</style><script nonce=\"gUh86GFKRLRpG20ena0Z7w\">(function(){window.google.erd={jsr:1,bv:1751,de:true};\\nvar h=this||self;var k,l=null!=(k=h.mei)?k:1,n,p=null!=(n=h.sdo)?n:!0,q=0,r,t=google.erd,v=t.jsr;google.ml=function(a,b,d,m,e){e=void 0===e?2:e;b&&(r=a&&a.message);if(google.dl)return google.dl(a,e,d),null;if(0>v){window.console&&console.error(a,d);if(-2===v)throw a;b=!1}else b=!a||!a.message||\"Error loading script\"===a.message||q>=l&&!m?!1:!0;if(!b)return null;q++;d=d||{};b=encodeURIComponent;var c=\"/gen_204?atyp=i&ei=\"+b(google.kEI);google.kEXPI&&(c+=\"&jexpid=\"+b(google.kEXPI));c+=\"&srcpg=\"+b(google.sn)+\"&jsr=\"+b(t.jsr)+\"&bver=\"+b(t.bv);var f=a.lineNumber;void 0!==f&&(c+=\"&line=\"+f);var g=\\na.fileName;g&&(0<g.indexOf(\"-extension:/\")&&(e=3),c+=\"&script=\"+b(g),f&&g===window.location.href&&(f=document.documentElement.outerHTML.split(\"\\\\n\")[f],c+=\"&cad=\"+b(f?f.substring(0,300):\"No script found.\")));c+=\"&jsel=\"+e;for(var u in d)c+=\"&\",c+=b(u),c+=\"=\",c+=b(d[u]);c=c+\"&emsg=\"+b(a.name+\": \"+a.message);c=c+\"&jsst=\"+b(a.stack||\"N/A\");12288<=c.length&&(c=c.substr(0,12288));a=c;m||google.log(0,\"\",a);return a};window.onerror=function(a,b,d,m,e){r!==a&&(a=e instanceof Error?e:Error(a),void 0===d||\"lineNumber\"in a||(a.lineNumber=d),void 0===b||\"fileName\"in a||(a.fileName=b),google.ml(a,!1,void 0,!1,\"SyntaxError\"===a.name||\"SyntaxError\"===a.message.substring(0,11)||-1!==a.message.indexOf(\"Script error\")?3:0));r=null;p&&q>=l&&(window.onerror=null)};})();</script></head><body bgcolor=\"#fff\"><script nonce=\"gUh86GFKRLRpG20ena0Z7w\">(function(){var src=\\'/images/nav_logo229.png\\';var iesg=false;document.body.onload = function(){window.n && window.n();if (document.images){new Image().src=src;}\\nif (!iesg){document.f&&document.f.q.focus();document.gbqf&&document.gbqf.q.focus();}\\n}\\n})();</script><div id=\"mngb\"><div id=gbar><nobr><b class=gb1>Ricerca</b> <a class=gb1 href=\"http://www.google.it/imghp?hl=it&tab=wi\">Immagini</a> <a class=gb1 href=\"http://maps.google.it/maps?hl=it&tab=wl\">Maps</a> <a class=gb1 href=\"https://play.google.com/?hl=it&tab=w8\">Play</a> <a class=gb1 href=\"https://www.youtube.com/?tab=w1\">YouTube</a> <a class=gb1 href=\"https://news.google.com/?tab=wn\">News</a> <a class=gb1 href=\"https://mail.google.com/mail/?tab=wm\">Gmail</a> <a class=gb1 href=\"https://drive.google.com/?tab=wo\">Drive</a> <a class=gb1 style=\"text-decoration:none\" href=\"https://www.google.it/intl/it/about/products?tab=wh\"><u>Altro</u> &raquo;</a></nobr></div><div id=guser width=100%><nobr><span id=gbn class=gbi></span><span id=gbf class=gbf></span><span id=gbe></span><a href=\"http://www.google.it/history/optout?hl=it\" class=gb4>Cronologia web</a> | <a  href=\"/preferences?hl=it\" class=gb4>Impostazioni</a> | <a target=_top id=gb_70 href=\"https://accounts.google.com/ServiceLogin?hl=it&passive=true&continue=http://www.google.it/&ec=GAZAAQ\" class=gb4>Accedi</a></nobr></div><div class=gbh style=left:0></div><div class=gbh style=right:0></div></div><center><br clear=\"all\" id=\"lgpd\"><div id=\"lga\"><img alt=\"Google\" height=\"92\" src=\"/images/branding/googlelogo/1x/googlelogo_white_background_color_272x92dp.png\" style=\"padding:28px 0 14px\" width=\"272\" id=\"hplogo\"><br><br></div><form action=\"/search\" name=\"f\"><table cellpadding=\"0\" cellspacing=\"0\"><tr valign=\"top\"><td width=\"25%\">&nbsp;</td><td align=\"center\" nowrap=\"\"><input name=\"ie\" value=\"ISO-8859-1\" type=\"hidden\"><input value=\"it\" name=\"hl\" type=\"hidden\"><input name=\"source\" type=\"hidden\" value=\"hp\"><input name=\"biw\" type=\"hidden\"><input name=\"bih\" type=\"hidden\"><div class=\"ds\" style=\"height:32px;margin:4px 0\"><input class=\"lst\" style=\"margin:0;padding:5px 8px 0 6px;vertical-align:top;color:#000\" autocomplete=\"off\" value=\"\" title=\"Cerca con Google\" maxlength=\"2048\" name=\"q\" size=\"57\"></div><br style=\"line-height:0\"><span class=\"ds\"><span class=\"lsbb\"><input class=\"lsb\" value=\"Cerca con Google\" name=\"btnG\" type=\"submit\"></span></span><span class=\"ds\"><span class=\"lsbb\"><input class=\"lsb\" id=\"tsuid_1\" value=\"Mi sento fortunato\" name=\"btnI\" type=\"submit\"><script nonce=\"gUh86GFKRLRpG20ena0Z7w\">(function(){var id=\\'tsuid_1\\';document.getElementById(id).onclick = function(){if (this.form.q.value){this.checked = 1;if (this.form.iflsig)this.form.iflsig.disabled = false;}\\nelse top.location=\\'/doodles/\\';};})();</script><input value=\"AK50M_UAAAAAZAC95WullP1izqqmBsgncSIdkZ7lGu18\" name=\"iflsig\" type=\"hidden\"></span></span></td><td class=\"fl sblc\" align=\"left\" nowrap=\"\" width=\"25%\"><a href=\"/advanced_search?hl=it&amp;authuser=0\">Ricerca avanzata</a></td></tr></table><input id=\"gbv\" name=\"gbv\" type=\"hidden\" value=\"1\"><script nonce=\"gUh86GFKRLRpG20ena0Z7w\">(function(){var a,b=\"1\";if(document&&document.getElementById)if(\"undefined\"!=typeof XMLHttpRequest)b=\"2\";else if(\"undefined\"!=typeof ActiveXObject){var c,d,e=[\"MSXML2.XMLHTTP.6.0\",\"MSXML2.XMLHTTP.3.0\",\"MSXML2.XMLHTTP\",\"Microsoft.XMLHTTP\"];for(c=0;d=e[c++];)try{new ActiveXObject(d),b=\"2\"}catch(h){}}a=b;if(\"2\"==a&&-1==location.search.indexOf(\"&gbv=2\")){var f=google.gbvu,g=document.getElementById(\"gbv\");g&&(g.value=a);f&&window.setTimeout(function(){location.href=f},0)};}).call(this);</script></form><div id=\"gac_scont\"></div><div style=\"font-size:83%;min-height:3.5em\"><br></div><span id=\"footer\"><div style=\"font-size:10pt\"><div style=\"margin:19px auto;text-align:center\" id=\"WqQANb\"><a href=\"/intl/it/ads/\">Pubblicit\\xe0</a><a href=\"http://www.google.it/intl/it/services/\">Soluzioni aziendali</a><a href=\"/intl/it/about.html\">Tutto su Google</a><a href=\"http://www.google.it/setprefdomain?prefdom=US&amp;sig=64020155K_LYrZ8FlLEFb7f_bBxtu4SpRmW3M%3D\" id=\"fehl\">Google.com</a></div></div><p style=\"font-size:8pt;color:#70757a\">&copy; 2023 - <a href=\"/intl/it/policies/privacy/\">Privacy</a> - <a href=\"/intl/it/policies/terms/\">Termini</a></p></span></center><script nonce=\"gUh86GFKRLRpG20ena0Z7w\">(function(){window.google.cdo={height:757,width:1440};(function(){var a=window.innerWidth,b=window.innerHeight;if(!a||!b){var c=window.document,d=\"CSS1Compat\"==c.compatMode?c.documentElement:c.body;a=d.clientWidth;b=d.clientHeight}a&&b&&(a!=google.cdo.width||b!=google.cdo.height)&&google.log(\"\",\"\",\"/client_204?&atyp=i&biw=\"+a+\"&bih=\"+b+\"&ei=\"+google.kEI);}).call(this);})();</script> <script nonce=\"gUh86GFKRLRpG20ena0Z7w\">(function(){google.xjs={ck:\\'xjs.hp.FiypOaOGiwM.L.X.O\\',cs:\\'ACT90oGeQU2U2jVeaBXpbEsqLSjkB7k4qg\\',excm:[]};})();</script>  <script nonce=\"gUh86GFKRLRpG20ena0Z7w\">(function(){var u=\\'/xjs/_/js/k\\\\x3dxjs.hp.en.DrOHaaDQKDk.O/am\\\\x3dAACgEwBAAYAF/d\\\\x3d1/ed\\\\x3d1/rs\\\\x3dACT90oHAyujrVGv-v6ZZNObf0Z3WouPTPA/m\\\\x3dsb_he,d\\';var amd=0;\\nvar d=this||self,e=function(a){return a};var g;var l=function(a,b){this.g=b===h?a:\"\"};l.prototype.toString=function(){return this.g+\"\"};var h={};\\nfunction m(){var a=u;google.lx=function(){p(a);google.lx=function(){}};google.bx||google.lx()}\\nfunction p(a){google.timers&&google.timers.load&&google.tick&&google.tick(\"load\",\"xjsls\");var b=document;var c=\"SCRIPT\";\"application/xhtml+xml\"===b.contentType&&(c=c.toLowerCase());c=b.createElement(c);a=null===a?\"null\":void 0===a?\"undefined\":a;if(void 0===g){b=null;var k=d.trustedTypes;if(k&&k.createPolicy){try{b=k.createPolicy(\"goog#html\",{createHTML:e,createScript:e,createScriptURL:e})}catch(q){d.console&&d.console.error(q.message)}g=b}else g=b}a=(b=g)?b.createScriptURL(a):a;a=new l(a,h);c.src=\\na instanceof l&&a.constructor===l?a.g:\"type_error:TrustedResourceUrl\";var f,n;(f=(a=null==(n=(f=(c.ownerDocument&&c.ownerDocument.defaultView||window).document).querySelector)?void 0:n.call(f,\"script[nonce]\"))?a.nonce||a.getAttribute(\"nonce\")||\"\":\"\")&&c.setAttribute(\"nonce\",f);document.body.appendChild(c);google.psa=!0};google.xjsu=u;setTimeout(function(){0<amd?google.caft(function(){return m()},amd):m()},0);})();function _DumpException(e){throw e;}\\nfunction _F_installCss(c){}\\n(function(){google.jl={blt:\\'none\\',chnk:0,dw:false,dwu:true,emtn:0,end:0,ico:false,ikb:0,ine:false,injs:\\'none\\',injt:0,injth:0,injv2:false,lls:\\'default\\',pdt:0,rep:0,snet:true,strt:0,ubm:false,uwp:true};})();(function(){var pmc=\\'{\\\\x22d\\\\x22:{},\\\\x22sb_he\\\\x22:{\\\\x22agen\\\\x22:true,\\\\x22cgen\\\\x22:true,\\\\x22client\\\\x22:\\\\x22heirloom-hp\\\\x22,\\\\x22dh\\\\x22:true,\\\\x22ds\\\\x22:\\\\x22\\\\x22,\\\\x22fl\\\\x22:true,\\\\x22host\\\\x22:\\\\x22google.it\\\\x22,\\\\x22jsonp\\\\x22:true,\\\\x22lm\\\\x22:true,\\\\x22msgs\\\\x22:{\\\\x22cibl\\\\x22:\\\\x22Cancella ricerca\\\\x22,\\\\x22dym\\\\x22:\\\\x22Forse cercavi:\\\\x22,\\\\x22lcky\\\\x22:\\\\x22Mi sento fortunato\\\\x22,\\\\x22lml\\\\x22:\\\\x22Ulteriori informazioni\\\\x22,\\\\x22psrc\\\\x22:\\\\x22Questa ricerca \\xe8 stata rimossa dalla tua \\\\\\\\u003Ca href\\\\x3d\\\\\\\\\\\\x22/history\\\\\\\\\\\\x22\\\\\\\\u003ECronologia web\\\\\\\\u003C/a\\\\\\\\u003E\\\\x22,\\\\x22psrl\\\\x22:\\\\x22Rimuovi\\\\x22,\\\\x22sbit\\\\x22:\\\\x22Ricerca tramite immagine\\\\x22,\\\\x22srch\\\\x22:\\\\x22Cerca con Google\\\\x22},\\\\x22ovr\\\\x22:{},\\\\x22pq\\\\x22:\\\\x22\\\\x22,\\\\x22rfs\\\\x22:[],\\\\x22sbas\\\\x22:\\\\x220 3px 8px 0 rgba(0,0,0,0.2),0 0 0 1px rgba(0,0,0,0.08)\\\\x22,\\\\x22stok\\\\x22:\\\\x222s0fTYXTzKYyEz_4kOEt6qqDwKw\\\\x22}}\\';google.pmc=JSON.parse(pmc);})();</script>        </body></html>'\n"
     ]
    }
   ],
   "source": [
    "import requests\n",
    "response = requests.get(\"http://www.google.it\")\n",
    "\n",
    "print(response.status_code)\n",
    "print(type(response))\n",
    "\n",
    "# Notare che il tipo dell'oggetto restituito è un tipo Response\n",
    "# Un modo diverso di connettersi\n",
    "\n",
    "from urllib.request import urlopen\n",
    "html = urlopen(\"http://www.google.it\")\n",
    "print(type(html))\n",
    "# Notare che il tipo dell'oggetto restituito è un tipo HTTPResponse\n",
    "\n",
    "print(\"**************************\")\n",
    "#Stampa il contentuot della pagina\n",
    "print(html.read())\n"
   ]
  },
  {
   "cell_type": "markdown",
   "id": "47adc2cb",
   "metadata": {
    "slideshow": {
     "slide_type": "fragment"
    }
   },
   "source": [
    "* **urllib, request**:  **librerie standard** di Python: non richiesta la installazione, offrono diverse funzionalità\n",
    "    * richiesta di dati dal web\n",
    "    * gestione dei cookies\n",
    "    * gestione dei metadati (**headers**) delle richieste"
   ]
  },
  {
   "cell_type": "markdown",
   "id": "bfd0ebd7",
   "metadata": {
    "slideshow": {
     "slide_type": "slide"
    }
   },
   "source": [
    "# API: modalità di intefacciamento\n",
    "\n",
    "* varia a seconda del sistema\n",
    "* la modalità più semplice: inviare una richiesta **HTTP GET**\n",
    "     * la **URL** indica la locazione dei dati richiesti\n",
    "     * la **URL** può includere una *query*\n",
    "     * i parametri della query indicano come filtrare i dati oppure danno indicazioni aggiuntive per la ricerca\n",
    "* per modalità di interazione più complesse, spesso il server che offre le **API** mette a disposizione il codice di un client\n",
    "    * **Twitter** ha (aveva?) un sistema di autenticazione complesso e metteva a disposizione un client **Python**\n",
    "    * **Google** raccomanda di usare il proprio client, anche se ammette anche l'accesso **URL-based**   \n",
    "    * **Coingecko** mette a disposizione un client (lo vedremo)"
   ]
  },
  {
   "cell_type": "markdown",
   "id": "04791014",
   "metadata": {
    "slideshow": {
     "slide_type": "slide"
    }
   },
   "source": [
    "# API: Autenticazione\n",
    "\n",
    "* la maggior parte delle API di ultima generazione richiedono qualche forma di autenticazione, prima di poter essere utilizzate\n",
    "* autenticazione\n",
    "    * generalmente basata sul rilascio di una **chiave** o di un **token**\n",
    "        * rilasciato in fase di registrazione \n",
    "        * il token può rimanere invariato per tutta la sessione dell'utente oppure viene cambiato periodicamente\n",
    "        * maggior sicurezza nel secondo caso\n",
    "    * il **token** viene quindi passato al servizio web ad ogni chiamata di una funzione delle **API**\n",
    "         * inviato direttamente nella **URL** in cui si richede l'accesso all'API\n",
    "         * un esempio di embedding della **api_key** nella **URL**\n",
    "         https://api.eia.gov/v2/electricity/retail-sales/data?api_key=KLsYOGH31rwhp1gerGMh5UZFM6gDV9gEEfGB7tSo&\n",
    "         * il token, ricevuto in fase di registrazione al servizio, viene inserito nella **URL** come **api_key**"
   ]
  },
  {
   "cell_type": "markdown",
   "id": "b9d66e7a",
   "metadata": {
    "slideshow": {
     "slide_type": "slide"
    }
   },
   "source": [
    "# Le API di EIA: U.S. Energy Information Administration\n",
    "\n",
    "* un' agenzia  del Dipartimento dell'energia degli Stati Uniti d'America (https://www.eia.gov/)\n",
    "* raccoglie, analizza e diffonde informazioni sull'energia indipendenti e imparziali \n",
    "* scopo: promuovere informazioni trasparenti su energia e ambiente \n",
    "* dati relativi a\n",
    "    * carbone\n",
    "    * petrolio\n",
    "    * gas naturale\n",
    "    * energia elettrica\n",
    "    * energia nucleare\n",
    "    * fonti rinnovabili"
   ]
  },
  {
   "cell_type": "markdown",
   "id": "44b9094e",
   "metadata": {
    "slideshow": {
     "slide_type": "fragment"
    }
   },
   "source": [
    "<center>\n",
    "<img src=\"Figures/APIEIA.jpg\" style=\"width:800px;height:500px;\"/>"
   ]
  },
  {
   "cell_type": "markdown",
   "id": "18d802ed",
   "metadata": {
    "slideshow": {
     "slide_type": "slide"
    }
   },
   "source": [
    "# Le API di EIA: U.S. Energy Information Administration\n",
    "\n",
    "* richiesto l'account e l'acquisizione di un token da inserire nelle richieste\n",
    "* esercizio\n",
    "    * reperirei dati annnuali relativi al prezzo dell'energia nei diversi stati USA a partire del 31/01/2021\n",
    "    * le specifiche su come costruire la **URL** per questa query, per il reperimento dei dati sono presenti in una dashboard messa \n",
    "a dispozizione da **EIA**"
   ]
  },
  {
   "cell_type": "markdown",
   "id": "ad6b168d",
   "metadata": {
    "slideshow": {
     "slide_type": "fragment"
    }
   },
   "source": [
    "<img src=\"Figures/EIAelectricity.jpg\" style=\"width:1000px;height:700px;\"/>"
   ]
  },
  {
   "cell_type": "markdown",
   "id": "ee2e1db5",
   "metadata": {
    "slideshow": {
     "slide_type": "slide"
    }
   },
   "source": [
    "# Importare dati da EIA\n",
    "\n",
    "* scrivere uno script **Python** per importare i dati da **EIA**, relativi alla query descritta nella slide precedente\n",
    "* i dati importati devono essere registrati su un file **csv**\n",
    "   * raggruppare le informazioni per stato USA e sul file registrare la la sigla dello stato, la descrizione dello          stato per esteso, la rilevazione del prezzo della energia\n",
    "* quindi effettuare alcune analisi sui dati reperiti\n",
    "* quale librerie sono necessarie?"
   ]
  },
  {
   "cell_type": "code",
   "execution_count": 2,
   "id": "54f4d8d3",
   "metadata": {
    "slideshow": {
     "slide_type": "fragment"
    }
   },
   "outputs": [],
   "source": [
    "import csv\n",
    "import requests\n"
   ]
  },
  {
   "cell_type": "markdown",
   "id": "32cf6dec",
   "metadata": {
    "slideshow": {
     "slide_type": "slide"
    }
   },
   "source": [
    "# Approfondimenti: il modulo requests\n",
    "\n",
    "* libreria che consente di inviare ad un server delle richieste **HTTP**\n",
    "    * **PUT**\n",
    "    * **GET**\n",
    "    * **POST**\n",
    "\n",
    "* ogni richiesta restituisce un oggetto **Response**\n",
    "\n",
    "* l'oggetto **Requests**, come tutti gli oggetti **Python**, è caratterizzato da un insieme di proprietà\n",
    "    * .content restituisce il contenuto in bytes\n",
    "    * .text restituisce il contenuto comer una stringa, usando **UTF-8** come encoding\n"
   ]
  },
  {
   "cell_type": "code",
   "execution_count": 3,
   "id": "11c64d50",
   "metadata": {
    "slideshow": {
     "slide_type": "fragment"
    }
   },
   "outputs": [
    {
     "name": "stdout",
     "output_type": "stream",
     "text": [
      "<!doctype html><html itemscope=\"\" itemtype=\"http://schema.org/WebPage\" lang=\"it\"><head><meta content=\"text/html; charset=UTF-8\" http-equiv=\"Content-Type\"><meta content=\"/images/branding/googleg/1x/googleg_standard_color_128dp.png\" itemprop=\"image\"><title>Google</title><script nonce=\"OiE96nuHZG0sVRusOM9xWw\">(function(){window.google={kEI:'4K8AZJ-vG4rvgAbctoGoDw',kEXPI:'0,1359409,6058,207,4804,2316,383,246,5,1129120,1626,1576864,16115,19397,9287,22431,1361,12317,4747,12835,4998,13228,3847,38444,1593,1279,2891,1103,2823,4422,3406,606,30668,27619,2403,2614,13142,3,576,6460,803,13320,4,1528,2304,42126,13659,4437,9358,7428,5812,2545,4094,7596,1,42154,2,14022,23984,1755,5679,1020,25048,6074,4568,6259,23418,1252,5835,14967,4333,7484,7410,16865,10962,404,6977,15970,872,6578,1251,10925,880,9,1920,5784,3995,12414,1466,2,7508,1497,13267,6305,16743,3029,427,927,4869,6,14430,4641,15565,1622,1779,3418,1558,4235,4,2,481,3329,4414,2426,1741,2356,253,4134,988,3030,426,2608,2097,980,1410,20,3,867,136,102,6399,768,1804,7540,10,679,2238,5,1648,109,96,907,124,152,298,2037,10,10061,565,355,776,4649,249,212,2,375,1590,4859,1,1170,1674,600,269,521,274,852,1513,648,14,331,25,109,181,662,1,324,622,7044,6,221,35,10,3,1,8,145,736,1934,911,150,301,9,1,154,72,17,37,258,140,51,41,15,5,51,128,247,272,64,372,791,1,3,132,752,259,1232,381,1,2,962,679,585,250,503,258,4,35,71,1360,55,842,3,3,397,48,664,403,199,181,442,149,1,3,4,335,1106,26,1166,1608,5233106,2423,103,249,237,8798606,3311,141,795,19735,1,1,346,20730465,2920822,299198,4042142,1964,5417,11255,2894,512,5738,14100,321,277',kBL:'qDo8'};google.sn='webhp';google.kHL='it';})();(function(){\n",
      "var f=this||self;var h,k=[];function l(a){for(var b;a&&(!a.getAttribute||!(b=a.getAttribute(\"eid\")));)a=a.parentNode;return b||h}function m(a){for(var b=null;a&&(!a.getAttribute||!(b=a.getAttribute(\"leid\")));)a=a.parentNode;return b}\n",
      "function n(a,b,c,d,g){var e=\"\";c||-1!==b.search(\"&ei=\")||(e=\"&ei=\"+l(d),-1===b.search(\"&lei=\")&&(d=m(d))&&(e+=\"&lei=\"+d));d=\"\";!c&&f._cshid&&-1===b.search(\"&cshid=\")&&\"slh\"!==a&&(d=\"&cshid=\"+f._cshid);c=c||\"/\"+(g||\"gen_204\")+\"?atyp=i&ct=\"+a+\"&cad=\"+b+e+\"&zx=\"+Date.now()+d;/^http:/i.test(c)&&\"https:\"===window.location.protocol&&(google.ml&&google.ml(Error(\"a\"),!1,{src:c,glmm:1}),c=\"\");return c};h=google.kEI;google.getEI=l;google.getLEI=m;google.ml=function(){return null};google.log=function(a,b,c,d,g){if(c=n(a,b,c,d,g)){a=new Image;var e=k.length;k[e]=a;a.onerror=a.onload=a.onabort=function(){delete k[e]};a.src=c}};google.logUrl=n;}).call(this);(function(){google.y={};google.sy=[];google.x=function(a,b){if(a)var c=a.id;else{do c=Math.random();while(google.y[c])}google.y[c]=[a,b];return!1};google.sx=function(a){google.sy.push(a)};google.lm=[];google.plm=function(a){google.lm.push.apply(google.lm,a)};google.lq=[];google.load=function(a,b,c){google.lq.push([[a],b,c])};google.loadAll=function(a,b){google.lq.push([a,b])};google.bx=!1;google.lx=function(){};}).call(this);google.f={};(function(){\n",
      "document.documentElement.addEventListener(\"submit\",function(b){var a;if(a=b.target){var c=a.getAttribute(\"data-submitfalse\");a=\"1\"===c||\"q\"===c&&!a.elements.q.value?!0:!1}else a=!1;a&&(b.preventDefault(),b.stopPropagation())},!0);document.documentElement.addEventListener(\"click\",function(b){var a;a:{for(a=b.target;a&&a!==document.documentElement;a=a.parentElement)if(\"A\"===a.tagName){a=\"1\"===a.getAttribute(\"data-nohref\");break a}a=!1}a&&b.preventDefault()},!0);}).call(this);</script><style>#gbar,#guser{font-size:13px;padding-top:1px !important;}#gbar{height:22px}#guser{padding-bottom:7px !important;text-align:right}.gbh,.gbd{border-top:1px solid #c9d7f1;font-size:1px}.gbh{height:0;position:absolute;top:24px;width:100%}@media all{.gb1{height:22px;margin-right:.5em;vertical-align:top}#gbar{float:left}}a.gb1,a.gb4{text-decoration:underline !important}a.gb1,a.gb4{color:#00c !important}.gbi .gb4{color:#dd8e27 !important}.gbf .gb4{color:#900 !important}\n",
      "</style><style>body,td,a,p,.h{font-family:arial,sans-serif}body{margin:0;overflow-y:scroll}#gog{padding:3px 8px 0}td{line-height:.8em}.gac_m td{line-height:17px}form{margin-bottom:20px}.h{color:#1558d6}em{font-weight:bold;font-style:normal}.lst{height:25px;width:496px}.gsfi,.lst{font:18px arial,sans-serif}.gsfs{font:17px arial,sans-serif}.ds{display:inline-box;display:inline-block;margin:3px 0 4px;margin-left:4px}input{font-family:inherit}body{background:#fff;color:#000}a{color:#4b11a8;text-decoration:none}a:hover,a:active{text-decoration:underline}.fl a{color:#1558d6}a:visited{color:#4b11a8}.sblc{padding-top:5px}.sblc a{display:block;margin:2px 0;margin-left:13px;font-size:11px}.lsbb{background:#f8f9fa;border:solid 1px;border-color:#dadce0 #70757a #70757a #dadce0;height:30px}.lsbb{display:block}#WqQANb a{display:inline-block;margin:0 12px}.lsb{background:url(/images/nav_logo229.png) 0 -261px repeat-x;border:none;color:#000;cursor:pointer;height:30px;margin:0;outline:0;font:15px arial,sans-serif;vertical-align:top}.lsb:active{background:#dadce0}.lst:focus{outline:none}</style><script nonce=\"OiE96nuHZG0sVRusOM9xWw\">(function(){window.google.erd={jsr:1,bv:1751,de:true};\n",
      "var h=this||self;var k,l=null!=(k=h.mei)?k:1,n,p=null!=(n=h.sdo)?n:!0,q=0,r,t=google.erd,v=t.jsr;google.ml=function(a,b,d,m,e){e=void 0===e?2:e;b&&(r=a&&a.message);if(google.dl)return google.dl(a,e,d),null;if(0>v){window.console&&console.error(a,d);if(-2===v)throw a;b=!1}else b=!a||!a.message||\"Error loading script\"===a.message||q>=l&&!m?!1:!0;if(!b)return null;q++;d=d||{};b=encodeURIComponent;var c=\"/gen_204?atyp=i&ei=\"+b(google.kEI);google.kEXPI&&(c+=\"&jexpid=\"+b(google.kEXPI));c+=\"&srcpg=\"+b(google.sn)+\"&jsr=\"+b(t.jsr)+\"&bver=\"+b(t.bv);var f=a.lineNumber;void 0!==f&&(c+=\"&line=\"+f);var g=\n",
      "a.fileName;g&&(0<g.indexOf(\"-extension:/\")&&(e=3),c+=\"&script=\"+b(g),f&&g===window.location.href&&(f=document.documentElement.outerHTML.split(\"\\n\")[f],c+=\"&cad=\"+b(f?f.substring(0,300):\"No script found.\")));c+=\"&jsel=\"+e;for(var u in d)c+=\"&\",c+=b(u),c+=\"=\",c+=b(d[u]);c=c+\"&emsg=\"+b(a.name+\": \"+a.message);c=c+\"&jsst=\"+b(a.stack||\"N/A\");12288<=c.length&&(c=c.substr(0,12288));a=c;m||google.log(0,\"\",a);return a};window.onerror=function(a,b,d,m,e){r!==a&&(a=e instanceof Error?e:Error(a),void 0===d||\"lineNumber\"in a||(a.lineNumber=d),void 0===b||\"fileName\"in a||(a.fileName=b),google.ml(a,!1,void 0,!1,\"SyntaxError\"===a.name||\"SyntaxError\"===a.message.substring(0,11)||-1!==a.message.indexOf(\"Script error\")?3:0));r=null;p&&q>=l&&(window.onerror=null)};})();</script></head><body bgcolor=\"#fff\"><script nonce=\"OiE96nuHZG0sVRusOM9xWw\">(function(){var src='/images/nav_logo229.png';var iesg=false;document.body.onload = function(){window.n && window.n();if (document.images){new Image().src=src;}\n",
      "if (!iesg){document.f&&document.f.q.focus();document.gbqf&&document.gbqf.q.focus();}\n",
      "}\n",
      "})();</script><div id=\"mngb\"><div id=gbar><nobr><b class=gb1>Ricerca</b> <a class=gb1 href=\"http://www.google.it/imghp?hl=it&tab=wi\">Immagini</a> <a class=gb1 href=\"http://maps.google.it/maps?hl=it&tab=wl\">Maps</a> <a class=gb1 href=\"https://play.google.com/?hl=it&tab=w8\">Play</a> <a class=gb1 href=\"https://www.youtube.com/?tab=w1\">YouTube</a> <a class=gb1 href=\"https://news.google.com/?tab=wn\">News</a> <a class=gb1 href=\"https://mail.google.com/mail/?tab=wm\">Gmail</a> <a class=gb1 href=\"https://drive.google.com/?tab=wo\">Drive</a> <a class=gb1 style=\"text-decoration:none\" href=\"https://www.google.it/intl/it/about/products?tab=wh\"><u>Altro</u> &raquo;</a></nobr></div><div id=guser width=100%><nobr><span id=gbn class=gbi></span><span id=gbf class=gbf></span><span id=gbe></span><a href=\"http://www.google.it/history/optout?hl=it\" class=gb4>Cronologia web</a> | <a  href=\"/preferences?hl=it\" class=gb4>Impostazioni</a> | <a target=_top id=gb_70 href=\"https://accounts.google.com/ServiceLogin?hl=it&passive=true&continue=http://www.google.it/&ec=GAZAAQ\" class=gb4>Accedi</a></nobr></div><div class=gbh style=left:0></div><div class=gbh style=right:0></div></div><center><br clear=\"all\" id=\"lgpd\"><div id=\"lga\"><img alt=\"Google\" height=\"92\" src=\"/images/branding/googlelogo/1x/googlelogo_white_background_color_272x92dp.png\" style=\"padding:28px 0 14px\" width=\"272\" id=\"hplogo\"><br><br></div><form action=\"/search\" name=\"f\"><table cellpadding=\"0\" cellspacing=\"0\"><tr valign=\"top\"><td width=\"25%\">&nbsp;</td><td align=\"center\" nowrap=\"\"><input name=\"ie\" value=\"ISO-8859-1\" type=\"hidden\"><input value=\"it\" name=\"hl\" type=\"hidden\"><input name=\"source\" type=\"hidden\" value=\"hp\"><input name=\"biw\" type=\"hidden\"><input name=\"bih\" type=\"hidden\"><div class=\"ds\" style=\"height:32px;margin:4px 0\"><input class=\"lst\" style=\"margin:0;padding:5px 8px 0 6px;vertical-align:top;color:#000\" autocomplete=\"off\" value=\"\" title=\"Cerca con Google\" maxlength=\"2048\" name=\"q\" size=\"57\"></div><br style=\"line-height:0\"><span class=\"ds\"><span class=\"lsbb\"><input class=\"lsb\" value=\"Cerca con Google\" name=\"btnG\" type=\"submit\"></span></span><span class=\"ds\"><span class=\"lsbb\"><input class=\"lsb\" id=\"tsuid_1\" value=\"Mi sento fortunato\" name=\"btnI\" type=\"submit\"><script nonce=\"OiE96nuHZG0sVRusOM9xWw\">(function(){var id='tsuid_1';document.getElementById(id).onclick = function(){if (this.form.q.value){this.checked = 1;if (this.form.iflsig)this.form.iflsig.disabled = false;}\n",
      "else top.location='/doodles/';};})();</script><input value=\"AK50M_UAAAAAZAC98JX7Ej0jKySCd9zq9t1wwkTznRy4\" name=\"iflsig\" type=\"hidden\"></span></span></td><td class=\"fl sblc\" align=\"left\" nowrap=\"\" width=\"25%\"><a href=\"/advanced_search?hl=it&amp;authuser=0\">Ricerca avanzata</a></td></tr></table><input id=\"gbv\" name=\"gbv\" type=\"hidden\" value=\"1\"><script nonce=\"OiE96nuHZG0sVRusOM9xWw\">(function(){var a,b=\"1\";if(document&&document.getElementById)if(\"undefined\"!=typeof XMLHttpRequest)b=\"2\";else if(\"undefined\"!=typeof ActiveXObject){var c,d,e=[\"MSXML2.XMLHTTP.6.0\",\"MSXML2.XMLHTTP.3.0\",\"MSXML2.XMLHTTP\",\"Microsoft.XMLHTTP\"];for(c=0;d=e[c++];)try{new ActiveXObject(d),b=\"2\"}catch(h){}}a=b;if(\"2\"==a&&-1==location.search.indexOf(\"&gbv=2\")){var f=google.gbvu,g=document.getElementById(\"gbv\");g&&(g.value=a);f&&window.setTimeout(function(){location.href=f},0)};}).call(this);</script></form><div id=\"gac_scont\"></div><div style=\"font-size:83%;min-height:3.5em\"><br></div><span id=\"footer\"><div style=\"font-size:10pt\"><div style=\"margin:19px auto;text-align:center\" id=\"WqQANb\"><a href=\"/intl/it/ads/\">Pubblicità</a><a href=\"http://www.google.it/intl/it/services/\">Soluzioni aziendali</a><a href=\"/intl/it/about.html\">Tutto su Google</a><a href=\"http://www.google.it/setprefdomain?prefdom=US&amp;sig=64020160K_Gs51efcpVSITJkptygULu33ujbw%3D\" id=\"fehl\">Google.com</a></div></div><p style=\"font-size:8pt;color:#70757a\">&copy; 2023 - <a href=\"/intl/it/policies/privacy/\">Privacy</a> - <a href=\"/intl/it/policies/terms/\">Termini</a></p></span></center><script nonce=\"OiE96nuHZG0sVRusOM9xWw\">(function(){window.google.cdo={height:757,width:1440};(function(){var a=window.innerWidth,b=window.innerHeight;if(!a||!b){var c=window.document,d=\"CSS1Compat\"==c.compatMode?c.documentElement:c.body;a=d.clientWidth;b=d.clientHeight}a&&b&&(a!=google.cdo.width||b!=google.cdo.height)&&google.log(\"\",\"\",\"/client_204?&atyp=i&biw=\"+a+\"&bih=\"+b+\"&ei=\"+google.kEI);}).call(this);})();</script> <script nonce=\"OiE96nuHZG0sVRusOM9xWw\">(function(){google.xjs={ck:'xjs.hp.FiypOaOGiwM.L.X.O',cs:'ACT90oGeQU2U2jVeaBXpbEsqLSjkB7k4qg',excm:[]};})();</script>  <script nonce=\"OiE96nuHZG0sVRusOM9xWw\">(function(){var u='/xjs/_/js/k\\x3dxjs.hp.en.DrOHaaDQKDk.O/am\\x3dAACgEwBAAYAF/d\\x3d1/ed\\x3d1/rs\\x3dACT90oHAyujrVGv-v6ZZNObf0Z3WouPTPA/m\\x3dsb_he,d';var amd=0;\n",
      "var d=this||self,e=function(a){return a};var g;var l=function(a,b){this.g=b===h?a:\"\"};l.prototype.toString=function(){return this.g+\"\"};var h={};\n",
      "function m(){var a=u;google.lx=function(){p(a);google.lx=function(){}};google.bx||google.lx()}\n",
      "function p(a){google.timers&&google.timers.load&&google.tick&&google.tick(\"load\",\"xjsls\");var b=document;var c=\"SCRIPT\";\"application/xhtml+xml\"===b.contentType&&(c=c.toLowerCase());c=b.createElement(c);a=null===a?\"null\":void 0===a?\"undefined\":a;if(void 0===g){b=null;var k=d.trustedTypes;if(k&&k.createPolicy){try{b=k.createPolicy(\"goog#html\",{createHTML:e,createScript:e,createScriptURL:e})}catch(q){d.console&&d.console.error(q.message)}g=b}else g=b}a=(b=g)?b.createScriptURL(a):a;a=new l(a,h);c.src=\n",
      "a instanceof l&&a.constructor===l?a.g:\"type_error:TrustedResourceUrl\";var f,n;(f=(a=null==(n=(f=(c.ownerDocument&&c.ownerDocument.defaultView||window).document).querySelector)?void 0:n.call(f,\"script[nonce]\"))?a.nonce||a.getAttribute(\"nonce\")||\"\":\"\")&&c.setAttribute(\"nonce\",f);document.body.appendChild(c);google.psa=!0};google.xjsu=u;setTimeout(function(){0<amd?google.caft(function(){return m()},amd):m()},0);})();function _DumpException(e){throw e;}\n",
      "function _F_installCss(c){}\n",
      "(function(){google.jl={blt:'none',chnk:0,dw:false,dwu:true,emtn:0,end:0,ico:false,ikb:0,ine:false,injs:'none',injt:0,injth:0,injv2:false,lls:'default',pdt:0,rep:0,snet:true,strt:0,ubm:false,uwp:true};})();(function(){var pmc='{\\x22d\\x22:{},\\x22sb_he\\x22:{\\x22agen\\x22:true,\\x22cgen\\x22:true,\\x22client\\x22:\\x22heirloom-hp\\x22,\\x22dh\\x22:true,\\x22ds\\x22:\\x22\\x22,\\x22fl\\x22:true,\\x22host\\x22:\\x22google.it\\x22,\\x22jsonp\\x22:true,\\x22lm\\x22:true,\\x22msgs\\x22:{\\x22cibl\\x22:\\x22Cancella ricerca\\x22,\\x22dym\\x22:\\x22Forse cercavi:\\x22,\\x22lcky\\x22:\\x22Mi sento fortunato\\x22,\\x22lml\\x22:\\x22Ulteriori informazioni\\x22,\\x22psrc\\x22:\\x22Questa ricerca è stata rimossa dalla tua \\\\u003Ca href\\x3d\\\\\\x22/history\\\\\\x22\\\\u003ECronologia web\\\\u003C/a\\\\u003E\\x22,\\x22psrl\\x22:\\x22Rimuovi\\x22,\\x22sbit\\x22:\\x22Ricerca tramite immagine\\x22,\\x22srch\\x22:\\x22Cerca con Google\\x22},\\x22ovr\\x22:{},\\x22pq\\x22:\\x22\\x22,\\x22rfs\\x22:[],\\x22sbas\\x22:\\x220 3px 8px 0 rgba(0,0,0,0.2),0 0 0 1px rgba(0,0,0,0.08)\\x22,\\x22stok\\x22:\\x222s0fTYXTzKYyEz_4kOEt6qqDwKw\\x22}}';google.pmc=JSON.parse(pmc);})();(function(){\n",
      "var b=function(a){var c=0;return function(){return c<a.length?{done:!1,value:a[c++]}:{done:!0}}},e=this||self;var g,h;a:{for(var k=[\"CLOSURE_FLAGS\"],l=e,n=0;n<k.length;n++)if(l=l[k[n]],null==l){h=null;break a}h=l}var p=h&&h[610401301];g=null!=p?p:!1;var q,r=e.navigator;q=r?r.userAgentData||null:null;function t(a){return g?q?q.brands.some(function(c){return(c=c.brand)&&-1!=c.indexOf(a)}):!1:!1}function u(a){var c;a:{if(c=e.navigator)if(c=c.userAgent)break a;c=\"\"}return-1!=c.indexOf(a)};function v(){return g?!!q&&0<q.brands.length:!1}function w(){return u(\"Safari\")&&!(x()||(v()?0:u(\"Coast\"))||(v()?0:u(\"Opera\"))||(v()?0:u(\"Edge\"))||(v()?t(\"Microsoft Edge\"):u(\"Edg/\"))||(v()?t(\"Opera\"):u(\"OPR\"))||u(\"Firefox\")||u(\"FxiOS\")||u(\"Silk\")||u(\"Android\"))}function x(){return v()?t(\"Chromium\"):(u(\"Chrome\")||u(\"CriOS\"))&&!(v()?0:u(\"Edge\"))||u(\"Silk\")}function y(){return u(\"Android\")&&!(x()||u(\"Firefox\")||u(\"FxiOS\")||(v()?0:u(\"Opera\"))||u(\"Silk\"))};var z=v()?!1:u(\"Trident\")||u(\"MSIE\");y();x();w();var A=!z&&!w(),D=function(a){if(/-[a-z]/.test(\"ved\"))return null;if(A&&a.dataset){if(y()&&!(\"ved\"in a.dataset))return null;a=a.dataset.ved;return void 0===a?null:a}return a.getAttribute(\"data-\"+\"ved\".replace(/([A-Z])/g,\"-$1\").toLowerCase())};var E=[],F=null;function G(a){a=a.target;var c=performance.now(),f=[],H=f.concat,d=E;if(!(d instanceof Array)){var m=\"undefined\"!=typeof Symbol&&Symbol.iterator&&d[Symbol.iterator];if(m)d=m.call(d);else if(\"number\"==typeof d.length)d={next:b(d)};else throw Error(\"a`\"+String(d));for(var B=[];!(m=d.next()).done;)B.push(m.value);d=B}E=H.call(f,d,[c]);if(a&&a instanceof HTMLElement)if(a===F){if(c=4<=E.length)c=5>(E[E.length-1]-E[E.length-4])/1E3;if(c){c=google.getEI(a);a.hasAttribute(\"data-ved\")?f=a?D(a)||\"\":\"\":f=(f=\n",
      "a.closest(\"[data-ved]\"))?D(f)||\"\":\"\";f=f||\"\";if(a.hasAttribute(\"jsname\"))a=a.getAttribute(\"jsname\");else{var C;a=null==(C=a.closest(\"[jsname]\"))?void 0:C.getAttribute(\"jsname\")}google.log(\"rcm\",\"&ei=\"+c+\"&ved=\"+f+\"&jsname=\"+(a||\"\"))}}else F=a,E=[c]}window.document.addEventListener(\"DOMContentLoaded\",function(){document.body.addEventListener(\"click\",G)});}).call(this);</script></body></html>\n"
     ]
    }
   ],
   "source": [
    "import requests\n",
    "response = requests.get(\"http://www.google.it\")\n",
    "print(response.text)\n"
   ]
  },
  {
   "cell_type": "markdown",
   "id": "e884db08",
   "metadata": {
    "slideshow": {
     "slide_type": "slide"
    }
   },
   "source": [
    "# Approfondimenti:  JSON parsing\n",
    "\n",
    "* le due proprietà mostrate in precedenza non risultano molto utili per elaborare il contenuto ricevuto\n",
    "* generalmente i dati reperiti mediante **API** sono resi disponibili in **JSON**\n",
    "* la libreria offre il metodo **.json** per parsare un contenuto ricevuto\n",
    "    * restituisce un dizionario **Python** che rappresenta un oggetto **JSON**\n",
    "    * coppie chive:valore\n",
    "    * un array **JSON** rappresentato come una lista **Python**\n",
    "    "
   ]
  },
  {
   "cell_type": "code",
   "execution_count": 4,
   "id": "ce943f91",
   "metadata": {
    "slideshow": {
     "slide_type": "fragment"
    }
   },
   "outputs": [
    {
     "name": "stdout",
     "output_type": "stream",
     "text": [
      "<Response [200]>\n",
      "<class 'dict'>\n"
     ]
    }
   ],
   "source": [
    "import requests\n",
    "resp = requests.get('https://reqres.in/api/users')\n",
    "print(resp)\n",
    "resp_dict = resp.json()\n",
    "print(type(resp_dict))\n",
    "\n",
    "# restituisce <class 'dict'>\n"
   ]
  },
  {
   "cell_type": "markdown",
   "id": "b218e880",
   "metadata": {
    "slideshow": {
     "slide_type": "slide"
    }
   },
   "source": [
    "# Approfondimenti: prettyprinting JSON"
   ]
  },
  {
   "cell_type": "code",
   "execution_count": 5,
   "id": "66764466",
   "metadata": {
    "slideshow": {
     "slide_type": "fragment"
    }
   },
   "outputs": [
    {
     "name": "stdout",
     "output_type": "stream",
     "text": [
      "{\n",
      "    \"page\": 1,\n",
      "    \"per_page\": 6,\n",
      "    \"total\": 12,\n",
      "    \"total_pages\": 2,\n",
      "    \"data\": [\n",
      "        {\n",
      "            \"id\": 1,\n",
      "            \"email\": \"george.bluth@reqres.in\",\n",
      "            \"first_name\": \"George\",\n",
      "            \"last_name\": \"Bluth\",\n",
      "            \"avatar\": \"https://reqres.in/img/faces/1-image.jpg\"\n",
      "        },\n",
      "        {\n",
      "            \"id\": 2,\n",
      "            \"email\": \"janet.weaver@reqres.in\",\n",
      "            \"first_name\": \"Janet\",\n",
      "            \"last_name\": \"Weaver\",\n",
      "            \"avatar\": \"https://reqres.in/img/faces/2-image.jpg\"\n",
      "        },\n",
      "        {\n",
      "            \"id\": 3,\n",
      "            \"email\": \"emma.wong@reqres.in\",\n",
      "            \"first_name\": \"Emma\",\n",
      "            \"last_name\": \"Wong\",\n",
      "            \"avatar\": \"https://reqres.in/img/faces/3-image.jpg\"\n",
      "        },\n",
      "        {\n",
      "            \"id\": 4,\n",
      "            \"email\": \"eve.holt@reqres.in\",\n",
      "            \"first_name\": \"Eve\",\n",
      "            \"last_name\": \"Holt\",\n",
      "            \"avatar\": \"https://reqres.in/img/faces/4-image.jpg\"\n",
      "        },\n",
      "        {\n",
      "            \"id\": 5,\n",
      "            \"email\": \"charles.morris@reqres.in\",\n",
      "            \"first_name\": \"Charles\",\n",
      "            \"last_name\": \"Morris\",\n",
      "            \"avatar\": \"https://reqres.in/img/faces/5-image.jpg\"\n",
      "        },\n",
      "        {\n",
      "            \"id\": 6,\n",
      "            \"email\": \"tracey.ramos@reqres.in\",\n",
      "            \"first_name\": \"Tracey\",\n",
      "            \"last_name\": \"Ramos\",\n",
      "            \"avatar\": \"https://reqres.in/img/faces/6-image.jpg\"\n",
      "        }\n",
      "    ],\n",
      "    \"support\": {\n",
      "        \"url\": \"https://reqres.in/#support-heading\",\n",
      "        \"text\": \"To keep ReqRes free, contributions towards server costs are appreciated!\"\n",
      "    }\n",
      "}\n"
     ]
    }
   ],
   "source": [
    "import json\n",
    "import requests\n",
    "\n",
    "resp = requests.get('https://reqres.in/api/users')\n",
    "resp_dict = resp.json()\n",
    "pretty = json.dumps(resp_dict, indent=4)\n",
    "print(pretty)\n"
   ]
  },
  {
   "cell_type": "markdown",
   "id": "ed105ce4",
   "metadata": {
    "slideshow": {
     "slide_type": "slide"
    }
   },
   "source": [
    "# Approfondimenti: il modulo requests, costruire un DataFrame\n",
    "\n",
    "* una volta trasformato il **JSON** in un dizionario, è possibile trasformare il dizionario in un **DataFrame PANDAS**\n",
    "* con riferimento all'esempio precednet, trasformiamo l'entrata **data** presente nel **JSON** parsato in un **dizionario Python**"
   ]
  },
  {
   "cell_type": "code",
   "execution_count": 6,
   "id": "13f8ea35",
   "metadata": {
    "slideshow": {
     "slide_type": "fragment"
    }
   },
   "outputs": [
    {
     "name": "stdout",
     "output_type": "stream",
     "text": [
      "   id                     email first_name last_name  \\\n",
      "0   1    george.bluth@reqres.in     George     Bluth   \n",
      "1   2    janet.weaver@reqres.in      Janet    Weaver   \n",
      "2   3       emma.wong@reqres.in       Emma      Wong   \n",
      "3   4        eve.holt@reqres.in        Eve      Holt   \n",
      "4   5  charles.morris@reqres.in    Charles    Morris   \n",
      "5   6    tracey.ramos@reqres.in     Tracey     Ramos   \n",
      "\n",
      "                                    avatar  \n",
      "0  https://reqres.in/img/faces/1-image.jpg  \n",
      "1  https://reqres.in/img/faces/2-image.jpg  \n",
      "2  https://reqres.in/img/faces/3-image.jpg  \n",
      "3  https://reqres.in/img/faces/4-image.jpg  \n",
      "4  https://reqres.in/img/faces/5-image.jpg  \n",
      "5  https://reqres.in/img/faces/6-image.jpg  \n"
     ]
    }
   ],
   "source": [
    "# Covertire JSON Data in un Dizionario Python\n",
    "import requests\n",
    "import pandas as pd\n",
    "\n",
    "resp = requests.get('https://reqres.in/api/users')\n",
    "resp_dict = resp.json()\n",
    "df = pd.DataFrame(resp_dict.get('data'))\n",
    "print(df)\n"
   ]
  },
  {
   "cell_type": "markdown",
   "id": "60e97d01",
   "metadata": {
    "slideshow": {
     "slide_type": "slide"
    }
   },
   "source": [
    "# Reperire dati da EIA: U.S. Energy Information Administration\n",
    "\n",
    "* i dati reperiti vengono scritti in un file **csv**\n",
    "* costruiamo la Directory con il nome del file che intendiamo creare\n",
    "* prepariamo una lista con le sigle di tutti gli **stati USA**"
   ]
  },
  {
   "cell_type": "code",
   "execution_count": 14,
   "id": "dbb0610e",
   "metadata": {
    "slideshow": {
     "slide_type": "fragment"
    }
   },
   "outputs": [],
   "source": [
    "import os\n",
    "outputfile = 'electricity_data.csv'\n",
    "states = ['AL','AK','AZ','AR','CA','CO','CT','DE','FL','GA','HI','ID','IL','IN',\n",
    "          'IA','KS','KY','LA','ME','MD','MA','MI','MN','MS','MO','MT','NE','NV',\n",
    "          'NH','NJ','NM','NY','NC','ND','OH','OK','OR','PA','RI','SC','SD','TN',\n",
    "          'TX','UT','VT','VA','WA','WV','WI','WY']\n"
   ]
  },
  {
   "cell_type": "markdown",
   "id": "6e835a3f",
   "metadata": {
    "slideshow": {
     "slide_type": "slide"
    }
   },
   "source": [
    "# Reperire dati da EIA: U.S. Energy Information Administration\n",
    "\n",
    "* la **url** è stata  costruita in base alle regole presentate nella EIA API dashboard\n",
    "    * contiene l'**API key**\n",
    "    * indica la frequenza (annuale) e l'inizio del periodo di rilevazione\n",
    "    * contiene la sigla dello stato di cui si richiedono le rilevazioni\n",
    "        * prelevata dalla lista di stati precedentemente costruita\n",
    "        * indica che il dato di interesse è il prezzo\n",
    "* costruzione di un oggetto **writer** per trasformare i dati in **csv**\n",
    "*  metodo **writerow** dell'oggetto **writer**\n",
    "    * data una lista, scrive sul file i valori della lista separati da virgola\n",
    "    * prima riga del file **csv** contiene i nomi dei vari campi del filr\n"
   ]
  },
  {
   "cell_type": "code",
   "execution_count": 15,
   "id": "799b250e",
   "metadata": {
    "slideshow": {
     "slide_type": "fragment"
    }
   },
   "outputs": [],
   "source": [
    "with open(outputfile, 'w') as f:\n",
    "    writer = csv.writer(f)\n",
    "    writer.writerow(['State','Description','Value'])\n",
    "    for s in states:\n",
    "        url = f'https://api.eia.gov/v2/electricity/retail-sales/data?api_key=KLsYOGH31rwhp1gerGMh5UZFM6gDV9gEEfGB7tSo&\\\n",
    "        data[]=price&frequency=annual&start=2021-01-31&facets[stateid][]={s}'\n",
    "        response = requests.get(url)\n",
    "        webpage = response.json()\n",
    "        for i in range(webpage['response']['total']):\n",
    "            writer.writerow([s,webpage['response']['data'][i]['stateDescription'], webpage['response']['data'][i]['price']])\n",
    "            "
   ]
  },
  {
   "cell_type": "markdown",
   "id": "824abd6c",
   "metadata": {
    "slideshow": {
     "slide_type": "slide"
    }
   },
   "source": [
    "# Interpretare i dati reperiti\n",
    "\n",
    "* occorre \n",
    "    * analizzare il **JSON** ricevuto e capire come è stato memorizzato nel dizionario\n",
    "* analizziamo la prima riga ricevuta\n",
    "    * campo totale contiene il totale delle rilevazioni\n",
    "    * nel campo **statedescription** la descrizione dello stato\n",
    "    * price il prezzo rilevato\n",
    "* i dati relativi dengono prelevati dal dizionario associato al **JSON**\n",
    "<code>\n",
    " {'response': \n",
    "    {'total': 6, \n",
    "     'dateFormat': 'YYYY', \n",
    "     'frequency': 'annual', \n",
    "     'data': [\n",
    "       {'period': 2021, \n",
    "        'stateid': 'AL', \n",
    "        'stateDescription': 'Alabama', \n",
    "        'sectorid': 'ALL', \n",
    "        'n'sectorName': 'all sectors', \n",
    "        'price': 10.18, \n",
    "        'price-units': 'cents per kilowatthour'},\n",
    "         ....... \n",
    "</code>"
   ]
  },
  {
   "cell_type": "code",
   "execution_count": null,
   "id": "168d52b1",
   "metadata": {
    "slideshow": {
     "slide_type": "fragment"
    }
   },
   "outputs": [],
   "source": [
    "#non eseguire questo codice\n",
    "for i in range(webpage['response']['total']):\n",
    "        writer.writerow([s,webpage['response']['data'][i]['stateDescription'], webpage['response']['data'][i]['price']])\n",
    "            "
   ]
  },
  {
   "cell_type": "markdown",
   "id": "82124e3a",
   "metadata": {
    "slideshow": {
     "slide_type": "slide"
    }
   },
   "source": [
    "# Analizzare i dati reperiti"
   ]
  },
  {
   "cell_type": "code",
   "execution_count": 16,
   "id": "8c8c24fb",
   "metadata": {
    "slideshow": {
     "slide_type": "fragment"
    }
   },
   "outputs": [
    {
     "name": "stdout",
     "output_type": "stream",
     "text": [
      "<class 'pandas.core.frame.DataFrame'>\n",
      "RangeIndex: 600 entries, 0 to 599\n",
      "Data columns (total 3 columns):\n",
      " #   Column       Non-Null Count  Dtype  \n",
      "---  ------       --------------  -----  \n",
      " 0   State        600 non-null    object \n",
      " 1   Description  600 non-null    object \n",
      " 2   Value        500 non-null    float64\n",
      "dtypes: float64(1), object(2)\n",
      "memory usage: 14.2+ KB\n"
     ]
    },
    {
     "data": {
      "text/html": [
       "<div>\n",
       "<style scoped>\n",
       "    .dataframe tbody tr th:only-of-type {\n",
       "        vertical-align: middle;\n",
       "    }\n",
       "\n",
       "    .dataframe tbody tr th {\n",
       "        vertical-align: top;\n",
       "    }\n",
       "\n",
       "    .dataframe thead th {\n",
       "        text-align: right;\n",
       "    }\n",
       "</style>\n",
       "<table border=\"1\" class=\"dataframe\">\n",
       "  <thead>\n",
       "    <tr style=\"text-align: right;\">\n",
       "      <th></th>\n",
       "      <th>State</th>\n",
       "      <th>Description</th>\n",
       "      <th>Value</th>\n",
       "    </tr>\n",
       "  </thead>\n",
       "  <tbody>\n",
       "    <tr>\n",
       "      <th>0</th>\n",
       "      <td>AL</td>\n",
       "      <td>Alabama</td>\n",
       "      <td>11.77</td>\n",
       "    </tr>\n",
       "    <tr>\n",
       "      <th>1</th>\n",
       "      <td>AL</td>\n",
       "      <td>Alabama</td>\n",
       "      <td>13.42</td>\n",
       "    </tr>\n",
       "    <tr>\n",
       "      <th>2</th>\n",
       "      <td>AL</td>\n",
       "      <td>Alabama</td>\n",
       "      <td>7.83</td>\n",
       "    </tr>\n",
       "    <tr>\n",
       "      <th>3</th>\n",
       "      <td>AL</td>\n",
       "      <td>Alabama</td>\n",
       "      <td>NaN</td>\n",
       "    </tr>\n",
       "    <tr>\n",
       "      <th>4</th>\n",
       "      <td>AL</td>\n",
       "      <td>Alabama</td>\n",
       "      <td>14.39</td>\n",
       "    </tr>\n",
       "  </tbody>\n",
       "</table>\n",
       "</div>"
      ],
      "text/plain": [
       "  State Description  Value\n",
       "0    AL     Alabama  11.77\n",
       "1    AL     Alabama  13.42\n",
       "2    AL     Alabama   7.83\n",
       "3    AL     Alabama    NaN\n",
       "4    AL     Alabama  14.39"
      ]
     },
     "execution_count": 16,
     "metadata": {},
     "output_type": "execute_result"
    }
   ],
   "source": [
    "\n",
    "import pandas as pd\n",
    "import matplotlib.pyplot as plt\n",
    "\n",
    "df_electricity = pd.read_csv('electricity_data.csv')\n",
    "df_electricity.info()\n",
    "df_electricity.head()\n"
   ]
  },
  {
   "cell_type": "markdown",
   "id": "60689dcb",
   "metadata": {
    "slideshow": {
     "slide_type": "slide"
    }
   },
   "source": [
    "# La API di Blockchain.com\n",
    "\n",
    "*Blockchain.com is a popular cryptocurrency wallet and blockchain explorer platform. It was founded in 2011 and is based in Luxembourg. The platform provides users with tools and services that enable them to securely store, manage, and trade cryptocurrencies, including Bitcoin, Ethereum, and Bitcoin Cash.\n",
    "In addition to its wallet and trading services, Blockchain.com also offers a blockchain explorer that allows users to search and view transactions on various blockchain networks. The platform also provides market data, news, and educational resources to help users stay informed about the cryptocurrency industry.\n",
    "Blockchain.com is one of the most widely used cryptocurrency platforms, with millions of users worldwide. The platform has a reputation for security, reliability, and ease of use, making it a popular choice for both novice and experienced cryptocurrency users\"*\n",
    "\n",
    "[ by ChayGPT, risposta verificata, completa e corretta]"
   ]
  },
  {
   "cell_type": "markdown",
   "id": "8e177c7c",
   "metadata": {
    "slideshow": {
     "slide_type": "slide"
    }
   },
   "source": [
    "# La API di Blockchain.com\n",
    "\n",
    "* consentono di analizzare singole transazioni, blocchi, indirizzi,...\n",
    "* analizzeremo una transazione, fornendo in input  l'hash che la identifica univocamente\n",
    "* ritroviamo il formato di una transazione **Bitcoin** che abbiamo illustrato teoricamente in una lezione precedente"
   ]
  },
  {
   "cell_type": "code",
   "execution_count": 17,
   "id": "fd29d35d",
   "metadata": {
    "slideshow": {
     "slide_type": "fragment"
    }
   },
   "outputs": [
    {
     "data": {
      "text/plain": [
       "{'hash': 'b6f6991d03df0e2e04dafffcd6bc418aac66049e2cd74b80f14ac86db1e3f0da',\n",
       " 'ver': 1,\n",
       " 'vin_sz': 1,\n",
       " 'vout_sz': 2,\n",
       " 'size': 258,\n",
       " 'weight': 1032,\n",
       " 'fee': 0,\n",
       " 'relayed_by': '0.0.0.0',\n",
       " 'lock_time': 0,\n",
       " 'tx_index': 7703300705990921,\n",
       " 'double_spend': False,\n",
       " 'time': 1322135154,\n",
       " 'block_index': 154598,\n",
       " 'block_height': 154598,\n",
       " 'inputs': [{'sequence': 4294967295,\n",
       "   'witness': '',\n",
       "   'script': '48304502210098a2851420e4daba656fd79cb60cb565bd7218b6b117fda9a512ffbf17f8f178022005c61f31fef3ce3f906eb672e05b65f506045a65a80431b5eaf28e0999266993014104f0f86fa57c424deb160d0fc7693f13fce5ed6542c29483c51953e4fa87ebf247487ed79b1ddcf3de66b182217fcaf3fcef3fcb44737eb93b1fcb8927ebecea26',\n",
       "   'index': 0,\n",
       "   'prev_out': {'addr': '1FwYmGEjXhMtxpWDpUXwLx7ndLNfFQncKq',\n",
       "    'n': 2,\n",
       "    'script': '76a914a3e2bcc9a5f776112497a32b05f4b9e5b2405ed988ac',\n",
       "    'spending_outpoints': [{'n': 0, 'tx_index': 7703300705990921}],\n",
       "    'spent': True,\n",
       "    'tx_index': 53059022299747,\n",
       "    'type': 0,\n",
       "    'value': 100000000}}],\n",
       " 'out': [{'type': 0,\n",
       "   'spent': True,\n",
       "   'value': 98000000,\n",
       "   'spending_outpoints': [{'tx_index': 3806555949458301, 'n': 3}],\n",
       "   'n': 0,\n",
       "   'tx_index': 7703300705990921,\n",
       "   'script': '76a91429d6a3540acfa0a950bef2bfdc75cd51c24390fd88ac',\n",
       "   'addr': '14pDqB95GWLWCjFxM4t96H2kXH7QMKSsgG'},\n",
       "  {'type': 0,\n",
       "   'spent': True,\n",
       "   'value': 2000000,\n",
       "   'spending_outpoints': [{'tx_index': 7058160547417340, 'n': 5}],\n",
       "   'n': 1,\n",
       "   'tx_index': 7703300705990921,\n",
       "   'script': '76a91417b5038a413f5c5ee288caa64cfab35a0c01914e88ac',\n",
       "   'addr': '13AMPUTTwryLGX3nrMvumaerSqNXkL3gEV'}]}"
      ]
     },
     "execution_count": 17,
     "metadata": {},
     "output_type": "execute_result"
    }
   ],
   "source": [
    "import requests\n",
    "response = requests.get(\"https://blockchain.info/rawtx/b6f6991d03df0e2e04dafffcd6bc418aac66049e2cd74b80f14ac86db1e3f0da\")\n",
    "response.json()\n"
   ]
  },
  {
   "cell_type": "markdown",
   "id": "4968d3bf",
   "metadata": {
    "slideshow": {
     "slide_type": "slide"
    }
   },
   "source": [
    "# Il servizio CoinGecko\n",
    "\n",
    "* il più grande e uno dei primi aggregatori di cryptocurrencies\n",
    "* riporta analisi dettagliate del mercato delle criptomonete\n",
    "    * andamento storico del mercato\n",
    "* fornisce una **libreria** per collegarsi direttamente alle loro **API**\n",
    "    * wrapper alle loro chiamate *API*\n",
    "    * per installarla: **pip3 install pycoingecko**"
   ]
  },
  {
   "cell_type": "markdown",
   "id": "d9059e7f",
   "metadata": {
    "slideshow": {
     "slide_type": "slide"
    }
   },
   "source": [
    "# La API di CoinGecko"
   ]
  },
  {
   "cell_type": "code",
   "execution_count": 1,
   "id": "e81719da",
   "metadata": {
    "slideshow": {
     "slide_type": "fragment"
    }
   },
   "outputs": [
    {
     "name": "stdout",
     "output_type": "stream",
     "text": [
      "[{'id': 'okex', 'name': 'OKX', 'year_established': 2017, 'country': 'Seychelles', 'description': '', 'url': 'https://www.okx.com', 'image': 'https://assets.coingecko.com/markets/images/96/small/WeChat_Image_20220117220452.png?1642428377', 'has_trading_incentive': False, 'trust_score': 10, 'trust_score_rank': 2, 'trade_volume_24h_btc': 51752.284355637246, 'trade_volume_24h_btc_normalized': 29556.878560894133}]\n",
      "prezzo attuale di bitcoin\n",
      "23307\n"
     ]
    }
   ],
   "source": [
    "from pycoingecko import CoinGeckoAPI\n",
    "import json\n",
    "import time\n",
    "import csv\n",
    "import os\n",
    "import datetime\n",
    "\n",
    "cg = CoinGeckoAPI()\n",
    "\n",
    "bitcoin_id = 'bitcoin'\n",
    "usd_id = 'usd'\n",
    "\n",
    "#returns a list of the top exchanges with additional info\n",
    "\n",
    "list_ex = cg.get_exchanges_list()\n",
    "\n",
    "# print first exchanger of the list\n",
    "\n",
    "print(list_ex[1:2])\n",
    "\n",
    "#get current BTC price in USD\n",
    "btc_price_dict = cg.get_price(ids=bitcoin_id, vs_currencies='usd')[bitcoin_id]\n",
    "btc_price = btc_price_dict[usd_id]\n",
    "print(\"prezzo attuale di bitcoin\")\n",
    "print(btc_price)\n",
    "\n"
   ]
  },
  {
   "cell_type": "markdown",
   "id": "afc105a6",
   "metadata": {
    "slideshow": {
     "slide_type": "slide"
    }
   },
   "source": [
    "# Le API di Etherscan\n",
    "\n",
    "* **Etherscan** (https://etherscan.io/): a **blockchain explorer** per la blockchain di **Ethereum**\n",
    "    * un servizio per visualizzare dati provenineti da blockchain\n",
    "    \n",
    "* consente di ricercare informazioni sun\n",
    "    * transazioni\n",
    "    * blocchi 2   \n",
    "    * smart contracts: gas fees\n",
    "    * indirizzi di wallet\n",
    "    * altre indformazioni ** on-chain**\n",
    "\n",
    "* offre \n",
    "    * una interfaccia web tramite la quale è possibile sottomettere querirs\n",
    "    * un insieme di **API**"
   ]
  },
  {
   "cell_type": "markdown",
   "id": "6aaa4711",
   "metadata": {
    "slideshow": {
     "slide_type": "slide"
    }
   },
   "source": [
    "# Web Scraping\n",
    "\n",
    "* cosa si intende per web scraping? \n",
    "    * la raccolta di dati sul web, effettuata senza utilizzare **API**\n",
    "* implementazione di base: uno script **Python** che\n",
    "    * si collega a un web server\n",
    "    * richiede una o più pagine **HTML**\n",
    "    * parsa le pagine ricevute\n",
    "* altri meccanismi legati al web scraping\n",
    "    * information security\n",
    "    * authentication\n",
    "    * data analysis\n",
    "* perchè utilizzare scraping? \n",
    "    * molti siti non forniscono **API**\n",
    "        * perchè il gestore non possiede l'infrastruttura per gestire un accesso alle **API**\n",
    "        * perchè i dati sono pochi, e il webmaster ha deciso di non fornire le **API**\n",
    "    * anche se un sito fornisce un servizio di **API**, possono esserevi diverse restrizioni, come abbiamo visto\n",
    "        * sul volume dei dati fornite\n",
    "        * sul numero di richieste nella unità di tempo\n",
    "        * sul tipo o sul formato dei dati"
   ]
  },
  {
   "cell_type": "markdown",
   "id": "67f5aa1f",
   "metadata": {
    "slideshow": {
     "slide_type": "slide"
    }
   },
   "source": [
    "# Web Scraping: fasi fondamentali\n",
    "\n",
    "* reperire pagine **HTML**\n",
    "* analizzare la pagina reperita\n",
    "* individuazione dei dati interessanti all'interno della pagina\n",
    "    * occorre avere chari i concetti base del linguaggio **HTML**\n",
    "* parsing dei dati ricevuti\n",
    "* memorizzazione dei dati  in un opportuno formato\n"
   ]
  },
  {
   "cell_type": "markdown",
   "id": "f76acf1f",
   "metadata": {
    "slideshow": {
     "slide_type": "slide"
    }
   },
   "source": [
    "# HTML: concetti base"
   ]
  },
  {
   "cell_type": "markdown",
   "id": "a7407a40",
   "metadata": {
    "slideshow": {
     "slide_type": "fragment"
    }
   },
   "source": [
    "* **HTML: HyperText Markup Language** il linguaggio con cui la grande maggioranza delle pagine web correnti sono definite\n",
    "* un linguaggio di **markup**\n",
    "    * indica a un browser come formattare e visualizzare il contenuto\n",
    "    * non è un linguaggio di programmazione\n",
    "* **tag-based**\n",
    "* **Document Markup Language**\n",
    "* integrato con\n",
    "    * **CSS (Cascading Style Sheets)**, per definire il layout della pagina. Consente si separare il contenuto dalla     definizione della definizione del layout con cui il contenuto è presentato\n",
    "    * **Javascript**, per programmare alcune funzioni della pagina\n"
   ]
  },
  {
   "cell_type": "markdown",
   "id": "adb26e3d",
   "metadata": {
    "slideshow": {
     "slide_type": "slide"
    }
   },
   "source": [
    "# HTML by Example\n",
    "\n",
    "* struttura di un documento\n",
    "    * inizio del documento: **<!DOCTYPE html>** identifica il documento come un documento **HTML**\n",
    "    * il contenuto **HTML** si trova tra i tag  **$<html>$...$</html>$**\n",
    "    * **HEAD section** \n",
    "        * char encoding e titolo\n",
    "    * **BODY section**\n",
    "        * headers, paragraphs, text style"
   ]
  },
  {
   "cell_type": "markdown",
   "id": "c79f47a1",
   "metadata": {
    "slideshow": {
     "slide_type": "fragment"
    }
   },
   "source": [
    "<img src=\"Figures/HTMLex1.jpg\" style=\"width:800px;height:400px;\"/>"
   ]
  },
  {
   "cell_type": "markdown",
   "id": "a8267e58",
   "metadata": {
    "slideshow": {
     "slide_type": "slide"
    }
   },
   "source": [
    "# Struttura di un elemento HTML di tipo container\n",
    "\n",
    "\n",
    "* matching opening e closing tags in cui si specifica un **tag-name**\n",
    "* attributi del tag\n",
    "* contenuto a cui è applicato il tag\n",
    "* il tag iniziale attiva l'effetto del tag sul suo contenuto, il tag finale lo disattiva\n",
    "* attributi del tag nella forma **nome=valore**, forniscono informazioni ulteriori sul tag\n",
    "\n"
   ]
  },
  {
   "cell_type": "markdown",
   "id": "127c4e63",
   "metadata": {
    "slideshow": {
     "slide_type": "fragment"
    }
   },
   "source": [
    "<img src=\"Figures/HTMLStructure.jpg\" style=\"width:800px;height:300px;\"/>"
   ]
  },
  {
   "cell_type": "markdown",
   "id": "ff2095fb",
   "metadata": {
    "slideshow": {
     "slide_type": "slide"
    }
   },
   "source": [
    "# Struttura di un elemento HTML di tipo  void\n",
    "\n",
    "* non include contenuto\n",
    "* viene utilizzato per produrre qualche effetto sul documento\n",
    "     * $<hr>$ usato per disegnare una linea orizzontale\n",
    "     * $<img>$ usato per incorporare una immagini esterna\n",
    "        "
   ]
  },
  {
   "cell_type": "markdown",
   "id": "aec131dc",
   "metadata": {
    "slideshow": {
     "slide_type": "fragment"
    }
   },
   "source": [
    "<img src=\"Figures/HTMLStructure.jpg\" style=\"width:800px;height:300px;\"/>"
   ]
  },
  {
   "cell_type": "markdown",
   "id": "3ca4e008",
   "metadata": {
    "slideshow": {
     "slide_type": "slide"
    }
   },
   "source": [
    "# Attributi di un elemento HTML\n",
    "\n",
    "<code>\n",
    "    html lang=\"en\"\n",
    "</code>\n",
    "    \n",
    "* l'attributo **lang=\"en\"** del tag **htnl** specifica il tipo di linguaggio naturale per questo documento\n",
    "\n",
    "<code>\n",
    "   meta charset=\"utf-8\">\n",
    "</code>\n",
    "\n",
    "* l'attributo specifica lo schema di encoding dei caratteri\n",
    "\n",
    "<code>\n",
    "   img src=\"logo.gif\" alt=\"logo\" width=\"50\" height=\"30\"\n",
    "</code> \n",
    "\n",
    "* il tag image può contenere diversi attributi\n",
    "    * alcuni attributi obbligatori, ad esempio gli attributi  *src* e *alt* \n",
    "    * altri sono opzionali, ad esempio gli attributi *width* e *height*\n"
   ]
  },
  {
   "cell_type": "markdown",
   "id": "fecb90bb",
   "metadata": {
    "slideshow": {
     "slide_type": "slide"
    }
   },
   "source": [
    "# HTML: Liste e Hyperlinks"
   ]
  },
  {
   "cell_type": "markdown",
   "id": "93e268d3",
   "metadata": {
    "slideshow": {
     "slide_type": "fragment"
    }
   },
   "source": [
    "<img src=\"Figures/HTMLEx2.jpg\" style=\"width:1000px;height:800px;\"/>"
   ]
  },
  {
   "cell_type": "markdown",
   "id": "bc482eb1",
   "metadata": {
    "slideshow": {
     "slide_type": "slide"
    }
   },
   "source": [
    "# Liste e Hyperlinks: visualizzazione \n",
    "\n"
   ]
  },
  {
   "cell_type": "markdown",
   "id": "eab65801",
   "metadata": {},
   "source": [
    "\n",
    "<center>\n",
    "<img src=\"Figures/HTMLEx2output.jpg\" style=\"width:800px;height:500px;\"/>"
   ]
  },
  {
   "cell_type": "markdown",
   "id": "28a958d9",
   "metadata": {
    "slideshow": {
     "slide_type": "slide"
    }
   },
   "source": [
    "# HTML : Tables e Images (a)"
   ]
  },
  {
   "cell_type": "markdown",
   "id": "c526e9f8",
   "metadata": {
    "slideshow": {
     "slide_type": "fragment"
    }
   },
   "source": [
    "<img src=\"Figures/HTMLEx3a.jpg\" style=\"width:1000px;height:500px;\"/>"
   ]
  },
  {
   "cell_type": "markdown",
   "id": "1d4670b3",
   "metadata": {
    "slideshow": {
     "slide_type": "slide"
    }
   },
   "source": [
    "# HTML : Tables e Images (b)"
   ]
  },
  {
   "cell_type": "markdown",
   "id": "8b790129",
   "metadata": {},
   "source": [
    "<img src=\"Figures/HTMLEx3b.jpg\" style=\"width:1200px;height:600px;\"/>"
   ]
  },
  {
   "cell_type": "markdown",
   "id": "8b1bfe81",
   "metadata": {
    "slideshow": {
     "slide_type": "slide"
    }
   },
   "source": [
    "# HTML : Tables e Images, output\n",
    "\n",
    "<center>\n",
    "<img src=\"Figures/HTMLEx3output.jpg\" style=\"width:400px;height:300px;\"/>"
   ]
  },
  {
   "cell_type": "markdown",
   "id": "92c031b2",
   "metadata": {
    "slideshow": {
     "slide_type": "slide"
    }
   },
   "source": [
    "# CSS: Introduzione\n",
    "\n",
    "* il progetto iniziale di **HTML** prevedeva che gli attori si concentrassero prevalentemente sul contenuto delle pagine,\n",
    "lasciando decidere il layout ai browsers che ricevono tale contenuto\n",
    "\n",
    "* nonostante questa idea iniziale, negli anni sono stati creati numerosi tag e proprietà riguardanti lo stile da applicare al contenuto da visualizzare\n",
    "    * **font**, **center**, **align**, **color**\n",
    "    * la situazione è risultata \"fuori controllo\" in pochi anni....\n",
    "\n",
    "\n",
    "* la risposta del consorzio *W3C (World-Wide Web Consortium @ www.w3c.org)*\n",
    "    * distinguere il **contenuto** dalla **presentazione** del contenuto\n",
    "    * introduzione di un  **Style Sheet Language**, chiamato **CSS (Cascading Style Sheet)** per la definizione del layout dei contenuti\n",
    "    * rimozione degli attributi di stile da *HTML*\n",
    "    * linguaggi diversi per graphic designers e content providers\n",
    "    \n"
   ]
  },
  {
   "cell_type": "markdown",
   "id": "10ce441b",
   "metadata": {
    "slideshow": {
     "slide_type": "slide"
    }
   },
   "source": [
    "# Cosa è uno style Sheet?\n",
    "\n",
    "* una collezione di **regole di stile** \n",
    "* applicabili a un **insieme selezionato** di **elementi HTML**\n",
    "* controlla il modo in cui il corrispondente elmento o i corrispondenti insiemi di elementi vengono visualizzati\n",
    "* il termine **cascading** significa che più regole di stile possono essere applicate allo stesso elemento **HTML**\n",
    "* il browser segue un certo *cascading order* per formattare quell'elemento"
   ]
  },
  {
   "cell_type": "markdown",
   "id": "ce37cc73",
   "metadata": {
    "slideshow": {
     "slide_type": "slide"
    }
   },
   "source": [
    "# CSS: tag selector"
   ]
  },
  {
   "cell_type": "markdown",
   "id": "5891978d",
   "metadata": {
    "slideshow": {
     "slide_type": "fragment"
    }
   },
   "source": [
    "<img src=\"Figures/CSS1.jpg\" style=\"width:1000px;height:800px;\"/>"
   ]
  },
  {
   "cell_type": "markdown",
   "id": "76bb7506",
   "metadata": {
    "slideshow": {
     "slide_type": "slide"
    }
   },
   "source": [
    "# CSS: tag selector, come funziona?\n",
    "\n",
    "* ogni elemento del foglio di stile è una **style rule**\n",
    "* ogni rule è caratterizzata da\n",
    "    * un **selettore**: definisce l'insieme di elementi **HTML** a cui va applicata la regole di stile\n",
    "        * nell'esempio sopra si utilizza un **tag selector**, che seleziona tutti gli elementi con il tag con un certo nome\n",
    "        * **h1,...,h6** sono tag selector\n",
    "    * una lista di proprietà racchiuse tra {}\n",
    "        * ogni proprietà è una coppia **nome: valore**\n",
    "        * proprietà relativa al layout di quell'elemento\n",
    "* se è possibile applicare più di una regola, le proprietà vengono \"accumulate\", ma se c'è un conflitto, viene applicata solo l'ultima proprietà\n",
    "    * h2 \"accumula\" le proprietà di entrambe le regole, ma usa la proprietà **colore** dalla **Rule4**, invece che quella della **Rule3**\n",
    "      \n",
    "<table><tr>\n",
    "<td> <img src=\"Figures/CSS4.jpg\" style=\"width:600px;height:300px;\"/>\n",
    "<td> <img src=\"Figures/selector.jpg\" style=\"width:400px;height:150px;\"/>\n",
    "</tr></table>"
   ]
  },
  {
   "cell_type": "markdown",
   "id": "1f102d6c",
   "metadata": {
    "slideshow": {
     "slide_type": "slide"
    }
   },
   "source": [
    "# CSS: applicare il foglio di stile a undocumento HTML\n"
   ]
  },
  {
   "cell_type": "markdown",
   "id": "0f77ba7c",
   "metadata": {
    "slideshow": {
     "slide_type": "fragment"
    }
   },
   "source": [
    "<table><tr>\n",
    "<td> <img src=\"Figures/CSS2.jpg\" style=\"width:1600px;height:400px;\"/>\n",
    "<td> <img src=\"Figures/CSS3.jpg\" style=\"width:1000px;height:200px;\"/>\n",
    "</tr></table>\n"
   ]
  },
  {
   "cell_type": "markdown",
   "id": "d1b39d18",
   "metadata": {
    "slideshow": {
     "slide_type": "slide"
    }
   },
   "source": [
    "# CSS: ID-Selector e Class selector  "
   ]
  },
  {
   "cell_type": "markdown",
   "id": "e6f8afdd",
   "metadata": {
    "slideshow": {
     "slide_type": "fragment"
    }
   },
   "source": [
    "<img src=\"Figures/CSS5.jpg\" style=\"width:900px;height:800px;\"/>"
   ]
  },
  {
   "cell_type": "markdown",
   "id": "f42a44d2",
   "metadata": {
    "slideshow": {
     "slide_type": "slide"
    }
   },
   "source": [
    "# CSS: ID-Selector e Class selector, come funzionano?\n",
    "\n",
    "* **ID-Selector**: \n",
    "    * inizia con il simbolo **#**, seguito da un nome, *id-name*\n",
    "        * seleziona, all'interno del documento, un elemento con quell'identificatore\n",
    "            * **#header**, seleziona un elemento con identificatore **header**\n",
    "        * al massimo un elemento con quell *id-name*, nel documento, *id-name* deve essere *unico*\n",
    "    \n",
    "* **Class selector** \n",
    "    * inizia con un punto, seguito dal nome della classe\n",
    "        * **.highlight**, seleziona tutti gli elementi con quella classe\n",
    "    * a differenza dell'*id-selector*, molti elementi possono avere lo stesso nome di classe"
   ]
  },
  {
   "cell_type": "markdown",
   "id": "1c3be905",
   "metadata": {
    "slideshow": {
     "slide_type": "fragment"
    }
   },
   "source": [
    "<img src=\"Figures/CSS6.jpg\" style=\"width:600px;height:450px;\"/>"
   ]
  },
  {
   "cell_type": "markdown",
   "id": "60ff57c8",
   "metadata": {
    "slideshow": {
     "slide_type": "slide"
    }
   },
   "source": [
    "# CSS: applicare il foglio di stile al documento HTML\n",
    "\n",
    "* utilizzare i tag **div**  e **span** per collegarsi all'id-selector e al class-selector dei fogli di stile\n",
    "    * *div* block element\n",
    "    * *spam* inline element"
   ]
  },
  {
   "cell_type": "markdown",
   "id": "e59de231",
   "metadata": {
    "slideshow": {
     "slide_type": "fragment"
    }
   },
   "source": [
    " <img src=\"Figures/CSS7.jpg\" style=\"width:1800px;height:500px;\"/>"
   ]
  },
  {
   "cell_type": "markdown",
   "id": "b3d8bd7a",
   "metadata": {
    "slideshow": {
     "slide_type": "slide"
    }
   },
   "source": [
    "# CSS: applicare il foglio di stile al documento HTML"
   ]
  },
  {
   "cell_type": "markdown",
   "id": "3b760e9c",
   "metadata": {
    "slideshow": {
     "slide_type": "fragment"
    }
   },
   "source": [
    "<img src=\"Figures/CSS8.jpg\" style=\"width:500px;height:400px;\"/>"
   ]
  },
  {
   "cell_type": "markdown",
   "id": "46b16a37",
   "metadata": {
    "slideshow": {
     "slide_type": "slide"
    }
   },
   "source": [
    "# Assignment 5\n",
    "\n",
    "* analizzare i servizi forniti da **CoinGecko**\n",
    "\n",
    "* scaricare il client fonito da **CoinGecko** e analizzarne la funzionalità\n",
    "\n",
    "* scrivere uno script **Python** che implementi le seguenti funzionalità\n",
    "    * ricercare gli exchanger tracciati da **CoinGecko** e scriverli in un file **JSON**\n",
    "    * memorizzare, per ogni exchanger, il volume di mercato relativo a **Bitcoin** nella data corrente\n",
    "\n",
    "* facoltativo: scaricare un insieme di dati a scelta da **CoinGecko** e effettuare un'analisi a scelta su tale dati"
   ]
  }
 ],
 "metadata": {
  "celltoolbar": "Slideshow",
  "kernelspec": {
   "display_name": "Python 3 (ipykernel)",
   "language": "python",
   "name": "python3"
  },
  "language_info": {
   "codemirror_mode": {
    "name": "ipython",
    "version": 3
   },
   "file_extension": ".py",
   "mimetype": "text/x-python",
   "name": "python",
   "nbconvert_exporter": "python",
   "pygments_lexer": "ipython3",
   "version": "3.8.10"
  }
 },
 "nbformat": 4,
 "nbformat_minor": 5
}
